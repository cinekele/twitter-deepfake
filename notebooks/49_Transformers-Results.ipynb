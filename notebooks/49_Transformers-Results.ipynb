{
 "cells": [
  {
   "cell_type": "code",
   "execution_count": 1,
   "metadata": {},
   "outputs": [
    {
     "name": "stderr",
     "output_type": "stream",
     "text": [
      "/usr/local/lib/python3.10/dist-packages/tqdm/auto.py:21: TqdmWarning: IProgress not found. Please update jupyter and ipywidgets. See https://ipywidgets.readthedocs.io/en/stable/user_install.html\n",
      "  from .autonotebook import tqdm as notebook_tqdm\n"
     ]
    }
   ],
   "source": [
    "import os\n",
    "\n",
    "import random\n",
    "import numpy as np\n",
    "import pandas as pd\n",
    "\n",
    "from transformers import AutoTokenizer\n",
    "\n",
    "# from transformers import XLMRobertaForSequenceClassification, AdamW, get_linear_schedule_with_warmup\n",
    "from transformers import (\n",
    "    AutoModelForSequenceClassification,\n",
    "    XLMRobertaForSequenceClassification,\n",
    "    TrainingArguments,\n",
    "    Trainer,\n",
    "    EarlyStoppingCallback,\n",
    ")\n",
    "\n",
    "\n",
    "import torch\n",
    "import torch.nn as nn\n",
    "from torch.optim import AdamW, Adam\n",
    "from torch.utils.data import Dataset, DataLoader\n",
    "\n",
    "from sklearn.metrics import (\n",
    "    accuracy_score,\n",
    "    balanced_accuracy_score,\n",
    "    f1_score,\n",
    "    precision_score,\n",
    "    recall_score,\n",
    ")"
   ]
  },
  {
   "cell_type": "code",
   "execution_count": 2,
   "metadata": {},
   "outputs": [],
   "source": [
    "Checkpoint = str\n",
    "ModelName = str\n",
    "TokenizerName = str\n",
    "\n",
    "ModelMetadata = tuple[Checkpoint, ModelName, TokenizerName]"
   ]
  },
  {
   "cell_type": "code",
   "execution_count": 4,
   "metadata": {},
   "outputs": [],
   "source": [
    "models_metadata: list[ModelMetadata] = [\n",
    "    (\"xlm-roberta-base-finetuned\", \"xlm-roberta-base\", \"xlm-roberta-base\"),\n",
    "    (\"xlm-roberta-base-full-training\", \"xlm-roberta-base\", \"xlm-roberta-base\"),\n",
    "    (\"xlm-roberta-base-full-training-2\", \"xlm-roberta-base\", \"xlm-roberta-base\"),\n",
    "    (\n",
    "        \"distilbert-base-uncased-full-training\",\n",
    "        \"distilbert-base-uncased\",\n",
    "        \"distilbert-base-uncased\",\n",
    "    ),\n",
    "    (\n",
    "        \"distilbert-base-uncased-full-training-gpt2-data-with-twitter\",\n",
    "        \"distilbert-base-uncased\",\n",
    "        \"distilbert-base-uncased\",\n",
    "    ),\n",
    "    (\"gpt2-full-training\", \"gpt2\", \"gpt2\"),\n",
    "]"
   ]
  },
  {
   "cell_type": "code",
   "execution_count": 5,
   "metadata": {},
   "outputs": [],
   "source": [
    "test = pd.read_csv(\"data/original/test.csv\")\n",
    "\n",
    "mapping = {\"human\": 0, \"bot\": 1}\n",
    "\n",
    "test[\"label\"] = test[\"account.type\"].apply(lambda x: mapping[x])"
   ]
  },
  {
   "cell_type": "code",
   "execution_count": 6,
   "metadata": {},
   "outputs": [],
   "source": [
    "class TweetDataset(Dataset):\n",
    "    def __init__(self, data, tokenizer, max_len, model):\n",
    "        self.data = data\n",
    "        self.tokenizer = tokenizer\n",
    "        self.max_len = max_len\n",
    "\n",
    "        if self.tokenizer.pad_token is None:\n",
    "            self.tokenizer.add_special_tokens({\"pad_token\": \"[PAD]\"})\n",
    "            model.resize_token_embeddings(len(tokenizer))\n",
    "\n",
    "    def __len__(self):\n",
    "        return len(self.data)\n",
    "\n",
    "    def __getitem__(self, index):\n",
    "        data = self.data.iloc[index]\n",
    "\n",
    "        text = data.text\n",
    "        label = data.label\n",
    "\n",
    "        encoding = self.tokenizer(\n",
    "            text,\n",
    "            add_special_tokens=True,\n",
    "            max_length=self.max_len,\n",
    "            return_token_type_ids=False,\n",
    "            padding=\"max_length\",\n",
    "            truncation=True,\n",
    "            return_attention_mask=True,\n",
    "            return_tensors=\"pt\",\n",
    "        )\n",
    "\n",
    "        return dict(\n",
    "            text=text,\n",
    "            input_ids=encoding[\"input_ids\"].flatten(),\n",
    "            attention_mask=encoding[\"attention_mask\"].flatten(),\n",
    "            label=torch.tensor(label, dtype=torch.long),\n",
    "        )"
   ]
  },
  {
   "cell_type": "code",
   "execution_count": 7,
   "metadata": {},
   "outputs": [],
   "source": [
    "def seed_everything(seed):\n",
    "    random.seed(seed)\n",
    "    os.environ[\"PYTHONHASHSEED\"] = str(seed)\n",
    "    np.random.seed(seed)\n",
    "    torch.manual_seed(seed)\n",
    "\n",
    "\n",
    "seed = 1\n",
    "seed_everything(seed)"
   ]
  },
  {
   "cell_type": "code",
   "execution_count": 8,
   "metadata": {},
   "outputs": [],
   "source": [
    "def calculate_metrics(y_true, y_pred):\n",
    "    results = {\n",
    "        \"balanced_accuracy\": balanced_accuracy_score(y_true, y_pred),\n",
    "        \"f1_score\": f1_score(y_true, y_pred),\n",
    "        \"precision\": precision_score(y_true, y_pred),\n",
    "        \"recall\": recall_score(y_true, y_pred),\n",
    "    }\n",
    "    return results"
   ]
  },
  {
   "cell_type": "code",
   "execution_count": 9,
   "metadata": {},
   "outputs": [],
   "source": [
    "batch_size = 8\n",
    "lr = 2e-5"
   ]
  },
  {
   "cell_type": "code",
   "execution_count": 10,
   "metadata": {},
   "outputs": [],
   "source": [
    "def evaluate_model(\n",
    "    model_metadata: ModelMetadata, test_data: pd.DataFrame, bot_idx: dict[str, pd.Index]\n",
    ") -> tuple[list[dict], list[dict]]:\n",
    "    \"\"\"\n",
    "    Evaluate the performance of a sequence classification model on test data.\n",
    "\n",
    "    Args:\n",
    "        model_metadata (ModelMetadata): Metadata of the model, including checkpoint, model name, and tokenizer name.\n",
    "        test_data (pd.DataFrame): Test data for evaluation.\n",
    "        bot_idx (dict[str, pd.Index]): Dictionary mapping bot names to their corresponding indices in the test data.\n",
    "\n",
    "    Returns:\n",
    "        tuple[list[dict], list[dict]]: A tuple containing two lists of dictionaries.\n",
    "            - The first list contains overall evaluation results for the model on the entire test data.\n",
    "            - The second list contains evaluation results for each bot type separately.\n",
    "    \"\"\"\n",
    "\n",
    "    checkpoint, model_name, tokenizer_name = model_metadata\n",
    "\n",
    "    # get best model (two models are saved - last and best - listdir sort results so\n",
    "    # the best will always be first)\n",
    "    model = AutoModelForSequenceClassification.from_pretrained(\n",
    "        os.path.join(checkpoint, os.listdir(checkpoint)[0]),\n",
    "        num_labels=2,\n",
    "    )\n",
    "    tokenizer = AutoTokenizer.from_pretrained(tokenizer_name)\n",
    "    ds_test = TweetDataset(test_data, tokenizer=tokenizer, max_len=512, model=model)\n",
    "\n",
    "    # freeze_params(model)\n",
    "    if torch.cuda.is_available():\n",
    "        model = model.to(\"cuda\")\n",
    "\n",
    "    args = TrainingArguments(\n",
    "        checkpoint,\n",
    "        evaluation_strategy=\"epoch\",\n",
    "        save_strategy=\"epoch\",\n",
    "        num_train_epochs=10,\n",
    "        per_device_train_batch_size=batch_size,\n",
    "        per_device_eval_batch_size=batch_size,\n",
    "        seed=seed,\n",
    "    )\n",
    "    trainer = Trainer(\n",
    "        model,\n",
    "        args,\n",
    "        # train_dataset=ds_train,\n",
    "        # eval_dataset=ds_valid,\n",
    "        tokenizer=tokenizer,\n",
    "        optimizers=(AdamW(model.parameters(), lr=lr), None),  # Optimizer, Scheduler\n",
    "        callbacks=[EarlyStoppingCallback(early_stopping_patience=3)],\n",
    "    )\n",
    "    test_results = trainer.predict(ds_test)\n",
    "\n",
    "    results = [\n",
    "        {\n",
    "            **calculate_metrics(\n",
    "                test_data.label.values, np.argmax(test_results.predictions, axis=1)\n",
    "            ),\n",
    "            \"model\": checkpoint,\n",
    "            \"dataset\": \"raw\",\n",
    "        }\n",
    "    ]\n",
    "\n",
    "    results_grouped = []\n",
    "    for bot_nm, bot_val in bot_idx.items():\n",
    "        results_grouped.append(\n",
    "            {\n",
    "                \"accuracy\": accuracy_score(\n",
    "                    np.argmax(test_results.predictions[bot_val], axis=1),\n",
    "                    test_data.label.values[bot_val],\n",
    "                ),\n",
    "                \"model\": checkpoint,\n",
    "                \"bot_type\": bot_nm,\n",
    "                \"type\": \"raw\",\n",
    "            }\n",
    "        )\n",
    "    return results, results_grouped"
   ]
  },
  {
   "cell_type": "code",
   "execution_count": 11,
   "metadata": {},
   "outputs": [],
   "source": [
    "def evaluate_models(\n",
    "    models_metadata: list[ModelMetadata], test_data: pd.DataFrame\n",
    ") -> tuple[pd.DataFrame, pd.DataFrame]:\n",
    "    \"\"\"\n",
    "    Evaluate multiple models on test data and return the results.\n",
    "\n",
    "    Args:\n",
    "        models_metadata (list[ModelMetadata]): A list of metadata for the models to be evaluated.\n",
    "        test_data (pd.DataFrame): The test data to evaluate the models on.\n",
    "\n",
    "    Returns:\n",
    "        tuple[pd.DataFrame, pd.DataFrame]: A tuple containing two DataFrames:\n",
    "            - results_pd: DataFrame with the evaluation results for each model.\n",
    "            - results_groupd_pd: DataFrame with the grouped evaluation results for each model.\n",
    "    \"\"\"\n",
    "\n",
    "    bot_idx: dict[str, pd.Index] = {\n",
    "        bot_type: test_data[test_data[\"class_type\"] == bot_type].index\n",
    "        for bot_type in test_data[\"class_type\"].unique()\n",
    "    }\n",
    "\n",
    "    results = []\n",
    "    results_grouped = []\n",
    "\n",
    "    for model_metadata in models_metadata:\n",
    "        _results, _results_grouped = evaluate_model(model_metadata, test_data, bot_idx)\n",
    "\n",
    "        results.extend(_results)\n",
    "        results_grouped.extend(_results_grouped)\n",
    "\n",
    "    results_pd = pd.DataFrame(results)\n",
    "    results_groupd_pd = pd.DataFrame(results_grouped)\n",
    "\n",
    "    return results_pd, results_groupd_pd"
   ]
  },
  {
   "cell_type": "code",
   "execution_count": 12,
   "metadata": {},
   "outputs": [
    {
     "name": "stderr",
     "output_type": "stream",
     "text": [
      "You're using a XLMRobertaTokenizerFast tokenizer. Please note that with a fast tokenizer, using the `__call__` method is faster than using a method to encode the text followed by a call to the `pad` method to get a padded encoding.\n"
     ]
    },
    {
     "data": {
      "text/html": [],
      "text/plain": [
       "<IPython.core.display.HTML object>"
      ]
     },
     "metadata": {},
     "output_type": "display_data"
    },
    {
     "name": "stderr",
     "output_type": "stream",
     "text": [
      "You're using a XLMRobertaTokenizerFast tokenizer. Please note that with a fast tokenizer, using the `__call__` method is faster than using a method to encode the text followed by a call to the `pad` method to get a padded encoding.\n"
     ]
    },
    {
     "data": {
      "text/html": [],
      "text/plain": [
       "<IPython.core.display.HTML object>"
      ]
     },
     "metadata": {},
     "output_type": "display_data"
    },
    {
     "name": "stderr",
     "output_type": "stream",
     "text": [
      "You're using a XLMRobertaTokenizerFast tokenizer. Please note that with a fast tokenizer, using the `__call__` method is faster than using a method to encode the text followed by a call to the `pad` method to get a padded encoding.\n"
     ]
    },
    {
     "data": {
      "text/html": [],
      "text/plain": [
       "<IPython.core.display.HTML object>"
      ]
     },
     "metadata": {},
     "output_type": "display_data"
    },
    {
     "name": "stderr",
     "output_type": "stream",
     "text": [
      "You're using a DistilBertTokenizerFast tokenizer. Please note that with a fast tokenizer, using the `__call__` method is faster than using a method to encode the text followed by a call to the `pad` method to get a padded encoding.\n"
     ]
    },
    {
     "data": {
      "text/html": [],
      "text/plain": [
       "<IPython.core.display.HTML object>"
      ]
     },
     "metadata": {},
     "output_type": "display_data"
    },
    {
     "name": "stderr",
     "output_type": "stream",
     "text": [
      "You're using a DistilBertTokenizerFast tokenizer. Please note that with a fast tokenizer, using the `__call__` method is faster than using a method to encode the text followed by a call to the `pad` method to get a padded encoding.\n"
     ]
    },
    {
     "data": {
      "text/html": [],
      "text/plain": [
       "<IPython.core.display.HTML object>"
      ]
     },
     "metadata": {},
     "output_type": "display_data"
    },
    {
     "name": "stderr",
     "output_type": "stream",
     "text": [
      "You're using a GPT2TokenizerFast tokenizer. Please note that with a fast tokenizer, using the `__call__` method is faster than using a method to encode the text followed by a call to the `pad` method to get a padded encoding.\n"
     ]
    },
    {
     "data": {
      "text/html": [],
      "text/plain": [
       "<IPython.core.display.HTML object>"
      ]
     },
     "metadata": {},
     "output_type": "display_data"
    }
   ],
   "source": [
    "res, res_grouped = evaluate_models(models_metadata, test)"
   ]
  },
  {
   "cell_type": "code",
   "execution_count": 14,
   "metadata": {},
   "outputs": [],
   "source": [
    "res.to_csv(\"notebooks/results/transformers.csv\", index=False)\n",
    "res_grouped.to_csv(\n",
    "    \"notebooks/results/results_in_depth-transformers.csv\"\n",
    ")  # , index=False)"
   ]
  },
  {
   "cell_type": "code",
   "execution_count": null,
   "metadata": {},
   "outputs": [],
   "source": []
  }
 ],
 "metadata": {
  "kernelspec": {
   "display_name": "Python 3 (ipykernel)",
   "language": "python",
   "name": "python3"
  },
  "language_info": {
   "codemirror_mode": {
    "name": "ipython",
    "version": 3
   },
   "file_extension": ".py",
   "mimetype": "text/x-python",
   "name": "python",
   "nbconvert_exporter": "python",
   "pygments_lexer": "ipython3",
   "version": "3.10.6"
  }
 },
 "nbformat": 4,
 "nbformat_minor": 2
}
