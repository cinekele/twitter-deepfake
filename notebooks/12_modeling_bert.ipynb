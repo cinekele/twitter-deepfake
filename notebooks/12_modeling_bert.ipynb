{
 "cells": [
  {
   "cell_type": "markdown",
   "source": [],
   "metadata": {
    "collapsed": false
   },
   "id": "257b5ac101ec834f"
  },
  {
   "cell_type": "markdown",
   "source": [
    "# Modules import"
   ],
   "metadata": {
    "collapsed": false
   },
   "id": "ea98b412ea475a1a"
  },
  {
   "cell_type": "code",
   "execution_count": 1,
   "outputs": [
    {
     "name": "stderr",
     "output_type": "stream",
     "text": [
      "Intel(R) Extension for Scikit-learn* enabled (https://github.com/intel/scikit-learn-intelex)\n"
     ]
    }
   ],
   "source": [
    "import os.path\n",
    "import pickle\n",
    "\n",
    "import numpy as np\n",
    "import optuna\n",
    "import pandas as pd\n",
    "from sklearnex import patch_sklearn\n",
    "\n",
    "patch_sklearn()\n",
    "import utils.optuna_utils as ou\n",
    "from optuna import create_study\n",
    "\n",
    "optuna.logging.set_verbosity(optuna.logging.WARNING)\n",
    "\n",
    "TIMEOUT = 1200  # seconds\n",
    "TRIALS = 100  # number of trials\n",
    "N_SPLITS = 5"
   ],
   "metadata": {
    "collapsed": false,
    "ExecuteTime": {
     "end_time": "2023-11-24T15:10:48.876729Z",
     "start_time": "2023-11-24T15:10:47.509729500Z"
    }
   },
   "id": "868c28d868447c2a"
  },
  {
   "cell_type": "code",
   "execution_count": 2,
   "outputs": [],
   "source": [
    "np.random.seed(42)"
   ],
   "metadata": {
    "collapsed": false,
    "ExecuteTime": {
     "end_time": "2023-11-24T15:10:48.890729300Z",
     "start_time": "2023-11-24T15:10:48.878730300Z"
    }
   },
   "id": "dcbea8c989f4acd3"
  },
  {
   "cell_type": "markdown",
   "source": [
    "# Simple processing"
   ],
   "metadata": {
    "collapsed": false
   },
   "id": "854977d27063ced7"
  },
  {
   "cell_type": "code",
   "execution_count": 3,
   "outputs": [
    {
     "data": {
      "text/plain": "  screen_name                                               text account.type  \\\n0       bot#9                             YEA now that note GOOD          bot   \n1    human#17    Listen to This Charming Man by The Smiths <URL>        human   \n2      bot#23  wish i can i would be seeing other hoes on the...          bot   \n3       bot#1  The decade in the significantly easier schedul...          bot   \n4      bot#11  \" Theim class =\\ \" alignnone size-full wp-imag...          bot   \n\n  class_type                                    bert_embeddings  \n0     others  [0.10614613, 0.0023416397, 0.18387558, 0.25720...  \n1      human  [-0.15180907, 0.1564969, -0.10380695, 0.157478...  \n2     others  [0.19033994, -0.039005734, -0.015785955, 0.235...  \n3     others  [0.1858164, 0.07074168, 0.030424008, 0.2930759...  \n4        rnn  [0.20630777, 0.35826805, 0.041690856, 0.272989...  ",
      "text/html": "<div>\n<style scoped>\n    .dataframe tbody tr th:only-of-type {\n        vertical-align: middle;\n    }\n\n    .dataframe tbody tr th {\n        vertical-align: top;\n    }\n\n    .dataframe thead th {\n        text-align: right;\n    }\n</style>\n<table border=\"1\" class=\"dataframe\">\n  <thead>\n    <tr style=\"text-align: right;\">\n      <th></th>\n      <th>screen_name</th>\n      <th>text</th>\n      <th>account.type</th>\n      <th>class_type</th>\n      <th>bert_embeddings</th>\n    </tr>\n  </thead>\n  <tbody>\n    <tr>\n      <th>0</th>\n      <td>bot#9</td>\n      <td>YEA now that note GOOD</td>\n      <td>bot</td>\n      <td>others</td>\n      <td>[0.10614613, 0.0023416397, 0.18387558, 0.25720...</td>\n    </tr>\n    <tr>\n      <th>1</th>\n      <td>human#17</td>\n      <td>Listen to This Charming Man by The Smiths &lt;URL&gt;</td>\n      <td>human</td>\n      <td>human</td>\n      <td>[-0.15180907, 0.1564969, -0.10380695, 0.157478...</td>\n    </tr>\n    <tr>\n      <th>2</th>\n      <td>bot#23</td>\n      <td>wish i can i would be seeing other hoes on the...</td>\n      <td>bot</td>\n      <td>others</td>\n      <td>[0.19033994, -0.039005734, -0.015785955, 0.235...</td>\n    </tr>\n    <tr>\n      <th>3</th>\n      <td>bot#1</td>\n      <td>The decade in the significantly easier schedul...</td>\n      <td>bot</td>\n      <td>others</td>\n      <td>[0.1858164, 0.07074168, 0.030424008, 0.2930759...</td>\n    </tr>\n    <tr>\n      <th>4</th>\n      <td>bot#11</td>\n      <td>\" Theim class =\\ \" alignnone size-full wp-imag...</td>\n      <td>bot</td>\n      <td>rnn</td>\n      <td>[0.20630777, 0.35826805, 0.041690856, 0.272989...</td>\n    </tr>\n  </tbody>\n</table>\n</div>"
     },
     "execution_count": 3,
     "metadata": {},
     "output_type": "execute_result"
    }
   ],
   "source": [
    "DATA_PATH = os.path.join('..', 'data', 'bert_embeddings')\n",
    "train = pd.read_pickle(os.path.join(DATA_PATH, 'train.pkl'))\n",
    "validation = pd.read_pickle(os.path.join(DATA_PATH, 'validation.pkl'))\n",
    "test = pd.read_pickle(os.path.join(DATA_PATH, 'test.pkl'))\n",
    "train.head()"
   ],
   "metadata": {
    "collapsed": false,
    "ExecuteTime": {
     "end_time": "2023-11-24T15:10:49.110358100Z",
     "start_time": "2023-11-24T15:10:48.893729200Z"
    }
   },
   "id": "64445ce6ecd92559"
  },
  {
   "cell_type": "code",
   "execution_count": 4,
   "outputs": [
    {
     "data": {
      "text/plain": "(768,)"
     },
     "execution_count": 4,
     "metadata": {},
     "output_type": "execute_result"
    }
   ],
   "source": [
    "train[\"bert_embeddings\"].iloc[0].shape"
   ],
   "metadata": {
    "collapsed": false,
    "ExecuteTime": {
     "end_time": "2023-11-24T15:10:49.140357200Z",
     "start_time": "2023-11-24T15:10:49.113356900Z"
    }
   },
   "id": "5f2e724675eade71"
  },
  {
   "cell_type": "code",
   "execution_count": 5,
   "outputs": [
    {
     "data": {
      "text/plain": "(768,)"
     },
     "execution_count": 5,
     "metadata": {},
     "output_type": "execute_result"
    }
   ],
   "source": [
    "train[\"bert_embeddings\"].iloc[1].shape"
   ],
   "metadata": {
    "collapsed": false,
    "ExecuteTime": {
     "end_time": "2023-11-24T15:10:49.155356700Z",
     "start_time": "2023-11-24T15:10:49.128357700Z"
    }
   },
   "id": "e9edbc5e44f7411d"
  },
  {
   "cell_type": "code",
   "execution_count": 6,
   "outputs": [
    {
     "data": {
      "text/plain": "((23014, 768), (23014,))"
     },
     "execution_count": 6,
     "metadata": {},
     "output_type": "execute_result"
    }
   ],
   "source": [
    "def get_x_y(df: pd.DataFrame) -> (pd.Series, pd.Series):\n",
    "    \"\"\"\n",
    "    Get predictors and target from dataframe\n",
    "    :param df: dataframe\n",
    "    :return: predictors, target\n",
    "    \"\"\"\n",
    "    x = np.concatenate([x.reshape(1, -1) for x in df[\"bert_embeddings\"]])\n",
    "    y = df[\"account.type\"]\n",
    "    y = np.where(y == \"bot\", 1, 0)\n",
    "    return x, y\n",
    "\n",
    "\n",
    "x_train, y_train = get_x_y(train)\n",
    "x_validation, y_validation = get_x_y(validation)\n",
    "x_train = np.concatenate([x_train, x_validation])\n",
    "y_train = np.append(y_train, y_validation)\n",
    "x_train.shape, y_train.shape"
   ],
   "metadata": {
    "collapsed": false,
    "ExecuteTime": {
     "end_time": "2023-11-24T15:10:49.211357300Z",
     "start_time": "2023-11-24T15:10:49.149357100Z"
    }
   },
   "id": "61529166c1c3bfe1"
  },
  {
   "cell_type": "code",
   "execution_count": 7,
   "outputs": [
    {
     "data": {
      "text/plain": "((2558, 768), (2558,))"
     },
     "execution_count": 7,
     "metadata": {},
     "output_type": "execute_result"
    }
   ],
   "source": [
    "x_test, y_test = get_x_y(test)\n",
    "x_test.shape, y_test.shape"
   ],
   "metadata": {
    "collapsed": false,
    "ExecuteTime": {
     "end_time": "2023-11-24T15:10:49.212357Z",
     "start_time": "2023-11-24T15:10:49.190357400Z"
    }
   },
   "id": "711c4acd2d35b0c6"
  },
  {
   "cell_type": "code",
   "execution_count": 8,
   "outputs": [],
   "source": [
    "preprocessed_path = os.path.join(\"..\", \"models\", \"bert_embeddings\")\n",
    "os.makedirs(preprocessed_path, exist_ok=True)"
   ],
   "metadata": {
    "collapsed": false,
    "ExecuteTime": {
     "end_time": "2023-11-24T15:10:49.220357500Z",
     "start_time": "2023-11-24T15:10:49.204357900Z"
    }
   },
   "id": "bc1a2ae86d2f90f6"
  },
  {
   "cell_type": "code",
   "execution_count": 9,
   "outputs": [
    {
     "name": "stderr",
     "output_type": "stream",
     "text": [
      "C:\\Users\\Piotrek\\anaconda3\\envs\\tensorflow\\lib\\site-packages\\optuna\\progress_bar.py:56: ExperimentalWarning: Progress bar is experimental (supported from v1.2.0). The interface can change in the future.\n",
      "  self._init_valid()\n"
     ]
    },
    {
     "data": {
      "text/plain": "  0%|          | 0/100 [00:00<?, ?it/s]",
      "application/vnd.jupyter.widget-view+json": {
       "version_major": 2,
       "version_minor": 0,
       "model_id": "122f6e35d7e244fdacdc4e4922b685e3"
      }
     },
     "metadata": {},
     "output_type": "display_data"
    },
    {
     "name": "stdout",
     "output_type": "stream",
     "text": [
      "Model: LGBM\n",
      "Best accuracy: 0.8596951387811214\n",
      "Best params: {'lgbm_boosting_type': 'gbdt', 'lgbm_max_depth': 7, 'lgbm_n_estimators': 385, 'lgbm_subsample': 0.9695453366156187}\n"
     ]
    },
    {
     "name": "stderr",
     "output_type": "stream",
     "text": [
      "C:\\Users\\Piotrek\\anaconda3\\envs\\tensorflow\\lib\\site-packages\\optuna\\progress_bar.py:56: ExperimentalWarning: Progress bar is experimental (supported from v1.2.0). The interface can change in the future.\n",
      "  self._init_valid()\n"
     ]
    },
    {
     "data": {
      "text/plain": "  0%|          | 0/100 [00:00<?, ?it/s]",
      "application/vnd.jupyter.widget-view+json": {
       "version_major": 2,
       "version_minor": 0,
       "model_id": "7a818330d5c841a5b5f0848e3f5f21a7"
      }
     },
     "metadata": {},
     "output_type": "display_data"
    },
    {
     "name": "stdout",
     "output_type": "stream",
     "text": [
      "Model: XGB\n",
      "Best accuracy: 0.8540899189752803\n",
      "Best params: {'xgb_booster': 'dart', 'xgb_max_depth': 15, 'xgb_n_estimators': 244, 'xgb_subsample': 0.8931104403282367}\n"
     ]
    },
    {
     "name": "stderr",
     "output_type": "stream",
     "text": [
      "C:\\Users\\Piotrek\\anaconda3\\envs\\tensorflow\\lib\\site-packages\\optuna\\progress_bar.py:56: ExperimentalWarning: Progress bar is experimental (supported from v1.2.0). The interface can change in the future.\n",
      "  self._init_valid()\n"
     ]
    },
    {
     "data": {
      "text/plain": "  0%|          | 0/100 [00:00<?, ?it/s]",
      "application/vnd.jupyter.widget-view+json": {
       "version_major": 2,
       "version_minor": 0,
       "model_id": "8244f8028616418b8d9ed310975f13f8"
      }
     },
     "metadata": {},
     "output_type": "display_data"
    },
    {
     "name": "stdout",
     "output_type": "stream",
     "text": [
      "Model: RF\n",
      "Best accuracy: 0.8111590133251474\n",
      "Best params: {'rf_max_depth': 12, 'rf_n_estimators': 32, 'rf_criterion': 'gini', 'rf_min_samples_split': 0.012701770392299291}\n"
     ]
    },
    {
     "name": "stderr",
     "output_type": "stream",
     "text": [
      "C:\\Users\\Piotrek\\anaconda3\\envs\\tensorflow\\lib\\site-packages\\optuna\\progress_bar.py:56: ExperimentalWarning: Progress bar is experimental (supported from v1.2.0). The interface can change in the future.\n",
      "  self._init_valid()\n"
     ]
    },
    {
     "data": {
      "text/plain": "  0%|          | 0/100 [00:00<?, ?it/s]",
      "application/vnd.jupyter.widget-view+json": {
       "version_major": 2,
       "version_minor": 0,
       "model_id": "690ab048d9dd4a4d87001df0231eb865"
      }
     },
     "metadata": {},
     "output_type": "display_data"
    },
    {
     "name": "stdout",
     "output_type": "stream",
     "text": [
      "Model: SVC\n",
      "Best accuracy: 0.8783788335143825\n",
      "Best params: {'svc_kernel': 'rbf', 'svc_C': 21.642802198313092}\n"
     ]
    },
    {
     "name": "stderr",
     "output_type": "stream",
     "text": [
      "C:\\Users\\Piotrek\\anaconda3\\envs\\tensorflow\\lib\\site-packages\\optuna\\progress_bar.py:56: ExperimentalWarning: Progress bar is experimental (supported from v1.2.0). The interface can change in the future.\n",
      "  self._init_valid()\n"
     ]
    },
    {
     "data": {
      "text/plain": "  0%|          | 0/100 [00:00<?, ?it/s]",
      "application/vnd.jupyter.widget-view+json": {
       "version_major": 2,
       "version_minor": 0,
       "model_id": "4b95354032ad4bbd9ea49b37e48a6cb8"
      }
     },
     "metadata": {},
     "output_type": "display_data"
    },
    {
     "name": "stdout",
     "output_type": "stream",
     "text": [
      "Model: LR\n",
      "Best accuracy: 0.8450507674108376\n",
      "Best params: {'lr_penalty': 'l1', 'lr_C': 11.802229858706795}\n"
     ]
    }
   ],
   "source": [
    "studies = []\n",
    "results_optuna = []\n",
    "results_test = []\n",
    "for model in ou.MODELS.keys():\n",
    "    study = create_study(study_name=f'bert_embeddings_{model}', direction='maximize')\n",
    "    study.optimize(lambda trial: ou.objective(trial, x_train, y_train, model=model, encoder=None, n_splits=N_SPLITS),\n",
    "                   timeout=TIMEOUT, show_progress_bar=True, n_trials=TRIALS)\n",
    "    studies.append(study)\n",
    "    retrained_model = ou.get_best_model(study.best_params, x_train, y_train)\n",
    "    with open(os.path.join(preprocessed_path, f\"{model}.pickle\"), \"wb\") as f:\n",
    "        pickle.dump(retrained_model, f)\n",
    "    results_test.append({\"type\": \"bert_embeddings\",\n",
    "                         \"model\": model,\n",
    "                         **ou.get_score(retrained_model, x_test, y_test)})\n",
    "    print(f\"Model: {model}\")\n",
    "    print(f\"Best accuracy: {study.best_value}\")\n",
    "    print(f\"Best params: {study.best_params}\")\n",
    "    results_optuna.append({\n",
    "        \"type\": \"bert_embeddings\",\n",
    "        \"model\": model,\n",
    "        \"score\": study.best_value,\n",
    "        \"params\": study.best_params\n",
    "    })"
   ],
   "metadata": {
    "collapsed": false,
    "ExecuteTime": {
     "end_time": "2023-11-24T17:04:00.435774800Z",
     "start_time": "2023-11-24T15:10:49.220357500Z"
    }
   },
   "id": "d8f05ef24057e8b1"
  },
  {
   "cell_type": "markdown",
   "source": [
    "# Results"
   ],
   "metadata": {
    "collapsed": false
   },
   "id": "b12e3a223760765f"
  },
  {
   "cell_type": "code",
   "execution_count": 10,
   "outputs": [
    {
     "data": {
      "text/plain": "              type model     score  \\\n3  bert_embeddings   SVC  0.878379   \n0  bert_embeddings  LGBM  0.859695   \n1  bert_embeddings   XGB  0.854090   \n4  bert_embeddings    LR  0.845051   \n2  bert_embeddings    RF  0.811159   \n\n                                              params  \n3  {'svc_kernel': 'rbf', 'svc_C': 21.642802198313...  \n0  {'lgbm_boosting_type': 'gbdt', 'lgbm_max_depth...  \n1  {'xgb_booster': 'dart', 'xgb_max_depth': 15, '...  \n4   {'lr_penalty': 'l1', 'lr_C': 11.802229858706795}  \n2  {'rf_max_depth': 12, 'rf_n_estimators': 32, 'r...  ",
      "text/html": "<div>\n<style scoped>\n    .dataframe tbody tr th:only-of-type {\n        vertical-align: middle;\n    }\n\n    .dataframe tbody tr th {\n        vertical-align: top;\n    }\n\n    .dataframe thead th {\n        text-align: right;\n    }\n</style>\n<table border=\"1\" class=\"dataframe\">\n  <thead>\n    <tr style=\"text-align: right;\">\n      <th></th>\n      <th>type</th>\n      <th>model</th>\n      <th>score</th>\n      <th>params</th>\n    </tr>\n  </thead>\n  <tbody>\n    <tr>\n      <th>3</th>\n      <td>bert_embeddings</td>\n      <td>SVC</td>\n      <td>0.878379</td>\n      <td>{'svc_kernel': 'rbf', 'svc_C': 21.642802198313...</td>\n    </tr>\n    <tr>\n      <th>0</th>\n      <td>bert_embeddings</td>\n      <td>LGBM</td>\n      <td>0.859695</td>\n      <td>{'lgbm_boosting_type': 'gbdt', 'lgbm_max_depth...</td>\n    </tr>\n    <tr>\n      <th>1</th>\n      <td>bert_embeddings</td>\n      <td>XGB</td>\n      <td>0.854090</td>\n      <td>{'xgb_booster': 'dart', 'xgb_max_depth': 15, '...</td>\n    </tr>\n    <tr>\n      <th>4</th>\n      <td>bert_embeddings</td>\n      <td>LR</td>\n      <td>0.845051</td>\n      <td>{'lr_penalty': 'l1', 'lr_C': 11.802229858706795}</td>\n    </tr>\n    <tr>\n      <th>2</th>\n      <td>bert_embeddings</td>\n      <td>RF</td>\n      <td>0.811159</td>\n      <td>{'rf_max_depth': 12, 'rf_n_estimators': 32, 'r...</td>\n    </tr>\n  </tbody>\n</table>\n</div>"
     },
     "execution_count": 10,
     "metadata": {},
     "output_type": "execute_result"
    }
   ],
   "source": [
    "results_df = pd.DataFrame(results_optuna)\n",
    "results_df.sort_values(by=\"score\", ascending=False)"
   ],
   "metadata": {
    "collapsed": false,
    "ExecuteTime": {
     "end_time": "2023-11-24T17:04:00.480774500Z",
     "start_time": "2023-11-24T17:04:00.435774800Z"
    }
   },
   "id": "16a9d723a62d6717"
  },
  {
   "cell_type": "code",
   "execution_count": 11,
   "outputs": [],
   "source": [
    "results_df.to_csv(os.path.join(\"results\", \"bert_optuna.csv\"), index=False)"
   ],
   "metadata": {
    "collapsed": false,
    "ExecuteTime": {
     "end_time": "2023-11-24T17:04:00.512774600Z",
     "start_time": "2023-11-24T17:04:00.452775500Z"
    }
   },
   "id": "28f5e3bf046a8a8"
  },
  {
   "cell_type": "code",
   "execution_count": 12,
   "outputs": [
    {
     "data": {
      "text/plain": "              type model  balanced_accuracy  f1_score  precision    recall\n3  bert_embeddings   SVC           0.875681  0.876265   0.872868  0.879687\n0  bert_embeddings  LGBM           0.856122  0.859004   0.842857  0.875781\n1  bert_embeddings   XGB           0.851823  0.854622   0.839488  0.870313\n4  bert_embeddings    LR           0.839317  0.841618   0.830418  0.853125\n2  bert_embeddings    RF           0.806096  0.806854   0.804348  0.809375",
      "text/html": "<div>\n<style scoped>\n    .dataframe tbody tr th:only-of-type {\n        vertical-align: middle;\n    }\n\n    .dataframe tbody tr th {\n        vertical-align: top;\n    }\n\n    .dataframe thead th {\n        text-align: right;\n    }\n</style>\n<table border=\"1\" class=\"dataframe\">\n  <thead>\n    <tr style=\"text-align: right;\">\n      <th></th>\n      <th>type</th>\n      <th>model</th>\n      <th>balanced_accuracy</th>\n      <th>f1_score</th>\n      <th>precision</th>\n      <th>recall</th>\n    </tr>\n  </thead>\n  <tbody>\n    <tr>\n      <th>3</th>\n      <td>bert_embeddings</td>\n      <td>SVC</td>\n      <td>0.875681</td>\n      <td>0.876265</td>\n      <td>0.872868</td>\n      <td>0.879687</td>\n    </tr>\n    <tr>\n      <th>0</th>\n      <td>bert_embeddings</td>\n      <td>LGBM</td>\n      <td>0.856122</td>\n      <td>0.859004</td>\n      <td>0.842857</td>\n      <td>0.875781</td>\n    </tr>\n    <tr>\n      <th>1</th>\n      <td>bert_embeddings</td>\n      <td>XGB</td>\n      <td>0.851823</td>\n      <td>0.854622</td>\n      <td>0.839488</td>\n      <td>0.870313</td>\n    </tr>\n    <tr>\n      <th>4</th>\n      <td>bert_embeddings</td>\n      <td>LR</td>\n      <td>0.839317</td>\n      <td>0.841618</td>\n      <td>0.830418</td>\n      <td>0.853125</td>\n    </tr>\n    <tr>\n      <th>2</th>\n      <td>bert_embeddings</td>\n      <td>RF</td>\n      <td>0.806096</td>\n      <td>0.806854</td>\n      <td>0.804348</td>\n      <td>0.809375</td>\n    </tr>\n  </tbody>\n</table>\n</div>"
     },
     "execution_count": 12,
     "metadata": {},
     "output_type": "execute_result"
    }
   ],
   "source": [
    "results_test_df = pd.DataFrame(results_test)\n",
    "results_test_df.sort_values(by=\"balanced_accuracy\", ascending=False)"
   ],
   "metadata": {
    "collapsed": false,
    "ExecuteTime": {
     "end_time": "2023-11-24T17:04:00.522774900Z",
     "start_time": "2023-11-24T17:04:00.471774100Z"
    }
   },
   "id": "9b1c3367b62ac42e"
  },
  {
   "cell_type": "code",
   "execution_count": 13,
   "outputs": [],
   "source": [
    "results_test_df.sort_values(by=\"balanced_accuracy\", ascending=False).to_csv(\n",
    "    os.path.join(\"results\", \"bert.csv\"), index=False)"
   ],
   "metadata": {
    "collapsed": false,
    "ExecuteTime": {
     "end_time": "2023-11-24T17:04:00.536774200Z",
     "start_time": "2023-11-24T17:04:00.484775500Z"
    }
   },
   "id": "6b530b2ec9981984"
  }
 ],
 "metadata": {
  "kernelspec": {
   "display_name": "Python 3",
   "language": "python",
   "name": "python3"
  },
  "language_info": {
   "codemirror_mode": {
    "name": "ipython",
    "version": 2
   },
   "file_extension": ".py",
   "mimetype": "text/x-python",
   "name": "python",
   "nbconvert_exporter": "python",
   "pygments_lexer": "ipython2",
   "version": "2.7.6"
  }
 },
 "nbformat": 4,
 "nbformat_minor": 5
}
