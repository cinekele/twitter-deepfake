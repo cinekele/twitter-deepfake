{
 "cells": [
  {
   "cell_type": "code",
   "execution_count": 1,
   "metadata": {},
   "outputs": [
    {
     "name": "stderr",
     "output_type": "stream",
     "text": [
      "IProgress not found. Please update jupyter and ipywidgets. See https://ipywidgets.readthedocs.io/en/stable/user_install.html\n"
     ]
    }
   ],
   "source": [
    "import os\n",
    "import numpy as np\n",
    "import pandas as pd\n",
    "import shap\n",
    "\n",
    "from lightgbm import LGBMClassifier\n",
    "from sklearn.ensemble import RandomForestClassifier\n",
    "from sklearn.feature_extraction.text import TfidfVectorizer\n",
    "from sklearn.linear_model import LogisticRegression\n",
    "from sklearn.metrics import (\n",
    "    balanced_accuracy_score,\n",
    "    make_scorer,\n",
    "    f1_score,\n",
    "    precision_score,\n",
    "    recall_score,\n",
    ")\n",
    "from sklearn.model_selection import StratifiedKFold, cross_val_score\n",
    "from sklearn.pipeline import Pipeline\n",
    "from sklearn.svm import SVC\n",
    "from xgboost import XGBClassifier\n",
    "import ast"
   ]
  },
  {
   "cell_type": "code",
   "execution_count": 2,
   "metadata": {},
   "outputs": [],
   "source": [
    "def get_x_y(df: pd.DataFrame) -> (pd.Series, pd.Series):\n",
    "    \"\"\"\n",
    "    Get predictors and target from dataframe\n",
    "    :param df: dataframe\n",
    "    :return: predictors, target\n",
    "    \"\"\"\n",
    "    x = df[\"text\"]\n",
    "    y = df[\"account.type\"]\n",
    "    y = np.where(y == \"bot\", 1, 0)\n",
    "    return x, y"
   ]
  },
  {
   "cell_type": "code",
   "execution_count": 3,
   "metadata": {},
   "outputs": [],
   "source": [
    "DATA_PATH = os.path.join(\"..\", \"data\", \"preprocessed_url_simple\")\n",
    "train = pd.read_csv(os.path.join(DATA_PATH, \"train.csv\"))\n",
    "test = pd.read_csv(os.path.join(DATA_PATH, \"test.csv\"))"
   ]
  },
  {
   "cell_type": "code",
   "execution_count": 4,
   "metadata": {},
   "outputs": [],
   "source": [
    "x_train, y_train = get_x_y(train)\n",
    "x_test, y_test = get_x_y(test)"
   ]
  },
  {
   "cell_type": "code",
   "execution_count": 5,
   "metadata": {},
   "outputs": [],
   "source": [
    "df = pd.read_csv(\"results/tfidf_optuna.csv\")"
   ]
  },
  {
   "cell_type": "code",
   "execution_count": 6,
   "metadata": {},
   "outputs": [],
   "source": [
    "MODELS_MAPPING = {\n",
    "    \"LGBM\": LGBMClassifier,\n",
    "    \"XGB\": RandomForestClassifier,\n",
    "    \"RF\": LogisticRegression,\n",
    "    \"SVC\": SVC,\n",
    "    \"LR\": XGBClassifier,\n",
    "}"
   ]
  },
  {
   "cell_type": "code",
   "execution_count": 7,
   "metadata": {},
   "outputs": [],
   "source": [
    "KEYS_MAPPINGS = {\n",
    "    \"lgbm\": \"model__\",\n",
    "    \"xgb\": \"model__\",\n",
    "    \"rf\": \"model__\",\n",
    "    \"svc\": \"model__\",\n",
    "    \"tfidf\": \"encoder__\",\n",
    "}"
   ]
  },
  {
   "cell_type": "code",
   "execution_count": 10,
   "metadata": {},
   "outputs": [],
   "source": [
    "NGRAMS_MAPPING = {\"unigram\": (1, 1), \"digram\": (1, 2), \"trigram\": (1, 3)}"
   ]
  },
  {
   "cell_type": "code",
   "execution_count": 8,
   "metadata": {},
   "outputs": [],
   "source": [
    "_series = df.iloc[0, :]"
   ]
  },
  {
   "cell_type": "code",
   "execution_count": 9,
   "metadata": {},
   "outputs": [
    {
     "data": {
      "text/plain": [
       "type                                          lemmatization\n",
       "model                                                  LGBM\n",
       "score                                              0.829501\n",
       "params    {'lgbm_boosting_type': 'gbdt', 'lgbm_max_depth...\n",
       "Name: 0, dtype: object"
      ]
     },
     "execution_count": 9,
     "metadata": {},
     "output_type": "execute_result"
    }
   ],
   "source": [
    "_series"
   ]
  },
  {
   "cell_type": "code",
   "execution_count": 11,
   "metadata": {},
   "outputs": [],
   "source": [
    "def load_model(\n",
    "    metadata: pd.Series | dict,\n",
    "    models_mapping: dict = MODELS_MAPPING,\n",
    "    keys_mappings: dict = KEYS_MAPPINGS,\n",
    "    ngrams_mapping: dict = NGRAMS_MAPPING,\n",
    ") -> Pipeline:\n",
    "    pipeline = Pipeline(\n",
    "        [(\"encoder\", TfidfVectorizer()), (\"model\", models_mapping[metadata[\"model\"]]())]\n",
    "    )\n",
    "\n",
    "    params = ast.literal_eval(metadata[\"params\"])\n",
    "    params = {\n",
    "        keys_mappings[k.split(\"_\")[0]]\n",
    "        + \"_\".join(k.split(\"_\")[1:]): (\n",
    "            v if v not in ngrams_mapping.keys() else ngrams_mapping[v]\n",
    "        )\n",
    "        for k, v in params.items()\n",
    "    }\n",
    "    pipeline.set_params(**params)\n",
    "    return pipeline"
   ]
  },
  {
   "cell_type": "code",
   "execution_count": 12,
   "metadata": {},
   "outputs": [],
   "source": [
    "pipeline = load_model(_series)"
   ]
  },
  {
   "cell_type": "code",
   "execution_count": null,
   "metadata": {},
   "outputs": [],
   "source": [
    "pipeline.fit(x_train, y_train)"
   ]
  },
  {
   "cell_type": "code",
   "execution_count": 14,
   "metadata": {},
   "outputs": [],
   "source": [
    "encoder = pipeline.named_steps[\"encoder\"]\n",
    "model = pipeline.named_steps[\"model\"]"
   ]
  },
  {
   "cell_type": "code",
   "execution_count": 15,
   "metadata": {},
   "outputs": [
    {
     "name": "stderr",
     "output_type": "stream",
     "text": [
      "Using 20712 background data samples could cause slower run times. Consider using shap.sample(data, K) or shap.kmeans(data, K) to summarize the background as K samples.\n"
     ]
    },
    {
     "name": "stdout",
     "output_type": "stream",
     "text": [
      "[LightGBM] [Warning] Accuracy may be bad since you didn't explicitly set num_leaves OR 2^max_depth > num_leaves. (num_leaves=31).\n"
     ]
    }
   ],
   "source": [
    "explainer = shap.KernelExplainer(\n",
    "    model.predict_proba, encoder.transform(x_train)\n",
    ")  # model.predict for SVC, otherwise we can use predict_proba"
   ]
  },
  {
   "cell_type": "code",
   "execution_count": 16,
   "metadata": {},
   "outputs": [
    {
     "name": "stderr",
     "output_type": "stream",
     "text": [
      "  0%|          | 0/5 [00:00<?, ?it/s]Converting data to scipy sparse matrix.\n"
     ]
    },
    {
     "name": "stdout",
     "output_type": "stream",
     "text": [
      "[LightGBM] [Warning] Accuracy may be bad since you didn't explicitly set num_leaves OR 2^max_depth > num_leaves. (num_leaves=31).\n"
     ]
    },
    {
     "ename": "",
     "evalue": "",
     "output_type": "error",
     "traceback": [
      "\u001b[1;31mThe Kernel crashed while executing code in the the current cell or a previous cell. Please review the code in the cell(s) to identify a possible cause of the failure. Click <a href='https://aka.ms/vscodeJupyterKernelCrash'>here</a> for more info. View Jupyter <a href='command:jupyter.viewOutput'>log</a> for further details."
     ]
    }
   ],
   "source": [
    "shap_values = explainer.shap_values(encoder.transform(x_test[:5]))"
   ]
  },
  {
   "cell_type": "code",
   "execution_count": null,
   "metadata": {},
   "outputs": [],
   "source": []
  }
 ],
 "metadata": {
  "kernelspec": {
   "display_name": ".venv",
   "language": "python",
   "name": "python3"
  },
  "language_info": {
   "codemirror_mode": {
    "name": "ipython",
    "version": 3
   },
   "file_extension": ".py",
   "mimetype": "text/x-python",
   "name": "python",
   "nbconvert_exporter": "python",
   "pygments_lexer": "ipython3",
   "version": "3.12.0"
  }
 },
 "nbformat": 4,
 "nbformat_minor": 2
}
