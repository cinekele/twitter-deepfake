{
 "cells": [
  {
   "cell_type": "markdown",
   "source": [
    "# Import modules"
   ],
   "metadata": {
    "collapsed": false
   },
   "id": "59b14511716688c7"
  },
  {
   "cell_type": "code",
   "execution_count": 1,
   "outputs": [],
   "source": [
    "import os\n",
    "import re\n",
    "\n",
    "import pandas as pd\n",
    "from nltk.tokenize import TweetTokenizer"
   ],
   "metadata": {
    "collapsed": false,
    "ExecuteTime": {
     "end_time": "2023-11-13T21:58:21.991028100Z",
     "start_time": "2023-11-13T21:58:21.739026300Z"
    }
   },
   "id": "b5089e2d1217cfa4"
  },
  {
   "cell_type": "markdown",
   "source": [
    "# Data import"
   ],
   "metadata": {
    "collapsed": false
   },
   "id": "844ecefa4a471389"
  },
  {
   "cell_type": "code",
   "execution_count": 2,
   "outputs": [
    {
     "data": {
      "text/plain": "  screen_name                                               text account.type  \\\n0       bot#9                             YEA now that note GOOD          bot   \n1    human#17    Listen to This Charming Man by The Smiths <URL>        human   \n2      bot#23  wish i can i would be seeing other hoes on the...          bot   \n3       bot#1  The decade in the significantly easier schedul...          bot   \n4      bot#11  \" Theim class =\\ \" alignnone size-full wp-imag...          bot   \n\n  class_type  \n0     others  \n1      human  \n2     others  \n3     others  \n4        rnn  ",
      "text/html": "<div>\n<style scoped>\n    .dataframe tbody tr th:only-of-type {\n        vertical-align: middle;\n    }\n\n    .dataframe tbody tr th {\n        vertical-align: top;\n    }\n\n    .dataframe thead th {\n        text-align: right;\n    }\n</style>\n<table border=\"1\" class=\"dataframe\">\n  <thead>\n    <tr style=\"text-align: right;\">\n      <th></th>\n      <th>screen_name</th>\n      <th>text</th>\n      <th>account.type</th>\n      <th>class_type</th>\n    </tr>\n  </thead>\n  <tbody>\n    <tr>\n      <th>0</th>\n      <td>bot#9</td>\n      <td>YEA now that note GOOD</td>\n      <td>bot</td>\n      <td>others</td>\n    </tr>\n    <tr>\n      <th>1</th>\n      <td>human#17</td>\n      <td>Listen to This Charming Man by The Smiths &lt;URL&gt;</td>\n      <td>human</td>\n      <td>human</td>\n    </tr>\n    <tr>\n      <th>2</th>\n      <td>bot#23</td>\n      <td>wish i can i would be seeing other hoes on the...</td>\n      <td>bot</td>\n      <td>others</td>\n    </tr>\n    <tr>\n      <th>3</th>\n      <td>bot#1</td>\n      <td>The decade in the significantly easier schedul...</td>\n      <td>bot</td>\n      <td>others</td>\n    </tr>\n    <tr>\n      <th>4</th>\n      <td>bot#11</td>\n      <td>\" Theim class =\\ \" alignnone size-full wp-imag...</td>\n      <td>bot</td>\n      <td>rnn</td>\n    </tr>\n  </tbody>\n</table>\n</div>"
     },
     "execution_count": 2,
     "metadata": {},
     "output_type": "execute_result"
    }
   ],
   "source": [
    "DATA_PATH = os.path.join('..', 'data', 'original')\n",
    "train = pd.read_csv(os.path.join(DATA_PATH, 'train.csv'))\n",
    "validation = pd.read_csv(os.path.join(DATA_PATH, 'validation.csv'))\n",
    "test = pd.read_csv(os.path.join(DATA_PATH, 'test.csv'))\n",
    "\n",
    "\n",
    "def remove_rt(tweet):\n",
    "    tweet = re.sub(r'^RT[\\s]+', '<Retweet>', tweet)\n",
    "    return tweet\n",
    "\n",
    "\n",
    "def remove_hyperlinks(tweet):\n",
    "    tweet = re.sub(r'https?://[^\\s\\n\\r]+', '<URL>', tweet)\n",
    "    return tweet\n",
    "\n",
    "\n",
    "def remove_mention(tweet):\n",
    "    tweet = re.sub(r'@\\w+', '<MENTION>', tweet)\n",
    "    return tweet\n",
    "\n",
    "\n",
    "def tokenize(tweet):\n",
    "    tokenizer = TweetTokenizer(strip_handles=True)\n",
    "    tweet = tokenizer.tokenize(tweet)\n",
    "    return tweet\n",
    "\n",
    "\n",
    "def preprocess(tweet):\n",
    "    tweet = remove_rt(tweet)\n",
    "    tweet = remove_hyperlinks(tweet)\n",
    "    tweet = remove_mention(tweet)\n",
    "    tweet = tokenize(tweet)\n",
    "    tweet = ' '.join(tweet)\n",
    "    return tweet\n",
    "\n",
    "\n",
    "train['text'] = train['text'].apply(preprocess)\n",
    "validation['text'] = validation['text'].apply(preprocess)\n",
    "test['text'] = test['text'].apply(preprocess)\n",
    "train.head()"
   ],
   "metadata": {
    "collapsed": false,
    "ExecuteTime": {
     "end_time": "2023-11-13T21:58:23.446045600Z",
     "start_time": "2023-11-13T21:58:21.995028200Z"
    }
   },
   "id": "8ff87b5ed292ee95"
  },
  {
   "cell_type": "code",
   "execution_count": 3,
   "outputs": [],
   "source": [
    "PREPROCESSED_DATA_PATH = os.path.join(\"..\", \"data\", \"preprocessed\")\n",
    "if not os.path.exists(PREPROCESSED_DATA_PATH):\n",
    "    os.mkdir(PREPROCESSED_DATA_PATH)\n",
    "train.to_csv(os.path.join(PREPROCESSED_DATA_PATH, 'train.csv'), index=False)\n",
    "validation.to_csv(os.path.join(PREPROCESSED_DATA_PATH, 'validation.csv'), index=False)\n",
    "test.to_csv(os.path.join(PREPROCESSED_DATA_PATH, \"test.csv\"), index=False)"
   ],
   "metadata": {
    "collapsed": false,
    "ExecuteTime": {
     "end_time": "2023-11-13T21:58:23.510046300Z",
     "start_time": "2023-11-13T21:58:23.448045300Z"
    }
   },
   "id": "e65aacc177e31cd9"
  }
 ],
 "metadata": {
  "kernelspec": {
   "display_name": "Python 3",
   "language": "python",
   "name": "python3"
  },
  "language_info": {
   "codemirror_mode": {
    "name": "ipython",
    "version": 2
   },
   "file_extension": ".py",
   "mimetype": "text/x-python",
   "name": "python",
   "nbconvert_exporter": "python",
   "pygments_lexer": "ipython2",
   "version": "2.7.6"
  }
 },
 "nbformat": 4,
 "nbformat_minor": 5
}
