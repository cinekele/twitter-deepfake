{
 "cells": [
  {
   "cell_type": "markdown",
   "source": [
    "# Import modules"
   ],
   "metadata": {
    "collapsed": false
   },
   "id": "59b14511716688c7"
  },
  {
   "cell_type": "code",
   "execution_count": 1,
   "outputs": [],
   "source": [
    "import os\n",
    "import re\n",
    "\n",
    "import pandas as pd\n",
    "from nltk.tokenize import TweetTokenizer\n",
    "from urllib.parse import urlparse"
   ],
   "metadata": {
    "collapsed": false,
    "ExecuteTime": {
     "end_time": "2023-11-19T16:00:04.012739200Z",
     "start_time": "2023-11-19T16:00:03.748528900Z"
    }
   },
   "id": "b5089e2d1217cfa4"
  },
  {
   "cell_type": "markdown",
   "source": [
    "# Data import"
   ],
   "metadata": {
    "collapsed": false
   },
   "id": "844ecefa4a471389"
  },
  {
   "cell_type": "code",
   "execution_count": 2,
   "outputs": [
    {
     "data": {
      "text/plain": "  screen_name                                               text account.type  \\\n0       bot#9                             YEA now that note GOOD          bot   \n1    human#17    Listen to This Charming Man by The Smiths <URL>        human   \n2      bot#23  wish i can i would be seeing other hoes on the...          bot   \n3       bot#1  The decade in the significantly easier schedul...          bot   \n4      bot#11  \" Theim class =\\ \" alignnone size-full wp-imag...          bot   \n\n  class_type  \n0     others  \n1      human  \n2     others  \n3     others  \n4        rnn  ",
      "text/html": "<div>\n<style scoped>\n    .dataframe tbody tr th:only-of-type {\n        vertical-align: middle;\n    }\n\n    .dataframe tbody tr th {\n        vertical-align: top;\n    }\n\n    .dataframe thead th {\n        text-align: right;\n    }\n</style>\n<table border=\"1\" class=\"dataframe\">\n  <thead>\n    <tr style=\"text-align: right;\">\n      <th></th>\n      <th>screen_name</th>\n      <th>text</th>\n      <th>account.type</th>\n      <th>class_type</th>\n    </tr>\n  </thead>\n  <tbody>\n    <tr>\n      <th>0</th>\n      <td>bot#9</td>\n      <td>YEA now that note GOOD</td>\n      <td>bot</td>\n      <td>others</td>\n    </tr>\n    <tr>\n      <th>1</th>\n      <td>human#17</td>\n      <td>Listen to This Charming Man by The Smiths &lt;URL&gt;</td>\n      <td>human</td>\n      <td>human</td>\n    </tr>\n    <tr>\n      <th>2</th>\n      <td>bot#23</td>\n      <td>wish i can i would be seeing other hoes on the...</td>\n      <td>bot</td>\n      <td>others</td>\n    </tr>\n    <tr>\n      <th>3</th>\n      <td>bot#1</td>\n      <td>The decade in the significantly easier schedul...</td>\n      <td>bot</td>\n      <td>others</td>\n    </tr>\n    <tr>\n      <th>4</th>\n      <td>bot#11</td>\n      <td>\" Theim class =\\ \" alignnone size-full wp-imag...</td>\n      <td>bot</td>\n      <td>rnn</td>\n    </tr>\n  </tbody>\n</table>\n</div>"
     },
     "execution_count": 2,
     "metadata": {},
     "output_type": "execute_result"
    }
   ],
   "source": [
    "DATA_PATH = os.path.join('..', 'data', 'original')\n",
    "train = pd.read_csv(os.path.join(DATA_PATH, 'train.csv'))\n",
    "validation = pd.read_csv(os.path.join(DATA_PATH, 'validation.csv'))\n",
    "test = pd.read_csv(os.path.join(DATA_PATH, 'test.csv'))\n",
    "\n",
    "\n",
    "def tag_hyperlinks(tweet: str) -> str:\n",
    "    \"\"\"\n",
    "    Replace hyperlinks with <URL> tag\n",
    "    :param tweet: tweet text\n",
    "    :return: tweet with <URL> tag\n",
    "    \"\"\"\n",
    "    tweet = re.sub(r'https?://[^\\s\\n\\r]+', '<URL>', tweet)\n",
    "    return tweet\n",
    "\n",
    "\n",
    "def tag_mention(tweet: str) -> str:\n",
    "    \"\"\"\n",
    "    Replace mentions with <MENTION> tag\n",
    "    :param tweet: Tweet text\n",
    "    :return: Tweet with <MENTION> tag\n",
    "    \"\"\"\n",
    "    tweet = re.sub(r'@\\w+', '<MENTION>', tweet)\n",
    "    return tweet\n",
    "\n",
    "\n",
    "def tokenize(tweet: str) -> list[str]:\n",
    "    \"\"\"\n",
    "    Tokenize tweet\n",
    "    :param tweet: Tweet text\n",
    "    :return: Tokenized tweet\n",
    "    \"\"\"\n",
    "    tokenizer = TweetTokenizer(strip_handles=True)\n",
    "    tweet = tokenizer.tokenize(tweet)\n",
    "    return tweet\n",
    "\n",
    "\n",
    "def replace_hyperlinks(tweet: str) -> str:\n",
    "    \"\"\"\n",
    "    Replace hyperlinks with basepath\n",
    "    :param tweet: Tweet text\n",
    "    :return: Tweet with basepath\n",
    "    \"\"\"\n",
    "    http_search = re.search(r'https?://[^\\s\\n\\r]+', tweet)\n",
    "    if http_search:\n",
    "        http = http_search.group(0)\n",
    "        parsed = urlparse(http)\n",
    "        basepath = parsed.netloc\n",
    "        tweet = re.sub(r'https?://[^\\s\\n\\r]+', basepath, tweet)\n",
    "    return tweet\n",
    "\n",
    "\n",
    "def preprocess_simple(tweet: str) -> str:\n",
    "    \"\"\"\n",
    "    Preprocess tweet with simple preprocessing pipeline. i.e. tag hyperlinks, tag mentions, tokenize, join\n",
    "    :param tweet: Tweet text\n",
    "    :return: Tweet with simple preprocessing\n",
    "    \"\"\"\n",
    "    tweet = tag_hyperlinks(tweet)\n",
    "    tweet = tag_mention(tweet)\n",
    "    tweet = tokenize(tweet)\n",
    "    tweet = ' '.join(tweet)\n",
    "    return tweet\n",
    "\n",
    "\n",
    "new_train = train.copy()\n",
    "new_validation = validation.copy()\n",
    "new_test = test.copy()\n",
    "\n",
    "new_train['text'] = train['text'].apply(preprocess_simple)\n",
    "new_validation['text'] = validation['text'].apply(preprocess_simple)\n",
    "new_test['text'] = test['text'].apply(preprocess_simple)\n",
    "new_train.head()"
   ],
   "metadata": {
    "collapsed": false,
    "ExecuteTime": {
     "end_time": "2023-11-19T16:00:05.495658300Z",
     "start_time": "2023-11-19T16:00:04.016738100Z"
    }
   },
   "id": "8ff87b5ed292ee95"
  },
  {
   "cell_type": "code",
   "execution_count": 3,
   "outputs": [],
   "source": [
    "PREPROCESSED_DATA_PATH = os.path.join(\"..\", \"data\", \"preprocessed_url_simple\")\n",
    "if not os.path.exists(PREPROCESSED_DATA_PATH):\n",
    "    os.mkdir(PREPROCESSED_DATA_PATH)\n",
    "new_train.to_csv(os.path.join(PREPROCESSED_DATA_PATH, 'train.csv'), index=False)\n",
    "new_validation.to_csv(os.path.join(PREPROCESSED_DATA_PATH, 'validation.csv'), index=False)\n",
    "new_train.to_csv(os.path.join(PREPROCESSED_DATA_PATH, \"test.csv\"), index=False)"
   ],
   "metadata": {
    "collapsed": false,
    "ExecuteTime": {
     "end_time": "2023-11-19T16:00:05.590681500Z",
     "start_time": "2023-11-19T16:00:05.497658500Z"
    }
   },
   "id": "e65aacc177e31cd9"
  },
  {
   "cell_type": "code",
   "execution_count": 4,
   "outputs": [],
   "source": [
    "def preprocess_complex(tweet: str) -> str:\n",
    "    \"\"\"\n",
    "    Preprocess tweet with complex preprocessing pipeline. i.e. replace hyperlinks with basepath, tag mentions, tokenize, join\n",
    "    :param tweet: Tweet text\n",
    "    :return: Tweet with complex preprocessing\n",
    "    \"\"\"\n",
    "    tweet = replace_hyperlinks(tweet)\n",
    "    tweet = tag_mention(tweet)\n",
    "    tweet = tokenize(tweet)\n",
    "    tweet = ' '.join(tweet)\n",
    "    return tweet"
   ],
   "metadata": {
    "collapsed": false,
    "ExecuteTime": {
     "end_time": "2023-11-19T16:00:05.606539500Z",
     "start_time": "2023-11-19T16:00:05.592680600Z"
    }
   },
   "id": "4b0a361ea673a346"
  },
  {
   "cell_type": "code",
   "execution_count": 5,
   "outputs": [
    {
     "data": {
      "text/plain": "  screen_name                                               text account.type  \\\n0       bot#9                             YEA now that note GOOD          bot   \n1    human#17     Listen to This Charming Man by The Smiths t.co        human   \n2      bot#23  wish i can i would be seeing other hoes on the...          bot   \n3       bot#1  The decade in the significantly easier schedul...          bot   \n4      bot#11  \" Theim class =\\ \" alignnone size-full wp-imag...          bot   \n\n  class_type  \n0     others  \n1      human  \n2     others  \n3     others  \n4        rnn  ",
      "text/html": "<div>\n<style scoped>\n    .dataframe tbody tr th:only-of-type {\n        vertical-align: middle;\n    }\n\n    .dataframe tbody tr th {\n        vertical-align: top;\n    }\n\n    .dataframe thead th {\n        text-align: right;\n    }\n</style>\n<table border=\"1\" class=\"dataframe\">\n  <thead>\n    <tr style=\"text-align: right;\">\n      <th></th>\n      <th>screen_name</th>\n      <th>text</th>\n      <th>account.type</th>\n      <th>class_type</th>\n    </tr>\n  </thead>\n  <tbody>\n    <tr>\n      <th>0</th>\n      <td>bot#9</td>\n      <td>YEA now that note GOOD</td>\n      <td>bot</td>\n      <td>others</td>\n    </tr>\n    <tr>\n      <th>1</th>\n      <td>human#17</td>\n      <td>Listen to This Charming Man by The Smiths t.co</td>\n      <td>human</td>\n      <td>human</td>\n    </tr>\n    <tr>\n      <th>2</th>\n      <td>bot#23</td>\n      <td>wish i can i would be seeing other hoes on the...</td>\n      <td>bot</td>\n      <td>others</td>\n    </tr>\n    <tr>\n      <th>3</th>\n      <td>bot#1</td>\n      <td>The decade in the significantly easier schedul...</td>\n      <td>bot</td>\n      <td>others</td>\n    </tr>\n    <tr>\n      <th>4</th>\n      <td>bot#11</td>\n      <td>\" Theim class =\\ \" alignnone size-full wp-imag...</td>\n      <td>bot</td>\n      <td>rnn</td>\n    </tr>\n  </tbody>\n</table>\n</div>"
     },
     "execution_count": 5,
     "metadata": {},
     "output_type": "execute_result"
    }
   ],
   "source": [
    "new_train['text'] = train['text'].apply(preprocess_complex)\n",
    "new_validation['text'] = validation['text'].apply(preprocess_complex)\n",
    "new_test['text'] = test['text'].apply(preprocess_complex)\n",
    "new_train.head()"
   ],
   "metadata": {
    "collapsed": false,
    "ExecuteTime": {
     "end_time": "2023-11-19T16:00:07.087156900Z",
     "start_time": "2023-11-19T16:00:05.607536100Z"
    }
   },
   "id": "e1e3c261c6a21efd"
  },
  {
   "cell_type": "code",
   "execution_count": 6,
   "outputs": [],
   "source": [
    "PREPROCESSED_BASEPATH_PATH = os.path.join(\"..\", \"data\", \"preprocessed_url_complex\")\n",
    "if not os.path.exists(PREPROCESSED_BASEPATH_PATH):\n",
    "    os.mkdir(PREPROCESSED_BASEPATH_PATH)\n",
    "train.to_csv(os.path.join(PREPROCESSED_BASEPATH_PATH, 'train.csv'), index=False)\n",
    "validation.to_csv(os.path.join(PREPROCESSED_BASEPATH_PATH, 'validation.csv'), index=False)\n",
    "test.to_csv(os.path.join(PREPROCESSED_BASEPATH_PATH, \"test.csv\"), index=False)"
   ],
   "metadata": {
    "collapsed": false,
    "ExecuteTime": {
     "end_time": "2023-11-19T16:00:07.159871700Z",
     "start_time": "2023-11-19T16:00:07.084155700Z"
    }
   },
   "id": "f7855b9540523101"
  }
 ],
 "metadata": {
  "kernelspec": {
   "display_name": "Python 3",
   "language": "python",
   "name": "python3"
  },
  "language_info": {
   "codemirror_mode": {
    "name": "ipython",
    "version": 2
   },
   "file_extension": ".py",
   "mimetype": "text/x-python",
   "name": "python",
   "nbconvert_exporter": "python",
   "pygments_lexer": "ipython2",
   "version": "2.7.6"
  }
 },
 "nbformat": 4,
 "nbformat_minor": 5
}
