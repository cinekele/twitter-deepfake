{
 "cells": [
  {
   "cell_type": "markdown",
   "source": [
    "# Imports"
   ],
   "metadata": {
    "collapsed": false
   },
   "id": "647ab97ae1ddd4ef"
  },
  {
   "cell_type": "code",
   "execution_count": 1,
   "id": "initial_id",
   "metadata": {
    "collapsed": true,
    "ExecuteTime": {
     "end_time": "2023-12-04T20:40:01.383483200Z",
     "start_time": "2023-12-04T20:39:59.407483500Z"
    }
   },
   "outputs": [],
   "source": [
    "import os\n",
    "\n",
    "import keras\n",
    "import pandas as pd\n",
    "\n",
    "import utils.word_utils as wu\n",
    "from utils.KerasModels import calculate_metrics\n",
    "\n",
    "keras.utils.set_random_seed(812)\n",
    "MODELS_DIR = os.path.join('..', 'models', 'wordCNN')\n",
    "EPOCHS = 200\n",
    "MAX_LEN = 100\n",
    "VOCAB_SIZE = 15000"
   ]
  },
  {
   "cell_type": "markdown",
   "source": [
    "# Simple data"
   ],
   "metadata": {
    "collapsed": false
   },
   "id": "44de7ec9b458eb01"
  },
  {
   "cell_type": "code",
   "execution_count": 2,
   "outputs": [
    {
     "name": "stdout",
     "output_type": "stream",
     "text": [
      "Model: \"model\"\n",
      "__________________________________________________________________________________________________\n",
      " Layer (type)                   Output Shape         Param #     Connected to                     \n",
      "==================================================================================================\n",
      " input_1 (InputLayer)           [(None, 1)]          0           []                               \n",
      "                                                                                                  \n",
      " text_vectorization (TextVector  (None, 100)         0           ['input_1[0][0]']                \n",
      " ization)                                                                                         \n",
      "                                                                                                  \n",
      " embedding (Embedding)          (None, 100, 128)     1920000     ['text_vectorization[0][0]']     \n",
      "                                                                                                  \n",
      " conv1d (Conv1D)                (None, 98, 128)      49280       ['embedding[0][0]']              \n",
      "                                                                                                  \n",
      " conv1d_1 (Conv1D)              (None, 97, 128)      65664       ['embedding[0][0]']              \n",
      "                                                                                                  \n",
      " conv1d_2 (Conv1D)              (None, 96, 128)      82048       ['embedding[0][0]']              \n",
      "                                                                                                  \n",
      " global_max_pooling1d (GlobalMa  (None, 128)         0           ['conv1d[0][0]']                 \n",
      " xPooling1D)                                                                                      \n",
      "                                                                                                  \n",
      " global_max_pooling1d_1 (Global  (None, 128)         0           ['conv1d_1[0][0]']               \n",
      " MaxPooling1D)                                                                                    \n",
      "                                                                                                  \n",
      " global_max_pooling1d_2 (Global  (None, 128)         0           ['conv1d_2[0][0]']               \n",
      " MaxPooling1D)                                                                                    \n",
      "                                                                                                  \n",
      " concatenate (Concatenate)      (None, 384)          0           ['global_max_pooling1d[0][0]',   \n",
      "                                                                  'global_max_pooling1d_1[0][0]', \n",
      "                                                                  'global_max_pooling1d_2[0][0]'] \n",
      "                                                                                                  \n",
      " dropout (Dropout)              (None, 384)          0           ['concatenate[0][0]']            \n",
      "                                                                                                  \n",
      " dense (Dense)                  (None, 1)            385         ['dropout[0][0]']                \n",
      "                                                                                                  \n",
      "==================================================================================================\n",
      "Total params: 2,117,377\n",
      "Trainable params: 2,117,377\n",
      "Non-trainable params: 0\n",
      "__________________________________________________________________________________________________\n"
     ]
    }
   ],
   "source": [
    "data_path = os.path.join('..', 'data', 'preprocessed_url_simple')\n",
    "\n",
    "x_train, y_train, x_valid, y_valid, x_test, y_test = wu.prepare_data(\n",
    "    data_path)\n",
    "os.makedirs(MODELS_DIR, exist_ok=True)\n",
    "text_vectorizer = wu.prepare_text_vectorizer(x_train, max_len=MAX_LEN, vocab_size=VOCAB_SIZE)\n",
    "model = wu.get_wordcnn(text_vectorizer)\n",
    "model.summary()"
   ],
   "metadata": {
    "collapsed": false,
    "ExecuteTime": {
     "end_time": "2023-12-04T20:40:02.624443200Z",
     "start_time": "2023-12-04T20:40:01.385482900Z"
    }
   },
   "id": "63d3cf15043b997f"
  },
  {
   "cell_type": "code",
   "execution_count": 3,
   "outputs": [
    {
     "name": "stdout",
     "output_type": "stream",
     "text": [
      "Epoch 1/200\n",
      "81/81 [==============================] - ETA: 0s - loss: 0.4917 - accuracy: 0.7571"
     ]
    },
    {
     "name": "stderr",
     "output_type": "stream",
     "text": [
      "WARNING:absl:Found untraced functions such as _jit_compiled_convolution_op, _jit_compiled_convolution_op, _jit_compiled_convolution_op while saving (showing 3 of 3). These functions will not be directly callable after loading.\n"
     ]
    },
    {
     "name": "stdout",
     "output_type": "stream",
     "text": [
      "INFO:tensorflow:Assets written to: ..\\models\\wordCNN\\simple\\assets\n"
     ]
    },
    {
     "name": "stderr",
     "output_type": "stream",
     "text": [
      "INFO:tensorflow:Assets written to: ..\\models\\wordCNN\\simple\\assets\n"
     ]
    },
    {
     "name": "stdout",
     "output_type": "stream",
     "text": [
      "81/81 [==============================] - 4s 25ms/step - loss: 0.4917 - accuracy: 0.7571 - val_loss: 0.4062 - val_accuracy: 0.7967\n",
      "Epoch 2/200\n",
      "77/81 [===========================>..] - ETA: 0s - loss: 0.3002 - accuracy: 0.8680"
     ]
    },
    {
     "name": "stderr",
     "output_type": "stream",
     "text": [
      "WARNING:absl:Found untraced functions such as _jit_compiled_convolution_op, _jit_compiled_convolution_op, _jit_compiled_convolution_op while saving (showing 3 of 3). These functions will not be directly callable after loading.\n"
     ]
    },
    {
     "name": "stdout",
     "output_type": "stream",
     "text": [
      "INFO:tensorflow:Assets written to: ..\\models\\wordCNN\\simple\\assets\n"
     ]
    },
    {
     "name": "stderr",
     "output_type": "stream",
     "text": [
      "INFO:tensorflow:Assets written to: ..\\models\\wordCNN\\simple\\assets\n"
     ]
    },
    {
     "name": "stdout",
     "output_type": "stream",
     "text": [
      "81/81 [==============================] - 2s 19ms/step - loss: 0.2990 - accuracy: 0.8683 - val_loss: 0.4015 - val_accuracy: 0.8089\n",
      "Epoch 3/200\n",
      "81/81 [==============================] - 1s 10ms/step - loss: 0.1961 - accuracy: 0.9224 - val_loss: 0.4502 - val_accuracy: 0.8050\n",
      "Epoch 4/200\n",
      "81/81 [==============================] - 1s 10ms/step - loss: 0.1239 - accuracy: 0.9554 - val_loss: 0.5321 - val_accuracy: 0.8023\n",
      "Epoch 5/200\n",
      "81/81 [==============================] - 1s 10ms/step - loss: 0.0767 - accuracy: 0.9752 - val_loss: 0.6275 - val_accuracy: 0.7945\n",
      "Epoch 6/200\n",
      "81/81 [==============================] - 1s 10ms/step - loss: 0.0464 - accuracy: 0.9874 - val_loss: 0.7360 - val_accuracy: 0.7932\n",
      "Epoch 7/200\n",
      "81/81 [==============================] - 1s 11ms/step - loss: 0.0293 - accuracy: 0.9928 - val_loss: 0.8074 - val_accuracy: 0.7850\n",
      "Epoch 8/200\n",
      "81/81 [==============================] - 1s 11ms/step - loss: 0.0187 - accuracy: 0.9958 - val_loss: 0.8768 - val_accuracy: 0.7863\n",
      "Epoch 9/200\n",
      "81/81 [==============================] - 1s 11ms/step - loss: 0.0132 - accuracy: 0.9974 - val_loss: 0.9577 - val_accuracy: 0.7789\n",
      "Epoch 10/200\n",
      "81/81 [==============================] - 1s 10ms/step - loss: 0.0099 - accuracy: 0.9982 - val_loss: 1.0012 - val_accuracy: 0.7863\n",
      "Epoch 11/200\n",
      "81/81 [==============================] - 1s 10ms/step - loss: 0.0078 - accuracy: 0.9985 - val_loss: 1.0570 - val_accuracy: 0.7763\n",
      "Epoch 12/200\n",
      "81/81 [==============================] - 1s 10ms/step - loss: 0.0074 - accuracy: 0.9986 - val_loss: 1.1027 - val_accuracy: 0.7806\n"
     ]
    },
    {
     "data": {
      "text/plain": "<keras.callbacks.History at 0x24305aea970>"
     },
     "execution_count": 3,
     "metadata": {},
     "output_type": "execute_result"
    }
   ],
   "source": [
    "# Train CNN model.\n",
    "early_stopping = keras.callbacks.EarlyStopping(monitor='val_loss', patience=10, restore_best_weights=True)\n",
    "save_best = keras.callbacks.ModelCheckpoint(os.path.join(MODELS_DIR, \"simple\"), monitor='val_loss',\n",
    "                                            save_best_only=True, restore_best_weights=True)\n",
    "model.fit(x_train, y_train, batch_size=256, epochs=EPOCHS,\n",
    "          validation_data=(x_valid, y_valid),\n",
    "          callbacks=[early_stopping, save_best])"
   ],
   "metadata": {
    "collapsed": false,
    "ExecuteTime": {
     "end_time": "2023-12-04T20:40:16.666426400Z",
     "start_time": "2023-12-04T20:40:02.625443100Z"
    }
   },
   "id": "1ab97d6b15d62e35"
  },
  {
   "cell_type": "code",
   "execution_count": 4,
   "outputs": [
    {
     "name": "stdout",
     "output_type": "stream",
     "text": [
      "80/80 [==============================] - 0s 1ms/step\n"
     ]
    },
    {
     "data": {
      "text/plain": "{'balanced_accuracy': 0.81819309956964,\n 'f1_score': 0.8237968927624101,\n 'precision': 0.7998528329654158,\n 'recall': 0.84921875}"
     },
     "execution_count": 4,
     "metadata": {},
     "output_type": "execute_result"
    }
   ],
   "source": [
    "probas = model.predict(x_test)\n",
    "y_pred = (probas > 0.5).astype('int32')\n",
    "results = calculate_metrics(y_test, y_pred)\n",
    "results"
   ],
   "metadata": {
    "collapsed": false,
    "ExecuteTime": {
     "end_time": "2023-12-04T20:40:16.919426200Z",
     "start_time": "2023-12-04T20:40:16.669426500Z"
    }
   },
   "id": "a45fd9e7f97a5add"
  },
  {
   "cell_type": "markdown",
   "source": [
    "# Lemmatized data"
   ],
   "metadata": {
    "collapsed": false
   },
   "id": "9f4b6b473b4ad4eb"
  },
  {
   "cell_type": "code",
   "execution_count": 5,
   "outputs": [
    {
     "name": "stdout",
     "output_type": "stream",
     "text": [
      "Model: \"model_1\"\n",
      "__________________________________________________________________________________________________\n",
      " Layer (type)                   Output Shape         Param #     Connected to                     \n",
      "==================================================================================================\n",
      " input_2 (InputLayer)           [(None, 1)]          0           []                               \n",
      "                                                                                                  \n",
      " text_vectorization_1 (TextVect  (None, 100)         0           ['input_2[0][0]']                \n",
      " orization)                                                                                       \n",
      "                                                                                                  \n",
      " embedding_1 (Embedding)        (None, 100, 128)     1920000     ['text_vectorization_1[0][0]']   \n",
      "                                                                                                  \n",
      " conv1d_3 (Conv1D)              (None, 98, 128)      49280       ['embedding_1[0][0]']            \n",
      "                                                                                                  \n",
      " conv1d_4 (Conv1D)              (None, 97, 128)      65664       ['embedding_1[0][0]']            \n",
      "                                                                                                  \n",
      " conv1d_5 (Conv1D)              (None, 96, 128)      82048       ['embedding_1[0][0]']            \n",
      "                                                                                                  \n",
      " global_max_pooling1d_3 (Global  (None, 128)         0           ['conv1d_3[0][0]']               \n",
      " MaxPooling1D)                                                                                    \n",
      "                                                                                                  \n",
      " global_max_pooling1d_4 (Global  (None, 128)         0           ['conv1d_4[0][0]']               \n",
      " MaxPooling1D)                                                                                    \n",
      "                                                                                                  \n",
      " global_max_pooling1d_5 (Global  (None, 128)         0           ['conv1d_5[0][0]']               \n",
      " MaxPooling1D)                                                                                    \n",
      "                                                                                                  \n",
      " concatenate_1 (Concatenate)    (None, 384)          0           ['global_max_pooling1d_3[0][0]', \n",
      "                                                                  'global_max_pooling1d_4[0][0]', \n",
      "                                                                  'global_max_pooling1d_5[0][0]'] \n",
      "                                                                                                  \n",
      " dropout_1 (Dropout)            (None, 384)          0           ['concatenate_1[0][0]']          \n",
      "                                                                                                  \n",
      " dense_1 (Dense)                (None, 1)            385         ['dropout_1[0][0]']              \n",
      "                                                                                                  \n",
      "==================================================================================================\n",
      "Total params: 2,117,377\n",
      "Trainable params: 2,117,377\n",
      "Non-trainable params: 0\n",
      "__________________________________________________________________________________________________\n"
     ]
    }
   ],
   "source": [
    "data_path = os.path.join('..', 'data', 'lemmatized')\n",
    "\n",
    "x_train, y_train, x_valid, y_valid, x_test, y_test = wu.prepare_data(\n",
    "    data_path)\n",
    "os.makedirs(MODELS_DIR, exist_ok=True)\n",
    "text_vectorizer = wu.prepare_text_vectorizer(x_train, max_len=MAX_LEN, vocab_size=VOCAB_SIZE)\n",
    "model = wu.get_wordcnn(text_vectorizer)\n",
    "model.summary()"
   ],
   "metadata": {
    "collapsed": false,
    "ExecuteTime": {
     "end_time": "2023-12-04T20:40:17.539427100Z",
     "start_time": "2023-12-04T20:40:16.921426500Z"
    }
   },
   "id": "6da1bfae2fac2fd0"
  },
  {
   "cell_type": "code",
   "execution_count": 6,
   "outputs": [
    {
     "name": "stdout",
     "output_type": "stream",
     "text": [
      "Epoch 1/200\n",
      "76/81 [===========================>..] - ETA: 0s - loss: 0.4977 - accuracy: 0.7515"
     ]
    },
    {
     "name": "stderr",
     "output_type": "stream",
     "text": [
      "WARNING:absl:Found untraced functions such as _jit_compiled_convolution_op, _jit_compiled_convolution_op, _jit_compiled_convolution_op while saving (showing 3 of 3). These functions will not be directly callable after loading.\n"
     ]
    },
    {
     "name": "stdout",
     "output_type": "stream",
     "text": [
      "INFO:tensorflow:Assets written to: ..\\models\\wordCNN\\lemmatized\\assets\n"
     ]
    },
    {
     "name": "stderr",
     "output_type": "stream",
     "text": [
      "INFO:tensorflow:Assets written to: ..\\models\\wordCNN\\lemmatized\\assets\n"
     ]
    },
    {
     "name": "stdout",
     "output_type": "stream",
     "text": [
      "81/81 [==============================] - 2s 21ms/step - loss: 0.4918 - accuracy: 0.7540 - val_loss: 0.4049 - val_accuracy: 0.8028\n",
      "Epoch 2/200\n",
      "81/81 [==============================] - ETA: 0s - loss: 0.2977 - accuracy: 0.8694"
     ]
    },
    {
     "name": "stderr",
     "output_type": "stream",
     "text": [
      "WARNING:absl:Found untraced functions such as _jit_compiled_convolution_op, _jit_compiled_convolution_op, _jit_compiled_convolution_op while saving (showing 3 of 3). These functions will not be directly callable after loading.\n"
     ]
    },
    {
     "name": "stdout",
     "output_type": "stream",
     "text": [
      "INFO:tensorflow:Assets written to: ..\\models\\wordCNN\\lemmatized\\assets\n"
     ]
    },
    {
     "name": "stderr",
     "output_type": "stream",
     "text": [
      "INFO:tensorflow:Assets written to: ..\\models\\wordCNN\\lemmatized\\assets\n"
     ]
    },
    {
     "name": "stdout",
     "output_type": "stream",
     "text": [
      "81/81 [==============================] - 2s 20ms/step - loss: 0.2977 - accuracy: 0.8694 - val_loss: 0.4034 - val_accuracy: 0.8093\n",
      "Epoch 3/200\n",
      "81/81 [==============================] - 1s 11ms/step - loss: 0.1967 - accuracy: 0.9228 - val_loss: 0.4557 - val_accuracy: 0.8036\n",
      "Epoch 4/200\n",
      "81/81 [==============================] - 1s 10ms/step - loss: 0.1278 - accuracy: 0.9544 - val_loss: 0.5367 - val_accuracy: 0.7932\n",
      "Epoch 5/200\n",
      "81/81 [==============================] - 1s 10ms/step - loss: 0.0786 - accuracy: 0.9743 - val_loss: 0.6304 - val_accuracy: 0.7958\n",
      "Epoch 6/200\n",
      "81/81 [==============================] - 1s 10ms/step - loss: 0.0483 - accuracy: 0.9866 - val_loss: 0.7333 - val_accuracy: 0.7902\n",
      "Epoch 7/200\n",
      "81/81 [==============================] - 1s 10ms/step - loss: 0.0302 - accuracy: 0.9927 - val_loss: 0.8120 - val_accuracy: 0.7828\n",
      "Epoch 8/200\n",
      "81/81 [==============================] - 1s 11ms/step - loss: 0.0199 - accuracy: 0.9957 - val_loss: 0.8906 - val_accuracy: 0.7871\n",
      "Epoch 9/200\n",
      "81/81 [==============================] - 1s 11ms/step - loss: 0.0140 - accuracy: 0.9974 - val_loss: 0.9560 - val_accuracy: 0.7772\n",
      "Epoch 10/200\n",
      "81/81 [==============================] - 1s 10ms/step - loss: 0.0103 - accuracy: 0.9980 - val_loss: 1.0010 - val_accuracy: 0.7815\n",
      "Epoch 11/200\n",
      "81/81 [==============================] - 1s 10ms/step - loss: 0.0083 - accuracy: 0.9985 - val_loss: 1.0494 - val_accuracy: 0.7785\n",
      "Epoch 12/200\n",
      "81/81 [==============================] - 1s 10ms/step - loss: 0.0073 - accuracy: 0.9989 - val_loss: 1.0934 - val_accuracy: 0.7819\n"
     ]
    },
    {
     "data": {
      "text/plain": "<keras.callbacks.History at 0x24360ef8ee0>"
     },
     "execution_count": 6,
     "metadata": {},
     "output_type": "execute_result"
    }
   ],
   "source": [
    "# Train CNN model.\n",
    "early_stopping = keras.callbacks.EarlyStopping(monitor='val_loss', patience=10, restore_best_weights=True)\n",
    "save_best = keras.callbacks.ModelCheckpoint(os.path.join(MODELS_DIR, \"lemmatized\"), monitor='val_loss',\n",
    "                                            save_best_only=True, restore_best_weights=True)\n",
    "model.fit(x_train, y_train, batch_size=256, epochs=EPOCHS,\n",
    "          validation_data=(x_valid, y_valid),\n",
    "          callbacks=[early_stopping, save_best])"
   ],
   "metadata": {
    "collapsed": false,
    "ExecuteTime": {
     "end_time": "2023-12-04T20:40:29.747251300Z",
     "start_time": "2023-12-04T20:40:17.540426400Z"
    }
   },
   "id": "2991e05a6da3e39d"
  },
  {
   "cell_type": "code",
   "execution_count": 7,
   "outputs": [
    {
     "name": "stdout",
     "output_type": "stream",
     "text": [
      "80/80 [==============================] - 0s 1ms/step\n"
     ]
    },
    {
     "data": {
      "text/plain": "{'balanced_accuracy': 0.8096030174100157,\n 'f1_score': 0.8130518234165067,\n 'precision': 0.7992452830188679,\n 'recall': 0.82734375}"
     },
     "execution_count": 7,
     "metadata": {},
     "output_type": "execute_result"
    }
   ],
   "source": [
    "probas = model.predict(x_test)\n",
    "y_pred = (probas > 0.5).astype('int32')\n",
    "results_lem = calculate_metrics(y_test, y_pred)\n",
    "results_lem"
   ],
   "metadata": {
    "collapsed": false,
    "ExecuteTime": {
     "end_time": "2023-12-04T20:40:29.969249600Z",
     "start_time": "2023-12-04T20:40:29.749250600Z"
    }
   },
   "id": "755713e36db584c4"
  },
  {
   "cell_type": "markdown",
   "source": [
    "# Stemmed data"
   ],
   "metadata": {
    "collapsed": false
   },
   "id": "f55d8dd349171c0d"
  },
  {
   "cell_type": "code",
   "execution_count": 8,
   "outputs": [
    {
     "name": "stdout",
     "output_type": "stream",
     "text": [
      "Model: \"model_2\"\n",
      "__________________________________________________________________________________________________\n",
      " Layer (type)                   Output Shape         Param #     Connected to                     \n",
      "==================================================================================================\n",
      " input_3 (InputLayer)           [(None, 1)]          0           []                               \n",
      "                                                                                                  \n",
      " text_vectorization_2 (TextVect  (None, 100)         0           ['input_3[0][0]']                \n",
      " orization)                                                                                       \n",
      "                                                                                                  \n",
      " embedding_2 (Embedding)        (None, 100, 128)     1920000     ['text_vectorization_2[0][0]']   \n",
      "                                                                                                  \n",
      " conv1d_6 (Conv1D)              (None, 98, 128)      49280       ['embedding_2[0][0]']            \n",
      "                                                                                                  \n",
      " conv1d_7 (Conv1D)              (None, 97, 128)      65664       ['embedding_2[0][0]']            \n",
      "                                                                                                  \n",
      " conv1d_8 (Conv1D)              (None, 96, 128)      82048       ['embedding_2[0][0]']            \n",
      "                                                                                                  \n",
      " global_max_pooling1d_6 (Global  (None, 128)         0           ['conv1d_6[0][0]']               \n",
      " MaxPooling1D)                                                                                    \n",
      "                                                                                                  \n",
      " global_max_pooling1d_7 (Global  (None, 128)         0           ['conv1d_7[0][0]']               \n",
      " MaxPooling1D)                                                                                    \n",
      "                                                                                                  \n",
      " global_max_pooling1d_8 (Global  (None, 128)         0           ['conv1d_8[0][0]']               \n",
      " MaxPooling1D)                                                                                    \n",
      "                                                                                                  \n",
      " concatenate_2 (Concatenate)    (None, 384)          0           ['global_max_pooling1d_6[0][0]', \n",
      "                                                                  'global_max_pooling1d_7[0][0]', \n",
      "                                                                  'global_max_pooling1d_8[0][0]'] \n",
      "                                                                                                  \n",
      " dropout_2 (Dropout)            (None, 384)          0           ['concatenate_2[0][0]']          \n",
      "                                                                                                  \n",
      " dense_2 (Dense)                (None, 1)            385         ['dropout_2[0][0]']              \n",
      "                                                                                                  \n",
      "==================================================================================================\n",
      "Total params: 2,117,377\n",
      "Trainable params: 2,117,377\n",
      "Non-trainable params: 0\n",
      "__________________________________________________________________________________________________\n"
     ]
    }
   ],
   "source": [
    "data_path = os.path.join('..', 'data', 'stemmed')\n",
    "\n",
    "x_train, y_train, x_valid, y_valid, x_test, y_test = wu.prepare_data(\n",
    "    data_path)\n",
    "os.makedirs(MODELS_DIR, exist_ok=True)\n",
    "text_vectorizer = wu.prepare_text_vectorizer(x_train, max_len=MAX_LEN, vocab_size=VOCAB_SIZE)\n",
    "model = wu.get_wordcnn(text_vectorizer)\n",
    "model.summary()"
   ],
   "metadata": {
    "collapsed": false,
    "ExecuteTime": {
     "end_time": "2023-12-04T20:40:30.633249100Z",
     "start_time": "2023-12-04T20:40:29.971250700Z"
    }
   },
   "id": "9d7c80c77cadce9b"
  },
  {
   "cell_type": "code",
   "execution_count": 9,
   "outputs": [
    {
     "name": "stdout",
     "output_type": "stream",
     "text": [
      "Epoch 1/200\n",
      "78/81 [===========================>..] - ETA: 0s - loss: 0.4992 - accuracy: 0.7530"
     ]
    },
    {
     "name": "stderr",
     "output_type": "stream",
     "text": [
      "WARNING:absl:Found untraced functions such as _jit_compiled_convolution_op, _jit_compiled_convolution_op, _jit_compiled_convolution_op while saving (showing 3 of 3). These functions will not be directly callable after loading.\n"
     ]
    },
    {
     "name": "stdout",
     "output_type": "stream",
     "text": [
      "INFO:tensorflow:Assets written to: ..\\models\\wordCNN\\lemmatized\\assets\n"
     ]
    },
    {
     "name": "stderr",
     "output_type": "stream",
     "text": [
      "INFO:tensorflow:Assets written to: ..\\models\\wordCNN\\lemmatized\\assets\n"
     ]
    },
    {
     "name": "stdout",
     "output_type": "stream",
     "text": [
      "81/81 [==============================] - 2s 21ms/step - loss: 0.4962 - accuracy: 0.7544 - val_loss: 0.4087 - val_accuracy: 0.7976\n",
      "Epoch 2/200\n",
      "80/81 [============================>.] - ETA: 0s - loss: 0.2990 - accuracy: 0.8679"
     ]
    },
    {
     "name": "stderr",
     "output_type": "stream",
     "text": [
      "WARNING:absl:Found untraced functions such as _jit_compiled_convolution_op, _jit_compiled_convolution_op, _jit_compiled_convolution_op while saving (showing 3 of 3). These functions will not be directly callable after loading.\n"
     ]
    },
    {
     "name": "stdout",
     "output_type": "stream",
     "text": [
      "INFO:tensorflow:Assets written to: ..\\models\\wordCNN\\lemmatized\\assets\n"
     ]
    },
    {
     "name": "stderr",
     "output_type": "stream",
     "text": [
      "INFO:tensorflow:Assets written to: ..\\models\\wordCNN\\lemmatized\\assets\n"
     ]
    },
    {
     "name": "stdout",
     "output_type": "stream",
     "text": [
      "81/81 [==============================] - 2s 20ms/step - loss: 0.2990 - accuracy: 0.8679 - val_loss: 0.4030 - val_accuracy: 0.8036\n",
      "Epoch 3/200\n",
      "81/81 [==============================] - 1s 11ms/step - loss: 0.1967 - accuracy: 0.9225 - val_loss: 0.4463 - val_accuracy: 0.8071\n",
      "Epoch 4/200\n",
      "81/81 [==============================] - 1s 11ms/step - loss: 0.1263 - accuracy: 0.9555 - val_loss: 0.5247 - val_accuracy: 0.7997\n",
      "Epoch 5/200\n",
      "81/81 [==============================] - 1s 10ms/step - loss: 0.0783 - accuracy: 0.9757 - val_loss: 0.6262 - val_accuracy: 0.7950\n",
      "Epoch 6/200\n",
      "81/81 [==============================] - 1s 10ms/step - loss: 0.0484 - accuracy: 0.9858 - val_loss: 0.7261 - val_accuracy: 0.7941\n",
      "Epoch 7/200\n",
      "81/81 [==============================] - 1s 11ms/step - loss: 0.0313 - accuracy: 0.9919 - val_loss: 0.8014 - val_accuracy: 0.7832\n",
      "Epoch 8/200\n",
      "81/81 [==============================] - 1s 11ms/step - loss: 0.0198 - accuracy: 0.9956 - val_loss: 0.8707 - val_accuracy: 0.7871\n",
      "Epoch 9/200\n",
      "81/81 [==============================] - 1s 10ms/step - loss: 0.0141 - accuracy: 0.9971 - val_loss: 0.9333 - val_accuracy: 0.7824\n",
      "Epoch 10/200\n",
      "81/81 [==============================] - 1s 10ms/step - loss: 0.0099 - accuracy: 0.9980 - val_loss: 0.9842 - val_accuracy: 0.7876\n",
      "Epoch 11/200\n",
      "81/81 [==============================] - 1s 10ms/step - loss: 0.0086 - accuracy: 0.9984 - val_loss: 1.0314 - val_accuracy: 0.7867\n",
      "Epoch 12/200\n",
      "81/81 [==============================] - 1s 10ms/step - loss: 0.0070 - accuracy: 0.9987 - val_loss: 1.0745 - val_accuracy: 0.7824\n"
     ]
    },
    {
     "data": {
      "text/plain": "<keras.callbacks.History at 0x2455dcd9c10>"
     },
     "execution_count": 9,
     "metadata": {},
     "output_type": "execute_result"
    }
   ],
   "source": [
    "# Train CNN model.\n",
    "early_stopping = keras.callbacks.EarlyStopping(monitor='val_loss', patience=10, restore_best_weights=True)\n",
    "save_best = keras.callbacks.ModelCheckpoint(os.path.join(MODELS_DIR, \"lemmatized\"), monitor='val_loss',\n",
    "                                            save_best_only=True, restore_best_weights=True)\n",
    "model.fit(x_train, y_train, batch_size=256, epochs=EPOCHS,\n",
    "          validation_data=(x_valid, y_valid),\n",
    "          callbacks=[early_stopping, save_best])"
   ],
   "metadata": {
    "collapsed": false,
    "ExecuteTime": {
     "end_time": "2023-12-04T20:40:42.790069700Z",
     "start_time": "2023-12-04T20:40:30.623249500Z"
    }
   },
   "id": "9614a9661882c2aa"
  },
  {
   "cell_type": "code",
   "execution_count": 10,
   "outputs": [
    {
     "name": "stdout",
     "output_type": "stream",
     "text": [
      "80/80 [==============================] - 0s 1ms/step\n"
     ]
    },
    {
     "data": {
      "text/plain": "{'balanced_accuracy': 0.8201511150234742,\n 'f1_score': 0.8249619482496195,\n 'precision': 0.8041543026706232,\n 'recall': 0.846875}"
     },
     "execution_count": 10,
     "metadata": {},
     "output_type": "execute_result"
    }
   ],
   "source": [
    "probas = model.predict(x_test)\n",
    "y_pred = (probas > 0.5).astype('int32')\n",
    "results_stem = calculate_metrics(y_test, y_pred)\n",
    "results_stem"
   ],
   "metadata": {
    "collapsed": false,
    "ExecuteTime": {
     "end_time": "2023-12-04T20:40:43.009069800Z",
     "start_time": "2023-12-04T20:40:42.792071600Z"
    }
   },
   "id": "dc20204a910f2c12"
  },
  {
   "cell_type": "markdown",
   "source": [
    "# Results"
   ],
   "metadata": {
    "collapsed": false
   },
   "id": "a29fa4b22ac41050"
  },
  {
   "cell_type": "code",
   "execution_count": 11,
   "outputs": [
    {
     "data": {
      "text/plain": "   balanced_accuracy  f1_score  precision    recall    model     dataset\n0           0.818193  0.823797   0.799853  0.849219  WordCNN      simple\n1           0.809603  0.813052   0.799245  0.827344  WordCNN  lemmatized\n2           0.820151  0.824962   0.804154  0.846875  WordCNN     stemmed",
      "text/html": "<div>\n<style scoped>\n    .dataframe tbody tr th:only-of-type {\n        vertical-align: middle;\n    }\n\n    .dataframe tbody tr th {\n        vertical-align: top;\n    }\n\n    .dataframe thead th {\n        text-align: right;\n    }\n</style>\n<table border=\"1\" class=\"dataframe\">\n  <thead>\n    <tr style=\"text-align: right;\">\n      <th></th>\n      <th>balanced_accuracy</th>\n      <th>f1_score</th>\n      <th>precision</th>\n      <th>recall</th>\n      <th>model</th>\n      <th>dataset</th>\n    </tr>\n  </thead>\n  <tbody>\n    <tr>\n      <th>0</th>\n      <td>0.818193</td>\n      <td>0.823797</td>\n      <td>0.799853</td>\n      <td>0.849219</td>\n      <td>WordCNN</td>\n      <td>simple</td>\n    </tr>\n    <tr>\n      <th>1</th>\n      <td>0.809603</td>\n      <td>0.813052</td>\n      <td>0.799245</td>\n      <td>0.827344</td>\n      <td>WordCNN</td>\n      <td>lemmatized</td>\n    </tr>\n    <tr>\n      <th>2</th>\n      <td>0.820151</td>\n      <td>0.824962</td>\n      <td>0.804154</td>\n      <td>0.846875</td>\n      <td>WordCNN</td>\n      <td>stemmed</td>\n    </tr>\n  </tbody>\n</table>\n</div>"
     },
     "execution_count": 11,
     "metadata": {},
     "output_type": "execute_result"
    }
   ],
   "source": [
    "# Create csv with all results\n",
    "\n",
    "results_all = pd.DataFrame([results, results_lem, results_stem])\n",
    "results_all['model'] = 'WordCNN'\n",
    "results_all['dataset'] = ['simple', 'lemmatized', 'stemmed']\n",
    "\n",
    "if not os.path.exists('results'):\n",
    "    os.makedirs('results')\n",
    "results_all.to_csv('results/word_cnn.csv', index=False)\n",
    "results_all"
   ],
   "metadata": {
    "collapsed": false,
    "ExecuteTime": {
     "end_time": "2023-12-04T20:40:43.039070700Z",
     "start_time": "2023-12-04T20:40:43.010070500Z"
    }
   },
   "id": "23596e7a52f136f8"
  }
 ],
 "metadata": {
  "kernelspec": {
   "display_name": "Python 3",
   "language": "python",
   "name": "python3"
  },
  "language_info": {
   "codemirror_mode": {
    "name": "ipython",
    "version": 2
   },
   "file_extension": ".py",
   "mimetype": "text/x-python",
   "name": "python",
   "nbconvert_exporter": "python",
   "pygments_lexer": "ipython2",
   "version": "2.7.6"
  }
 },
 "nbformat": 4,
 "nbformat_minor": 5
}
