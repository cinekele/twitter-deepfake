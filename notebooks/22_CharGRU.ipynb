{
 "cells": [
  {
   "cell_type": "markdown",
   "metadata": {},
   "source": [
    "# Training CNN model"
   ]
  },
  {
   "cell_type": "code",
   "execution_count": 1,
   "metadata": {
    "ExecuteTime": {
     "end_time": "2023-11-27T21:06:40.752004300Z",
     "start_time": "2023-11-27T21:06:38.801004700Z"
    }
   },
   "outputs": [],
   "source": [
    "import os\n",
    "\n",
    "import keras\n",
    "import numpy as np\n",
    "import pandas as pd\n",
    "\n",
    "os.environ['TF_CPP_MIN_LOG_LEVEL'] = '2'\n",
    "from utils.KerasModels import buildCharGRUModel, prepare_data, proba_to_pred, calculate_metrics\n",
    "\n",
    "keras.utils.set_random_seed(812)\n",
    "\n",
    "MODELS_DIR = os.path.join('..', 'models', 'charGRU')\n",
    "EPOCHS = 200"
   ]
  },
  {
   "cell_type": "code",
   "execution_count": 2,
   "metadata": {
    "colab": {
     "base_uri": "https://localhost:8080/",
     "height": 1000
    },
    "colab_type": "code",
    "executionInfo": {
     "elapsed": 41256,
     "status": "ok",
     "timestamp": 1595414564782,
     "user": {
      "displayName": "tizfa data",
      "photoUrl": "",
      "userId": "14479436635515447323"
     },
     "user_tz": -120
    },
    "id": "mBCDg773SZKW",
    "outputId": "cf6255ab-ef46-41fe-bb95-49e0b42acdc0",
    "ExecuteTime": {
     "end_time": "2023-11-27T21:06:42.498004500Z",
     "start_time": "2023-11-27T21:06:40.754004600Z"
    }
   },
   "outputs": [
    {
     "name": "stdout",
     "output_type": "stream",
     "text": [
      "Model: \"model\"\n",
      "_________________________________________________________________\n",
      " Layer (type)                Output Shape              Param #   \n",
      "=================================================================\n",
      " input_1 (InputLayer)        [(None, 320)]             0         \n",
      "                                                                 \n",
      " embedding (Embedding)       (None, 320, 32)           3360      \n",
      "                                                                 \n",
      " bidirectional (Bidirectiona  (None, 1024)             1677312   \n",
      " l)                                                              \n",
      "                                                                 \n",
      " dropout (Dropout)           (None, 1024)              0         \n",
      "                                                                 \n",
      " dense (Dense)               (None, 1)                 1025      \n",
      "                                                                 \n",
      "=================================================================\n",
      "Total params: 1,681,697\n",
      "Trainable params: 1,681,697\n",
      "Non-trainable params: 0\n",
      "_________________________________________________________________\n",
      "None\n"
     ]
    }
   ],
   "source": [
    "os.environ['TF_CPP_MIN_LOG_LEVEL'] = '2'\n",
    "DATA_PATH = os.path.join('..', 'data', 'preprocessed_url_simple')\n",
    "train_features, val_features, test_features, train_labels, val_labels, test_labels, vocab_size = prepare_data(DATA_PATH)\n",
    "\n",
    "model = buildCharGRUModel(vocab_size, embSize=32, inputSize=320)"
   ]
  },
  {
   "cell_type": "code",
   "execution_count": 3,
   "metadata": {
    "colab": {
     "base_uri": "https://localhost:8080/",
     "height": 935
    },
    "colab_type": "code",
    "executionInfo": {
     "elapsed": 114516,
     "status": "ok",
     "timestamp": 1595414638074,
     "user": {
      "displayName": "tizfa data",
      "photoUrl": "",
      "userId": "14479436635515447323"
     },
     "user_tz": -120
    },
    "id": "jo_HHkj3J5Bj",
    "outputId": "02a13f63-86d8-4360-e565-ae948adfc9f3",
    "ExecuteTime": {
     "end_time": "2023-11-27T21:13:28.567008400Z",
     "start_time": "2023-11-27T21:06:42.500005200Z"
    }
   },
   "outputs": [
    {
     "name": "stdout",
     "output_type": "stream",
     "text": [
      "Epoch 1/200\n",
      "81/81 [==============================] - ETA: 0s - loss: 0.6573 - accuracy: 0.6142"
     ]
    },
    {
     "name": "stderr",
     "output_type": "stream",
     "text": [
      "WARNING:absl:Found untraced functions such as gru_cell_1_layer_call_fn, gru_cell_1_layer_call_and_return_conditional_losses, gru_cell_2_layer_call_fn, gru_cell_2_layer_call_and_return_conditional_losses while saving (showing 4 of 4). These functions will not be directly callable after loading.\n"
     ]
    },
    {
     "name": "stdout",
     "output_type": "stream",
     "text": [
      "INFO:tensorflow:Assets written to: ..\\models\\charGRU\\simple\\assets\n"
     ]
    },
    {
     "name": "stderr",
     "output_type": "stream",
     "text": [
      "INFO:tensorflow:Assets written to: ..\\models\\charGRU\\simple\\assets\n"
     ]
    },
    {
     "name": "stdout",
     "output_type": "stream",
     "text": [
      "81/81 [==============================] - 13s 137ms/step - loss: 0.6573 - accuracy: 0.6142 - val_loss: 0.5972 - val_accuracy: 0.6281\n",
      "Epoch 2/200\n",
      "81/81 [==============================] - ETA: 0s - loss: 0.5867 - accuracy: 0.6425"
     ]
    },
    {
     "name": "stderr",
     "output_type": "stream",
     "text": [
      "WARNING:absl:Found untraced functions such as gru_cell_1_layer_call_fn, gru_cell_1_layer_call_and_return_conditional_losses, gru_cell_2_layer_call_fn, gru_cell_2_layer_call_and_return_conditional_losses while saving (showing 4 of 4). These functions will not be directly callable after loading.\n"
     ]
    },
    {
     "name": "stdout",
     "output_type": "stream",
     "text": [
      "INFO:tensorflow:Assets written to: ..\\models\\charGRU\\simple\\assets\n"
     ]
    },
    {
     "name": "stderr",
     "output_type": "stream",
     "text": [
      "INFO:tensorflow:Assets written to: ..\\models\\charGRU\\simple\\assets\n"
     ]
    },
    {
     "name": "stdout",
     "output_type": "stream",
     "text": [
      "81/81 [==============================] - 11s 135ms/step - loss: 0.5867 - accuracy: 0.6425 - val_loss: 0.5832 - val_accuracy: 0.6425\n",
      "Epoch 3/200\n",
      "81/81 [==============================] - ETA: 0s - loss: 0.5784 - accuracy: 0.6611"
     ]
    },
    {
     "name": "stderr",
     "output_type": "stream",
     "text": [
      "WARNING:absl:Found untraced functions such as gru_cell_1_layer_call_fn, gru_cell_1_layer_call_and_return_conditional_losses, gru_cell_2_layer_call_fn, gru_cell_2_layer_call_and_return_conditional_losses while saving (showing 4 of 4). These functions will not be directly callable after loading.\n"
     ]
    },
    {
     "name": "stdout",
     "output_type": "stream",
     "text": [
      "INFO:tensorflow:Assets written to: ..\\models\\charGRU\\simple\\assets\n"
     ]
    },
    {
     "name": "stderr",
     "output_type": "stream",
     "text": [
      "INFO:tensorflow:Assets written to: ..\\models\\charGRU\\simple\\assets\n"
     ]
    },
    {
     "name": "stdout",
     "output_type": "stream",
     "text": [
      "81/81 [==============================] - 11s 135ms/step - loss: 0.5784 - accuracy: 0.6611 - val_loss: 0.5766 - val_accuracy: 0.6620\n",
      "Epoch 4/200\n",
      "81/81 [==============================] - ETA: 0s - loss: 0.5747 - accuracy: 0.6590"
     ]
    },
    {
     "name": "stderr",
     "output_type": "stream",
     "text": [
      "WARNING:absl:Found untraced functions such as gru_cell_1_layer_call_fn, gru_cell_1_layer_call_and_return_conditional_losses, gru_cell_2_layer_call_fn, gru_cell_2_layer_call_and_return_conditional_losses while saving (showing 4 of 4). These functions will not be directly callable after loading.\n"
     ]
    },
    {
     "name": "stdout",
     "output_type": "stream",
     "text": [
      "INFO:tensorflow:Assets written to: ..\\models\\charGRU\\simple\\assets\n"
     ]
    },
    {
     "name": "stderr",
     "output_type": "stream",
     "text": [
      "INFO:tensorflow:Assets written to: ..\\models\\charGRU\\simple\\assets\n"
     ]
    },
    {
     "name": "stdout",
     "output_type": "stream",
     "text": [
      "81/81 [==============================] - 11s 136ms/step - loss: 0.5747 - accuracy: 0.6590 - val_loss: 0.5688 - val_accuracy: 0.6655\n",
      "Epoch 5/200\n",
      "81/81 [==============================] - ETA: 0s - loss: 0.5181 - accuracy: 0.7489"
     ]
    },
    {
     "name": "stderr",
     "output_type": "stream",
     "text": [
      "WARNING:absl:Found untraced functions such as gru_cell_1_layer_call_fn, gru_cell_1_layer_call_and_return_conditional_losses, gru_cell_2_layer_call_fn, gru_cell_2_layer_call_and_return_conditional_losses while saving (showing 4 of 4). These functions will not be directly callable after loading.\n"
     ]
    },
    {
     "name": "stdout",
     "output_type": "stream",
     "text": [
      "INFO:tensorflow:Assets written to: ..\\models\\charGRU\\simple\\assets\n"
     ]
    },
    {
     "name": "stderr",
     "output_type": "stream",
     "text": [
      "INFO:tensorflow:Assets written to: ..\\models\\charGRU\\simple\\assets\n"
     ]
    },
    {
     "name": "stdout",
     "output_type": "stream",
     "text": [
      "81/81 [==============================] - 12s 146ms/step - loss: 0.5181 - accuracy: 0.7489 - val_loss: 0.4756 - val_accuracy: 0.7728\n",
      "Epoch 6/200\n",
      "81/81 [==============================] - ETA: 0s - loss: 0.4444 - accuracy: 0.7982"
     ]
    },
    {
     "name": "stderr",
     "output_type": "stream",
     "text": [
      "WARNING:absl:Found untraced functions such as gru_cell_1_layer_call_fn, gru_cell_1_layer_call_and_return_conditional_losses, gru_cell_2_layer_call_fn, gru_cell_2_layer_call_and_return_conditional_losses while saving (showing 4 of 4). These functions will not be directly callable after loading.\n"
     ]
    },
    {
     "name": "stdout",
     "output_type": "stream",
     "text": [
      "INFO:tensorflow:Assets written to: ..\\models\\charGRU\\simple\\assets\n"
     ]
    },
    {
     "name": "stderr",
     "output_type": "stream",
     "text": [
      "INFO:tensorflow:Assets written to: ..\\models\\charGRU\\simple\\assets\n"
     ]
    },
    {
     "name": "stdout",
     "output_type": "stream",
     "text": [
      "81/81 [==============================] - 11s 135ms/step - loss: 0.4444 - accuracy: 0.7982 - val_loss: 0.4388 - val_accuracy: 0.7819\n",
      "Epoch 7/200\n",
      "81/81 [==============================] - ETA: 0s - loss: 0.4193 - accuracy: 0.8060"
     ]
    },
    {
     "name": "stderr",
     "output_type": "stream",
     "text": [
      "WARNING:absl:Found untraced functions such as gru_cell_1_layer_call_fn, gru_cell_1_layer_call_and_return_conditional_losses, gru_cell_2_layer_call_fn, gru_cell_2_layer_call_and_return_conditional_losses while saving (showing 4 of 4). These functions will not be directly callable after loading.\n"
     ]
    },
    {
     "name": "stdout",
     "output_type": "stream",
     "text": [
      "INFO:tensorflow:Assets written to: ..\\models\\charGRU\\simple\\assets\n"
     ]
    },
    {
     "name": "stderr",
     "output_type": "stream",
     "text": [
      "INFO:tensorflow:Assets written to: ..\\models\\charGRU\\simple\\assets\n"
     ]
    },
    {
     "name": "stdout",
     "output_type": "stream",
     "text": [
      "81/81 [==============================] - 12s 144ms/step - loss: 0.4193 - accuracy: 0.8060 - val_loss: 0.4193 - val_accuracy: 0.8036\n",
      "Epoch 8/200\n",
      "81/81 [==============================] - 8s 90ms/step - loss: 0.4053 - accuracy: 0.8156 - val_loss: 0.4308 - val_accuracy: 0.7945\n",
      "Epoch 9/200\n",
      "81/81 [==============================] - ETA: 0s - loss: 0.4182 - accuracy: 0.8121"
     ]
    },
    {
     "name": "stderr",
     "output_type": "stream",
     "text": [
      "WARNING:absl:Found untraced functions such as gru_cell_1_layer_call_fn, gru_cell_1_layer_call_and_return_conditional_losses, gru_cell_2_layer_call_fn, gru_cell_2_layer_call_and_return_conditional_losses while saving (showing 4 of 4). These functions will not be directly callable after loading.\n"
     ]
    },
    {
     "name": "stdout",
     "output_type": "stream",
     "text": [
      "INFO:tensorflow:Assets written to: ..\\models\\charGRU\\simple\\assets\n"
     ]
    },
    {
     "name": "stderr",
     "output_type": "stream",
     "text": [
      "INFO:tensorflow:Assets written to: ..\\models\\charGRU\\simple\\assets\n"
     ]
    },
    {
     "name": "stdout",
     "output_type": "stream",
     "text": [
      "81/81 [==============================] - 12s 144ms/step - loss: 0.4182 - accuracy: 0.8121 - val_loss: 0.4023 - val_accuracy: 0.8162\n",
      "Epoch 10/200\n",
      "81/81 [==============================] - ETA: 0s - loss: 0.3818 - accuracy: 0.8294"
     ]
    },
    {
     "name": "stderr",
     "output_type": "stream",
     "text": [
      "WARNING:absl:Found untraced functions such as gru_cell_1_layer_call_fn, gru_cell_1_layer_call_and_return_conditional_losses, gru_cell_2_layer_call_fn, gru_cell_2_layer_call_and_return_conditional_losses while saving (showing 4 of 4). These functions will not be directly callable after loading.\n"
     ]
    },
    {
     "name": "stdout",
     "output_type": "stream",
     "text": [
      "INFO:tensorflow:Assets written to: ..\\models\\charGRU\\simple\\assets\n"
     ]
    },
    {
     "name": "stderr",
     "output_type": "stream",
     "text": [
      "INFO:tensorflow:Assets written to: ..\\models\\charGRU\\simple\\assets\n"
     ]
    },
    {
     "name": "stdout",
     "output_type": "stream",
     "text": [
      "81/81 [==============================] - 12s 142ms/step - loss: 0.3818 - accuracy: 0.8294 - val_loss: 0.3916 - val_accuracy: 0.8132\n",
      "Epoch 11/200\n",
      "81/81 [==============================] - 7s 89ms/step - loss: 0.3820 - accuracy: 0.8277 - val_loss: 0.3917 - val_accuracy: 0.8197\n",
      "Epoch 12/200\n",
      "81/81 [==============================] - ETA: 0s - loss: 0.3731 - accuracy: 0.8329"
     ]
    },
    {
     "name": "stderr",
     "output_type": "stream",
     "text": [
      "WARNING:absl:Found untraced functions such as gru_cell_1_layer_call_fn, gru_cell_1_layer_call_and_return_conditional_losses, gru_cell_2_layer_call_fn, gru_cell_2_layer_call_and_return_conditional_losses while saving (showing 4 of 4). These functions will not be directly callable after loading.\n"
     ]
    },
    {
     "name": "stdout",
     "output_type": "stream",
     "text": [
      "INFO:tensorflow:Assets written to: ..\\models\\charGRU\\simple\\assets\n"
     ]
    },
    {
     "name": "stderr",
     "output_type": "stream",
     "text": [
      "INFO:tensorflow:Assets written to: ..\\models\\charGRU\\simple\\assets\n"
     ]
    },
    {
     "name": "stdout",
     "output_type": "stream",
     "text": [
      "81/81 [==============================] - 12s 146ms/step - loss: 0.3731 - accuracy: 0.8329 - val_loss: 0.3853 - val_accuracy: 0.8189\n",
      "Epoch 13/200\n",
      "81/81 [==============================] - ETA: 0s - loss: 0.3709 - accuracy: 0.8338"
     ]
    },
    {
     "name": "stderr",
     "output_type": "stream",
     "text": [
      "WARNING:absl:Found untraced functions such as gru_cell_1_layer_call_fn, gru_cell_1_layer_call_and_return_conditional_losses, gru_cell_2_layer_call_fn, gru_cell_2_layer_call_and_return_conditional_losses while saving (showing 4 of 4). These functions will not be directly callable after loading.\n"
     ]
    },
    {
     "name": "stdout",
     "output_type": "stream",
     "text": [
      "INFO:tensorflow:Assets written to: ..\\models\\charGRU\\simple\\assets\n"
     ]
    },
    {
     "name": "stderr",
     "output_type": "stream",
     "text": [
      "INFO:tensorflow:Assets written to: ..\\models\\charGRU\\simple\\assets\n"
     ]
    },
    {
     "name": "stdout",
     "output_type": "stream",
     "text": [
      "81/81 [==============================] - 11s 136ms/step - loss: 0.3709 - accuracy: 0.8338 - val_loss: 0.3826 - val_accuracy: 0.8175\n",
      "Epoch 14/200\n",
      "81/81 [==============================] - ETA: 0s - loss: 0.3678 - accuracy: 0.8338"
     ]
    },
    {
     "name": "stderr",
     "output_type": "stream",
     "text": [
      "WARNING:absl:Found untraced functions such as gru_cell_1_layer_call_fn, gru_cell_1_layer_call_and_return_conditional_losses, gru_cell_2_layer_call_fn, gru_cell_2_layer_call_and_return_conditional_losses while saving (showing 4 of 4). These functions will not be directly callable after loading.\n"
     ]
    },
    {
     "name": "stdout",
     "output_type": "stream",
     "text": [
      "INFO:tensorflow:Assets written to: ..\\models\\charGRU\\simple\\assets\n"
     ]
    },
    {
     "name": "stderr",
     "output_type": "stream",
     "text": [
      "INFO:tensorflow:Assets written to: ..\\models\\charGRU\\simple\\assets\n"
     ]
    },
    {
     "name": "stdout",
     "output_type": "stream",
     "text": [
      "81/81 [==============================] - 11s 136ms/step - loss: 0.3678 - accuracy: 0.8338 - val_loss: 0.3823 - val_accuracy: 0.8223\n",
      "Epoch 15/200\n",
      "81/81 [==============================] - 7s 85ms/step - loss: 0.3669 - accuracy: 0.8340 - val_loss: 0.3898 - val_accuracy: 0.8132\n",
      "Epoch 16/200\n",
      "81/81 [==============================] - ETA: 0s - loss: 0.3653 - accuracy: 0.8326"
     ]
    },
    {
     "name": "stderr",
     "output_type": "stream",
     "text": [
      "WARNING:absl:Found untraced functions such as gru_cell_1_layer_call_fn, gru_cell_1_layer_call_and_return_conditional_losses, gru_cell_2_layer_call_fn, gru_cell_2_layer_call_and_return_conditional_losses while saving (showing 4 of 4). These functions will not be directly callable after loading.\n"
     ]
    },
    {
     "name": "stdout",
     "output_type": "stream",
     "text": [
      "INFO:tensorflow:Assets written to: ..\\models\\charGRU\\simple\\assets\n"
     ]
    },
    {
     "name": "stderr",
     "output_type": "stream",
     "text": [
      "INFO:tensorflow:Assets written to: ..\\models\\charGRU\\simple\\assets\n"
     ]
    },
    {
     "name": "stdout",
     "output_type": "stream",
     "text": [
      "81/81 [==============================] - 11s 135ms/step - loss: 0.3653 - accuracy: 0.8326 - val_loss: 0.3821 - val_accuracy: 0.8128\n",
      "Epoch 17/200\n",
      "81/81 [==============================] - ETA: 0s - loss: 0.3605 - accuracy: 0.8357"
     ]
    },
    {
     "name": "stderr",
     "output_type": "stream",
     "text": [
      "WARNING:absl:Found untraced functions such as gru_cell_1_layer_call_fn, gru_cell_1_layer_call_and_return_conditional_losses, gru_cell_2_layer_call_fn, gru_cell_2_layer_call_and_return_conditional_losses while saving (showing 4 of 4). These functions will not be directly callable after loading.\n"
     ]
    },
    {
     "name": "stdout",
     "output_type": "stream",
     "text": [
      "INFO:tensorflow:Assets written to: ..\\models\\charGRU\\simple\\assets\n"
     ]
    },
    {
     "name": "stderr",
     "output_type": "stream",
     "text": [
      "INFO:tensorflow:Assets written to: ..\\models\\charGRU\\simple\\assets\n"
     ]
    },
    {
     "name": "stdout",
     "output_type": "stream",
     "text": [
      "81/81 [==============================] - 11s 135ms/step - loss: 0.3605 - accuracy: 0.8357 - val_loss: 0.3729 - val_accuracy: 0.8175\n",
      "Epoch 18/200\n",
      "81/81 [==============================] - 7s 85ms/step - loss: 0.3544 - accuracy: 0.8362 - val_loss: 0.3763 - val_accuracy: 0.8154\n",
      "Epoch 19/200\n",
      "81/81 [==============================] - 7s 85ms/step - loss: 0.3565 - accuracy: 0.8343 - val_loss: 0.3833 - val_accuracy: 0.8219\n",
      "Epoch 20/200\n",
      "81/81 [==============================] - ETA: 0s - loss: 0.3522 - accuracy: 0.8375"
     ]
    },
    {
     "name": "stderr",
     "output_type": "stream",
     "text": [
      "WARNING:absl:Found untraced functions such as gru_cell_1_layer_call_fn, gru_cell_1_layer_call_and_return_conditional_losses, gru_cell_2_layer_call_fn, gru_cell_2_layer_call_and_return_conditional_losses while saving (showing 4 of 4). These functions will not be directly callable after loading.\n"
     ]
    },
    {
     "name": "stdout",
     "output_type": "stream",
     "text": [
      "INFO:tensorflow:Assets written to: ..\\models\\charGRU\\simple\\assets\n"
     ]
    },
    {
     "name": "stderr",
     "output_type": "stream",
     "text": [
      "INFO:tensorflow:Assets written to: ..\\models\\charGRU\\simple\\assets\n"
     ]
    },
    {
     "name": "stdout",
     "output_type": "stream",
     "text": [
      "81/81 [==============================] - 11s 136ms/step - loss: 0.3522 - accuracy: 0.8375 - val_loss: 0.3688 - val_accuracy: 0.8254\n",
      "Epoch 21/200\n",
      "81/81 [==============================] - ETA: 0s - loss: 0.3429 - accuracy: 0.8409"
     ]
    },
    {
     "name": "stderr",
     "output_type": "stream",
     "text": [
      "WARNING:absl:Found untraced functions such as gru_cell_1_layer_call_fn, gru_cell_1_layer_call_and_return_conditional_losses, gru_cell_2_layer_call_fn, gru_cell_2_layer_call_and_return_conditional_losses while saving (showing 4 of 4). These functions will not be directly callable after loading.\n"
     ]
    },
    {
     "name": "stdout",
     "output_type": "stream",
     "text": [
      "INFO:tensorflow:Assets written to: ..\\models\\charGRU\\simple\\assets\n"
     ]
    },
    {
     "name": "stderr",
     "output_type": "stream",
     "text": [
      "INFO:tensorflow:Assets written to: ..\\models\\charGRU\\simple\\assets\n"
     ]
    },
    {
     "name": "stdout",
     "output_type": "stream",
     "text": [
      "81/81 [==============================] - 11s 136ms/step - loss: 0.3429 - accuracy: 0.8409 - val_loss: 0.3675 - val_accuracy: 0.8241\n",
      "Epoch 22/200\n",
      "81/81 [==============================] - ETA: 0s - loss: 0.3436 - accuracy: 0.8386"
     ]
    },
    {
     "name": "stderr",
     "output_type": "stream",
     "text": [
      "WARNING:absl:Found untraced functions such as gru_cell_1_layer_call_fn, gru_cell_1_layer_call_and_return_conditional_losses, gru_cell_2_layer_call_fn, gru_cell_2_layer_call_and_return_conditional_losses while saving (showing 4 of 4). These functions will not be directly callable after loading.\n"
     ]
    },
    {
     "name": "stdout",
     "output_type": "stream",
     "text": [
      "INFO:tensorflow:Assets written to: ..\\models\\charGRU\\simple\\assets\n"
     ]
    },
    {
     "name": "stderr",
     "output_type": "stream",
     "text": [
      "INFO:tensorflow:Assets written to: ..\\models\\charGRU\\simple\\assets\n"
     ]
    },
    {
     "name": "stdout",
     "output_type": "stream",
     "text": [
      "81/81 [==============================] - 11s 135ms/step - loss: 0.3436 - accuracy: 0.8386 - val_loss: 0.3638 - val_accuracy: 0.8319\n",
      "Epoch 23/200\n",
      "81/81 [==============================] - ETA: 0s - loss: 0.3373 - accuracy: 0.8414"
     ]
    },
    {
     "name": "stderr",
     "output_type": "stream",
     "text": [
      "WARNING:absl:Found untraced functions such as gru_cell_1_layer_call_fn, gru_cell_1_layer_call_and_return_conditional_losses, gru_cell_2_layer_call_fn, gru_cell_2_layer_call_and_return_conditional_losses while saving (showing 4 of 4). These functions will not be directly callable after loading.\n"
     ]
    },
    {
     "name": "stdout",
     "output_type": "stream",
     "text": [
      "INFO:tensorflow:Assets written to: ..\\models\\charGRU\\simple\\assets\n"
     ]
    },
    {
     "name": "stderr",
     "output_type": "stream",
     "text": [
      "INFO:tensorflow:Assets written to: ..\\models\\charGRU\\simple\\assets\n"
     ]
    },
    {
     "name": "stdout",
     "output_type": "stream",
     "text": [
      "81/81 [==============================] - 11s 135ms/step - loss: 0.3373 - accuracy: 0.8414 - val_loss: 0.3603 - val_accuracy: 0.8332\n",
      "Epoch 24/200\n",
      "81/81 [==============================] - 7s 85ms/step - loss: 0.3303 - accuracy: 0.8451 - val_loss: 0.3649 - val_accuracy: 0.8371\n",
      "Epoch 25/200\n",
      "81/81 [==============================] - 7s 85ms/step - loss: 0.3326 - accuracy: 0.8436 - val_loss: 0.3625 - val_accuracy: 0.8328\n",
      "Epoch 26/200\n",
      "81/81 [==============================] - ETA: 0s - loss: 0.3274 - accuracy: 0.8467"
     ]
    },
    {
     "name": "stderr",
     "output_type": "stream",
     "text": [
      "WARNING:absl:Found untraced functions such as gru_cell_1_layer_call_fn, gru_cell_1_layer_call_and_return_conditional_losses, gru_cell_2_layer_call_fn, gru_cell_2_layer_call_and_return_conditional_losses while saving (showing 4 of 4). These functions will not be directly callable after loading.\n"
     ]
    },
    {
     "name": "stdout",
     "output_type": "stream",
     "text": [
      "INFO:tensorflow:Assets written to: ..\\models\\charGRU\\simple\\assets\n"
     ]
    },
    {
     "name": "stderr",
     "output_type": "stream",
     "text": [
      "INFO:tensorflow:Assets written to: ..\\models\\charGRU\\simple\\assets\n"
     ]
    },
    {
     "name": "stdout",
     "output_type": "stream",
     "text": [
      "81/81 [==============================] - 11s 136ms/step - loss: 0.3274 - accuracy: 0.8467 - val_loss: 0.3566 - val_accuracy: 0.8328\n",
      "Epoch 27/200\n",
      "81/81 [==============================] - 7s 85ms/step - loss: 0.3229 - accuracy: 0.8470 - val_loss: 0.3595 - val_accuracy: 0.8310\n",
      "Epoch 28/200\n",
      "81/81 [==============================] - ETA: 0s - loss: 0.3183 - accuracy: 0.8498"
     ]
    },
    {
     "name": "stderr",
     "output_type": "stream",
     "text": [
      "WARNING:absl:Found untraced functions such as gru_cell_1_layer_call_fn, gru_cell_1_layer_call_and_return_conditional_losses, gru_cell_2_layer_call_fn, gru_cell_2_layer_call_and_return_conditional_losses while saving (showing 4 of 4). These functions will not be directly callable after loading.\n"
     ]
    },
    {
     "name": "stdout",
     "output_type": "stream",
     "text": [
      "INFO:tensorflow:Assets written to: ..\\models\\charGRU\\simple\\assets\n"
     ]
    },
    {
     "name": "stderr",
     "output_type": "stream",
     "text": [
      "INFO:tensorflow:Assets written to: ..\\models\\charGRU\\simple\\assets\n"
     ]
    },
    {
     "name": "stdout",
     "output_type": "stream",
     "text": [
      "81/81 [==============================] - 11s 135ms/step - loss: 0.3183 - accuracy: 0.8498 - val_loss: 0.3496 - val_accuracy: 0.8336\n",
      "Epoch 29/200\n",
      "81/81 [==============================] - 7s 84ms/step - loss: 0.3444 - accuracy: 0.8391 - val_loss: 0.4007 - val_accuracy: 0.7928\n",
      "Epoch 30/200\n",
      "81/81 [==============================] - 7s 85ms/step - loss: 0.3443 - accuracy: 0.8358 - val_loss: 0.3568 - val_accuracy: 0.8310\n",
      "Epoch 31/200\n",
      "81/81 [==============================] - 7s 85ms/step - loss: 0.3214 - accuracy: 0.8496 - val_loss: 0.3567 - val_accuracy: 0.8267\n",
      "Epoch 32/200\n",
      "81/81 [==============================] - 7s 85ms/step - loss: 0.3154 - accuracy: 0.8509 - val_loss: 0.3519 - val_accuracy: 0.8358\n",
      "Epoch 33/200\n",
      "81/81 [==============================] - 7s 85ms/step - loss: 0.3156 - accuracy: 0.8513 - val_loss: 0.3591 - val_accuracy: 0.8406\n",
      "Epoch 34/200\n",
      "81/81 [==============================] - 7s 85ms/step - loss: 0.3045 - accuracy: 0.8565 - val_loss: 0.3537 - val_accuracy: 0.8288\n",
      "Epoch 35/200\n",
      "81/81 [==============================] - ETA: 0s - loss: 0.3041 - accuracy: 0.8577"
     ]
    },
    {
     "name": "stderr",
     "output_type": "stream",
     "text": [
      "WARNING:absl:Found untraced functions such as gru_cell_1_layer_call_fn, gru_cell_1_layer_call_and_return_conditional_losses, gru_cell_2_layer_call_fn, gru_cell_2_layer_call_and_return_conditional_losses while saving (showing 4 of 4). These functions will not be directly callable after loading.\n"
     ]
    },
    {
     "name": "stdout",
     "output_type": "stream",
     "text": [
      "INFO:tensorflow:Assets written to: ..\\models\\charGRU\\simple\\assets\n"
     ]
    },
    {
     "name": "stderr",
     "output_type": "stream",
     "text": [
      "INFO:tensorflow:Assets written to: ..\\models\\charGRU\\simple\\assets\n"
     ]
    },
    {
     "name": "stdout",
     "output_type": "stream",
     "text": [
      "81/81 [==============================] - 11s 135ms/step - loss: 0.3041 - accuracy: 0.8577 - val_loss: 0.3464 - val_accuracy: 0.8354\n",
      "Epoch 36/200\n",
      "81/81 [==============================] - 7s 85ms/step - loss: 0.2985 - accuracy: 0.8580 - val_loss: 0.3488 - val_accuracy: 0.8354\n",
      "Epoch 37/200\n",
      "81/81 [==============================] - 7s 87ms/step - loss: 0.2942 - accuracy: 0.8631 - val_loss: 0.3488 - val_accuracy: 0.8319\n",
      "Epoch 38/200\n",
      "81/81 [==============================] - 7s 89ms/step - loss: 0.2921 - accuracy: 0.8638 - val_loss: 0.3564 - val_accuracy: 0.8371\n",
      "Epoch 39/200\n",
      "81/81 [==============================] - 7s 85ms/step - loss: 0.2867 - accuracy: 0.8666 - val_loss: 0.3490 - val_accuracy: 0.8397\n",
      "Epoch 40/200\n",
      "81/81 [==============================] - 7s 85ms/step - loss: 0.2816 - accuracy: 0.8689 - val_loss: 0.3573 - val_accuracy: 0.8297\n",
      "Epoch 41/200\n",
      "81/81 [==============================] - 7s 85ms/step - loss: 0.2785 - accuracy: 0.8707 - val_loss: 0.3536 - val_accuracy: 0.8375\n",
      "Epoch 42/200\n",
      "81/81 [==============================] - 7s 85ms/step - loss: 0.2729 - accuracy: 0.8758 - val_loss: 0.3546 - val_accuracy: 0.8367\n",
      "Epoch 43/200\n",
      "81/81 [==============================] - 7s 85ms/step - loss: 0.2667 - accuracy: 0.8779 - val_loss: 0.3646 - val_accuracy: 0.8293\n",
      "Epoch 44/200\n",
      "81/81 [==============================] - 7s 85ms/step - loss: 0.2585 - accuracy: 0.8829 - val_loss: 0.3706 - val_accuracy: 0.8293\n",
      "Epoch 45/200\n",
      "81/81 [==============================] - 7s 85ms/step - loss: 0.2538 - accuracy: 0.8834 - val_loss: 0.3980 - val_accuracy: 0.8354\n"
     ]
    },
    {
     "data": {
      "text/plain": "<keras.callbacks.History at 0x2af01bd2ac0>"
     },
     "execution_count": 3,
     "metadata": {},
     "output_type": "execute_result"
    }
   ],
   "source": [
    "# Train GRU model.\n",
    "os.makedirs(MODELS_DIR, exist_ok=True)\n",
    "early_stopping = keras.callbacks.EarlyStopping(monitor='val_loss', patience=10, restore_best_weights=True)\n",
    "save_best = keras.callbacks.ModelCheckpoint(os.path.join(MODELS_DIR, \"simple\"), monitor='val_loss',\n",
    "                                            save_best_only=True, restore_best_weights=True)\n",
    "model.fit(np.array(train_features), np.array(train_labels), batch_size=256, epochs=EPOCHS,\n",
    "          validation_data=(np.array(val_features), np.array(val_labels)),\n",
    "          callbacks=[early_stopping, save_best])"
   ]
  },
  {
   "cell_type": "code",
   "execution_count": 4,
   "metadata": {
    "colab": {},
    "colab_type": "code",
    "id": "twMr4Dz5KJdG",
    "ExecuteTime": {
     "end_time": "2023-11-27T21:13:30.150008100Z",
     "start_time": "2023-11-27T21:13:28.569009100Z"
    }
   },
   "outputs": [
    {
     "name": "stdout",
     "output_type": "stream",
     "text": [
      "80/80 [==============================] - 2s 16ms/step\n"
     ]
    },
    {
     "data": {
      "text/plain": "{'balanced_accuracy': 0.8353861013302035,\n 'f1_score': 0.8420262664165105,\n 'precision': 0.8101083032490974,\n 'recall': 0.8765625}"
     },
     "execution_count": 4,
     "metadata": {},
     "output_type": "execute_result"
    }
   ],
   "source": [
    "probas = model.predict(np.array(test_features))\n",
    "y_pred = proba_to_pred(probas)\n",
    "results = calculate_metrics(test_labels, y_pred)\n",
    "results"
   ]
  },
  {
   "cell_type": "markdown",
   "metadata": {},
   "source": [
    "# Lemmatized data "
   ]
  },
  {
   "cell_type": "code",
   "execution_count": 5,
   "metadata": {
    "ExecuteTime": {
     "end_time": "2023-11-27T21:13:31.161008600Z",
     "start_time": "2023-11-27T21:13:30.152008100Z"
    }
   },
   "outputs": [
    {
     "name": "stdout",
     "output_type": "stream",
     "text": [
      "Model: \"model_1\"\n",
      "_________________________________________________________________\n",
      " Layer (type)                Output Shape              Param #   \n",
      "=================================================================\n",
      " input_2 (InputLayer)        [(None, 320)]             0         \n",
      "                                                                 \n",
      " embedding_1 (Embedding)     (None, 320, 32)           3360      \n",
      "                                                                 \n",
      " bidirectional_1 (Bidirectio  (None, 1024)             1677312   \n",
      " nal)                                                            \n",
      "                                                                 \n",
      " dropout_1 (Dropout)         (None, 1024)              0         \n",
      "                                                                 \n",
      " dense_1 (Dense)             (None, 1)                 1025      \n",
      "                                                                 \n",
      "=================================================================\n",
      "Total params: 1,681,697\n",
      "Trainable params: 1,681,697\n",
      "Non-trainable params: 0\n",
      "_________________________________________________________________\n",
      "None\n"
     ]
    }
   ],
   "source": [
    "LEMMATIZED_DATA_PATH = os.path.join('..', 'data', 'lemmatized')\n",
    "lem_train_features, lem_val_features, lem_test_features, lem_train_labels, lem_val_labels, lem_test_labels, lem_vocab_size = prepare_data(\n",
    "    LEMMATIZED_DATA_PATH)\n",
    "\n",
    "modelLEM = buildCharGRUModel(lem_vocab_size, embSize=32, inputSize=320)"
   ]
  },
  {
   "cell_type": "code",
   "execution_count": 6,
   "metadata": {
    "colab": {
     "base_uri": "https://localhost:8080/",
     "height": 340
    },
    "colab_type": "code",
    "executionInfo": {
     "elapsed": 116648,
     "status": "ok",
     "timestamp": 1595414640240,
     "user": {
      "displayName": "tizfa data",
      "photoUrl": "",
      "userId": "14479436635515447323"
     },
     "user_tz": -120
    },
    "id": "MFxq59MLEtkh",
    "outputId": "e924c92f-268d-44aa-817b-50248216c2d2",
    "ExecuteTime": {
     "end_time": "2023-11-27T21:16:54.815577700Z",
     "start_time": "2023-11-27T21:13:31.163008400Z"
    }
   },
   "outputs": [
    {
     "name": "stdout",
     "output_type": "stream",
     "text": [
      "Epoch 1/200\n",
      "81/81 [==============================] - ETA: 0s - loss: 0.6263 - accuracy: 0.6208"
     ]
    },
    {
     "name": "stderr",
     "output_type": "stream",
     "text": [
      "WARNING:absl:Found untraced functions such as gru_cell_4_layer_call_fn, gru_cell_4_layer_call_and_return_conditional_losses, gru_cell_5_layer_call_fn, gru_cell_5_layer_call_and_return_conditional_losses while saving (showing 4 of 4). These functions will not be directly callable after loading.\n"
     ]
    },
    {
     "name": "stdout",
     "output_type": "stream",
     "text": [
      "INFO:tensorflow:Assets written to: ..\\models\\charGRU\\lemmatized\\assets\n"
     ]
    },
    {
     "name": "stderr",
     "output_type": "stream",
     "text": [
      "INFO:tensorflow:Assets written to: ..\\models\\charGRU\\lemmatized\\assets\n"
     ]
    },
    {
     "name": "stdout",
     "output_type": "stream",
     "text": [
      "81/81 [==============================] - 13s 137ms/step - loss: 0.6263 - accuracy: 0.6208 - val_loss: 0.5850 - val_accuracy: 0.6412\n",
      "Epoch 2/200\n",
      "81/81 [==============================] - ETA: 0s - loss: 0.5934 - accuracy: 0.6433"
     ]
    },
    {
     "name": "stderr",
     "output_type": "stream",
     "text": [
      "WARNING:absl:Found untraced functions such as gru_cell_4_layer_call_fn, gru_cell_4_layer_call_and_return_conditional_losses, gru_cell_5_layer_call_fn, gru_cell_5_layer_call_and_return_conditional_losses while saving (showing 4 of 4). These functions will not be directly callable after loading.\n"
     ]
    },
    {
     "name": "stdout",
     "output_type": "stream",
     "text": [
      "INFO:tensorflow:Assets written to: ..\\models\\charGRU\\lemmatized\\assets\n"
     ]
    },
    {
     "name": "stderr",
     "output_type": "stream",
     "text": [
      "INFO:tensorflow:Assets written to: ..\\models\\charGRU\\lemmatized\\assets\n"
     ]
    },
    {
     "name": "stdout",
     "output_type": "stream",
     "text": [
      "81/81 [==============================] - 11s 135ms/step - loss: 0.5934 - accuracy: 0.6433 - val_loss: 0.5823 - val_accuracy: 0.6490\n",
      "Epoch 3/200\n",
      "81/81 [==============================] - 7s 84ms/step - loss: 0.5771 - accuracy: 0.6580 - val_loss: 0.5826 - val_accuracy: 0.6421\n",
      "Epoch 4/200\n",
      "81/81 [==============================] - ETA: 0s - loss: 0.5771 - accuracy: 0.6551"
     ]
    },
    {
     "name": "stderr",
     "output_type": "stream",
     "text": [
      "WARNING:absl:Found untraced functions such as gru_cell_4_layer_call_fn, gru_cell_4_layer_call_and_return_conditional_losses, gru_cell_5_layer_call_fn, gru_cell_5_layer_call_and_return_conditional_losses while saving (showing 4 of 4). These functions will not be directly callable after loading.\n"
     ]
    },
    {
     "name": "stdout",
     "output_type": "stream",
     "text": [
      "INFO:tensorflow:Assets written to: ..\\models\\charGRU\\lemmatized\\assets\n"
     ]
    },
    {
     "name": "stderr",
     "output_type": "stream",
     "text": [
      "INFO:tensorflow:Assets written to: ..\\models\\charGRU\\lemmatized\\assets\n"
     ]
    },
    {
     "name": "stdout",
     "output_type": "stream",
     "text": [
      "81/81 [==============================] - 11s 135ms/step - loss: 0.5771 - accuracy: 0.6551 - val_loss: 0.5758 - val_accuracy: 0.6586\n",
      "Epoch 5/200\n",
      "81/81 [==============================] - ETA: 0s - loss: 0.5720 - accuracy: 0.6600"
     ]
    },
    {
     "name": "stderr",
     "output_type": "stream",
     "text": [
      "WARNING:absl:Found untraced functions such as gru_cell_4_layer_call_fn, gru_cell_4_layer_call_and_return_conditional_losses, gru_cell_5_layer_call_fn, gru_cell_5_layer_call_and_return_conditional_losses while saving (showing 4 of 4). These functions will not be directly callable after loading.\n"
     ]
    },
    {
     "name": "stdout",
     "output_type": "stream",
     "text": [
      "INFO:tensorflow:Assets written to: ..\\models\\charGRU\\lemmatized\\assets\n"
     ]
    },
    {
     "name": "stderr",
     "output_type": "stream",
     "text": [
      "INFO:tensorflow:Assets written to: ..\\models\\charGRU\\lemmatized\\assets\n"
     ]
    },
    {
     "name": "stdout",
     "output_type": "stream",
     "text": [
      "81/81 [==============================] - 11s 136ms/step - loss: 0.5720 - accuracy: 0.6600 - val_loss: 0.5683 - val_accuracy: 0.6677\n",
      "Epoch 6/200\n",
      "81/81 [==============================] - 7s 85ms/step - loss: 0.5783 - accuracy: 0.6611 - val_loss: 0.5709 - val_accuracy: 0.6664\n",
      "Epoch 7/200\n",
      "81/81 [==============================] - 7s 83ms/step - loss: 0.7934 - accuracy: 0.6122 - val_loss: 0.6080 - val_accuracy: 0.6195\n",
      "Epoch 8/200\n",
      "81/81 [==============================] - 7s 85ms/step - loss: 0.6446 - accuracy: 0.6127 - val_loss: 0.6027 - val_accuracy: 0.6177\n",
      "Epoch 9/200\n",
      "81/81 [==============================] - 7s 87ms/step - loss: 0.6336 - accuracy: 0.6227 - val_loss: 0.6033 - val_accuracy: 0.6225\n",
      "Epoch 10/200\n",
      "81/81 [==============================] - ETA: 0s - loss: 0.6124 - accuracy: 0.6423"
     ]
    },
    {
     "name": "stderr",
     "output_type": "stream",
     "text": [
      "WARNING:absl:Found untraced functions such as gru_cell_4_layer_call_fn, gru_cell_4_layer_call_and_return_conditional_losses, gru_cell_5_layer_call_fn, gru_cell_5_layer_call_and_return_conditional_losses while saving (showing 4 of 4). These functions will not be directly callable after loading.\n"
     ]
    },
    {
     "name": "stdout",
     "output_type": "stream",
     "text": [
      "INFO:tensorflow:Assets written to: ..\\models\\charGRU\\lemmatized\\assets\n"
     ]
    },
    {
     "name": "stderr",
     "output_type": "stream",
     "text": [
      "INFO:tensorflow:Assets written to: ..\\models\\charGRU\\lemmatized\\assets\n"
     ]
    },
    {
     "name": "stdout",
     "output_type": "stream",
     "text": [
      "81/81 [==============================] - 11s 134ms/step - loss: 0.6124 - accuracy: 0.6423 - val_loss: 0.4759 - val_accuracy: 0.7767\n",
      "Epoch 11/200\n",
      "81/81 [==============================] - ETA: 0s - loss: 0.4523 - accuracy: 0.7940"
     ]
    },
    {
     "name": "stderr",
     "output_type": "stream",
     "text": [
      "WARNING:absl:Found untraced functions such as gru_cell_4_layer_call_fn, gru_cell_4_layer_call_and_return_conditional_losses, gru_cell_5_layer_call_fn, gru_cell_5_layer_call_and_return_conditional_losses while saving (showing 4 of 4). These functions will not be directly callable after loading.\n"
     ]
    },
    {
     "name": "stdout",
     "output_type": "stream",
     "text": [
      "INFO:tensorflow:Assets written to: ..\\models\\charGRU\\lemmatized\\assets\n"
     ]
    },
    {
     "name": "stderr",
     "output_type": "stream",
     "text": [
      "INFO:tensorflow:Assets written to: ..\\models\\charGRU\\lemmatized\\assets\n"
     ]
    },
    {
     "name": "stdout",
     "output_type": "stream",
     "text": [
      "81/81 [==============================] - 11s 134ms/step - loss: 0.4523 - accuracy: 0.7940 - val_loss: 0.4327 - val_accuracy: 0.8019\n",
      "Epoch 12/200\n",
      "81/81 [==============================] - ETA: 0s - loss: 0.4255 - accuracy: 0.8136"
     ]
    },
    {
     "name": "stderr",
     "output_type": "stream",
     "text": [
      "WARNING:absl:Found untraced functions such as gru_cell_4_layer_call_fn, gru_cell_4_layer_call_and_return_conditional_losses, gru_cell_5_layer_call_fn, gru_cell_5_layer_call_and_return_conditional_losses while saving (showing 4 of 4). These functions will not be directly callable after loading.\n"
     ]
    },
    {
     "name": "stdout",
     "output_type": "stream",
     "text": [
      "INFO:tensorflow:Assets written to: ..\\models\\charGRU\\lemmatized\\assets\n"
     ]
    },
    {
     "name": "stderr",
     "output_type": "stream",
     "text": [
      "INFO:tensorflow:Assets written to: ..\\models\\charGRU\\lemmatized\\assets\n"
     ]
    },
    {
     "name": "stdout",
     "output_type": "stream",
     "text": [
      "81/81 [==============================] - 11s 134ms/step - loss: 0.4255 - accuracy: 0.8136 - val_loss: 0.4263 - val_accuracy: 0.8041\n",
      "Epoch 13/200\n",
      "81/81 [==============================] - ETA: 0s - loss: 0.4190 - accuracy: 0.8158"
     ]
    },
    {
     "name": "stderr",
     "output_type": "stream",
     "text": [
      "WARNING:absl:Found untraced functions such as gru_cell_4_layer_call_fn, gru_cell_4_layer_call_and_return_conditional_losses, gru_cell_5_layer_call_fn, gru_cell_5_layer_call_and_return_conditional_losses while saving (showing 4 of 4). These functions will not be directly callable after loading.\n"
     ]
    },
    {
     "name": "stdout",
     "output_type": "stream",
     "text": [
      "INFO:tensorflow:Assets written to: ..\\models\\charGRU\\lemmatized\\assets\n"
     ]
    },
    {
     "name": "stderr",
     "output_type": "stream",
     "text": [
      "INFO:tensorflow:Assets written to: ..\\models\\charGRU\\lemmatized\\assets\n"
     ]
    },
    {
     "name": "stdout",
     "output_type": "stream",
     "text": [
      "81/81 [==============================] - 11s 134ms/step - loss: 0.4190 - accuracy: 0.8158 - val_loss: 0.4247 - val_accuracy: 0.8054\n",
      "Epoch 14/200\n",
      "81/81 [==============================] - ETA: 0s - loss: 0.4083 - accuracy: 0.8213"
     ]
    },
    {
     "name": "stderr",
     "output_type": "stream",
     "text": [
      "WARNING:absl:Found untraced functions such as gru_cell_4_layer_call_fn, gru_cell_4_layer_call_and_return_conditional_losses, gru_cell_5_layer_call_fn, gru_cell_5_layer_call_and_return_conditional_losses while saving (showing 4 of 4). These functions will not be directly callable after loading.\n"
     ]
    },
    {
     "name": "stdout",
     "output_type": "stream",
     "text": [
      "INFO:tensorflow:Assets written to: ..\\models\\charGRU\\lemmatized\\assets\n"
     ]
    },
    {
     "name": "stderr",
     "output_type": "stream",
     "text": [
      "INFO:tensorflow:Assets written to: ..\\models\\charGRU\\lemmatized\\assets\n"
     ]
    },
    {
     "name": "stdout",
     "output_type": "stream",
     "text": [
      "81/81 [==============================] - 11s 135ms/step - loss: 0.4083 - accuracy: 0.8213 - val_loss: 0.4127 - val_accuracy: 0.8154\n",
      "Epoch 15/200\n",
      "81/81 [==============================] - 7s 84ms/step - loss: 0.5171 - accuracy: 0.7250 - val_loss: 0.6132 - val_accuracy: 0.6017\n",
      "Epoch 16/200\n",
      "81/81 [==============================] - 7s 83ms/step - loss: 0.6327 - accuracy: 0.6173 - val_loss: 0.6065 - val_accuracy: 0.6229\n",
      "Epoch 17/200\n",
      "81/81 [==============================] - 7s 84ms/step - loss: 0.6209 - accuracy: 0.6241 - val_loss: 0.6016 - val_accuracy: 0.6125\n",
      "Epoch 18/200\n",
      "81/81 [==============================] - 7s 84ms/step - loss: 0.6187 - accuracy: 0.6241 - val_loss: 0.5993 - val_accuracy: 0.6160\n",
      "Epoch 19/200\n",
      "81/81 [==============================] - 7s 84ms/step - loss: 0.6112 - accuracy: 0.6291 - val_loss: 0.6026 - val_accuracy: 0.6377\n",
      "Epoch 20/200\n",
      "81/81 [==============================] - 7s 84ms/step - loss: 0.6099 - accuracy: 0.6257 - val_loss: 0.5975 - val_accuracy: 0.6151\n",
      "Epoch 21/200\n",
      "81/81 [==============================] - 7s 84ms/step - loss: 0.6074 - accuracy: 0.6252 - val_loss: 0.5970 - val_accuracy: 0.6238\n",
      "Epoch 22/200\n",
      "81/81 [==============================] - 7s 84ms/step - loss: 0.6019 - accuracy: 0.6339 - val_loss: 0.6080 - val_accuracy: 0.6351\n",
      "Epoch 23/200\n",
      "81/81 [==============================] - 7s 84ms/step - loss: 0.6026 - accuracy: 0.6318 - val_loss: 0.5958 - val_accuracy: 0.6286\n",
      "Epoch 24/200\n",
      "81/81 [==============================] - 7s 84ms/step - loss: 0.5992 - accuracy: 0.6362 - val_loss: 0.5949 - val_accuracy: 0.6281\n"
     ]
    },
    {
     "data": {
      "text/plain": "<keras.callbacks.History at 0x2af172b5550>"
     },
     "execution_count": 6,
     "metadata": {},
     "output_type": "execute_result"
    }
   ],
   "source": [
    "# Train CNN model.\n",
    "early_stopping = keras.callbacks.EarlyStopping(monitor='val_loss', patience=10, restore_best_weights=True)\n",
    "save_best = keras.callbacks.ModelCheckpoint(os.path.join(MODELS_DIR, \"lemmatized\"), monitor='val_loss',\n",
    "                                            save_best_only=True, restore_best_weights=True)\n",
    "modelLEM.fit(np.array(lem_train_features), np.array(lem_train_labels), batch_size=256, epochs=EPOCHS,\n",
    "             validation_data=(np.array(lem_val_features), np.array(lem_val_labels)),\n",
    "             callbacks=[early_stopping, save_best])"
   ]
  },
  {
   "cell_type": "code",
   "execution_count": 7,
   "metadata": {
    "colab": {
     "base_uri": "https://localhost:8080/",
     "height": 901
    },
    "colab_type": "code",
    "executionInfo": {
     "elapsed": 1737212,
     "status": "ok",
     "timestamp": 1595416260810,
     "user": {
      "displayName": "tizfa data",
      "photoUrl": "",
      "userId": "14479436635515447323"
     },
     "user_tz": -120
    },
    "id": "EJNNwIy0LsZa",
    "outputId": "aa334d9e-5553-4ec4-a2db-1c472d81e3b6",
    "ExecuteTime": {
     "end_time": "2023-11-27T21:16:56.365576800Z",
     "start_time": "2023-11-27T21:16:54.817578400Z"
    }
   },
   "outputs": [
    {
     "name": "stdout",
     "output_type": "stream",
     "text": [
      "80/80 [==============================] - 1s 16ms/step\n"
     ]
    },
    {
     "data": {
      "text/plain": "{'balanced_accuracy': 0.8243856367370892,\n 'f1_score': 0.8420682377769961,\n 'precision': 0.7658349328214972,\n 'recall': 0.93515625}"
     },
     "execution_count": 7,
     "metadata": {},
     "output_type": "execute_result"
    }
   ],
   "source": [
    "probas_lem = modelLEM.predict(np.array(lem_test_features))\n",
    "y_pred_lem = proba_to_pred(probas_lem)\n",
    "results_lem = calculate_metrics(lem_test_labels, y_pred_lem)\n",
    "results_lem"
   ]
  },
  {
   "cell_type": "markdown",
   "metadata": {},
   "source": [
    "# Stemmed data"
   ]
  },
  {
   "cell_type": "code",
   "execution_count": 8,
   "metadata": {
    "colab": {},
    "colab_type": "code",
    "id": "XMhDOQ0pL1RO",
    "ExecuteTime": {
     "end_time": "2023-11-27T21:16:57.352578100Z",
     "start_time": "2023-11-27T21:16:56.352577200Z"
    }
   },
   "outputs": [
    {
     "name": "stdout",
     "output_type": "stream",
     "text": [
      "Model: \"model_2\"\n",
      "_________________________________________________________________\n",
      " Layer (type)                Output Shape              Param #   \n",
      "=================================================================\n",
      " input_3 (InputLayer)        [(None, 320)]             0         \n",
      "                                                                 \n",
      " embedding_2 (Embedding)     (None, 320, 32)           3360      \n",
      "                                                                 \n",
      " bidirectional_2 (Bidirectio  (None, 1024)             1677312   \n",
      " nal)                                                            \n",
      "                                                                 \n",
      " dropout_2 (Dropout)         (None, 1024)              0         \n",
      "                                                                 \n",
      " dense_2 (Dense)             (None, 1)                 1025      \n",
      "                                                                 \n",
      "=================================================================\n",
      "Total params: 1,681,697\n",
      "Trainable params: 1,681,697\n",
      "Non-trainable params: 0\n",
      "_________________________________________________________________\n",
      "None\n"
     ]
    }
   ],
   "source": [
    "STEMMED_DATA_PATH = os.path.join('..', 'data', 'stemmed')\n",
    "stem_train_features, stem_val_features, stem_test_features, stem_train_labels, stem_val_labels, stem_test_labels, stem_vocab_size = prepare_data(\n",
    "    STEMMED_DATA_PATH)\n",
    "\n",
    "modelSTEM = buildCharGRUModel(stem_vocab_size, embSize=32, inputSize=320)"
   ]
  },
  {
   "cell_type": "code",
   "execution_count": 9,
   "metadata": {
    "colab": {},
    "colab_type": "code",
    "id": "QPDhYLzto39C",
    "ExecuteTime": {
     "end_time": "2023-11-27T21:21:02.193691500Z",
     "start_time": "2023-11-27T21:16:57.355578200Z"
    }
   },
   "outputs": [
    {
     "name": "stdout",
     "output_type": "stream",
     "text": [
      "Epoch 1/200\n",
      "81/81 [==============================] - ETA: 0s - loss: 0.6571 - accuracy: 0.6119"
     ]
    },
    {
     "name": "stderr",
     "output_type": "stream",
     "text": [
      "WARNING:absl:Found untraced functions such as gru_cell_7_layer_call_fn, gru_cell_7_layer_call_and_return_conditional_losses, gru_cell_8_layer_call_fn, gru_cell_8_layer_call_and_return_conditional_losses while saving (showing 4 of 4). These functions will not be directly callable after loading.\n"
     ]
    },
    {
     "name": "stdout",
     "output_type": "stream",
     "text": [
      "INFO:tensorflow:Assets written to: ..\\models\\charGRU\\stemmed\\assets\n"
     ]
    },
    {
     "name": "stderr",
     "output_type": "stream",
     "text": [
      "INFO:tensorflow:Assets written to: ..\\models\\charGRU\\stemmed\\assets\n"
     ]
    },
    {
     "name": "stdout",
     "output_type": "stream",
     "text": [
      "81/81 [==============================] - 13s 139ms/step - loss: 0.6571 - accuracy: 0.6119 - val_loss: 0.5931 - val_accuracy: 0.6381\n",
      "Epoch 2/200\n",
      "81/81 [==============================] - ETA: 0s - loss: 0.5858 - accuracy: 0.6430"
     ]
    },
    {
     "name": "stderr",
     "output_type": "stream",
     "text": [
      "WARNING:absl:Found untraced functions such as gru_cell_7_layer_call_fn, gru_cell_7_layer_call_and_return_conditional_losses, gru_cell_8_layer_call_fn, gru_cell_8_layer_call_and_return_conditional_losses while saving (showing 4 of 4). These functions will not be directly callable after loading.\n"
     ]
    },
    {
     "name": "stdout",
     "output_type": "stream",
     "text": [
      "INFO:tensorflow:Assets written to: ..\\models\\charGRU\\stemmed\\assets\n"
     ]
    },
    {
     "name": "stderr",
     "output_type": "stream",
     "text": [
      "INFO:tensorflow:Assets written to: ..\\models\\charGRU\\stemmed\\assets\n"
     ]
    },
    {
     "name": "stdout",
     "output_type": "stream",
     "text": [
      "81/81 [==============================] - 11s 135ms/step - loss: 0.5858 - accuracy: 0.6430 - val_loss: 0.5821 - val_accuracy: 0.6381\n",
      "Epoch 3/200\n",
      "81/81 [==============================] - ETA: 0s - loss: 0.5791 - accuracy: 0.6556"
     ]
    },
    {
     "name": "stderr",
     "output_type": "stream",
     "text": [
      "WARNING:absl:Found untraced functions such as gru_cell_7_layer_call_fn, gru_cell_7_layer_call_and_return_conditional_losses, gru_cell_8_layer_call_fn, gru_cell_8_layer_call_and_return_conditional_losses while saving (showing 4 of 4). These functions will not be directly callable after loading.\n"
     ]
    },
    {
     "name": "stdout",
     "output_type": "stream",
     "text": [
      "INFO:tensorflow:Assets written to: ..\\models\\charGRU\\stemmed\\assets\n"
     ]
    },
    {
     "name": "stderr",
     "output_type": "stream",
     "text": [
      "INFO:tensorflow:Assets written to: ..\\models\\charGRU\\stemmed\\assets\n"
     ]
    },
    {
     "name": "stdout",
     "output_type": "stream",
     "text": [
      "81/81 [==============================] - 11s 132ms/step - loss: 0.5791 - accuracy: 0.6556 - val_loss: 0.5742 - val_accuracy: 0.6594\n",
      "Epoch 4/200\n",
      "81/81 [==============================] - ETA: 0s - loss: 0.5464 - accuracy: 0.7099"
     ]
    },
    {
     "name": "stderr",
     "output_type": "stream",
     "text": [
      "WARNING:absl:Found untraced functions such as gru_cell_7_layer_call_fn, gru_cell_7_layer_call_and_return_conditional_losses, gru_cell_8_layer_call_fn, gru_cell_8_layer_call_and_return_conditional_losses while saving (showing 4 of 4). These functions will not be directly callable after loading.\n"
     ]
    },
    {
     "name": "stdout",
     "output_type": "stream",
     "text": [
      "INFO:tensorflow:Assets written to: ..\\models\\charGRU\\stemmed\\assets\n"
     ]
    },
    {
     "name": "stderr",
     "output_type": "stream",
     "text": [
      "INFO:tensorflow:Assets written to: ..\\models\\charGRU\\stemmed\\assets\n"
     ]
    },
    {
     "name": "stdout",
     "output_type": "stream",
     "text": [
      "81/81 [==============================] - 11s 138ms/step - loss: 0.5464 - accuracy: 0.7099 - val_loss: 0.4871 - val_accuracy: 0.7689\n",
      "Epoch 5/200\n",
      "81/81 [==============================] - 7s 84ms/step - loss: 0.5624 - accuracy: 0.6783 - val_loss: 0.5739 - val_accuracy: 0.6664\n",
      "Epoch 6/200\n",
      "81/81 [==============================] - 7s 83ms/step - loss: 0.5336 - accuracy: 0.7205 - val_loss: 0.4874 - val_accuracy: 0.7785\n",
      "Epoch 7/200\n",
      "81/81 [==============================] - ETA: 0s - loss: 0.4618 - accuracy: 0.7974"
     ]
    },
    {
     "name": "stderr",
     "output_type": "stream",
     "text": [
      "WARNING:absl:Found untraced functions such as gru_cell_7_layer_call_fn, gru_cell_7_layer_call_and_return_conditional_losses, gru_cell_8_layer_call_fn, gru_cell_8_layer_call_and_return_conditional_losses while saving (showing 4 of 4). These functions will not be directly callable after loading.\n"
     ]
    },
    {
     "name": "stdout",
     "output_type": "stream",
     "text": [
      "INFO:tensorflow:Assets written to: ..\\models\\charGRU\\stemmed\\assets\n"
     ]
    },
    {
     "name": "stderr",
     "output_type": "stream",
     "text": [
      "INFO:tensorflow:Assets written to: ..\\models\\charGRU\\stemmed\\assets\n"
     ]
    },
    {
     "name": "stdout",
     "output_type": "stream",
     "text": [
      "81/81 [==============================] - 11s 134ms/step - loss: 0.4618 - accuracy: 0.7974 - val_loss: 0.4739 - val_accuracy: 0.7798\n",
      "Epoch 8/200\n",
      "81/81 [==============================] - ETA: 0s - loss: 0.4337 - accuracy: 0.8008"
     ]
    },
    {
     "name": "stderr",
     "output_type": "stream",
     "text": [
      "WARNING:absl:Found untraced functions such as gru_cell_7_layer_call_fn, gru_cell_7_layer_call_and_return_conditional_losses, gru_cell_8_layer_call_fn, gru_cell_8_layer_call_and_return_conditional_losses while saving (showing 4 of 4). These functions will not be directly callable after loading.\n"
     ]
    },
    {
     "name": "stdout",
     "output_type": "stream",
     "text": [
      "INFO:tensorflow:Assets written to: ..\\models\\charGRU\\stemmed\\assets\n"
     ]
    },
    {
     "name": "stderr",
     "output_type": "stream",
     "text": [
      "INFO:tensorflow:Assets written to: ..\\models\\charGRU\\stemmed\\assets\n"
     ]
    },
    {
     "name": "stdout",
     "output_type": "stream",
     "text": [
      "81/81 [==============================] - 11s 134ms/step - loss: 0.4337 - accuracy: 0.8008 - val_loss: 0.4309 - val_accuracy: 0.7924\n",
      "Epoch 9/200\n",
      "81/81 [==============================] - ETA: 0s - loss: 0.4125 - accuracy: 0.8079"
     ]
    },
    {
     "name": "stderr",
     "output_type": "stream",
     "text": [
      "WARNING:absl:Found untraced functions such as gru_cell_7_layer_call_fn, gru_cell_7_layer_call_and_return_conditional_losses, gru_cell_8_layer_call_fn, gru_cell_8_layer_call_and_return_conditional_losses while saving (showing 4 of 4). These functions will not be directly callable after loading.\n"
     ]
    },
    {
     "name": "stdout",
     "output_type": "stream",
     "text": [
      "INFO:tensorflow:Assets written to: ..\\models\\charGRU\\stemmed\\assets\n"
     ]
    },
    {
     "name": "stderr",
     "output_type": "stream",
     "text": [
      "INFO:tensorflow:Assets written to: ..\\models\\charGRU\\stemmed\\assets\n"
     ]
    },
    {
     "name": "stdout",
     "output_type": "stream",
     "text": [
      "81/81 [==============================] - 11s 134ms/step - loss: 0.4125 - accuracy: 0.8079 - val_loss: 0.4228 - val_accuracy: 0.7911\n",
      "Epoch 10/200\n",
      "81/81 [==============================] - ETA: 0s - loss: 0.4044 - accuracy: 0.8090"
     ]
    },
    {
     "name": "stderr",
     "output_type": "stream",
     "text": [
      "WARNING:absl:Found untraced functions such as gru_cell_7_layer_call_fn, gru_cell_7_layer_call_and_return_conditional_losses, gru_cell_8_layer_call_fn, gru_cell_8_layer_call_and_return_conditional_losses while saving (showing 4 of 4). These functions will not be directly callable after loading.\n"
     ]
    },
    {
     "name": "stdout",
     "output_type": "stream",
     "text": [
      "INFO:tensorflow:Assets written to: ..\\models\\charGRU\\stemmed\\assets\n"
     ]
    },
    {
     "name": "stderr",
     "output_type": "stream",
     "text": [
      "INFO:tensorflow:Assets written to: ..\\models\\charGRU\\stemmed\\assets\n"
     ]
    },
    {
     "name": "stdout",
     "output_type": "stream",
     "text": [
      "81/81 [==============================] - 11s 135ms/step - loss: 0.4044 - accuracy: 0.8090 - val_loss: 0.4059 - val_accuracy: 0.7954\n",
      "Epoch 11/200\n",
      "81/81 [==============================] - ETA: 0s - loss: 0.3823 - accuracy: 0.8238"
     ]
    },
    {
     "name": "stderr",
     "output_type": "stream",
     "text": [
      "WARNING:absl:Found untraced functions such as gru_cell_7_layer_call_fn, gru_cell_7_layer_call_and_return_conditional_losses, gru_cell_8_layer_call_fn, gru_cell_8_layer_call_and_return_conditional_losses while saving (showing 4 of 4). These functions will not be directly callable after loading.\n"
     ]
    },
    {
     "name": "stdout",
     "output_type": "stream",
     "text": [
      "INFO:tensorflow:Assets written to: ..\\models\\charGRU\\stemmed\\assets\n"
     ]
    },
    {
     "name": "stderr",
     "output_type": "stream",
     "text": [
      "INFO:tensorflow:Assets written to: ..\\models\\charGRU\\stemmed\\assets\n"
     ]
    },
    {
     "name": "stdout",
     "output_type": "stream",
     "text": [
      "81/81 [==============================] - 11s 135ms/step - loss: 0.3823 - accuracy: 0.8238 - val_loss: 0.3878 - val_accuracy: 0.8158\n",
      "Epoch 12/200\n",
      "81/81 [==============================] - 10s 121ms/step - loss: 0.3716 - accuracy: 0.8262 - val_loss: 0.3896 - val_accuracy: 0.8128\n",
      "Epoch 13/200\n",
      "81/81 [==============================] - ETA: 0s - loss: 0.3629 - accuracy: 0.8348"
     ]
    },
    {
     "name": "stderr",
     "output_type": "stream",
     "text": [
      "WARNING:absl:Found untraced functions such as gru_cell_7_layer_call_fn, gru_cell_7_layer_call_and_return_conditional_losses, gru_cell_8_layer_call_fn, gru_cell_8_layer_call_and_return_conditional_losses while saving (showing 4 of 4). These functions will not be directly callable after loading.\n"
     ]
    },
    {
     "name": "stdout",
     "output_type": "stream",
     "text": [
      "INFO:tensorflow:Assets written to: ..\\models\\charGRU\\stemmed\\assets\n"
     ]
    },
    {
     "name": "stderr",
     "output_type": "stream",
     "text": [
      "INFO:tensorflow:Assets written to: ..\\models\\charGRU\\stemmed\\assets\n"
     ]
    },
    {
     "name": "stdout",
     "output_type": "stream",
     "text": [
      "81/81 [==============================] - 11s 137ms/step - loss: 0.3629 - accuracy: 0.8348 - val_loss: 0.3720 - val_accuracy: 0.8189\n",
      "Epoch 14/200\n",
      "81/81 [==============================] - 7s 84ms/step - loss: 0.3547 - accuracy: 0.8367 - val_loss: 0.3722 - val_accuracy: 0.8245\n",
      "Epoch 15/200\n",
      "81/81 [==============================] - 7s 82ms/step - loss: 0.3542 - accuracy: 0.8371 - val_loss: 0.3790 - val_accuracy: 0.8219\n",
      "Epoch 16/200\n",
      "81/81 [==============================] - ETA: 0s - loss: 0.3465 - accuracy: 0.8380"
     ]
    },
    {
     "name": "stderr",
     "output_type": "stream",
     "text": [
      "WARNING:absl:Found untraced functions such as gru_cell_7_layer_call_fn, gru_cell_7_layer_call_and_return_conditional_losses, gru_cell_8_layer_call_fn, gru_cell_8_layer_call_and_return_conditional_losses while saving (showing 4 of 4). These functions will not be directly callable after loading.\n"
     ]
    },
    {
     "name": "stdout",
     "output_type": "stream",
     "text": [
      "INFO:tensorflow:Assets written to: ..\\models\\charGRU\\stemmed\\assets\n"
     ]
    },
    {
     "name": "stderr",
     "output_type": "stream",
     "text": [
      "INFO:tensorflow:Assets written to: ..\\models\\charGRU\\stemmed\\assets\n"
     ]
    },
    {
     "name": "stdout",
     "output_type": "stream",
     "text": [
      "81/81 [==============================] - 11s 134ms/step - loss: 0.3465 - accuracy: 0.8380 - val_loss: 0.3623 - val_accuracy: 0.8249\n",
      "Epoch 17/200\n",
      "81/81 [==============================] - 7s 82ms/step - loss: 0.3449 - accuracy: 0.8363 - val_loss: 0.3691 - val_accuracy: 0.8262\n",
      "Epoch 18/200\n",
      "81/81 [==============================] - ETA: 0s - loss: 0.3399 - accuracy: 0.8385"
     ]
    },
    {
     "name": "stderr",
     "output_type": "stream",
     "text": [
      "WARNING:absl:Found untraced functions such as gru_cell_7_layer_call_fn, gru_cell_7_layer_call_and_return_conditional_losses, gru_cell_8_layer_call_fn, gru_cell_8_layer_call_and_return_conditional_losses while saving (showing 4 of 4). These functions will not be directly callable after loading.\n"
     ]
    },
    {
     "name": "stdout",
     "output_type": "stream",
     "text": [
      "INFO:tensorflow:Assets written to: ..\\models\\charGRU\\stemmed\\assets\n"
     ]
    },
    {
     "name": "stderr",
     "output_type": "stream",
     "text": [
      "INFO:tensorflow:Assets written to: ..\\models\\charGRU\\stemmed\\assets\n"
     ]
    },
    {
     "name": "stdout",
     "output_type": "stream",
     "text": [
      "81/81 [==============================] - 11s 133ms/step - loss: 0.3399 - accuracy: 0.8385 - val_loss: 0.3573 - val_accuracy: 0.8254\n",
      "Epoch 19/200\n",
      "81/81 [==============================] - 7s 81ms/step - loss: nan - accuracy: 0.5435 - val_loss: nan - val_accuracy: 0.4996\n",
      "Epoch 20/200\n",
      "81/81 [==============================] - 7s 81ms/step - loss: nan - accuracy: 0.5001 - val_loss: nan - val_accuracy: 0.4996\n",
      "Epoch 21/200\n",
      "81/81 [==============================] - 7s 83ms/step - loss: nan - accuracy: 0.5001 - val_loss: nan - val_accuracy: 0.4996\n",
      "Epoch 22/200\n",
      "81/81 [==============================] - 7s 85ms/step - loss: nan - accuracy: 0.5001 - val_loss: nan - val_accuracy: 0.4996\n",
      "Epoch 23/200\n",
      "81/81 [==============================] - 7s 83ms/step - loss: nan - accuracy: 0.5001 - val_loss: nan - val_accuracy: 0.4996\n",
      "Epoch 24/200\n",
      "81/81 [==============================] - 7s 83ms/step - loss: nan - accuracy: 0.5001 - val_loss: nan - val_accuracy: 0.4996\n",
      "Epoch 25/200\n",
      "81/81 [==============================] - 7s 82ms/step - loss: nan - accuracy: 0.5001 - val_loss: nan - val_accuracy: 0.4996\n",
      "Epoch 26/200\n",
      "81/81 [==============================] - 7s 83ms/step - loss: nan - accuracy: 0.5001 - val_loss: nan - val_accuracy: 0.4996\n",
      "Epoch 27/200\n",
      "81/81 [==============================] - 7s 82ms/step - loss: nan - accuracy: 0.5001 - val_loss: nan - val_accuracy: 0.4996\n",
      "Epoch 28/200\n",
      "81/81 [==============================] - 7s 83ms/step - loss: nan - accuracy: 0.5001 - val_loss: nan - val_accuracy: 0.4996\n"
     ]
    },
    {
     "data": {
      "text/plain": "<keras.callbacks.History at 0x2af155fd6a0>"
     },
     "execution_count": 9,
     "metadata": {},
     "output_type": "execute_result"
    }
   ],
   "source": [
    "# Train CNN model.\n",
    "early_stopping = keras.callbacks.EarlyStopping(monitor='val_loss', patience=10, restore_best_weights=True)\n",
    "save_best = keras.callbacks.ModelCheckpoint(os.path.join(MODELS_DIR, \"stemmed\"), monitor='val_loss',\n",
    "                                            save_best_only=True, restore_best_weights=True)\n",
    "modelSTEM.fit(np.array(stem_train_features), np.array(stem_train_labels), batch_size=256, epochs=EPOCHS,\n",
    "              validation_data=(np.array(stem_val_features), np.array(stem_val_labels)),\n",
    "              callbacks=[early_stopping, save_best])"
   ]
  },
  {
   "cell_type": "code",
   "execution_count": 10,
   "metadata": {
    "colab": {
     "base_uri": "https://localhost:8080/",
     "height": 170
    },
    "colab_type": "code",
    "executionInfo": {
     "elapsed": 1761852,
     "status": "ok",
     "timestamp": 1595416285460,
     "user": {
      "displayName": "tizfa data",
      "photoUrl": "",
      "userId": "14479436635515447323"
     },
     "user_tz": -120
    },
    "id": "XccqZUzVNhnx",
    "outputId": "b5a715d5-bae8-4b7e-c4a6-30580921829d",
    "ExecuteTime": {
     "end_time": "2023-11-27T21:21:03.714690200Z",
     "start_time": "2023-11-27T21:21:02.196692700Z"
    }
   },
   "outputs": [
    {
     "name": "stdout",
     "output_type": "stream",
     "text": [
      "80/80 [==============================] - 1s 15ms/step\n"
     ]
    },
    {
     "data": {
      "text/plain": "{'balanced_accuracy': 0.8290988116197183,\n 'f1_score': 0.8422952002887045,\n 'precision': 0.7826961770623743,\n 'recall': 0.91171875}"
     },
     "execution_count": 10,
     "metadata": {},
     "output_type": "execute_result"
    }
   ],
   "source": [
    "probas_stem = modelSTEM.predict(np.array(stem_test_features))\n",
    "y_pred_stem = proba_to_pred(probas_stem)\n",
    "results_stem = calculate_metrics(stem_test_labels, y_pred_stem)\n",
    "results_stem"
   ]
  },
  {
   "cell_type": "code",
   "execution_count": 11,
   "metadata": {
    "ExecuteTime": {
     "end_time": "2023-11-27T21:21:03.718690600Z",
     "start_time": "2023-11-27T21:21:03.700691300Z"
    }
   },
   "outputs": [
    {
     "data": {
      "text/plain": "   balanced_accuracy  f1_score  precision    recall    model     dataset\n0           0.835386  0.842026   0.810108  0.876563  CharGRU      simple\n1           0.824386  0.842068   0.765835  0.935156  CharGRU  lemmatized\n2           0.829099  0.842295   0.782696  0.911719  CharGRU     stemmed",
      "text/html": "<div>\n<style scoped>\n    .dataframe tbody tr th:only-of-type {\n        vertical-align: middle;\n    }\n\n    .dataframe tbody tr th {\n        vertical-align: top;\n    }\n\n    .dataframe thead th {\n        text-align: right;\n    }\n</style>\n<table border=\"1\" class=\"dataframe\">\n  <thead>\n    <tr style=\"text-align: right;\">\n      <th></th>\n      <th>balanced_accuracy</th>\n      <th>f1_score</th>\n      <th>precision</th>\n      <th>recall</th>\n      <th>model</th>\n      <th>dataset</th>\n    </tr>\n  </thead>\n  <tbody>\n    <tr>\n      <th>0</th>\n      <td>0.835386</td>\n      <td>0.842026</td>\n      <td>0.810108</td>\n      <td>0.876563</td>\n      <td>CharGRU</td>\n      <td>simple</td>\n    </tr>\n    <tr>\n      <th>1</th>\n      <td>0.824386</td>\n      <td>0.842068</td>\n      <td>0.765835</td>\n      <td>0.935156</td>\n      <td>CharGRU</td>\n      <td>lemmatized</td>\n    </tr>\n    <tr>\n      <th>2</th>\n      <td>0.829099</td>\n      <td>0.842295</td>\n      <td>0.782696</td>\n      <td>0.911719</td>\n      <td>CharGRU</td>\n      <td>stemmed</td>\n    </tr>\n  </tbody>\n</table>\n</div>"
     },
     "execution_count": 11,
     "metadata": {},
     "output_type": "execute_result"
    }
   ],
   "source": [
    "# Create csv with all results\n",
    "\n",
    "results_all = pd.DataFrame([results, results_lem, results_stem])\n",
    "results_all['model'] = 'CharGRU'\n",
    "results_all['dataset'] = ['simple', 'lemmatized', 'stemmed']\n",
    "\n",
    "if not os.path.exists('results'):\n",
    "    os.makedirs('results')\n",
    "results_all.to_csv('results/char_gru.csv', index=False)\n",
    "results_all"
   ]
  }
 ],
 "metadata": {
  "accelerator": "GPU",
  "colab": {
   "authorship_tag": "ABX9TyPYjFqFVG3id3URmVBi+eNL",
   "collapsed_sections": [],
   "name": "CharCNN_Experiments.ipynb",
   "provenance": [
    {
     "file_id": "1UYNHNkk5Yq_dgIhRiVEFiswGzUJ-pdgs",
     "timestamp": 1583167071972
    }
   ]
  },
  "kernelspec": {
   "name": "python3",
   "language": "python",
   "display_name": "Python 3 (ipykernel)"
  },
  "language_info": {
   "codemirror_mode": {
    "name": "ipython",
    "version": 3
   },
   "file_extension": ".py",
   "mimetype": "text/x-python",
   "name": "python",
   "nbconvert_exporter": "python",
   "pygments_lexer": "ipython3",
   "version": "3.11.5"
  }
 },
 "nbformat": 4,
 "nbformat_minor": 0
}
