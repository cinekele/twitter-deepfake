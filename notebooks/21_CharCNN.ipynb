{
 "cells": [
  {
   "cell_type": "markdown",
   "metadata": {},
   "source": [
    "# Training CNN model"
   ]
  },
  {
   "cell_type": "code",
   "execution_count": 1,
   "metadata": {
    "ExecuteTime": {
     "end_time": "2023-11-27T19:08:21.809818700Z",
     "start_time": "2023-11-27T19:08:19.529176Z"
    }
   },
   "outputs": [],
   "source": [
    "import os\n",
    "\n",
    "import keras\n",
    "import numpy as np\n",
    "import pandas as pd\n",
    "from sklearn.metrics import balanced_accuracy_score, f1_score, precision_score, recall_score\n",
    "\n",
    "from utils.KerasModels import buildCharCNNModel\n",
    "from utils.KerasModels import generateExpData\n",
    "\n",
    "keras.utils.set_random_seed(812)\n",
    "MODELS_DIR = os.path.join('..', 'models', 'charCNN')\n",
    "EPOCHS = 200"
   ]
  },
  {
   "cell_type": "code",
   "execution_count": 2,
   "metadata": {
    "ExecuteTime": {
     "end_time": "2023-11-27T19:08:21.825819500Z",
     "start_time": "2023-11-27T19:08:21.811819Z"
    }
   },
   "outputs": [],
   "source": [
    "def prepare_data(data_directory):\n",
    "    train = pd.read_csv(os.path.join(data_directory, 'train.csv'))\n",
    "    validation = pd.read_csv(os.path.join(data_directory, 'validation.csv'))\n",
    "    test = pd.read_csv(os.path.join(data_directory, 'test.csv'))\n",
    "\n",
    "    dfTrainDataset = train[[\"screen_name\", \"text\", \"account.type\"]]\n",
    "    dfValDataset = validation[[\"screen_name\", \"text\", \"account.type\"]]\n",
    "    dfTestDataset = test[[\"screen_name\", \"text\", \"account.type\"]]\n",
    "\n",
    "    tokenizer = None\n",
    "    train_features, tokenizer = generateExpData(dfTrainDataset, tokenizer=tokenizer)\n",
    "    val_features, tokenizer = generateExpData(dfValDataset, tokenizer=tokenizer)\n",
    "    test_features, tokenizer = generateExpData(dfTestDataset, tokenizer=tokenizer)\n",
    "\n",
    "    dictLabels = {\"human\": 0, \"bot\": 1}\n",
    "    y_train = dfTrainDataset[\"account.type\"].apply(lambda x: dictLabels[x])\n",
    "    y_val = dfValDataset[\"account.type\"].apply(lambda x: dictLabels[x])\n",
    "    y_test = dfTestDataset[\"account.type\"].apply(lambda x: dictLabels[x])\n",
    "\n",
    "    train_labels = y_train.tolist()\n",
    "    val_labels = y_val.tolist()\n",
    "    test_labels = y_test.tolist()\n",
    "\n",
    "    vocab_size = len(tokenizer.word_index)\n",
    "\n",
    "    return train_features, val_features, test_features, train_labels, val_labels, test_labels, vocab_size\n",
    "\n",
    "\n",
    "def proba_to_pred(y_proba):\n",
    "    y_pred_char_cnn = (y_proba > 0.5).astype(int)\n",
    "    return y_pred_char_cnn\n",
    "\n",
    "\n",
    "def calculate_metrics(y_true, y_pred):\n",
    "    results = {\n",
    "        'balanced_accuracy': balanced_accuracy_score(y_true, y_pred),\n",
    "        'f1_score': f1_score(y_true, y_pred),\n",
    "        'precision': precision_score(y_true, y_pred),\n",
    "        'recall': recall_score(y_true, y_pred)\n",
    "    }\n",
    "    return results"
   ]
  },
  {
   "cell_type": "code",
   "execution_count": 3,
   "metadata": {
    "colab": {
     "base_uri": "https://localhost:8080/",
     "height": 1000
    },
    "colab_type": "code",
    "executionInfo": {
     "elapsed": 41256,
     "status": "ok",
     "timestamp": 1595414564782,
     "user": {
      "displayName": "tizfa data",
      "photoUrl": "",
      "userId": "14479436635515447323"
     },
     "user_tz": -120
    },
    "id": "mBCDg773SZKW",
    "outputId": "cf6255ab-ef46-41fe-bb95-49e0b42acdc0",
    "ExecuteTime": {
     "end_time": "2023-11-27T19:08:23.180873200Z",
     "start_time": "2023-11-27T19:08:21.823819700Z"
    }
   },
   "outputs": [
    {
     "name": "stdout",
     "output_type": "stream",
     "text": [
      "Model: \"model\"\n",
      "__________________________________________________________________________________________________\n",
      " Layer (type)                   Output Shape         Param #     Connected to                     \n",
      "==================================================================================================\n",
      " input_1 (InputLayer)           [(None, 320)]        0           []                               \n",
      "                                                                                                  \n",
      " embedding (Embedding)          (None, 320, 32)      3360        ['input_1[0][0]']                \n",
      "                                                                                                  \n",
      " conv1d (Conv1D)                (None, 318, 128)     12416       ['embedding[0][0]']              \n",
      "                                                                                                  \n",
      " conv1d_1 (Conv1D)              (None, 317, 128)     16512       ['embedding[0][0]']              \n",
      "                                                                                                  \n",
      " conv1d_2 (Conv1D)              (None, 316, 128)     20608       ['embedding[0][0]']              \n",
      "                                                                                                  \n",
      " global_max_pooling1d (GlobalMa  (None, 128)         0           ['conv1d[0][0]']                 \n",
      " xPooling1D)                                                                                      \n",
      "                                                                                                  \n",
      " global_max_pooling1d_1 (Global  (None, 128)         0           ['conv1d_1[0][0]']               \n",
      " MaxPooling1D)                                                                                    \n",
      "                                                                                                  \n",
      " global_max_pooling1d_2 (Global  (None, 128)         0           ['conv1d_2[0][0]']               \n",
      " MaxPooling1D)                                                                                    \n",
      "                                                                                                  \n",
      " concatenate (Concatenate)      (None, 384)          0           ['global_max_pooling1d[0][0]',   \n",
      "                                                                  'global_max_pooling1d_1[0][0]', \n",
      "                                                                  'global_max_pooling1d_2[0][0]'] \n",
      "                                                                                                  \n",
      " dropout (Dropout)              (None, 384)          0           ['concatenate[0][0]']            \n",
      "                                                                                                  \n",
      " dense (Dense)                  (None, 1)            385         ['dropout[0][0]']                \n",
      "                                                                                                  \n",
      "==================================================================================================\n",
      "Total params: 53,281\n",
      "Trainable params: 53,281\n",
      "Non-trainable params: 0\n",
      "__________________________________________________________________________________________________\n",
      "None\n"
     ]
    }
   ],
   "source": [
    "DATA_PATH = os.path.join('..', 'data', 'preprocessed_url_simple')\n",
    "train_features, val_features, test_features, train_labels, val_labels, test_labels, vocab_size = prepare_data(DATA_PATH)\n",
    "os.makedirs(MODELS_DIR, exist_ok=True)\n",
    "model = buildCharCNNModel(vocab_size, embSize=32, inputSize=320)"
   ]
  },
  {
   "cell_type": "code",
   "execution_count": 4,
   "metadata": {
    "colab": {
     "base_uri": "https://localhost:8080/",
     "height": 935
    },
    "colab_type": "code",
    "executionInfo": {
     "elapsed": 114516,
     "status": "ok",
     "timestamp": 1595414638074,
     "user": {
      "displayName": "tizfa data",
      "photoUrl": "",
      "userId": "14479436635515447323"
     },
     "user_tz": -120
    },
    "id": "jo_HHkj3J5Bj",
    "outputId": "02a13f63-86d8-4360-e565-ae948adfc9f3",
    "ExecuteTime": {
     "end_time": "2023-11-27T19:09:10.907951700Z",
     "start_time": "2023-11-27T19:08:23.179872900Z"
    }
   },
   "outputs": [
    {
     "name": "stdout",
     "output_type": "stream",
     "text": [
      "Epoch 1/200\n",
      "81/81 [==============================] - ETA: 0s - loss: 0.5592 - accuracy: 0.7407"
     ]
    },
    {
     "name": "stderr",
     "output_type": "stream",
     "text": [
      "WARNING:absl:Found untraced functions such as _jit_compiled_convolution_op, _jit_compiled_convolution_op, _jit_compiled_convolution_op while saving (showing 3 of 3). These functions will not be directly callable after loading.\n"
     ]
    },
    {
     "name": "stdout",
     "output_type": "stream",
     "text": [
      "INFO:tensorflow:Assets written to: ..\\models\\charCNN\\simple\\assets\n"
     ]
    },
    {
     "name": "stderr",
     "output_type": "stream",
     "text": [
      "INFO:tensorflow:Assets written to: ..\\models\\charCNN\\simple\\assets\n"
     ]
    },
    {
     "name": "stdout",
     "output_type": "stream",
     "text": [
      "81/81 [==============================] - 4s 23ms/step - loss: 0.5592 - accuracy: 0.7407 - val_loss: 0.4785 - val_accuracy: 0.7641\n",
      "Epoch 2/200\n",
      "79/81 [============================>.] - ETA: 0s - loss: 0.4349 - accuracy: 0.7928"
     ]
    },
    {
     "name": "stderr",
     "output_type": "stream",
     "text": [
      "WARNING:absl:Found untraced functions such as _jit_compiled_convolution_op, _jit_compiled_convolution_op, _jit_compiled_convolution_op while saving (showing 3 of 3). These functions will not be directly callable after loading.\n"
     ]
    },
    {
     "name": "stdout",
     "output_type": "stream",
     "text": [
      "INFO:tensorflow:Assets written to: ..\\models\\charCNN\\simple\\assets\n"
     ]
    },
    {
     "name": "stderr",
     "output_type": "stream",
     "text": [
      "INFO:tensorflow:Assets written to: ..\\models\\charCNN\\simple\\assets\n"
     ]
    },
    {
     "name": "stdout",
     "output_type": "stream",
     "text": [
      "81/81 [==============================] - 2s 19ms/step - loss: 0.4343 - accuracy: 0.7933 - val_loss: 0.4313 - val_accuracy: 0.7889\n",
      "Epoch 3/200\n",
      "78/81 [===========================>..] - ETA: 0s - loss: 0.3998 - accuracy: 0.8074"
     ]
    },
    {
     "name": "stderr",
     "output_type": "stream",
     "text": [
      "WARNING:absl:Found untraced functions such as _jit_compiled_convolution_op, _jit_compiled_convolution_op, _jit_compiled_convolution_op while saving (showing 3 of 3). These functions will not be directly callable after loading.\n"
     ]
    },
    {
     "name": "stdout",
     "output_type": "stream",
     "text": [
      "INFO:tensorflow:Assets written to: ..\\models\\charCNN\\simple\\assets\n"
     ]
    },
    {
     "name": "stderr",
     "output_type": "stream",
     "text": [
      "INFO:tensorflow:Assets written to: ..\\models\\charCNN\\simple\\assets\n"
     ]
    },
    {
     "name": "stdout",
     "output_type": "stream",
     "text": [
      "81/81 [==============================] - 2s 19ms/step - loss: 0.3993 - accuracy: 0.8073 - val_loss: 0.4049 - val_accuracy: 0.8089\n",
      "Epoch 4/200\n",
      "78/81 [===========================>..] - ETA: 0s - loss: 0.3788 - accuracy: 0.8210"
     ]
    },
    {
     "name": "stderr",
     "output_type": "stream",
     "text": [
      "WARNING:absl:Found untraced functions such as _jit_compiled_convolution_op, _jit_compiled_convolution_op, _jit_compiled_convolution_op while saving (showing 3 of 3). These functions will not be directly callable after loading.\n"
     ]
    },
    {
     "name": "stdout",
     "output_type": "stream",
     "text": [
      "INFO:tensorflow:Assets written to: ..\\models\\charCNN\\simple\\assets\n"
     ]
    },
    {
     "name": "stderr",
     "output_type": "stream",
     "text": [
      "INFO:tensorflow:Assets written to: ..\\models\\charCNN\\simple\\assets\n"
     ]
    },
    {
     "name": "stdout",
     "output_type": "stream",
     "text": [
      "81/81 [==============================] - 2s 19ms/step - loss: 0.3784 - accuracy: 0.8210 - val_loss: 0.3886 - val_accuracy: 0.8167\n",
      "Epoch 5/200\n",
      "81/81 [==============================] - ETA: 0s - loss: 0.3684 - accuracy: 0.8259"
     ]
    },
    {
     "name": "stderr",
     "output_type": "stream",
     "text": [
      "WARNING:absl:Found untraced functions such as _jit_compiled_convolution_op, _jit_compiled_convolution_op, _jit_compiled_convolution_op while saving (showing 3 of 3). These functions will not be directly callable after loading.\n"
     ]
    },
    {
     "name": "stdout",
     "output_type": "stream",
     "text": [
      "INFO:tensorflow:Assets written to: ..\\models\\charCNN\\simple\\assets\n"
     ]
    },
    {
     "name": "stderr",
     "output_type": "stream",
     "text": [
      "INFO:tensorflow:Assets written to: ..\\models\\charCNN\\simple\\assets\n"
     ]
    },
    {
     "name": "stdout",
     "output_type": "stream",
     "text": [
      "81/81 [==============================] - 2s 20ms/step - loss: 0.3684 - accuracy: 0.8259 - val_loss: 0.3807 - val_accuracy: 0.8210\n",
      "Epoch 6/200\n",
      "81/81 [==============================] - ETA: 0s - loss: 0.3590 - accuracy: 0.8288"
     ]
    },
    {
     "name": "stderr",
     "output_type": "stream",
     "text": [
      "WARNING:absl:Found untraced functions such as _jit_compiled_convolution_op, _jit_compiled_convolution_op, _jit_compiled_convolution_op while saving (showing 3 of 3). These functions will not be directly callable after loading.\n"
     ]
    },
    {
     "name": "stdout",
     "output_type": "stream",
     "text": [
      "INFO:tensorflow:Assets written to: ..\\models\\charCNN\\simple\\assets\n"
     ]
    },
    {
     "name": "stderr",
     "output_type": "stream",
     "text": [
      "INFO:tensorflow:Assets written to: ..\\models\\charCNN\\simple\\assets\n"
     ]
    },
    {
     "name": "stdout",
     "output_type": "stream",
     "text": [
      "81/81 [==============================] - 2s 20ms/step - loss: 0.3590 - accuracy: 0.8288 - val_loss: 0.3744 - val_accuracy: 0.8341\n",
      "Epoch 7/200\n",
      "78/81 [===========================>..] - ETA: 0s - loss: 0.3505 - accuracy: 0.8339"
     ]
    },
    {
     "name": "stderr",
     "output_type": "stream",
     "text": [
      "WARNING:absl:Found untraced functions such as _jit_compiled_convolution_op, _jit_compiled_convolution_op, _jit_compiled_convolution_op while saving (showing 3 of 3). These functions will not be directly callable after loading.\n"
     ]
    },
    {
     "name": "stdout",
     "output_type": "stream",
     "text": [
      "INFO:tensorflow:Assets written to: ..\\models\\charCNN\\simple\\assets\n"
     ]
    },
    {
     "name": "stderr",
     "output_type": "stream",
     "text": [
      "INFO:tensorflow:Assets written to: ..\\models\\charCNN\\simple\\assets\n"
     ]
    },
    {
     "name": "stdout",
     "output_type": "stream",
     "text": [
      "81/81 [==============================] - 2s 20ms/step - loss: 0.3506 - accuracy: 0.8338 - val_loss: 0.3736 - val_accuracy: 0.8328\n",
      "Epoch 8/200\n",
      "80/81 [============================>.] - ETA: 0s - loss: 0.3428 - accuracy: 0.8379"
     ]
    },
    {
     "name": "stderr",
     "output_type": "stream",
     "text": [
      "WARNING:absl:Found untraced functions such as _jit_compiled_convolution_op, _jit_compiled_convolution_op, _jit_compiled_convolution_op while saving (showing 3 of 3). These functions will not be directly callable after loading.\n"
     ]
    },
    {
     "name": "stdout",
     "output_type": "stream",
     "text": [
      "INFO:tensorflow:Assets written to: ..\\models\\charCNN\\simple\\assets\n"
     ]
    },
    {
     "name": "stderr",
     "output_type": "stream",
     "text": [
      "INFO:tensorflow:Assets written to: ..\\models\\charCNN\\simple\\assets\n"
     ]
    },
    {
     "name": "stdout",
     "output_type": "stream",
     "text": [
      "81/81 [==============================] - 2s 21ms/step - loss: 0.3427 - accuracy: 0.8378 - val_loss: 0.3653 - val_accuracy: 0.8301\n",
      "Epoch 9/200\n",
      "78/81 [===========================>..] - ETA: 0s - loss: 0.3374 - accuracy: 0.8432"
     ]
    },
    {
     "name": "stderr",
     "output_type": "stream",
     "text": [
      "WARNING:absl:Found untraced functions such as _jit_compiled_convolution_op, _jit_compiled_convolution_op, _jit_compiled_convolution_op while saving (showing 3 of 3). These functions will not be directly callable after loading.\n"
     ]
    },
    {
     "name": "stdout",
     "output_type": "stream",
     "text": [
      "INFO:tensorflow:Assets written to: ..\\models\\charCNN\\simple\\assets\n"
     ]
    },
    {
     "name": "stderr",
     "output_type": "stream",
     "text": [
      "INFO:tensorflow:Assets written to: ..\\models\\charCNN\\simple\\assets\n"
     ]
    },
    {
     "name": "stdout",
     "output_type": "stream",
     "text": [
      "81/81 [==============================] - 2s 20ms/step - loss: 0.3375 - accuracy: 0.8434 - val_loss: 0.3623 - val_accuracy: 0.8362\n",
      "Epoch 10/200\n",
      "77/81 [===========================>..] - ETA: 0s - loss: 0.3310 - accuracy: 0.8461"
     ]
    },
    {
     "name": "stderr",
     "output_type": "stream",
     "text": [
      "WARNING:absl:Found untraced functions such as _jit_compiled_convolution_op, _jit_compiled_convolution_op, _jit_compiled_convolution_op while saving (showing 3 of 3). These functions will not be directly callable after loading.\n"
     ]
    },
    {
     "name": "stdout",
     "output_type": "stream",
     "text": [
      "INFO:tensorflow:Assets written to: ..\\models\\charCNN\\simple\\assets\n"
     ]
    },
    {
     "name": "stderr",
     "output_type": "stream",
     "text": [
      "INFO:tensorflow:Assets written to: ..\\models\\charCNN\\simple\\assets\n"
     ]
    },
    {
     "name": "stdout",
     "output_type": "stream",
     "text": [
      "81/81 [==============================] - 2s 20ms/step - loss: 0.3319 - accuracy: 0.8455 - val_loss: 0.3556 - val_accuracy: 0.8367\n",
      "Epoch 11/200\n",
      "81/81 [==============================] - ETA: 0s - loss: 0.3240 - accuracy: 0.8506"
     ]
    },
    {
     "name": "stderr",
     "output_type": "stream",
     "text": [
      "WARNING:absl:Found untraced functions such as _jit_compiled_convolution_op, _jit_compiled_convolution_op, _jit_compiled_convolution_op while saving (showing 3 of 3). These functions will not be directly callable after loading.\n"
     ]
    },
    {
     "name": "stdout",
     "output_type": "stream",
     "text": [
      "INFO:tensorflow:Assets written to: ..\\models\\charCNN\\simple\\assets\n"
     ]
    },
    {
     "name": "stderr",
     "output_type": "stream",
     "text": [
      "INFO:tensorflow:Assets written to: ..\\models\\charCNN\\simple\\assets\n"
     ]
    },
    {
     "name": "stdout",
     "output_type": "stream",
     "text": [
      "81/81 [==============================] - 2s 20ms/step - loss: 0.3240 - accuracy: 0.8506 - val_loss: 0.3513 - val_accuracy: 0.8432\n",
      "Epoch 12/200\n",
      "79/81 [============================>.] - ETA: 0s - loss: 0.3173 - accuracy: 0.8548"
     ]
    },
    {
     "name": "stderr",
     "output_type": "stream",
     "text": [
      "WARNING:absl:Found untraced functions such as _jit_compiled_convolution_op, _jit_compiled_convolution_op, _jit_compiled_convolution_op while saving (showing 3 of 3). These functions will not be directly callable after loading.\n"
     ]
    },
    {
     "name": "stdout",
     "output_type": "stream",
     "text": [
      "INFO:tensorflow:Assets written to: ..\\models\\charCNN\\simple\\assets\n"
     ]
    },
    {
     "name": "stderr",
     "output_type": "stream",
     "text": [
      "INFO:tensorflow:Assets written to: ..\\models\\charCNN\\simple\\assets\n"
     ]
    },
    {
     "name": "stdout",
     "output_type": "stream",
     "text": [
      "81/81 [==============================] - 2s 20ms/step - loss: 0.3170 - accuracy: 0.8552 - val_loss: 0.3498 - val_accuracy: 0.8384\n",
      "Epoch 13/200\n",
      "78/81 [===========================>..] - ETA: 0s - loss: 0.3089 - accuracy: 0.8587"
     ]
    },
    {
     "name": "stderr",
     "output_type": "stream",
     "text": [
      "WARNING:absl:Found untraced functions such as _jit_compiled_convolution_op, _jit_compiled_convolution_op, _jit_compiled_convolution_op while saving (showing 3 of 3). These functions will not be directly callable after loading.\n"
     ]
    },
    {
     "name": "stdout",
     "output_type": "stream",
     "text": [
      "INFO:tensorflow:Assets written to: ..\\models\\charCNN\\simple\\assets\n"
     ]
    },
    {
     "name": "stderr",
     "output_type": "stream",
     "text": [
      "INFO:tensorflow:Assets written to: ..\\models\\charCNN\\simple\\assets\n"
     ]
    },
    {
     "name": "stdout",
     "output_type": "stream",
     "text": [
      "81/81 [==============================] - 2s 19ms/step - loss: 0.3089 - accuracy: 0.8587 - val_loss: 0.3477 - val_accuracy: 0.8393\n",
      "Epoch 14/200\n",
      "81/81 [==============================] - 1s 13ms/step - loss: 0.3033 - accuracy: 0.8620 - val_loss: 0.3482 - val_accuracy: 0.8349\n",
      "Epoch 15/200\n",
      "78/81 [===========================>..] - ETA: 0s - loss: 0.3009 - accuracy: 0.8638"
     ]
    },
    {
     "name": "stderr",
     "output_type": "stream",
     "text": [
      "WARNING:absl:Found untraced functions such as _jit_compiled_convolution_op, _jit_compiled_convolution_op, _jit_compiled_convolution_op while saving (showing 3 of 3). These functions will not be directly callable after loading.\n"
     ]
    },
    {
     "name": "stdout",
     "output_type": "stream",
     "text": [
      "INFO:tensorflow:Assets written to: ..\\models\\charCNN\\simple\\assets\n"
     ]
    },
    {
     "name": "stderr",
     "output_type": "stream",
     "text": [
      "INFO:tensorflow:Assets written to: ..\\models\\charCNN\\simple\\assets\n"
     ]
    },
    {
     "name": "stdout",
     "output_type": "stream",
     "text": [
      "81/81 [==============================] - 2s 19ms/step - loss: 0.3000 - accuracy: 0.8642 - val_loss: 0.3465 - val_accuracy: 0.8436\n",
      "Epoch 16/200\n",
      "81/81 [==============================] - 1s 13ms/step - loss: 0.2911 - accuracy: 0.8669 - val_loss: 0.3500 - val_accuracy: 0.8288\n",
      "Epoch 17/200\n",
      "81/81 [==============================] - 1s 13ms/step - loss: 0.2894 - accuracy: 0.8682 - val_loss: 0.3475 - val_accuracy: 0.8397\n",
      "Epoch 18/200\n",
      "78/81 [===========================>..] - ETA: 0s - loss: 0.2816 - accuracy: 0.8741"
     ]
    },
    {
     "name": "stderr",
     "output_type": "stream",
     "text": [
      "WARNING:absl:Found untraced functions such as _jit_compiled_convolution_op, _jit_compiled_convolution_op, _jit_compiled_convolution_op while saving (showing 3 of 3). These functions will not be directly callable after loading.\n"
     ]
    },
    {
     "name": "stdout",
     "output_type": "stream",
     "text": [
      "INFO:tensorflow:Assets written to: ..\\models\\charCNN\\simple\\assets\n"
     ]
    },
    {
     "name": "stderr",
     "output_type": "stream",
     "text": [
      "INFO:tensorflow:Assets written to: ..\\models\\charCNN\\simple\\assets\n"
     ]
    },
    {
     "name": "stdout",
     "output_type": "stream",
     "text": [
      "81/81 [==============================] - 2s 19ms/step - loss: 0.2807 - accuracy: 0.8743 - val_loss: 0.3453 - val_accuracy: 0.8414\n",
      "Epoch 19/200\n",
      "81/81 [==============================] - 1s 13ms/step - loss: 0.2767 - accuracy: 0.8764 - val_loss: 0.3454 - val_accuracy: 0.8336\n",
      "Epoch 20/200\n",
      "81/81 [==============================] - ETA: 0s - loss: 0.2692 - accuracy: 0.8834"
     ]
    },
    {
     "name": "stderr",
     "output_type": "stream",
     "text": [
      "WARNING:absl:Found untraced functions such as _jit_compiled_convolution_op, _jit_compiled_convolution_op, _jit_compiled_convolution_op while saving (showing 3 of 3). These functions will not be directly callable after loading.\n"
     ]
    },
    {
     "name": "stdout",
     "output_type": "stream",
     "text": [
      "INFO:tensorflow:Assets written to: ..\\models\\charCNN\\simple\\assets\n"
     ]
    },
    {
     "name": "stderr",
     "output_type": "stream",
     "text": [
      "INFO:tensorflow:Assets written to: ..\\models\\charCNN\\simple\\assets\n"
     ]
    },
    {
     "name": "stdout",
     "output_type": "stream",
     "text": [
      "81/81 [==============================] - 2s 20ms/step - loss: 0.2692 - accuracy: 0.8834 - val_loss: 0.3438 - val_accuracy: 0.8475\n",
      "Epoch 21/200\n",
      "81/81 [==============================] - 1s 13ms/step - loss: 0.2661 - accuracy: 0.8830 - val_loss: 0.3443 - val_accuracy: 0.8401\n",
      "Epoch 22/200\n",
      "81/81 [==============================] - 1s 15ms/step - loss: 0.2573 - accuracy: 0.8896 - val_loss: 0.3529 - val_accuracy: 0.8219\n",
      "Epoch 23/200\n",
      "80/81 [============================>.] - ETA: 0s - loss: 0.2543 - accuracy: 0.8905"
     ]
    },
    {
     "name": "stderr",
     "output_type": "stream",
     "text": [
      "WARNING:absl:Found untraced functions such as _jit_compiled_convolution_op, _jit_compiled_convolution_op, _jit_compiled_convolution_op while saving (showing 3 of 3). These functions will not be directly callable after loading.\n"
     ]
    },
    {
     "name": "stdout",
     "output_type": "stream",
     "text": [
      "INFO:tensorflow:Assets written to: ..\\models\\charCNN\\simple\\assets\n"
     ]
    },
    {
     "name": "stderr",
     "output_type": "stream",
     "text": [
      "INFO:tensorflow:Assets written to: ..\\models\\charCNN\\simple\\assets\n"
     ]
    },
    {
     "name": "stdout",
     "output_type": "stream",
     "text": [
      "81/81 [==============================] - 2s 20ms/step - loss: 0.2545 - accuracy: 0.8901 - val_loss: 0.3421 - val_accuracy: 0.8362\n",
      "Epoch 24/200\n",
      "81/81 [==============================] - 1s 14ms/step - loss: 0.2428 - accuracy: 0.8984 - val_loss: 0.3490 - val_accuracy: 0.8406\n",
      "Epoch 25/200\n",
      "81/81 [==============================] - 1s 15ms/step - loss: 0.2404 - accuracy: 0.8977 - val_loss: 0.3507 - val_accuracy: 0.8388\n",
      "Epoch 26/200\n",
      "81/81 [==============================] - 1s 14ms/step - loss: 0.2348 - accuracy: 0.9013 - val_loss: 0.3479 - val_accuracy: 0.8345\n",
      "Epoch 27/200\n",
      "81/81 [==============================] - 1s 15ms/step - loss: 0.2293 - accuracy: 0.9040 - val_loss: 0.3506 - val_accuracy: 0.8362\n",
      "Epoch 28/200\n",
      "81/81 [==============================] - 1s 14ms/step - loss: 0.2254 - accuracy: 0.9047 - val_loss: 0.3541 - val_accuracy: 0.8288\n",
      "Epoch 29/200\n",
      "81/81 [==============================] - 1s 15ms/step - loss: 0.2204 - accuracy: 0.9082 - val_loss: 0.3566 - val_accuracy: 0.8297\n",
      "Epoch 30/200\n",
      "81/81 [==============================] - 1s 15ms/step - loss: 0.2118 - accuracy: 0.9147 - val_loss: 0.3574 - val_accuracy: 0.8301\n",
      "Epoch 31/200\n",
      "81/81 [==============================] - 1s 14ms/step - loss: 0.2055 - accuracy: 0.9172 - val_loss: 0.3580 - val_accuracy: 0.8371\n",
      "Epoch 32/200\n",
      "81/81 [==============================] - 1s 14ms/step - loss: 0.2009 - accuracy: 0.9193 - val_loss: 0.3635 - val_accuracy: 0.8301\n",
      "Epoch 33/200\n",
      "81/81 [==============================] - 1s 14ms/step - loss: 0.1977 - accuracy: 0.9226 - val_loss: 0.3653 - val_accuracy: 0.8332\n"
     ]
    },
    {
     "data": {
      "text/plain": "<keras.callbacks.History at 0x1bddaf69fd0>"
     },
     "execution_count": 4,
     "metadata": {},
     "output_type": "execute_result"
    }
   ],
   "source": [
    "# Train CNN model.\n",
    "early_stopping = keras.callbacks.EarlyStopping(monitor='val_loss', patience=10, restore_best_weights=True)\n",
    "save_best = keras.callbacks.ModelCheckpoint(os.path.join(MODELS_DIR, \"simple\"), monitor='val_loss',\n",
    "                                            save_best_only=True, restore_best_weights=True)\n",
    "model.fit(np.array(train_features), np.array(train_labels), batch_size=256, epochs=EPOCHS,\n",
    "          validation_data=(np.array(val_features), np.array(val_labels)),\n",
    "          callbacks=[early_stopping, save_best])"
   ]
  },
  {
   "cell_type": "code",
   "execution_count": 5,
   "metadata": {
    "colab": {},
    "colab_type": "code",
    "id": "twMr4Dz5KJdG",
    "ExecuteTime": {
     "end_time": "2023-11-27T19:09:11.161951800Z",
     "start_time": "2023-11-27T19:09:10.909952200Z"
    }
   },
   "outputs": [
    {
     "name": "stdout",
     "output_type": "stream",
     "text": [
      "80/80 [==============================] - 0s 1ms/step\n"
     ]
    },
    {
     "data": {
      "text/plain": "{'balanced_accuracy': 0.8396909233176839,\n 'f1_score': 0.8452830188679246,\n 'precision': 0.8175182481751825,\n 'recall': 0.875}"
     },
     "execution_count": 5,
     "metadata": {},
     "output_type": "execute_result"
    }
   ],
   "source": [
    "probas = model.predict(np.array(test_features))\n",
    "y_pred = proba_to_pred(probas)\n",
    "results = calculate_metrics(test_labels, y_pred)\n",
    "results"
   ]
  },
  {
   "cell_type": "markdown",
   "metadata": {},
   "source": [
    "# Lemmatized data "
   ]
  },
  {
   "cell_type": "code",
   "execution_count": 6,
   "metadata": {
    "ExecuteTime": {
     "end_time": "2023-11-27T19:09:11.912949900Z",
     "start_time": "2023-11-27T19:09:11.162951100Z"
    }
   },
   "outputs": [],
   "source": [
    "LEMMATIZED_DATA_PATH = os.path.join('..', 'data', 'lemmatized')\n",
    "lem_train_features, lem_val_features, lem_test_features, lem_train_labels, lem_val_labels, lem_test_labels, lem_vocab_size = prepare_data(\n",
    "    LEMMATIZED_DATA_PATH)\n",
    "\n",
    "modelLEM = buildCharCNNModel(lem_vocab_size, embSize=32, inputSize=320, verbose=False)"
   ]
  },
  {
   "cell_type": "code",
   "execution_count": 7,
   "metadata": {
    "colab": {
     "base_uri": "https://localhost:8080/",
     "height": 340
    },
    "colab_type": "code",
    "executionInfo": {
     "elapsed": 116648,
     "status": "ok",
     "timestamp": 1595414640240,
     "user": {
      "displayName": "tizfa data",
      "photoUrl": "",
      "userId": "14479436635515447323"
     },
     "user_tz": -120
    },
    "id": "MFxq59MLEtkh",
    "outputId": "e924c92f-268d-44aa-817b-50248216c2d2",
    "ExecuteTime": {
     "end_time": "2023-11-27T19:09:57.921519900Z",
     "start_time": "2023-11-27T19:09:11.912949900Z"
    }
   },
   "outputs": [
    {
     "name": "stdout",
     "output_type": "stream",
     "text": [
      "Epoch 1/200\n",
      "80/81 [============================>.] - ETA: 0s - loss: 0.5575 - accuracy: 0.7444"
     ]
    },
    {
     "name": "stderr",
     "output_type": "stream",
     "text": [
      "WARNING:absl:Found untraced functions such as _jit_compiled_convolution_op, _jit_compiled_convolution_op, _jit_compiled_convolution_op while saving (showing 3 of 3). These functions will not be directly callable after loading.\n"
     ]
    },
    {
     "name": "stdout",
     "output_type": "stream",
     "text": [
      "INFO:tensorflow:Assets written to: ..\\models\\charCNN\\lemmatized\\assets\n"
     ]
    },
    {
     "name": "stderr",
     "output_type": "stream",
     "text": [
      "INFO:tensorflow:Assets written to: ..\\models\\charCNN\\lemmatized\\assets\n"
     ]
    },
    {
     "name": "stdout",
     "output_type": "stream",
     "text": [
      "81/81 [==============================] - 2s 20ms/step - loss: 0.5564 - accuracy: 0.7447 - val_loss: 0.4835 - val_accuracy: 0.7615\n",
      "Epoch 2/200\n",
      "79/81 [============================>.] - ETA: 0s - loss: 0.4398 - accuracy: 0.7913"
     ]
    },
    {
     "name": "stderr",
     "output_type": "stream",
     "text": [
      "WARNING:absl:Found untraced functions such as _jit_compiled_convolution_op, _jit_compiled_convolution_op, _jit_compiled_convolution_op while saving (showing 3 of 3). These functions will not be directly callable after loading.\n"
     ]
    },
    {
     "name": "stdout",
     "output_type": "stream",
     "text": [
      "INFO:tensorflow:Assets written to: ..\\models\\charCNN\\lemmatized\\assets\n"
     ]
    },
    {
     "name": "stderr",
     "output_type": "stream",
     "text": [
      "INFO:tensorflow:Assets written to: ..\\models\\charCNN\\lemmatized\\assets\n"
     ]
    },
    {
     "name": "stdout",
     "output_type": "stream",
     "text": [
      "81/81 [==============================] - 2s 21ms/step - loss: 0.4393 - accuracy: 0.7917 - val_loss: 0.4388 - val_accuracy: 0.7893\n",
      "Epoch 3/200\n",
      "81/81 [==============================] - ETA: 0s - loss: 0.4062 - accuracy: 0.8064"
     ]
    },
    {
     "name": "stderr",
     "output_type": "stream",
     "text": [
      "WARNING:absl:Found untraced functions such as _jit_compiled_convolution_op, _jit_compiled_convolution_op, _jit_compiled_convolution_op while saving (showing 3 of 3). These functions will not be directly callable after loading.\n"
     ]
    },
    {
     "name": "stdout",
     "output_type": "stream",
     "text": [
      "INFO:tensorflow:Assets written to: ..\\models\\charCNN\\lemmatized\\assets\n"
     ]
    },
    {
     "name": "stderr",
     "output_type": "stream",
     "text": [
      "INFO:tensorflow:Assets written to: ..\\models\\charCNN\\lemmatized\\assets\n"
     ]
    },
    {
     "name": "stdout",
     "output_type": "stream",
     "text": [
      "81/81 [==============================] - 2s 20ms/step - loss: 0.4062 - accuracy: 0.8064 - val_loss: 0.4141 - val_accuracy: 0.8002\n",
      "Epoch 4/200\n",
      "77/81 [===========================>..] - ETA: 0s - loss: 0.3861 - accuracy: 0.8170"
     ]
    },
    {
     "name": "stderr",
     "output_type": "stream",
     "text": [
      "WARNING:absl:Found untraced functions such as _jit_compiled_convolution_op, _jit_compiled_convolution_op, _jit_compiled_convolution_op while saving (showing 3 of 3). These functions will not be directly callable after loading.\n"
     ]
    },
    {
     "name": "stdout",
     "output_type": "stream",
     "text": [
      "INFO:tensorflow:Assets written to: ..\\models\\charCNN\\lemmatized\\assets\n"
     ]
    },
    {
     "name": "stderr",
     "output_type": "stream",
     "text": [
      "INFO:tensorflow:Assets written to: ..\\models\\charCNN\\lemmatized\\assets\n"
     ]
    },
    {
     "name": "stdout",
     "output_type": "stream",
     "text": [
      "81/81 [==============================] - 2s 20ms/step - loss: 0.3852 - accuracy: 0.8171 - val_loss: 0.3948 - val_accuracy: 0.8123\n",
      "Epoch 5/200\n",
      "79/81 [============================>.] - ETA: 0s - loss: 0.3702 - accuracy: 0.8233"
     ]
    },
    {
     "name": "stderr",
     "output_type": "stream",
     "text": [
      "WARNING:absl:Found untraced functions such as _jit_compiled_convolution_op, _jit_compiled_convolution_op, _jit_compiled_convolution_op while saving (showing 3 of 3). These functions will not be directly callable after loading.\n"
     ]
    },
    {
     "name": "stdout",
     "output_type": "stream",
     "text": [
      "INFO:tensorflow:Assets written to: ..\\models\\charCNN\\lemmatized\\assets\n"
     ]
    },
    {
     "name": "stderr",
     "output_type": "stream",
     "text": [
      "INFO:tensorflow:Assets written to: ..\\models\\charCNN\\lemmatized\\assets\n"
     ]
    },
    {
     "name": "stdout",
     "output_type": "stream",
     "text": [
      "81/81 [==============================] - 2s 20ms/step - loss: 0.3697 - accuracy: 0.8232 - val_loss: 0.3837 - val_accuracy: 0.8197\n",
      "Epoch 6/200\n",
      "79/81 [============================>.] - ETA: 0s - loss: 0.3609 - accuracy: 0.8289"
     ]
    },
    {
     "name": "stderr",
     "output_type": "stream",
     "text": [
      "WARNING:absl:Found untraced functions such as _jit_compiled_convolution_op, _jit_compiled_convolution_op, _jit_compiled_convolution_op while saving (showing 3 of 3). These functions will not be directly callable after loading.\n"
     ]
    },
    {
     "name": "stdout",
     "output_type": "stream",
     "text": [
      "INFO:tensorflow:Assets written to: ..\\models\\charCNN\\lemmatized\\assets\n"
     ]
    },
    {
     "name": "stderr",
     "output_type": "stream",
     "text": [
      "INFO:tensorflow:Assets written to: ..\\models\\charCNN\\lemmatized\\assets\n"
     ]
    },
    {
     "name": "stdout",
     "output_type": "stream",
     "text": [
      "81/81 [==============================] - 2s 20ms/step - loss: 0.3603 - accuracy: 0.8293 - val_loss: 0.3759 - val_accuracy: 0.8297\n",
      "Epoch 7/200\n",
      "78/81 [===========================>..] - ETA: 0s - loss: 0.3518 - accuracy: 0.8329"
     ]
    },
    {
     "name": "stderr",
     "output_type": "stream",
     "text": [
      "WARNING:absl:Found untraced functions such as _jit_compiled_convolution_op, _jit_compiled_convolution_op, _jit_compiled_convolution_op while saving (showing 3 of 3). These functions will not be directly callable after loading.\n"
     ]
    },
    {
     "name": "stdout",
     "output_type": "stream",
     "text": [
      "INFO:tensorflow:Assets written to: ..\\models\\charCNN\\lemmatized\\assets\n"
     ]
    },
    {
     "name": "stderr",
     "output_type": "stream",
     "text": [
      "INFO:tensorflow:Assets written to: ..\\models\\charCNN\\lemmatized\\assets\n"
     ]
    },
    {
     "name": "stdout",
     "output_type": "stream",
     "text": [
      "81/81 [==============================] - 2s 19ms/step - loss: 0.3522 - accuracy: 0.8328 - val_loss: 0.3754 - val_accuracy: 0.8275\n",
      "Epoch 8/200\n",
      "78/81 [===========================>..] - ETA: 0s - loss: 0.3440 - accuracy: 0.8391"
     ]
    },
    {
     "name": "stderr",
     "output_type": "stream",
     "text": [
      "WARNING:absl:Found untraced functions such as _jit_compiled_convolution_op, _jit_compiled_convolution_op, _jit_compiled_convolution_op while saving (showing 3 of 3). These functions will not be directly callable after loading.\n"
     ]
    },
    {
     "name": "stdout",
     "output_type": "stream",
     "text": [
      "INFO:tensorflow:Assets written to: ..\\models\\charCNN\\lemmatized\\assets\n"
     ]
    },
    {
     "name": "stderr",
     "output_type": "stream",
     "text": [
      "INFO:tensorflow:Assets written to: ..\\models\\charCNN\\lemmatized\\assets\n"
     ]
    },
    {
     "name": "stdout",
     "output_type": "stream",
     "text": [
      "81/81 [==============================] - 2s 20ms/step - loss: 0.3441 - accuracy: 0.8386 - val_loss: 0.3665 - val_accuracy: 0.8328\n",
      "Epoch 9/200\n",
      "79/81 [============================>.] - ETA: 0s - loss: 0.3356 - accuracy: 0.8436"
     ]
    },
    {
     "name": "stderr",
     "output_type": "stream",
     "text": [
      "WARNING:absl:Found untraced functions such as _jit_compiled_convolution_op, _jit_compiled_convolution_op, _jit_compiled_convolution_op while saving (showing 3 of 3). These functions will not be directly callable after loading.\n"
     ]
    },
    {
     "name": "stdout",
     "output_type": "stream",
     "text": [
      "INFO:tensorflow:Assets written to: ..\\models\\charCNN\\lemmatized\\assets\n"
     ]
    },
    {
     "name": "stderr",
     "output_type": "stream",
     "text": [
      "INFO:tensorflow:Assets written to: ..\\models\\charCNN\\lemmatized\\assets\n"
     ]
    },
    {
     "name": "stdout",
     "output_type": "stream",
     "text": [
      "81/81 [==============================] - 2s 20ms/step - loss: 0.3358 - accuracy: 0.8435 - val_loss: 0.3630 - val_accuracy: 0.8406\n",
      "Epoch 10/200\n",
      "77/81 [===========================>..] - ETA: 0s - loss: 0.3292 - accuracy: 0.8470"
     ]
    },
    {
     "name": "stderr",
     "output_type": "stream",
     "text": [
      "WARNING:absl:Found untraced functions such as _jit_compiled_convolution_op, _jit_compiled_convolution_op, _jit_compiled_convolution_op while saving (showing 3 of 3). These functions will not be directly callable after loading.\n"
     ]
    },
    {
     "name": "stdout",
     "output_type": "stream",
     "text": [
      "INFO:tensorflow:Assets written to: ..\\models\\charCNN\\lemmatized\\assets\n"
     ]
    },
    {
     "name": "stderr",
     "output_type": "stream",
     "text": [
      "INFO:tensorflow:Assets written to: ..\\models\\charCNN\\lemmatized\\assets\n"
     ]
    },
    {
     "name": "stdout",
     "output_type": "stream",
     "text": [
      "81/81 [==============================] - 2s 21ms/step - loss: 0.3302 - accuracy: 0.8467 - val_loss: 0.3563 - val_accuracy: 0.8419\n",
      "Epoch 11/200\n",
      "80/81 [============================>.] - ETA: 0s - loss: 0.3241 - accuracy: 0.8490"
     ]
    },
    {
     "name": "stderr",
     "output_type": "stream",
     "text": [
      "WARNING:absl:Found untraced functions such as _jit_compiled_convolution_op, _jit_compiled_convolution_op, _jit_compiled_convolution_op while saving (showing 3 of 3). These functions will not be directly callable after loading.\n"
     ]
    },
    {
     "name": "stdout",
     "output_type": "stream",
     "text": [
      "INFO:tensorflow:Assets written to: ..\\models\\charCNN\\lemmatized\\assets\n"
     ]
    },
    {
     "name": "stderr",
     "output_type": "stream",
     "text": [
      "INFO:tensorflow:Assets written to: ..\\models\\charCNN\\lemmatized\\assets\n"
     ]
    },
    {
     "name": "stdout",
     "output_type": "stream",
     "text": [
      "81/81 [==============================] - 2s 19ms/step - loss: 0.3234 - accuracy: 0.8496 - val_loss: 0.3521 - val_accuracy: 0.8406\n",
      "Epoch 12/200\n",
      "79/81 [============================>.] - ETA: 0s - loss: 0.3174 - accuracy: 0.8532"
     ]
    },
    {
     "name": "stderr",
     "output_type": "stream",
     "text": [
      "WARNING:absl:Found untraced functions such as _jit_compiled_convolution_op, _jit_compiled_convolution_op, _jit_compiled_convolution_op while saving (showing 3 of 3). These functions will not be directly callable after loading.\n"
     ]
    },
    {
     "name": "stdout",
     "output_type": "stream",
     "text": [
      "INFO:tensorflow:Assets written to: ..\\models\\charCNN\\lemmatized\\assets\n"
     ]
    },
    {
     "name": "stderr",
     "output_type": "stream",
     "text": [
      "INFO:tensorflow:Assets written to: ..\\models\\charCNN\\lemmatized\\assets\n"
     ]
    },
    {
     "name": "stdout",
     "output_type": "stream",
     "text": [
      "81/81 [==============================] - 2s 19ms/step - loss: 0.3168 - accuracy: 0.8539 - val_loss: 0.3495 - val_accuracy: 0.8410\n",
      "Epoch 13/200\n",
      "80/81 [============================>.] - ETA: 0s - loss: 0.3088 - accuracy: 0.8593"
     ]
    },
    {
     "name": "stderr",
     "output_type": "stream",
     "text": [
      "WARNING:absl:Found untraced functions such as _jit_compiled_convolution_op, _jit_compiled_convolution_op, _jit_compiled_convolution_op while saving (showing 3 of 3). These functions will not be directly callable after loading.\n"
     ]
    },
    {
     "name": "stdout",
     "output_type": "stream",
     "text": [
      "INFO:tensorflow:Assets written to: ..\\models\\charCNN\\lemmatized\\assets\n"
     ]
    },
    {
     "name": "stderr",
     "output_type": "stream",
     "text": [
      "INFO:tensorflow:Assets written to: ..\\models\\charCNN\\lemmatized\\assets\n"
     ]
    },
    {
     "name": "stdout",
     "output_type": "stream",
     "text": [
      "81/81 [==============================] - 2s 19ms/step - loss: 0.3090 - accuracy: 0.8592 - val_loss: 0.3489 - val_accuracy: 0.8397\n",
      "Epoch 14/200\n",
      "80/81 [============================>.] - ETA: 0s - loss: 0.3027 - accuracy: 0.8627"
     ]
    },
    {
     "name": "stderr",
     "output_type": "stream",
     "text": [
      "WARNING:absl:Found untraced functions such as _jit_compiled_convolution_op, _jit_compiled_convolution_op, _jit_compiled_convolution_op while saving (showing 3 of 3). These functions will not be directly callable after loading.\n"
     ]
    },
    {
     "name": "stdout",
     "output_type": "stream",
     "text": [
      "INFO:tensorflow:Assets written to: ..\\models\\charCNN\\lemmatized\\assets\n"
     ]
    },
    {
     "name": "stderr",
     "output_type": "stream",
     "text": [
      "INFO:tensorflow:Assets written to: ..\\models\\charCNN\\lemmatized\\assets\n"
     ]
    },
    {
     "name": "stdout",
     "output_type": "stream",
     "text": [
      "81/81 [==============================] - 2s 21ms/step - loss: 0.3026 - accuracy: 0.8626 - val_loss: 0.3477 - val_accuracy: 0.8358\n",
      "Epoch 15/200\n",
      "78/81 [===========================>..] - ETA: 0s - loss: 0.2976 - accuracy: 0.8644"
     ]
    },
    {
     "name": "stderr",
     "output_type": "stream",
     "text": [
      "WARNING:absl:Found untraced functions such as _jit_compiled_convolution_op, _jit_compiled_convolution_op, _jit_compiled_convolution_op while saving (showing 3 of 3). These functions will not be directly callable after loading.\n"
     ]
    },
    {
     "name": "stdout",
     "output_type": "stream",
     "text": [
      "INFO:tensorflow:Assets written to: ..\\models\\charCNN\\lemmatized\\assets\n"
     ]
    },
    {
     "name": "stderr",
     "output_type": "stream",
     "text": [
      "INFO:tensorflow:Assets written to: ..\\models\\charCNN\\lemmatized\\assets\n"
     ]
    },
    {
     "name": "stdout",
     "output_type": "stream",
     "text": [
      "81/81 [==============================] - 2s 21ms/step - loss: 0.2970 - accuracy: 0.8648 - val_loss: 0.3471 - val_accuracy: 0.8410\n",
      "Epoch 16/200\n",
      "81/81 [==============================] - 1s 14ms/step - loss: 0.2904 - accuracy: 0.8695 - val_loss: 0.3548 - val_accuracy: 0.8241\n",
      "Epoch 17/200\n",
      "81/81 [==============================] - 1s 13ms/step - loss: 0.2893 - accuracy: 0.8697 - val_loss: 0.3506 - val_accuracy: 0.8467\n",
      "Epoch 18/200\n",
      "81/81 [==============================] - ETA: 0s - loss: 0.2802 - accuracy: 0.8753"
     ]
    },
    {
     "name": "stderr",
     "output_type": "stream",
     "text": [
      "WARNING:absl:Found untraced functions such as _jit_compiled_convolution_op, _jit_compiled_convolution_op, _jit_compiled_convolution_op while saving (showing 3 of 3). These functions will not be directly callable after loading.\n"
     ]
    },
    {
     "name": "stdout",
     "output_type": "stream",
     "text": [
      "INFO:tensorflow:Assets written to: ..\\models\\charCNN\\lemmatized\\assets\n"
     ]
    },
    {
     "name": "stderr",
     "output_type": "stream",
     "text": [
      "INFO:tensorflow:Assets written to: ..\\models\\charCNN\\lemmatized\\assets\n"
     ]
    },
    {
     "name": "stdout",
     "output_type": "stream",
     "text": [
      "81/81 [==============================] - 2s 19ms/step - loss: 0.2802 - accuracy: 0.8753 - val_loss: 0.3444 - val_accuracy: 0.8414\n",
      "Epoch 19/200\n",
      "81/81 [==============================] - 1s 13ms/step - loss: 0.2733 - accuracy: 0.8773 - val_loss: 0.3458 - val_accuracy: 0.8371\n",
      "Epoch 20/200\n",
      "78/81 [===========================>..] - ETA: 0s - loss: 0.2678 - accuracy: 0.8851"
     ]
    },
    {
     "name": "stderr",
     "output_type": "stream",
     "text": [
      "WARNING:absl:Found untraced functions such as _jit_compiled_convolution_op, _jit_compiled_convolution_op, _jit_compiled_convolution_op while saving (showing 3 of 3). These functions will not be directly callable after loading.\n"
     ]
    },
    {
     "name": "stdout",
     "output_type": "stream",
     "text": [
      "INFO:tensorflow:Assets written to: ..\\models\\charCNN\\lemmatized\\assets\n"
     ]
    },
    {
     "name": "stderr",
     "output_type": "stream",
     "text": [
      "INFO:tensorflow:Assets written to: ..\\models\\charCNN\\lemmatized\\assets\n"
     ]
    },
    {
     "name": "stdout",
     "output_type": "stream",
     "text": [
      "81/81 [==============================] - 2s 19ms/step - loss: 0.2676 - accuracy: 0.8846 - val_loss: 0.3441 - val_accuracy: 0.8467\n",
      "Epoch 21/200\n",
      "81/81 [==============================] - ETA: 0s - loss: 0.2653 - accuracy: 0.8844"
     ]
    },
    {
     "name": "stderr",
     "output_type": "stream",
     "text": [
      "WARNING:absl:Found untraced functions such as _jit_compiled_convolution_op, _jit_compiled_convolution_op, _jit_compiled_convolution_op while saving (showing 3 of 3). These functions will not be directly callable after loading.\n"
     ]
    },
    {
     "name": "stdout",
     "output_type": "stream",
     "text": [
      "INFO:tensorflow:Assets written to: ..\\models\\charCNN\\lemmatized\\assets\n"
     ]
    },
    {
     "name": "stderr",
     "output_type": "stream",
     "text": [
      "INFO:tensorflow:Assets written to: ..\\models\\charCNN\\lemmatized\\assets\n"
     ]
    },
    {
     "name": "stdout",
     "output_type": "stream",
     "text": [
      "81/81 [==============================] - 2s 21ms/step - loss: 0.2653 - accuracy: 0.8844 - val_loss: 0.3419 - val_accuracy: 0.8414\n",
      "Epoch 22/200\n",
      "81/81 [==============================] - 1s 13ms/step - loss: 0.2552 - accuracy: 0.8896 - val_loss: 0.3535 - val_accuracy: 0.8219\n",
      "Epoch 23/200\n",
      "79/81 [============================>.] - ETA: 0s - loss: 0.2538 - accuracy: 0.8922"
     ]
    },
    {
     "name": "stderr",
     "output_type": "stream",
     "text": [
      "WARNING:absl:Found untraced functions such as _jit_compiled_convolution_op, _jit_compiled_convolution_op, _jit_compiled_convolution_op while saving (showing 3 of 3). These functions will not be directly callable after loading.\n"
     ]
    },
    {
     "name": "stdout",
     "output_type": "stream",
     "text": [
      "INFO:tensorflow:Assets written to: ..\\models\\charCNN\\lemmatized\\assets\n"
     ]
    },
    {
     "name": "stderr",
     "output_type": "stream",
     "text": [
      "INFO:tensorflow:Assets written to: ..\\models\\charCNN\\lemmatized\\assets\n"
     ]
    },
    {
     "name": "stdout",
     "output_type": "stream",
     "text": [
      "81/81 [==============================] - 2s 20ms/step - loss: 0.2539 - accuracy: 0.8919 - val_loss: 0.3416 - val_accuracy: 0.8367\n",
      "Epoch 24/200\n",
      "81/81 [==============================] - 1s 13ms/step - loss: 0.2425 - accuracy: 0.8989 - val_loss: 0.3453 - val_accuracy: 0.8471\n",
      "Epoch 25/200\n",
      "81/81 [==============================] - 1s 14ms/step - loss: 0.2400 - accuracy: 0.8990 - val_loss: 0.3449 - val_accuracy: 0.8488\n",
      "Epoch 26/200\n",
      "81/81 [==============================] - 1s 13ms/step - loss: 0.2329 - accuracy: 0.9030 - val_loss: 0.3446 - val_accuracy: 0.8419\n",
      "Epoch 27/200\n",
      "81/81 [==============================] - 1s 13ms/step - loss: 0.2288 - accuracy: 0.9058 - val_loss: 0.3518 - val_accuracy: 0.8445\n",
      "Epoch 28/200\n",
      "81/81 [==============================] - 1s 13ms/step - loss: 0.2216 - accuracy: 0.9115 - val_loss: 0.3489 - val_accuracy: 0.8397\n",
      "Epoch 29/200\n",
      "81/81 [==============================] - 1s 13ms/step - loss: 0.2178 - accuracy: 0.9092 - val_loss: 0.3535 - val_accuracy: 0.8467\n",
      "Epoch 30/200\n",
      "81/81 [==============================] - 1s 13ms/step - loss: 0.2088 - accuracy: 0.9172 - val_loss: 0.3506 - val_accuracy: 0.8401\n",
      "Epoch 31/200\n",
      "81/81 [==============================] - 1s 13ms/step - loss: 0.2041 - accuracy: 0.9168 - val_loss: 0.3515 - val_accuracy: 0.8480\n",
      "Epoch 32/200\n",
      "81/81 [==============================] - 1s 13ms/step - loss: 0.1985 - accuracy: 0.9206 - val_loss: 0.3589 - val_accuracy: 0.8362\n",
      "Epoch 33/200\n",
      "81/81 [==============================] - 1s 13ms/step - loss: 0.1938 - accuracy: 0.9233 - val_loss: 0.3666 - val_accuracy: 0.8414\n"
     ]
    },
    {
     "data": {
      "text/plain": "<keras.callbacks.History at 0x1bddad76160>"
     },
     "execution_count": 7,
     "metadata": {},
     "output_type": "execute_result"
    }
   ],
   "source": [
    "# Train CNN model.\n",
    "early_stopping = keras.callbacks.EarlyStopping(monitor='val_loss', patience=10, restore_best_weights=True)\n",
    "save_best = keras.callbacks.ModelCheckpoint(os.path.join(MODELS_DIR, \"lemmatized\"), monitor='val_loss',\n",
    "                                            save_best_only=True, restore_best_weights=True)\n",
    "modelLEM.fit(np.array(lem_train_features), np.array(lem_train_labels), batch_size=256, epochs=EPOCHS,\n",
    "             validation_data=(np.array(lem_val_features), np.array(lem_val_labels)),\n",
    "             callbacks=[early_stopping, save_best])"
   ]
  },
  {
   "cell_type": "code",
   "execution_count": 8,
   "metadata": {
    "colab": {
     "base_uri": "https://localhost:8080/",
     "height": 901
    },
    "colab_type": "code",
    "executionInfo": {
     "elapsed": 1737212,
     "status": "ok",
     "timestamp": 1595416260810,
     "user": {
      "displayName": "tizfa data",
      "photoUrl": "",
      "userId": "14479436635515447323"
     },
     "user_tz": -120
    },
    "id": "EJNNwIy0LsZa",
    "outputId": "aa334d9e-5553-4ec4-a2db-1c472d81e3b6",
    "ExecuteTime": {
     "end_time": "2023-11-27T19:09:58.123518700Z",
     "start_time": "2023-11-27T19:09:57.921519900Z"
    }
   },
   "outputs": [
    {
     "name": "stdout",
     "output_type": "stream",
     "text": [
      "80/80 [==============================] - 0s 1ms/step\n"
     ]
    },
    {
     "data": {
      "text/plain": "{'balanced_accuracy': 0.8338327709311424,\n 'f1_score': 0.8384644621816799,\n 'precision': 0.8164322723908216,\n 'recall': 0.86171875}"
     },
     "execution_count": 8,
     "metadata": {},
     "output_type": "execute_result"
    }
   ],
   "source": [
    "probas_lem = modelLEM.predict(np.array(lem_test_features))\n",
    "y_pred_lem = proba_to_pred(probas_lem)\n",
    "results_lem = calculate_metrics(lem_test_labels, y_pred_lem)\n",
    "results_lem"
   ]
  },
  {
   "cell_type": "markdown",
   "metadata": {},
   "source": [
    "# Stemmed data"
   ]
  },
  {
   "cell_type": "code",
   "execution_count": 9,
   "metadata": {
    "colab": {},
    "colab_type": "code",
    "id": "XMhDOQ0pL1RO",
    "ExecuteTime": {
     "end_time": "2023-11-27T19:09:58.835518100Z",
     "start_time": "2023-11-27T19:09:58.110519800Z"
    }
   },
   "outputs": [],
   "source": [
    "STEMMED_DATA_PATH = os.path.join('..', 'data', 'stemmed')\n",
    "stem_train_features, stem_val_features, stem_test_features, stem_train_labels, stem_val_labels, stem_test_labels, stem_vocab_size = prepare_data(\n",
    "    STEMMED_DATA_PATH)\n",
    "\n",
    "modelSTEM = buildCharCNNModel(stem_vocab_size, embSize=32, inputSize=320, verbose=False)"
   ]
  },
  {
   "cell_type": "code",
   "execution_count": 10,
   "metadata": {
    "colab": {},
    "colab_type": "code",
    "id": "QPDhYLzto39C",
    "ExecuteTime": {
     "end_time": "2023-11-27T19:10:53.613487500Z",
     "start_time": "2023-11-27T19:09:58.838520200Z"
    }
   },
   "outputs": [
    {
     "name": "stdout",
     "output_type": "stream",
     "text": [
      "Epoch 1/200\n",
      "81/81 [==============================] - ETA: 0s - loss: 0.5618 - accuracy: 0.7378"
     ]
    },
    {
     "name": "stderr",
     "output_type": "stream",
     "text": [
      "WARNING:absl:Found untraced functions such as _jit_compiled_convolution_op, _jit_compiled_convolution_op, _jit_compiled_convolution_op while saving (showing 3 of 3). These functions will not be directly callable after loading.\n"
     ]
    },
    {
     "name": "stdout",
     "output_type": "stream",
     "text": [
      "INFO:tensorflow:Assets written to: ..\\models\\charCNN\\stemmed\\assets\n"
     ]
    },
    {
     "name": "stderr",
     "output_type": "stream",
     "text": [
      "INFO:tensorflow:Assets written to: ..\\models\\charCNN\\stemmed\\assets\n"
     ]
    },
    {
     "name": "stdout",
     "output_type": "stream",
     "text": [
      "81/81 [==============================] - 2s 20ms/step - loss: 0.5618 - accuracy: 0.7378 - val_loss: 0.4766 - val_accuracy: 0.7667\n",
      "Epoch 2/200\n",
      "80/81 [============================>.] - ETA: 0s - loss: 0.4349 - accuracy: 0.7943"
     ]
    },
    {
     "name": "stderr",
     "output_type": "stream",
     "text": [
      "WARNING:absl:Found untraced functions such as _jit_compiled_convolution_op, _jit_compiled_convolution_op, _jit_compiled_convolution_op while saving (showing 3 of 3). These functions will not be directly callable after loading.\n"
     ]
    },
    {
     "name": "stdout",
     "output_type": "stream",
     "text": [
      "INFO:tensorflow:Assets written to: ..\\models\\charCNN\\stemmed\\assets\n"
     ]
    },
    {
     "name": "stderr",
     "output_type": "stream",
     "text": [
      "INFO:tensorflow:Assets written to: ..\\models\\charCNN\\stemmed\\assets\n"
     ]
    },
    {
     "name": "stdout",
     "output_type": "stream",
     "text": [
      "81/81 [==============================] - 2s 21ms/step - loss: 0.4348 - accuracy: 0.7943 - val_loss: 0.4367 - val_accuracy: 0.7858\n",
      "Epoch 3/200\n",
      "78/81 [===========================>..] - ETA: 0s - loss: 0.4056 - accuracy: 0.8056"
     ]
    },
    {
     "name": "stderr",
     "output_type": "stream",
     "text": [
      "WARNING:absl:Found untraced functions such as _jit_compiled_convolution_op, _jit_compiled_convolution_op, _jit_compiled_convolution_op while saving (showing 3 of 3). These functions will not be directly callable after loading.\n"
     ]
    },
    {
     "name": "stdout",
     "output_type": "stream",
     "text": [
      "INFO:tensorflow:Assets written to: ..\\models\\charCNN\\stemmed\\assets\n"
     ]
    },
    {
     "name": "stderr",
     "output_type": "stream",
     "text": [
      "INFO:tensorflow:Assets written to: ..\\models\\charCNN\\stemmed\\assets\n"
     ]
    },
    {
     "name": "stdout",
     "output_type": "stream",
     "text": [
      "81/81 [==============================] - 2s 21ms/step - loss: 0.4052 - accuracy: 0.8049 - val_loss: 0.4113 - val_accuracy: 0.7989\n",
      "Epoch 4/200\n",
      "78/81 [===========================>..] - ETA: 0s - loss: 0.3831 - accuracy: 0.8184"
     ]
    },
    {
     "name": "stderr",
     "output_type": "stream",
     "text": [
      "WARNING:absl:Found untraced functions such as _jit_compiled_convolution_op, _jit_compiled_convolution_op, _jit_compiled_convolution_op while saving (showing 3 of 3). These functions will not be directly callable after loading.\n"
     ]
    },
    {
     "name": "stdout",
     "output_type": "stream",
     "text": [
      "INFO:tensorflow:Assets written to: ..\\models\\charCNN\\stemmed\\assets\n"
     ]
    },
    {
     "name": "stderr",
     "output_type": "stream",
     "text": [
      "INFO:tensorflow:Assets written to: ..\\models\\charCNN\\stemmed\\assets\n"
     ]
    },
    {
     "name": "stdout",
     "output_type": "stream",
     "text": [
      "81/81 [==============================] - 2s 20ms/step - loss: 0.3828 - accuracy: 0.8182 - val_loss: 0.3931 - val_accuracy: 0.8162\n",
      "Epoch 5/200\n",
      "81/81 [==============================] - ETA: 0s - loss: 0.3695 - accuracy: 0.8230"
     ]
    },
    {
     "name": "stderr",
     "output_type": "stream",
     "text": [
      "WARNING:absl:Found untraced functions such as _jit_compiled_convolution_op, _jit_compiled_convolution_op, _jit_compiled_convolution_op while saving (showing 3 of 3). These functions will not be directly callable after loading.\n"
     ]
    },
    {
     "name": "stdout",
     "output_type": "stream",
     "text": [
      "INFO:tensorflow:Assets written to: ..\\models\\charCNN\\stemmed\\assets\n"
     ]
    },
    {
     "name": "stderr",
     "output_type": "stream",
     "text": [
      "INFO:tensorflow:Assets written to: ..\\models\\charCNN\\stemmed\\assets\n"
     ]
    },
    {
     "name": "stdout",
     "output_type": "stream",
     "text": [
      "81/81 [==============================] - 2s 20ms/step - loss: 0.3695 - accuracy: 0.8230 - val_loss: 0.3853 - val_accuracy: 0.8219\n",
      "Epoch 6/200\n",
      "78/81 [===========================>..] - ETA: 0s - loss: 0.3618 - accuracy: 0.8286"
     ]
    },
    {
     "name": "stderr",
     "output_type": "stream",
     "text": [
      "WARNING:absl:Found untraced functions such as _jit_compiled_convolution_op, _jit_compiled_convolution_op, _jit_compiled_convolution_op while saving (showing 3 of 3). These functions will not be directly callable after loading.\n"
     ]
    },
    {
     "name": "stdout",
     "output_type": "stream",
     "text": [
      "INFO:tensorflow:Assets written to: ..\\models\\charCNN\\stemmed\\assets\n"
     ]
    },
    {
     "name": "stderr",
     "output_type": "stream",
     "text": [
      "INFO:tensorflow:Assets written to: ..\\models\\charCNN\\stemmed\\assets\n"
     ]
    },
    {
     "name": "stdout",
     "output_type": "stream",
     "text": [
      "81/81 [==============================] - 2s 21ms/step - loss: 0.3609 - accuracy: 0.8294 - val_loss: 0.3793 - val_accuracy: 0.8232\n",
      "Epoch 7/200\n",
      "78/81 [===========================>..] - ETA: 0s - loss: 0.3549 - accuracy: 0.8299"
     ]
    },
    {
     "name": "stderr",
     "output_type": "stream",
     "text": [
      "WARNING:absl:Found untraced functions such as _jit_compiled_convolution_op, _jit_compiled_convolution_op, _jit_compiled_convolution_op while saving (showing 3 of 3). These functions will not be directly callable after loading.\n"
     ]
    },
    {
     "name": "stdout",
     "output_type": "stream",
     "text": [
      "INFO:tensorflow:Assets written to: ..\\models\\charCNN\\stemmed\\assets\n"
     ]
    },
    {
     "name": "stderr",
     "output_type": "stream",
     "text": [
      "INFO:tensorflow:Assets written to: ..\\models\\charCNN\\stemmed\\assets\n"
     ]
    },
    {
     "name": "stdout",
     "output_type": "stream",
     "text": [
      "81/81 [==============================] - 2s 20ms/step - loss: 0.3547 - accuracy: 0.8303 - val_loss: 0.3780 - val_accuracy: 0.8258\n",
      "Epoch 8/200\n",
      "81/81 [==============================] - ETA: 0s - loss: 0.3470 - accuracy: 0.8382"
     ]
    },
    {
     "name": "stderr",
     "output_type": "stream",
     "text": [
      "WARNING:absl:Found untraced functions such as _jit_compiled_convolution_op, _jit_compiled_convolution_op, _jit_compiled_convolution_op while saving (showing 3 of 3). These functions will not be directly callable after loading.\n"
     ]
    },
    {
     "name": "stdout",
     "output_type": "stream",
     "text": [
      "INFO:tensorflow:Assets written to: ..\\models\\charCNN\\stemmed\\assets\n"
     ]
    },
    {
     "name": "stderr",
     "output_type": "stream",
     "text": [
      "INFO:tensorflow:Assets written to: ..\\models\\charCNN\\stemmed\\assets\n"
     ]
    },
    {
     "name": "stdout",
     "output_type": "stream",
     "text": [
      "81/81 [==============================] - 2s 20ms/step - loss: 0.3470 - accuracy: 0.8382 - val_loss: 0.3707 - val_accuracy: 0.8328\n",
      "Epoch 9/200\n",
      "78/81 [===========================>..] - ETA: 0s - loss: 0.3398 - accuracy: 0.8429"
     ]
    },
    {
     "name": "stderr",
     "output_type": "stream",
     "text": [
      "WARNING:absl:Found untraced functions such as _jit_compiled_convolution_op, _jit_compiled_convolution_op, _jit_compiled_convolution_op while saving (showing 3 of 3). These functions will not be directly callable after loading.\n"
     ]
    },
    {
     "name": "stdout",
     "output_type": "stream",
     "text": [
      "INFO:tensorflow:Assets written to: ..\\models\\charCNN\\stemmed\\assets\n"
     ]
    },
    {
     "name": "stderr",
     "output_type": "stream",
     "text": [
      "INFO:tensorflow:Assets written to: ..\\models\\charCNN\\stemmed\\assets\n"
     ]
    },
    {
     "name": "stdout",
     "output_type": "stream",
     "text": [
      "81/81 [==============================] - 2s 20ms/step - loss: 0.3403 - accuracy: 0.8427 - val_loss: 0.3656 - val_accuracy: 0.8323\n",
      "Epoch 10/200\n",
      "77/81 [===========================>..] - ETA: 0s - loss: 0.3341 - accuracy: 0.8451"
     ]
    },
    {
     "name": "stderr",
     "output_type": "stream",
     "text": [
      "WARNING:absl:Found untraced functions such as _jit_compiled_convolution_op, _jit_compiled_convolution_op, _jit_compiled_convolution_op while saving (showing 3 of 3). These functions will not be directly callable after loading.\n"
     ]
    },
    {
     "name": "stdout",
     "output_type": "stream",
     "text": [
      "INFO:tensorflow:Assets written to: ..\\models\\charCNN\\stemmed\\assets\n"
     ]
    },
    {
     "name": "stderr",
     "output_type": "stream",
     "text": [
      "INFO:tensorflow:Assets written to: ..\\models\\charCNN\\stemmed\\assets\n"
     ]
    },
    {
     "name": "stdout",
     "output_type": "stream",
     "text": [
      "81/81 [==============================] - 2s 20ms/step - loss: 0.3352 - accuracy: 0.8446 - val_loss: 0.3613 - val_accuracy: 0.8380\n",
      "Epoch 11/200\n",
      "81/81 [==============================] - ETA: 0s - loss: 0.3266 - accuracy: 0.8508"
     ]
    },
    {
     "name": "stderr",
     "output_type": "stream",
     "text": [
      "WARNING:absl:Found untraced functions such as _jit_compiled_convolution_op, _jit_compiled_convolution_op, _jit_compiled_convolution_op while saving (showing 3 of 3). These functions will not be directly callable after loading.\n"
     ]
    },
    {
     "name": "stdout",
     "output_type": "stream",
     "text": [
      "INFO:tensorflow:Assets written to: ..\\models\\charCNN\\stemmed\\assets\n"
     ]
    },
    {
     "name": "stderr",
     "output_type": "stream",
     "text": [
      "INFO:tensorflow:Assets written to: ..\\models\\charCNN\\stemmed\\assets\n"
     ]
    },
    {
     "name": "stdout",
     "output_type": "stream",
     "text": [
      "81/81 [==============================] - 2s 20ms/step - loss: 0.3266 - accuracy: 0.8508 - val_loss: 0.3581 - val_accuracy: 0.8410\n",
      "Epoch 12/200\n",
      "79/81 [============================>.] - ETA: 0s - loss: 0.3213 - accuracy: 0.8497"
     ]
    },
    {
     "name": "stderr",
     "output_type": "stream",
     "text": [
      "WARNING:absl:Found untraced functions such as _jit_compiled_convolution_op, _jit_compiled_convolution_op, _jit_compiled_convolution_op while saving (showing 3 of 3). These functions will not be directly callable after loading.\n"
     ]
    },
    {
     "name": "stdout",
     "output_type": "stream",
     "text": [
      "INFO:tensorflow:Assets written to: ..\\models\\charCNN\\stemmed\\assets\n"
     ]
    },
    {
     "name": "stderr",
     "output_type": "stream",
     "text": [
      "INFO:tensorflow:Assets written to: ..\\models\\charCNN\\stemmed\\assets\n"
     ]
    },
    {
     "name": "stdout",
     "output_type": "stream",
     "text": [
      "81/81 [==============================] - 2s 21ms/step - loss: 0.3208 - accuracy: 0.8502 - val_loss: 0.3571 - val_accuracy: 0.8406\n",
      "Epoch 13/200\n",
      "78/81 [===========================>..] - ETA: 0s - loss: 0.3132 - accuracy: 0.8571"
     ]
    },
    {
     "name": "stderr",
     "output_type": "stream",
     "text": [
      "WARNING:absl:Found untraced functions such as _jit_compiled_convolution_op, _jit_compiled_convolution_op, _jit_compiled_convolution_op while saving (showing 3 of 3). These functions will not be directly callable after loading.\n"
     ]
    },
    {
     "name": "stdout",
     "output_type": "stream",
     "text": [
      "INFO:tensorflow:Assets written to: ..\\models\\charCNN\\stemmed\\assets\n"
     ]
    },
    {
     "name": "stderr",
     "output_type": "stream",
     "text": [
      "INFO:tensorflow:Assets written to: ..\\models\\charCNN\\stemmed\\assets\n"
     ]
    },
    {
     "name": "stdout",
     "output_type": "stream",
     "text": [
      "81/81 [==============================] - 2s 20ms/step - loss: 0.3129 - accuracy: 0.8576 - val_loss: 0.3533 - val_accuracy: 0.8336\n",
      "Epoch 14/200\n",
      "81/81 [==============================] - 1s 14ms/step - loss: 0.3084 - accuracy: 0.8581 - val_loss: 0.3541 - val_accuracy: 0.8375\n",
      "Epoch 15/200\n",
      "79/81 [============================>.] - ETA: 0s - loss: 0.3035 - accuracy: 0.8642"
     ]
    },
    {
     "name": "stderr",
     "output_type": "stream",
     "text": [
      "WARNING:absl:Found untraced functions such as _jit_compiled_convolution_op, _jit_compiled_convolution_op, _jit_compiled_convolution_op while saving (showing 3 of 3). These functions will not be directly callable after loading.\n"
     ]
    },
    {
     "name": "stdout",
     "output_type": "stream",
     "text": [
      "INFO:tensorflow:Assets written to: ..\\models\\charCNN\\stemmed\\assets\n"
     ]
    },
    {
     "name": "stderr",
     "output_type": "stream",
     "text": [
      "INFO:tensorflow:Assets written to: ..\\models\\charCNN\\stemmed\\assets\n"
     ]
    },
    {
     "name": "stdout",
     "output_type": "stream",
     "text": [
      "81/81 [==============================] - 2s 25ms/step - loss: 0.3029 - accuracy: 0.8641 - val_loss: 0.3507 - val_accuracy: 0.8380\n",
      "Epoch 16/200\n",
      "81/81 [==============================] - 1s 18ms/step - loss: 0.2964 - accuracy: 0.8671 - val_loss: 0.3553 - val_accuracy: 0.8258\n",
      "Epoch 17/200\n",
      "80/81 [============================>.] - ETA: 0s - loss: 0.2933 - accuracy: 0.8686"
     ]
    },
    {
     "name": "stderr",
     "output_type": "stream",
     "text": [
      "WARNING:absl:Found untraced functions such as _jit_compiled_convolution_op, _jit_compiled_convolution_op, _jit_compiled_convolution_op while saving (showing 3 of 3). These functions will not be directly callable after loading.\n"
     ]
    },
    {
     "name": "stdout",
     "output_type": "stream",
     "text": [
      "INFO:tensorflow:Assets written to: ..\\models\\charCNN\\stemmed\\assets\n"
     ]
    },
    {
     "name": "stderr",
     "output_type": "stream",
     "text": [
      "INFO:tensorflow:Assets written to: ..\\models\\charCNN\\stemmed\\assets\n"
     ]
    },
    {
     "name": "stdout",
     "output_type": "stream",
     "text": [
      "81/81 [==============================] - 2s 23ms/step - loss: 0.2928 - accuracy: 0.8690 - val_loss: 0.3503 - val_accuracy: 0.8410\n",
      "Epoch 18/200\n",
      "81/81 [==============================] - ETA: 0s - loss: 0.2850 - accuracy: 0.8718"
     ]
    },
    {
     "name": "stderr",
     "output_type": "stream",
     "text": [
      "WARNING:absl:Found untraced functions such as _jit_compiled_convolution_op, _jit_compiled_convolution_op, _jit_compiled_convolution_op while saving (showing 3 of 3). These functions will not be directly callable after loading.\n"
     ]
    },
    {
     "name": "stdout",
     "output_type": "stream",
     "text": [
      "INFO:tensorflow:Assets written to: ..\\models\\charCNN\\stemmed\\assets\n"
     ]
    },
    {
     "name": "stderr",
     "output_type": "stream",
     "text": [
      "INFO:tensorflow:Assets written to: ..\\models\\charCNN\\stemmed\\assets\n"
     ]
    },
    {
     "name": "stdout",
     "output_type": "stream",
     "text": [
      "81/81 [==============================] - 2s 24ms/step - loss: 0.2850 - accuracy: 0.8718 - val_loss: 0.3485 - val_accuracy: 0.8440\n",
      "Epoch 19/200\n",
      "81/81 [==============================] - 1s 18ms/step - loss: 0.2793 - accuracy: 0.8762 - val_loss: 0.3494 - val_accuracy: 0.8332\n",
      "Epoch 20/200\n",
      "81/81 [==============================] - 1s 18ms/step - loss: 0.2740 - accuracy: 0.8799 - val_loss: 0.3485 - val_accuracy: 0.8462\n",
      "Epoch 21/200\n",
      "78/81 [===========================>..] - ETA: 0s - loss: 0.2694 - accuracy: 0.8805"
     ]
    },
    {
     "name": "stderr",
     "output_type": "stream",
     "text": [
      "WARNING:absl:Found untraced functions such as _jit_compiled_convolution_op, _jit_compiled_convolution_op, _jit_compiled_convolution_op while saving (showing 3 of 3). These functions will not be directly callable after loading.\n"
     ]
    },
    {
     "name": "stdout",
     "output_type": "stream",
     "text": [
      "INFO:tensorflow:Assets written to: ..\\models\\charCNN\\stemmed\\assets\n"
     ]
    },
    {
     "name": "stderr",
     "output_type": "stream",
     "text": [
      "INFO:tensorflow:Assets written to: ..\\models\\charCNN\\stemmed\\assets\n"
     ]
    },
    {
     "name": "stdout",
     "output_type": "stream",
     "text": [
      "81/81 [==============================] - 2s 24ms/step - loss: 0.2710 - accuracy: 0.8798 - val_loss: 0.3477 - val_accuracy: 0.8445\n",
      "Epoch 22/200\n",
      "81/81 [==============================] - 1s 18ms/step - loss: 0.2610 - accuracy: 0.8880 - val_loss: 0.3508 - val_accuracy: 0.8271\n",
      "Epoch 23/200\n",
      "80/81 [============================>.] - ETA: 0s - loss: 0.2585 - accuracy: 0.8878"
     ]
    },
    {
     "name": "stderr",
     "output_type": "stream",
     "text": [
      "WARNING:absl:Found untraced functions such as _jit_compiled_convolution_op, _jit_compiled_convolution_op, _jit_compiled_convolution_op while saving (showing 3 of 3). These functions will not be directly callable after loading.\n"
     ]
    },
    {
     "name": "stdout",
     "output_type": "stream",
     "text": [
      "INFO:tensorflow:Assets written to: ..\\models\\charCNN\\stemmed\\assets\n"
     ]
    },
    {
     "name": "stderr",
     "output_type": "stream",
     "text": [
      "INFO:tensorflow:Assets written to: ..\\models\\charCNN\\stemmed\\assets\n"
     ]
    },
    {
     "name": "stdout",
     "output_type": "stream",
     "text": [
      "81/81 [==============================] - 2s 25ms/step - loss: 0.2588 - accuracy: 0.8875 - val_loss: 0.3464 - val_accuracy: 0.8280\n",
      "Epoch 24/200\n",
      "81/81 [==============================] - 1s 17ms/step - loss: 0.2510 - accuracy: 0.8935 - val_loss: 0.3499 - val_accuracy: 0.8454\n",
      "Epoch 25/200\n",
      "81/81 [==============================] - 2s 20ms/step - loss: 0.2440 - accuracy: 0.8972 - val_loss: 0.3495 - val_accuracy: 0.8419\n",
      "Epoch 26/200\n",
      "81/81 [==============================] - 2s 22ms/step - loss: 0.2399 - accuracy: 0.8978 - val_loss: 0.3492 - val_accuracy: 0.8388\n",
      "Epoch 27/200\n",
      "81/81 [==============================] - 2s 22ms/step - loss: 0.2333 - accuracy: 0.9015 - val_loss: 0.3534 - val_accuracy: 0.8419\n",
      "Epoch 28/200\n",
      "81/81 [==============================] - 2s 21ms/step - loss: 0.2261 - accuracy: 0.9069 - val_loss: 0.3567 - val_accuracy: 0.8393\n",
      "Epoch 29/200\n",
      "81/81 [==============================] - 2s 20ms/step - loss: 0.2237 - accuracy: 0.9074 - val_loss: 0.3598 - val_accuracy: 0.8410\n",
      "Epoch 30/200\n",
      "81/81 [==============================] - 2s 20ms/step - loss: 0.2172 - accuracy: 0.9109 - val_loss: 0.3583 - val_accuracy: 0.8375\n",
      "Epoch 31/200\n",
      "81/81 [==============================] - 2s 19ms/step - loss: 0.2136 - accuracy: 0.9114 - val_loss: 0.3574 - val_accuracy: 0.8397\n",
      "Epoch 32/200\n",
      "81/81 [==============================] - 2s 20ms/step - loss: 0.2071 - accuracy: 0.9160 - val_loss: 0.3679 - val_accuracy: 0.8301\n",
      "Epoch 33/200\n",
      "81/81 [==============================] - 2s 19ms/step - loss: 0.2022 - accuracy: 0.9198 - val_loss: 0.3664 - val_accuracy: 0.8384\n"
     ]
    },
    {
     "data": {
      "text/plain": "<keras.callbacks.History at 0x1bdde45ca90>"
     },
     "execution_count": 10,
     "metadata": {},
     "output_type": "execute_result"
    }
   ],
   "source": [
    "# Train CNN model.\n",
    "early_stopping = keras.callbacks.EarlyStopping(monitor='val_loss', patience=10, restore_best_weights=True)\n",
    "save_best = keras.callbacks.ModelCheckpoint(os.path.join(MODELS_DIR, \"stemmed\"), monitor='val_loss',\n",
    "                                            save_best_only=True, restore_best_weights=True)\n",
    "modelSTEM.fit(np.array(stem_train_features), np.array(stem_train_labels), batch_size=256, epochs=EPOCHS,\n",
    "              validation_data=(np.array(stem_val_features), np.array(stem_val_labels)),\n",
    "              callbacks=[early_stopping, save_best])"
   ]
  },
  {
   "cell_type": "code",
   "execution_count": 11,
   "metadata": {
    "colab": {
     "base_uri": "https://localhost:8080/",
     "height": 170
    },
    "colab_type": "code",
    "executionInfo": {
     "elapsed": 1761852,
     "status": "ok",
     "timestamp": 1595416285460,
     "user": {
      "displayName": "tizfa data",
      "photoUrl": "",
      "userId": "14479436635515447323"
     },
     "user_tz": -120
    },
    "id": "XccqZUzVNhnx",
    "outputId": "b5a715d5-bae8-4b7e-c4a6-30580921829d",
    "ExecuteTime": {
     "end_time": "2023-11-27T19:10:53.954846300Z",
     "start_time": "2023-11-27T19:10:53.614485900Z"
    }
   },
   "outputs": [
    {
     "name": "stdout",
     "output_type": "stream",
     "text": [
      "80/80 [==============================] - 0s 2ms/step\n"
     ]
    },
    {
     "data": {
      "text/plain": "{'balanced_accuracy': 0.8400986649061033,\n 'f1_score': 0.8423892100192678,\n 'precision': 0.8311787072243346,\n 'recall': 0.85390625}"
     },
     "execution_count": 11,
     "metadata": {},
     "output_type": "execute_result"
    }
   ],
   "source": [
    "probas_stem = modelSTEM.predict(np.array(stem_test_features))\n",
    "y_pred_stem = proba_to_pred(probas_stem)\n",
    "results_stem = calculate_metrics(stem_test_labels, y_pred_stem)\n",
    "results_stem"
   ]
  },
  {
   "cell_type": "code",
   "execution_count": 12,
   "metadata": {
    "ExecuteTime": {
     "end_time": "2023-11-27T19:10:53.970846700Z",
     "start_time": "2023-11-27T19:10:53.956846800Z"
    }
   },
   "outputs": [
    {
     "data": {
      "text/plain": "   balanced_accuracy  f1_score  precision    recall    model     dataset\n0           0.839691  0.845283   0.817518  0.875000  CharCNN      simple\n1           0.833833  0.838464   0.816432  0.861719  CharCNN  lemmatized\n2           0.840099  0.842389   0.831179  0.853906  CharCNN     stemmed",
      "text/html": "<div>\n<style scoped>\n    .dataframe tbody tr th:only-of-type {\n        vertical-align: middle;\n    }\n\n    .dataframe tbody tr th {\n        vertical-align: top;\n    }\n\n    .dataframe thead th {\n        text-align: right;\n    }\n</style>\n<table border=\"1\" class=\"dataframe\">\n  <thead>\n    <tr style=\"text-align: right;\">\n      <th></th>\n      <th>balanced_accuracy</th>\n      <th>f1_score</th>\n      <th>precision</th>\n      <th>recall</th>\n      <th>model</th>\n      <th>dataset</th>\n    </tr>\n  </thead>\n  <tbody>\n    <tr>\n      <th>0</th>\n      <td>0.839691</td>\n      <td>0.845283</td>\n      <td>0.817518</td>\n      <td>0.875000</td>\n      <td>CharCNN</td>\n      <td>simple</td>\n    </tr>\n    <tr>\n      <th>1</th>\n      <td>0.833833</td>\n      <td>0.838464</td>\n      <td>0.816432</td>\n      <td>0.861719</td>\n      <td>CharCNN</td>\n      <td>lemmatized</td>\n    </tr>\n    <tr>\n      <th>2</th>\n      <td>0.840099</td>\n      <td>0.842389</td>\n      <td>0.831179</td>\n      <td>0.853906</td>\n      <td>CharCNN</td>\n      <td>stemmed</td>\n    </tr>\n  </tbody>\n</table>\n</div>"
     },
     "execution_count": 12,
     "metadata": {},
     "output_type": "execute_result"
    }
   ],
   "source": [
    "# Create csv with all results\n",
    "\n",
    "results_all = pd.DataFrame([results, results_lem, results_stem])\n",
    "results_all['model'] = 'CharCNN'\n",
    "results_all['dataset'] = ['simple', 'lemmatized', 'stemmed']\n",
    "\n",
    "if not os.path.exists('results'):\n",
    "    os.makedirs('results')\n",
    "results_all.to_csv('results/char_cnn.csv', index=False)\n",
    "results_all"
   ]
  }
 ],
 "metadata": {
  "accelerator": "GPU",
  "colab": {
   "authorship_tag": "ABX9TyPYjFqFVG3id3URmVBi+eNL",
   "collapsed_sections": [],
   "name": "CharCNN_Experiments.ipynb",
   "provenance": [
    {
     "file_id": "1UYNHNkk5Yq_dgIhRiVEFiswGzUJ-pdgs",
     "timestamp": 1583167071972
    }
   ]
  },
  "kernelspec": {
   "name": "python3",
   "language": "python",
   "display_name": "Python 3 (ipykernel)"
  },
  "language_info": {
   "codemirror_mode": {
    "name": "ipython",
    "version": 3
   },
   "file_extension": ".py",
   "mimetype": "text/x-python",
   "name": "python",
   "nbconvert_exporter": "python",
   "pygments_lexer": "ipython3",
   "version": "3.11.5"
  }
 },
 "nbformat": 4,
 "nbformat_minor": 0
}
