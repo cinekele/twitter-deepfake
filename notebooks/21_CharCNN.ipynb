{
 "cells": [
  {
   "cell_type": "markdown",
   "metadata": {},
   "source": [
    "# Training CNN model"
   ]
  },
  {
   "cell_type": "code",
   "execution_count": 1,
   "metadata": {
    "ExecuteTime": {
     "end_time": "2023-11-27T21:22:21.315913500Z",
     "start_time": "2023-11-27T21:22:19.369913500Z"
    }
   },
   "outputs": [],
   "source": [
    "import os\n",
    "\n",
    "import keras\n",
    "import numpy as np\n",
    "import pandas as pd\n",
    "from sklearn.metrics import balanced_accuracy_score, f1_score, precision_score, recall_score\n",
    "\n",
    "from utils.KerasModels import buildCharCNNModel\n",
    "from utils.KerasModels import generateExpData\n",
    "\n",
    "keras.utils.set_random_seed(812)\n",
    "MODELS_DIR = os.path.join('..', 'models', 'charCNN')\n",
    "EPOCHS = 200"
   ]
  },
  {
   "cell_type": "code",
   "execution_count": 2,
   "metadata": {
    "ExecuteTime": {
     "end_time": "2023-11-27T21:22:21.330914300Z",
     "start_time": "2023-11-27T21:22:21.316913300Z"
    }
   },
   "outputs": [],
   "source": [
    "def prepare_data(data_directory):\n",
    "    train = pd.read_csv(os.path.join(data_directory, 'train.csv'))\n",
    "    validation = pd.read_csv(os.path.join(data_directory, 'validation.csv'))\n",
    "    test = pd.read_csv(os.path.join(data_directory, 'test.csv'))\n",
    "\n",
    "    dfTrainDataset = train[[\"screen_name\", \"text\", \"account.type\"]]\n",
    "    dfValDataset = validation[[\"screen_name\", \"text\", \"account.type\"]]\n",
    "    dfTestDataset = test[[\"screen_name\", \"text\", \"account.type\"]]\n",
    "\n",
    "    tokenizer = None\n",
    "    train_features, tokenizer = generateExpData(dfTrainDataset, tokenizer=tokenizer)\n",
    "    val_features, tokenizer = generateExpData(dfValDataset, tokenizer=tokenizer)\n",
    "    test_features, tokenizer = generateExpData(dfTestDataset, tokenizer=tokenizer)\n",
    "\n",
    "    dictLabels = {\"human\": 0, \"bot\": 1}\n",
    "    y_train = dfTrainDataset[\"account.type\"].apply(lambda x: dictLabels[x])\n",
    "    y_val = dfValDataset[\"account.type\"].apply(lambda x: dictLabels[x])\n",
    "    y_test = dfTestDataset[\"account.type\"].apply(lambda x: dictLabels[x])\n",
    "\n",
    "    train_labels = y_train.tolist()\n",
    "    val_labels = y_val.tolist()\n",
    "    test_labels = y_test.tolist()\n",
    "\n",
    "    vocab_size = len(tokenizer.word_index)\n",
    "\n",
    "    return train_features, val_features, test_features, train_labels, val_labels, test_labels, vocab_size\n",
    "\n",
    "\n",
    "def proba_to_pred(y_proba):\n",
    "    y_pred_char_cnn = (y_proba > 0.5).astype(int)\n",
    "    return y_pred_char_cnn\n",
    "\n",
    "\n",
    "def calculate_metrics(y_true, y_pred):\n",
    "    results = {\n",
    "        'balanced_accuracy': balanced_accuracy_score(y_true, y_pred),\n",
    "        'f1_score': f1_score(y_true, y_pred),\n",
    "        'precision': precision_score(y_true, y_pred),\n",
    "        'recall': recall_score(y_true, y_pred)\n",
    "    }\n",
    "    return results"
   ]
  },
  {
   "cell_type": "code",
   "execution_count": 3,
   "metadata": {
    "colab": {
     "base_uri": "https://localhost:8080/",
     "height": 1000
    },
    "colab_type": "code",
    "executionInfo": {
     "elapsed": 41256,
     "status": "ok",
     "timestamp": 1595414564782,
     "user": {
      "displayName": "tizfa data",
      "photoUrl": "",
      "userId": "14479436635515447323"
     },
     "user_tz": -120
    },
    "id": "mBCDg773SZKW",
    "outputId": "cf6255ab-ef46-41fe-bb95-49e0b42acdc0",
    "ExecuteTime": {
     "end_time": "2023-11-27T21:22:22.689912400Z",
     "start_time": "2023-11-27T21:22:21.332913100Z"
    }
   },
   "outputs": [
    {
     "name": "stdout",
     "output_type": "stream",
     "text": [
      "Model: \"model\"\n",
      "__________________________________________________________________________________________________\n",
      " Layer (type)                   Output Shape         Param #     Connected to                     \n",
      "==================================================================================================\n",
      " input_1 (InputLayer)           [(None, 320)]        0           []                               \n",
      "                                                                                                  \n",
      " embedding (Embedding)          (None, 320, 32)      3360        ['input_1[0][0]']                \n",
      "                                                                                                  \n",
      " conv1d (Conv1D)                (None, 318, 128)     12416       ['embedding[0][0]']              \n",
      "                                                                                                  \n",
      " conv1d_1 (Conv1D)              (None, 317, 128)     16512       ['embedding[0][0]']              \n",
      "                                                                                                  \n",
      " conv1d_2 (Conv1D)              (None, 316, 128)     20608       ['embedding[0][0]']              \n",
      "                                                                                                  \n",
      " global_max_pooling1d (GlobalMa  (None, 128)         0           ['conv1d[0][0]']                 \n",
      " xPooling1D)                                                                                      \n",
      "                                                                                                  \n",
      " global_max_pooling1d_1 (Global  (None, 128)         0           ['conv1d_1[0][0]']               \n",
      " MaxPooling1D)                                                                                    \n",
      "                                                                                                  \n",
      " global_max_pooling1d_2 (Global  (None, 128)         0           ['conv1d_2[0][0]']               \n",
      " MaxPooling1D)                                                                                    \n",
      "                                                                                                  \n",
      " concatenate (Concatenate)      (None, 384)          0           ['global_max_pooling1d[0][0]',   \n",
      "                                                                  'global_max_pooling1d_1[0][0]', \n",
      "                                                                  'global_max_pooling1d_2[0][0]'] \n",
      "                                                                                                  \n",
      " dropout (Dropout)              (None, 384)          0           ['concatenate[0][0]']            \n",
      "                                                                                                  \n",
      " dense (Dense)                  (None, 1)            385         ['dropout[0][0]']                \n",
      "                                                                                                  \n",
      "==================================================================================================\n",
      "Total params: 53,281\n",
      "Trainable params: 53,281\n",
      "Non-trainable params: 0\n",
      "__________________________________________________________________________________________________\n",
      "None\n"
     ]
    }
   ],
   "source": [
    "DATA_PATH = os.path.join('..', 'data', 'preprocessed_url_simple')\n",
    "train_features, val_features, test_features, train_labels, val_labels, test_labels, vocab_size = prepare_data(DATA_PATH)\n",
    "os.makedirs(MODELS_DIR, exist_ok=True)\n",
    "model = buildCharCNNModel(vocab_size, embSize=32, inputSize=320)"
   ]
  },
  {
   "cell_type": "code",
   "execution_count": 4,
   "metadata": {
    "colab": {
     "base_uri": "https://localhost:8080/",
     "height": 935
    },
    "colab_type": "code",
    "executionInfo": {
     "elapsed": 114516,
     "status": "ok",
     "timestamp": 1595414638074,
     "user": {
      "displayName": "tizfa data",
      "photoUrl": "",
      "userId": "14479436635515447323"
     },
     "user_tz": -120
    },
    "id": "jo_HHkj3J5Bj",
    "outputId": "02a13f63-86d8-4360-e565-ae948adfc9f3",
    "ExecuteTime": {
     "end_time": "2023-11-27T21:23:07.354856800Z",
     "start_time": "2023-11-27T21:22:22.675913400Z"
    }
   },
   "outputs": [
    {
     "name": "stdout",
     "output_type": "stream",
     "text": [
      "Epoch 1/200\n",
      "81/81 [==============================] - ETA: 0s - loss: 0.5592 - accuracy: 0.7407"
     ]
    },
    {
     "name": "stderr",
     "output_type": "stream",
     "text": [
      "WARNING:absl:Found untraced functions such as _jit_compiled_convolution_op, _jit_compiled_convolution_op, _jit_compiled_convolution_op while saving (showing 3 of 3). These functions will not be directly callable after loading.\n"
     ]
    },
    {
     "name": "stdout",
     "output_type": "stream",
     "text": [
      "INFO:tensorflow:Assets written to: ..\\models\\charCNN\\simple\\assets\n"
     ]
    },
    {
     "name": "stderr",
     "output_type": "stream",
     "text": [
      "INFO:tensorflow:Assets written to: ..\\models\\charCNN\\simple\\assets\n"
     ]
    },
    {
     "name": "stdout",
     "output_type": "stream",
     "text": [
      "81/81 [==============================] - 5s 22ms/step - loss: 0.5592 - accuracy: 0.7407 - val_loss: 0.4785 - val_accuracy: 0.7641\n",
      "Epoch 2/200\n",
      "79/81 [============================>.] - ETA: 0s - loss: 0.4348 - accuracy: 0.7928"
     ]
    },
    {
     "name": "stderr",
     "output_type": "stream",
     "text": [
      "WARNING:absl:Found untraced functions such as _jit_compiled_convolution_op, _jit_compiled_convolution_op, _jit_compiled_convolution_op while saving (showing 3 of 3). These functions will not be directly callable after loading.\n"
     ]
    },
    {
     "name": "stdout",
     "output_type": "stream",
     "text": [
      "INFO:tensorflow:Assets written to: ..\\models\\charCNN\\simple\\assets\n"
     ]
    },
    {
     "name": "stderr",
     "output_type": "stream",
     "text": [
      "INFO:tensorflow:Assets written to: ..\\models\\charCNN\\simple\\assets\n"
     ]
    },
    {
     "name": "stdout",
     "output_type": "stream",
     "text": [
      "81/81 [==============================] - 1s 18ms/step - loss: 0.4343 - accuracy: 0.7933 - val_loss: 0.4308 - val_accuracy: 0.7884\n",
      "Epoch 3/200\n",
      "79/81 [============================>.] - ETA: 0s - loss: 0.3993 - accuracy: 0.8080"
     ]
    },
    {
     "name": "stderr",
     "output_type": "stream",
     "text": [
      "WARNING:absl:Found untraced functions such as _jit_compiled_convolution_op, _jit_compiled_convolution_op, _jit_compiled_convolution_op while saving (showing 3 of 3). These functions will not be directly callable after loading.\n"
     ]
    },
    {
     "name": "stdout",
     "output_type": "stream",
     "text": [
      "INFO:tensorflow:Assets written to: ..\\models\\charCNN\\simple\\assets\n"
     ]
    },
    {
     "name": "stderr",
     "output_type": "stream",
     "text": [
      "INFO:tensorflow:Assets written to: ..\\models\\charCNN\\simple\\assets\n"
     ]
    },
    {
     "name": "stdout",
     "output_type": "stream",
     "text": [
      "81/81 [==============================] - 1s 18ms/step - loss: 0.3991 - accuracy: 0.8078 - val_loss: 0.4049 - val_accuracy: 0.8084\n",
      "Epoch 4/200\n",
      "81/81 [==============================] - ETA: 0s - loss: 0.3784 - accuracy: 0.8207"
     ]
    },
    {
     "name": "stderr",
     "output_type": "stream",
     "text": [
      "WARNING:absl:Found untraced functions such as _jit_compiled_convolution_op, _jit_compiled_convolution_op, _jit_compiled_convolution_op while saving (showing 3 of 3). These functions will not be directly callable after loading.\n"
     ]
    },
    {
     "name": "stdout",
     "output_type": "stream",
     "text": [
      "INFO:tensorflow:Assets written to: ..\\models\\charCNN\\simple\\assets\n"
     ]
    },
    {
     "name": "stderr",
     "output_type": "stream",
     "text": [
      "INFO:tensorflow:Assets written to: ..\\models\\charCNN\\simple\\assets\n"
     ]
    },
    {
     "name": "stdout",
     "output_type": "stream",
     "text": [
      "81/81 [==============================] - 1s 18ms/step - loss: 0.3784 - accuracy: 0.8207 - val_loss: 0.3886 - val_accuracy: 0.8171\n",
      "Epoch 5/200\n",
      "80/81 [============================>.] - ETA: 0s - loss: 0.3686 - accuracy: 0.8267"
     ]
    },
    {
     "name": "stderr",
     "output_type": "stream",
     "text": [
      "WARNING:absl:Found untraced functions such as _jit_compiled_convolution_op, _jit_compiled_convolution_op, _jit_compiled_convolution_op while saving (showing 3 of 3). These functions will not be directly callable after loading.\n"
     ]
    },
    {
     "name": "stdout",
     "output_type": "stream",
     "text": [
      "INFO:tensorflow:Assets written to: ..\\models\\charCNN\\simple\\assets\n"
     ]
    },
    {
     "name": "stderr",
     "output_type": "stream",
     "text": [
      "INFO:tensorflow:Assets written to: ..\\models\\charCNN\\simple\\assets\n"
     ]
    },
    {
     "name": "stdout",
     "output_type": "stream",
     "text": [
      "81/81 [==============================] - 2s 19ms/step - loss: 0.3684 - accuracy: 0.8265 - val_loss: 0.3808 - val_accuracy: 0.8202\n",
      "Epoch 6/200\n",
      "80/81 [============================>.] - ETA: 0s - loss: 0.3592 - accuracy: 0.8289"
     ]
    },
    {
     "name": "stderr",
     "output_type": "stream",
     "text": [
      "WARNING:absl:Found untraced functions such as _jit_compiled_convolution_op, _jit_compiled_convolution_op, _jit_compiled_convolution_op while saving (showing 3 of 3). These functions will not be directly callable after loading.\n"
     ]
    },
    {
     "name": "stdout",
     "output_type": "stream",
     "text": [
      "INFO:tensorflow:Assets written to: ..\\models\\charCNN\\simple\\assets\n"
     ]
    },
    {
     "name": "stderr",
     "output_type": "stream",
     "text": [
      "INFO:tensorflow:Assets written to: ..\\models\\charCNN\\simple\\assets\n"
     ]
    },
    {
     "name": "stdout",
     "output_type": "stream",
     "text": [
      "81/81 [==============================] - 1s 18ms/step - loss: 0.3591 - accuracy: 0.8291 - val_loss: 0.3747 - val_accuracy: 0.8319\n",
      "Epoch 7/200\n",
      "81/81 [==============================] - ETA: 0s - loss: 0.3506 - accuracy: 0.8337"
     ]
    },
    {
     "name": "stderr",
     "output_type": "stream",
     "text": [
      "WARNING:absl:Found untraced functions such as _jit_compiled_convolution_op, _jit_compiled_convolution_op, _jit_compiled_convolution_op while saving (showing 3 of 3). These functions will not be directly callable after loading.\n"
     ]
    },
    {
     "name": "stdout",
     "output_type": "stream",
     "text": [
      "INFO:tensorflow:Assets written to: ..\\models\\charCNN\\simple\\assets\n"
     ]
    },
    {
     "name": "stderr",
     "output_type": "stream",
     "text": [
      "INFO:tensorflow:Assets written to: ..\\models\\charCNN\\simple\\assets\n"
     ]
    },
    {
     "name": "stdout",
     "output_type": "stream",
     "text": [
      "81/81 [==============================] - 1s 18ms/step - loss: 0.3506 - accuracy: 0.8337 - val_loss: 0.3736 - val_accuracy: 0.8328\n",
      "Epoch 8/200\n",
      "80/81 [============================>.] - ETA: 0s - loss: 0.3428 - accuracy: 0.8375"
     ]
    },
    {
     "name": "stderr",
     "output_type": "stream",
     "text": [
      "WARNING:absl:Found untraced functions such as _jit_compiled_convolution_op, _jit_compiled_convolution_op, _jit_compiled_convolution_op while saving (showing 3 of 3). These functions will not be directly callable after loading.\n"
     ]
    },
    {
     "name": "stdout",
     "output_type": "stream",
     "text": [
      "INFO:tensorflow:Assets written to: ..\\models\\charCNN\\simple\\assets\n"
     ]
    },
    {
     "name": "stderr",
     "output_type": "stream",
     "text": [
      "INFO:tensorflow:Assets written to: ..\\models\\charCNN\\simple\\assets\n"
     ]
    },
    {
     "name": "stdout",
     "output_type": "stream",
     "text": [
      "81/81 [==============================] - 2s 19ms/step - loss: 0.3427 - accuracy: 0.8374 - val_loss: 0.3658 - val_accuracy: 0.8306\n",
      "Epoch 9/200\n",
      "81/81 [==============================] - ETA: 0s - loss: 0.3377 - accuracy: 0.8431"
     ]
    },
    {
     "name": "stderr",
     "output_type": "stream",
     "text": [
      "WARNING:absl:Found untraced functions such as _jit_compiled_convolution_op, _jit_compiled_convolution_op, _jit_compiled_convolution_op while saving (showing 3 of 3). These functions will not be directly callable after loading.\n"
     ]
    },
    {
     "name": "stdout",
     "output_type": "stream",
     "text": [
      "INFO:tensorflow:Assets written to: ..\\models\\charCNN\\simple\\assets\n"
     ]
    },
    {
     "name": "stderr",
     "output_type": "stream",
     "text": [
      "INFO:tensorflow:Assets written to: ..\\models\\charCNN\\simple\\assets\n"
     ]
    },
    {
     "name": "stdout",
     "output_type": "stream",
     "text": [
      "81/81 [==============================] - 1s 18ms/step - loss: 0.3377 - accuracy: 0.8431 - val_loss: 0.3627 - val_accuracy: 0.8367\n",
      "Epoch 10/200\n",
      "81/81 [==============================] - ETA: 0s - loss: 0.3317 - accuracy: 0.8451"
     ]
    },
    {
     "name": "stderr",
     "output_type": "stream",
     "text": [
      "WARNING:absl:Found untraced functions such as _jit_compiled_convolution_op, _jit_compiled_convolution_op, _jit_compiled_convolution_op while saving (showing 3 of 3). These functions will not be directly callable after loading.\n"
     ]
    },
    {
     "name": "stdout",
     "output_type": "stream",
     "text": [
      "INFO:tensorflow:Assets written to: ..\\models\\charCNN\\simple\\assets\n"
     ]
    },
    {
     "name": "stderr",
     "output_type": "stream",
     "text": [
      "INFO:tensorflow:Assets written to: ..\\models\\charCNN\\simple\\assets\n"
     ]
    },
    {
     "name": "stdout",
     "output_type": "stream",
     "text": [
      "81/81 [==============================] - 1s 18ms/step - loss: 0.3317 - accuracy: 0.8451 - val_loss: 0.3562 - val_accuracy: 0.8384\n",
      "Epoch 11/200\n",
      "80/81 [============================>.] - ETA: 0s - loss: 0.3249 - accuracy: 0.8492"
     ]
    },
    {
     "name": "stderr",
     "output_type": "stream",
     "text": [
      "WARNING:absl:Found untraced functions such as _jit_compiled_convolution_op, _jit_compiled_convolution_op, _jit_compiled_convolution_op while saving (showing 3 of 3). These functions will not be directly callable after loading.\n"
     ]
    },
    {
     "name": "stdout",
     "output_type": "stream",
     "text": [
      "INFO:tensorflow:Assets written to: ..\\models\\charCNN\\simple\\assets\n"
     ]
    },
    {
     "name": "stderr",
     "output_type": "stream",
     "text": [
      "INFO:tensorflow:Assets written to: ..\\models\\charCNN\\simple\\assets\n"
     ]
    },
    {
     "name": "stdout",
     "output_type": "stream",
     "text": [
      "81/81 [==============================] - 1s 18ms/step - loss: 0.3242 - accuracy: 0.8497 - val_loss: 0.3521 - val_accuracy: 0.8436\n",
      "Epoch 12/200\n",
      "79/81 [============================>.] - ETA: 0s - loss: 0.3172 - accuracy: 0.8539"
     ]
    },
    {
     "name": "stderr",
     "output_type": "stream",
     "text": [
      "WARNING:absl:Found untraced functions such as _jit_compiled_convolution_op, _jit_compiled_convolution_op, _jit_compiled_convolution_op while saving (showing 3 of 3). These functions will not be directly callable after loading.\n"
     ]
    },
    {
     "name": "stdout",
     "output_type": "stream",
     "text": [
      "INFO:tensorflow:Assets written to: ..\\models\\charCNN\\simple\\assets\n"
     ]
    },
    {
     "name": "stderr",
     "output_type": "stream",
     "text": [
      "INFO:tensorflow:Assets written to: ..\\models\\charCNN\\simple\\assets\n"
     ]
    },
    {
     "name": "stdout",
     "output_type": "stream",
     "text": [
      "81/81 [==============================] - 2s 19ms/step - loss: 0.3170 - accuracy: 0.8544 - val_loss: 0.3503 - val_accuracy: 0.8406\n",
      "Epoch 13/200\n",
      "81/81 [==============================] - ETA: 0s - loss: 0.3094 - accuracy: 0.8582"
     ]
    },
    {
     "name": "stderr",
     "output_type": "stream",
     "text": [
      "WARNING:absl:Found untraced functions such as _jit_compiled_convolution_op, _jit_compiled_convolution_op, _jit_compiled_convolution_op while saving (showing 3 of 3). These functions will not be directly callable after loading.\n"
     ]
    },
    {
     "name": "stdout",
     "output_type": "stream",
     "text": [
      "INFO:tensorflow:Assets written to: ..\\models\\charCNN\\simple\\assets\n"
     ]
    },
    {
     "name": "stderr",
     "output_type": "stream",
     "text": [
      "INFO:tensorflow:Assets written to: ..\\models\\charCNN\\simple\\assets\n"
     ]
    },
    {
     "name": "stdout",
     "output_type": "stream",
     "text": [
      "81/81 [==============================] - 1s 18ms/step - loss: 0.3094 - accuracy: 0.8582 - val_loss: 0.3486 - val_accuracy: 0.8367\n",
      "Epoch 14/200\n",
      "79/81 [============================>.] - ETA: 0s - loss: 0.3034 - accuracy: 0.8609"
     ]
    },
    {
     "name": "stderr",
     "output_type": "stream",
     "text": [
      "WARNING:absl:Found untraced functions such as _jit_compiled_convolution_op, _jit_compiled_convolution_op, _jit_compiled_convolution_op while saving (showing 3 of 3). These functions will not be directly callable after loading.\n"
     ]
    },
    {
     "name": "stdout",
     "output_type": "stream",
     "text": [
      "INFO:tensorflow:Assets written to: ..\\models\\charCNN\\simple\\assets\n"
     ]
    },
    {
     "name": "stderr",
     "output_type": "stream",
     "text": [
      "INFO:tensorflow:Assets written to: ..\\models\\charCNN\\simple\\assets\n"
     ]
    },
    {
     "name": "stdout",
     "output_type": "stream",
     "text": [
      "81/81 [==============================] - 1s 18ms/step - loss: 0.3036 - accuracy: 0.8606 - val_loss: 0.3482 - val_accuracy: 0.8384\n",
      "Epoch 15/200\n",
      "80/81 [============================>.] - ETA: 0s - loss: 0.3008 - accuracy: 0.8639"
     ]
    },
    {
     "name": "stderr",
     "output_type": "stream",
     "text": [
      "WARNING:absl:Found untraced functions such as _jit_compiled_convolution_op, _jit_compiled_convolution_op, _jit_compiled_convolution_op while saving (showing 3 of 3). These functions will not be directly callable after loading.\n"
     ]
    },
    {
     "name": "stdout",
     "output_type": "stream",
     "text": [
      "INFO:tensorflow:Assets written to: ..\\models\\charCNN\\simple\\assets\n"
     ]
    },
    {
     "name": "stderr",
     "output_type": "stream",
     "text": [
      "INFO:tensorflow:Assets written to: ..\\models\\charCNN\\simple\\assets\n"
     ]
    },
    {
     "name": "stdout",
     "output_type": "stream",
     "text": [
      "81/81 [==============================] - 1s 18ms/step - loss: 0.3002 - accuracy: 0.8640 - val_loss: 0.3466 - val_accuracy: 0.8410\n",
      "Epoch 16/200\n",
      "81/81 [==============================] - 1s 12ms/step - loss: 0.2914 - accuracy: 0.8657 - val_loss: 0.3497 - val_accuracy: 0.8275\n",
      "Epoch 17/200\n",
      "81/81 [==============================] - 1s 12ms/step - loss: 0.2900 - accuracy: 0.8686 - val_loss: 0.3473 - val_accuracy: 0.8432\n",
      "Epoch 18/200\n",
      "80/81 [============================>.] - ETA: 0s - loss: 0.2814 - accuracy: 0.8738"
     ]
    },
    {
     "name": "stderr",
     "output_type": "stream",
     "text": [
      "WARNING:absl:Found untraced functions such as _jit_compiled_convolution_op, _jit_compiled_convolution_op, _jit_compiled_convolution_op while saving (showing 3 of 3). These functions will not be directly callable after loading.\n"
     ]
    },
    {
     "name": "stdout",
     "output_type": "stream",
     "text": [
      "INFO:tensorflow:Assets written to: ..\\models\\charCNN\\simple\\assets\n"
     ]
    },
    {
     "name": "stderr",
     "output_type": "stream",
     "text": [
      "INFO:tensorflow:Assets written to: ..\\models\\charCNN\\simple\\assets\n"
     ]
    },
    {
     "name": "stdout",
     "output_type": "stream",
     "text": [
      "81/81 [==============================] - 2s 19ms/step - loss: 0.2814 - accuracy: 0.8739 - val_loss: 0.3460 - val_accuracy: 0.8449\n",
      "Epoch 19/200\n",
      "81/81 [==============================] - 1s 12ms/step - loss: 0.2772 - accuracy: 0.8768 - val_loss: 0.3460 - val_accuracy: 0.8375\n",
      "Epoch 20/200\n",
      "79/81 [============================>.] - ETA: 0s - loss: 0.2701 - accuracy: 0.8832"
     ]
    },
    {
     "name": "stderr",
     "output_type": "stream",
     "text": [
      "WARNING:absl:Found untraced functions such as _jit_compiled_convolution_op, _jit_compiled_convolution_op, _jit_compiled_convolution_op while saving (showing 3 of 3). These functions will not be directly callable after loading.\n"
     ]
    },
    {
     "name": "stdout",
     "output_type": "stream",
     "text": [
      "INFO:tensorflow:Assets written to: ..\\models\\charCNN\\simple\\assets\n"
     ]
    },
    {
     "name": "stderr",
     "output_type": "stream",
     "text": [
      "INFO:tensorflow:Assets written to: ..\\models\\charCNN\\simple\\assets\n"
     ]
    },
    {
     "name": "stdout",
     "output_type": "stream",
     "text": [
      "81/81 [==============================] - 1s 18ms/step - loss: 0.2696 - accuracy: 0.8834 - val_loss: 0.3430 - val_accuracy: 0.8467\n",
      "Epoch 21/200\n",
      "81/81 [==============================] - 1s 13ms/step - loss: 0.2669 - accuracy: 0.8835 - val_loss: 0.3447 - val_accuracy: 0.8449\n",
      "Epoch 22/200\n",
      "81/81 [==============================] - 1s 12ms/step - loss: 0.2576 - accuracy: 0.8890 - val_loss: 0.3520 - val_accuracy: 0.8228\n",
      "Epoch 23/200\n",
      "81/81 [==============================] - ETA: 0s - loss: 0.2557 - accuracy: 0.8885"
     ]
    },
    {
     "name": "stderr",
     "output_type": "stream",
     "text": [
      "WARNING:absl:Found untraced functions such as _jit_compiled_convolution_op, _jit_compiled_convolution_op, _jit_compiled_convolution_op while saving (showing 3 of 3). These functions will not be directly callable after loading.\n"
     ]
    },
    {
     "name": "stdout",
     "output_type": "stream",
     "text": [
      "INFO:tensorflow:Assets written to: ..\\models\\charCNN\\simple\\assets\n"
     ]
    },
    {
     "name": "stderr",
     "output_type": "stream",
     "text": [
      "INFO:tensorflow:Assets written to: ..\\models\\charCNN\\simple\\assets\n"
     ]
    },
    {
     "name": "stdout",
     "output_type": "stream",
     "text": [
      "81/81 [==============================] - 1s 18ms/step - loss: 0.2557 - accuracy: 0.8885 - val_loss: 0.3415 - val_accuracy: 0.8371\n",
      "Epoch 24/200\n",
      "81/81 [==============================] - 1s 12ms/step - loss: 0.2440 - accuracy: 0.8968 - val_loss: 0.3484 - val_accuracy: 0.8423\n",
      "Epoch 25/200\n",
      "81/81 [==============================] - 1s 12ms/step - loss: 0.2412 - accuracy: 0.8976 - val_loss: 0.3501 - val_accuracy: 0.8427\n",
      "Epoch 26/200\n",
      "81/81 [==============================] - 1s 12ms/step - loss: 0.2356 - accuracy: 0.9019 - val_loss: 0.3470 - val_accuracy: 0.8410\n",
      "Epoch 27/200\n",
      "81/81 [==============================] - 1s 12ms/step - loss: 0.2311 - accuracy: 0.9040 - val_loss: 0.3507 - val_accuracy: 0.8384\n",
      "Epoch 28/200\n",
      "81/81 [==============================] - 1s 12ms/step - loss: 0.2268 - accuracy: 0.9054 - val_loss: 0.3540 - val_accuracy: 0.8354\n",
      "Epoch 29/200\n",
      "81/81 [==============================] - 1s 12ms/step - loss: 0.2215 - accuracy: 0.9084 - val_loss: 0.3598 - val_accuracy: 0.8371\n",
      "Epoch 30/200\n",
      "81/81 [==============================] - 1s 12ms/step - loss: 0.2127 - accuracy: 0.9157 - val_loss: 0.3579 - val_accuracy: 0.8349\n",
      "Epoch 31/200\n",
      "81/81 [==============================] - 1s 12ms/step - loss: 0.2067 - accuracy: 0.9177 - val_loss: 0.3591 - val_accuracy: 0.8384\n",
      "Epoch 32/200\n",
      "81/81 [==============================] - 1s 12ms/step - loss: 0.2023 - accuracy: 0.9203 - val_loss: 0.3641 - val_accuracy: 0.8332\n",
      "Epoch 33/200\n",
      "81/81 [==============================] - 1s 12ms/step - loss: 0.1994 - accuracy: 0.9213 - val_loss: 0.3674 - val_accuracy: 0.8384\n"
     ]
    },
    {
     "data": {
      "text/plain": "<keras.callbacks.History at 0x1b01329fe20>"
     },
     "execution_count": 4,
     "metadata": {},
     "output_type": "execute_result"
    }
   ],
   "source": [
    "# Train CNN model.\n",
    "early_stopping = keras.callbacks.EarlyStopping(monitor='val_loss', patience=10, restore_best_weights=True)\n",
    "save_best = keras.callbacks.ModelCheckpoint(os.path.join(MODELS_DIR, \"simple\"), monitor='val_loss',\n",
    "                                            save_best_only=True, restore_best_weights=True)\n",
    "model.fit(np.array(train_features), np.array(train_labels), batch_size=256, epochs=EPOCHS,\n",
    "          validation_data=(np.array(val_features), np.array(val_labels)),\n",
    "          callbacks=[early_stopping, save_best])"
   ]
  },
  {
   "cell_type": "code",
   "execution_count": 5,
   "metadata": {
    "colab": {},
    "colab_type": "code",
    "id": "twMr4Dz5KJdG",
    "ExecuteTime": {
     "end_time": "2023-11-27T21:23:07.588856700Z",
     "start_time": "2023-11-27T21:23:07.355857400Z"
    }
   },
   "outputs": [
    {
     "name": "stdout",
     "output_type": "stream",
     "text": [
      "80/80 [==============================] - 0s 1ms/step\n"
     ]
    },
    {
     "data": {
      "text/plain": "{'balanced_accuracy': 0.8381302572378717,\n 'f1_score': 0.843181818181818,\n 'precision': 0.8183823529411764,\n 'recall': 0.86953125}"
     },
     "execution_count": 5,
     "metadata": {},
     "output_type": "execute_result"
    }
   ],
   "source": [
    "probas = model.predict(np.array(test_features))\n",
    "y_pred = proba_to_pred(probas)\n",
    "results = calculate_metrics(test_labels, y_pred)\n",
    "results"
   ]
  },
  {
   "cell_type": "markdown",
   "metadata": {},
   "source": [
    "# Lemmatized data "
   ]
  },
  {
   "cell_type": "code",
   "execution_count": 6,
   "metadata": {
    "ExecuteTime": {
     "end_time": "2023-11-27T21:23:08.302856300Z",
     "start_time": "2023-11-27T21:23:07.575856500Z"
    }
   },
   "outputs": [],
   "source": [
    "LEMMATIZED_DATA_PATH = os.path.join('..', 'data', 'lemmatized')\n",
    "lem_train_features, lem_val_features, lem_test_features, lem_train_labels, lem_val_labels, lem_test_labels, lem_vocab_size = prepare_data(\n",
    "    LEMMATIZED_DATA_PATH)\n",
    "\n",
    "modelLEM = buildCharCNNModel(lem_vocab_size, embSize=32, inputSize=320, verbose=False)"
   ]
  },
  {
   "cell_type": "code",
   "execution_count": 7,
   "metadata": {
    "colab": {
     "base_uri": "https://localhost:8080/",
     "height": 340
    },
    "colab_type": "code",
    "executionInfo": {
     "elapsed": 116648,
     "status": "ok",
     "timestamp": 1595414640240,
     "user": {
      "displayName": "tizfa data",
      "photoUrl": "",
      "userId": "14479436635515447323"
     },
     "user_tz": -120
    },
    "id": "MFxq59MLEtkh",
    "outputId": "e924c92f-268d-44aa-817b-50248216c2d2",
    "ExecuteTime": {
     "end_time": "2023-11-27T21:23:48.264688400Z",
     "start_time": "2023-11-27T21:23:08.305856200Z"
    }
   },
   "outputs": [
    {
     "name": "stdout",
     "output_type": "stream",
     "text": [
      "Epoch 1/200\n",
      "80/81 [============================>.] - ETA: 0s - loss: 0.5575 - accuracy: 0.7444"
     ]
    },
    {
     "name": "stderr",
     "output_type": "stream",
     "text": [
      "WARNING:absl:Found untraced functions such as _jit_compiled_convolution_op, _jit_compiled_convolution_op, _jit_compiled_convolution_op while saving (showing 3 of 3). These functions will not be directly callable after loading.\n"
     ]
    },
    {
     "name": "stdout",
     "output_type": "stream",
     "text": [
      "INFO:tensorflow:Assets written to: ..\\models\\charCNN\\lemmatized\\assets\n"
     ]
    },
    {
     "name": "stderr",
     "output_type": "stream",
     "text": [
      "INFO:tensorflow:Assets written to: ..\\models\\charCNN\\lemmatized\\assets\n"
     ]
    },
    {
     "name": "stdout",
     "output_type": "stream",
     "text": [
      "81/81 [==============================] - 2s 20ms/step - loss: 0.5564 - accuracy: 0.7447 - val_loss: 0.4836 - val_accuracy: 0.7619\n",
      "Epoch 2/200\n",
      "78/81 [===========================>..] - ETA: 0s - loss: 0.4401 - accuracy: 0.7912"
     ]
    },
    {
     "name": "stderr",
     "output_type": "stream",
     "text": [
      "WARNING:absl:Found untraced functions such as _jit_compiled_convolution_op, _jit_compiled_convolution_op, _jit_compiled_convolution_op while saving (showing 3 of 3). These functions will not be directly callable after loading.\n"
     ]
    },
    {
     "name": "stdout",
     "output_type": "stream",
     "text": [
      "INFO:tensorflow:Assets written to: ..\\models\\charCNN\\lemmatized\\assets\n"
     ]
    },
    {
     "name": "stderr",
     "output_type": "stream",
     "text": [
      "INFO:tensorflow:Assets written to: ..\\models\\charCNN\\lemmatized\\assets\n"
     ]
    },
    {
     "name": "stdout",
     "output_type": "stream",
     "text": [
      "81/81 [==============================] - 1s 18ms/step - loss: 0.4393 - accuracy: 0.7916 - val_loss: 0.4390 - val_accuracy: 0.7897\n",
      "Epoch 3/200\n",
      "81/81 [==============================] - ETA: 0s - loss: 0.4063 - accuracy: 0.8059"
     ]
    },
    {
     "name": "stderr",
     "output_type": "stream",
     "text": [
      "WARNING:absl:Found untraced functions such as _jit_compiled_convolution_op, _jit_compiled_convolution_op, _jit_compiled_convolution_op while saving (showing 3 of 3). These functions will not be directly callable after loading.\n"
     ]
    },
    {
     "name": "stdout",
     "output_type": "stream",
     "text": [
      "INFO:tensorflow:Assets written to: ..\\models\\charCNN\\lemmatized\\assets\n"
     ]
    },
    {
     "name": "stderr",
     "output_type": "stream",
     "text": [
      "INFO:tensorflow:Assets written to: ..\\models\\charCNN\\lemmatized\\assets\n"
     ]
    },
    {
     "name": "stdout",
     "output_type": "stream",
     "text": [
      "81/81 [==============================] - 1s 18ms/step - loss: 0.4063 - accuracy: 0.8059 - val_loss: 0.4143 - val_accuracy: 0.8019\n",
      "Epoch 4/200\n",
      "80/81 [============================>.] - ETA: 0s - loss: 0.3860 - accuracy: 0.8168"
     ]
    },
    {
     "name": "stderr",
     "output_type": "stream",
     "text": [
      "WARNING:absl:Found untraced functions such as _jit_compiled_convolution_op, _jit_compiled_convolution_op, _jit_compiled_convolution_op while saving (showing 3 of 3). These functions will not be directly callable after loading.\n"
     ]
    },
    {
     "name": "stdout",
     "output_type": "stream",
     "text": [
      "INFO:tensorflow:Assets written to: ..\\models\\charCNN\\lemmatized\\assets\n"
     ]
    },
    {
     "name": "stderr",
     "output_type": "stream",
     "text": [
      "INFO:tensorflow:Assets written to: ..\\models\\charCNN\\lemmatized\\assets\n"
     ]
    },
    {
     "name": "stdout",
     "output_type": "stream",
     "text": [
      "81/81 [==============================] - 1s 18ms/step - loss: 0.3854 - accuracy: 0.8171 - val_loss: 0.3950 - val_accuracy: 0.8093\n",
      "Epoch 5/200\n",
      "80/81 [============================>.] - ETA: 0s - loss: 0.3699 - accuracy: 0.8234"
     ]
    },
    {
     "name": "stderr",
     "output_type": "stream",
     "text": [
      "WARNING:absl:Found untraced functions such as _jit_compiled_convolution_op, _jit_compiled_convolution_op, _jit_compiled_convolution_op while saving (showing 3 of 3). These functions will not be directly callable after loading.\n"
     ]
    },
    {
     "name": "stdout",
     "output_type": "stream",
     "text": [
      "INFO:tensorflow:Assets written to: ..\\models\\charCNN\\lemmatized\\assets\n"
     ]
    },
    {
     "name": "stderr",
     "output_type": "stream",
     "text": [
      "INFO:tensorflow:Assets written to: ..\\models\\charCNN\\lemmatized\\assets\n"
     ]
    },
    {
     "name": "stdout",
     "output_type": "stream",
     "text": [
      "81/81 [==============================] - 2s 19ms/step - loss: 0.3697 - accuracy: 0.8234 - val_loss: 0.3837 - val_accuracy: 0.8189\n",
      "Epoch 6/200\n",
      "81/81 [==============================] - ETA: 0s - loss: 0.3603 - accuracy: 0.8300"
     ]
    },
    {
     "name": "stderr",
     "output_type": "stream",
     "text": [
      "WARNING:absl:Found untraced functions such as _jit_compiled_convolution_op, _jit_compiled_convolution_op, _jit_compiled_convolution_op while saving (showing 3 of 3). These functions will not be directly callable after loading.\n"
     ]
    },
    {
     "name": "stdout",
     "output_type": "stream",
     "text": [
      "INFO:tensorflow:Assets written to: ..\\models\\charCNN\\lemmatized\\assets\n"
     ]
    },
    {
     "name": "stderr",
     "output_type": "stream",
     "text": [
      "INFO:tensorflow:Assets written to: ..\\models\\charCNN\\lemmatized\\assets\n"
     ]
    },
    {
     "name": "stdout",
     "output_type": "stream",
     "text": [
      "81/81 [==============================] - 1s 18ms/step - loss: 0.3603 - accuracy: 0.8300 - val_loss: 0.3757 - val_accuracy: 0.8297\n",
      "Epoch 7/200\n",
      "79/81 [============================>.] - ETA: 0s - loss: 0.3512 - accuracy: 0.8336"
     ]
    },
    {
     "name": "stderr",
     "output_type": "stream",
     "text": [
      "WARNING:absl:Found untraced functions such as _jit_compiled_convolution_op, _jit_compiled_convolution_op, _jit_compiled_convolution_op while saving (showing 3 of 3). These functions will not be directly callable after loading.\n"
     ]
    },
    {
     "name": "stdout",
     "output_type": "stream",
     "text": [
      "INFO:tensorflow:Assets written to: ..\\models\\charCNN\\lemmatized\\assets\n"
     ]
    },
    {
     "name": "stderr",
     "output_type": "stream",
     "text": [
      "INFO:tensorflow:Assets written to: ..\\models\\charCNN\\lemmatized\\assets\n"
     ]
    },
    {
     "name": "stdout",
     "output_type": "stream",
     "text": [
      "81/81 [==============================] - 1s 18ms/step - loss: 0.3521 - accuracy: 0.8330 - val_loss: 0.3749 - val_accuracy: 0.8275\n",
      "Epoch 8/200\n",
      "79/81 [============================>.] - ETA: 0s - loss: 0.3437 - accuracy: 0.8391"
     ]
    },
    {
     "name": "stderr",
     "output_type": "stream",
     "text": [
      "WARNING:absl:Found untraced functions such as _jit_compiled_convolution_op, _jit_compiled_convolution_op, _jit_compiled_convolution_op while saving (showing 3 of 3). These functions will not be directly callable after loading.\n"
     ]
    },
    {
     "name": "stdout",
     "output_type": "stream",
     "text": [
      "INFO:tensorflow:Assets written to: ..\\models\\charCNN\\lemmatized\\assets\n"
     ]
    },
    {
     "name": "stderr",
     "output_type": "stream",
     "text": [
      "INFO:tensorflow:Assets written to: ..\\models\\charCNN\\lemmatized\\assets\n"
     ]
    },
    {
     "name": "stdout",
     "output_type": "stream",
     "text": [
      "81/81 [==============================] - 1s 18ms/step - loss: 0.3440 - accuracy: 0.8386 - val_loss: 0.3661 - val_accuracy: 0.8336\n",
      "Epoch 9/200\n",
      "81/81 [==============================] - ETA: 0s - loss: 0.3358 - accuracy: 0.8444"
     ]
    },
    {
     "name": "stderr",
     "output_type": "stream",
     "text": [
      "WARNING:absl:Found untraced functions such as _jit_compiled_convolution_op, _jit_compiled_convolution_op, _jit_compiled_convolution_op while saving (showing 3 of 3). These functions will not be directly callable after loading.\n"
     ]
    },
    {
     "name": "stdout",
     "output_type": "stream",
     "text": [
      "INFO:tensorflow:Assets written to: ..\\models\\charCNN\\lemmatized\\assets\n"
     ]
    },
    {
     "name": "stderr",
     "output_type": "stream",
     "text": [
      "INFO:tensorflow:Assets written to: ..\\models\\charCNN\\lemmatized\\assets\n"
     ]
    },
    {
     "name": "stdout",
     "output_type": "stream",
     "text": [
      "81/81 [==============================] - 2s 19ms/step - loss: 0.3358 - accuracy: 0.8444 - val_loss: 0.3630 - val_accuracy: 0.8393\n",
      "Epoch 10/200\n",
      "78/81 [===========================>..] - ETA: 0s - loss: 0.3292 - accuracy: 0.8465"
     ]
    },
    {
     "name": "stderr",
     "output_type": "stream",
     "text": [
      "WARNING:absl:Found untraced functions such as _jit_compiled_convolution_op, _jit_compiled_convolution_op, _jit_compiled_convolution_op while saving (showing 3 of 3). These functions will not be directly callable after loading.\n"
     ]
    },
    {
     "name": "stdout",
     "output_type": "stream",
     "text": [
      "INFO:tensorflow:Assets written to: ..\\models\\charCNN\\lemmatized\\assets\n"
     ]
    },
    {
     "name": "stderr",
     "output_type": "stream",
     "text": [
      "INFO:tensorflow:Assets written to: ..\\models\\charCNN\\lemmatized\\assets\n"
     ]
    },
    {
     "name": "stdout",
     "output_type": "stream",
     "text": [
      "81/81 [==============================] - 1s 18ms/step - loss: 0.3303 - accuracy: 0.8461 - val_loss: 0.3555 - val_accuracy: 0.8393\n",
      "Epoch 11/200\n",
      "79/81 [============================>.] - ETA: 0s - loss: 0.3233 - accuracy: 0.8494"
     ]
    },
    {
     "name": "stderr",
     "output_type": "stream",
     "text": [
      "WARNING:absl:Found untraced functions such as _jit_compiled_convolution_op, _jit_compiled_convolution_op, _jit_compiled_convolution_op while saving (showing 3 of 3). These functions will not be directly callable after loading.\n"
     ]
    },
    {
     "name": "stdout",
     "output_type": "stream",
     "text": [
      "INFO:tensorflow:Assets written to: ..\\models\\charCNN\\lemmatized\\assets\n"
     ]
    },
    {
     "name": "stderr",
     "output_type": "stream",
     "text": [
      "INFO:tensorflow:Assets written to: ..\\models\\charCNN\\lemmatized\\assets\n"
     ]
    },
    {
     "name": "stdout",
     "output_type": "stream",
     "text": [
      "81/81 [==============================] - 1s 18ms/step - loss: 0.3233 - accuracy: 0.8496 - val_loss: 0.3517 - val_accuracy: 0.8401\n",
      "Epoch 12/200\n",
      "80/81 [============================>.] - ETA: 0s - loss: 0.3171 - accuracy: 0.8542"
     ]
    },
    {
     "name": "stderr",
     "output_type": "stream",
     "text": [
      "WARNING:absl:Found untraced functions such as _jit_compiled_convolution_op, _jit_compiled_convolution_op, _jit_compiled_convolution_op while saving (showing 3 of 3). These functions will not be directly callable after loading.\n"
     ]
    },
    {
     "name": "stdout",
     "output_type": "stream",
     "text": [
      "INFO:tensorflow:Assets written to: ..\\models\\charCNN\\lemmatized\\assets\n"
     ]
    },
    {
     "name": "stderr",
     "output_type": "stream",
     "text": [
      "INFO:tensorflow:Assets written to: ..\\models\\charCNN\\lemmatized\\assets\n"
     ]
    },
    {
     "name": "stdout",
     "output_type": "stream",
     "text": [
      "81/81 [==============================] - 1s 18ms/step - loss: 0.3168 - accuracy: 0.8545 - val_loss: 0.3499 - val_accuracy: 0.8410\n",
      "Epoch 13/200\n",
      "80/81 [============================>.] - ETA: 0s - loss: 0.3086 - accuracy: 0.8590"
     ]
    },
    {
     "name": "stderr",
     "output_type": "stream",
     "text": [
      "WARNING:absl:Found untraced functions such as _jit_compiled_convolution_op, _jit_compiled_convolution_op, _jit_compiled_convolution_op while saving (showing 3 of 3). These functions will not be directly callable after loading.\n"
     ]
    },
    {
     "name": "stdout",
     "output_type": "stream",
     "text": [
      "INFO:tensorflow:Assets written to: ..\\models\\charCNN\\lemmatized\\assets\n"
     ]
    },
    {
     "name": "stderr",
     "output_type": "stream",
     "text": [
      "INFO:tensorflow:Assets written to: ..\\models\\charCNN\\lemmatized\\assets\n"
     ]
    },
    {
     "name": "stdout",
     "output_type": "stream",
     "text": [
      "81/81 [==============================] - 2s 19ms/step - loss: 0.3088 - accuracy: 0.8589 - val_loss: 0.3488 - val_accuracy: 0.8406\n",
      "Epoch 14/200\n",
      "77/81 [===========================>..] - ETA: 0s - loss: 0.3025 - accuracy: 0.8622"
     ]
    },
    {
     "name": "stderr",
     "output_type": "stream",
     "text": [
      "WARNING:absl:Found untraced functions such as _jit_compiled_convolution_op, _jit_compiled_convolution_op, _jit_compiled_convolution_op while saving (showing 3 of 3). These functions will not be directly callable after loading.\n"
     ]
    },
    {
     "name": "stdout",
     "output_type": "stream",
     "text": [
      "INFO:tensorflow:Assets written to: ..\\models\\charCNN\\lemmatized\\assets\n"
     ]
    },
    {
     "name": "stderr",
     "output_type": "stream",
     "text": [
      "INFO:tensorflow:Assets written to: ..\\models\\charCNN\\lemmatized\\assets\n"
     ]
    },
    {
     "name": "stdout",
     "output_type": "stream",
     "text": [
      "81/81 [==============================] - 1s 18ms/step - loss: 0.3026 - accuracy: 0.8621 - val_loss: 0.3472 - val_accuracy: 0.8432\n",
      "Epoch 15/200\n",
      "81/81 [==============================] - ETA: 0s - loss: 0.2972 - accuracy: 0.8642"
     ]
    },
    {
     "name": "stderr",
     "output_type": "stream",
     "text": [
      "WARNING:absl:Found untraced functions such as _jit_compiled_convolution_op, _jit_compiled_convolution_op, _jit_compiled_convolution_op while saving (showing 3 of 3). These functions will not be directly callable after loading.\n"
     ]
    },
    {
     "name": "stdout",
     "output_type": "stream",
     "text": [
      "INFO:tensorflow:Assets written to: ..\\models\\charCNN\\lemmatized\\assets\n"
     ]
    },
    {
     "name": "stderr",
     "output_type": "stream",
     "text": [
      "INFO:tensorflow:Assets written to: ..\\models\\charCNN\\lemmatized\\assets\n"
     ]
    },
    {
     "name": "stdout",
     "output_type": "stream",
     "text": [
      "81/81 [==============================] - 1s 18ms/step - loss: 0.2972 - accuracy: 0.8642 - val_loss: 0.3462 - val_accuracy: 0.8436\n",
      "Epoch 16/200\n",
      "81/81 [==============================] - 1s 12ms/step - loss: 0.2906 - accuracy: 0.8708 - val_loss: 0.3525 - val_accuracy: 0.8297\n",
      "Epoch 17/200\n",
      "81/81 [==============================] - 1s 12ms/step - loss: 0.2898 - accuracy: 0.8699 - val_loss: 0.3495 - val_accuracy: 0.8454\n",
      "Epoch 18/200\n",
      "79/81 [============================>.] - ETA: 0s - loss: 0.2814 - accuracy: 0.8735"
     ]
    },
    {
     "name": "stderr",
     "output_type": "stream",
     "text": [
      "WARNING:absl:Found untraced functions such as _jit_compiled_convolution_op, _jit_compiled_convolution_op, _jit_compiled_convolution_op while saving (showing 3 of 3). These functions will not be directly callable after loading.\n"
     ]
    },
    {
     "name": "stdout",
     "output_type": "stream",
     "text": [
      "INFO:tensorflow:Assets written to: ..\\models\\charCNN\\lemmatized\\assets\n"
     ]
    },
    {
     "name": "stderr",
     "output_type": "stream",
     "text": [
      "INFO:tensorflow:Assets written to: ..\\models\\charCNN\\lemmatized\\assets\n"
     ]
    },
    {
     "name": "stdout",
     "output_type": "stream",
     "text": [
      "81/81 [==============================] - 1s 18ms/step - loss: 0.2811 - accuracy: 0.8736 - val_loss: 0.3432 - val_accuracy: 0.8440\n",
      "Epoch 19/200\n",
      "81/81 [==============================] - 1s 12ms/step - loss: 0.2736 - accuracy: 0.8784 - val_loss: 0.3446 - val_accuracy: 0.8423\n",
      "Epoch 20/200\n",
      "81/81 [==============================] - 1s 12ms/step - loss: 0.2679 - accuracy: 0.8834 - val_loss: 0.3436 - val_accuracy: 0.8480\n",
      "Epoch 21/200\n",
      "78/81 [===========================>..] - ETA: 0s - loss: 0.2647 - accuracy: 0.8850"
     ]
    },
    {
     "name": "stderr",
     "output_type": "stream",
     "text": [
      "WARNING:absl:Found untraced functions such as _jit_compiled_convolution_op, _jit_compiled_convolution_op, _jit_compiled_convolution_op while saving (showing 3 of 3). These functions will not be directly callable after loading.\n"
     ]
    },
    {
     "name": "stdout",
     "output_type": "stream",
     "text": [
      "INFO:tensorflow:Assets written to: ..\\models\\charCNN\\lemmatized\\assets\n"
     ]
    },
    {
     "name": "stderr",
     "output_type": "stream",
     "text": [
      "INFO:tensorflow:Assets written to: ..\\models\\charCNN\\lemmatized\\assets\n"
     ]
    },
    {
     "name": "stdout",
     "output_type": "stream",
     "text": [
      "81/81 [==============================] - 2s 19ms/step - loss: 0.2654 - accuracy: 0.8844 - val_loss: 0.3403 - val_accuracy: 0.8449\n",
      "Epoch 22/200\n",
      "81/81 [==============================] - 1s 12ms/step - loss: 0.2557 - accuracy: 0.8886 - val_loss: 0.3504 - val_accuracy: 0.8262\n",
      "Epoch 23/200\n",
      "81/81 [==============================] - 1s 13ms/step - loss: 0.2539 - accuracy: 0.8927 - val_loss: 0.3404 - val_accuracy: 0.8388\n",
      "Epoch 24/200\n",
      "81/81 [==============================] - 1s 12ms/step - loss: 0.2429 - accuracy: 0.8972 - val_loss: 0.3450 - val_accuracy: 0.8467\n",
      "Epoch 25/200\n",
      "81/81 [==============================] - 1s 12ms/step - loss: 0.2395 - accuracy: 0.8983 - val_loss: 0.3461 - val_accuracy: 0.8467\n",
      "Epoch 26/200\n",
      "81/81 [==============================] - 1s 13ms/step - loss: 0.2335 - accuracy: 0.9029 - val_loss: 0.3457 - val_accuracy: 0.8388\n",
      "Epoch 27/200\n",
      "81/81 [==============================] - 1s 12ms/step - loss: 0.2294 - accuracy: 0.9050 - val_loss: 0.3531 - val_accuracy: 0.8467\n",
      "Epoch 28/200\n",
      "81/81 [==============================] - 1s 12ms/step - loss: 0.2216 - accuracy: 0.9097 - val_loss: 0.3538 - val_accuracy: 0.8445\n",
      "Epoch 29/200\n",
      "81/81 [==============================] - 1s 12ms/step - loss: 0.2191 - accuracy: 0.9077 - val_loss: 0.3561 - val_accuracy: 0.8432\n",
      "Epoch 30/200\n",
      "81/81 [==============================] - 1s 12ms/step - loss: 0.2107 - accuracy: 0.9143 - val_loss: 0.3535 - val_accuracy: 0.8401\n",
      "Epoch 31/200\n",
      "81/81 [==============================] - 1s 12ms/step - loss: 0.2061 - accuracy: 0.9164 - val_loss: 0.3554 - val_accuracy: 0.8427\n"
     ]
    },
    {
     "data": {
      "text/plain": "<keras.callbacks.History at 0x1b0130b4070>"
     },
     "execution_count": 7,
     "metadata": {},
     "output_type": "execute_result"
    }
   ],
   "source": [
    "# Train CNN model.\n",
    "early_stopping = keras.callbacks.EarlyStopping(monitor='val_loss', patience=10, restore_best_weights=True)\n",
    "save_best = keras.callbacks.ModelCheckpoint(os.path.join(MODELS_DIR, \"lemmatized\"), monitor='val_loss',\n",
    "                                            save_best_only=True, restore_best_weights=True)\n",
    "modelLEM.fit(np.array(lem_train_features), np.array(lem_train_labels), batch_size=256, epochs=EPOCHS,\n",
    "             validation_data=(np.array(lem_val_features), np.array(lem_val_labels)),\n",
    "             callbacks=[early_stopping, save_best])"
   ]
  },
  {
   "cell_type": "code",
   "execution_count": 8,
   "metadata": {
    "colab": {
     "base_uri": "https://localhost:8080/",
     "height": 901
    },
    "colab_type": "code",
    "executionInfo": {
     "elapsed": 1737212,
     "status": "ok",
     "timestamp": 1595416260810,
     "user": {
      "displayName": "tizfa data",
      "photoUrl": "",
      "userId": "14479436635515447323"
     },
     "user_tz": -120
    },
    "id": "EJNNwIy0LsZa",
    "outputId": "aa334d9e-5553-4ec4-a2db-1c472d81e3b6",
    "ExecuteTime": {
     "end_time": "2023-11-27T21:23:48.438687300Z",
     "start_time": "2023-11-27T21:23:48.233688Z"
    }
   },
   "outputs": [
    {
     "name": "stdout",
     "output_type": "stream",
     "text": [
      "80/80 [==============================] - 0s 1ms/step\n"
     ]
    },
    {
     "data": {
      "text/plain": "{'balanced_accuracy': 0.8385129352503913,\n 'f1_score': 0.8451443569553806,\n 'precision': 0.8125450612833454,\n 'recall': 0.88046875}"
     },
     "execution_count": 8,
     "metadata": {},
     "output_type": "execute_result"
    }
   ],
   "source": [
    "probas_lem = modelLEM.predict(np.array(lem_test_features))\n",
    "y_pred_lem = proba_to_pred(probas_lem)\n",
    "results_lem = calculate_metrics(lem_test_labels, y_pred_lem)\n",
    "results_lem"
   ]
  },
  {
   "cell_type": "markdown",
   "metadata": {},
   "source": [
    "# Stemmed data"
   ]
  },
  {
   "cell_type": "code",
   "execution_count": 9,
   "metadata": {
    "colab": {},
    "colab_type": "code",
    "id": "XMhDOQ0pL1RO",
    "ExecuteTime": {
     "end_time": "2023-11-27T21:23:49.150687700Z",
     "start_time": "2023-11-27T21:23:48.425688800Z"
    }
   },
   "outputs": [],
   "source": [
    "STEMMED_DATA_PATH = os.path.join('..', 'data', 'stemmed')\n",
    "stem_train_features, stem_val_features, stem_test_features, stem_train_labels, stem_val_labels, stem_test_labels, stem_vocab_size = prepare_data(\n",
    "    STEMMED_DATA_PATH)\n",
    "\n",
    "modelSTEM = buildCharCNNModel(stem_vocab_size, embSize=32, inputSize=320, verbose=False)"
   ]
  },
  {
   "cell_type": "code",
   "execution_count": 10,
   "metadata": {
    "colab": {},
    "colab_type": "code",
    "id": "QPDhYLzto39C",
    "ExecuteTime": {
     "end_time": "2023-11-27T21:24:31.284684200Z",
     "start_time": "2023-11-27T21:23:49.151687300Z"
    }
   },
   "outputs": [
    {
     "name": "stdout",
     "output_type": "stream",
     "text": [
      "Epoch 1/200\n",
      "78/81 [===========================>..] - ETA: 0s - loss: 0.5651 - accuracy: 0.7369"
     ]
    },
    {
     "name": "stderr",
     "output_type": "stream",
     "text": [
      "WARNING:absl:Found untraced functions such as _jit_compiled_convolution_op, _jit_compiled_convolution_op, _jit_compiled_convolution_op while saving (showing 3 of 3). These functions will not be directly callable after loading.\n"
     ]
    },
    {
     "name": "stdout",
     "output_type": "stream",
     "text": [
      "INFO:tensorflow:Assets written to: ..\\models\\charCNN\\stemmed\\assets\n"
     ]
    },
    {
     "name": "stderr",
     "output_type": "stream",
     "text": [
      "INFO:tensorflow:Assets written to: ..\\models\\charCNN\\stemmed\\assets\n"
     ]
    },
    {
     "name": "stdout",
     "output_type": "stream",
     "text": [
      "81/81 [==============================] - 2s 19ms/step - loss: 0.5618 - accuracy: 0.7378 - val_loss: 0.4766 - val_accuracy: 0.7663\n",
      "Epoch 2/200\n",
      "80/81 [============================>.] - ETA: 0s - loss: 0.4349 - accuracy: 0.7946"
     ]
    },
    {
     "name": "stderr",
     "output_type": "stream",
     "text": [
      "WARNING:absl:Found untraced functions such as _jit_compiled_convolution_op, _jit_compiled_convolution_op, _jit_compiled_convolution_op while saving (showing 3 of 3). These functions will not be directly callable after loading.\n"
     ]
    },
    {
     "name": "stdout",
     "output_type": "stream",
     "text": [
      "INFO:tensorflow:Assets written to: ..\\models\\charCNN\\stemmed\\assets\n"
     ]
    },
    {
     "name": "stderr",
     "output_type": "stream",
     "text": [
      "INFO:tensorflow:Assets written to: ..\\models\\charCNN\\stemmed\\assets\n"
     ]
    },
    {
     "name": "stdout",
     "output_type": "stream",
     "text": [
      "81/81 [==============================] - 1s 18ms/step - loss: 0.4348 - accuracy: 0.7946 - val_loss: 0.4369 - val_accuracy: 0.7867\n",
      "Epoch 3/200\n",
      "80/81 [============================>.] - ETA: 0s - loss: 0.4051 - accuracy: 0.8051"
     ]
    },
    {
     "name": "stderr",
     "output_type": "stream",
     "text": [
      "WARNING:absl:Found untraced functions such as _jit_compiled_convolution_op, _jit_compiled_convolution_op, _jit_compiled_convolution_op while saving (showing 3 of 3). These functions will not be directly callable after loading.\n"
     ]
    },
    {
     "name": "stdout",
     "output_type": "stream",
     "text": [
      "INFO:tensorflow:Assets written to: ..\\models\\charCNN\\stemmed\\assets\n"
     ]
    },
    {
     "name": "stderr",
     "output_type": "stream",
     "text": [
      "INFO:tensorflow:Assets written to: ..\\models\\charCNN\\stemmed\\assets\n"
     ]
    },
    {
     "name": "stdout",
     "output_type": "stream",
     "text": [
      "81/81 [==============================] - 2s 19ms/step - loss: 0.4051 - accuracy: 0.8049 - val_loss: 0.4114 - val_accuracy: 0.7989\n",
      "Epoch 4/200\n",
      "79/81 [============================>.] - ETA: 0s - loss: 0.3833 - accuracy: 0.8177"
     ]
    },
    {
     "name": "stderr",
     "output_type": "stream",
     "text": [
      "WARNING:absl:Found untraced functions such as _jit_compiled_convolution_op, _jit_compiled_convolution_op, _jit_compiled_convolution_op while saving (showing 3 of 3). These functions will not be directly callable after loading.\n"
     ]
    },
    {
     "name": "stdout",
     "output_type": "stream",
     "text": [
      "INFO:tensorflow:Assets written to: ..\\models\\charCNN\\stemmed\\assets\n"
     ]
    },
    {
     "name": "stderr",
     "output_type": "stream",
     "text": [
      "INFO:tensorflow:Assets written to: ..\\models\\charCNN\\stemmed\\assets\n"
     ]
    },
    {
     "name": "stdout",
     "output_type": "stream",
     "text": [
      "81/81 [==============================] - 1s 18ms/step - loss: 0.3828 - accuracy: 0.8178 - val_loss: 0.3931 - val_accuracy: 0.8154\n",
      "Epoch 5/200\n",
      "79/81 [============================>.] - ETA: 0s - loss: 0.3700 - accuracy: 0.8229"
     ]
    },
    {
     "name": "stderr",
     "output_type": "stream",
     "text": [
      "WARNING:absl:Found untraced functions such as _jit_compiled_convolution_op, _jit_compiled_convolution_op, _jit_compiled_convolution_op while saving (showing 3 of 3). These functions will not be directly callable after loading.\n"
     ]
    },
    {
     "name": "stdout",
     "output_type": "stream",
     "text": [
      "INFO:tensorflow:Assets written to: ..\\models\\charCNN\\stemmed\\assets\n"
     ]
    },
    {
     "name": "stderr",
     "output_type": "stream",
     "text": [
      "INFO:tensorflow:Assets written to: ..\\models\\charCNN\\stemmed\\assets\n"
     ]
    },
    {
     "name": "stdout",
     "output_type": "stream",
     "text": [
      "81/81 [==============================] - 1s 18ms/step - loss: 0.3695 - accuracy: 0.8232 - val_loss: 0.3856 - val_accuracy: 0.8228\n",
      "Epoch 6/200\n",
      "81/81 [==============================] - ETA: 0s - loss: 0.3610 - accuracy: 0.8299"
     ]
    },
    {
     "name": "stderr",
     "output_type": "stream",
     "text": [
      "WARNING:absl:Found untraced functions such as _jit_compiled_convolution_op, _jit_compiled_convolution_op, _jit_compiled_convolution_op while saving (showing 3 of 3). These functions will not be directly callable after loading.\n"
     ]
    },
    {
     "name": "stdout",
     "output_type": "stream",
     "text": [
      "INFO:tensorflow:Assets written to: ..\\models\\charCNN\\stemmed\\assets\n"
     ]
    },
    {
     "name": "stderr",
     "output_type": "stream",
     "text": [
      "INFO:tensorflow:Assets written to: ..\\models\\charCNN\\stemmed\\assets\n"
     ]
    },
    {
     "name": "stdout",
     "output_type": "stream",
     "text": [
      "81/81 [==============================] - 1s 18ms/step - loss: 0.3610 - accuracy: 0.8299 - val_loss: 0.3795 - val_accuracy: 0.8228\n",
      "Epoch 7/200\n",
      "81/81 [==============================] - ETA: 0s - loss: 0.3547 - accuracy: 0.8308"
     ]
    },
    {
     "name": "stderr",
     "output_type": "stream",
     "text": [
      "WARNING:absl:Found untraced functions such as _jit_compiled_convolution_op, _jit_compiled_convolution_op, _jit_compiled_convolution_op while saving (showing 3 of 3). These functions will not be directly callable after loading.\n"
     ]
    },
    {
     "name": "stdout",
     "output_type": "stream",
     "text": [
      "INFO:tensorflow:Assets written to: ..\\models\\charCNN\\stemmed\\assets\n"
     ]
    },
    {
     "name": "stderr",
     "output_type": "stream",
     "text": [
      "INFO:tensorflow:Assets written to: ..\\models\\charCNN\\stemmed\\assets\n"
     ]
    },
    {
     "name": "stdout",
     "output_type": "stream",
     "text": [
      "81/81 [==============================] - 2s 19ms/step - loss: 0.3547 - accuracy: 0.8308 - val_loss: 0.3782 - val_accuracy: 0.8284\n",
      "Epoch 8/200\n",
      "78/81 [===========================>..] - ETA: 0s - loss: 0.3476 - accuracy: 0.8375"
     ]
    },
    {
     "name": "stderr",
     "output_type": "stream",
     "text": [
      "WARNING:absl:Found untraced functions such as _jit_compiled_convolution_op, _jit_compiled_convolution_op, _jit_compiled_convolution_op while saving (showing 3 of 3). These functions will not be directly callable after loading.\n"
     ]
    },
    {
     "name": "stdout",
     "output_type": "stream",
     "text": [
      "INFO:tensorflow:Assets written to: ..\\models\\charCNN\\stemmed\\assets\n"
     ]
    },
    {
     "name": "stderr",
     "output_type": "stream",
     "text": [
      "INFO:tensorflow:Assets written to: ..\\models\\charCNN\\stemmed\\assets\n"
     ]
    },
    {
     "name": "stdout",
     "output_type": "stream",
     "text": [
      "81/81 [==============================] - 1s 18ms/step - loss: 0.3472 - accuracy: 0.8376 - val_loss: 0.3716 - val_accuracy: 0.8319\n",
      "Epoch 9/200\n",
      "78/81 [===========================>..] - ETA: 0s - loss: 0.3399 - accuracy: 0.8430"
     ]
    },
    {
     "name": "stderr",
     "output_type": "stream",
     "text": [
      "WARNING:absl:Found untraced functions such as _jit_compiled_convolution_op, _jit_compiled_convolution_op, _jit_compiled_convolution_op while saving (showing 3 of 3). These functions will not be directly callable after loading.\n"
     ]
    },
    {
     "name": "stdout",
     "output_type": "stream",
     "text": [
      "INFO:tensorflow:Assets written to: ..\\models\\charCNN\\stemmed\\assets\n"
     ]
    },
    {
     "name": "stderr",
     "output_type": "stream",
     "text": [
      "INFO:tensorflow:Assets written to: ..\\models\\charCNN\\stemmed\\assets\n"
     ]
    },
    {
     "name": "stdout",
     "output_type": "stream",
     "text": [
      "81/81 [==============================] - 1s 18ms/step - loss: 0.3404 - accuracy: 0.8428 - val_loss: 0.3663 - val_accuracy: 0.8306\n",
      "Epoch 10/200\n",
      "79/81 [============================>.] - ETA: 0s - loss: 0.3346 - accuracy: 0.8443"
     ]
    },
    {
     "name": "stderr",
     "output_type": "stream",
     "text": [
      "WARNING:absl:Found untraced functions such as _jit_compiled_convolution_op, _jit_compiled_convolution_op, _jit_compiled_convolution_op while saving (showing 3 of 3). These functions will not be directly callable after loading.\n"
     ]
    },
    {
     "name": "stdout",
     "output_type": "stream",
     "text": [
      "INFO:tensorflow:Assets written to: ..\\models\\charCNN\\stemmed\\assets\n"
     ]
    },
    {
     "name": "stderr",
     "output_type": "stream",
     "text": [
      "INFO:tensorflow:Assets written to: ..\\models\\charCNN\\stemmed\\assets\n"
     ]
    },
    {
     "name": "stdout",
     "output_type": "stream",
     "text": [
      "81/81 [==============================] - 1s 18ms/step - loss: 0.3352 - accuracy: 0.8441 - val_loss: 0.3622 - val_accuracy: 0.8371\n",
      "Epoch 11/200\n",
      "77/81 [===========================>..] - ETA: 0s - loss: 0.3265 - accuracy: 0.8511"
     ]
    },
    {
     "name": "stderr",
     "output_type": "stream",
     "text": [
      "WARNING:absl:Found untraced functions such as _jit_compiled_convolution_op, _jit_compiled_convolution_op, _jit_compiled_convolution_op while saving (showing 3 of 3). These functions will not be directly callable after loading.\n"
     ]
    },
    {
     "name": "stdout",
     "output_type": "stream",
     "text": [
      "INFO:tensorflow:Assets written to: ..\\models\\charCNN\\stemmed\\assets\n"
     ]
    },
    {
     "name": "stderr",
     "output_type": "stream",
     "text": [
      "INFO:tensorflow:Assets written to: ..\\models\\charCNN\\stemmed\\assets\n"
     ]
    },
    {
     "name": "stdout",
     "output_type": "stream",
     "text": [
      "81/81 [==============================] - 2s 19ms/step - loss: 0.3266 - accuracy: 0.8507 - val_loss: 0.3589 - val_accuracy: 0.8419\n",
      "Epoch 12/200\n",
      "80/81 [============================>.] - ETA: 0s - loss: 0.3211 - accuracy: 0.8496"
     ]
    },
    {
     "name": "stderr",
     "output_type": "stream",
     "text": [
      "WARNING:absl:Found untraced functions such as _jit_compiled_convolution_op, _jit_compiled_convolution_op, _jit_compiled_convolution_op while saving (showing 3 of 3). These functions will not be directly callable after loading.\n"
     ]
    },
    {
     "name": "stdout",
     "output_type": "stream",
     "text": [
      "INFO:tensorflow:Assets written to: ..\\models\\charCNN\\stemmed\\assets\n"
     ]
    },
    {
     "name": "stderr",
     "output_type": "stream",
     "text": [
      "INFO:tensorflow:Assets written to: ..\\models\\charCNN\\stemmed\\assets\n"
     ]
    },
    {
     "name": "stdout",
     "output_type": "stream",
     "text": [
      "81/81 [==============================] - 1s 18ms/step - loss: 0.3208 - accuracy: 0.8500 - val_loss: 0.3578 - val_accuracy: 0.8401\n",
      "Epoch 13/200\n",
      "79/81 [============================>.] - ETA: 0s - loss: 0.3131 - accuracy: 0.8579"
     ]
    },
    {
     "name": "stderr",
     "output_type": "stream",
     "text": [
      "WARNING:absl:Found untraced functions such as _jit_compiled_convolution_op, _jit_compiled_convolution_op, _jit_compiled_convolution_op while saving (showing 3 of 3). These functions will not be directly callable after loading.\n"
     ]
    },
    {
     "name": "stdout",
     "output_type": "stream",
     "text": [
      "INFO:tensorflow:Assets written to: ..\\models\\charCNN\\stemmed\\assets\n"
     ]
    },
    {
     "name": "stderr",
     "output_type": "stream",
     "text": [
      "INFO:tensorflow:Assets written to: ..\\models\\charCNN\\stemmed\\assets\n"
     ]
    },
    {
     "name": "stdout",
     "output_type": "stream",
     "text": [
      "81/81 [==============================] - 1s 18ms/step - loss: 0.3128 - accuracy: 0.8581 - val_loss: 0.3543 - val_accuracy: 0.8349\n",
      "Epoch 14/200\n",
      "81/81 [==============================] - 1s 12ms/step - loss: 0.3087 - accuracy: 0.8583 - val_loss: 0.3549 - val_accuracy: 0.8349\n",
      "Epoch 15/200\n",
      "80/81 [============================>.] - ETA: 0s - loss: 0.3036 - accuracy: 0.8635"
     ]
    },
    {
     "name": "stderr",
     "output_type": "stream",
     "text": [
      "WARNING:absl:Found untraced functions such as _jit_compiled_convolution_op, _jit_compiled_convolution_op, _jit_compiled_convolution_op while saving (showing 3 of 3). These functions will not be directly callable after loading.\n"
     ]
    },
    {
     "name": "stdout",
     "output_type": "stream",
     "text": [
      "INFO:tensorflow:Assets written to: ..\\models\\charCNN\\stemmed\\assets\n"
     ]
    },
    {
     "name": "stderr",
     "output_type": "stream",
     "text": [
      "INFO:tensorflow:Assets written to: ..\\models\\charCNN\\stemmed\\assets\n"
     ]
    },
    {
     "name": "stdout",
     "output_type": "stream",
     "text": [
      "81/81 [==============================] - 1s 18ms/step - loss: 0.3031 - accuracy: 0.8638 - val_loss: 0.3518 - val_accuracy: 0.8367\n",
      "Epoch 16/200\n",
      "81/81 [==============================] - 1s 13ms/step - loss: 0.2963 - accuracy: 0.8667 - val_loss: 0.3569 - val_accuracy: 0.8245\n",
      "Epoch 17/200\n",
      "79/81 [============================>.] - ETA: 0s - loss: 0.2936 - accuracy: 0.8678"
     ]
    },
    {
     "name": "stderr",
     "output_type": "stream",
     "text": [
      "WARNING:absl:Found untraced functions such as _jit_compiled_convolution_op, _jit_compiled_convolution_op, _jit_compiled_convolution_op while saving (showing 3 of 3). These functions will not be directly callable after loading.\n"
     ]
    },
    {
     "name": "stdout",
     "output_type": "stream",
     "text": [
      "INFO:tensorflow:Assets written to: ..\\models\\charCNN\\stemmed\\assets\n"
     ]
    },
    {
     "name": "stderr",
     "output_type": "stream",
     "text": [
      "INFO:tensorflow:Assets written to: ..\\models\\charCNN\\stemmed\\assets\n"
     ]
    },
    {
     "name": "stdout",
     "output_type": "stream",
     "text": [
      "81/81 [==============================] - 2s 19ms/step - loss: 0.2929 - accuracy: 0.8685 - val_loss: 0.3506 - val_accuracy: 0.8393\n",
      "Epoch 18/200\n",
      "81/81 [==============================] - ETA: 0s - loss: 0.2849 - accuracy: 0.8722"
     ]
    },
    {
     "name": "stderr",
     "output_type": "stream",
     "text": [
      "WARNING:absl:Found untraced functions such as _jit_compiled_convolution_op, _jit_compiled_convolution_op, _jit_compiled_convolution_op while saving (showing 3 of 3). These functions will not be directly callable after loading.\n"
     ]
    },
    {
     "name": "stdout",
     "output_type": "stream",
     "text": [
      "INFO:tensorflow:Assets written to: ..\\models\\charCNN\\stemmed\\assets\n"
     ]
    },
    {
     "name": "stderr",
     "output_type": "stream",
     "text": [
      "INFO:tensorflow:Assets written to: ..\\models\\charCNN\\stemmed\\assets\n"
     ]
    },
    {
     "name": "stdout",
     "output_type": "stream",
     "text": [
      "81/81 [==============================] - 1s 18ms/step - loss: 0.2849 - accuracy: 0.8722 - val_loss: 0.3495 - val_accuracy: 0.8380\n",
      "Epoch 19/200\n",
      "81/81 [==============================] - 1s 12ms/step - loss: 0.2791 - accuracy: 0.8758 - val_loss: 0.3504 - val_accuracy: 0.8332\n",
      "Epoch 20/200\n",
      "81/81 [==============================] - 1s 13ms/step - loss: 0.2738 - accuracy: 0.8807 - val_loss: 0.3497 - val_accuracy: 0.8410\n",
      "Epoch 21/200\n",
      "81/81 [==============================] - 1s 13ms/step - loss: 0.2707 - accuracy: 0.8811 - val_loss: 0.3497 - val_accuracy: 0.8423\n",
      "Epoch 22/200\n",
      "81/81 [==============================] - 1s 12ms/step - loss: 0.2606 - accuracy: 0.8886 - val_loss: 0.3523 - val_accuracy: 0.8232\n",
      "Epoch 23/200\n",
      "79/81 [============================>.] - ETA: 0s - loss: 0.2587 - accuracy: 0.8866"
     ]
    },
    {
     "name": "stderr",
     "output_type": "stream",
     "text": [
      "WARNING:absl:Found untraced functions such as _jit_compiled_convolution_op, _jit_compiled_convolution_op, _jit_compiled_convolution_op while saving (showing 3 of 3). These functions will not be directly callable after loading.\n"
     ]
    },
    {
     "name": "stdout",
     "output_type": "stream",
     "text": [
      "INFO:tensorflow:Assets written to: ..\\models\\charCNN\\stemmed\\assets\n"
     ]
    },
    {
     "name": "stderr",
     "output_type": "stream",
     "text": [
      "INFO:tensorflow:Assets written to: ..\\models\\charCNN\\stemmed\\assets\n"
     ]
    },
    {
     "name": "stdout",
     "output_type": "stream",
     "text": [
      "81/81 [==============================] - 1s 18ms/step - loss: 0.2590 - accuracy: 0.8861 - val_loss: 0.3471 - val_accuracy: 0.8284\n",
      "Epoch 24/200\n",
      "81/81 [==============================] - 1s 13ms/step - loss: 0.2504 - accuracy: 0.8938 - val_loss: 0.3513 - val_accuracy: 0.8414\n",
      "Epoch 25/200\n",
      "81/81 [==============================] - 1s 12ms/step - loss: 0.2435 - accuracy: 0.8958 - val_loss: 0.3511 - val_accuracy: 0.8393\n",
      "Epoch 26/200\n",
      "81/81 [==============================] - 1s 12ms/step - loss: 0.2384 - accuracy: 0.8984 - val_loss: 0.3508 - val_accuracy: 0.8380\n",
      "Epoch 27/200\n",
      "81/81 [==============================] - 1s 13ms/step - loss: 0.2340 - accuracy: 0.9012 - val_loss: 0.3574 - val_accuracy: 0.8414\n",
      "Epoch 28/200\n",
      "81/81 [==============================] - 1s 12ms/step - loss: 0.2264 - accuracy: 0.9066 - val_loss: 0.3581 - val_accuracy: 0.8367\n",
      "Epoch 29/200\n",
      "81/81 [==============================] - 1s 13ms/step - loss: 0.2242 - accuracy: 0.9068 - val_loss: 0.3623 - val_accuracy: 0.8362\n",
      "Epoch 30/200\n",
      "81/81 [==============================] - 1s 13ms/step - loss: 0.2165 - accuracy: 0.9102 - val_loss: 0.3603 - val_accuracy: 0.8336\n",
      "Epoch 31/200\n",
      "81/81 [==============================] - 1s 12ms/step - loss: 0.2133 - accuracy: 0.9107 - val_loss: 0.3596 - val_accuracy: 0.8410\n",
      "Epoch 32/200\n",
      "81/81 [==============================] - 1s 12ms/step - loss: 0.2067 - accuracy: 0.9176 - val_loss: 0.3723 - val_accuracy: 0.8275\n",
      "Epoch 33/200\n",
      "81/81 [==============================] - 1s 12ms/step - loss: 0.2025 - accuracy: 0.9189 - val_loss: 0.3687 - val_accuracy: 0.8358\n"
     ]
    },
    {
     "data": {
      "text/plain": "<keras.callbacks.History at 0x1b03968b100>"
     },
     "execution_count": 10,
     "metadata": {},
     "output_type": "execute_result"
    }
   ],
   "source": [
    "# Train CNN model.\n",
    "early_stopping = keras.callbacks.EarlyStopping(monitor='val_loss', patience=10, restore_best_weights=True)\n",
    "save_best = keras.callbacks.ModelCheckpoint(os.path.join(MODELS_DIR, \"stemmed\"), monitor='val_loss',\n",
    "                                            save_best_only=True, restore_best_weights=True)\n",
    "modelSTEM.fit(np.array(stem_train_features), np.array(stem_train_labels), batch_size=256, epochs=EPOCHS,\n",
    "              validation_data=(np.array(stem_val_features), np.array(stem_val_labels)),\n",
    "              callbacks=[early_stopping, save_best])"
   ]
  },
  {
   "cell_type": "code",
   "execution_count": 11,
   "metadata": {
    "colab": {
     "base_uri": "https://localhost:8080/",
     "height": 170
    },
    "colab_type": "code",
    "executionInfo": {
     "elapsed": 1761852,
     "status": "ok",
     "timestamp": 1595416285460,
     "user": {
      "displayName": "tizfa data",
      "photoUrl": "",
      "userId": "14479436635515447323"
     },
     "user_tz": -120
    },
    "id": "XccqZUzVNhnx",
    "outputId": "b5a715d5-bae8-4b7e-c4a6-30580921829d",
    "ExecuteTime": {
     "end_time": "2023-11-27T21:24:31.490682800Z",
     "start_time": "2023-11-27T21:24:31.284684200Z"
    }
   },
   "outputs": [
    {
     "name": "stdout",
     "output_type": "stream",
     "text": [
      "80/80 [==============================] - 0s 1ms/step\n"
     ]
    },
    {
     "data": {
      "text/plain": "{'balanced_accuracy': 0.8350162607589984,\n 'f1_score': 0.8374422187981511,\n 'precision': 0.8259878419452887,\n 'recall': 0.84921875}"
     },
     "execution_count": 11,
     "metadata": {},
     "output_type": "execute_result"
    }
   ],
   "source": [
    "probas_stem = modelSTEM.predict(np.array(stem_test_features))\n",
    "y_pred_stem = proba_to_pred(probas_stem)\n",
    "results_stem = calculate_metrics(stem_test_labels, y_pred_stem)\n",
    "results_stem"
   ]
  },
  {
   "cell_type": "code",
   "execution_count": 12,
   "metadata": {
    "ExecuteTime": {
     "end_time": "2023-11-27T21:24:31.493682700Z",
     "start_time": "2023-11-27T21:24:31.477684400Z"
    }
   },
   "outputs": [
    {
     "data": {
      "text/plain": "   balanced_accuracy  f1_score  precision    recall    model     dataset\n0           0.838130  0.843182   0.818382  0.869531  CharCNN      simple\n1           0.838513  0.845144   0.812545  0.880469  CharCNN  lemmatized\n2           0.835016  0.837442   0.825988  0.849219  CharCNN     stemmed",
      "text/html": "<div>\n<style scoped>\n    .dataframe tbody tr th:only-of-type {\n        vertical-align: middle;\n    }\n\n    .dataframe tbody tr th {\n        vertical-align: top;\n    }\n\n    .dataframe thead th {\n        text-align: right;\n    }\n</style>\n<table border=\"1\" class=\"dataframe\">\n  <thead>\n    <tr style=\"text-align: right;\">\n      <th></th>\n      <th>balanced_accuracy</th>\n      <th>f1_score</th>\n      <th>precision</th>\n      <th>recall</th>\n      <th>model</th>\n      <th>dataset</th>\n    </tr>\n  </thead>\n  <tbody>\n    <tr>\n      <th>0</th>\n      <td>0.838130</td>\n      <td>0.843182</td>\n      <td>0.818382</td>\n      <td>0.869531</td>\n      <td>CharCNN</td>\n      <td>simple</td>\n    </tr>\n    <tr>\n      <th>1</th>\n      <td>0.838513</td>\n      <td>0.845144</td>\n      <td>0.812545</td>\n      <td>0.880469</td>\n      <td>CharCNN</td>\n      <td>lemmatized</td>\n    </tr>\n    <tr>\n      <th>2</th>\n      <td>0.835016</td>\n      <td>0.837442</td>\n      <td>0.825988</td>\n      <td>0.849219</td>\n      <td>CharCNN</td>\n      <td>stemmed</td>\n    </tr>\n  </tbody>\n</table>\n</div>"
     },
     "execution_count": 12,
     "metadata": {},
     "output_type": "execute_result"
    }
   ],
   "source": [
    "# Create csv with all results\n",
    "\n",
    "results_all = pd.DataFrame([results, results_lem, results_stem])\n",
    "results_all['model'] = 'CharCNN'\n",
    "results_all['dataset'] = ['simple', 'lemmatized', 'stemmed']\n",
    "\n",
    "if not os.path.exists('results'):\n",
    "    os.makedirs('results')\n",
    "results_all.to_csv('results/char_cnn.csv', index=False)\n",
    "results_all"
   ]
  }
 ],
 "metadata": {
  "accelerator": "GPU",
  "colab": {
   "authorship_tag": "ABX9TyPYjFqFVG3id3URmVBi+eNL",
   "collapsed_sections": [],
   "name": "CharCNN_Experiments.ipynb",
   "provenance": [
    {
     "file_id": "1UYNHNkk5Yq_dgIhRiVEFiswGzUJ-pdgs",
     "timestamp": 1583167071972
    }
   ]
  },
  "kernelspec": {
   "name": "python3",
   "language": "python",
   "display_name": "Python 3 (ipykernel)"
  },
  "language_info": {
   "codemirror_mode": {
    "name": "ipython",
    "version": 3
   },
   "file_extension": ".py",
   "mimetype": "text/x-python",
   "name": "python",
   "nbconvert_exporter": "python",
   "pygments_lexer": "ipython3",
   "version": "3.11.5"
  }
 },
 "nbformat": 4,
 "nbformat_minor": 0
}
