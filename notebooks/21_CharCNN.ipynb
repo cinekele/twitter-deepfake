{
 "cells": [
  {
   "cell_type": "markdown",
   "metadata": {},
   "source": [
    "# Training CNN model"
   ]
  },
  {
   "cell_type": "code",
   "execution_count": 1,
   "metadata": {},
   "outputs": [
    {
     "name": "stdout",
     "output_type": "stream",
     "text": [
      "Intel MKL WARNING: Support of Intel(R) Streaming SIMD Extensions 4.2 (Intel(R) SSE4.2) enabled only processors has been deprecated. Intel oneAPI Math Kernel Library 2025.0 will require Intel(R) Advanced Vector Extensions (Intel(R) AVX) instructions.\n",
      "Intel MKL WARNING: Support of Intel(R) Streaming SIMD Extensions 4.2 (Intel(R) SSE4.2) enabled only processors has been deprecated. Intel oneAPI Math Kernel Library 2025.0 will require Intel(R) Advanced Vector Extensions (Intel(R) AVX) instructions.\n"
     ]
    },
    {
     "name": "stderr",
     "output_type": "stream",
     "text": [
      "2023-11-21 21:38:58.667445: I tensorflow/core/platform/cpu_feature_guard.cc:182] This TensorFlow binary is optimized to use available CPU instructions in performance-critical operations.\n",
      "To enable the following instructions: SSE4.1 SSE4.2, in other operations, rebuild TensorFlow with the appropriate compiler flags.\n"
     ]
    }
   ],
   "source": [
    "import pandas as pd\n",
    "import numpy as np \n",
    "import os \n",
    "from numpy import savetxt, loadtxt \n",
    "import keras\n",
    "from utils.KerasModels import generateExpData\n",
    "from utils.KerasModels import buildCharCNNModel, buildCharGRUModel\n",
    "from sklearn.metrics import balanced_accuracy_score, make_scorer, f1_score, precision_score, recall_score\n",
    "\n",
    "keras.utils.set_random_seed(812)\n"
   ]
  },
  {
   "cell_type": "code",
   "execution_count": 3,
   "metadata": {},
   "outputs": [],
   "source": [
    "def prepare_data(data_directory):\n",
    "    train = pd.read_csv(os.path.join(data_directory, 'train.csv'))\n",
    "    validation = pd.read_csv(os.path.join(data_directory, 'validation.csv'))\n",
    "    test = pd.read_csv(os.path.join(data_directory, 'test.csv'))\n",
    "\n",
    "    dfTrainDataset = train[[\"screen_name\", \"text\", \"account.type\"]]\n",
    "    dfValDataset = validation[[\"screen_name\", \"text\", \"account.type\"]]\n",
    "    dfTestDataset = test[[\"screen_name\", \"text\", \"account.type\"]]\n",
    "\n",
    "    tokenizer = None\n",
    "    train_features, tokenizer = generateExpData(dfTrainDataset, tokenizer = tokenizer)\n",
    "    val_features, tokenizer = generateExpData(dfValDataset, tokenizer = tokenizer)\n",
    "    test_features, tokenizer = generateExpData(dfTestDataset, tokenizer = tokenizer)\n",
    "\n",
    "    dictLabels = {\"human\":0, \"bot\":1}\n",
    "    y_train = dfTrainDataset[\"account.type\"].apply(lambda x: dictLabels[x])\n",
    "    y_val = dfValDataset[\"account.type\"].apply(lambda x: dictLabels[x])\n",
    "    y_test = dfTestDataset[\"account.type\"].apply(lambda x: dictLabels[x])\n",
    "\n",
    "    train_labels = y_train.tolist()\n",
    "    val_labels = y_val.tolist()\n",
    "    test_labels = y_test.tolist()\n",
    "\n",
    "    vocab_size = len(tokenizer.word_index)\n",
    "\n",
    "    return train_features, val_features, test_features, train_labels, val_labels, test_labels, vocab_size\n",
    "\n",
    "def proba_to_pred(y_proba):\n",
    "    y_pred_char_cnn = (y_proba > 0.5).astype(int)\n",
    "    return y_pred_char_cnn\n",
    "\n",
    "def calculate_metrics(y_true, y_pred):\n",
    "    results = {\n",
    "        'balanced_accuracy': balanced_accuracy_score(y_true, y_pred),\n",
    "        'f1_score': f1_score(y_true, y_pred),\n",
    "        'precision': precision_score(y_true, y_pred),\n",
    "        'recall': recall_score(y_true, y_pred)\n",
    "    }\n",
    "    return results"
   ]
  },
  {
   "cell_type": "code",
   "execution_count": 4,
   "metadata": {
    "colab": {
     "base_uri": "https://localhost:8080/",
     "height": 1000
    },
    "colab_type": "code",
    "executionInfo": {
     "elapsed": 41256,
     "status": "ok",
     "timestamp": 1595414564782,
     "user": {
      "displayName": "tizfa data",
      "photoUrl": "",
      "userId": "14479436635515447323"
     },
     "user_tz": -120
    },
    "id": "mBCDg773SZKW",
    "outputId": "cf6255ab-ef46-41fe-bb95-49e0b42acdc0"
   },
   "outputs": [
    {
     "name": "stdout",
     "output_type": "stream",
     "text": [
      "Model: \"model\"\n",
      "__________________________________________________________________________________________________\n",
      " Layer (type)                   Output Shape         Param #     Connected to                     \n",
      "==================================================================================================\n",
      " input_1 (InputLayer)           [(None, 320)]        0           []                               \n",
      "                                                                                                  \n",
      " embedding (Embedding)          (None, 320, 32)      3360        ['input_1[0][0]']                \n",
      "                                                                                                  \n",
      " conv1d (Conv1D)                (None, 318, 128)     12416       ['embedding[0][0]']              \n",
      "                                                                                                  \n",
      " conv1d_1 (Conv1D)              (None, 317, 128)     16512       ['embedding[0][0]']              \n",
      "                                                                                                  \n",
      " conv1d_2 (Conv1D)              (None, 316, 128)     20608       ['embedding[0][0]']              \n",
      "                                                                                                  \n",
      " global_max_pooling1d (GlobalMa  (None, 128)         0           ['conv1d[0][0]']                 \n",
      " xPooling1D)                                                                                      \n",
      "                                                                                                  \n",
      " global_max_pooling1d_1 (Global  (None, 128)         0           ['conv1d_1[0][0]']               \n",
      " MaxPooling1D)                                                                                    \n",
      "                                                                                                  \n",
      " global_max_pooling1d_2 (Global  (None, 128)         0           ['conv1d_2[0][0]']               \n",
      " MaxPooling1D)                                                                                    \n",
      "                                                                                                  \n",
      " concatenate (Concatenate)      (None, 384)          0           ['global_max_pooling1d[0][0]',   \n",
      "                                                                  'global_max_pooling1d_1[0][0]', \n",
      "                                                                  'global_max_pooling1d_2[0][0]'] \n",
      "                                                                                                  \n",
      " dropout (Dropout)              (None, 384)          0           ['concatenate[0][0]']            \n",
      "                                                                                                  \n",
      " dense (Dense)                  (None, 1)            385         ['dropout[0][0]']                \n",
      "                                                                                                  \n",
      "==================================================================================================\n",
      "Total params: 53,281\n",
      "Trainable params: 53,281\n",
      "Non-trainable params: 0\n",
      "__________________________________________________________________________________________________\n",
      "None\n"
     ]
    }
   ],
   "source": [
    "DATA_PATH = os.path.join('..', 'data', 'preprocessed_url_simple')\n",
    "train_features, val_features, test_features, train_labels, val_labels, test_labels, vocab_size = prepare_data(DATA_PATH)\n",
    "\n",
    "model = buildCharCNNModel(vocab_size, embSize=32, inputSize=320)"
   ]
  },
  {
   "cell_type": "code",
   "execution_count": 6,
   "metadata": {
    "colab": {
     "base_uri": "https://localhost:8080/",
     "height": 935
    },
    "colab_type": "code",
    "executionInfo": {
     "elapsed": 114516,
     "status": "ok",
     "timestamp": 1595414638074,
     "user": {
      "displayName": "tizfa data",
      "photoUrl": "",
      "userId": "14479436635515447323"
     },
     "user_tz": -120
    },
    "id": "jo_HHkj3J5Bj",
    "outputId": "02a13f63-86d8-4360-e565-ae948adfc9f3"
   },
   "outputs": [
    {
     "name": "stdout",
     "output_type": "stream",
     "text": [
      "Epoch 1/25\n",
      "81/81 [==============================] - 19s 230ms/step - loss: 0.5495 - accuracy: 0.7490 - val_loss: 0.4694 - val_accuracy: 0.7685\n",
      "Epoch 2/25\n",
      "81/81 [==============================] - 19s 231ms/step - loss: 0.4283 - accuracy: 0.7972 - val_loss: 0.4291 - val_accuracy: 0.7880\n",
      "Epoch 3/25\n",
      "81/81 [==============================] - 19s 235ms/step - loss: 0.4000 - accuracy: 0.8079 - val_loss: 0.4032 - val_accuracy: 0.8102\n",
      "Epoch 4/25\n",
      "81/81 [==============================] - 19s 238ms/step - loss: 0.3827 - accuracy: 0.8186 - val_loss: 0.3912 - val_accuracy: 0.8167\n",
      "Epoch 5/25\n",
      "81/81 [==============================] - 20s 245ms/step - loss: 0.3719 - accuracy: 0.8234 - val_loss: 0.3828 - val_accuracy: 0.8210\n",
      "Epoch 6/25\n",
      "81/81 [==============================] - 20s 252ms/step - loss: 0.3622 - accuracy: 0.8289 - val_loss: 0.3746 - val_accuracy: 0.8310\n",
      "Epoch 7/25\n",
      "81/81 [==============================] - 19s 241ms/step - loss: 0.3529 - accuracy: 0.8341 - val_loss: 0.3724 - val_accuracy: 0.8306\n",
      "Epoch 8/25\n",
      "81/81 [==============================] - 20s 252ms/step - loss: 0.3422 - accuracy: 0.8411 - val_loss: 0.3663 - val_accuracy: 0.8388\n",
      "Epoch 9/25\n",
      "81/81 [==============================] - 21s 253ms/step - loss: 0.3363 - accuracy: 0.8425 - val_loss: 0.3583 - val_accuracy: 0.8401\n",
      "Epoch 10/25\n",
      "81/81 [==============================] - 21s 261ms/step - loss: 0.3316 - accuracy: 0.8459 - val_loss: 0.3604 - val_accuracy: 0.8414\n",
      "Epoch 11/25\n",
      "81/81 [==============================] - 20s 252ms/step - loss: 0.3223 - accuracy: 0.8509 - val_loss: 0.3522 - val_accuracy: 0.8414\n",
      "Epoch 12/25\n",
      "81/81 [==============================] - 21s 256ms/step - loss: 0.3180 - accuracy: 0.8529 - val_loss: 0.3544 - val_accuracy: 0.8380\n",
      "Epoch 13/25\n",
      "81/81 [==============================] - 21s 265ms/step - loss: 0.3099 - accuracy: 0.8595 - val_loss: 0.3529 - val_accuracy: 0.8423\n",
      "Epoch 14/25\n",
      "81/81 [==============================] - 21s 258ms/step - loss: 0.3054 - accuracy: 0.8620 - val_loss: 0.3492 - val_accuracy: 0.8388\n",
      "Epoch 15/25\n",
      "81/81 [==============================] - 21s 259ms/step - loss: 0.3005 - accuracy: 0.8647 - val_loss: 0.3485 - val_accuracy: 0.8414\n",
      "Epoch 16/25\n",
      "81/81 [==============================] - 21s 263ms/step - loss: 0.2916 - accuracy: 0.8688 - val_loss: 0.3429 - val_accuracy: 0.8488\n",
      "Epoch 17/25\n",
      "81/81 [==============================] - 21s 260ms/step - loss: 0.2866 - accuracy: 0.8711 - val_loss: 0.3476 - val_accuracy: 0.8423\n",
      "Epoch 18/25\n",
      "81/81 [==============================] - 21s 262ms/step - loss: 0.2802 - accuracy: 0.8750 - val_loss: 0.3448 - val_accuracy: 0.8445\n",
      "Epoch 19/25\n",
      "81/81 [==============================] - 21s 263ms/step - loss: 0.2755 - accuracy: 0.8790 - val_loss: 0.3468 - val_accuracy: 0.8440\n",
      "Epoch 20/25\n",
      "81/81 [==============================] - 21s 259ms/step - loss: 0.2664 - accuracy: 0.8838 - val_loss: 0.3465 - val_accuracy: 0.8449\n",
      "Epoch 21/25\n",
      "81/81 [==============================] - 20s 253ms/step - loss: 0.2628 - accuracy: 0.8852 - val_loss: 0.3473 - val_accuracy: 0.8410\n",
      "Epoch 22/25\n",
      "81/81 [==============================] - 20s 252ms/step - loss: 0.2558 - accuracy: 0.8900 - val_loss: 0.3465 - val_accuracy: 0.8445\n",
      "Epoch 23/25\n",
      "81/81 [==============================] - 20s 247ms/step - loss: 0.2489 - accuracy: 0.8949 - val_loss: 0.3515 - val_accuracy: 0.8471\n",
      "Epoch 24/25\n",
      "81/81 [==============================] - 20s 249ms/step - loss: 0.2425 - accuracy: 0.8989 - val_loss: 0.3499 - val_accuracy: 0.8410\n",
      "Epoch 25/25\n",
      "81/81 [==============================] - 20s 244ms/step - loss: 0.2376 - accuracy: 0.8999 - val_loss: 0.3501 - val_accuracy: 0.8336\n"
     ]
    },
    {
     "data": {
      "text/plain": [
       "<keras.callbacks.History at 0x14bd26810>"
      ]
     },
     "execution_count": 6,
     "metadata": {},
     "output_type": "execute_result"
    }
   ],
   "source": [
    "# Train CNN model.\n",
    "model.fit(np.array(train_features), np.array(train_labels), batch_size=256, epochs=25, validation_data=(np.array(val_features), np.array(val_labels)))"
   ]
  },
  {
   "cell_type": "code",
   "execution_count": 7,
   "metadata": {
    "colab": {},
    "colab_type": "code",
    "id": "twMr4Dz5KJdG"
   },
   "outputs": [
    {
     "name": "stdout",
     "output_type": "stream",
     "text": [
      "648/648 [==============================] - 6s 10ms/step\n"
     ]
    },
    {
     "data": {
      "text/plain": [
       "{'balanced_accuracy': 0.9210620142719128,\n",
       " 'f1_score': 0.9217591041776332,\n",
       " 'precision': 0.9134971070852699,\n",
       " 'recall': 0.9301719142360441}"
      ]
     },
     "execution_count": 7,
     "metadata": {},
     "output_type": "execute_result"
    }
   ],
   "source": [
    "probas = model.predict(np.array(test_features))\n",
    "y_pred = proba_to_pred(probas)\n",
    "results = calculate_metrics(test_labels, y_pred)\n",
    "results"
   ]
  },
  {
   "cell_type": "markdown",
   "metadata": {},
   "source": [
    "# Lemmatized data "
   ]
  },
  {
   "cell_type": "code",
   "execution_count": 9,
   "metadata": {},
   "outputs": [],
   "source": [
    "LEMMATIZED_DATA_PATH = os.path.join('..', 'data', 'lemmatized')\n",
    "lem_train_features, lem_val_features, lem_test_features, lem_train_labels, lem_val_labels, lem_test_labels, lem_vocab_size = prepare_data(LEMMATIZED_DATA_PATH)\n",
    "\n",
    "modelLEM = buildCharCNNModel(lem_vocab_size, embSize=32, inputSize=320, verbose=False)"
   ]
  },
  {
   "cell_type": "code",
   "execution_count": 10,
   "metadata": {
    "colab": {
     "base_uri": "https://localhost:8080/",
     "height": 340
    },
    "colab_type": "code",
    "executionInfo": {
     "elapsed": 116648,
     "status": "ok",
     "timestamp": 1595414640240,
     "user": {
      "displayName": "tizfa data",
      "photoUrl": "",
      "userId": "14479436635515447323"
     },
     "user_tz": -120
    },
    "id": "MFxq59MLEtkh",
    "outputId": "e924c92f-268d-44aa-817b-50248216c2d2"
   },
   "outputs": [
    {
     "name": "stdout",
     "output_type": "stream",
     "text": [
      "Epoch 1/25\n",
      "81/81 [==============================] - 19s 222ms/step - loss: 0.5529 - accuracy: 0.7374 - val_loss: 0.4847 - val_accuracy: 0.7654\n",
      "Epoch 2/25\n",
      "81/81 [==============================] - 20s 241ms/step - loss: 0.4370 - accuracy: 0.7922 - val_loss: 0.4325 - val_accuracy: 0.7858\n",
      "Epoch 3/25\n",
      "81/81 [==============================] - 20s 245ms/step - loss: 0.4005 - accuracy: 0.8088 - val_loss: 0.4032 - val_accuracy: 0.8067\n",
      "Epoch 4/25\n",
      "81/81 [==============================] - 20s 251ms/step - loss: 0.3779 - accuracy: 0.8199 - val_loss: 0.3926 - val_accuracy: 0.8232\n",
      "Epoch 5/25\n",
      "81/81 [==============================] - 21s 265ms/step - loss: 0.3688 - accuracy: 0.8271 - val_loss: 0.3793 - val_accuracy: 0.8223\n",
      "Epoch 6/25\n",
      "81/81 [==============================] - 21s 260ms/step - loss: 0.3590 - accuracy: 0.8315 - val_loss: 0.3778 - val_accuracy: 0.8189\n",
      "Epoch 7/25\n",
      "81/81 [==============================] - 21s 258ms/step - loss: 0.3504 - accuracy: 0.8350 - val_loss: 0.3680 - val_accuracy: 0.8328\n",
      "Epoch 8/25\n",
      "81/81 [==============================] - 20s 248ms/step - loss: 0.3427 - accuracy: 0.8394 - val_loss: 0.3660 - val_accuracy: 0.8280\n",
      "Epoch 9/25\n",
      "81/81 [==============================] - 20s 246ms/step - loss: 0.3353 - accuracy: 0.8438 - val_loss: 0.3600 - val_accuracy: 0.8336\n",
      "Epoch 10/25\n",
      "81/81 [==============================] - 22s 272ms/step - loss: 0.3281 - accuracy: 0.8478 - val_loss: 0.3570 - val_accuracy: 0.8345\n",
      "Epoch 11/25\n",
      "81/81 [==============================] - 20s 252ms/step - loss: 0.3230 - accuracy: 0.8483 - val_loss: 0.3553 - val_accuracy: 0.8371\n",
      "Epoch 12/25\n",
      "81/81 [==============================] - 20s 248ms/step - loss: 0.3159 - accuracy: 0.8528 - val_loss: 0.3530 - val_accuracy: 0.8380\n",
      "Epoch 13/25\n",
      "81/81 [==============================] - 19s 239ms/step - loss: 0.3118 - accuracy: 0.8581 - val_loss: 0.3500 - val_accuracy: 0.8336\n",
      "Epoch 14/25\n",
      "81/81 [==============================] - 21s 264ms/step - loss: 0.3040 - accuracy: 0.8611 - val_loss: 0.3501 - val_accuracy: 0.8328\n",
      "Epoch 15/25\n",
      "81/81 [==============================] - 23s 284ms/step - loss: 0.2984 - accuracy: 0.8656 - val_loss: 0.3479 - val_accuracy: 0.8301\n",
      "Epoch 16/25\n",
      "81/81 [==============================] - 22s 266ms/step - loss: 0.2932 - accuracy: 0.8689 - val_loss: 0.3504 - val_accuracy: 0.8275\n",
      "Epoch 17/25\n",
      "81/81 [==============================] - 20s 247ms/step - loss: 0.2852 - accuracy: 0.8708 - val_loss: 0.3464 - val_accuracy: 0.8371\n",
      "Epoch 18/25\n",
      "81/81 [==============================] - 20s 249ms/step - loss: 0.2809 - accuracy: 0.8741 - val_loss: 0.3484 - val_accuracy: 0.8319\n",
      "Epoch 19/25\n",
      "81/81 [==============================] - 21s 258ms/step - loss: 0.2750 - accuracy: 0.8786 - val_loss: 0.3478 - val_accuracy: 0.8258\n",
      "Epoch 20/25\n",
      "81/81 [==============================] - 21s 253ms/step - loss: 0.2699 - accuracy: 0.8820 - val_loss: 0.3488 - val_accuracy: 0.8267\n",
      "Epoch 21/25\n",
      "81/81 [==============================] - 25s 309ms/step - loss: 0.2639 - accuracy: 0.8857 - val_loss: 0.3462 - val_accuracy: 0.8315\n",
      "Epoch 22/25\n",
      "81/81 [==============================] - 24s 294ms/step - loss: 0.2573 - accuracy: 0.8884 - val_loss: 0.3503 - val_accuracy: 0.8449\n",
      "Epoch 23/25\n",
      "81/81 [==============================] - 25s 304ms/step - loss: 0.2530 - accuracy: 0.8906 - val_loss: 0.3481 - val_accuracy: 0.8315\n",
      "Epoch 24/25\n",
      "81/81 [==============================] - 25s 302ms/step - loss: 0.2481 - accuracy: 0.8936 - val_loss: 0.3480 - val_accuracy: 0.8280\n",
      "Epoch 25/25\n",
      "81/81 [==============================] - 23s 284ms/step - loss: 0.2415 - accuracy: 0.8955 - val_loss: 0.3570 - val_accuracy: 0.8375\n"
     ]
    },
    {
     "data": {
      "text/plain": [
       "<keras.callbacks.History at 0x14b8b39d0>"
      ]
     },
     "execution_count": 10,
     "metadata": {},
     "output_type": "execute_result"
    }
   ],
   "source": [
    "# Train CNN model.\n",
    "modelLEM.fit(np.array(lem_train_features), np.array(lem_train_labels), batch_size=256, epochs=25, validation_data=(np.array(lem_val_features), np.array(lem_val_labels)))"
   ]
  },
  {
   "cell_type": "code",
   "execution_count": 11,
   "metadata": {
    "colab": {
     "base_uri": "https://localhost:8080/",
     "height": 901
    },
    "colab_type": "code",
    "executionInfo": {
     "elapsed": 1737212,
     "status": "ok",
     "timestamp": 1595416260810,
     "user": {
      "displayName": "tizfa data",
      "photoUrl": "",
      "userId": "14479436635515447323"
     },
     "user_tz": -120
    },
    "id": "EJNNwIy0LsZa",
    "outputId": "aa334d9e-5553-4ec4-a2db-1c472d81e3b6"
   },
   "outputs": [
    {
     "name": "stdout",
     "output_type": "stream",
     "text": [
      "648/648 [==============================] - 5s 8ms/step\n"
     ]
    },
    {
     "data": {
      "text/plain": [
       "{'balanced_accuracy': 0.9082764405352697,\n",
       " 'f1_score': 0.9130673499267936,\n",
       " 'precision': 0.8675013041210224,\n",
       " 'recall': 0.9636855321614834}"
      ]
     },
     "execution_count": 11,
     "metadata": {},
     "output_type": "execute_result"
    }
   ],
   "source": [
    "probas_lem = modelLEM.predict(np.array(lem_test_features))\n",
    "y_pred_lem = proba_to_pred(probas_lem)\n",
    "results_lem = calculate_metrics(lem_test_labels, y_pred_lem)\n",
    "results_lem"
   ]
  },
  {
   "cell_type": "markdown",
   "metadata": {},
   "source": [
    "# Stemmed data"
   ]
  },
  {
   "cell_type": "code",
   "execution_count": 12,
   "metadata": {
    "colab": {},
    "colab_type": "code",
    "id": "XMhDOQ0pL1RO"
   },
   "outputs": [],
   "source": [
    "STEMMED_DATA_PATH = os.path.join('..', 'data', 'stemmed')\n",
    "stem_train_features, stem_val_features, stem_test_features, stem_train_labels, stem_val_labels, stem_test_labels, stem_vocab_size = prepare_data(STEMMED_DATA_PATH)\n",
    "\n",
    "modelSTEM = buildCharCNNModel(stem_vocab_size, embSize=32, inputSize=320, verbose=False)"
   ]
  },
  {
   "cell_type": "code",
   "execution_count": 13,
   "metadata": {
    "colab": {},
    "colab_type": "code",
    "id": "QPDhYLzto39C"
   },
   "outputs": [
    {
     "name": "stdout",
     "output_type": "stream",
     "text": [
      "Epoch 1/25\n",
      "81/81 [==============================] - 19s 226ms/step - loss: 0.5619 - accuracy: 0.7349 - val_loss: 0.4777 - val_accuracy: 0.7680\n",
      "Epoch 2/25\n",
      "81/81 [==============================] - 17s 210ms/step - loss: 0.4320 - accuracy: 0.7950 - val_loss: 0.4283 - val_accuracy: 0.7937\n",
      "Epoch 3/25\n",
      "81/81 [==============================] - 19s 235ms/step - loss: 0.3983 - accuracy: 0.8107 - val_loss: 0.4026 - val_accuracy: 0.8071\n",
      "Epoch 4/25\n",
      "81/81 [==============================] - 19s 236ms/step - loss: 0.3806 - accuracy: 0.8206 - val_loss: 0.3915 - val_accuracy: 0.8219\n",
      "Epoch 5/25\n",
      "81/81 [==============================] - 19s 237ms/step - loss: 0.3673 - accuracy: 0.8256 - val_loss: 0.3810 - val_accuracy: 0.8271\n",
      "Epoch 6/25\n",
      "81/81 [==============================] - 19s 239ms/step - loss: 0.3586 - accuracy: 0.8284 - val_loss: 0.3780 - val_accuracy: 0.8315\n",
      "Epoch 7/25\n",
      "81/81 [==============================] - 20s 244ms/step - loss: 0.3534 - accuracy: 0.8325 - val_loss: 0.3692 - val_accuracy: 0.8345\n",
      "Epoch 8/25\n",
      "81/81 [==============================] - 20s 244ms/step - loss: 0.3433 - accuracy: 0.8378 - val_loss: 0.3661 - val_accuracy: 0.8358\n",
      "Epoch 9/25\n",
      "81/81 [==============================] - 19s 241ms/step - loss: 0.3365 - accuracy: 0.8397 - val_loss: 0.3615 - val_accuracy: 0.8293\n",
      "Epoch 10/25\n",
      "81/81 [==============================] - 19s 238ms/step - loss: 0.3302 - accuracy: 0.8441 - val_loss: 0.3586 - val_accuracy: 0.8341\n",
      "Epoch 11/25\n",
      "81/81 [==============================] - 21s 255ms/step - loss: 0.3242 - accuracy: 0.8489 - val_loss: 0.3594 - val_accuracy: 0.8297\n",
      "Epoch 12/25\n",
      "81/81 [==============================] - 20s 243ms/step - loss: 0.3171 - accuracy: 0.8509 - val_loss: 0.3561 - val_accuracy: 0.8271\n",
      "Epoch 13/25\n",
      "81/81 [==============================] - 20s 246ms/step - loss: 0.3112 - accuracy: 0.8584 - val_loss: 0.3553 - val_accuracy: 0.8284\n",
      "Epoch 14/25\n",
      "81/81 [==============================] - 20s 244ms/step - loss: 0.3038 - accuracy: 0.8621 - val_loss: 0.3580 - val_accuracy: 0.8371\n",
      "Epoch 15/25\n",
      "81/81 [==============================] - 20s 246ms/step - loss: 0.2980 - accuracy: 0.8649 - val_loss: 0.3576 - val_accuracy: 0.8427\n",
      "Epoch 16/25\n",
      "81/81 [==============================] - 20s 243ms/step - loss: 0.2921 - accuracy: 0.8671 - val_loss: 0.3539 - val_accuracy: 0.8384\n",
      "Epoch 17/25\n",
      "81/81 [==============================] - 20s 245ms/step - loss: 0.2873 - accuracy: 0.8707 - val_loss: 0.3502 - val_accuracy: 0.8332\n",
      "Epoch 18/25\n",
      "81/81 [==============================] - 21s 255ms/step - loss: 0.2801 - accuracy: 0.8755 - val_loss: 0.3509 - val_accuracy: 0.8375\n",
      "Epoch 19/25\n",
      "81/81 [==============================] - 20s 243ms/step - loss: 0.2742 - accuracy: 0.8767 - val_loss: 0.3516 - val_accuracy: 0.8349\n",
      "Epoch 20/25\n",
      "81/81 [==============================] - 20s 242ms/step - loss: 0.2683 - accuracy: 0.8823 - val_loss: 0.3485 - val_accuracy: 0.8354\n",
      "Epoch 21/25\n",
      "81/81 [==============================] - 20s 243ms/step - loss: 0.2621 - accuracy: 0.8870 - val_loss: 0.3528 - val_accuracy: 0.8367\n",
      "Epoch 22/25\n",
      "81/81 [==============================] - 20s 242ms/step - loss: 0.2575 - accuracy: 0.8865 - val_loss: 0.3547 - val_accuracy: 0.8293\n",
      "Epoch 23/25\n",
      "81/81 [==============================] - 20s 243ms/step - loss: 0.2509 - accuracy: 0.8919 - val_loss: 0.3555 - val_accuracy: 0.8284\n",
      "Epoch 24/25\n",
      "81/81 [==============================] - 20s 246ms/step - loss: 0.2453 - accuracy: 0.8948 - val_loss: 0.3519 - val_accuracy: 0.8336\n",
      "Epoch 25/25\n",
      "81/81 [==============================] - 20s 244ms/step - loss: 0.2390 - accuracy: 0.8980 - val_loss: 0.3552 - val_accuracy: 0.8323\n"
     ]
    },
    {
     "data": {
      "text/plain": [
       "<keras.callbacks.History at 0x14cb50d10>"
      ]
     },
     "execution_count": 13,
     "metadata": {},
     "output_type": "execute_result"
    }
   ],
   "source": [
    "# Train CNN model.\n",
    "modelSTEM.fit(np.array(stem_train_features), np.array(stem_train_labels), batch_size=256, epochs=25, validation_data=(np.array(stem_val_features), np.array(stem_val_labels)))"
   ]
  },
  {
   "cell_type": "code",
   "execution_count": 14,
   "metadata": {
    "colab": {
     "base_uri": "https://localhost:8080/",
     "height": 170
    },
    "colab_type": "code",
    "executionInfo": {
     "elapsed": 1761852,
     "status": "ok",
     "timestamp": 1595416285460,
     "user": {
      "displayName": "tizfa data",
      "photoUrl": "",
      "userId": "14479436635515447323"
     },
     "user_tz": -120
    },
    "id": "XccqZUzVNhnx",
    "outputId": "b5a715d5-bae8-4b7e-c4a6-30580921829d"
   },
   "outputs": [
    {
     "name": "stdout",
     "output_type": "stream",
     "text": [
      "648/648 [==============================] - 6s 9ms/step\n"
     ]
    },
    {
     "data": {
      "text/plain": [
       "{'balanced_accuracy': 0.9185041834188477,\n",
       " 'f1_score': 0.9196649533599848,\n",
       " 'precision': 0.9065490711202853,\n",
       " 'recall': 0.9331659262120919}"
      ]
     },
     "execution_count": 14,
     "metadata": {},
     "output_type": "execute_result"
    }
   ],
   "source": [
    "probas_stem = modelSTEM.predict(np.array(stem_test_features))\n",
    "y_pred_stem = proba_to_pred(probas_stem)\n",
    "results_stem = calculate_metrics(stem_test_labels, y_pred_stem)\n",
    "results_stem"
   ]
  },
  {
   "cell_type": "code",
   "execution_count": 19,
   "metadata": {},
   "outputs": [
    {
     "data": {
      "text/html": [
       "<div>\n",
       "<style scoped>\n",
       "    .dataframe tbody tr th:only-of-type {\n",
       "        vertical-align: middle;\n",
       "    }\n",
       "\n",
       "    .dataframe tbody tr th {\n",
       "        vertical-align: top;\n",
       "    }\n",
       "\n",
       "    .dataframe thead th {\n",
       "        text-align: right;\n",
       "    }\n",
       "</style>\n",
       "<table border=\"1\" class=\"dataframe\">\n",
       "  <thead>\n",
       "    <tr style=\"text-align: right;\">\n",
       "      <th></th>\n",
       "      <th>balanced_accuracy</th>\n",
       "      <th>f1_score</th>\n",
       "      <th>precision</th>\n",
       "      <th>recall</th>\n",
       "      <th>model</th>\n",
       "      <th>dataset</th>\n",
       "    </tr>\n",
       "  </thead>\n",
       "  <tbody>\n",
       "    <tr>\n",
       "      <th>0</th>\n",
       "      <td>0.921062</td>\n",
       "      <td>0.921759</td>\n",
       "      <td>0.913497</td>\n",
       "      <td>0.930172</td>\n",
       "      <td>CharCNN</td>\n",
       "      <td>simple</td>\n",
       "    </tr>\n",
       "    <tr>\n",
       "      <th>1</th>\n",
       "      <td>0.908276</td>\n",
       "      <td>0.913067</td>\n",
       "      <td>0.867501</td>\n",
       "      <td>0.963686</td>\n",
       "      <td>CharCNN</td>\n",
       "      <td>lemmatized</td>\n",
       "    </tr>\n",
       "    <tr>\n",
       "      <th>2</th>\n",
       "      <td>0.918504</td>\n",
       "      <td>0.919665</td>\n",
       "      <td>0.906549</td>\n",
       "      <td>0.933166</td>\n",
       "      <td>CharCNN</td>\n",
       "      <td>stemmed</td>\n",
       "    </tr>\n",
       "  </tbody>\n",
       "</table>\n",
       "</div>"
      ],
      "text/plain": [
       "   balanced_accuracy  f1_score  precision    recall    model     dataset\n",
       "0           0.921062  0.921759   0.913497  0.930172  CharCNN      simple\n",
       "1           0.908276  0.913067   0.867501  0.963686  CharCNN  lemmatized\n",
       "2           0.918504  0.919665   0.906549  0.933166  CharCNN     stemmed"
      ]
     },
     "execution_count": 19,
     "metadata": {},
     "output_type": "execute_result"
    }
   ],
   "source": [
    "# Create csv with all results\n",
    "\n",
    "results_all = pd.DataFrame([results, results_lem, results_stem])\n",
    "results_all['model'] = 'CharCNN'\n",
    "results_all['dataset'] = ['simple', 'lemmatized', 'stemmed']\n",
    "\n",
    "if not os.path.exists('results'):\n",
    "    os.makedirs('results')\n",
    "results_all.to_csv('results/char_cnn.csv', index=False)\n",
    "results_all"
   ]
  }
 ],
 "metadata": {
  "accelerator": "GPU",
  "colab": {
   "authorship_tag": "ABX9TyPYjFqFVG3id3URmVBi+eNL",
   "collapsed_sections": [],
   "name": "CharCNN_Experiments.ipynb",
   "provenance": [
    {
     "file_id": "1UYNHNkk5Yq_dgIhRiVEFiswGzUJ-pdgs",
     "timestamp": 1583167071972
    }
   ]
  },
  "kernelspec": {
   "display_name": "Python 3",
   "name": "python3"
  },
  "language_info": {
   "codemirror_mode": {
    "name": "ipython",
    "version": 3
   },
   "file_extension": ".py",
   "mimetype": "text/x-python",
   "name": "python",
   "nbconvert_exporter": "python",
   "pygments_lexer": "ipython3",
   "version": "3.11.5"
  }
 },
 "nbformat": 4,
 "nbformat_minor": 0
}
