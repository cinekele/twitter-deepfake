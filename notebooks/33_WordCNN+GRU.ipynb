{
 "cells": [
  {
   "cell_type": "markdown",
   "source": [
    "# Imports"
   ],
   "metadata": {
    "collapsed": false
   },
   "id": "670270fadabb45e0"
  },
  {
   "cell_type": "code",
   "execution_count": 1,
   "outputs": [],
   "source": [
    "import os\n",
    "\n",
    "import keras\n",
    "import pandas as pd\n",
    "\n",
    "import utils.word_utils as wu\n",
    "from utils.KerasModels import calculate_metrics\n",
    "\n",
    "keras.utils.set_random_seed(812)\n",
    "MODELS_DIR = os.path.join('..', 'models', 'wordCNN_GRU')\n",
    "EPOCHS = 200\n",
    "MAX_LEN = 100\n",
    "VOCAB_SIZE = 15000"
   ],
   "metadata": {
    "collapsed": false,
    "ExecuteTime": {
     "end_time": "2023-12-04T20:54:59.646083400Z",
     "start_time": "2023-12-04T20:54:57.650083Z"
    }
   },
   "id": "d2c2d1cbf23259bb"
  },
  {
   "cell_type": "markdown",
   "source": [
    "# Simple data"
   ],
   "metadata": {
    "collapsed": false
   },
   "id": "8080e1e39eab4ac0"
  },
  {
   "cell_type": "code",
   "execution_count": 2,
   "outputs": [
    {
     "name": "stdout",
     "output_type": "stream",
     "text": [
      "Model: \"model\"\n",
      "__________________________________________________________________________________________________\n",
      " Layer (type)                   Output Shape         Param #     Connected to                     \n",
      "==================================================================================================\n",
      " input_1 (InputLayer)           [(None, 1)]          0           []                               \n",
      "                                                                                                  \n",
      " text_vectorization (TextVector  (None, 100)         0           ['input_1[0][0]']                \n",
      " ization)                                                                                         \n",
      "                                                                                                  \n",
      " embedding (Embedding)          (None, 100, 128)     1920000     ['text_vectorization[0][0]']     \n",
      "                                                                                                  \n",
      " conv1d (Conv1D)                (None, 98, 128)      49280       ['embedding[0][0]']              \n",
      "                                                                                                  \n",
      " conv1d_1 (Conv1D)              (None, 97, 128)      65664       ['embedding[0][0]']              \n",
      "                                                                                                  \n",
      " conv1d_2 (Conv1D)              (None, 96, 128)      82048       ['embedding[0][0]']              \n",
      "                                                                                                  \n",
      " global_max_pooling1d (GlobalMa  (None, 128)         0           ['conv1d[0][0]']                 \n",
      " xPooling1D)                                                                                      \n",
      "                                                                                                  \n",
      " global_max_pooling1d_1 (Global  (None, 128)         0           ['conv1d_1[0][0]']               \n",
      " MaxPooling1D)                                                                                    \n",
      "                                                                                                  \n",
      " global_max_pooling1d_2 (Global  (None, 128)         0           ['conv1d_2[0][0]']               \n",
      " MaxPooling1D)                                                                                    \n",
      "                                                                                                  \n",
      " concatenate (Concatenate)      (None, 384)          0           ['global_max_pooling1d[0][0]',   \n",
      "                                                                  'global_max_pooling1d_1[0][0]', \n",
      "                                                                  'global_max_pooling1d_2[0][0]'] \n",
      "                                                                                                  \n",
      " dropout (Dropout)              (None, 384)          0           ['concatenate[0][0]']            \n",
      "                                                                                                  \n",
      " bidirectional (Bidirectional)  (None, 1024)         1972224     ['embedding[0][0]']              \n",
      "                                                                                                  \n",
      " concatenate_1 (Concatenate)    (None, 1408)         0           ['dropout[0][0]',                \n",
      "                                                                  'bidirectional[0][0]']          \n",
      "                                                                                                  \n",
      " dense (Dense)                  (None, 1)            1409        ['concatenate_1[0][0]']          \n",
      "                                                                                                  \n",
      "==================================================================================================\n",
      "Total params: 4,090,625\n",
      "Trainable params: 4,090,625\n",
      "Non-trainable params: 0\n",
      "__________________________________________________________________________________________________\n"
     ]
    }
   ],
   "source": [
    "data_path = os.path.join('..', 'data', 'preprocessed_url_simple')\n",
    "\n",
    "x_train, y_train, x_valid, y_valid, x_test, y_test = wu.prepare_data(\n",
    "    data_path)\n",
    "os.makedirs(MODELS_DIR, exist_ok=True)\n",
    "text_vectorizer = wu.prepare_text_vectorizer(x_train, max_len=MAX_LEN, vocab_size=VOCAB_SIZE)\n",
    "model = wu.get_wordcnn_gru(text_vectorizer)\n",
    "model.summary()"
   ],
   "metadata": {
    "collapsed": false,
    "ExecuteTime": {
     "end_time": "2023-12-04T20:55:01.349082700Z",
     "start_time": "2023-12-04T20:54:59.647083100Z"
    }
   },
   "id": "9582fa70b50b010d"
  },
  {
   "cell_type": "code",
   "execution_count": 3,
   "outputs": [
    {
     "name": "stdout",
     "output_type": "stream",
     "text": [
      "Epoch 1/200\n",
      "81/81 [==============================] - ETA: 0s - loss: 0.6082 - accuracy: 0.7313"
     ]
    },
    {
     "name": "stderr",
     "output_type": "stream",
     "text": [
      "WARNING:absl:Found untraced functions such as _jit_compiled_convolution_op, _jit_compiled_convolution_op, _jit_compiled_convolution_op, gru_cell_1_layer_call_fn, gru_cell_1_layer_call_and_return_conditional_losses while saving (showing 5 of 7). These functions will not be directly callable after loading.\n"
     ]
    },
    {
     "name": "stdout",
     "output_type": "stream",
     "text": [
      "INFO:tensorflow:Assets written to: ..\\models\\wordCNN_GRU\\simple\\assets\n"
     ]
    },
    {
     "name": "stderr",
     "output_type": "stream",
     "text": [
      "INFO:tensorflow:Assets written to: ..\\models\\wordCNN_GRU\\simple\\assets\n"
     ]
    },
    {
     "name": "stdout",
     "output_type": "stream",
     "text": [
      "81/81 [==============================] - 12s 113ms/step - loss: 0.6082 - accuracy: 0.7313 - val_loss: 0.4105 - val_accuracy: 0.7993\n",
      "Epoch 2/200\n",
      "80/81 [============================>.] - ETA: 0s - loss: 0.3149 - accuracy: 0.8585"
     ]
    },
    {
     "name": "stderr",
     "output_type": "stream",
     "text": [
      "WARNING:absl:Found untraced functions such as _jit_compiled_convolution_op, _jit_compiled_convolution_op, _jit_compiled_convolution_op, gru_cell_1_layer_call_fn, gru_cell_1_layer_call_and_return_conditional_losses while saving (showing 5 of 7). These functions will not be directly callable after loading.\n"
     ]
    },
    {
     "name": "stdout",
     "output_type": "stream",
     "text": [
      "INFO:tensorflow:Assets written to: ..\\models\\wordCNN_GRU\\simple\\assets\n"
     ]
    },
    {
     "name": "stderr",
     "output_type": "stream",
     "text": [
      "INFO:tensorflow:Assets written to: ..\\models\\wordCNN_GRU\\simple\\assets\n"
     ]
    },
    {
     "name": "stdout",
     "output_type": "stream",
     "text": [
      "81/81 [==============================] - 9s 104ms/step - loss: 0.3148 - accuracy: 0.8585 - val_loss: 0.3978 - val_accuracy: 0.8110\n",
      "Epoch 3/200\n",
      "81/81 [==============================] - 4s 43ms/step - loss: 0.2176 - accuracy: 0.9121 - val_loss: 0.4511 - val_accuracy: 0.8045\n",
      "Epoch 4/200\n",
      "81/81 [==============================] - 3s 43ms/step - loss: 0.1482 - accuracy: 0.9460 - val_loss: 0.5269 - val_accuracy: 0.8058\n",
      "Epoch 5/200\n",
      "81/81 [==============================] - 3s 43ms/step - loss: 0.0973 - accuracy: 0.9670 - val_loss: 0.6191 - val_accuracy: 0.8006\n",
      "Epoch 6/200\n",
      "81/81 [==============================] - 3s 43ms/step - loss: 0.0627 - accuracy: 0.9792 - val_loss: 0.7263 - val_accuracy: 0.7958\n",
      "Epoch 7/200\n",
      "81/81 [==============================] - 3s 43ms/step - loss: 0.0408 - accuracy: 0.9885 - val_loss: 0.8076 - val_accuracy: 0.7906\n",
      "Epoch 8/200\n",
      "81/81 [==============================] - 3s 43ms/step - loss: 0.0255 - accuracy: 0.9943 - val_loss: 0.8955 - val_accuracy: 0.7863\n",
      "Epoch 9/200\n",
      "81/81 [==============================] - 3s 43ms/step - loss: 0.0178 - accuracy: 0.9959 - val_loss: 0.9577 - val_accuracy: 0.7854\n",
      "Epoch 10/200\n",
      "81/81 [==============================] - 4s 43ms/step - loss: 0.0133 - accuracy: 0.9972 - val_loss: 1.0246 - val_accuracy: 0.7793\n",
      "Epoch 11/200\n",
      "81/81 [==============================] - 3s 43ms/step - loss: 0.0110 - accuracy: 0.9977 - val_loss: 1.0706 - val_accuracy: 0.7772\n",
      "Epoch 12/200\n",
      "81/81 [==============================] - 4s 43ms/step - loss: 0.0089 - accuracy: 0.9981 - val_loss: 1.1103 - val_accuracy: 0.7806\n"
     ]
    },
    {
     "data": {
      "text/plain": "<keras.callbacks.History at 0x1df6403edc0>"
     },
     "execution_count": 3,
     "metadata": {},
     "output_type": "execute_result"
    }
   ],
   "source": [
    "# Train CNN model.\n",
    "early_stopping = keras.callbacks.EarlyStopping(monitor='val_loss', patience=10, restore_best_weights=True)\n",
    "save_best = keras.callbacks.ModelCheckpoint(os.path.join(MODELS_DIR, \"simple\"), monitor='val_loss',\n",
    "                                            save_best_only=True, restore_best_weights=True)\n",
    "model.fit(x_train, y_train, batch_size=256, epochs=EPOCHS,\n",
    "          validation_data=(x_valid, y_valid),\n",
    "          callbacks=[early_stopping, save_best])"
   ],
   "metadata": {
    "collapsed": false,
    "ExecuteTime": {
     "end_time": "2023-12-04T20:55:57.518826Z",
     "start_time": "2023-12-04T20:55:01.320083200Z"
    }
   },
   "id": "ce5efb89725a6879"
  },
  {
   "cell_type": "code",
   "execution_count": 4,
   "outputs": [
    {
     "name": "stdout",
     "output_type": "stream",
     "text": [
      "80/80 [==============================] - 1s 7ms/step\n"
     ]
    },
    {
     "data": {
      "text/plain": "{'balanced_accuracy': 0.8181882091158059,\n 'f1_score': 0.8248587570621468,\n 'precision': 0.7963636363636364,\n 'recall': 0.85546875}"
     },
     "execution_count": 4,
     "metadata": {},
     "output_type": "execute_result"
    }
   ],
   "source": [
    "probas = model.predict(x_test)\n",
    "y_pred = (probas > 0.5).astype('int32')\n",
    "results = calculate_metrics(y_test, y_pred)\n",
    "results"
   ],
   "metadata": {
    "collapsed": false,
    "ExecuteTime": {
     "end_time": "2023-12-04T20:55:58.449356100Z",
     "start_time": "2023-12-04T20:55:57.519827500Z"
    }
   },
   "id": "c55d4a8979fdfc04"
  },
  {
   "cell_type": "markdown",
   "source": [
    "# Lemmatized data"
   ],
   "metadata": {
    "collapsed": false
   },
   "id": "76544c10227f860d"
  },
  {
   "cell_type": "code",
   "execution_count": 5,
   "outputs": [
    {
     "name": "stdout",
     "output_type": "stream",
     "text": [
      "Model: \"model_1\"\n",
      "__________________________________________________________________________________________________\n",
      " Layer (type)                   Output Shape         Param #     Connected to                     \n",
      "==================================================================================================\n",
      " input_2 (InputLayer)           [(None, 1)]          0           []                               \n",
      "                                                                                                  \n",
      " text_vectorization_1 (TextVect  (None, 100)         0           ['input_2[0][0]']                \n",
      " orization)                                                                                       \n",
      "                                                                                                  \n",
      " embedding_1 (Embedding)        (None, 100, 128)     1920000     ['text_vectorization_1[0][0]']   \n",
      "                                                                                                  \n",
      " conv1d_3 (Conv1D)              (None, 98, 128)      49280       ['embedding_1[0][0]']            \n",
      "                                                                                                  \n",
      " conv1d_4 (Conv1D)              (None, 97, 128)      65664       ['embedding_1[0][0]']            \n",
      "                                                                                                  \n",
      " conv1d_5 (Conv1D)              (None, 96, 128)      82048       ['embedding_1[0][0]']            \n",
      "                                                                                                  \n",
      " global_max_pooling1d_3 (Global  (None, 128)         0           ['conv1d_3[0][0]']               \n",
      " MaxPooling1D)                                                                                    \n",
      "                                                                                                  \n",
      " global_max_pooling1d_4 (Global  (None, 128)         0           ['conv1d_4[0][0]']               \n",
      " MaxPooling1D)                                                                                    \n",
      "                                                                                                  \n",
      " global_max_pooling1d_5 (Global  (None, 128)         0           ['conv1d_5[0][0]']               \n",
      " MaxPooling1D)                                                                                    \n",
      "                                                                                                  \n",
      " concatenate_2 (Concatenate)    (None, 384)          0           ['global_max_pooling1d_3[0][0]', \n",
      "                                                                  'global_max_pooling1d_4[0][0]', \n",
      "                                                                  'global_max_pooling1d_5[0][0]'] \n",
      "                                                                                                  \n",
      " dropout_2 (Dropout)            (None, 384)          0           ['concatenate_2[0][0]']          \n",
      "                                                                                                  \n",
      " bidirectional_1 (Bidirectional  (None, 1024)        1972224     ['embedding_1[0][0]']            \n",
      " )                                                                                                \n",
      "                                                                                                  \n",
      " concatenate_3 (Concatenate)    (None, 1408)         0           ['dropout_2[0][0]',              \n",
      "                                                                  'bidirectional_1[0][0]']        \n",
      "                                                                                                  \n",
      " dense_1 (Dense)                (None, 1)            1409        ['concatenate_3[0][0]']          \n",
      "                                                                                                  \n",
      "==================================================================================================\n",
      "Total params: 4,090,625\n",
      "Trainable params: 4,090,625\n",
      "Non-trainable params: 0\n",
      "__________________________________________________________________________________________________\n"
     ]
    }
   ],
   "source": [
    "data_path = os.path.join('..', 'data', 'lemmatized')\n",
    "\n",
    "x_train, y_train, x_valid, y_valid, x_test, y_test = wu.prepare_data(\n",
    "    data_path)\n",
    "os.makedirs(MODELS_DIR, exist_ok=True)\n",
    "text_vectorizer = wu.prepare_text_vectorizer(x_train, max_len=MAX_LEN, vocab_size=VOCAB_SIZE)\n",
    "model = wu.get_wordcnn_gru(text_vectorizer)\n",
    "model.summary()"
   ],
   "metadata": {
    "collapsed": false,
    "ExecuteTime": {
     "end_time": "2023-12-04T20:55:59.414356700Z",
     "start_time": "2023-12-04T20:55:58.451356400Z"
    }
   },
   "id": "1992ddecf07d31a3"
  },
  {
   "cell_type": "code",
   "execution_count": 6,
   "outputs": [
    {
     "name": "stdout",
     "output_type": "stream",
     "text": [
      "Epoch 1/200\n",
      "80/81 [============================>.] - ETA: 0s - loss: 0.5274 - accuracy: 0.7621"
     ]
    },
    {
     "name": "stderr",
     "output_type": "stream",
     "text": [
      "WARNING:absl:Found untraced functions such as _jit_compiled_convolution_op, _jit_compiled_convolution_op, _jit_compiled_convolution_op, gru_cell_4_layer_call_fn, gru_cell_4_layer_call_and_return_conditional_losses while saving (showing 5 of 7). These functions will not be directly callable after loading.\n"
     ]
    },
    {
     "name": "stdout",
     "output_type": "stream",
     "text": [
      "INFO:tensorflow:Assets written to: ..\\models\\wordCNN_GRU\\lemmatized\\assets\n"
     ]
    },
    {
     "name": "stderr",
     "output_type": "stream",
     "text": [
      "INFO:tensorflow:Assets written to: ..\\models\\wordCNN_GRU\\lemmatized\\assets\n"
     ]
    },
    {
     "name": "stdout",
     "output_type": "stream",
     "text": [
      "81/81 [==============================] - 10s 106ms/step - loss: 0.5261 - accuracy: 0.7625 - val_loss: 0.4111 - val_accuracy: 0.7971\n",
      "Epoch 2/200\n",
      "81/81 [==============================] - ETA: 0s - loss: 0.3080 - accuracy: 0.8627"
     ]
    },
    {
     "name": "stderr",
     "output_type": "stream",
     "text": [
      "WARNING:absl:Found untraced functions such as _jit_compiled_convolution_op, _jit_compiled_convolution_op, _jit_compiled_convolution_op, gru_cell_4_layer_call_fn, gru_cell_4_layer_call_and_return_conditional_losses while saving (showing 5 of 7). These functions will not be directly callable after loading.\n"
     ]
    },
    {
     "name": "stdout",
     "output_type": "stream",
     "text": [
      "INFO:tensorflow:Assets written to: ..\\models\\wordCNN_GRU\\lemmatized\\assets\n"
     ]
    },
    {
     "name": "stderr",
     "output_type": "stream",
     "text": [
      "INFO:tensorflow:Assets written to: ..\\models\\wordCNN_GRU\\lemmatized\\assets\n"
     ]
    },
    {
     "name": "stdout",
     "output_type": "stream",
     "text": [
      "81/81 [==============================] - 8s 103ms/step - loss: 0.3080 - accuracy: 0.8627 - val_loss: 0.4030 - val_accuracy: 0.8141\n",
      "Epoch 3/200\n",
      "81/81 [==============================] - 4s 46ms/step - loss: 0.2092 - accuracy: 0.9165 - val_loss: 0.4578 - val_accuracy: 0.8028\n",
      "Epoch 4/200\n",
      "81/81 [==============================] - 4s 45ms/step - loss: 0.1403 - accuracy: 0.9475 - val_loss: 0.5416 - val_accuracy: 0.8023\n",
      "Epoch 5/200\n",
      "81/81 [==============================] - 4s 45ms/step - loss: 0.0894 - accuracy: 0.9701 - val_loss: 0.6693 - val_accuracy: 0.7897\n",
      "Epoch 6/200\n",
      "81/81 [==============================] - 4s 43ms/step - loss: 0.0555 - accuracy: 0.9822 - val_loss: 0.7820 - val_accuracy: 0.7902\n",
      "Epoch 7/200\n",
      "81/81 [==============================] - 4s 45ms/step - loss: 0.0354 - accuracy: 0.9904 - val_loss: 0.8623 - val_accuracy: 0.7824\n",
      "Epoch 8/200\n",
      "81/81 [==============================] - 3s 43ms/step - loss: 0.0225 - accuracy: 0.9947 - val_loss: 0.9528 - val_accuracy: 0.7819\n",
      "Epoch 9/200\n",
      "81/81 [==============================] - 3s 43ms/step - loss: 0.0155 - accuracy: 0.9966 - val_loss: 1.0321 - val_accuracy: 0.7763\n",
      "Epoch 10/200\n",
      "81/81 [==============================] - 4s 43ms/step - loss: 0.0111 - accuracy: 0.9980 - val_loss: 1.0870 - val_accuracy: 0.7802\n",
      "Epoch 11/200\n",
      "81/81 [==============================] - 4s 43ms/step - loss: 0.0089 - accuracy: 0.9984 - val_loss: 1.1328 - val_accuracy: 0.7780\n",
      "Epoch 12/200\n",
      "81/81 [==============================] - 4s 43ms/step - loss: 0.0077 - accuracy: 0.9986 - val_loss: 1.1760 - val_accuracy: 0.7767\n"
     ]
    },
    {
     "data": {
      "text/plain": "<keras.callbacks.History at 0x1e16098b1f0>"
     },
     "execution_count": 6,
     "metadata": {},
     "output_type": "execute_result"
    }
   ],
   "source": [
    "# Train CNN model.\n",
    "early_stopping = keras.callbacks.EarlyStopping(monitor='val_loss', patience=10, restore_best_weights=True)\n",
    "save_best = keras.callbacks.ModelCheckpoint(os.path.join(MODELS_DIR, \"lemmatized\"), monitor='val_loss',\n",
    "                                            save_best_only=True, restore_best_weights=True)\n",
    "model.fit(x_train, y_train, batch_size=256, epochs=EPOCHS,\n",
    "          validation_data=(x_valid, y_valid),\n",
    "          callbacks=[early_stopping, save_best])"
   ],
   "metadata": {
    "collapsed": false,
    "ExecuteTime": {
     "end_time": "2023-12-04T20:56:53.937071700Z",
     "start_time": "2023-12-04T20:55:59.404356200Z"
    }
   },
   "id": "e6b6a212cf2287ed"
  },
  {
   "cell_type": "code",
   "execution_count": 7,
   "outputs": [
    {
     "name": "stdout",
     "output_type": "stream",
     "text": [
      "80/80 [==============================] - 1s 7ms/step\n"
     ]
    },
    {
     "data": {
      "text/plain": "{'balanced_accuracy': 0.8197562108763694,\n 'f1_score': 0.825444907232109,\n 'precision': 0.8008817046289493,\n 'recall': 0.8515625}"
     },
     "execution_count": 7,
     "metadata": {},
     "output_type": "execute_result"
    }
   ],
   "source": [
    "probas = model.predict(x_test)\n",
    "y_pred = (probas > 0.5).astype('int32')\n",
    "results_lem = calculate_metrics(y_test, y_pred)\n",
    "results_lem"
   ],
   "metadata": {
    "collapsed": false,
    "ExecuteTime": {
     "end_time": "2023-12-04T20:56:54.824579700Z",
     "start_time": "2023-12-04T20:56:53.938072Z"
    }
   },
   "id": "be6b3e575c68127b"
  },
  {
   "cell_type": "markdown",
   "source": [
    "# Stemmed data"
   ],
   "metadata": {
    "collapsed": false
   },
   "id": "8f288b883e45da3e"
  },
  {
   "cell_type": "code",
   "execution_count": 8,
   "outputs": [
    {
     "name": "stdout",
     "output_type": "stream",
     "text": [
      "Model: \"model_2\"\n",
      "__________________________________________________________________________________________________\n",
      " Layer (type)                   Output Shape         Param #     Connected to                     \n",
      "==================================================================================================\n",
      " input_3 (InputLayer)           [(None, 1)]          0           []                               \n",
      "                                                                                                  \n",
      " text_vectorization_2 (TextVect  (None, 100)         0           ['input_3[0][0]']                \n",
      " orization)                                                                                       \n",
      "                                                                                                  \n",
      " embedding_2 (Embedding)        (None, 100, 128)     1920000     ['text_vectorization_2[0][0]']   \n",
      "                                                                                                  \n",
      " conv1d_6 (Conv1D)              (None, 98, 128)      49280       ['embedding_2[0][0]']            \n",
      "                                                                                                  \n",
      " conv1d_7 (Conv1D)              (None, 97, 128)      65664       ['embedding_2[0][0]']            \n",
      "                                                                                                  \n",
      " conv1d_8 (Conv1D)              (None, 96, 128)      82048       ['embedding_2[0][0]']            \n",
      "                                                                                                  \n",
      " global_max_pooling1d_6 (Global  (None, 128)         0           ['conv1d_6[0][0]']               \n",
      " MaxPooling1D)                                                                                    \n",
      "                                                                                                  \n",
      " global_max_pooling1d_7 (Global  (None, 128)         0           ['conv1d_7[0][0]']               \n",
      " MaxPooling1D)                                                                                    \n",
      "                                                                                                  \n",
      " global_max_pooling1d_8 (Global  (None, 128)         0           ['conv1d_8[0][0]']               \n",
      " MaxPooling1D)                                                                                    \n",
      "                                                                                                  \n",
      " concatenate_4 (Concatenate)    (None, 384)          0           ['global_max_pooling1d_6[0][0]', \n",
      "                                                                  'global_max_pooling1d_7[0][0]', \n",
      "                                                                  'global_max_pooling1d_8[0][0]'] \n",
      "                                                                                                  \n",
      " dropout_4 (Dropout)            (None, 384)          0           ['concatenate_4[0][0]']          \n",
      "                                                                                                  \n",
      " bidirectional_2 (Bidirectional  (None, 1024)        1972224     ['embedding_2[0][0]']            \n",
      " )                                                                                                \n",
      "                                                                                                  \n",
      " concatenate_5 (Concatenate)    (None, 1408)         0           ['dropout_4[0][0]',              \n",
      "                                                                  'bidirectional_2[0][0]']        \n",
      "                                                                                                  \n",
      " dense_2 (Dense)                (None, 1)            1409        ['concatenate_5[0][0]']          \n",
      "                                                                                                  \n",
      "==================================================================================================\n",
      "Total params: 4,090,625\n",
      "Trainable params: 4,090,625\n",
      "Non-trainable params: 0\n",
      "__________________________________________________________________________________________________\n"
     ]
    }
   ],
   "source": [
    "data_path = os.path.join('..', 'data', 'stemmed')\n",
    "\n",
    "x_train, y_train, x_valid, y_valid, x_test, y_test = wu.prepare_data(\n",
    "    data_path)\n",
    "os.makedirs(MODELS_DIR, exist_ok=True)\n",
    "text_vectorizer = wu.prepare_text_vectorizer(x_train, max_len=MAX_LEN, vocab_size=VOCAB_SIZE)\n",
    "model = wu.get_wordcnn_gru(text_vectorizer)\n",
    "model.summary()"
   ],
   "metadata": {
    "collapsed": false,
    "ExecuteTime": {
     "end_time": "2023-12-04T20:56:55.810579100Z",
     "start_time": "2023-12-04T20:56:54.825579300Z"
    }
   },
   "id": "9a6998fa1e5705f2"
  },
  {
   "cell_type": "code",
   "execution_count": 9,
   "outputs": [
    {
     "name": "stdout",
     "output_type": "stream",
     "text": [
      "Epoch 1/200\n",
      "81/81 [==============================] - ETA: 0s - loss: 0.5602 - accuracy: 0.7318"
     ]
    },
    {
     "name": "stderr",
     "output_type": "stream",
     "text": [
      "WARNING:absl:Found untraced functions such as _jit_compiled_convolution_op, _jit_compiled_convolution_op, _jit_compiled_convolution_op, gru_cell_7_layer_call_fn, gru_cell_7_layer_call_and_return_conditional_losses while saving (showing 5 of 7). These functions will not be directly callable after loading.\n"
     ]
    },
    {
     "name": "stdout",
     "output_type": "stream",
     "text": [
      "INFO:tensorflow:Assets written to: ..\\models\\wordCNN_GRU\\lemmatized\\assets\n"
     ]
    },
    {
     "name": "stderr",
     "output_type": "stream",
     "text": [
      "INFO:tensorflow:Assets written to: ..\\models\\wordCNN_GRU\\lemmatized\\assets\n"
     ]
    },
    {
     "name": "stdout",
     "output_type": "stream",
     "text": [
      "81/81 [==============================] - 10s 109ms/step - loss: 0.5602 - accuracy: 0.7318 - val_loss: 0.4102 - val_accuracy: 0.7971\n",
      "Epoch 2/200\n",
      "80/81 [============================>.] - ETA: 0s - loss: 0.3147 - accuracy: 0.8597"
     ]
    },
    {
     "name": "stderr",
     "output_type": "stream",
     "text": [
      "WARNING:absl:Found untraced functions such as _jit_compiled_convolution_op, _jit_compiled_convolution_op, _jit_compiled_convolution_op, gru_cell_7_layer_call_fn, gru_cell_7_layer_call_and_return_conditional_losses while saving (showing 5 of 7). These functions will not be directly callable after loading.\n"
     ]
    },
    {
     "name": "stdout",
     "output_type": "stream",
     "text": [
      "INFO:tensorflow:Assets written to: ..\\models\\wordCNN_GRU\\lemmatized\\assets\n"
     ]
    },
    {
     "name": "stderr",
     "output_type": "stream",
     "text": [
      "INFO:tensorflow:Assets written to: ..\\models\\wordCNN_GRU\\lemmatized\\assets\n"
     ]
    },
    {
     "name": "stdout",
     "output_type": "stream",
     "text": [
      "81/81 [==============================] - 9s 106ms/step - loss: 0.3144 - accuracy: 0.8599 - val_loss: 0.4017 - val_accuracy: 0.8041\n",
      "Epoch 3/200\n",
      "81/81 [==============================] - 4s 46ms/step - loss: 0.2178 - accuracy: 0.9118 - val_loss: 0.4578 - val_accuracy: 0.7984\n",
      "Epoch 4/200\n",
      "81/81 [==============================] - 4s 44ms/step - loss: 0.1482 - accuracy: 0.9459 - val_loss: 0.5426 - val_accuracy: 0.7980\n",
      "Epoch 5/200\n",
      "81/81 [==============================] - 4s 44ms/step - loss: 0.1003 - accuracy: 0.9654 - val_loss: 0.6335 - val_accuracy: 0.7919\n",
      "Epoch 6/200\n",
      "81/81 [==============================] - 4s 44ms/step - loss: 0.0663 - accuracy: 0.9794 - val_loss: 0.7236 - val_accuracy: 0.7954\n",
      "Epoch 7/200\n",
      "81/81 [==============================] - 4s 43ms/step - loss: 0.0431 - accuracy: 0.9881 - val_loss: 0.8112 - val_accuracy: 0.7837\n",
      "Epoch 8/200\n",
      "81/81 [==============================] - 4s 44ms/step - loss: 0.0277 - accuracy: 0.9933 - val_loss: 0.8912 - val_accuracy: 0.7841\n",
      "Epoch 9/200\n",
      "81/81 [==============================] - 4s 44ms/step - loss: 0.0197 - accuracy: 0.9962 - val_loss: 0.9672 - val_accuracy: 0.7806\n",
      "Epoch 10/200\n",
      "81/81 [==============================] - 4s 43ms/step - loss: 0.0144 - accuracy: 0.9971 - val_loss: 1.0295 - val_accuracy: 0.7841\n",
      "Epoch 11/200\n",
      "81/81 [==============================] - 4s 43ms/step - loss: 0.0117 - accuracy: 0.9978 - val_loss: 1.0675 - val_accuracy: 0.7789\n",
      "Epoch 12/200\n",
      "81/81 [==============================] - 4s 43ms/step - loss: 0.0093 - accuracy: 0.9981 - val_loss: 1.1189 - val_accuracy: 0.7715\n"
     ]
    },
    {
     "data": {
      "text/plain": "<keras.callbacks.History at 0x1e24b8db040>"
     },
     "execution_count": 9,
     "metadata": {},
     "output_type": "execute_result"
    }
   ],
   "source": [
    "# Train CNN model.\n",
    "early_stopping = keras.callbacks.EarlyStopping(monitor='val_loss', patience=10, restore_best_weights=True)\n",
    "save_best = keras.callbacks.ModelCheckpoint(os.path.join(MODELS_DIR, \"lemmatized\"), monitor='val_loss',\n",
    "                                            save_best_only=True, restore_best_weights=True)\n",
    "model.fit(x_train, y_train, batch_size=256, epochs=EPOCHS,\n",
    "          validation_data=(x_valid, y_valid),\n",
    "          callbacks=[early_stopping, save_best])"
   ],
   "metadata": {
    "collapsed": false,
    "ExecuteTime": {
     "end_time": "2023-12-04T20:57:50.838638800Z",
     "start_time": "2023-12-04T20:56:55.800579400Z"
    }
   },
   "id": "33867d7af07537a4"
  },
  {
   "cell_type": "code",
   "execution_count": 10,
   "outputs": [
    {
     "name": "stdout",
     "output_type": "stream",
     "text": [
      "80/80 [==============================] - 1s 7ms/step\n"
     ]
    },
    {
     "data": {
      "text/plain": "{'balanced_accuracy': 0.8224863067292645,\n 'f1_score': 0.8294515401953418,\n 'precision': 0.7988422575976846,\n 'recall': 0.8625}"
     },
     "execution_count": 10,
     "metadata": {},
     "output_type": "execute_result"
    }
   ],
   "source": [
    "probas = model.predict(x_test)\n",
    "y_pred = (probas > 0.5).astype('int32')\n",
    "results_stem = calculate_metrics(y_test, y_pred)\n",
    "results_stem"
   ],
   "metadata": {
    "collapsed": false,
    "ExecuteTime": {
     "end_time": "2023-12-04T20:57:51.751179600Z",
     "start_time": "2023-12-04T20:57:50.840637900Z"
    }
   },
   "id": "a7e497b575add4eb"
  },
  {
   "cell_type": "markdown",
   "source": [
    "# Results"
   ],
   "metadata": {
    "collapsed": false
   },
   "id": "6ef7e42b7486767"
  },
  {
   "cell_type": "code",
   "execution_count": 11,
   "outputs": [
    {
     "data": {
      "text/plain": "   balanced_accuracy  f1_score  precision    recall        model     dataset\n0           0.818188  0.824859   0.796364  0.855469  WordCNN+GRU      simple\n1           0.819756  0.825445   0.800882  0.851562  WordCNN+GRU  lemmatized\n2           0.822486  0.829452   0.798842  0.862500  WordCNN+GRU     stemmed",
      "text/html": "<div>\n<style scoped>\n    .dataframe tbody tr th:only-of-type {\n        vertical-align: middle;\n    }\n\n    .dataframe tbody tr th {\n        vertical-align: top;\n    }\n\n    .dataframe thead th {\n        text-align: right;\n    }\n</style>\n<table border=\"1\" class=\"dataframe\">\n  <thead>\n    <tr style=\"text-align: right;\">\n      <th></th>\n      <th>balanced_accuracy</th>\n      <th>f1_score</th>\n      <th>precision</th>\n      <th>recall</th>\n      <th>model</th>\n      <th>dataset</th>\n    </tr>\n  </thead>\n  <tbody>\n    <tr>\n      <th>0</th>\n      <td>0.818188</td>\n      <td>0.824859</td>\n      <td>0.796364</td>\n      <td>0.855469</td>\n      <td>WordCNN+GRU</td>\n      <td>simple</td>\n    </tr>\n    <tr>\n      <th>1</th>\n      <td>0.819756</td>\n      <td>0.825445</td>\n      <td>0.800882</td>\n      <td>0.851562</td>\n      <td>WordCNN+GRU</td>\n      <td>lemmatized</td>\n    </tr>\n    <tr>\n      <th>2</th>\n      <td>0.822486</td>\n      <td>0.829452</td>\n      <td>0.798842</td>\n      <td>0.862500</td>\n      <td>WordCNN+GRU</td>\n      <td>stemmed</td>\n    </tr>\n  </tbody>\n</table>\n</div>"
     },
     "execution_count": 11,
     "metadata": {},
     "output_type": "execute_result"
    }
   ],
   "source": [
    "# Create csv with all results\n",
    "\n",
    "results_all = pd.DataFrame([results, results_lem, results_stem])\n",
    "results_all['model'] = 'WordCNN+GRU'\n",
    "results_all['dataset'] = ['simple', 'lemmatized', 'stemmed']\n",
    "\n",
    "if not os.path.exists('results'):\n",
    "    os.makedirs('results')\n",
    "results_all.to_csv('results/word_cnn_gru.csv', index=False)\n",
    "results_all"
   ],
   "metadata": {
    "collapsed": false,
    "ExecuteTime": {
     "end_time": "2023-12-04T20:57:51.756181Z",
     "start_time": "2023-12-04T20:57:51.738180100Z"
    }
   },
   "id": "78fc7d036fd94a79"
  }
 ],
 "metadata": {
  "kernelspec": {
   "display_name": "Python 3",
   "language": "python",
   "name": "python3"
  },
  "language_info": {
   "codemirror_mode": {
    "name": "ipython",
    "version": 2
   },
   "file_extension": ".py",
   "mimetype": "text/x-python",
   "name": "python",
   "nbconvert_exporter": "python",
   "pygments_lexer": "ipython2",
   "version": "2.7.6"
  }
 },
 "nbformat": 4,
 "nbformat_minor": 5
}
