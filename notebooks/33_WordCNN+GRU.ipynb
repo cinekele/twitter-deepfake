{
 "cells": [
  {
   "cell_type": "markdown",
   "source": [
    "# Imports"
   ],
   "metadata": {
    "collapsed": false
   },
   "id": "670270fadabb45e0"
  },
  {
   "cell_type": "code",
   "execution_count": 1,
   "outputs": [],
   "source": [
    "import os\n",
    "\n",
    "import keras\n",
    "import pandas as pd\n",
    "\n",
    "import utils.word_utils as wu\n",
    "from utils.KerasModels import calculate_metrics\n",
    "\n",
    "keras.utils.set_random_seed(812)\n",
    "MODELS_DIR = os.path.join('..', 'models', 'wordCNN_GRU')\n",
    "EPOCHS = 200\n",
    "MAX_LEN = 100\n",
    "VOCAB_SIZE = 15000"
   ],
   "metadata": {
    "collapsed": false,
    "ExecuteTime": {
     "end_time": "2023-12-16T18:10:20.780303800Z",
     "start_time": "2023-12-16T18:10:19.333753800Z"
    }
   },
   "id": "d2c2d1cbf23259bb"
  },
  {
   "cell_type": "markdown",
   "source": [
    "# Simple data"
   ],
   "metadata": {
    "collapsed": false
   },
   "id": "8080e1e39eab4ac0"
  },
  {
   "cell_type": "code",
   "execution_count": 2,
   "outputs": [
    {
     "name": "stdout",
     "output_type": "stream",
     "text": [
      "Model: \"model\"\n",
      "__________________________________________________________________________________________________\n",
      " Layer (type)                   Output Shape         Param #     Connected to                     \n",
      "==================================================================================================\n",
      " input_1 (InputLayer)           [(None, 1)]          0           []                               \n",
      "                                                                                                  \n",
      " text_vectorization (TextVector  (None, 100)         0           ['input_1[0][0]']                \n",
      " ization)                                                                                         \n",
      "                                                                                                  \n",
      " embedding (Embedding)          (None, 100, 128)     1920000     ['text_vectorization[0][0]']     \n",
      "                                                                                                  \n",
      " conv1d (Conv1D)                (None, 98, 128)      49280       ['embedding[0][0]']              \n",
      "                                                                                                  \n",
      " conv1d_1 (Conv1D)              (None, 97, 128)      65664       ['embedding[0][0]']              \n",
      "                                                                                                  \n",
      " conv1d_2 (Conv1D)              (None, 96, 128)      82048       ['embedding[0][0]']              \n",
      "                                                                                                  \n",
      " global_max_pooling1d (GlobalMa  (None, 128)         0           ['conv1d[0][0]']                 \n",
      " xPooling1D)                                                                                      \n",
      "                                                                                                  \n",
      " global_max_pooling1d_1 (Global  (None, 128)         0           ['conv1d_1[0][0]']               \n",
      " MaxPooling1D)                                                                                    \n",
      "                                                                                                  \n",
      " global_max_pooling1d_2 (Global  (None, 128)         0           ['conv1d_2[0][0]']               \n",
      " MaxPooling1D)                                                                                    \n",
      "                                                                                                  \n",
      " concatenate (Concatenate)      (None, 384)          0           ['global_max_pooling1d[0][0]',   \n",
      "                                                                  'global_max_pooling1d_1[0][0]', \n",
      "                                                                  'global_max_pooling1d_2[0][0]'] \n",
      "                                                                                                  \n",
      " dropout (Dropout)              (None, 384)          0           ['concatenate[0][0]']            \n",
      "                                                                                                  \n",
      " bidirectional (Bidirectional)  (None, 1024)         1972224     ['embedding[0][0]']              \n",
      "                                                                                                  \n",
      " concatenate_1 (Concatenate)    (None, 1408)         0           ['dropout[0][0]',                \n",
      "                                                                  'bidirectional[0][0]']          \n",
      "                                                                                                  \n",
      " dense (Dense)                  (None, 1)            1409        ['concatenate_1[0][0]']          \n",
      "                                                                                                  \n",
      "==================================================================================================\n",
      "Total params: 4,090,625\n",
      "Trainable params: 4,090,625\n",
      "Non-trainable params: 0\n",
      "__________________________________________________________________________________________________\n"
     ]
    }
   ],
   "source": [
    "data_path = os.path.join('..', 'data', 'preprocessed_url_simple')\n",
    "\n",
    "x_train, y_train, x_valid, y_valid, x_test, y_test = wu.prepare_data(\n",
    "    data_path)\n",
    "os.makedirs(MODELS_DIR, exist_ok=True)\n",
    "text_vectorizer = wu.prepare_text_vectorizer(x_train, max_len=MAX_LEN, vocab_size=VOCAB_SIZE)\n",
    "model = wu.get_wordcnn_gru(text_vectorizer)\n",
    "model.summary()"
   ],
   "metadata": {
    "collapsed": false,
    "ExecuteTime": {
     "end_time": "2023-12-16T18:10:22.726581700Z",
     "start_time": "2023-12-16T18:10:20.783303100Z"
    }
   },
   "id": "9582fa70b50b010d"
  },
  {
   "cell_type": "code",
   "execution_count": 3,
   "outputs": [
    {
     "name": "stdout",
     "output_type": "stream",
     "text": [
      "Epoch 1/200\n",
      "81/81 [==============================] - ETA: 0s - loss: 0.6085 - accuracy: 0.7312"
     ]
    },
    {
     "name": "stderr",
     "output_type": "stream",
     "text": [
      "WARNING:absl:Found untraced functions such as _jit_compiled_convolution_op, _jit_compiled_convolution_op, _jit_compiled_convolution_op, gru_cell_1_layer_call_fn, gru_cell_1_layer_call_and_return_conditional_losses while saving (showing 5 of 7). These functions will not be directly callable after loading.\n"
     ]
    },
    {
     "name": "stdout",
     "output_type": "stream",
     "text": [
      "INFO:tensorflow:Assets written to: ..\\models\\wordCNN_GRU\\simple\\assets\n"
     ]
    },
    {
     "name": "stderr",
     "output_type": "stream",
     "text": [
      "INFO:tensorflow:Assets written to: ..\\models\\wordCNN_GRU\\simple\\assets\n"
     ]
    },
    {
     "name": "stdout",
     "output_type": "stream",
     "text": [
      "81/81 [==============================] - 13s 115ms/step - loss: 0.6085 - accuracy: 0.7312 - val_loss: 0.4106 - val_accuracy: 0.7993\n",
      "Epoch 2/200\n",
      "81/81 [==============================] - ETA: 0s - loss: 0.3148 - accuracy: 0.8587"
     ]
    },
    {
     "name": "stderr",
     "output_type": "stream",
     "text": [
      "WARNING:absl:Found untraced functions such as _jit_compiled_convolution_op, _jit_compiled_convolution_op, _jit_compiled_convolution_op, gru_cell_1_layer_call_fn, gru_cell_1_layer_call_and_return_conditional_losses while saving (showing 5 of 7). These functions will not be directly callable after loading.\n"
     ]
    },
    {
     "name": "stdout",
     "output_type": "stream",
     "text": [
      "INFO:tensorflow:Assets written to: ..\\models\\wordCNN_GRU\\simple\\assets\n"
     ]
    },
    {
     "name": "stderr",
     "output_type": "stream",
     "text": [
      "INFO:tensorflow:Assets written to: ..\\models\\wordCNN_GRU\\simple\\assets\n"
     ]
    },
    {
     "name": "stdout",
     "output_type": "stream",
     "text": [
      "81/81 [==============================] - 9s 104ms/step - loss: 0.3148 - accuracy: 0.8587 - val_loss: 0.3979 - val_accuracy: 0.8110\n",
      "Epoch 3/200\n",
      "81/81 [==============================] - 4s 43ms/step - loss: 0.2177 - accuracy: 0.9120 - val_loss: 0.4511 - val_accuracy: 0.8045\n",
      "Epoch 4/200\n",
      "81/81 [==============================] - 4s 46ms/step - loss: 0.1482 - accuracy: 0.9460 - val_loss: 0.5278 - val_accuracy: 0.8054\n",
      "Epoch 5/200\n",
      "81/81 [==============================] - 4s 45ms/step - loss: 0.0974 - accuracy: 0.9668 - val_loss: 0.6200 - val_accuracy: 0.8015\n",
      "Epoch 6/200\n",
      "81/81 [==============================] - 3s 43ms/step - loss: 0.0627 - accuracy: 0.9795 - val_loss: 0.7266 - val_accuracy: 0.7950\n",
      "Epoch 7/200\n",
      "81/81 [==============================] - 4s 47ms/step - loss: 0.0407 - accuracy: 0.9887 - val_loss: 0.8075 - val_accuracy: 0.7906\n",
      "Epoch 8/200\n",
      "81/81 [==============================] - 4s 44ms/step - loss: 0.0255 - accuracy: 0.9941 - val_loss: 0.8945 - val_accuracy: 0.7867\n",
      "Epoch 9/200\n",
      "81/81 [==============================] - 4s 44ms/step - loss: 0.0178 - accuracy: 0.9959 - val_loss: 0.9566 - val_accuracy: 0.7854\n",
      "Epoch 10/200\n",
      "81/81 [==============================] - 4s 47ms/step - loss: 0.0132 - accuracy: 0.9972 - val_loss: 1.0224 - val_accuracy: 0.7832\n",
      "Epoch 11/200\n",
      "81/81 [==============================] - 4s 43ms/step - loss: 0.0109 - accuracy: 0.9978 - val_loss: 1.0674 - val_accuracy: 0.7785\n",
      "Epoch 12/200\n",
      "81/81 [==============================] - 4s 45ms/step - loss: 0.0090 - accuracy: 0.9981 - val_loss: 1.1065 - val_accuracy: 0.7815\n"
     ]
    },
    {
     "data": {
      "text/plain": "<keras.callbacks.History at 0x23c802ce7c0>"
     },
     "execution_count": 3,
     "metadata": {},
     "output_type": "execute_result"
    }
   ],
   "source": [
    "# Train CNN model.\n",
    "early_stopping = keras.callbacks.EarlyStopping(monitor='val_loss', patience=10, restore_best_weights=True)\n",
    "save_best = keras.callbacks.ModelCheckpoint(os.path.join(MODELS_DIR, \"simple\"), monitor='val_loss',\n",
    "                                            save_best_only=True, restore_best_weights=True)\n",
    "model.fit(x_train, y_train, batch_size=256, epochs=EPOCHS,\n",
    "          validation_data=(x_valid, y_valid),\n",
    "          callbacks=[early_stopping, save_best])"
   ],
   "metadata": {
    "collapsed": false,
    "ExecuteTime": {
     "end_time": "2023-12-16T18:11:20.571436100Z",
     "start_time": "2023-12-16T18:10:22.728580600Z"
    }
   },
   "id": "ce5efb89725a6879"
  },
  {
   "cell_type": "code",
   "execution_count": 4,
   "outputs": [
    {
     "name": "stdout",
     "output_type": "stream",
     "text": [
      "80/80 [==============================] - 1s 8ms/step\n"
     ]
    },
    {
     "data": {
      "text/plain": "{'balanced_accuracy': 0.8177975841158059,\n 'f1_score': 0.824415975885456,\n 'precision': 0.7962154294032023,\n 'recall': 0.8546875}"
     },
     "execution_count": 4,
     "metadata": {},
     "output_type": "execute_result"
    }
   ],
   "source": [
    "probas = model.predict(x_test)\n",
    "y_pred = (probas > 0.5).astype('int32')\n",
    "results = calculate_metrics(y_test, y_pred)\n",
    "results"
   ],
   "metadata": {
    "collapsed": false,
    "ExecuteTime": {
     "end_time": "2023-12-16T18:11:21.590986400Z",
     "start_time": "2023-12-16T18:11:20.570435300Z"
    }
   },
   "id": "c55d4a8979fdfc04"
  },
  {
   "cell_type": "markdown",
   "source": [
    "# Lemmatized data"
   ],
   "metadata": {
    "collapsed": false
   },
   "id": "76544c10227f860d"
  },
  {
   "cell_type": "code",
   "execution_count": 5,
   "outputs": [
    {
     "name": "stdout",
     "output_type": "stream",
     "text": [
      "Model: \"model_1\"\n",
      "__________________________________________________________________________________________________\n",
      " Layer (type)                   Output Shape         Param #     Connected to                     \n",
      "==================================================================================================\n",
      " input_2 (InputLayer)           [(None, 1)]          0           []                               \n",
      "                                                                                                  \n",
      " text_vectorization_1 (TextVect  (None, 100)         0           ['input_2[0][0]']                \n",
      " orization)                                                                                       \n",
      "                                                                                                  \n",
      " embedding_1 (Embedding)        (None, 100, 128)     1920000     ['text_vectorization_1[0][0]']   \n",
      "                                                                                                  \n",
      " conv1d_3 (Conv1D)              (None, 98, 128)      49280       ['embedding_1[0][0]']            \n",
      "                                                                                                  \n",
      " conv1d_4 (Conv1D)              (None, 97, 128)      65664       ['embedding_1[0][0]']            \n",
      "                                                                                                  \n",
      " conv1d_5 (Conv1D)              (None, 96, 128)      82048       ['embedding_1[0][0]']            \n",
      "                                                                                                  \n",
      " global_max_pooling1d_3 (Global  (None, 128)         0           ['conv1d_3[0][0]']               \n",
      " MaxPooling1D)                                                                                    \n",
      "                                                                                                  \n",
      " global_max_pooling1d_4 (Global  (None, 128)         0           ['conv1d_4[0][0]']               \n",
      " MaxPooling1D)                                                                                    \n",
      "                                                                                                  \n",
      " global_max_pooling1d_5 (Global  (None, 128)         0           ['conv1d_5[0][0]']               \n",
      " MaxPooling1D)                                                                                    \n",
      "                                                                                                  \n",
      " concatenate_2 (Concatenate)    (None, 384)          0           ['global_max_pooling1d_3[0][0]', \n",
      "                                                                  'global_max_pooling1d_4[0][0]', \n",
      "                                                                  'global_max_pooling1d_5[0][0]'] \n",
      "                                                                                                  \n",
      " dropout_2 (Dropout)            (None, 384)          0           ['concatenate_2[0][0]']          \n",
      "                                                                                                  \n",
      " bidirectional_1 (Bidirectional  (None, 1024)        1972224     ['embedding_1[0][0]']            \n",
      " )                                                                                                \n",
      "                                                                                                  \n",
      " concatenate_3 (Concatenate)    (None, 1408)         0           ['dropout_2[0][0]',              \n",
      "                                                                  'bidirectional_1[0][0]']        \n",
      "                                                                                                  \n",
      " dense_1 (Dense)                (None, 1)            1409        ['concatenate_3[0][0]']          \n",
      "                                                                                                  \n",
      "==================================================================================================\n",
      "Total params: 4,090,625\n",
      "Trainable params: 4,090,625\n",
      "Non-trainable params: 0\n",
      "__________________________________________________________________________________________________\n"
     ]
    }
   ],
   "source": [
    "data_path = os.path.join('..', 'data', 'lemmatized')\n",
    "\n",
    "x_train, y_train, x_valid, y_valid, x_test, y_test = wu.prepare_data(\n",
    "    data_path)\n",
    "os.makedirs(MODELS_DIR, exist_ok=True)\n",
    "text_vectorizer = wu.prepare_text_vectorizer(x_train, max_len=MAX_LEN, vocab_size=VOCAB_SIZE)\n",
    "model = wu.get_wordcnn_gru(text_vectorizer)\n",
    "model.summary()"
   ],
   "metadata": {
    "collapsed": false,
    "ExecuteTime": {
     "end_time": "2023-12-16T18:11:22.631986400Z",
     "start_time": "2023-12-16T18:11:21.592987600Z"
    }
   },
   "id": "1992ddecf07d31a3"
  },
  {
   "cell_type": "code",
   "execution_count": 6,
   "outputs": [
    {
     "name": "stdout",
     "output_type": "stream",
     "text": [
      "Epoch 1/200\n",
      "80/81 [============================>.] - ETA: 0s - loss: 0.5274 - accuracy: 0.7621"
     ]
    },
    {
     "name": "stderr",
     "output_type": "stream",
     "text": [
      "WARNING:absl:Found untraced functions such as _jit_compiled_convolution_op, _jit_compiled_convolution_op, _jit_compiled_convolution_op, gru_cell_4_layer_call_fn, gru_cell_4_layer_call_and_return_conditional_losses while saving (showing 5 of 7). These functions will not be directly callable after loading.\n"
     ]
    },
    {
     "name": "stdout",
     "output_type": "stream",
     "text": [
      "INFO:tensorflow:Assets written to: ..\\models\\wordCNN_GRU\\lemmatized\\assets\n"
     ]
    },
    {
     "name": "stderr",
     "output_type": "stream",
     "text": [
      "INFO:tensorflow:Assets written to: ..\\models\\wordCNN_GRU\\lemmatized\\assets\n"
     ]
    },
    {
     "name": "stdout",
     "output_type": "stream",
     "text": [
      "81/81 [==============================] - 10s 110ms/step - loss: 0.5261 - accuracy: 0.7625 - val_loss: 0.4110 - val_accuracy: 0.7976\n",
      "Epoch 2/200\n",
      "80/81 [============================>.] - ETA: 0s - loss: 0.3082 - accuracy: 0.8628"
     ]
    },
    {
     "name": "stderr",
     "output_type": "stream",
     "text": [
      "WARNING:absl:Found untraced functions such as _jit_compiled_convolution_op, _jit_compiled_convolution_op, _jit_compiled_convolution_op, gru_cell_4_layer_call_fn, gru_cell_4_layer_call_and_return_conditional_losses while saving (showing 5 of 7). These functions will not be directly callable after loading.\n"
     ]
    },
    {
     "name": "stdout",
     "output_type": "stream",
     "text": [
      "INFO:tensorflow:Assets written to: ..\\models\\wordCNN_GRU\\lemmatized\\assets\n"
     ]
    },
    {
     "name": "stderr",
     "output_type": "stream",
     "text": [
      "INFO:tensorflow:Assets written to: ..\\models\\wordCNN_GRU\\lemmatized\\assets\n"
     ]
    },
    {
     "name": "stdout",
     "output_type": "stream",
     "text": [
      "81/81 [==============================] - 9s 103ms/step - loss: 0.3080 - accuracy: 0.8629 - val_loss: 0.4029 - val_accuracy: 0.8145\n",
      "Epoch 3/200\n",
      "81/81 [==============================] - 4s 46ms/step - loss: 0.2092 - accuracy: 0.9162 - val_loss: 0.4578 - val_accuracy: 0.8028\n",
      "Epoch 4/200\n",
      "81/81 [==============================] - 3s 42ms/step - loss: 0.1403 - accuracy: 0.9473 - val_loss: 0.5413 - val_accuracy: 0.8010\n",
      "Epoch 5/200\n",
      "81/81 [==============================] - 4s 46ms/step - loss: 0.0894 - accuracy: 0.9699 - val_loss: 0.6700 - val_accuracy: 0.7915\n",
      "Epoch 6/200\n",
      "81/81 [==============================] - 4s 45ms/step - loss: 0.0553 - accuracy: 0.9821 - val_loss: 0.7830 - val_accuracy: 0.7880\n",
      "Epoch 7/200\n",
      "81/81 [==============================] - 3s 43ms/step - loss: 0.0354 - accuracy: 0.9905 - val_loss: 0.8638 - val_accuracy: 0.7819\n",
      "Epoch 8/200\n",
      "81/81 [==============================] - 4s 47ms/step - loss: 0.0224 - accuracy: 0.9949 - val_loss: 0.9526 - val_accuracy: 0.7798\n",
      "Epoch 9/200\n",
      "81/81 [==============================] - 4s 44ms/step - loss: 0.0156 - accuracy: 0.9967 - val_loss: 1.0332 - val_accuracy: 0.7763\n",
      "Epoch 10/200\n",
      "81/81 [==============================] - 4s 44ms/step - loss: 0.0111 - accuracy: 0.9980 - val_loss: 1.0867 - val_accuracy: 0.7798\n",
      "Epoch 11/200\n",
      "81/81 [==============================] - 4s 47ms/step - loss: 0.0090 - accuracy: 0.9984 - val_loss: 1.1317 - val_accuracy: 0.7776\n",
      "Epoch 12/200\n",
      "81/81 [==============================] - 3s 43ms/step - loss: 0.0077 - accuracy: 0.9986 - val_loss: 1.1753 - val_accuracy: 0.7772\n"
     ]
    },
    {
     "data": {
      "text/plain": "<keras.callbacks.History at 0x23ee5ce4220>"
     },
     "execution_count": 6,
     "metadata": {},
     "output_type": "execute_result"
    }
   ],
   "source": [
    "# Train CNN model.\n",
    "early_stopping = keras.callbacks.EarlyStopping(monitor='val_loss', patience=10, restore_best_weights=True)\n",
    "save_best = keras.callbacks.ModelCheckpoint(os.path.join(MODELS_DIR, \"lemmatized\"), monitor='val_loss',\n",
    "                                            save_best_only=True, restore_best_weights=True)\n",
    "model.fit(x_train, y_train, batch_size=256, epochs=EPOCHS,\n",
    "          validation_data=(x_valid, y_valid),\n",
    "          callbacks=[early_stopping, save_best])"
   ],
   "metadata": {
    "collapsed": false,
    "ExecuteTime": {
     "end_time": "2023-12-16T18:12:18.038630600Z",
     "start_time": "2023-12-16T18:11:22.635986200Z"
    }
   },
   "id": "e6b6a212cf2287ed"
  },
  {
   "cell_type": "code",
   "execution_count": 7,
   "outputs": [
    {
     "name": "stdout",
     "output_type": "stream",
     "text": [
      "80/80 [==============================] - 1s 7ms/step\n"
     ]
    },
    {
     "data": {
      "text/plain": "{'balanced_accuracy': 0.8201480584898279,\n 'f1_score': 0.8256254738438211,\n 'precision': 0.8019145802650958,\n 'recall': 0.85078125}"
     },
     "execution_count": 7,
     "metadata": {},
     "output_type": "execute_result"
    }
   ],
   "source": [
    "probas = model.predict(x_test)\n",
    "y_pred = (probas > 0.5).astype('int32')\n",
    "results_lem = calculate_metrics(y_test, y_pred)\n",
    "results_lem"
   ],
   "metadata": {
    "collapsed": false,
    "ExecuteTime": {
     "end_time": "2023-12-16T18:12:18.957630500Z",
     "start_time": "2023-12-16T18:12:18.041630700Z"
    }
   },
   "id": "be6b3e575c68127b"
  },
  {
   "cell_type": "markdown",
   "source": [
    "# Stemmed data"
   ],
   "metadata": {
    "collapsed": false
   },
   "id": "8f288b883e45da3e"
  },
  {
   "cell_type": "code",
   "execution_count": 8,
   "outputs": [
    {
     "name": "stdout",
     "output_type": "stream",
     "text": [
      "Model: \"model_2\"\n",
      "__________________________________________________________________________________________________\n",
      " Layer (type)                   Output Shape         Param #     Connected to                     \n",
      "==================================================================================================\n",
      " input_3 (InputLayer)           [(None, 1)]          0           []                               \n",
      "                                                                                                  \n",
      " text_vectorization_2 (TextVect  (None, 100)         0           ['input_3[0][0]']                \n",
      " orization)                                                                                       \n",
      "                                                                                                  \n",
      " embedding_2 (Embedding)        (None, 100, 128)     1920000     ['text_vectorization_2[0][0]']   \n",
      "                                                                                                  \n",
      " conv1d_6 (Conv1D)              (None, 98, 128)      49280       ['embedding_2[0][0]']            \n",
      "                                                                                                  \n",
      " conv1d_7 (Conv1D)              (None, 97, 128)      65664       ['embedding_2[0][0]']            \n",
      "                                                                                                  \n",
      " conv1d_8 (Conv1D)              (None, 96, 128)      82048       ['embedding_2[0][0]']            \n",
      "                                                                                                  \n",
      " global_max_pooling1d_6 (Global  (None, 128)         0           ['conv1d_6[0][0]']               \n",
      " MaxPooling1D)                                                                                    \n",
      "                                                                                                  \n",
      " global_max_pooling1d_7 (Global  (None, 128)         0           ['conv1d_7[0][0]']               \n",
      " MaxPooling1D)                                                                                    \n",
      "                                                                                                  \n",
      " global_max_pooling1d_8 (Global  (None, 128)         0           ['conv1d_8[0][0]']               \n",
      " MaxPooling1D)                                                                                    \n",
      "                                                                                                  \n",
      " concatenate_4 (Concatenate)    (None, 384)          0           ['global_max_pooling1d_6[0][0]', \n",
      "                                                                  'global_max_pooling1d_7[0][0]', \n",
      "                                                                  'global_max_pooling1d_8[0][0]'] \n",
      "                                                                                                  \n",
      " dropout_4 (Dropout)            (None, 384)          0           ['concatenate_4[0][0]']          \n",
      "                                                                                                  \n",
      " bidirectional_2 (Bidirectional  (None, 1024)        1972224     ['embedding_2[0][0]']            \n",
      " )                                                                                                \n",
      "                                                                                                  \n",
      " concatenate_5 (Concatenate)    (None, 1408)         0           ['dropout_4[0][0]',              \n",
      "                                                                  'bidirectional_2[0][0]']        \n",
      "                                                                                                  \n",
      " dense_2 (Dense)                (None, 1)            1409        ['concatenate_5[0][0]']          \n",
      "                                                                                                  \n",
      "==================================================================================================\n",
      "Total params: 4,090,625\n",
      "Trainable params: 4,090,625\n",
      "Non-trainable params: 0\n",
      "__________________________________________________________________________________________________\n"
     ]
    }
   ],
   "source": [
    "data_path = os.path.join('..', 'data', 'stemmed')\n",
    "\n",
    "x_train, y_train, x_valid, y_valid, x_test, y_test = wu.prepare_data(\n",
    "    data_path)\n",
    "os.makedirs(MODELS_DIR, exist_ok=True)\n",
    "text_vectorizer = wu.prepare_text_vectorizer(x_train, max_len=MAX_LEN, vocab_size=VOCAB_SIZE)\n",
    "model = wu.get_wordcnn_gru(text_vectorizer)\n",
    "model.summary()"
   ],
   "metadata": {
    "collapsed": false,
    "ExecuteTime": {
     "end_time": "2023-12-16T18:12:19.942631Z",
     "start_time": "2023-12-16T18:12:18.958630800Z"
    }
   },
   "id": "9a6998fa1e5705f2"
  },
  {
   "cell_type": "code",
   "execution_count": 9,
   "outputs": [
    {
     "name": "stdout",
     "output_type": "stream",
     "text": [
      "Epoch 1/200\n",
      "81/81 [==============================] - ETA: 0s - loss: 0.5600 - accuracy: 0.7318"
     ]
    },
    {
     "name": "stderr",
     "output_type": "stream",
     "text": [
      "WARNING:absl:Found untraced functions such as _jit_compiled_convolution_op, _jit_compiled_convolution_op, _jit_compiled_convolution_op, gru_cell_7_layer_call_fn, gru_cell_7_layer_call_and_return_conditional_losses while saving (showing 5 of 7). These functions will not be directly callable after loading.\n"
     ]
    },
    {
     "name": "stdout",
     "output_type": "stream",
     "text": [
      "INFO:tensorflow:Assets written to: ..\\models\\wordCNN_GRU\\stemmed\\assets\n"
     ]
    },
    {
     "name": "stderr",
     "output_type": "stream",
     "text": [
      "INFO:tensorflow:Assets written to: ..\\models\\wordCNN_GRU\\stemmed\\assets\n"
     ]
    },
    {
     "name": "stdout",
     "output_type": "stream",
     "text": [
      "81/81 [==============================] - 11s 113ms/step - loss: 0.5600 - accuracy: 0.7318 - val_loss: 0.4102 - val_accuracy: 0.7971\n",
      "Epoch 2/200\n",
      "80/81 [============================>.] - ETA: 0s - loss: 0.3147 - accuracy: 0.8597"
     ]
    },
    {
     "name": "stderr",
     "output_type": "stream",
     "text": [
      "WARNING:absl:Found untraced functions such as _jit_compiled_convolution_op, _jit_compiled_convolution_op, _jit_compiled_convolution_op, gru_cell_7_layer_call_fn, gru_cell_7_layer_call_and_return_conditional_losses while saving (showing 5 of 7). These functions will not be directly callable after loading.\n"
     ]
    },
    {
     "name": "stdout",
     "output_type": "stream",
     "text": [
      "INFO:tensorflow:Assets written to: ..\\models\\wordCNN_GRU\\stemmed\\assets\n"
     ]
    },
    {
     "name": "stderr",
     "output_type": "stream",
     "text": [
      "INFO:tensorflow:Assets written to: ..\\models\\wordCNN_GRU\\stemmed\\assets\n"
     ]
    },
    {
     "name": "stdout",
     "output_type": "stream",
     "text": [
      "81/81 [==============================] - 9s 107ms/step - loss: 0.3144 - accuracy: 0.8598 - val_loss: 0.4015 - val_accuracy: 0.8036\n",
      "Epoch 3/200\n",
      "81/81 [==============================] - 4s 47ms/step - loss: 0.2178 - accuracy: 0.9116 - val_loss: 0.4577 - val_accuracy: 0.7989\n",
      "Epoch 4/200\n",
      "81/81 [==============================] - 4s 45ms/step - loss: 0.1482 - accuracy: 0.9459 - val_loss: 0.5426 - val_accuracy: 0.7993\n",
      "Epoch 5/200\n",
      "81/81 [==============================] - 3s 43ms/step - loss: 0.1003 - accuracy: 0.9655 - val_loss: 0.6339 - val_accuracy: 0.7928\n",
      "Epoch 6/200\n",
      "81/81 [==============================] - 4s 47ms/step - loss: 0.0662 - accuracy: 0.9795 - val_loss: 0.7226 - val_accuracy: 0.7963\n",
      "Epoch 7/200\n",
      "81/81 [==============================] - 4s 44ms/step - loss: 0.0430 - accuracy: 0.9883 - val_loss: 0.8088 - val_accuracy: 0.7815\n",
      "Epoch 8/200\n",
      "81/81 [==============================] - 4s 44ms/step - loss: 0.0276 - accuracy: 0.9933 - val_loss: 0.8899 - val_accuracy: 0.7858\n",
      "Epoch 9/200\n",
      "81/81 [==============================] - 4s 47ms/step - loss: 0.0196 - accuracy: 0.9962 - val_loss: 0.9650 - val_accuracy: 0.7806\n",
      "Epoch 10/200\n",
      "81/81 [==============================] - 3s 43ms/step - loss: 0.0144 - accuracy: 0.9971 - val_loss: 1.0270 - val_accuracy: 0.7832\n",
      "Epoch 11/200\n",
      "81/81 [==============================] - 4s 44ms/step - loss: 0.0117 - accuracy: 0.9977 - val_loss: 1.0641 - val_accuracy: 0.7789\n",
      "Epoch 12/200\n",
      "81/81 [==============================] - 4s 46ms/step - loss: 0.0093 - accuracy: 0.9981 - val_loss: 1.1159 - val_accuracy: 0.7732\n"
     ]
    },
    {
     "data": {
      "text/plain": "<keras.callbacks.History at 0x23c97eb53a0>"
     },
     "execution_count": 9,
     "metadata": {},
     "output_type": "execute_result"
    }
   ],
   "source": [
    "# Train CNN model.\n",
    "early_stopping = keras.callbacks.EarlyStopping(monitor='val_loss', patience=10, restore_best_weights=True)\n",
    "save_best = keras.callbacks.ModelCheckpoint(os.path.join(MODELS_DIR, \"stemmed\"), monitor='val_loss',\n",
    "                                            save_best_only=True, restore_best_weights=True)\n",
    "model.fit(x_train, y_train, batch_size=256, epochs=EPOCHS,\n",
    "          validation_data=(x_valid, y_valid),\n",
    "          callbacks=[early_stopping, save_best])"
   ],
   "metadata": {
    "collapsed": false,
    "ExecuteTime": {
     "end_time": "2023-12-16T18:13:16.025409200Z",
     "start_time": "2023-12-16T18:12:19.943632Z"
    }
   },
   "id": "33867d7af07537a4"
  },
  {
   "cell_type": "code",
   "execution_count": 10,
   "outputs": [
    {
     "name": "stdout",
     "output_type": "stream",
     "text": [
      "80/80 [==============================] - 1s 7ms/step\n"
     ]
    },
    {
     "data": {
      "text/plain": "{'balanced_accuracy': 0.8248331132629108,\n 'f1_score': 0.8314522197140708,\n 'precision': 0.8018867924528302,\n 'recall': 0.86328125}"
     },
     "execution_count": 10,
     "metadata": {},
     "output_type": "execute_result"
    }
   ],
   "source": [
    "probas = model.predict(x_test)\n",
    "y_pred = (probas > 0.5).astype('int32')\n",
    "results_stem = calculate_metrics(y_test, y_pred)\n",
    "results_stem"
   ],
   "metadata": {
    "collapsed": false,
    "ExecuteTime": {
     "end_time": "2023-12-16T18:13:16.926409100Z",
     "start_time": "2023-12-16T18:13:16.023409300Z"
    }
   },
   "id": "a7e497b575add4eb"
  },
  {
   "cell_type": "markdown",
   "source": [
    "# Results"
   ],
   "metadata": {
    "collapsed": false
   },
   "id": "6ef7e42b7486767"
  },
  {
   "cell_type": "code",
   "execution_count": 11,
   "outputs": [
    {
     "data": {
      "text/plain": "   balanced_accuracy  f1_score  precision    recall        model     dataset\n0           0.817798  0.824416   0.796215  0.854688  WordCNN+GRU      simple\n1           0.820148  0.825625   0.801915  0.850781  WordCNN+GRU  lemmatized\n2           0.824833  0.831452   0.801887  0.863281  WordCNN+GRU     stemmed",
      "text/html": "<div>\n<style scoped>\n    .dataframe tbody tr th:only-of-type {\n        vertical-align: middle;\n    }\n\n    .dataframe tbody tr th {\n        vertical-align: top;\n    }\n\n    .dataframe thead th {\n        text-align: right;\n    }\n</style>\n<table border=\"1\" class=\"dataframe\">\n  <thead>\n    <tr style=\"text-align: right;\">\n      <th></th>\n      <th>balanced_accuracy</th>\n      <th>f1_score</th>\n      <th>precision</th>\n      <th>recall</th>\n      <th>model</th>\n      <th>dataset</th>\n    </tr>\n  </thead>\n  <tbody>\n    <tr>\n      <th>0</th>\n      <td>0.817798</td>\n      <td>0.824416</td>\n      <td>0.796215</td>\n      <td>0.854688</td>\n      <td>WordCNN+GRU</td>\n      <td>simple</td>\n    </tr>\n    <tr>\n      <th>1</th>\n      <td>0.820148</td>\n      <td>0.825625</td>\n      <td>0.801915</td>\n      <td>0.850781</td>\n      <td>WordCNN+GRU</td>\n      <td>lemmatized</td>\n    </tr>\n    <tr>\n      <th>2</th>\n      <td>0.824833</td>\n      <td>0.831452</td>\n      <td>0.801887</td>\n      <td>0.863281</td>\n      <td>WordCNN+GRU</td>\n      <td>stemmed</td>\n    </tr>\n  </tbody>\n</table>\n</div>"
     },
     "execution_count": 11,
     "metadata": {},
     "output_type": "execute_result"
    }
   ],
   "source": [
    "# Create csv with all results\n",
    "\n",
    "results_all = pd.DataFrame([results, results_lem, results_stem])\n",
    "results_all['model'] = 'WordCNN+GRU'\n",
    "results_all['dataset'] = ['simple', 'lemmatized', 'stemmed']\n",
    "\n",
    "if not os.path.exists('results'):\n",
    "    os.makedirs('results')\n",
    "results_all.to_csv('results/word_cnn_gru.csv', index=False)\n",
    "results_all"
   ],
   "metadata": {
    "collapsed": false,
    "ExecuteTime": {
     "end_time": "2023-12-16T18:13:16.947409400Z",
     "start_time": "2023-12-16T18:13:16.928409300Z"
    }
   },
   "id": "78fc7d036fd94a79"
  }
 ],
 "metadata": {
  "kernelspec": {
   "display_name": "Python 3",
   "language": "python",
   "name": "python3"
  },
  "language_info": {
   "codemirror_mode": {
    "name": "ipython",
    "version": 2
   },
   "file_extension": ".py",
   "mimetype": "text/x-python",
   "name": "python",
   "nbconvert_exporter": "python",
   "pygments_lexer": "ipython2",
   "version": "2.7.6"
  }
 },
 "nbformat": 4,
 "nbformat_minor": 5
}
