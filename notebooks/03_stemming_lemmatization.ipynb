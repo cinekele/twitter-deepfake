{
 "cells": [
  {
   "cell_type": "markdown",
   "source": [
    "# Modules import"
   ],
   "metadata": {
    "collapsed": false
   },
   "id": "6ddf4fda1add4e22"
  },
  {
   "cell_type": "code",
   "execution_count": 4,
   "outputs": [
    {
     "name": "stderr",
     "output_type": "stream",
     "text": [
      "[nltk_data] Downloading package stopwords to\n",
      "[nltk_data]     C:\\Users\\Piotrek\\AppData\\Roaming\\nltk_data...\n",
      "[nltk_data]   Package stopwords is already up-to-date!\n",
      "[nltk_data] Downloading package wordnet to\n",
      "[nltk_data]     C:\\Users\\Piotrek\\AppData\\Roaming\\nltk_data...\n",
      "[nltk_data]   Package wordnet is already up-to-date!\n"
     ]
    },
    {
     "data": {
      "text/plain": "True"
     },
     "execution_count": 4,
     "metadata": {},
     "output_type": "execute_result"
    }
   ],
   "source": [
    "import os.path\n",
    "\n",
    "import pandas as pd\n",
    "import nltk\n",
    "from nltk.tokenize import TweetTokenizer\n",
    "from nltk.corpus import stopwords\n",
    "from nltk.stem import PorterStemmer, WordNetLemmatizer\n",
    "nltk.download('stopwords')\n",
    "nltk.download('wordnet')"
   ],
   "metadata": {
    "collapsed": false,
    "ExecuteTime": {
     "end_time": "2023-11-13T21:58:30.287368400Z",
     "start_time": "2023-11-13T21:58:30.245369600Z"
    }
   },
   "id": "dee94d9899274577"
  },
  {
   "cell_type": "markdown",
   "source": [
    "# Data import"
   ],
   "metadata": {
    "collapsed": false
   },
   "id": "eb3bbaf549428c24"
  },
  {
   "cell_type": "code",
   "execution_count": 5,
   "outputs": [
    {
     "data": {
      "text/plain": "  screen_name                                               text account.type  \\\n0       bot#9                             YEA now that note GOOD          bot   \n1    human#17    Listen to This Charming Man by The Smiths <URL>        human   \n2      bot#23  wish i can i would be seeing other hoes on the...          bot   \n3       bot#1  The decade in the significantly easier schedul...          bot   \n4      bot#11  \" Theim class =\\ \" alignnone size-full wp-imag...          bot   \n\n  class_type  \n0     others  \n1      human  \n2     others  \n3     others  \n4        rnn  ",
      "text/html": "<div>\n<style scoped>\n    .dataframe tbody tr th:only-of-type {\n        vertical-align: middle;\n    }\n\n    .dataframe tbody tr th {\n        vertical-align: top;\n    }\n\n    .dataframe thead th {\n        text-align: right;\n    }\n</style>\n<table border=\"1\" class=\"dataframe\">\n  <thead>\n    <tr style=\"text-align: right;\">\n      <th></th>\n      <th>screen_name</th>\n      <th>text</th>\n      <th>account.type</th>\n      <th>class_type</th>\n    </tr>\n  </thead>\n  <tbody>\n    <tr>\n      <th>0</th>\n      <td>bot#9</td>\n      <td>YEA now that note GOOD</td>\n      <td>bot</td>\n      <td>others</td>\n    </tr>\n    <tr>\n      <th>1</th>\n      <td>human#17</td>\n      <td>Listen to This Charming Man by The Smiths &lt;URL&gt;</td>\n      <td>human</td>\n      <td>human</td>\n    </tr>\n    <tr>\n      <th>2</th>\n      <td>bot#23</td>\n      <td>wish i can i would be seeing other hoes on the...</td>\n      <td>bot</td>\n      <td>others</td>\n    </tr>\n    <tr>\n      <th>3</th>\n      <td>bot#1</td>\n      <td>The decade in the significantly easier schedul...</td>\n      <td>bot</td>\n      <td>others</td>\n    </tr>\n    <tr>\n      <th>4</th>\n      <td>bot#11</td>\n      <td>\" Theim class =\\ \" alignnone size-full wp-imag...</td>\n      <td>bot</td>\n      <td>rnn</td>\n    </tr>\n  </tbody>\n</table>\n</div>"
     },
     "execution_count": 5,
     "metadata": {},
     "output_type": "execute_result"
    }
   ],
   "source": [
    "DATA_PATH = os.path.join('..', 'data', 'preprocessed')\n",
    "STOPWORDS = set(stopwords.words('english'))\n",
    "train = pd.read_csv(os.path.join(DATA_PATH, 'train.csv'))\n",
    "train.head()"
   ],
   "metadata": {
    "collapsed": false,
    "ExecuteTime": {
     "end_time": "2023-11-13T21:58:30.326370100Z",
     "start_time": "2023-11-13T21:58:30.262368800Z"
    }
   },
   "id": "8bd8671183365c41"
  },
  {
   "cell_type": "code",
   "execution_count": 6,
   "outputs": [
    {
     "data": {
      "text/plain": "  screen_name                                               text account.type  \\\n0     human#1           TIGHT , TIGHT , TIGHT , YEAH ! ! ! <URL>        human   \n1    human#11  India has millennia old relations with Oman . ...        human   \n2     human#8                                  Anxious Teenagers        human   \n3     human#9  Our top priority is keeping Canadians safe . W...        human   \n4       bot#9  nah bro You ’ re taking sis so much I ’ m just...          bot   \n\n  class_type  \n0      human  \n1      human  \n2      human  \n3      human  \n4     others  ",
      "text/html": "<div>\n<style scoped>\n    .dataframe tbody tr th:only-of-type {\n        vertical-align: middle;\n    }\n\n    .dataframe tbody tr th {\n        vertical-align: top;\n    }\n\n    .dataframe thead th {\n        text-align: right;\n    }\n</style>\n<table border=\"1\" class=\"dataframe\">\n  <thead>\n    <tr style=\"text-align: right;\">\n      <th></th>\n      <th>screen_name</th>\n      <th>text</th>\n      <th>account.type</th>\n      <th>class_type</th>\n    </tr>\n  </thead>\n  <tbody>\n    <tr>\n      <th>0</th>\n      <td>human#1</td>\n      <td>TIGHT , TIGHT , TIGHT , YEAH ! ! ! &lt;URL&gt;</td>\n      <td>human</td>\n      <td>human</td>\n    </tr>\n    <tr>\n      <th>1</th>\n      <td>human#11</td>\n      <td>India has millennia old relations with Oman . ...</td>\n      <td>human</td>\n      <td>human</td>\n    </tr>\n    <tr>\n      <th>2</th>\n      <td>human#8</td>\n      <td>Anxious Teenagers</td>\n      <td>human</td>\n      <td>human</td>\n    </tr>\n    <tr>\n      <th>3</th>\n      <td>human#9</td>\n      <td>Our top priority is keeping Canadians safe . W...</td>\n      <td>human</td>\n      <td>human</td>\n    </tr>\n    <tr>\n      <th>4</th>\n      <td>bot#9</td>\n      <td>nah bro You ’ re taking sis so much I ’ m just...</td>\n      <td>bot</td>\n      <td>others</td>\n    </tr>\n  </tbody>\n</table>\n</div>"
     },
     "execution_count": 6,
     "metadata": {},
     "output_type": "execute_result"
    }
   ],
   "source": [
    "validation = pd.read_csv(os.path.join(DATA_PATH, 'validation.csv'))\n",
    "validation.head()"
   ],
   "metadata": {
    "collapsed": false,
    "ExecuteTime": {
     "end_time": "2023-11-13T21:58:30.327368900Z",
     "start_time": "2023-11-13T21:58:30.292368700Z"
    }
   },
   "id": "1cf9242d75079a79"
  },
  {
   "cell_type": "code",
   "execution_count": 7,
   "outputs": [
    {
     "data": {
      "text/plain": "  screen_name                                               text account.type  \\\n0    human#17  justin timberlake really one of the goats if y...        human   \n1    human#11  Thank you <MENTION> for your gracious prayers ...        human   \n2     human#1  Theory : the number of red lights you will hit...        human   \n3      bot#12  Respects on the Upt of the I good with the peo...          bot   \n4    human#10  Might give the BASIC #10Liner game contest ano...        human   \n\n  class_type  \n0      human  \n1      human  \n2      human  \n3        rnn  \n4      human  ",
      "text/html": "<div>\n<style scoped>\n    .dataframe tbody tr th:only-of-type {\n        vertical-align: middle;\n    }\n\n    .dataframe tbody tr th {\n        vertical-align: top;\n    }\n\n    .dataframe thead th {\n        text-align: right;\n    }\n</style>\n<table border=\"1\" class=\"dataframe\">\n  <thead>\n    <tr style=\"text-align: right;\">\n      <th></th>\n      <th>screen_name</th>\n      <th>text</th>\n      <th>account.type</th>\n      <th>class_type</th>\n    </tr>\n  </thead>\n  <tbody>\n    <tr>\n      <th>0</th>\n      <td>human#17</td>\n      <td>justin timberlake really one of the goats if y...</td>\n      <td>human</td>\n      <td>human</td>\n    </tr>\n    <tr>\n      <th>1</th>\n      <td>human#11</td>\n      <td>Thank you &lt;MENTION&gt; for your gracious prayers ...</td>\n      <td>human</td>\n      <td>human</td>\n    </tr>\n    <tr>\n      <th>2</th>\n      <td>human#1</td>\n      <td>Theory : the number of red lights you will hit...</td>\n      <td>human</td>\n      <td>human</td>\n    </tr>\n    <tr>\n      <th>3</th>\n      <td>bot#12</td>\n      <td>Respects on the Upt of the I good with the peo...</td>\n      <td>bot</td>\n      <td>rnn</td>\n    </tr>\n    <tr>\n      <th>4</th>\n      <td>human#10</td>\n      <td>Might give the BASIC #10Liner game contest ano...</td>\n      <td>human</td>\n      <td>human</td>\n    </tr>\n  </tbody>\n</table>\n</div>"
     },
     "execution_count": 7,
     "metadata": {},
     "output_type": "execute_result"
    }
   ],
   "source": [
    "test = pd.read_csv(os.path.join(DATA_PATH, 'test.csv'))\n",
    "test.head()"
   ],
   "metadata": {
    "collapsed": false,
    "ExecuteTime": {
     "end_time": "2023-11-13T21:58:30.327368900Z",
     "start_time": "2023-11-13T21:58:30.307369600Z"
    }
   },
   "id": "b00e147e248fcb99"
  },
  {
   "cell_type": "markdown",
   "source": [
    "# Data preprocessing\n",
    "## Tokenization And Stopwords removal"
   ],
   "metadata": {
    "collapsed": false
   },
   "id": "20f7ccde1e52455f"
  },
  {
   "cell_type": "code",
   "execution_count": 8,
   "outputs": [
    {
     "data": {
      "text/plain": "  screen_name                                               text account.type  \\\n0       bot#9                             YEA now that note GOOD          bot   \n1    human#17    Listen to This Charming Man by The Smiths <URL>        human   \n2      bot#23  wish i can i would be seeing other hoes on the...          bot   \n3       bot#1  The decade in the significantly easier schedul...          bot   \n4      bot#11  \" Theim class =\\ \" alignnone size-full wp-imag...          bot   \n\n  class_type                                             tokens  \n0     others                                  [YEA, note, GOOD]  \n1      human  [Listen, This, Charming, Man, The, Smiths, <URL>]  \n2     others           [wish, would, seeing, hoes, worst, part]  \n3     others  [The, decade, significantly, easier, schedule,...  \n4        rnn  [\", Theim, class, =\\, \", alignnone, size-full,...  ",
      "text/html": "<div>\n<style scoped>\n    .dataframe tbody tr th:only-of-type {\n        vertical-align: middle;\n    }\n\n    .dataframe tbody tr th {\n        vertical-align: top;\n    }\n\n    .dataframe thead th {\n        text-align: right;\n    }\n</style>\n<table border=\"1\" class=\"dataframe\">\n  <thead>\n    <tr style=\"text-align: right;\">\n      <th></th>\n      <th>screen_name</th>\n      <th>text</th>\n      <th>account.type</th>\n      <th>class_type</th>\n      <th>tokens</th>\n    </tr>\n  </thead>\n  <tbody>\n    <tr>\n      <th>0</th>\n      <td>bot#9</td>\n      <td>YEA now that note GOOD</td>\n      <td>bot</td>\n      <td>others</td>\n      <td>[YEA, note, GOOD]</td>\n    </tr>\n    <tr>\n      <th>1</th>\n      <td>human#17</td>\n      <td>Listen to This Charming Man by The Smiths &lt;URL&gt;</td>\n      <td>human</td>\n      <td>human</td>\n      <td>[Listen, This, Charming, Man, The, Smiths, &lt;URL&gt;]</td>\n    </tr>\n    <tr>\n      <th>2</th>\n      <td>bot#23</td>\n      <td>wish i can i would be seeing other hoes on the...</td>\n      <td>bot</td>\n      <td>others</td>\n      <td>[wish, would, seeing, hoes, worst, part]</td>\n    </tr>\n    <tr>\n      <th>3</th>\n      <td>bot#1</td>\n      <td>The decade in the significantly easier schedul...</td>\n      <td>bot</td>\n      <td>others</td>\n      <td>[The, decade, significantly, easier, schedule,...</td>\n    </tr>\n    <tr>\n      <th>4</th>\n      <td>bot#11</td>\n      <td>\" Theim class =\\ \" alignnone size-full wp-imag...</td>\n      <td>bot</td>\n      <td>rnn</td>\n      <td>[\", Theim, class, =\\, \", alignnone, size-full,...</td>\n    </tr>\n  </tbody>\n</table>\n</div>"
     },
     "execution_count": 8,
     "metadata": {},
     "output_type": "execute_result"
    }
   ],
   "source": [
    "def tokenize_remove_stop_words(dataset: pd.DataFrame) -> pd.DataFrame:\n",
    "    tknzr = TweetTokenizer(strip_handles=True)\n",
    "    dataset['tokens'] = dataset['text'].apply(lambda x: tknzr.tokenize(x))\n",
    "    dataset['tokens'] = dataset['tokens'].apply(lambda x: [w for w in x if not w in STOPWORDS])\n",
    "    return dataset\n",
    "\n",
    "train = tokenize_remove_stop_words(train)\n",
    "train.head()"
   ],
   "metadata": {
    "collapsed": false,
    "ExecuteTime": {
     "end_time": "2023-11-13T21:58:31.551887100Z",
     "start_time": "2023-11-13T21:58:30.324369800Z"
    }
   },
   "id": "494d319928d31bbc"
  },
  {
   "cell_type": "code",
   "execution_count": 9,
   "outputs": [
    {
     "data": {
      "text/plain": "  screen_name                                               text account.type  \\\n0     human#1           TIGHT , TIGHT , TIGHT , YEAH ! ! ! <URL>        human   \n1    human#11  India has millennia old relations with Oman . ...        human   \n2     human#8                                  Anxious Teenagers        human   \n3     human#9  Our top priority is keeping Canadians safe . W...        human   \n4       bot#9  nah bro You ’ re taking sis so much I ’ m just...          bot   \n\n  class_type                                             tokens  \n0      human  [TIGHT, ,, TIGHT, ,, TIGHT, ,, YEAH, !, !, !, ...  \n1      human  [India, millennia, old, relations, Oman, ., We...  \n2      human                               [Anxious, Teenagers]  \n3      human  [Our, top, priority, keeping, Canadians, safe,...  \n4     others  [nah, bro, You, ’, taking, sis, much, I, ’, go...  ",
      "text/html": "<div>\n<style scoped>\n    .dataframe tbody tr th:only-of-type {\n        vertical-align: middle;\n    }\n\n    .dataframe tbody tr th {\n        vertical-align: top;\n    }\n\n    .dataframe thead th {\n        text-align: right;\n    }\n</style>\n<table border=\"1\" class=\"dataframe\">\n  <thead>\n    <tr style=\"text-align: right;\">\n      <th></th>\n      <th>screen_name</th>\n      <th>text</th>\n      <th>account.type</th>\n      <th>class_type</th>\n      <th>tokens</th>\n    </tr>\n  </thead>\n  <tbody>\n    <tr>\n      <th>0</th>\n      <td>human#1</td>\n      <td>TIGHT , TIGHT , TIGHT , YEAH ! ! ! &lt;URL&gt;</td>\n      <td>human</td>\n      <td>human</td>\n      <td>[TIGHT, ,, TIGHT, ,, TIGHT, ,, YEAH, !, !, !, ...</td>\n    </tr>\n    <tr>\n      <th>1</th>\n      <td>human#11</td>\n      <td>India has millennia old relations with Oman . ...</td>\n      <td>human</td>\n      <td>human</td>\n      <td>[India, millennia, old, relations, Oman, ., We...</td>\n    </tr>\n    <tr>\n      <th>2</th>\n      <td>human#8</td>\n      <td>Anxious Teenagers</td>\n      <td>human</td>\n      <td>human</td>\n      <td>[Anxious, Teenagers]</td>\n    </tr>\n    <tr>\n      <th>3</th>\n      <td>human#9</td>\n      <td>Our top priority is keeping Canadians safe . W...</td>\n      <td>human</td>\n      <td>human</td>\n      <td>[Our, top, priority, keeping, Canadians, safe,...</td>\n    </tr>\n    <tr>\n      <th>4</th>\n      <td>bot#9</td>\n      <td>nah bro You ’ re taking sis so much I ’ m just...</td>\n      <td>bot</td>\n      <td>others</td>\n      <td>[nah, bro, You, ’, taking, sis, much, I, ’, go...</td>\n    </tr>\n  </tbody>\n</table>\n</div>"
     },
     "execution_count": 9,
     "metadata": {},
     "output_type": "execute_result"
    }
   ],
   "source": [
    "validation = tokenize_remove_stop_words(validation)\n",
    "validation.head()"
   ],
   "metadata": {
    "collapsed": false,
    "ExecuteTime": {
     "end_time": "2023-11-13T21:58:31.698886700Z",
     "start_time": "2023-11-13T21:58:31.546886800Z"
    }
   },
   "id": "7a152b43dc3d21fc"
  },
  {
   "cell_type": "code",
   "execution_count": 10,
   "outputs": [
    {
     "data": {
      "text/plain": "  screen_name                                               text account.type  \\\n0    human#17  justin timberlake really one of the goats if y...        human   \n1    human#11  Thank you <MENTION> for your gracious prayers ...        human   \n2     human#1  Theory : the number of red lights you will hit...        human   \n3      bot#12  Respects on the Upt of the I good with the peo...          bot   \n4    human#10  Might give the BASIC #10Liner game contest ano...        human   \n\n  class_type                                             tokens  \n0      human    [justin, timberlake, really, one, goats, think]  \n1      human  [Thank, <MENTION>, gracious, prayers, wishes, ...  \n2      human  [Theory, :, number, red, lights, hit, driving,...  \n3        rnn  [Respects, Upt, I, good, people, West, Bengal,...  \n4      human  [Might, give, BASIC, #10Liner, game, contest, ...  ",
      "text/html": "<div>\n<style scoped>\n    .dataframe tbody tr th:only-of-type {\n        vertical-align: middle;\n    }\n\n    .dataframe tbody tr th {\n        vertical-align: top;\n    }\n\n    .dataframe thead th {\n        text-align: right;\n    }\n</style>\n<table border=\"1\" class=\"dataframe\">\n  <thead>\n    <tr style=\"text-align: right;\">\n      <th></th>\n      <th>screen_name</th>\n      <th>text</th>\n      <th>account.type</th>\n      <th>class_type</th>\n      <th>tokens</th>\n    </tr>\n  </thead>\n  <tbody>\n    <tr>\n      <th>0</th>\n      <td>human#17</td>\n      <td>justin timberlake really one of the goats if y...</td>\n      <td>human</td>\n      <td>human</td>\n      <td>[justin, timberlake, really, one, goats, think]</td>\n    </tr>\n    <tr>\n      <th>1</th>\n      <td>human#11</td>\n      <td>Thank you &lt;MENTION&gt; for your gracious prayers ...</td>\n      <td>human</td>\n      <td>human</td>\n      <td>[Thank, &lt;MENTION&gt;, gracious, prayers, wishes, ...</td>\n    </tr>\n    <tr>\n      <th>2</th>\n      <td>human#1</td>\n      <td>Theory : the number of red lights you will hit...</td>\n      <td>human</td>\n      <td>human</td>\n      <td>[Theory, :, number, red, lights, hit, driving,...</td>\n    </tr>\n    <tr>\n      <th>3</th>\n      <td>bot#12</td>\n      <td>Respects on the Upt of the I good with the peo...</td>\n      <td>bot</td>\n      <td>rnn</td>\n      <td>[Respects, Upt, I, good, people, West, Bengal,...</td>\n    </tr>\n    <tr>\n      <th>4</th>\n      <td>human#10</td>\n      <td>Might give the BASIC #10Liner game contest ano...</td>\n      <td>human</td>\n      <td>human</td>\n      <td>[Might, give, BASIC, #10Liner, game, contest, ...</td>\n    </tr>\n  </tbody>\n</table>\n</div>"
     },
     "execution_count": 10,
     "metadata": {},
     "output_type": "execute_result"
    }
   ],
   "source": [
    "test = tokenize_remove_stop_words(test)\n",
    "test.head()"
   ],
   "metadata": {
    "collapsed": false,
    "ExecuteTime": {
     "end_time": "2023-11-13T21:58:31.846205700Z",
     "start_time": "2023-11-13T21:58:31.685888200Z"
    }
   },
   "id": "ad9ee8b8835802d7"
  },
  {
   "cell_type": "markdown",
   "source": [
    "## Stemming"
   ],
   "metadata": {
    "collapsed": false
   },
   "id": "dd46bb1c04873489"
  },
  {
   "cell_type": "code",
   "execution_count": 11,
   "outputs": [
    {
     "data": {
      "text/plain": "  screen_name                                               text account.type  \\\n0       bot#9                             YEA now that note GOOD          bot   \n1    human#17    Listen to This Charming Man by The Smiths <URL>        human   \n2      bot#23  wish i can i would be seeing other hoes on the...          bot   \n3       bot#1  The decade in the significantly easier schedul...          bot   \n4      bot#11  \" Theim class =\\ \" alignnone size-full wp-imag...          bot   \n\n  class_type                                             tokens  \\\n0     others                                  [yea, note, good]   \n1      human       [listen, thi, charm, man, the, smith, <url>]   \n2     others               [wish, would, see, hoe, worst, part]   \n3     others  [the, decad, significantli, easier, schedul, i...   \n4        rnn  [\", theim, class, =\\, \", alignnon, size-ful, w...   \n\n                                            new_text  \n0                                      yea note good  \n1               listen thi charm man the smith <url>  \n2                      wish would see hoe worst part  \n3  the decad significantli easier schedul i don't...  \n4  \" theim class =\\ \" alignnon size-ful wp-imag -...  ",
      "text/html": "<div>\n<style scoped>\n    .dataframe tbody tr th:only-of-type {\n        vertical-align: middle;\n    }\n\n    .dataframe tbody tr th {\n        vertical-align: top;\n    }\n\n    .dataframe thead th {\n        text-align: right;\n    }\n</style>\n<table border=\"1\" class=\"dataframe\">\n  <thead>\n    <tr style=\"text-align: right;\">\n      <th></th>\n      <th>screen_name</th>\n      <th>text</th>\n      <th>account.type</th>\n      <th>class_type</th>\n      <th>tokens</th>\n      <th>new_text</th>\n    </tr>\n  </thead>\n  <tbody>\n    <tr>\n      <th>0</th>\n      <td>bot#9</td>\n      <td>YEA now that note GOOD</td>\n      <td>bot</td>\n      <td>others</td>\n      <td>[yea, note, good]</td>\n      <td>yea note good</td>\n    </tr>\n    <tr>\n      <th>1</th>\n      <td>human#17</td>\n      <td>Listen to This Charming Man by The Smiths &lt;URL&gt;</td>\n      <td>human</td>\n      <td>human</td>\n      <td>[listen, thi, charm, man, the, smith, &lt;url&gt;]</td>\n      <td>listen thi charm man the smith &lt;url&gt;</td>\n    </tr>\n    <tr>\n      <th>2</th>\n      <td>bot#23</td>\n      <td>wish i can i would be seeing other hoes on the...</td>\n      <td>bot</td>\n      <td>others</td>\n      <td>[wish, would, see, hoe, worst, part]</td>\n      <td>wish would see hoe worst part</td>\n    </tr>\n    <tr>\n      <th>3</th>\n      <td>bot#1</td>\n      <td>The decade in the significantly easier schedul...</td>\n      <td>bot</td>\n      <td>others</td>\n      <td>[the, decad, significantli, easier, schedul, i...</td>\n      <td>the decad significantli easier schedul i don't...</td>\n    </tr>\n    <tr>\n      <th>4</th>\n      <td>bot#11</td>\n      <td>\" Theim class =\\ \" alignnone size-full wp-imag...</td>\n      <td>bot</td>\n      <td>rnn</td>\n      <td>[\", theim, class, =\\, \", alignnon, size-ful, w...</td>\n      <td>\" theim class =\\ \" alignnon size-ful wp-imag -...</td>\n    </tr>\n  </tbody>\n</table>\n</div>"
     },
     "execution_count": 11,
     "metadata": {},
     "output_type": "execute_result"
    }
   ],
   "source": [
    "PS = PorterStemmer()\n",
    "def stemming(dataset: pd.DataFrame) -> pd.DataFrame:\n",
    "    new_dataset = dataset.copy()\n",
    "    new_dataset['tokens'] = new_dataset['tokens'].apply(lambda x: [PS.stem(w) for w in x])\n",
    "    new_dataset['new_text'] = new_dataset['tokens'].apply(lambda x: ' '.join(x))\n",
    "    return new_dataset\n",
    "stemmed_train = stemming(train)\n",
    "stemmed_validation = stemming(validation)\n",
    "stemmed_test = stemming(test)\n",
    "stemmed_train.head()"
   ],
   "metadata": {
    "collapsed": false,
    "ExecuteTime": {
     "end_time": "2023-11-13T21:58:34.470001900Z",
     "start_time": "2023-11-13T21:58:31.842205400Z"
    }
   },
   "id": "2e766abccb3f0fd4"
  },
  {
   "cell_type": "markdown",
   "source": [
    "### Saving stemmed data"
   ],
   "metadata": {
    "collapsed": false
   },
   "id": "af1baa6b2cd9ce62"
  },
  {
   "cell_type": "code",
   "execution_count": 12,
   "outputs": [],
   "source": [
    "STEMMED_DATA_PATH = os.path.join('..', 'data', 'stemmed')\n",
    "if not os.path.exists(STEMMED_DATA_PATH):\n",
    "    os.mkdir(STEMMED_DATA_PATH)\n",
    "stemmed_train.to_csv(os.path.join(STEMMED_DATA_PATH, 'train.csv'), index=False)\n",
    "stemmed_validation.to_csv(os.path.join(STEMMED_DATA_PATH, 'validation.csv'), index=False)\n",
    "stemmed_test.to_csv(os.path.join(STEMMED_DATA_PATH, 'test.csv'), index=False)"
   ],
   "metadata": {
    "collapsed": false,
    "ExecuteTime": {
     "end_time": "2023-11-13T21:58:34.613003700Z",
     "start_time": "2023-11-13T21:58:34.471001500Z"
    }
   },
   "id": "d087958361c9b320"
  },
  {
   "cell_type": "markdown",
   "source": [
    "## Lemmatization"
   ],
   "metadata": {
    "collapsed": false
   },
   "id": "f9b02ac0176c27a8"
  },
  {
   "cell_type": "code",
   "execution_count": 13,
   "outputs": [],
   "source": [
    "LEMMATIZER = WordNetLemmatizer()\n",
    "def lemmatization(dataset: pd.DataFrame) -> pd.DataFrame:\n",
    "    new_dataset = dataset.copy()\n",
    "    new_dataset['tokens'] = new_dataset['tokens'].apply(lambda x: [LEMMATIZER.lemmatize(w) for w in x])\n",
    "    new_dataset['new_text'] = new_dataset['tokens'].apply(lambda x: ' '.join(x))\n",
    "    return new_dataset\n",
    "lemmatized_train = lemmatization(train)\n",
    "lemmatized_validation = lemmatization(validation)\n",
    "lemmatized_test = lemmatization(test)"
   ],
   "metadata": {
    "collapsed": false,
    "ExecuteTime": {
     "end_time": "2023-11-13T21:58:35.979550600Z",
     "start_time": "2023-11-13T21:58:34.616002100Z"
    }
   },
   "id": "4d05569848603485"
  },
  {
   "cell_type": "markdown",
   "source": [
    "### Saving lemmatized data"
   ],
   "metadata": {
    "collapsed": false
   },
   "id": "e20423530d2b1099"
  },
  {
   "cell_type": "code",
   "execution_count": 14,
   "outputs": [],
   "source": [
    "LEMMATIZED_DATA_PATH = os.path.join('..', 'data', 'lemmatized')\n",
    "if not os.path.exists(LEMMATIZED_DATA_PATH):\n",
    "    os.mkdir(LEMMATIZED_DATA_PATH)\n",
    "stemmed_train.to_csv(os.path.join(LEMMATIZED_DATA_PATH, 'train.csv'), index=False)\n",
    "stemmed_validation.to_csv(os.path.join(LEMMATIZED_DATA_PATH, 'validation.csv'), index=False)\n",
    "stemmed_test.to_csv(os.path.join(LEMMATIZED_DATA_PATH, 'test.csv'), index=False)"
   ],
   "metadata": {
    "collapsed": false,
    "ExecuteTime": {
     "end_time": "2023-11-13T21:58:36.125551100Z",
     "start_time": "2023-11-13T21:58:35.980550600Z"
    }
   },
   "id": "5e5bf2aa2fbf9d44"
  }
 ],
 "metadata": {
  "kernelspec": {
   "display_name": "Python 3",
   "language": "python",
   "name": "python3"
  },
  "language_info": {
   "codemirror_mode": {
    "name": "ipython",
    "version": 2
   },
   "file_extension": ".py",
   "mimetype": "text/x-python",
   "name": "python",
   "nbconvert_exporter": "python",
   "pygments_lexer": "ipython2",
   "version": "2.7.6"
  }
 },
 "nbformat": 4,
 "nbformat_minor": 5
}
