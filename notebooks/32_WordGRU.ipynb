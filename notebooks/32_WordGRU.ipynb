{
 "cells": [
  {
   "cell_type": "markdown",
   "source": [
    "# Imports"
   ],
   "metadata": {
    "collapsed": false
   },
   "id": "17f76a7adbb7d824"
  },
  {
   "cell_type": "code",
   "execution_count": 1,
   "outputs": [],
   "source": [
    "import os\n",
    "\n",
    "import keras\n",
    "import pandas as pd\n",
    "\n",
    "import utils.word_utils as wu\n",
    "from utils.KerasModels import calculate_metrics\n",
    "\n",
    "keras.utils.set_random_seed(812)\n",
    "MODELS_DIR = os.path.join('..', 'models', 'wordGRU')\n",
    "EPOCHS = 200\n",
    "MAX_LEN = 100\n",
    "VOCAB_SIZE = 15000"
   ],
   "metadata": {
    "collapsed": false,
    "ExecuteTime": {
     "end_time": "2023-12-16T18:06:51.798654400Z",
     "start_time": "2023-12-16T18:06:50.268324100Z"
    }
   },
   "id": "2839d182ba21c5b8"
  },
  {
   "cell_type": "markdown",
   "source": [
    "# Simple data"
   ],
   "metadata": {
    "collapsed": false
   },
   "id": "34dbe5b05c7d427c"
  },
  {
   "cell_type": "code",
   "execution_count": 2,
   "outputs": [
    {
     "name": "stdout",
     "output_type": "stream",
     "text": [
      "Model: \"model\"\n",
      "_________________________________________________________________\n",
      " Layer (type)                Output Shape              Param #   \n",
      "=================================================================\n",
      " input_1 (InputLayer)        [(None, 1)]               0         \n",
      "                                                                 \n",
      " text_vectorization (TextVec  (None, 100)              0         \n",
      " torization)                                                     \n",
      "                                                                 \n",
      " embedding (Embedding)       (None, 100, 128)          1920000   \n",
      "                                                                 \n",
      " bidirectional (Bidirectiona  (None, 1024)             1972224   \n",
      " l)                                                              \n",
      "                                                                 \n",
      " dropout (Dropout)           (None, 1024)              0         \n",
      "                                                                 \n",
      " dense (Dense)               (None, 1)                 1025      \n",
      "                                                                 \n",
      "=================================================================\n",
      "Total params: 3,893,249\n",
      "Trainable params: 3,893,249\n",
      "Non-trainable params: 0\n",
      "_________________________________________________________________\n"
     ]
    }
   ],
   "source": [
    "data_path = os.path.join('..', 'data', 'preprocessed_url_simple')\n",
    "\n",
    "x_train, y_train, x_valid, y_valid, x_test, y_test = wu.prepare_data(\n",
    "    data_path)\n",
    "os.makedirs(MODELS_DIR, exist_ok=True)\n",
    "text_vectorizer = wu.prepare_text_vectorizer(x_train, max_len=MAX_LEN, vocab_size=VOCAB_SIZE)\n",
    "model = wu.get_wordgru(text_vectorizer)\n",
    "model.summary()"
   ],
   "metadata": {
    "collapsed": false,
    "ExecuteTime": {
     "end_time": "2023-12-16T18:06:54.681994Z",
     "start_time": "2023-12-16T18:06:51.800653900Z"
    }
   },
   "id": "9ac437cbcca442cf"
  },
  {
   "cell_type": "code",
   "execution_count": 3,
   "outputs": [
    {
     "name": "stdout",
     "output_type": "stream",
     "text": [
      "Epoch 1/200\n",
      "81/81 [==============================] - ETA: 0s - loss: 0.6874 - accuracy: 0.6387"
     ]
    },
    {
     "name": "stderr",
     "output_type": "stream",
     "text": [
      "WARNING:absl:Found untraced functions such as gru_cell_1_layer_call_fn, gru_cell_1_layer_call_and_return_conditional_losses, gru_cell_2_layer_call_fn, gru_cell_2_layer_call_and_return_conditional_losses while saving (showing 4 of 4). These functions will not be directly callable after loading.\n"
     ]
    },
    {
     "name": "stdout",
     "output_type": "stream",
     "text": [
      "INFO:tensorflow:Assets written to: ..\\models\\wordGRU\\simple\\assets\n"
     ]
    },
    {
     "name": "stderr",
     "output_type": "stream",
     "text": [
      "INFO:tensorflow:Assets written to: ..\\models\\wordGRU\\simple\\assets\n"
     ]
    },
    {
     "name": "stdout",
     "output_type": "stream",
     "text": [
      "81/81 [==============================] - 14s 140ms/step - loss: 0.6874 - accuracy: 0.6387 - val_loss: 0.5972 - val_accuracy: 0.6764\n",
      "Epoch 2/200\n",
      "81/81 [==============================] - ETA: 0s - loss: 0.5484 - accuracy: 0.7287"
     ]
    },
    {
     "name": "stderr",
     "output_type": "stream",
     "text": [
      "WARNING:absl:Found untraced functions such as gru_cell_1_layer_call_fn, gru_cell_1_layer_call_and_return_conditional_losses, gru_cell_2_layer_call_fn, gru_cell_2_layer_call_and_return_conditional_losses while saving (showing 4 of 4). These functions will not be directly callable after loading.\n"
     ]
    },
    {
     "name": "stdout",
     "output_type": "stream",
     "text": [
      "INFO:tensorflow:Assets written to: ..\\models\\wordGRU\\simple\\assets\n"
     ]
    },
    {
     "name": "stderr",
     "output_type": "stream",
     "text": [
      "INFO:tensorflow:Assets written to: ..\\models\\wordGRU\\simple\\assets\n"
     ]
    },
    {
     "name": "stdout",
     "output_type": "stream",
     "text": [
      "81/81 [==============================] - 12s 150ms/step - loss: 0.5484 - accuracy: 0.7287 - val_loss: 0.5461 - val_accuracy: 0.6994\n",
      "Epoch 3/200\n",
      "81/81 [==============================] - ETA: 0s - loss: 0.4329 - accuracy: 0.7983"
     ]
    },
    {
     "name": "stderr",
     "output_type": "stream",
     "text": [
      "WARNING:absl:Found untraced functions such as gru_cell_1_layer_call_fn, gru_cell_1_layer_call_and_return_conditional_losses, gru_cell_2_layer_call_fn, gru_cell_2_layer_call_and_return_conditional_losses while saving (showing 4 of 4). These functions will not be directly callable after loading.\n"
     ]
    },
    {
     "name": "stdout",
     "output_type": "stream",
     "text": [
      "INFO:tensorflow:Assets written to: ..\\models\\wordGRU\\simple\\assets\n"
     ]
    },
    {
     "name": "stderr",
     "output_type": "stream",
     "text": [
      "INFO:tensorflow:Assets written to: ..\\models\\wordGRU\\simple\\assets\n"
     ]
    },
    {
     "name": "stdout",
     "output_type": "stream",
     "text": [
      "81/81 [==============================] - 11s 142ms/step - loss: 0.4329 - accuracy: 0.7983 - val_loss: 0.4378 - val_accuracy: 0.8015\n",
      "Epoch 4/200\n",
      "81/81 [==============================] - ETA: 0s - loss: 0.2615 - accuracy: 0.8913"
     ]
    },
    {
     "name": "stderr",
     "output_type": "stream",
     "text": [
      "WARNING:absl:Found untraced functions such as gru_cell_1_layer_call_fn, gru_cell_1_layer_call_and_return_conditional_losses, gru_cell_2_layer_call_fn, gru_cell_2_layer_call_and_return_conditional_losses while saving (showing 4 of 4). These functions will not be directly callable after loading.\n"
     ]
    },
    {
     "name": "stdout",
     "output_type": "stream",
     "text": [
      "INFO:tensorflow:Assets written to: ..\\models\\wordGRU\\simple\\assets\n"
     ]
    },
    {
     "name": "stderr",
     "output_type": "stream",
     "text": [
      "INFO:tensorflow:Assets written to: ..\\models\\wordGRU\\simple\\assets\n"
     ]
    },
    {
     "name": "stdout",
     "output_type": "stream",
     "text": [
      "81/81 [==============================] - 9s 103ms/step - loss: 0.2615 - accuracy: 0.8913 - val_loss: 0.4149 - val_accuracy: 0.8045\n",
      "Epoch 5/200\n",
      "81/81 [==============================] - 3s 36ms/step - loss: 0.1819 - accuracy: 0.9300 - val_loss: 0.4987 - val_accuracy: 0.8084\n",
      "Epoch 6/200\n",
      "81/81 [==============================] - 3s 33ms/step - loss: 0.1339 - accuracy: 0.9502 - val_loss: 0.5690 - val_accuracy: 0.8167\n",
      "Epoch 7/200\n",
      "81/81 [==============================] - 3s 33ms/step - loss: 0.0971 - accuracy: 0.9663 - val_loss: 0.6536 - val_accuracy: 0.7954\n",
      "Epoch 8/200\n",
      "81/81 [==============================] - 3s 36ms/step - loss: 0.0844 - accuracy: 0.9707 - val_loss: 0.7815 - val_accuracy: 0.7967\n",
      "Epoch 9/200\n",
      "81/81 [==============================] - 3s 34ms/step - loss: 0.0618 - accuracy: 0.9806 - val_loss: 0.8286 - val_accuracy: 0.7850\n",
      "Epoch 10/200\n",
      "81/81 [==============================] - 3s 34ms/step - loss: 0.0472 - accuracy: 0.9860 - val_loss: 0.9794 - val_accuracy: 0.7858\n",
      "Epoch 11/200\n",
      "81/81 [==============================] - 3s 35ms/step - loss: 0.0441 - accuracy: 0.9871 - val_loss: 0.9730 - val_accuracy: 0.7919\n",
      "Epoch 12/200\n",
      "81/81 [==============================] - 3s 35ms/step - loss: 0.0358 - accuracy: 0.9893 - val_loss: 1.0956 - val_accuracy: 0.7858\n",
      "Epoch 13/200\n",
      "81/81 [==============================] - 3s 33ms/step - loss: 0.0274 - accuracy: 0.9921 - val_loss: 1.0938 - val_accuracy: 0.7741\n",
      "Epoch 14/200\n",
      "81/81 [==============================] - 3s 34ms/step - loss: 0.0229 - accuracy: 0.9942 - val_loss: 1.2365 - val_accuracy: 0.7793\n"
     ]
    },
    {
     "data": {
      "text/plain": "<keras.callbacks.History at 0x1cb36ecb4c0>"
     },
     "execution_count": 3,
     "metadata": {},
     "output_type": "execute_result"
    }
   ],
   "source": [
    "# Train GRU model.\n",
    "early_stopping = keras.callbacks.EarlyStopping(monitor='val_loss', patience=10, restore_best_weights=True)\n",
    "save_best = keras.callbacks.ModelCheckpoint(os.path.join(MODELS_DIR, \"simple\"), monitor='val_loss',\n",
    "                                            save_best_only=True, restore_best_weights=True)\n",
    "model.fit(x_train, y_train, batch_size=256, epochs=EPOCHS,\n",
    "          validation_data=(x_valid, y_valid),\n",
    "          callbacks=[early_stopping, save_best])"
   ],
   "metadata": {
    "collapsed": false,
    "ExecuteTime": {
     "end_time": "2023-12-16T18:08:08.797771200Z",
     "start_time": "2023-12-16T18:06:54.679992800Z"
    }
   },
   "id": "a0aea73ca5dbabaf"
  },
  {
   "cell_type": "code",
   "execution_count": 4,
   "outputs": [
    {
     "name": "stdout",
     "output_type": "stream",
     "text": [
      "80/80 [==============================] - 1s 7ms/step\n"
     ]
    },
    {
     "data": {
      "text/plain": "{'balanced_accuracy': 0.8045456768388106,\n 'f1_score': 0.8019017432646594,\n 'precision': 0.8135048231511254,\n 'recall': 0.790625}"
     },
     "execution_count": 4,
     "metadata": {},
     "output_type": "execute_result"
    }
   ],
   "source": [
    "probas = model.predict(x_test)\n",
    "y_pred = (probas > 0.5).astype('int32')\n",
    "results = calculate_metrics(y_test, y_pred)\n",
    "results"
   ],
   "metadata": {
    "collapsed": false,
    "ExecuteTime": {
     "end_time": "2023-12-16T18:08:09.745771Z",
     "start_time": "2023-12-16T18:08:08.796770900Z"
    }
   },
   "id": "5e50ea90326c9cfb"
  },
  {
   "cell_type": "markdown",
   "source": [
    "# Lemmatized data"
   ],
   "metadata": {
    "collapsed": false
   },
   "id": "25799b66a40c6057"
  },
  {
   "cell_type": "code",
   "execution_count": 5,
   "outputs": [
    {
     "name": "stdout",
     "output_type": "stream",
     "text": [
      "Model: \"model_1\"\n",
      "_________________________________________________________________\n",
      " Layer (type)                Output Shape              Param #   \n",
      "=================================================================\n",
      " input_2 (InputLayer)        [(None, 1)]               0         \n",
      "                                                                 \n",
      " text_vectorization_1 (TextV  (None, 100)              0         \n",
      " ectorization)                                                   \n",
      "                                                                 \n",
      " embedding_1 (Embedding)     (None, 100, 128)          1920000   \n",
      "                                                                 \n",
      " bidirectional_1 (Bidirectio  (None, 1024)             1972224   \n",
      " nal)                                                            \n",
      "                                                                 \n",
      " dropout_1 (Dropout)         (None, 1024)              0         \n",
      "                                                                 \n",
      " dense_1 (Dense)             (None, 1)                 1025      \n",
      "                                                                 \n",
      "=================================================================\n",
      "Total params: 3,893,249\n",
      "Trainable params: 3,893,249\n",
      "Non-trainable params: 0\n",
      "_________________________________________________________________\n"
     ]
    }
   ],
   "source": [
    "data_path = os.path.join('..', 'data', 'lemmatized')\n",
    "\n",
    "x_train, y_train, x_valid, y_valid, x_test, y_test = wu.prepare_data(\n",
    "    data_path)\n",
    "os.makedirs(MODELS_DIR, exist_ok=True)\n",
    "text_vectorizer = wu.prepare_text_vectorizer(x_train, max_len=MAX_LEN, vocab_size=VOCAB_SIZE)\n",
    "model = wu.get_wordgru(text_vectorizer)\n",
    "model.summary()"
   ],
   "metadata": {
    "collapsed": false,
    "ExecuteTime": {
     "end_time": "2023-12-16T18:08:10.853771500Z",
     "start_time": "2023-12-16T18:08:09.742772500Z"
    }
   },
   "id": "61b178781962d044"
  },
  {
   "cell_type": "code",
   "execution_count": 6,
   "outputs": [
    {
     "name": "stdout",
     "output_type": "stream",
     "text": [
      "Epoch 1/200\n",
      "81/81 [==============================] - ETA: 0s - loss: 0.7071 - accuracy: 0.6653"
     ]
    },
    {
     "name": "stderr",
     "output_type": "stream",
     "text": [
      "WARNING:absl:Found untraced functions such as gru_cell_4_layer_call_fn, gru_cell_4_layer_call_and_return_conditional_losses, gru_cell_5_layer_call_fn, gru_cell_5_layer_call_and_return_conditional_losses while saving (showing 4 of 4). These functions will not be directly callable after loading.\n"
     ]
    },
    {
     "name": "stdout",
     "output_type": "stream",
     "text": [
      "INFO:tensorflow:Assets written to: ..\\models\\wordGRU\\lemmatized\\assets\n"
     ]
    },
    {
     "name": "stderr",
     "output_type": "stream",
     "text": [
      "INFO:tensorflow:Assets written to: ..\\models\\wordGRU\\lemmatized\\assets\n"
     ]
    },
    {
     "name": "stdout",
     "output_type": "stream",
     "text": [
      "81/81 [==============================] - 9s 97ms/step - loss: 0.7071 - accuracy: 0.6653 - val_loss: 0.4981 - val_accuracy: 0.7389\n",
      "Epoch 2/200\n",
      "81/81 [==============================] - ETA: 0s - loss: 0.3590 - accuracy: 0.8454"
     ]
    },
    {
     "name": "stderr",
     "output_type": "stream",
     "text": [
      "WARNING:absl:Found untraced functions such as gru_cell_4_layer_call_fn, gru_cell_4_layer_call_and_return_conditional_losses, gru_cell_5_layer_call_fn, gru_cell_5_layer_call_and_return_conditional_losses while saving (showing 4 of 4). These functions will not be directly callable after loading.\n"
     ]
    },
    {
     "name": "stdout",
     "output_type": "stream",
     "text": [
      "INFO:tensorflow:Assets written to: ..\\models\\wordGRU\\lemmatized\\assets\n"
     ]
    },
    {
     "name": "stderr",
     "output_type": "stream",
     "text": [
      "INFO:tensorflow:Assets written to: ..\\models\\wordGRU\\lemmatized\\assets\n"
     ]
    },
    {
     "name": "stdout",
     "output_type": "stream",
     "text": [
      "81/81 [==============================] - 8s 94ms/step - loss: 0.3590 - accuracy: 0.8454 - val_loss: 0.4067 - val_accuracy: 0.8254\n",
      "Epoch 3/200\n",
      "81/81 [==============================] - 3s 35ms/step - loss: 0.2524 - accuracy: 0.8962 - val_loss: 0.4545 - val_accuracy: 0.8010\n",
      "Epoch 4/200\n",
      "81/81 [==============================] - 3s 36ms/step - loss: 0.1974 - accuracy: 0.9220 - val_loss: 0.5087 - val_accuracy: 0.8141\n",
      "Epoch 5/200\n",
      "81/81 [==============================] - 3s 34ms/step - loss: 0.1547 - accuracy: 0.9389 - val_loss: 0.5453 - val_accuracy: 0.7950\n",
      "Epoch 6/200\n",
      "81/81 [==============================] - 3s 36ms/step - loss: 0.1239 - accuracy: 0.9534 - val_loss: 0.6293 - val_accuracy: 0.7989\n",
      "Epoch 7/200\n",
      "81/81 [==============================] - 3s 36ms/step - loss: 0.1027 - accuracy: 0.9624 - val_loss: 0.6525 - val_accuracy: 0.7928\n",
      "Epoch 8/200\n",
      "81/81 [==============================] - 3s 34ms/step - loss: 0.0862 - accuracy: 0.9676 - val_loss: 0.7608 - val_accuracy: 0.7980\n",
      "Epoch 9/200\n",
      "81/81 [==============================] - 3s 34ms/step - loss: 0.0699 - accuracy: 0.9747 - val_loss: 0.9104 - val_accuracy: 0.7897\n",
      "Epoch 10/200\n",
      "81/81 [==============================] - 3s 35ms/step - loss: 0.0639 - accuracy: 0.9771 - val_loss: 0.9787 - val_accuracy: 0.7832\n",
      "Epoch 11/200\n",
      "81/81 [==============================] - 3s 34ms/step - loss: 0.0564 - accuracy: 0.9823 - val_loss: 1.0016 - val_accuracy: 0.7858\n",
      "Epoch 12/200\n",
      "81/81 [==============================] - 3s 33ms/step - loss: 0.0370 - accuracy: 0.9885 - val_loss: 1.0840 - val_accuracy: 0.7802\n"
     ]
    },
    {
     "data": {
      "text/plain": "<keras.callbacks.History at 0x1cb43b87a00>"
     },
     "execution_count": 6,
     "metadata": {},
     "output_type": "execute_result"
    }
   ],
   "source": [
    "# Train GRU model.\n",
    "early_stopping = keras.callbacks.EarlyStopping(monitor='val_loss', patience=10, restore_best_weights=True)\n",
    "save_best = keras.callbacks.ModelCheckpoint(os.path.join(MODELS_DIR, \"lemmatized\"), monitor='val_loss',\n",
    "                                            save_best_only=True, restore_best_weights=True)\n",
    "model.fit(x_train, y_train, batch_size=256, epochs=EPOCHS,\n",
    "          validation_data=(x_valid, y_valid),\n",
    "          callbacks=[early_stopping, save_best])"
   ],
   "metadata": {
    "collapsed": false,
    "ExecuteTime": {
     "end_time": "2023-12-16T18:08:56.570577800Z",
     "start_time": "2023-12-16T18:08:10.852772200Z"
    }
   },
   "id": "401025f2c35a8d2"
  },
  {
   "cell_type": "code",
   "execution_count": 7,
   "outputs": [
    {
     "name": "stdout",
     "output_type": "stream",
     "text": [
      "80/80 [==============================] - 1s 6ms/step\n"
     ]
    },
    {
     "data": {
      "text/plain": "{'balanced_accuracy': 0.8287320275821597,\n 'f1_score': 0.837295690936107,\n 'precision': 0.7981586402266289,\n 'recall': 0.88046875}"
     },
     "execution_count": 7,
     "metadata": {},
     "output_type": "execute_result"
    }
   ],
   "source": [
    "probas = model.predict(x_test)\n",
    "y_pred = (probas > 0.5).astype('int32')\n",
    "results_lem = calculate_metrics(y_test, y_pred)\n",
    "results_lem"
   ],
   "metadata": {
    "collapsed": false,
    "ExecuteTime": {
     "end_time": "2023-12-16T18:08:57.393595100Z",
     "start_time": "2023-12-16T18:08:56.570577800Z"
    }
   },
   "id": "fdba56943a6bad4e"
  },
  {
   "cell_type": "markdown",
   "source": [
    "# Stemmed data"
   ],
   "metadata": {
    "collapsed": false
   },
   "id": "20cc1688667ee59"
  },
  {
   "cell_type": "code",
   "execution_count": 8,
   "outputs": [
    {
     "name": "stdout",
     "output_type": "stream",
     "text": [
      "Model: \"model_2\"\n",
      "_________________________________________________________________\n",
      " Layer (type)                Output Shape              Param #   \n",
      "=================================================================\n",
      " input_3 (InputLayer)        [(None, 1)]               0         \n",
      "                                                                 \n",
      " text_vectorization_2 (TextV  (None, 100)              0         \n",
      " ectorization)                                                   \n",
      "                                                                 \n",
      " embedding_2 (Embedding)     (None, 100, 128)          1920000   \n",
      "                                                                 \n",
      " bidirectional_2 (Bidirectio  (None, 1024)             1972224   \n",
      " nal)                                                            \n",
      "                                                                 \n",
      " dropout_2 (Dropout)         (None, 1024)              0         \n",
      "                                                                 \n",
      " dense_2 (Dense)             (None, 1)                 1025      \n",
      "                                                                 \n",
      "=================================================================\n",
      "Total params: 3,893,249\n",
      "Trainable params: 3,893,249\n",
      "Non-trainable params: 0\n",
      "_________________________________________________________________\n"
     ]
    }
   ],
   "source": [
    "data_path = os.path.join('..', 'data', 'stemmed')\n",
    "\n",
    "x_train, y_train, x_valid, y_valid, x_test, y_test = wu.prepare_data(\n",
    "    data_path)\n",
    "os.makedirs(MODELS_DIR, exist_ok=True)\n",
    "text_vectorizer = wu.prepare_text_vectorizer(x_train, max_len=MAX_LEN, vocab_size=VOCAB_SIZE)\n",
    "model = wu.get_wordgru(text_vectorizer)\n",
    "model.summary()"
   ],
   "metadata": {
    "collapsed": false,
    "ExecuteTime": {
     "end_time": "2023-12-16T18:08:58.502593800Z",
     "start_time": "2023-12-16T18:08:57.395594400Z"
    }
   },
   "id": "b40b7f5ac6b6ffb9"
  },
  {
   "cell_type": "code",
   "execution_count": 9,
   "outputs": [
    {
     "name": "stdout",
     "output_type": "stream",
     "text": [
      "Epoch 1/200\n",
      "80/81 [============================>.] - ETA: 0s - loss: 0.7126 - accuracy: 0.6432"
     ]
    },
    {
     "name": "stderr",
     "output_type": "stream",
     "text": [
      "WARNING:absl:Found untraced functions such as gru_cell_7_layer_call_fn, gru_cell_7_layer_call_and_return_conditional_losses, gru_cell_8_layer_call_fn, gru_cell_8_layer_call_and_return_conditional_losses while saving (showing 4 of 4). These functions will not be directly callable after loading.\n"
     ]
    },
    {
     "name": "stdout",
     "output_type": "stream",
     "text": [
      "INFO:tensorflow:Assets written to: ..\\models\\wordGRU\\stemmed\\assets\n"
     ]
    },
    {
     "name": "stderr",
     "output_type": "stream",
     "text": [
      "INFO:tensorflow:Assets written to: ..\\models\\wordGRU\\stemmed\\assets\n"
     ]
    },
    {
     "name": "stdout",
     "output_type": "stream",
     "text": [
      "81/81 [==============================] - 9s 99ms/step - loss: 0.7115 - accuracy: 0.6437 - val_loss: 0.5734 - val_accuracy: 0.6885\n",
      "Epoch 2/200\n",
      "81/81 [==============================] - ETA: 0s - loss: 0.4494 - accuracy: 0.7916"
     ]
    },
    {
     "name": "stderr",
     "output_type": "stream",
     "text": [
      "WARNING:absl:Found untraced functions such as gru_cell_7_layer_call_fn, gru_cell_7_layer_call_and_return_conditional_losses, gru_cell_8_layer_call_fn, gru_cell_8_layer_call_and_return_conditional_losses while saving (showing 4 of 4). These functions will not be directly callable after loading.\n"
     ]
    },
    {
     "name": "stdout",
     "output_type": "stream",
     "text": [
      "INFO:tensorflow:Assets written to: ..\\models\\wordGRU\\stemmed\\assets\n"
     ]
    },
    {
     "name": "stderr",
     "output_type": "stream",
     "text": [
      "INFO:tensorflow:Assets written to: ..\\models\\wordGRU\\stemmed\\assets\n"
     ]
    },
    {
     "name": "stdout",
     "output_type": "stream",
     "text": [
      "81/81 [==============================] - 7s 90ms/step - loss: 0.4494 - accuracy: 0.7916 - val_loss: 0.4132 - val_accuracy: 0.8184\n",
      "Epoch 3/200\n",
      "81/81 [==============================] - 3s 35ms/step - loss: 0.2816 - accuracy: 0.8806 - val_loss: 0.4139 - val_accuracy: 0.8197\n",
      "Epoch 4/200\n",
      "81/81 [==============================] - 3s 35ms/step - loss: 0.2099 - accuracy: 0.9165 - val_loss: 0.4628 - val_accuracy: 0.8180\n",
      "Epoch 5/200\n",
      "81/81 [==============================] - 3s 34ms/step - loss: 0.1629 - accuracy: 0.9373 - val_loss: 0.5140 - val_accuracy: 0.8015\n",
      "Epoch 6/200\n",
      "81/81 [==============================] - 3s 33ms/step - loss: 0.1290 - accuracy: 0.9535 - val_loss: 0.6325 - val_accuracy: 0.8076\n",
      "Epoch 7/200\n",
      "81/81 [==============================] - 3s 34ms/step - loss: 0.1097 - accuracy: 0.9596 - val_loss: 0.6475 - val_accuracy: 0.7997\n",
      "Epoch 8/200\n",
      "81/81 [==============================] - 3s 35ms/step - loss: 0.0880 - accuracy: 0.9691 - val_loss: 0.7356 - val_accuracy: 0.7963\n",
      "Epoch 9/200\n",
      "81/81 [==============================] - 3s 33ms/step - loss: 0.0677 - accuracy: 0.9761 - val_loss: 0.8335 - val_accuracy: 0.7876\n",
      "Epoch 10/200\n",
      "81/81 [==============================] - 3s 33ms/step - loss: 0.0562 - accuracy: 0.9806 - val_loss: 0.9853 - val_accuracy: 0.7919\n",
      "Epoch 11/200\n",
      "81/81 [==============================] - 3s 35ms/step - loss: 0.0439 - accuracy: 0.9860 - val_loss: 1.0119 - val_accuracy: 0.7911\n",
      "Epoch 12/200\n",
      "81/81 [==============================] - 3s 36ms/step - loss: 0.0417 - accuracy: 0.9862 - val_loss: 1.0441 - val_accuracy: 0.7932\n"
     ]
    },
    {
     "data": {
      "text/plain": "<keras.callbacks.History at 0x1cb41f189a0>"
     },
     "execution_count": 9,
     "metadata": {},
     "output_type": "execute_result"
    }
   ],
   "source": [
    "# Train GRU model.\n",
    "early_stopping = keras.callbacks.EarlyStopping(monitor='val_loss', patience=10, restore_best_weights=True)\n",
    "save_best = keras.callbacks.ModelCheckpoint(os.path.join(MODELS_DIR, \"stemmed\"), monitor='val_loss',\n",
    "                                            save_best_only=True, restore_best_weights=True)\n",
    "model.fit(x_train, y_train, batch_size=256, epochs=EPOCHS,\n",
    "          validation_data=(x_valid, y_valid),\n",
    "          callbacks=[early_stopping, save_best])"
   ],
   "metadata": {
    "collapsed": false,
    "ExecuteTime": {
     "end_time": "2023-12-16T18:09:43.460869100Z",
     "start_time": "2023-12-16T18:08:58.507594800Z"
    }
   },
   "id": "4a31c62aff78b354"
  },
  {
   "cell_type": "code",
   "execution_count": 10,
   "outputs": [
    {
     "name": "stdout",
     "output_type": "stream",
     "text": [
      "80/80 [==============================] - 1s 6ms/step\n"
     ]
    },
    {
     "data": {
      "text/plain": "{'balanced_accuracy': 0.8244363751956182,\n 'f1_score': 0.8322749346283153,\n 'precision': 0.7974230493915533,\n 'recall': 0.8703125}"
     },
     "execution_count": 10,
     "metadata": {},
     "output_type": "execute_result"
    }
   ],
   "source": [
    "probas = model.predict(x_test)\n",
    "y_pred = (probas > 0.5).astype('int32')\n",
    "results_stem = calculate_metrics(y_test, y_pred)\n",
    "results_stem"
   ],
   "metadata": {
    "collapsed": false,
    "ExecuteTime": {
     "end_time": "2023-12-16T18:09:44.650868100Z",
     "start_time": "2023-12-16T18:09:43.462868700Z"
    }
   },
   "id": "885d99c34575ea8"
  },
  {
   "cell_type": "markdown",
   "source": [
    "# Results"
   ],
   "metadata": {
    "collapsed": false
   },
   "id": "e377f6fbb181d35c"
  },
  {
   "cell_type": "code",
   "execution_count": 11,
   "outputs": [
    {
     "data": {
      "text/plain": "   balanced_accuracy  f1_score  precision    recall    model     dataset\n0           0.804546  0.801902   0.813505  0.790625  WordGRU      simple\n1           0.828732  0.837296   0.798159  0.880469  WordGRU  lemmatized\n2           0.824436  0.832275   0.797423  0.870313  WordGRU     stemmed",
      "text/html": "<div>\n<style scoped>\n    .dataframe tbody tr th:only-of-type {\n        vertical-align: middle;\n    }\n\n    .dataframe tbody tr th {\n        vertical-align: top;\n    }\n\n    .dataframe thead th {\n        text-align: right;\n    }\n</style>\n<table border=\"1\" class=\"dataframe\">\n  <thead>\n    <tr style=\"text-align: right;\">\n      <th></th>\n      <th>balanced_accuracy</th>\n      <th>f1_score</th>\n      <th>precision</th>\n      <th>recall</th>\n      <th>model</th>\n      <th>dataset</th>\n    </tr>\n  </thead>\n  <tbody>\n    <tr>\n      <th>0</th>\n      <td>0.804546</td>\n      <td>0.801902</td>\n      <td>0.813505</td>\n      <td>0.790625</td>\n      <td>WordGRU</td>\n      <td>simple</td>\n    </tr>\n    <tr>\n      <th>1</th>\n      <td>0.828732</td>\n      <td>0.837296</td>\n      <td>0.798159</td>\n      <td>0.880469</td>\n      <td>WordGRU</td>\n      <td>lemmatized</td>\n    </tr>\n    <tr>\n      <th>2</th>\n      <td>0.824436</td>\n      <td>0.832275</td>\n      <td>0.797423</td>\n      <td>0.870313</td>\n      <td>WordGRU</td>\n      <td>stemmed</td>\n    </tr>\n  </tbody>\n</table>\n</div>"
     },
     "execution_count": 11,
     "metadata": {},
     "output_type": "execute_result"
    }
   ],
   "source": [
    "# Create csv with all results\n",
    "\n",
    "results_all = pd.DataFrame([results, results_lem, results_stem])\n",
    "results_all['model'] = 'WordGRU'\n",
    "results_all['dataset'] = ['simple', 'lemmatized', 'stemmed']\n",
    "\n",
    "if not os.path.exists('results'):\n",
    "    os.makedirs('results')\n",
    "results_all.to_csv('results/word_gru.csv', index=False)\n",
    "results_all"
   ],
   "metadata": {
    "collapsed": false,
    "ExecuteTime": {
     "end_time": "2023-12-16T18:09:44.662868400Z",
     "start_time": "2023-12-16T18:09:44.648869600Z"
    }
   },
   "id": "6999f8fbd4e3917d"
  }
 ],
 "metadata": {
  "kernelspec": {
   "display_name": "Python 3",
   "language": "python",
   "name": "python3"
  },
  "language_info": {
   "codemirror_mode": {
    "name": "ipython",
    "version": 2
   },
   "file_extension": ".py",
   "mimetype": "text/x-python",
   "name": "python",
   "nbconvert_exporter": "python",
   "pygments_lexer": "ipython2",
   "version": "2.7.6"
  }
 },
 "nbformat": 4,
 "nbformat_minor": 5
}
