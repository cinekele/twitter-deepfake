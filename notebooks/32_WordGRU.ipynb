{
 "cells": [
  {
   "cell_type": "markdown",
   "source": [
    "# Imports"
   ],
   "metadata": {
    "collapsed": false
   },
   "id": "17f76a7adbb7d824"
  },
  {
   "cell_type": "code",
   "execution_count": 1,
   "outputs": [],
   "source": [
    "import os\n",
    "\n",
    "import keras\n",
    "import pandas as pd\n",
    "\n",
    "import utils.word_utils as wu\n",
    "from utils.KerasModels import calculate_metrics\n",
    "\n",
    "keras.utils.set_random_seed(812)\n",
    "MODELS_DIR = os.path.join('..', 'models', 'wordGRU')\n",
    "EPOCHS = 200\n",
    "MAX_LEN = 100\n",
    "VOCAB_SIZE = 15000"
   ],
   "metadata": {
    "collapsed": false,
    "ExecuteTime": {
     "end_time": "2023-12-04T20:48:18.362612Z",
     "start_time": "2023-12-04T20:48:16.338275Z"
    }
   },
   "id": "2839d182ba21c5b8"
  },
  {
   "cell_type": "markdown",
   "source": [
    "# Simple data"
   ],
   "metadata": {
    "collapsed": false
   },
   "id": "34dbe5b05c7d427c"
  },
  {
   "cell_type": "code",
   "execution_count": 2,
   "outputs": [
    {
     "name": "stdout",
     "output_type": "stream",
     "text": [
      "Model: \"model\"\n",
      "_________________________________________________________________\n",
      " Layer (type)                Output Shape              Param #   \n",
      "=================================================================\n",
      " input_1 (InputLayer)        [(None, 1)]               0         \n",
      "                                                                 \n",
      " text_vectorization (TextVec  (None, 100)              0         \n",
      " torization)                                                     \n",
      "                                                                 \n",
      " embedding (Embedding)       (None, 100, 128)          1920000   \n",
      "                                                                 \n",
      " bidirectional (Bidirectiona  (None, 1024)             1972224   \n",
      " l)                                                              \n",
      "                                                                 \n",
      " dropout (Dropout)           (None, 1024)              0         \n",
      "                                                                 \n",
      " dense (Dense)               (None, 1)                 1025      \n",
      "                                                                 \n",
      "=================================================================\n",
      "Total params: 3,893,249\n",
      "Trainable params: 3,893,249\n",
      "Non-trainable params: 0\n",
      "_________________________________________________________________\n"
     ]
    }
   ],
   "source": [
    "data_path = os.path.join('..', 'data', 'preprocessed_url_simple')\n",
    "\n",
    "x_train, y_train, x_valid, y_valid, x_test, y_test = wu.prepare_data(\n",
    "    data_path)\n",
    "os.makedirs(MODELS_DIR, exist_ok=True)\n",
    "text_vectorizer = wu.prepare_text_vectorizer(x_train, max_len=MAX_LEN, vocab_size=VOCAB_SIZE)\n",
    "model = wu.get_wordgru(text_vectorizer)\n",
    "model.summary()"
   ],
   "metadata": {
    "collapsed": false,
    "ExecuteTime": {
     "end_time": "2023-12-04T20:48:19.975174500Z",
     "start_time": "2023-12-04T20:48:18.365612200Z"
    }
   },
   "id": "9ac437cbcca442cf"
  },
  {
   "cell_type": "code",
   "execution_count": 3,
   "outputs": [
    {
     "name": "stdout",
     "output_type": "stream",
     "text": [
      "Epoch 1/200\n",
      "81/81 [==============================] - ETA: 0s - loss: 0.6874 - accuracy: 0.6387"
     ]
    },
    {
     "name": "stderr",
     "output_type": "stream",
     "text": [
      "WARNING:absl:Found untraced functions such as gru_cell_1_layer_call_fn, gru_cell_1_layer_call_and_return_conditional_losses, gru_cell_2_layer_call_fn, gru_cell_2_layer_call_and_return_conditional_losses while saving (showing 4 of 4). These functions will not be directly callable after loading.\n"
     ]
    },
    {
     "name": "stdout",
     "output_type": "stream",
     "text": [
      "INFO:tensorflow:Assets written to: ..\\models\\wordGRU\\simple\\assets\n"
     ]
    },
    {
     "name": "stderr",
     "output_type": "stream",
     "text": [
      "INFO:tensorflow:Assets written to: ..\\models\\wordGRU\\simple\\assets\n"
     ]
    },
    {
     "name": "stdout",
     "output_type": "stream",
     "text": [
      "81/81 [==============================] - 10s 96ms/step - loss: 0.6874 - accuracy: 0.6387 - val_loss: 0.5972 - val_accuracy: 0.6764\n",
      "Epoch 2/200\n",
      "80/81 [============================>.] - ETA: 0s - loss: 0.5486 - accuracy: 0.7287"
     ]
    },
    {
     "name": "stderr",
     "output_type": "stream",
     "text": [
      "WARNING:absl:Found untraced functions such as gru_cell_1_layer_call_fn, gru_cell_1_layer_call_and_return_conditional_losses, gru_cell_2_layer_call_fn, gru_cell_2_layer_call_and_return_conditional_losses while saving (showing 4 of 4). These functions will not be directly callable after loading.\n"
     ]
    },
    {
     "name": "stdout",
     "output_type": "stream",
     "text": [
      "INFO:tensorflow:Assets written to: ..\\models\\wordGRU\\simple\\assets\n"
     ]
    },
    {
     "name": "stderr",
     "output_type": "stream",
     "text": [
      "INFO:tensorflow:Assets written to: ..\\models\\wordGRU\\simple\\assets\n"
     ]
    },
    {
     "name": "stdout",
     "output_type": "stream",
     "text": [
      "81/81 [==============================] - 8s 92ms/step - loss: 0.5484 - accuracy: 0.7285 - val_loss: 0.5462 - val_accuracy: 0.6994\n",
      "Epoch 3/200\n",
      "80/81 [============================>.] - ETA: 0s - loss: 0.4343 - accuracy: 0.7976"
     ]
    },
    {
     "name": "stderr",
     "output_type": "stream",
     "text": [
      "WARNING:absl:Found untraced functions such as gru_cell_1_layer_call_fn, gru_cell_1_layer_call_and_return_conditional_losses, gru_cell_2_layer_call_fn, gru_cell_2_layer_call_and_return_conditional_losses while saving (showing 4 of 4). These functions will not be directly callable after loading.\n"
     ]
    },
    {
     "name": "stdout",
     "output_type": "stream",
     "text": [
      "INFO:tensorflow:Assets written to: ..\\models\\wordGRU\\simple\\assets\n"
     ]
    },
    {
     "name": "stderr",
     "output_type": "stream",
     "text": [
      "INFO:tensorflow:Assets written to: ..\\models\\wordGRU\\simple\\assets\n"
     ]
    },
    {
     "name": "stdout",
     "output_type": "stream",
     "text": [
      "81/81 [==============================] - 7s 90ms/step - loss: 0.4331 - accuracy: 0.7983 - val_loss: 0.4376 - val_accuracy: 0.8015\n",
      "Epoch 4/200\n",
      "80/81 [============================>.] - ETA: 0s - loss: 0.2615 - accuracy: 0.8916"
     ]
    },
    {
     "name": "stderr",
     "output_type": "stream",
     "text": [
      "WARNING:absl:Found untraced functions such as gru_cell_1_layer_call_fn, gru_cell_1_layer_call_and_return_conditional_losses, gru_cell_2_layer_call_fn, gru_cell_2_layer_call_and_return_conditional_losses while saving (showing 4 of 4). These functions will not be directly callable after loading.\n"
     ]
    },
    {
     "name": "stdout",
     "output_type": "stream",
     "text": [
      "INFO:tensorflow:Assets written to: ..\\models\\wordGRU\\simple\\assets\n"
     ]
    },
    {
     "name": "stderr",
     "output_type": "stream",
     "text": [
      "INFO:tensorflow:Assets written to: ..\\models\\wordGRU\\simple\\assets\n"
     ]
    },
    {
     "name": "stdout",
     "output_type": "stream",
     "text": [
      "81/81 [==============================] - 7s 89ms/step - loss: 0.2616 - accuracy: 0.8914 - val_loss: 0.4149 - val_accuracy: 0.8045\n",
      "Epoch 5/200\n",
      "81/81 [==============================] - 3s 35ms/step - loss: 0.1819 - accuracy: 0.9300 - val_loss: 0.4986 - val_accuracy: 0.8084\n",
      "Epoch 6/200\n",
      "81/81 [==============================] - 3s 35ms/step - loss: 0.1339 - accuracy: 0.9503 - val_loss: 0.5687 - val_accuracy: 0.8158\n",
      "Epoch 7/200\n",
      "81/81 [==============================] - 3s 35ms/step - loss: 0.0971 - accuracy: 0.9663 - val_loss: 0.6536 - val_accuracy: 0.7958\n",
      "Epoch 8/200\n",
      "81/81 [==============================] - 3s 35ms/step - loss: 0.0832 - accuracy: 0.9709 - val_loss: 0.7324 - val_accuracy: 0.8010\n",
      "Epoch 9/200\n",
      "81/81 [==============================] - 3s 36ms/step - loss: 0.0603 - accuracy: 0.9805 - val_loss: 0.8257 - val_accuracy: 0.7984\n",
      "Epoch 10/200\n",
      "81/81 [==============================] - 3s 38ms/step - loss: 0.0503 - accuracy: 0.9840 - val_loss: 0.8960 - val_accuracy: 0.7932\n",
      "Epoch 11/200\n",
      "81/81 [==============================] - 3s 35ms/step - loss: 0.0445 - accuracy: 0.9867 - val_loss: 0.9291 - val_accuracy: 0.7845\n",
      "Epoch 12/200\n",
      "81/81 [==============================] - 3s 36ms/step - loss: 0.0320 - accuracy: 0.9912 - val_loss: 1.0317 - val_accuracy: 0.7798\n",
      "Epoch 13/200\n",
      "81/81 [==============================] - 3s 36ms/step - loss: 0.0262 - accuracy: 0.9926 - val_loss: 1.2153 - val_accuracy: 0.7837\n",
      "Epoch 14/200\n",
      "81/81 [==============================] - 3s 35ms/step - loss: 0.0236 - accuracy: 0.9932 - val_loss: 1.2361 - val_accuracy: 0.7858\n"
     ]
    },
    {
     "data": {
      "text/plain": "<keras.callbacks.History at 0x1b7b7f4d130>"
     },
     "execution_count": 3,
     "metadata": {},
     "output_type": "execute_result"
    }
   ],
   "source": [
    "# Train GRU model.\n",
    "early_stopping = keras.callbacks.EarlyStopping(monitor='val_loss', patience=10, restore_best_weights=True)\n",
    "save_best = keras.callbacks.ModelCheckpoint(os.path.join(MODELS_DIR, \"simple\"), monitor='val_loss',\n",
    "                                            save_best_only=True, restore_best_weights=True)\n",
    "model.fit(x_train, y_train, batch_size=256, epochs=EPOCHS,\n",
    "          validation_data=(x_valid, y_valid),\n",
    "          callbacks=[early_stopping, save_best])"
   ],
   "metadata": {
    "collapsed": false,
    "ExecuteTime": {
     "end_time": "2023-12-04T20:49:21.471415900Z",
     "start_time": "2023-12-04T20:48:19.965175100Z"
    }
   },
   "id": "a0aea73ca5dbabaf"
  },
  {
   "cell_type": "code",
   "execution_count": 4,
   "outputs": [
    {
     "name": "stdout",
     "output_type": "stream",
     "text": [
      "80/80 [==============================] - 1s 6ms/step\n"
     ]
    },
    {
     "data": {
      "text/plain": "{'balanced_accuracy': 0.8033725792253521,\n 'f1_score': 0.8007920792079207,\n 'precision': 0.8120481927710843,\n 'recall': 0.78984375}"
     },
     "execution_count": 4,
     "metadata": {},
     "output_type": "execute_result"
    }
   ],
   "source": [
    "probas = model.predict(x_test)\n",
    "y_pred = (probas > 0.5).astype('int32')\n",
    "results = calculate_metrics(y_test, y_pred)\n",
    "results"
   ],
   "metadata": {
    "collapsed": false,
    "ExecuteTime": {
     "end_time": "2023-12-04T20:49:22.527158Z",
     "start_time": "2023-12-04T20:49:21.473416500Z"
    }
   },
   "id": "5e50ea90326c9cfb"
  },
  {
   "cell_type": "markdown",
   "source": [
    "# Lemmatized data"
   ],
   "metadata": {
    "collapsed": false
   },
   "id": "25799b66a40c6057"
  },
  {
   "cell_type": "code",
   "execution_count": 5,
   "outputs": [
    {
     "name": "stdout",
     "output_type": "stream",
     "text": [
      "Model: \"model_1\"\n",
      "_________________________________________________________________\n",
      " Layer (type)                Output Shape              Param #   \n",
      "=================================================================\n",
      " input_2 (InputLayer)        [(None, 1)]               0         \n",
      "                                                                 \n",
      " text_vectorization_1 (TextV  (None, 100)              0         \n",
      " ectorization)                                                   \n",
      "                                                                 \n",
      " embedding_1 (Embedding)     (None, 100, 128)          1920000   \n",
      "                                                                 \n",
      " bidirectional_1 (Bidirectio  (None, 1024)             1972224   \n",
      " nal)                                                            \n",
      "                                                                 \n",
      " dropout_1 (Dropout)         (None, 1024)              0         \n",
      "                                                                 \n",
      " dense_1 (Dense)             (None, 1)                 1025      \n",
      "                                                                 \n",
      "=================================================================\n",
      "Total params: 3,893,249\n",
      "Trainable params: 3,893,249\n",
      "Non-trainable params: 0\n",
      "_________________________________________________________________\n"
     ]
    }
   ],
   "source": [
    "data_path = os.path.join('..', 'data', 'lemmatized')\n",
    "\n",
    "x_train, y_train, x_valid, y_valid, x_test, y_test = wu.prepare_data(\n",
    "    data_path)\n",
    "os.makedirs(MODELS_DIR, exist_ok=True)\n",
    "text_vectorizer = wu.prepare_text_vectorizer(x_train, max_len=MAX_LEN, vocab_size=VOCAB_SIZE)\n",
    "model = wu.get_wordgru(text_vectorizer)\n",
    "model.summary()"
   ],
   "metadata": {
    "collapsed": false,
    "ExecuteTime": {
     "end_time": "2023-12-04T20:49:23.485158700Z",
     "start_time": "2023-12-04T20:49:22.529158600Z"
    }
   },
   "id": "61b178781962d044"
  },
  {
   "cell_type": "code",
   "execution_count": 6,
   "outputs": [
    {
     "name": "stdout",
     "output_type": "stream",
     "text": [
      "Epoch 1/200\n",
      "81/81 [==============================] - ETA: 0s - loss: 0.7065 - accuracy: 0.6644"
     ]
    },
    {
     "name": "stderr",
     "output_type": "stream",
     "text": [
      "WARNING:absl:Found untraced functions such as gru_cell_4_layer_call_fn, gru_cell_4_layer_call_and_return_conditional_losses, gru_cell_5_layer_call_fn, gru_cell_5_layer_call_and_return_conditional_losses while saving (showing 4 of 4). These functions will not be directly callable after loading.\n"
     ]
    },
    {
     "name": "stdout",
     "output_type": "stream",
     "text": [
      "INFO:tensorflow:Assets written to: ..\\models\\wordGRU\\lemmatized\\assets\n"
     ]
    },
    {
     "name": "stderr",
     "output_type": "stream",
     "text": [
      "INFO:tensorflow:Assets written to: ..\\models\\wordGRU\\lemmatized\\assets\n"
     ]
    },
    {
     "name": "stdout",
     "output_type": "stream",
     "text": [
      "81/81 [==============================] - 9s 95ms/step - loss: 0.7065 - accuracy: 0.6644 - val_loss: 0.5690 - val_accuracy: 0.6738\n",
      "Epoch 2/200\n",
      "80/81 [============================>.] - ETA: 0s - loss: 0.4002 - accuracy: 0.8206"
     ]
    },
    {
     "name": "stderr",
     "output_type": "stream",
     "text": [
      "WARNING:absl:Found untraced functions such as gru_cell_4_layer_call_fn, gru_cell_4_layer_call_and_return_conditional_losses, gru_cell_5_layer_call_fn, gru_cell_5_layer_call_and_return_conditional_losses while saving (showing 4 of 4). These functions will not be directly callable after loading.\n"
     ]
    },
    {
     "name": "stdout",
     "output_type": "stream",
     "text": [
      "INFO:tensorflow:Assets written to: ..\\models\\wordGRU\\lemmatized\\assets\n"
     ]
    },
    {
     "name": "stderr",
     "output_type": "stream",
     "text": [
      "INFO:tensorflow:Assets written to: ..\\models\\wordGRU\\lemmatized\\assets\n"
     ]
    },
    {
     "name": "stdout",
     "output_type": "stream",
     "text": [
      "81/81 [==============================] - 7s 90ms/step - loss: 0.3995 - accuracy: 0.8211 - val_loss: 0.4104 - val_accuracy: 0.8119\n",
      "Epoch 3/200\n",
      "81/81 [==============================] - 3s 35ms/step - loss: 0.2667 - accuracy: 0.8893 - val_loss: 0.4394 - val_accuracy: 0.8080\n",
      "Epoch 4/200\n",
      "81/81 [==============================] - 3s 34ms/step - loss: 0.2028 - accuracy: 0.9197 - val_loss: 0.5042 - val_accuracy: 0.8136\n",
      "Epoch 5/200\n",
      "81/81 [==============================] - 3s 34ms/step - loss: 0.1619 - accuracy: 0.9370 - val_loss: 0.5353 - val_accuracy: 0.7915\n",
      "Epoch 6/200\n",
      "81/81 [==============================] - 3s 34ms/step - loss: 0.1281 - accuracy: 0.9529 - val_loss: 0.6228 - val_accuracy: 0.8028\n",
      "Epoch 7/200\n",
      "81/81 [==============================] - 3s 34ms/step - loss: 0.1058 - accuracy: 0.9614 - val_loss: 0.6425 - val_accuracy: 0.7919\n",
      "Epoch 8/200\n",
      "81/81 [==============================] - 3s 34ms/step - loss: 0.0880 - accuracy: 0.9681 - val_loss: 0.8076 - val_accuracy: 0.7924\n",
      "Epoch 9/200\n",
      "81/81 [==============================] - 3s 34ms/step - loss: 0.0785 - accuracy: 0.9712 - val_loss: 0.8290 - val_accuracy: 0.7932\n",
      "Epoch 10/200\n",
      "81/81 [==============================] - 3s 34ms/step - loss: 0.0615 - accuracy: 0.9800 - val_loss: 0.9443 - val_accuracy: 0.7937\n",
      "Epoch 11/200\n",
      "81/81 [==============================] - 3s 34ms/step - loss: 0.0513 - accuracy: 0.9834 - val_loss: 1.0219 - val_accuracy: 0.7850\n",
      "Epoch 12/200\n",
      "81/81 [==============================] - 3s 34ms/step - loss: 0.0445 - accuracy: 0.9858 - val_loss: 1.0551 - val_accuracy: 0.7889\n"
     ]
    },
    {
     "data": {
      "text/plain": "<keras.callbacks.History at 0x1b7d9f73820>"
     },
     "execution_count": 6,
     "metadata": {},
     "output_type": "execute_result"
    }
   ],
   "source": [
    "# Train GRU model.\n",
    "early_stopping = keras.callbacks.EarlyStopping(monitor='val_loss', patience=10, restore_best_weights=True)\n",
    "save_best = keras.callbacks.ModelCheckpoint(os.path.join(MODELS_DIR, \"lemmatized\"), monitor='val_loss',\n",
    "                                            save_best_only=True, restore_best_weights=True)\n",
    "model.fit(x_train, y_train, batch_size=256, epochs=EPOCHS,\n",
    "          validation_data=(x_valid, y_valid),\n",
    "          callbacks=[early_stopping, save_best])"
   ],
   "metadata": {
    "collapsed": false,
    "ExecuteTime": {
     "end_time": "2023-12-04T20:50:07.641140400Z",
     "start_time": "2023-12-04T20:49:23.472158300Z"
    }
   },
   "id": "401025f2c35a8d2"
  },
  {
   "cell_type": "code",
   "execution_count": 7,
   "outputs": [
    {
     "name": "stdout",
     "output_type": "stream",
     "text": [
      "80/80 [==============================] - 1s 6ms/step\n"
     ]
    },
    {
     "data": {
      "text/plain": "{'balanced_accuracy': 0.8131253667840376,\n 'f1_score': 0.8155864197530864,\n 'precision': 0.805640243902439,\n 'recall': 0.82578125}"
     },
     "execution_count": 7,
     "metadata": {},
     "output_type": "execute_result"
    }
   ],
   "source": [
    "probas = model.predict(x_test)\n",
    "y_pred = (probas > 0.5).astype('int32')\n",
    "results_lem = calculate_metrics(y_test, y_pred)\n",
    "results_lem"
   ],
   "metadata": {
    "collapsed": false,
    "ExecuteTime": {
     "end_time": "2023-12-04T20:50:08.468139400Z",
     "start_time": "2023-12-04T20:50:07.644139800Z"
    }
   },
   "id": "fdba56943a6bad4e"
  },
  {
   "cell_type": "markdown",
   "source": [
    "# Stemmed data"
   ],
   "metadata": {
    "collapsed": false
   },
   "id": "20cc1688667ee59"
  },
  {
   "cell_type": "code",
   "execution_count": 8,
   "outputs": [
    {
     "name": "stdout",
     "output_type": "stream",
     "text": [
      "Model: \"model_2\"\n",
      "_________________________________________________________________\n",
      " Layer (type)                Output Shape              Param #   \n",
      "=================================================================\n",
      " input_3 (InputLayer)        [(None, 1)]               0         \n",
      "                                                                 \n",
      " text_vectorization_2 (TextV  (None, 100)              0         \n",
      " ectorization)                                                   \n",
      "                                                                 \n",
      " embedding_2 (Embedding)     (None, 100, 128)          1920000   \n",
      "                                                                 \n",
      " bidirectional_2 (Bidirectio  (None, 1024)             1972224   \n",
      " nal)                                                            \n",
      "                                                                 \n",
      " dropout_2 (Dropout)         (None, 1024)              0         \n",
      "                                                                 \n",
      " dense_2 (Dense)             (None, 1)                 1025      \n",
      "                                                                 \n",
      "=================================================================\n",
      "Total params: 3,893,249\n",
      "Trainable params: 3,893,249\n",
      "Non-trainable params: 0\n",
      "_________________________________________________________________\n"
     ]
    }
   ],
   "source": [
    "data_path = os.path.join('..', 'data', 'stemmed')\n",
    "\n",
    "x_train, y_train, x_valid, y_valid, x_test, y_test = wu.prepare_data(\n",
    "    data_path)\n",
    "os.makedirs(MODELS_DIR, exist_ok=True)\n",
    "text_vectorizer = wu.prepare_text_vectorizer(x_train, max_len=MAX_LEN, vocab_size=VOCAB_SIZE)\n",
    "model = wu.get_wordgru(text_vectorizer)\n",
    "model.summary()"
   ],
   "metadata": {
    "collapsed": false,
    "ExecuteTime": {
     "end_time": "2023-12-04T20:50:09.414139700Z",
     "start_time": "2023-12-04T20:50:08.470139500Z"
    }
   },
   "id": "b40b7f5ac6b6ffb9"
  },
  {
   "cell_type": "code",
   "execution_count": 9,
   "outputs": [
    {
     "name": "stdout",
     "output_type": "stream",
     "text": [
      "Epoch 1/200\n",
      "81/81 [==============================] - ETA: 0s - loss: 0.7110 - accuracy: 0.6434"
     ]
    },
    {
     "name": "stderr",
     "output_type": "stream",
     "text": [
      "WARNING:absl:Found untraced functions such as gru_cell_7_layer_call_fn, gru_cell_7_layer_call_and_return_conditional_losses, gru_cell_8_layer_call_fn, gru_cell_8_layer_call_and_return_conditional_losses while saving (showing 4 of 4). These functions will not be directly callable after loading.\n"
     ]
    },
    {
     "name": "stdout",
     "output_type": "stream",
     "text": [
      "INFO:tensorflow:Assets written to: ..\\models\\wordGRU\\lemmatized\\assets\n"
     ]
    },
    {
     "name": "stderr",
     "output_type": "stream",
     "text": [
      "INFO:tensorflow:Assets written to: ..\\models\\wordGRU\\lemmatized\\assets\n"
     ]
    },
    {
     "name": "stdout",
     "output_type": "stream",
     "text": [
      "81/81 [==============================] - 9s 94ms/step - loss: 0.7110 - accuracy: 0.6434 - val_loss: 0.5727 - val_accuracy: 0.6890\n",
      "Epoch 2/200\n",
      "81/81 [==============================] - ETA: 0s - loss: 0.4422 - accuracy: 0.7930"
     ]
    },
    {
     "name": "stderr",
     "output_type": "stream",
     "text": [
      "WARNING:absl:Found untraced functions such as gru_cell_7_layer_call_fn, gru_cell_7_layer_call_and_return_conditional_losses, gru_cell_8_layer_call_fn, gru_cell_8_layer_call_and_return_conditional_losses while saving (showing 4 of 4). These functions will not be directly callable after loading.\n"
     ]
    },
    {
     "name": "stdout",
     "output_type": "stream",
     "text": [
      "INFO:tensorflow:Assets written to: ..\\models\\wordGRU\\lemmatized\\assets\n"
     ]
    },
    {
     "name": "stderr",
     "output_type": "stream",
     "text": [
      "INFO:tensorflow:Assets written to: ..\\models\\wordGRU\\lemmatized\\assets\n"
     ]
    },
    {
     "name": "stdout",
     "output_type": "stream",
     "text": [
      "81/81 [==============================] - 7s 90ms/step - loss: 0.4422 - accuracy: 0.7930 - val_loss: 0.4128 - val_accuracy: 0.8232\n",
      "Epoch 3/200\n",
      "81/81 [==============================] - 3s 35ms/step - loss: 0.2797 - accuracy: 0.8818 - val_loss: 0.4156 - val_accuracy: 0.8149\n",
      "Epoch 4/200\n",
      "81/81 [==============================] - 3s 35ms/step - loss: 0.2087 - accuracy: 0.9171 - val_loss: 0.4741 - val_accuracy: 0.8149\n",
      "Epoch 5/200\n",
      "81/81 [==============================] - 3s 34ms/step - loss: 0.1638 - accuracy: 0.9369 - val_loss: 0.5110 - val_accuracy: 0.8015\n",
      "Epoch 6/200\n",
      "81/81 [==============================] - 3s 36ms/step - loss: 0.1277 - accuracy: 0.9528 - val_loss: 0.6347 - val_accuracy: 0.8080\n",
      "Epoch 7/200\n",
      "81/81 [==============================] - 3s 34ms/step - loss: 0.1066 - accuracy: 0.9607 - val_loss: 0.6399 - val_accuracy: 0.7993\n",
      "Epoch 8/200\n",
      "81/81 [==============================] - 3s 34ms/step - loss: 0.0848 - accuracy: 0.9699 - val_loss: 0.7612 - val_accuracy: 0.8010\n",
      "Epoch 9/200\n",
      "81/81 [==============================] - 3s 34ms/step - loss: 0.0700 - accuracy: 0.9750 - val_loss: 0.8558 - val_accuracy: 0.7950\n",
      "Epoch 10/200\n",
      "81/81 [==============================] - 3s 34ms/step - loss: 0.0556 - accuracy: 0.9810 - val_loss: 1.0354 - val_accuracy: 0.7919\n",
      "Epoch 11/200\n",
      "81/81 [==============================] - 3s 35ms/step - loss: 0.0461 - accuracy: 0.9843 - val_loss: 0.9680 - val_accuracy: 0.7854\n",
      "Epoch 12/200\n",
      "81/81 [==============================] - 3s 35ms/step - loss: 0.0482 - accuracy: 0.9838 - val_loss: 0.8675 - val_accuracy: 0.7876\n"
     ]
    },
    {
     "data": {
      "text/plain": "<keras.callbacks.History at 0x1b7da6036d0>"
     },
     "execution_count": 9,
     "metadata": {},
     "output_type": "execute_result"
    }
   ],
   "source": [
    "# Train GRU model.\n",
    "early_stopping = keras.callbacks.EarlyStopping(monitor='val_loss', patience=10, restore_best_weights=True)\n",
    "save_best = keras.callbacks.ModelCheckpoint(os.path.join(MODELS_DIR, \"lemmatized\"), monitor='val_loss',\n",
    "                                            save_best_only=True, restore_best_weights=True)\n",
    "model.fit(x_train, y_train, batch_size=256, epochs=EPOCHS,\n",
    "          validation_data=(x_valid, y_valid),\n",
    "          callbacks=[early_stopping, save_best])"
   ],
   "metadata": {
    "collapsed": false,
    "ExecuteTime": {
     "end_time": "2023-12-04T20:50:54.025836300Z",
     "start_time": "2023-12-04T20:50:09.420139Z"
    }
   },
   "id": "4a31c62aff78b354"
  },
  {
   "cell_type": "code",
   "execution_count": 10,
   "outputs": [
    {
     "name": "stdout",
     "output_type": "stream",
     "text": [
      "80/80 [==============================] - 1s 6ms/step\n"
     ]
    },
    {
     "data": {
      "text/plain": "{'balanced_accuracy': 0.8240365805946792,\n 'f1_score': 0.8337028824833703,\n 'precision': 0.791023842917251,\n 'recall': 0.88125}"
     },
     "execution_count": 10,
     "metadata": {},
     "output_type": "execute_result"
    }
   ],
   "source": [
    "probas = model.predict(x_test)\n",
    "y_pred = (probas > 0.5).astype('int32')\n",
    "results_stem = calculate_metrics(y_test, y_pred)\n",
    "results_stem"
   ],
   "metadata": {
    "collapsed": false,
    "ExecuteTime": {
     "end_time": "2023-12-04T20:50:54.852851300Z",
     "start_time": "2023-12-04T20:50:54.027836700Z"
    }
   },
   "id": "885d99c34575ea8"
  },
  {
   "cell_type": "markdown",
   "source": [
    "# Results"
   ],
   "metadata": {
    "collapsed": false
   },
   "id": "e377f6fbb181d35c"
  },
  {
   "cell_type": "code",
   "execution_count": 11,
   "outputs": [
    {
     "data": {
      "text/plain": "   balanced_accuracy  f1_score  precision    recall    model     dataset\n0           0.803373  0.800792   0.812048  0.789844  WordGRU      simple\n1           0.813125  0.815586   0.805640  0.825781  WordGRU  lemmatized\n2           0.824037  0.833703   0.791024  0.881250  WordGRU     stemmed",
      "text/html": "<div>\n<style scoped>\n    .dataframe tbody tr th:only-of-type {\n        vertical-align: middle;\n    }\n\n    .dataframe tbody tr th {\n        vertical-align: top;\n    }\n\n    .dataframe thead th {\n        text-align: right;\n    }\n</style>\n<table border=\"1\" class=\"dataframe\">\n  <thead>\n    <tr style=\"text-align: right;\">\n      <th></th>\n      <th>balanced_accuracy</th>\n      <th>f1_score</th>\n      <th>precision</th>\n      <th>recall</th>\n      <th>model</th>\n      <th>dataset</th>\n    </tr>\n  </thead>\n  <tbody>\n    <tr>\n      <th>0</th>\n      <td>0.803373</td>\n      <td>0.800792</td>\n      <td>0.812048</td>\n      <td>0.789844</td>\n      <td>WordGRU</td>\n      <td>simple</td>\n    </tr>\n    <tr>\n      <th>1</th>\n      <td>0.813125</td>\n      <td>0.815586</td>\n      <td>0.805640</td>\n      <td>0.825781</td>\n      <td>WordGRU</td>\n      <td>lemmatized</td>\n    </tr>\n    <tr>\n      <th>2</th>\n      <td>0.824037</td>\n      <td>0.833703</td>\n      <td>0.791024</td>\n      <td>0.881250</td>\n      <td>WordGRU</td>\n      <td>stemmed</td>\n    </tr>\n  </tbody>\n</table>\n</div>"
     },
     "execution_count": 11,
     "metadata": {},
     "output_type": "execute_result"
    }
   ],
   "source": [
    "# Create csv with all results\n",
    "\n",
    "results_all = pd.DataFrame([results, results_lem, results_stem])\n",
    "results_all['model'] = 'WordGRU'\n",
    "results_all['dataset'] = ['simple', 'lemmatized', 'stemmed']\n",
    "\n",
    "if not os.path.exists('results'):\n",
    "    os.makedirs('results')\n",
    "results_all.to_csv('results/word_gru.csv', index=False)\n",
    "results_all"
   ],
   "metadata": {
    "collapsed": false,
    "ExecuteTime": {
     "end_time": "2023-12-04T20:50:54.853851Z",
     "start_time": "2023-12-04T20:50:54.840852500Z"
    }
   },
   "id": "6999f8fbd4e3917d"
  }
 ],
 "metadata": {
  "kernelspec": {
   "display_name": "Python 3",
   "language": "python",
   "name": "python3"
  },
  "language_info": {
   "codemirror_mode": {
    "name": "ipython",
    "version": 2
   },
   "file_extension": ".py",
   "mimetype": "text/x-python",
   "name": "python",
   "nbconvert_exporter": "python",
   "pygments_lexer": "ipython2",
   "version": "2.7.6"
  }
 },
 "nbformat": 4,
 "nbformat_minor": 5
}
