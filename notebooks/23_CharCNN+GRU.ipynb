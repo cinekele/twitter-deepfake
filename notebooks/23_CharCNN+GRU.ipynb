{
 "cells": [
  {
   "cell_type": "markdown",
   "metadata": {},
   "source": [
    "# Training GRU model"
   ]
  },
  {
   "cell_type": "code",
   "execution_count": 1,
   "metadata": {
    "ExecuteTime": {
     "end_time": "2023-11-27T20:10:22.649243200Z",
     "start_time": "2023-11-27T20:10:20.722244Z"
    }
   },
   "outputs": [],
   "source": [
    "import os\n",
    "\n",
    "import keras\n",
    "import numpy as np\n",
    "import pandas as pd\n",
    "\n",
    "os.environ['TF_CPP_MIN_LOG_LEVEL'] = '2'\n",
    "from utils.KerasModels import generateExpData\n",
    "from utils.KerasModels import buildCharGRUModel\n",
    "from sklearn.metrics import balanced_accuracy_score, f1_score, precision_score, recall_score\n",
    "\n",
    "MODELS_DIR = os.path.join('..', 'models', 'charCNN_GRU')\n",
    "EPOCHS = 200"
   ]
  },
  {
   "cell_type": "code",
   "execution_count": 2,
   "metadata": {
    "ExecuteTime": {
     "end_time": "2023-11-27T20:10:22.665242700Z",
     "start_time": "2023-11-27T20:10:22.652242800Z"
    }
   },
   "outputs": [],
   "source": [
    "def prepare_data(data_directory):\n",
    "    train = pd.read_csv(os.path.join(data_directory, 'train.csv'))\n",
    "    validation = pd.read_csv(os.path.join(data_directory, 'validation.csv'))\n",
    "    test = pd.read_csv(os.path.join(data_directory, 'test.csv'))\n",
    "\n",
    "    dfTrainDataset = train[[\"screen_name\", \"text\", \"account.type\"]]\n",
    "    dfValDataset = validation[[\"screen_name\", \"text\", \"account.type\"]]\n",
    "    dfTestDataset = test[[\"screen_name\", \"text\", \"account.type\"]]\n",
    "\n",
    "    tokenizer = None\n",
    "    train_features, tokenizer = generateExpData(dfTrainDataset, tokenizer=tokenizer)\n",
    "    val_features, tokenizer = generateExpData(dfValDataset, tokenizer=tokenizer)\n",
    "    test_features, tokenizer = generateExpData(dfTestDataset, tokenizer=tokenizer)\n",
    "\n",
    "    dictLabels = {\"human\": 0, \"bot\": 1}\n",
    "    y_train = dfTrainDataset[\"account.type\"].apply(lambda x: dictLabels[x])\n",
    "    y_val = dfValDataset[\"account.type\"].apply(lambda x: dictLabels[x])\n",
    "    y_test = dfTestDataset[\"account.type\"].apply(lambda x: dictLabels[x])\n",
    "\n",
    "    train_labels = y_train.tolist()\n",
    "    val_labels = y_val.tolist()\n",
    "    test_labels = y_test.tolist()\n",
    "\n",
    "    vocab_size = len(tokenizer.word_index)\n",
    "\n",
    "    return train_features, val_features, test_features, train_labels, val_labels, test_labels, vocab_size\n",
    "\n",
    "\n",
    "def proba_to_pred(y_proba):\n",
    "    y_pred_char_cnn = (y_proba > 0.5).astype(int)\n",
    "    return y_pred_char_cnn\n",
    "\n",
    "\n",
    "def calculate_metrics(y_true, y_pred):\n",
    "    results = {\n",
    "        'balanced_accuracy': balanced_accuracy_score(y_true, y_pred),\n",
    "        'f1_score': f1_score(y_true, y_pred),\n",
    "        'precision': precision_score(y_true, y_pred),\n",
    "        'recall': recall_score(y_true, y_pred)\n",
    "    }\n",
    "    return results"
   ]
  },
  {
   "cell_type": "code",
   "execution_count": 3,
   "metadata": {
    "colab": {
     "base_uri": "https://localhost:8080/",
     "height": 1000
    },
    "colab_type": "code",
    "executionInfo": {
     "elapsed": 41256,
     "status": "ok",
     "timestamp": 1595414564782,
     "user": {
      "displayName": "tizfa data",
      "photoUrl": "",
      "userId": "14479436635515447323"
     },
     "user_tz": -120
    },
    "id": "mBCDg773SZKW",
    "outputId": "cf6255ab-ef46-41fe-bb95-49e0b42acdc0",
    "ExecuteTime": {
     "end_time": "2023-11-27T20:10:24.306241700Z",
     "start_time": "2023-11-27T20:10:22.667242800Z"
    }
   },
   "outputs": [
    {
     "name": "stdout",
     "output_type": "stream",
     "text": [
      "Model: \"model\"\n",
      "_________________________________________________________________\n",
      " Layer (type)                Output Shape              Param #   \n",
      "=================================================================\n",
      " input_1 (InputLayer)        [(None, 320)]             0         \n",
      "                                                                 \n",
      " embedding (Embedding)       (None, 320, 32)           3360      \n",
      "                                                                 \n",
      " bidirectional (Bidirectiona  (None, 1024)             1677312   \n",
      " l)                                                              \n",
      "                                                                 \n",
      " dropout (Dropout)           (None, 1024)              0         \n",
      "                                                                 \n",
      " dense (Dense)               (None, 1)                 1025      \n",
      "                                                                 \n",
      "=================================================================\n",
      "Total params: 1,681,697\n",
      "Trainable params: 1,681,697\n",
      "Non-trainable params: 0\n",
      "_________________________________________________________________\n",
      "None\n"
     ]
    }
   ],
   "source": [
    "DATA_PATH = os.path.join('..', 'data', 'preprocessed_url_simple')\n",
    "train_features, val_features, test_features, train_labels, val_labels, test_labels, vocab_size = prepare_data(DATA_PATH)\n",
    "\n",
    "model = buildCharGRUModel(vocab_size, embSize=32, inputSize=320)"
   ]
  },
  {
   "cell_type": "code",
   "execution_count": 4,
   "metadata": {
    "colab": {
     "base_uri": "https://localhost:8080/",
     "height": 935
    },
    "colab_type": "code",
    "executionInfo": {
     "elapsed": 114516,
     "status": "ok",
     "timestamp": 1595414638074,
     "user": {
      "displayName": "tizfa data",
      "photoUrl": "",
      "userId": "14479436635515447323"
     },
     "user_tz": -120
    },
    "id": "jo_HHkj3J5Bj",
    "outputId": "02a13f63-86d8-4360-e565-ae948adfc9f3",
    "ExecuteTime": {
     "end_time": "2023-11-27T20:17:05.659492800Z",
     "start_time": "2023-11-27T20:10:24.293242100Z"
    }
   },
   "outputs": [
    {
     "name": "stdout",
     "output_type": "stream",
     "text": [
      "Epoch 1/200\n",
      "81/81 [==============================] - ETA: 0s - loss: 0.6135 - accuracy: 0.6275"
     ]
    },
    {
     "name": "stderr",
     "output_type": "stream",
     "text": [
      "WARNING:absl:Found untraced functions such as gru_cell_1_layer_call_fn, gru_cell_1_layer_call_and_return_conditional_losses, gru_cell_2_layer_call_fn, gru_cell_2_layer_call_and_return_conditional_losses while saving (showing 4 of 4). These functions will not be directly callable after loading.\n"
     ]
    },
    {
     "name": "stdout",
     "output_type": "stream",
     "text": [
      "INFO:tensorflow:Assets written to: ..\\models\\charCNN_GRU\\simple\\assets\n"
     ]
    },
    {
     "name": "stderr",
     "output_type": "stream",
     "text": [
      "INFO:tensorflow:Assets written to: ..\\models\\charCNN_GRU\\simple\\assets\n"
     ]
    },
    {
     "name": "stdout",
     "output_type": "stream",
     "text": [
      "81/81 [==============================] - 14s 140ms/step - loss: 0.6135 - accuracy: 0.6275 - val_loss: 0.5764 - val_accuracy: 0.6573\n",
      "Epoch 2/200\n",
      "81/81 [==============================] - 7s 83ms/step - loss: 0.6181 - accuracy: 0.6408 - val_loss: 0.5846 - val_accuracy: 0.6364\n",
      "Epoch 3/200\n",
      "81/81 [==============================] - ETA: 0s - loss: 0.5781 - accuracy: 0.6575"
     ]
    },
    {
     "name": "stderr",
     "output_type": "stream",
     "text": [
      "WARNING:absl:Found untraced functions such as gru_cell_1_layer_call_fn, gru_cell_1_layer_call_and_return_conditional_losses, gru_cell_2_layer_call_fn, gru_cell_2_layer_call_and_return_conditional_losses while saving (showing 4 of 4). These functions will not be directly callable after loading.\n"
     ]
    },
    {
     "name": "stdout",
     "output_type": "stream",
     "text": [
      "INFO:tensorflow:Assets written to: ..\\models\\charCNN_GRU\\simple\\assets\n"
     ]
    },
    {
     "name": "stderr",
     "output_type": "stream",
     "text": [
      "INFO:tensorflow:Assets written to: ..\\models\\charCNN_GRU\\simple\\assets\n"
     ]
    },
    {
     "name": "stdout",
     "output_type": "stream",
     "text": [
      "81/81 [==============================] - 11s 136ms/step - loss: 0.5781 - accuracy: 0.6575 - val_loss: 0.5749 - val_accuracy: 0.6560\n",
      "Epoch 4/200\n",
      "81/81 [==============================] - 7s 83ms/step - loss: 0.5705 - accuracy: 0.6725 - val_loss: 0.5772 - val_accuracy: 0.6525\n",
      "Epoch 5/200\n",
      "81/81 [==============================] - 7s 83ms/step - loss: 0.5783 - accuracy: 0.6598 - val_loss: 0.5795 - val_accuracy: 0.6394\n",
      "Epoch 6/200\n",
      "81/81 [==============================] - ETA: 0s - loss: 0.5751 - accuracy: 0.6602"
     ]
    },
    {
     "name": "stderr",
     "output_type": "stream",
     "text": [
      "WARNING:absl:Found untraced functions such as gru_cell_1_layer_call_fn, gru_cell_1_layer_call_and_return_conditional_losses, gru_cell_2_layer_call_fn, gru_cell_2_layer_call_and_return_conditional_losses while saving (showing 4 of 4). These functions will not be directly callable after loading.\n"
     ]
    },
    {
     "name": "stdout",
     "output_type": "stream",
     "text": [
      "INFO:tensorflow:Assets written to: ..\\models\\charCNN_GRU\\simple\\assets\n"
     ]
    },
    {
     "name": "stderr",
     "output_type": "stream",
     "text": [
      "INFO:tensorflow:Assets written to: ..\\models\\charCNN_GRU\\simple\\assets\n"
     ]
    },
    {
     "name": "stdout",
     "output_type": "stream",
     "text": [
      "81/81 [==============================] - 11s 136ms/step - loss: 0.5751 - accuracy: 0.6602 - val_loss: 0.5735 - val_accuracy: 0.6533\n",
      "Epoch 7/200\n",
      "81/81 [==============================] - ETA: 0s - loss: 0.5676 - accuracy: 0.6733"
     ]
    },
    {
     "name": "stderr",
     "output_type": "stream",
     "text": [
      "WARNING:absl:Found untraced functions such as gru_cell_1_layer_call_fn, gru_cell_1_layer_call_and_return_conditional_losses, gru_cell_2_layer_call_fn, gru_cell_2_layer_call_and_return_conditional_losses while saving (showing 4 of 4). These functions will not be directly callable after loading.\n"
     ]
    },
    {
     "name": "stdout",
     "output_type": "stream",
     "text": [
      "INFO:tensorflow:Assets written to: ..\\models\\charCNN_GRU\\simple\\assets\n"
     ]
    },
    {
     "name": "stderr",
     "output_type": "stream",
     "text": [
      "INFO:tensorflow:Assets written to: ..\\models\\charCNN_GRU\\simple\\assets\n"
     ]
    },
    {
     "name": "stdout",
     "output_type": "stream",
     "text": [
      "81/81 [==============================] - 11s 136ms/step - loss: 0.5676 - accuracy: 0.6733 - val_loss: 0.5699 - val_accuracy: 0.6603\n",
      "Epoch 8/200\n",
      "81/81 [==============================] - ETA: 0s - loss: 0.5709 - accuracy: 0.6651"
     ]
    },
    {
     "name": "stderr",
     "output_type": "stream",
     "text": [
      "WARNING:absl:Found untraced functions such as gru_cell_1_layer_call_fn, gru_cell_1_layer_call_and_return_conditional_losses, gru_cell_2_layer_call_fn, gru_cell_2_layer_call_and_return_conditional_losses while saving (showing 4 of 4). These functions will not be directly callable after loading.\n"
     ]
    },
    {
     "name": "stdout",
     "output_type": "stream",
     "text": [
      "INFO:tensorflow:Assets written to: ..\\models\\charCNN_GRU\\simple\\assets\n"
     ]
    },
    {
     "name": "stderr",
     "output_type": "stream",
     "text": [
      "INFO:tensorflow:Assets written to: ..\\models\\charCNN_GRU\\simple\\assets\n"
     ]
    },
    {
     "name": "stdout",
     "output_type": "stream",
     "text": [
      "81/81 [==============================] - 11s 138ms/step - loss: 0.5709 - accuracy: 0.6651 - val_loss: 0.5669 - val_accuracy: 0.6651\n",
      "Epoch 9/200\n",
      "81/81 [==============================] - ETA: 0s - loss: 0.5020 - accuracy: 0.7550"
     ]
    },
    {
     "name": "stderr",
     "output_type": "stream",
     "text": [
      "WARNING:absl:Found untraced functions such as gru_cell_1_layer_call_fn, gru_cell_1_layer_call_and_return_conditional_losses, gru_cell_2_layer_call_fn, gru_cell_2_layer_call_and_return_conditional_losses while saving (showing 4 of 4). These functions will not be directly callable after loading.\n"
     ]
    },
    {
     "name": "stdout",
     "output_type": "stream",
     "text": [
      "INFO:tensorflow:Assets written to: ..\\models\\charCNN_GRU\\simple\\assets\n"
     ]
    },
    {
     "name": "stderr",
     "output_type": "stream",
     "text": [
      "INFO:tensorflow:Assets written to: ..\\models\\charCNN_GRU\\simple\\assets\n"
     ]
    },
    {
     "name": "stdout",
     "output_type": "stream",
     "text": [
      "81/81 [==============================] - 11s 135ms/step - loss: 0.5020 - accuracy: 0.7550 - val_loss: 0.4988 - val_accuracy: 0.7459\n",
      "Epoch 10/200\n",
      "81/81 [==============================] - ETA: 0s - loss: 0.4378 - accuracy: 0.7987"
     ]
    },
    {
     "name": "stderr",
     "output_type": "stream",
     "text": [
      "WARNING:absl:Found untraced functions such as gru_cell_1_layer_call_fn, gru_cell_1_layer_call_and_return_conditional_losses, gru_cell_2_layer_call_fn, gru_cell_2_layer_call_and_return_conditional_losses while saving (showing 4 of 4). These functions will not be directly callable after loading.\n"
     ]
    },
    {
     "name": "stdout",
     "output_type": "stream",
     "text": [
      "INFO:tensorflow:Assets written to: ..\\models\\charCNN_GRU\\simple\\assets\n"
     ]
    },
    {
     "name": "stderr",
     "output_type": "stream",
     "text": [
      "INFO:tensorflow:Assets written to: ..\\models\\charCNN_GRU\\simple\\assets\n"
     ]
    },
    {
     "name": "stdout",
     "output_type": "stream",
     "text": [
      "81/81 [==============================] - 11s 136ms/step - loss: 0.4378 - accuracy: 0.7987 - val_loss: 0.4359 - val_accuracy: 0.7863\n",
      "Epoch 11/200\n",
      "81/81 [==============================] - ETA: 0s - loss: 0.4165 - accuracy: 0.8062"
     ]
    },
    {
     "name": "stderr",
     "output_type": "stream",
     "text": [
      "WARNING:absl:Found untraced functions such as gru_cell_1_layer_call_fn, gru_cell_1_layer_call_and_return_conditional_losses, gru_cell_2_layer_call_fn, gru_cell_2_layer_call_and_return_conditional_losses while saving (showing 4 of 4). These functions will not be directly callable after loading.\n"
     ]
    },
    {
     "name": "stdout",
     "output_type": "stream",
     "text": [
      "INFO:tensorflow:Assets written to: ..\\models\\charCNN_GRU\\simple\\assets\n"
     ]
    },
    {
     "name": "stderr",
     "output_type": "stream",
     "text": [
      "INFO:tensorflow:Assets written to: ..\\models\\charCNN_GRU\\simple\\assets\n"
     ]
    },
    {
     "name": "stdout",
     "output_type": "stream",
     "text": [
      "81/81 [==============================] - 11s 138ms/step - loss: 0.4165 - accuracy: 0.8062 - val_loss: 0.4331 - val_accuracy: 0.7880\n",
      "Epoch 12/200\n",
      "81/81 [==============================] - ETA: 0s - loss: 0.4148 - accuracy: 0.8063"
     ]
    },
    {
     "name": "stderr",
     "output_type": "stream",
     "text": [
      "WARNING:absl:Found untraced functions such as gru_cell_1_layer_call_fn, gru_cell_1_layer_call_and_return_conditional_losses, gru_cell_2_layer_call_fn, gru_cell_2_layer_call_and_return_conditional_losses while saving (showing 4 of 4). These functions will not be directly callable after loading.\n"
     ]
    },
    {
     "name": "stdout",
     "output_type": "stream",
     "text": [
      "INFO:tensorflow:Assets written to: ..\\models\\charCNN_GRU\\simple\\assets\n"
     ]
    },
    {
     "name": "stderr",
     "output_type": "stream",
     "text": [
      "INFO:tensorflow:Assets written to: ..\\models\\charCNN_GRU\\simple\\assets\n"
     ]
    },
    {
     "name": "stdout",
     "output_type": "stream",
     "text": [
      "81/81 [==============================] - 11s 136ms/step - loss: 0.4148 - accuracy: 0.8063 - val_loss: 0.4304 - val_accuracy: 0.7893\n",
      "Epoch 13/200\n",
      "81/81 [==============================] - 7s 85ms/step - loss: 0.5758 - accuracy: 0.6608 - val_loss: 0.5762 - val_accuracy: 0.6533\n",
      "Epoch 14/200\n",
      "81/81 [==============================] - 7s 85ms/step - loss: 0.5462 - accuracy: 0.6886 - val_loss: 0.4459 - val_accuracy: 0.7880\n",
      "Epoch 15/200\n",
      "81/81 [==============================] - 7s 84ms/step - loss: 0.4161 - accuracy: 0.8063 - val_loss: 0.4307 - val_accuracy: 0.7884\n",
      "Epoch 16/200\n",
      "81/81 [==============================] - ETA: 0s - loss: 0.4113 - accuracy: 0.8079"
     ]
    },
    {
     "name": "stderr",
     "output_type": "stream",
     "text": [
      "WARNING:absl:Found untraced functions such as gru_cell_1_layer_call_fn, gru_cell_1_layer_call_and_return_conditional_losses, gru_cell_2_layer_call_fn, gru_cell_2_layer_call_and_return_conditional_losses while saving (showing 4 of 4). These functions will not be directly callable after loading.\n"
     ]
    },
    {
     "name": "stdout",
     "output_type": "stream",
     "text": [
      "INFO:tensorflow:Assets written to: ..\\models\\charCNN_GRU\\simple\\assets\n"
     ]
    },
    {
     "name": "stderr",
     "output_type": "stream",
     "text": [
      "INFO:tensorflow:Assets written to: ..\\models\\charCNN_GRU\\simple\\assets\n"
     ]
    },
    {
     "name": "stdout",
     "output_type": "stream",
     "text": [
      "81/81 [==============================] - 11s 136ms/step - loss: 0.4113 - accuracy: 0.8079 - val_loss: 0.4294 - val_accuracy: 0.7919\n",
      "Epoch 17/200\n",
      "81/81 [==============================] - 7s 87ms/step - loss: 0.4109 - accuracy: 0.8071 - val_loss: 0.4407 - val_accuracy: 0.7880\n",
      "Epoch 18/200\n",
      "81/81 [==============================] - 7s 87ms/step - loss: 0.4411 - accuracy: 0.7845 - val_loss: 0.5013 - val_accuracy: 0.7754\n",
      "Epoch 19/200\n",
      "81/81 [==============================] - 7s 84ms/step - loss: 0.4201 - accuracy: 0.8043 - val_loss: 0.4313 - val_accuracy: 0.7893\n",
      "Epoch 20/200\n",
      "81/81 [==============================] - ETA: 0s - loss: 0.4065 - accuracy: 0.8081"
     ]
    },
    {
     "name": "stderr",
     "output_type": "stream",
     "text": [
      "WARNING:absl:Found untraced functions such as gru_cell_1_layer_call_fn, gru_cell_1_layer_call_and_return_conditional_losses, gru_cell_2_layer_call_fn, gru_cell_2_layer_call_and_return_conditional_losses while saving (showing 4 of 4). These functions will not be directly callable after loading.\n"
     ]
    },
    {
     "name": "stdout",
     "output_type": "stream",
     "text": [
      "INFO:tensorflow:Assets written to: ..\\models\\charCNN_GRU\\simple\\assets\n"
     ]
    },
    {
     "name": "stderr",
     "output_type": "stream",
     "text": [
      "INFO:tensorflow:Assets written to: ..\\models\\charCNN_GRU\\simple\\assets\n"
     ]
    },
    {
     "name": "stdout",
     "output_type": "stream",
     "text": [
      "81/81 [==============================] - 11s 136ms/step - loss: 0.4065 - accuracy: 0.8081 - val_loss: 0.4270 - val_accuracy: 0.7911\n",
      "Epoch 21/200\n",
      "81/81 [==============================] - ETA: 0s - loss: 0.4051 - accuracy: 0.8089"
     ]
    },
    {
     "name": "stderr",
     "output_type": "stream",
     "text": [
      "WARNING:absl:Found untraced functions such as gru_cell_1_layer_call_fn, gru_cell_1_layer_call_and_return_conditional_losses, gru_cell_2_layer_call_fn, gru_cell_2_layer_call_and_return_conditional_losses while saving (showing 4 of 4). These functions will not be directly callable after loading.\n"
     ]
    },
    {
     "name": "stdout",
     "output_type": "stream",
     "text": [
      "INFO:tensorflow:Assets written to: ..\\models\\charCNN_GRU\\simple\\assets\n"
     ]
    },
    {
     "name": "stderr",
     "output_type": "stream",
     "text": [
      "INFO:tensorflow:Assets written to: ..\\models\\charCNN_GRU\\simple\\assets\n"
     ]
    },
    {
     "name": "stdout",
     "output_type": "stream",
     "text": [
      "81/81 [==============================] - 11s 136ms/step - loss: 0.4051 - accuracy: 0.8089 - val_loss: 0.4244 - val_accuracy: 0.7897\n",
      "Epoch 22/200\n",
      "81/81 [==============================] - 7s 84ms/step - loss: 0.4074 - accuracy: 0.8068 - val_loss: 0.4258 - val_accuracy: 0.7871\n",
      "Epoch 23/200\n",
      "81/81 [==============================] - 7s 84ms/step - loss: 0.4063 - accuracy: 0.8022 - val_loss: 0.4279 - val_accuracy: 0.7806\n",
      "Epoch 24/200\n",
      "81/81 [==============================] - 7s 83ms/step - loss: 0.4042 - accuracy: 0.8023 - val_loss: 0.4273 - val_accuracy: 0.7785\n",
      "Epoch 25/200\n",
      "81/81 [==============================] - ETA: 0s - loss: 0.3964 - accuracy: 0.8069"
     ]
    },
    {
     "name": "stderr",
     "output_type": "stream",
     "text": [
      "WARNING:absl:Found untraced functions such as gru_cell_1_layer_call_fn, gru_cell_1_layer_call_and_return_conditional_losses, gru_cell_2_layer_call_fn, gru_cell_2_layer_call_and_return_conditional_losses while saving (showing 4 of 4). These functions will not be directly callable after loading.\n"
     ]
    },
    {
     "name": "stdout",
     "output_type": "stream",
     "text": [
      "INFO:tensorflow:Assets written to: ..\\models\\charCNN_GRU\\simple\\assets\n"
     ]
    },
    {
     "name": "stderr",
     "output_type": "stream",
     "text": [
      "INFO:tensorflow:Assets written to: ..\\models\\charCNN_GRU\\simple\\assets\n"
     ]
    },
    {
     "name": "stdout",
     "output_type": "stream",
     "text": [
      "81/81 [==============================] - 11s 138ms/step - loss: 0.3964 - accuracy: 0.8069 - val_loss: 0.4085 - val_accuracy: 0.7932\n",
      "Epoch 26/200\n",
      "81/81 [==============================] - ETA: 0s - loss: 0.3774 - accuracy: 0.8244"
     ]
    },
    {
     "name": "stderr",
     "output_type": "stream",
     "text": [
      "WARNING:absl:Found untraced functions such as gru_cell_1_layer_call_fn, gru_cell_1_layer_call_and_return_conditional_losses, gru_cell_2_layer_call_fn, gru_cell_2_layer_call_and_return_conditional_losses while saving (showing 4 of 4). These functions will not be directly callable after loading.\n"
     ]
    },
    {
     "name": "stdout",
     "output_type": "stream",
     "text": [
      "INFO:tensorflow:Assets written to: ..\\models\\charCNN_GRU\\simple\\assets\n"
     ]
    },
    {
     "name": "stderr",
     "output_type": "stream",
     "text": [
      "INFO:tensorflow:Assets written to: ..\\models\\charCNN_GRU\\simple\\assets\n"
     ]
    },
    {
     "name": "stdout",
     "output_type": "stream",
     "text": [
      "81/81 [==============================] - 11s 135ms/step - loss: 0.3774 - accuracy: 0.8244 - val_loss: 0.4047 - val_accuracy: 0.7963\n",
      "Epoch 27/200\n",
      "81/81 [==============================] - ETA: 0s - loss: 0.3674 - accuracy: 0.8308"
     ]
    },
    {
     "name": "stderr",
     "output_type": "stream",
     "text": [
      "WARNING:absl:Found untraced functions such as gru_cell_1_layer_call_fn, gru_cell_1_layer_call_and_return_conditional_losses, gru_cell_2_layer_call_fn, gru_cell_2_layer_call_and_return_conditional_losses while saving (showing 4 of 4). These functions will not be directly callable after loading.\n"
     ]
    },
    {
     "name": "stdout",
     "output_type": "stream",
     "text": [
      "INFO:tensorflow:Assets written to: ..\\models\\charCNN_GRU\\simple\\assets\n"
     ]
    },
    {
     "name": "stderr",
     "output_type": "stream",
     "text": [
      "INFO:tensorflow:Assets written to: ..\\models\\charCNN_GRU\\simple\\assets\n"
     ]
    },
    {
     "name": "stdout",
     "output_type": "stream",
     "text": [
      "81/81 [==============================] - 11s 137ms/step - loss: 0.3674 - accuracy: 0.8308 - val_loss: 0.3935 - val_accuracy: 0.8141\n",
      "Epoch 28/200\n",
      "81/81 [==============================] - ETA: 0s - loss: 0.3592 - accuracy: 0.8333"
     ]
    },
    {
     "name": "stderr",
     "output_type": "stream",
     "text": [
      "WARNING:absl:Found untraced functions such as gru_cell_1_layer_call_fn, gru_cell_1_layer_call_and_return_conditional_losses, gru_cell_2_layer_call_fn, gru_cell_2_layer_call_and_return_conditional_losses while saving (showing 4 of 4). These functions will not be directly callable after loading.\n"
     ]
    },
    {
     "name": "stdout",
     "output_type": "stream",
     "text": [
      "INFO:tensorflow:Assets written to: ..\\models\\charCNN_GRU\\simple\\assets\n"
     ]
    },
    {
     "name": "stderr",
     "output_type": "stream",
     "text": [
      "INFO:tensorflow:Assets written to: ..\\models\\charCNN_GRU\\simple\\assets\n"
     ]
    },
    {
     "name": "stdout",
     "output_type": "stream",
     "text": [
      "81/81 [==============================] - 11s 135ms/step - loss: 0.3592 - accuracy: 0.8333 - val_loss: 0.3868 - val_accuracy: 0.8171\n",
      "Epoch 29/200\n",
      "81/81 [==============================] - 7s 84ms/step - loss: 0.4019 - accuracy: 0.8055 - val_loss: 0.4152 - val_accuracy: 0.7871\n",
      "Epoch 30/200\n",
      "81/81 [==============================] - ETA: 0s - loss: 0.3760 - accuracy: 0.8258"
     ]
    },
    {
     "name": "stderr",
     "output_type": "stream",
     "text": [
      "WARNING:absl:Found untraced functions such as gru_cell_1_layer_call_fn, gru_cell_1_layer_call_and_return_conditional_losses, gru_cell_2_layer_call_fn, gru_cell_2_layer_call_and_return_conditional_losses while saving (showing 4 of 4). These functions will not be directly callable after loading.\n"
     ]
    },
    {
     "name": "stdout",
     "output_type": "stream",
     "text": [
      "INFO:tensorflow:Assets written to: ..\\models\\charCNN_GRU\\simple\\assets\n"
     ]
    },
    {
     "name": "stderr",
     "output_type": "stream",
     "text": [
      "INFO:tensorflow:Assets written to: ..\\models\\charCNN_GRU\\simple\\assets\n"
     ]
    },
    {
     "name": "stdout",
     "output_type": "stream",
     "text": [
      "81/81 [==============================] - 11s 135ms/step - loss: 0.3760 - accuracy: 0.8258 - val_loss: 0.3840 - val_accuracy: 0.8249\n",
      "Epoch 31/200\n",
      "81/81 [==============================] - ETA: 0s - loss: 0.3596 - accuracy: 0.8354"
     ]
    },
    {
     "name": "stderr",
     "output_type": "stream",
     "text": [
      "WARNING:absl:Found untraced functions such as gru_cell_1_layer_call_fn, gru_cell_1_layer_call_and_return_conditional_losses, gru_cell_2_layer_call_fn, gru_cell_2_layer_call_and_return_conditional_losses while saving (showing 4 of 4). These functions will not be directly callable after loading.\n"
     ]
    },
    {
     "name": "stdout",
     "output_type": "stream",
     "text": [
      "INFO:tensorflow:Assets written to: ..\\models\\charCNN_GRU\\simple\\assets\n"
     ]
    },
    {
     "name": "stderr",
     "output_type": "stream",
     "text": [
      "INFO:tensorflow:Assets written to: ..\\models\\charCNN_GRU\\simple\\assets\n"
     ]
    },
    {
     "name": "stdout",
     "output_type": "stream",
     "text": [
      "81/81 [==============================] - 11s 137ms/step - loss: 0.3596 - accuracy: 0.8354 - val_loss: 0.3824 - val_accuracy: 0.8145\n",
      "Epoch 32/200\n",
      "81/81 [==============================] - ETA: 0s - loss: 0.3508 - accuracy: 0.8376"
     ]
    },
    {
     "name": "stderr",
     "output_type": "stream",
     "text": [
      "WARNING:absl:Found untraced functions such as gru_cell_1_layer_call_fn, gru_cell_1_layer_call_and_return_conditional_losses, gru_cell_2_layer_call_fn, gru_cell_2_layer_call_and_return_conditional_losses while saving (showing 4 of 4). These functions will not be directly callable after loading.\n"
     ]
    },
    {
     "name": "stdout",
     "output_type": "stream",
     "text": [
      "INFO:tensorflow:Assets written to: ..\\models\\charCNN_GRU\\simple\\assets\n"
     ]
    },
    {
     "name": "stderr",
     "output_type": "stream",
     "text": [
      "INFO:tensorflow:Assets written to: ..\\models\\charCNN_GRU\\simple\\assets\n"
     ]
    },
    {
     "name": "stdout",
     "output_type": "stream",
     "text": [
      "81/81 [==============================] - 11s 137ms/step - loss: 0.3508 - accuracy: 0.8376 - val_loss: 0.3706 - val_accuracy: 0.8241\n",
      "Epoch 33/200\n",
      "81/81 [==============================] - ETA: 0s - loss: 0.3429 - accuracy: 0.8427"
     ]
    },
    {
     "name": "stderr",
     "output_type": "stream",
     "text": [
      "WARNING:absl:Found untraced functions such as gru_cell_1_layer_call_fn, gru_cell_1_layer_call_and_return_conditional_losses, gru_cell_2_layer_call_fn, gru_cell_2_layer_call_and_return_conditional_losses while saving (showing 4 of 4). These functions will not be directly callable after loading.\n"
     ]
    },
    {
     "name": "stdout",
     "output_type": "stream",
     "text": [
      "INFO:tensorflow:Assets written to: ..\\models\\charCNN_GRU\\simple\\assets\n"
     ]
    },
    {
     "name": "stderr",
     "output_type": "stream",
     "text": [
      "INFO:tensorflow:Assets written to: ..\\models\\charCNN_GRU\\simple\\assets\n"
     ]
    },
    {
     "name": "stdout",
     "output_type": "stream",
     "text": [
      "81/81 [==============================] - 11s 136ms/step - loss: 0.3429 - accuracy: 0.8427 - val_loss: 0.3703 - val_accuracy: 0.8245\n",
      "Epoch 34/200\n",
      "81/81 [==============================] - 7s 83ms/step - loss: 0.3466 - accuracy: 0.8402 - val_loss: 0.3722 - val_accuracy: 0.8258\n",
      "Epoch 35/200\n",
      "81/81 [==============================] - ETA: 0s - loss: 0.3379 - accuracy: 0.8454"
     ]
    },
    {
     "name": "stderr",
     "output_type": "stream",
     "text": [
      "WARNING:absl:Found untraced functions such as gru_cell_1_layer_call_fn, gru_cell_1_layer_call_and_return_conditional_losses, gru_cell_2_layer_call_fn, gru_cell_2_layer_call_and_return_conditional_losses while saving (showing 4 of 4). These functions will not be directly callable after loading.\n"
     ]
    },
    {
     "name": "stdout",
     "output_type": "stream",
     "text": [
      "INFO:tensorflow:Assets written to: ..\\models\\charCNN_GRU\\simple\\assets\n"
     ]
    },
    {
     "name": "stderr",
     "output_type": "stream",
     "text": [
      "INFO:tensorflow:Assets written to: ..\\models\\charCNN_GRU\\simple\\assets\n"
     ]
    },
    {
     "name": "stdout",
     "output_type": "stream",
     "text": [
      "81/81 [==============================] - 11s 136ms/step - loss: 0.3379 - accuracy: 0.8454 - val_loss: 0.3670 - val_accuracy: 0.8236\n",
      "Epoch 36/200\n",
      "81/81 [==============================] - 7s 84ms/step - loss: 0.6344 - accuracy: 0.7026 - val_loss: 0.6887 - val_accuracy: 0.5426\n",
      "Epoch 37/200\n",
      "81/81 [==============================] - 7s 83ms/step - loss: 0.6923 - accuracy: 0.5684 - val_loss: 0.6324 - val_accuracy: 0.6064\n",
      "Epoch 38/200\n",
      "81/81 [==============================] - 7s 84ms/step - loss: 0.6498 - accuracy: 0.6067 - val_loss: 0.6157 - val_accuracy: 0.6177\n",
      "Epoch 39/200\n",
      "81/81 [==============================] - 7s 82ms/step - loss: 0.6303 - accuracy: 0.6187 - val_loss: 0.6150 - val_accuracy: 0.6138\n",
      "Epoch 40/200\n",
      "81/81 [==============================] - 7s 82ms/step - loss: 0.6221 - accuracy: 0.6247 - val_loss: 0.6043 - val_accuracy: 0.6182\n",
      "Epoch 41/200\n",
      "81/81 [==============================] - 7s 84ms/step - loss: 0.6149 - accuracy: 0.6253 - val_loss: 0.6000 - val_accuracy: 0.6286\n",
      "Epoch 42/200\n",
      "81/81 [==============================] - 7s 84ms/step - loss: 0.6088 - accuracy: 0.6307 - val_loss: 0.5970 - val_accuracy: 0.6255\n",
      "Epoch 43/200\n",
      "81/81 [==============================] - 7s 84ms/step - loss: 0.6042 - accuracy: 0.6293 - val_loss: 0.5951 - val_accuracy: 0.6268\n",
      "Epoch 44/200\n",
      "81/81 [==============================] - 7s 84ms/step - loss: 0.6013 - accuracy: 0.6342 - val_loss: 0.5951 - val_accuracy: 0.6286\n",
      "Epoch 45/200\n",
      "81/81 [==============================] - 7s 83ms/step - loss: 0.5974 - accuracy: 0.6375 - val_loss: 0.5927 - val_accuracy: 0.6303\n"
     ]
    },
    {
     "data": {
      "text/plain": "<keras.callbacks.History at 0x16aa6626fa0>"
     },
     "execution_count": 4,
     "metadata": {},
     "output_type": "execute_result"
    }
   ],
   "source": [
    "# Train CNN model.\n",
    "os.makedirs(MODELS_DIR, exist_ok=True)\n",
    "early_stopping = keras.callbacks.EarlyStopping(monitor='val_loss', patience=10, restore_best_weights=True)\n",
    "save_best = keras.callbacks.ModelCheckpoint(os.path.join(MODELS_DIR, \"simple\"), monitor='val_loss',\n",
    "                                            save_best_only=True, restore_best_weights=True)\n",
    "model.fit(np.array(train_features), np.array(train_labels), batch_size=256, epochs=EPOCHS,\n",
    "          validation_data=(np.array(val_features), np.array(val_labels)),\n",
    "          callbacks=[early_stopping, save_best])"
   ]
  },
  {
   "cell_type": "code",
   "execution_count": 5,
   "metadata": {
    "colab": {},
    "colab_type": "code",
    "id": "twMr4Dz5KJdG",
    "ExecuteTime": {
     "end_time": "2023-11-27T20:17:07.216491300Z",
     "start_time": "2023-11-27T20:17:05.659492800Z"
    }
   },
   "outputs": [
    {
     "name": "stdout",
     "output_type": "stream",
     "text": [
      "80/80 [==============================] - 1s 15ms/step\n"
     ]
    },
    {
     "data": {
      "text/plain": "{'balanced_accuracy': 0.8322305359937403,\n 'f1_score': 0.8443960826985855,\n 'precision': 0.7880839539607312,\n 'recall': 0.909375}"
     },
     "execution_count": 5,
     "metadata": {},
     "output_type": "execute_result"
    }
   ],
   "source": [
    "probas = model.predict(np.array(test_features))\n",
    "y_pred = proba_to_pred(probas)\n",
    "results = calculate_metrics(test_labels, y_pred)\n",
    "results"
   ]
  },
  {
   "cell_type": "markdown",
   "metadata": {},
   "source": [
    "# Lemmatized data "
   ]
  },
  {
   "cell_type": "code",
   "execution_count": 6,
   "metadata": {
    "ExecuteTime": {
     "end_time": "2023-11-27T20:17:08.301492300Z",
     "start_time": "2023-11-27T20:17:07.218492600Z"
    }
   },
   "outputs": [
    {
     "name": "stdout",
     "output_type": "stream",
     "text": [
      "Model: \"model_1\"\n",
      "_________________________________________________________________\n",
      " Layer (type)                Output Shape              Param #   \n",
      "=================================================================\n",
      " input_2 (InputLayer)        [(None, 320)]             0         \n",
      "                                                                 \n",
      " embedding_1 (Embedding)     (None, 320, 32)           3360      \n",
      "                                                                 \n",
      " bidirectional_1 (Bidirectio  (None, 1024)             1677312   \n",
      " nal)                                                            \n",
      "                                                                 \n",
      " dropout_1 (Dropout)         (None, 1024)              0         \n",
      "                                                                 \n",
      " dense_1 (Dense)             (None, 1)                 1025      \n",
      "                                                                 \n",
      "=================================================================\n",
      "Total params: 1,681,697\n",
      "Trainable params: 1,681,697\n",
      "Non-trainable params: 0\n",
      "_________________________________________________________________\n",
      "None\n"
     ]
    }
   ],
   "source": [
    "LEMMATIZED_DATA_PATH = os.path.join('..', 'data', 'lemmatized')\n",
    "lem_train_features, lem_val_features, lem_test_features, lem_train_labels, lem_val_labels, lem_test_labels, lem_vocab_size = prepare_data(\n",
    "    LEMMATIZED_DATA_PATH)\n",
    "\n",
    "modelLEM = buildCharGRUModel(lem_vocab_size, embSize=32, inputSize=320)"
   ]
  },
  {
   "cell_type": "code",
   "execution_count": 7,
   "metadata": {
    "colab": {
     "base_uri": "https://localhost:8080/",
     "height": 340
    },
    "colab_type": "code",
    "executionInfo": {
     "elapsed": 116648,
     "status": "ok",
     "timestamp": 1595414640240,
     "user": {
      "displayName": "tizfa data",
      "photoUrl": "",
      "userId": "14479436635515447323"
     },
     "user_tz": -120
    },
    "id": "MFxq59MLEtkh",
    "outputId": "e924c92f-268d-44aa-817b-50248216c2d2",
    "ExecuteTime": {
     "end_time": "2023-11-27T20:24:17.536912100Z",
     "start_time": "2023-11-27T20:17:08.300490700Z"
    }
   },
   "outputs": [
    {
     "name": "stdout",
     "output_type": "stream",
     "text": [
      "Epoch 1/200\n",
      "81/81 [==============================] - ETA: 0s - loss: 0.6511 - accuracy: 0.6133"
     ]
    },
    {
     "name": "stderr",
     "output_type": "stream",
     "text": [
      "WARNING:absl:Found untraced functions such as gru_cell_4_layer_call_fn, gru_cell_4_layer_call_and_return_conditional_losses, gru_cell_5_layer_call_fn, gru_cell_5_layer_call_and_return_conditional_losses while saving (showing 4 of 4). These functions will not be directly callable after loading.\n"
     ]
    },
    {
     "name": "stdout",
     "output_type": "stream",
     "text": [
      "INFO:tensorflow:Assets written to: ..\\models\\charCNN_GRU\\lemmatized\\assets\n"
     ]
    },
    {
     "name": "stderr",
     "output_type": "stream",
     "text": [
      "INFO:tensorflow:Assets written to: ..\\models\\charCNN_GRU\\lemmatized\\assets\n"
     ]
    },
    {
     "name": "stdout",
     "output_type": "stream",
     "text": [
      "81/81 [==============================] - 13s 141ms/step - loss: 0.6511 - accuracy: 0.6133 - val_loss: 0.6047 - val_accuracy: 0.6186\n",
      "Epoch 2/200\n",
      "81/81 [==============================] - ETA: 0s - loss: 0.5934 - accuracy: 0.6328"
     ]
    },
    {
     "name": "stderr",
     "output_type": "stream",
     "text": [
      "WARNING:absl:Found untraced functions such as gru_cell_4_layer_call_fn, gru_cell_4_layer_call_and_return_conditional_losses, gru_cell_5_layer_call_fn, gru_cell_5_layer_call_and_return_conditional_losses while saving (showing 4 of 4). These functions will not be directly callable after loading.\n"
     ]
    },
    {
     "name": "stdout",
     "output_type": "stream",
     "text": [
      "INFO:tensorflow:Assets written to: ..\\models\\charCNN_GRU\\lemmatized\\assets\n"
     ]
    },
    {
     "name": "stderr",
     "output_type": "stream",
     "text": [
      "INFO:tensorflow:Assets written to: ..\\models\\charCNN_GRU\\lemmatized\\assets\n"
     ]
    },
    {
     "name": "stdout",
     "output_type": "stream",
     "text": [
      "81/81 [==============================] - 11s 137ms/step - loss: 0.5934 - accuracy: 0.6328 - val_loss: 0.5865 - val_accuracy: 0.6381\n",
      "Epoch 3/200\n",
      "81/81 [==============================] - ETA: 0s - loss: 0.5821 - accuracy: 0.6480"
     ]
    },
    {
     "name": "stderr",
     "output_type": "stream",
     "text": [
      "WARNING:absl:Found untraced functions such as gru_cell_4_layer_call_fn, gru_cell_4_layer_call_and_return_conditional_losses, gru_cell_5_layer_call_fn, gru_cell_5_layer_call_and_return_conditional_losses while saving (showing 4 of 4). These functions will not be directly callable after loading.\n"
     ]
    },
    {
     "name": "stdout",
     "output_type": "stream",
     "text": [
      "INFO:tensorflow:Assets written to: ..\\models\\charCNN_GRU\\lemmatized\\assets\n"
     ]
    },
    {
     "name": "stderr",
     "output_type": "stream",
     "text": [
      "INFO:tensorflow:Assets written to: ..\\models\\charCNN_GRU\\lemmatized\\assets\n"
     ]
    },
    {
     "name": "stdout",
     "output_type": "stream",
     "text": [
      "81/81 [==============================] - 11s 137ms/step - loss: 0.5821 - accuracy: 0.6480 - val_loss: 0.5808 - val_accuracy: 0.6407\n",
      "Epoch 4/200\n",
      "81/81 [==============================] - ETA: 0s - loss: 0.5761 - accuracy: 0.6629"
     ]
    },
    {
     "name": "stderr",
     "output_type": "stream",
     "text": [
      "WARNING:absl:Found untraced functions such as gru_cell_4_layer_call_fn, gru_cell_4_layer_call_and_return_conditional_losses, gru_cell_5_layer_call_fn, gru_cell_5_layer_call_and_return_conditional_losses while saving (showing 4 of 4). These functions will not be directly callable after loading.\n"
     ]
    },
    {
     "name": "stdout",
     "output_type": "stream",
     "text": [
      "INFO:tensorflow:Assets written to: ..\\models\\charCNN_GRU\\lemmatized\\assets\n"
     ]
    },
    {
     "name": "stderr",
     "output_type": "stream",
     "text": [
      "INFO:tensorflow:Assets written to: ..\\models\\charCNN_GRU\\lemmatized\\assets\n"
     ]
    },
    {
     "name": "stdout",
     "output_type": "stream",
     "text": [
      "81/81 [==============================] - 11s 137ms/step - loss: 0.5761 - accuracy: 0.6629 - val_loss: 0.5726 - val_accuracy: 0.6677\n",
      "Epoch 5/200\n",
      "81/81 [==============================] - 7s 85ms/step - loss: 0.5958 - accuracy: 0.6681 - val_loss: 0.5798 - val_accuracy: 0.6447\n",
      "Epoch 6/200\n",
      "81/81 [==============================] - 7s 85ms/step - loss: 0.5767 - accuracy: 0.6537 - val_loss: 0.5752 - val_accuracy: 0.6573\n",
      "Epoch 7/200\n",
      "81/81 [==============================] - ETA: 0s - loss: 0.5734 - accuracy: 0.6630"
     ]
    },
    {
     "name": "stderr",
     "output_type": "stream",
     "text": [
      "WARNING:absl:Found untraced functions such as gru_cell_4_layer_call_fn, gru_cell_4_layer_call_and_return_conditional_losses, gru_cell_5_layer_call_fn, gru_cell_5_layer_call_and_return_conditional_losses while saving (showing 4 of 4). These functions will not be directly callable after loading.\n"
     ]
    },
    {
     "name": "stdout",
     "output_type": "stream",
     "text": [
      "INFO:tensorflow:Assets written to: ..\\models\\charCNN_GRU\\lemmatized\\assets\n"
     ]
    },
    {
     "name": "stderr",
     "output_type": "stream",
     "text": [
      "INFO:tensorflow:Assets written to: ..\\models\\charCNN_GRU\\lemmatized\\assets\n"
     ]
    },
    {
     "name": "stdout",
     "output_type": "stream",
     "text": [
      "81/81 [==============================] - 11s 137ms/step - loss: 0.5734 - accuracy: 0.6630 - val_loss: 0.5709 - val_accuracy: 0.6690\n",
      "Epoch 8/200\n",
      "81/81 [==============================] - ETA: 0s - loss: 0.5683 - accuracy: 0.6694"
     ]
    },
    {
     "name": "stderr",
     "output_type": "stream",
     "text": [
      "WARNING:absl:Found untraced functions such as gru_cell_4_layer_call_fn, gru_cell_4_layer_call_and_return_conditional_losses, gru_cell_5_layer_call_fn, gru_cell_5_layer_call_and_return_conditional_losses while saving (showing 4 of 4). These functions will not be directly callable after loading.\n"
     ]
    },
    {
     "name": "stdout",
     "output_type": "stream",
     "text": [
      "INFO:tensorflow:Assets written to: ..\\models\\charCNN_GRU\\lemmatized\\assets\n"
     ]
    },
    {
     "name": "stderr",
     "output_type": "stream",
     "text": [
      "INFO:tensorflow:Assets written to: ..\\models\\charCNN_GRU\\lemmatized\\assets\n"
     ]
    },
    {
     "name": "stdout",
     "output_type": "stream",
     "text": [
      "81/81 [==============================] - 11s 138ms/step - loss: 0.5683 - accuracy: 0.6694 - val_loss: 0.5531 - val_accuracy: 0.6842\n",
      "Epoch 9/200\n",
      "81/81 [==============================] - ETA: 0s - loss: 0.4831 - accuracy: 0.7675"
     ]
    },
    {
     "name": "stderr",
     "output_type": "stream",
     "text": [
      "WARNING:absl:Found untraced functions such as gru_cell_4_layer_call_fn, gru_cell_4_layer_call_and_return_conditional_losses, gru_cell_5_layer_call_fn, gru_cell_5_layer_call_and_return_conditional_losses while saving (showing 4 of 4). These functions will not be directly callable after loading.\n"
     ]
    },
    {
     "name": "stdout",
     "output_type": "stream",
     "text": [
      "INFO:tensorflow:Assets written to: ..\\models\\charCNN_GRU\\lemmatized\\assets\n"
     ]
    },
    {
     "name": "stderr",
     "output_type": "stream",
     "text": [
      "INFO:tensorflow:Assets written to: ..\\models\\charCNN_GRU\\lemmatized\\assets\n"
     ]
    },
    {
     "name": "stdout",
     "output_type": "stream",
     "text": [
      "81/81 [==============================] - 11s 135ms/step - loss: 0.4831 - accuracy: 0.7675 - val_loss: 0.4396 - val_accuracy: 0.7732\n",
      "Epoch 10/200\n",
      "81/81 [==============================] - ETA: 0s - loss: 0.4146 - accuracy: 0.7989"
     ]
    },
    {
     "name": "stderr",
     "output_type": "stream",
     "text": [
      "WARNING:absl:Found untraced functions such as gru_cell_4_layer_call_fn, gru_cell_4_layer_call_and_return_conditional_losses, gru_cell_5_layer_call_fn, gru_cell_5_layer_call_and_return_conditional_losses while saving (showing 4 of 4). These functions will not be directly callable after loading.\n"
     ]
    },
    {
     "name": "stdout",
     "output_type": "stream",
     "text": [
      "INFO:tensorflow:Assets written to: ..\\models\\charCNN_GRU\\lemmatized\\assets\n"
     ]
    },
    {
     "name": "stderr",
     "output_type": "stream",
     "text": [
      "INFO:tensorflow:Assets written to: ..\\models\\charCNN_GRU\\lemmatized\\assets\n"
     ]
    },
    {
     "name": "stdout",
     "output_type": "stream",
     "text": [
      "81/81 [==============================] - 11s 135ms/step - loss: 0.4146 - accuracy: 0.7989 - val_loss: 0.4243 - val_accuracy: 0.7963\n",
      "Epoch 11/200\n",
      "81/81 [==============================] - ETA: 0s - loss: 0.4026 - accuracy: 0.8076"
     ]
    },
    {
     "name": "stderr",
     "output_type": "stream",
     "text": [
      "WARNING:absl:Found untraced functions such as gru_cell_4_layer_call_fn, gru_cell_4_layer_call_and_return_conditional_losses, gru_cell_5_layer_call_fn, gru_cell_5_layer_call_and_return_conditional_losses while saving (showing 4 of 4). These functions will not be directly callable after loading.\n"
     ]
    },
    {
     "name": "stdout",
     "output_type": "stream",
     "text": [
      "INFO:tensorflow:Assets written to: ..\\models\\charCNN_GRU\\lemmatized\\assets\n"
     ]
    },
    {
     "name": "stderr",
     "output_type": "stream",
     "text": [
      "INFO:tensorflow:Assets written to: ..\\models\\charCNN_GRU\\lemmatized\\assets\n"
     ]
    },
    {
     "name": "stdout",
     "output_type": "stream",
     "text": [
      "81/81 [==============================] - 11s 135ms/step - loss: 0.4026 - accuracy: 0.8076 - val_loss: 0.4167 - val_accuracy: 0.8015\n",
      "Epoch 12/200\n",
      "81/81 [==============================] - ETA: 0s - loss: 0.3951 - accuracy: 0.8124"
     ]
    },
    {
     "name": "stderr",
     "output_type": "stream",
     "text": [
      "WARNING:absl:Found untraced functions such as gru_cell_4_layer_call_fn, gru_cell_4_layer_call_and_return_conditional_losses, gru_cell_5_layer_call_fn, gru_cell_5_layer_call_and_return_conditional_losses while saving (showing 4 of 4). These functions will not be directly callable after loading.\n"
     ]
    },
    {
     "name": "stdout",
     "output_type": "stream",
     "text": [
      "INFO:tensorflow:Assets written to: ..\\models\\charCNN_GRU\\lemmatized\\assets\n"
     ]
    },
    {
     "name": "stderr",
     "output_type": "stream",
     "text": [
      "INFO:tensorflow:Assets written to: ..\\models\\charCNN_GRU\\lemmatized\\assets\n"
     ]
    },
    {
     "name": "stdout",
     "output_type": "stream",
     "text": [
      "81/81 [==============================] - 11s 136ms/step - loss: 0.3951 - accuracy: 0.8124 - val_loss: 0.4096 - val_accuracy: 0.8084\n",
      "Epoch 13/200\n",
      "81/81 [==============================] - ETA: 0s - loss: 0.3919 - accuracy: 0.8190"
     ]
    },
    {
     "name": "stderr",
     "output_type": "stream",
     "text": [
      "WARNING:absl:Found untraced functions such as gru_cell_4_layer_call_fn, gru_cell_4_layer_call_and_return_conditional_losses, gru_cell_5_layer_call_fn, gru_cell_5_layer_call_and_return_conditional_losses while saving (showing 4 of 4). These functions will not be directly callable after loading.\n"
     ]
    },
    {
     "name": "stdout",
     "output_type": "stream",
     "text": [
      "INFO:tensorflow:Assets written to: ..\\models\\charCNN_GRU\\lemmatized\\assets\n"
     ]
    },
    {
     "name": "stderr",
     "output_type": "stream",
     "text": [
      "INFO:tensorflow:Assets written to: ..\\models\\charCNN_GRU\\lemmatized\\assets\n"
     ]
    },
    {
     "name": "stdout",
     "output_type": "stream",
     "text": [
      "81/81 [==============================] - 11s 135ms/step - loss: 0.3919 - accuracy: 0.8190 - val_loss: 0.4065 - val_accuracy: 0.8089\n",
      "Epoch 14/200\n",
      "81/81 [==============================] - ETA: 0s - loss: 0.3859 - accuracy: 0.8234"
     ]
    },
    {
     "name": "stderr",
     "output_type": "stream",
     "text": [
      "WARNING:absl:Found untraced functions such as gru_cell_4_layer_call_fn, gru_cell_4_layer_call_and_return_conditional_losses, gru_cell_5_layer_call_fn, gru_cell_5_layer_call_and_return_conditional_losses while saving (showing 4 of 4). These functions will not be directly callable after loading.\n"
     ]
    },
    {
     "name": "stdout",
     "output_type": "stream",
     "text": [
      "INFO:tensorflow:Assets written to: ..\\models\\charCNN_GRU\\lemmatized\\assets\n"
     ]
    },
    {
     "name": "stderr",
     "output_type": "stream",
     "text": [
      "INFO:tensorflow:Assets written to: ..\\models\\charCNN_GRU\\lemmatized\\assets\n"
     ]
    },
    {
     "name": "stdout",
     "output_type": "stream",
     "text": [
      "81/81 [==============================] - 11s 135ms/step - loss: 0.3859 - accuracy: 0.8234 - val_loss: 0.3970 - val_accuracy: 0.8180\n",
      "Epoch 15/200\n",
      "81/81 [==============================] - ETA: 0s - loss: 0.3814 - accuracy: 0.8281"
     ]
    },
    {
     "name": "stderr",
     "output_type": "stream",
     "text": [
      "WARNING:absl:Found untraced functions such as gru_cell_4_layer_call_fn, gru_cell_4_layer_call_and_return_conditional_losses, gru_cell_5_layer_call_fn, gru_cell_5_layer_call_and_return_conditional_losses while saving (showing 4 of 4). These functions will not be directly callable after loading.\n"
     ]
    },
    {
     "name": "stdout",
     "output_type": "stream",
     "text": [
      "INFO:tensorflow:Assets written to: ..\\models\\charCNN_GRU\\lemmatized\\assets\n"
     ]
    },
    {
     "name": "stderr",
     "output_type": "stream",
     "text": [
      "INFO:tensorflow:Assets written to: ..\\models\\charCNN_GRU\\lemmatized\\assets\n"
     ]
    },
    {
     "name": "stdout",
     "output_type": "stream",
     "text": [
      "81/81 [==============================] - 11s 137ms/step - loss: 0.3814 - accuracy: 0.8281 - val_loss: 0.3938 - val_accuracy: 0.8215\n",
      "Epoch 16/200\n",
      "81/81 [==============================] - 7s 83ms/step - loss: 0.3788 - accuracy: 0.8289 - val_loss: 0.3991 - val_accuracy: 0.8162\n",
      "Epoch 17/200\n",
      "81/81 [==============================] - ETA: 0s - loss: 0.3745 - accuracy: 0.8307"
     ]
    },
    {
     "name": "stderr",
     "output_type": "stream",
     "text": [
      "WARNING:absl:Found untraced functions such as gru_cell_4_layer_call_fn, gru_cell_4_layer_call_and_return_conditional_losses, gru_cell_5_layer_call_fn, gru_cell_5_layer_call_and_return_conditional_losses while saving (showing 4 of 4). These functions will not be directly callable after loading.\n"
     ]
    },
    {
     "name": "stdout",
     "output_type": "stream",
     "text": [
      "INFO:tensorflow:Assets written to: ..\\models\\charCNN_GRU\\lemmatized\\assets\n"
     ]
    },
    {
     "name": "stderr",
     "output_type": "stream",
     "text": [
      "INFO:tensorflow:Assets written to: ..\\models\\charCNN_GRU\\lemmatized\\assets\n"
     ]
    },
    {
     "name": "stdout",
     "output_type": "stream",
     "text": [
      "81/81 [==============================] - 11s 134ms/step - loss: 0.3745 - accuracy: 0.8307 - val_loss: 0.3841 - val_accuracy: 0.8202\n",
      "Epoch 18/200\n",
      "81/81 [==============================] - ETA: 0s - loss: 0.3747 - accuracy: 0.8306"
     ]
    },
    {
     "name": "stderr",
     "output_type": "stream",
     "text": [
      "WARNING:absl:Found untraced functions such as gru_cell_4_layer_call_fn, gru_cell_4_layer_call_and_return_conditional_losses, gru_cell_5_layer_call_fn, gru_cell_5_layer_call_and_return_conditional_losses while saving (showing 4 of 4). These functions will not be directly callable after loading.\n"
     ]
    },
    {
     "name": "stdout",
     "output_type": "stream",
     "text": [
      "INFO:tensorflow:Assets written to: ..\\models\\charCNN_GRU\\lemmatized\\assets\n"
     ]
    },
    {
     "name": "stderr",
     "output_type": "stream",
     "text": [
      "INFO:tensorflow:Assets written to: ..\\models\\charCNN_GRU\\lemmatized\\assets\n"
     ]
    },
    {
     "name": "stdout",
     "output_type": "stream",
     "text": [
      "81/81 [==============================] - 11s 136ms/step - loss: 0.3747 - accuracy: 0.8306 - val_loss: 0.3830 - val_accuracy: 0.8241\n",
      "Epoch 19/200\n",
      "81/81 [==============================] - ETA: 0s - loss: 0.3658 - accuracy: 0.8342"
     ]
    },
    {
     "name": "stderr",
     "output_type": "stream",
     "text": [
      "WARNING:absl:Found untraced functions such as gru_cell_4_layer_call_fn, gru_cell_4_layer_call_and_return_conditional_losses, gru_cell_5_layer_call_fn, gru_cell_5_layer_call_and_return_conditional_losses while saving (showing 4 of 4). These functions will not be directly callable after loading.\n"
     ]
    },
    {
     "name": "stdout",
     "output_type": "stream",
     "text": [
      "INFO:tensorflow:Assets written to: ..\\models\\charCNN_GRU\\lemmatized\\assets\n"
     ]
    },
    {
     "name": "stderr",
     "output_type": "stream",
     "text": [
      "INFO:tensorflow:Assets written to: ..\\models\\charCNN_GRU\\lemmatized\\assets\n"
     ]
    },
    {
     "name": "stdout",
     "output_type": "stream",
     "text": [
      "81/81 [==============================] - 11s 136ms/step - loss: 0.3658 - accuracy: 0.8342 - val_loss: 0.3793 - val_accuracy: 0.8254\n",
      "Epoch 20/200\n",
      "81/81 [==============================] - ETA: 0s - loss: 0.3619 - accuracy: 0.8382"
     ]
    },
    {
     "name": "stderr",
     "output_type": "stream",
     "text": [
      "WARNING:absl:Found untraced functions such as gru_cell_4_layer_call_fn, gru_cell_4_layer_call_and_return_conditional_losses, gru_cell_5_layer_call_fn, gru_cell_5_layer_call_and_return_conditional_losses while saving (showing 4 of 4). These functions will not be directly callable after loading.\n"
     ]
    },
    {
     "name": "stdout",
     "output_type": "stream",
     "text": [
      "INFO:tensorflow:Assets written to: ..\\models\\charCNN_GRU\\lemmatized\\assets\n"
     ]
    },
    {
     "name": "stderr",
     "output_type": "stream",
     "text": [
      "INFO:tensorflow:Assets written to: ..\\models\\charCNN_GRU\\lemmatized\\assets\n"
     ]
    },
    {
     "name": "stdout",
     "output_type": "stream",
     "text": [
      "81/81 [==============================] - 11s 136ms/step - loss: 0.3619 - accuracy: 0.8382 - val_loss: 0.3758 - val_accuracy: 0.8310\n",
      "Epoch 21/200\n",
      "81/81 [==============================] - ETA: 0s - loss: 0.3566 - accuracy: 0.8382"
     ]
    },
    {
     "name": "stderr",
     "output_type": "stream",
     "text": [
      "WARNING:absl:Found untraced functions such as gru_cell_4_layer_call_fn, gru_cell_4_layer_call_and_return_conditional_losses, gru_cell_5_layer_call_fn, gru_cell_5_layer_call_and_return_conditional_losses while saving (showing 4 of 4). These functions will not be directly callable after loading.\n"
     ]
    },
    {
     "name": "stdout",
     "output_type": "stream",
     "text": [
      "INFO:tensorflow:Assets written to: ..\\models\\charCNN_GRU\\lemmatized\\assets\n"
     ]
    },
    {
     "name": "stderr",
     "output_type": "stream",
     "text": [
      "INFO:tensorflow:Assets written to: ..\\models\\charCNN_GRU\\lemmatized\\assets\n"
     ]
    },
    {
     "name": "stdout",
     "output_type": "stream",
     "text": [
      "81/81 [==============================] - 11s 135ms/step - loss: 0.3566 - accuracy: 0.8382 - val_loss: 0.3709 - val_accuracy: 0.8249\n",
      "Epoch 22/200\n",
      "81/81 [==============================] - ETA: 0s - loss: 0.3533 - accuracy: 0.8388"
     ]
    },
    {
     "name": "stderr",
     "output_type": "stream",
     "text": [
      "WARNING:absl:Found untraced functions such as gru_cell_4_layer_call_fn, gru_cell_4_layer_call_and_return_conditional_losses, gru_cell_5_layer_call_fn, gru_cell_5_layer_call_and_return_conditional_losses while saving (showing 4 of 4). These functions will not be directly callable after loading.\n"
     ]
    },
    {
     "name": "stdout",
     "output_type": "stream",
     "text": [
      "INFO:tensorflow:Assets written to: ..\\models\\charCNN_GRU\\lemmatized\\assets\n"
     ]
    },
    {
     "name": "stderr",
     "output_type": "stream",
     "text": [
      "INFO:tensorflow:Assets written to: ..\\models\\charCNN_GRU\\lemmatized\\assets\n"
     ]
    },
    {
     "name": "stdout",
     "output_type": "stream",
     "text": [
      "81/81 [==============================] - 11s 136ms/step - loss: 0.3533 - accuracy: 0.8388 - val_loss: 0.3674 - val_accuracy: 0.8271\n",
      "Epoch 23/200\n",
      "81/81 [==============================] - ETA: 0s - loss: 0.3495 - accuracy: 0.8389"
     ]
    },
    {
     "name": "stderr",
     "output_type": "stream",
     "text": [
      "WARNING:absl:Found untraced functions such as gru_cell_4_layer_call_fn, gru_cell_4_layer_call_and_return_conditional_losses, gru_cell_5_layer_call_fn, gru_cell_5_layer_call_and_return_conditional_losses while saving (showing 4 of 4). These functions will not be directly callable after loading.\n"
     ]
    },
    {
     "name": "stdout",
     "output_type": "stream",
     "text": [
      "INFO:tensorflow:Assets written to: ..\\models\\charCNN_GRU\\lemmatized\\assets\n"
     ]
    },
    {
     "name": "stderr",
     "output_type": "stream",
     "text": [
      "INFO:tensorflow:Assets written to: ..\\models\\charCNN_GRU\\lemmatized\\assets\n"
     ]
    },
    {
     "name": "stdout",
     "output_type": "stream",
     "text": [
      "81/81 [==============================] - 11s 136ms/step - loss: 0.3495 - accuracy: 0.8389 - val_loss: 0.3653 - val_accuracy: 0.8358\n",
      "Epoch 24/200\n",
      "81/81 [==============================] - ETA: 0s - loss: 0.3489 - accuracy: 0.8389"
     ]
    },
    {
     "name": "stderr",
     "output_type": "stream",
     "text": [
      "WARNING:absl:Found untraced functions such as gru_cell_4_layer_call_fn, gru_cell_4_layer_call_and_return_conditional_losses, gru_cell_5_layer_call_fn, gru_cell_5_layer_call_and_return_conditional_losses while saving (showing 4 of 4). These functions will not be directly callable after loading.\n"
     ]
    },
    {
     "name": "stdout",
     "output_type": "stream",
     "text": [
      "INFO:tensorflow:Assets written to: ..\\models\\charCNN_GRU\\lemmatized\\assets\n"
     ]
    },
    {
     "name": "stderr",
     "output_type": "stream",
     "text": [
      "INFO:tensorflow:Assets written to: ..\\models\\charCNN_GRU\\lemmatized\\assets\n"
     ]
    },
    {
     "name": "stdout",
     "output_type": "stream",
     "text": [
      "81/81 [==============================] - 11s 136ms/step - loss: 0.3489 - accuracy: 0.8389 - val_loss: 0.3641 - val_accuracy: 0.8306\n",
      "Epoch 25/200\n",
      "81/81 [==============================] - ETA: 0s - loss: 0.3448 - accuracy: 0.8413"
     ]
    },
    {
     "name": "stderr",
     "output_type": "stream",
     "text": [
      "WARNING:absl:Found untraced functions such as gru_cell_4_layer_call_fn, gru_cell_4_layer_call_and_return_conditional_losses, gru_cell_5_layer_call_fn, gru_cell_5_layer_call_and_return_conditional_losses while saving (showing 4 of 4). These functions will not be directly callable after loading.\n"
     ]
    },
    {
     "name": "stdout",
     "output_type": "stream",
     "text": [
      "INFO:tensorflow:Assets written to: ..\\models\\charCNN_GRU\\lemmatized\\assets\n"
     ]
    },
    {
     "name": "stderr",
     "output_type": "stream",
     "text": [
      "INFO:tensorflow:Assets written to: ..\\models\\charCNN_GRU\\lemmatized\\assets\n"
     ]
    },
    {
     "name": "stdout",
     "output_type": "stream",
     "text": [
      "81/81 [==============================] - 11s 139ms/step - loss: 0.3448 - accuracy: 0.8413 - val_loss: 0.3641 - val_accuracy: 0.8280\n",
      "Epoch 26/200\n",
      "81/81 [==============================] - ETA: 0s - loss: 0.3426 - accuracy: 0.8433"
     ]
    },
    {
     "name": "stderr",
     "output_type": "stream",
     "text": [
      "WARNING:absl:Found untraced functions such as gru_cell_4_layer_call_fn, gru_cell_4_layer_call_and_return_conditional_losses, gru_cell_5_layer_call_fn, gru_cell_5_layer_call_and_return_conditional_losses while saving (showing 4 of 4). These functions will not be directly callable after loading.\n"
     ]
    },
    {
     "name": "stdout",
     "output_type": "stream",
     "text": [
      "INFO:tensorflow:Assets written to: ..\\models\\charCNN_GRU\\lemmatized\\assets\n"
     ]
    },
    {
     "name": "stderr",
     "output_type": "stream",
     "text": [
      "INFO:tensorflow:Assets written to: ..\\models\\charCNN_GRU\\lemmatized\\assets\n"
     ]
    },
    {
     "name": "stdout",
     "output_type": "stream",
     "text": [
      "81/81 [==============================] - 11s 137ms/step - loss: 0.3426 - accuracy: 0.8433 - val_loss: 0.3597 - val_accuracy: 0.8319\n",
      "Epoch 27/200\n",
      "81/81 [==============================] - ETA: 0s - loss: 0.3419 - accuracy: 0.8415"
     ]
    },
    {
     "name": "stderr",
     "output_type": "stream",
     "text": [
      "WARNING:absl:Found untraced functions such as gru_cell_4_layer_call_fn, gru_cell_4_layer_call_and_return_conditional_losses, gru_cell_5_layer_call_fn, gru_cell_5_layer_call_and_return_conditional_losses while saving (showing 4 of 4). These functions will not be directly callable after loading.\n"
     ]
    },
    {
     "name": "stdout",
     "output_type": "stream",
     "text": [
      "INFO:tensorflow:Assets written to: ..\\models\\charCNN_GRU\\lemmatized\\assets\n"
     ]
    },
    {
     "name": "stderr",
     "output_type": "stream",
     "text": [
      "INFO:tensorflow:Assets written to: ..\\models\\charCNN_GRU\\lemmatized\\assets\n"
     ]
    },
    {
     "name": "stdout",
     "output_type": "stream",
     "text": [
      "81/81 [==============================] - 11s 133ms/step - loss: 0.3419 - accuracy: 0.8415 - val_loss: 0.3543 - val_accuracy: 0.8349\n",
      "Epoch 28/200\n",
      "81/81 [==============================] - 7s 81ms/step - loss: 0.3352 - accuracy: 0.8454 - val_loss: 0.3580 - val_accuracy: 0.8349\n",
      "Epoch 29/200\n",
      "81/81 [==============================] - 7s 81ms/step - loss: 0.3338 - accuracy: 0.8453 - val_loss: 0.3554 - val_accuracy: 0.8393\n",
      "Epoch 30/200\n",
      "81/81 [==============================] - ETA: 0s - loss: 0.3288 - accuracy: 0.8469"
     ]
    },
    {
     "name": "stderr",
     "output_type": "stream",
     "text": [
      "WARNING:absl:Found untraced functions such as gru_cell_4_layer_call_fn, gru_cell_4_layer_call_and_return_conditional_losses, gru_cell_5_layer_call_fn, gru_cell_5_layer_call_and_return_conditional_losses while saving (showing 4 of 4). These functions will not be directly callable after loading.\n"
     ]
    },
    {
     "name": "stdout",
     "output_type": "stream",
     "text": [
      "INFO:tensorflow:Assets written to: ..\\models\\charCNN_GRU\\lemmatized\\assets\n"
     ]
    },
    {
     "name": "stderr",
     "output_type": "stream",
     "text": [
      "INFO:tensorflow:Assets written to: ..\\models\\charCNN_GRU\\lemmatized\\assets\n"
     ]
    },
    {
     "name": "stdout",
     "output_type": "stream",
     "text": [
      "81/81 [==============================] - 11s 133ms/step - loss: 0.3288 - accuracy: 0.8469 - val_loss: 0.3452 - val_accuracy: 0.8384\n",
      "Epoch 31/200\n",
      "81/81 [==============================] - 7s 81ms/step - loss: 0.3214 - accuracy: 0.8509 - val_loss: 0.3539 - val_accuracy: 0.8397\n",
      "Epoch 32/200\n",
      "81/81 [==============================] - 7s 82ms/step - loss: 0.3176 - accuracy: 0.8533 - val_loss: 0.3491 - val_accuracy: 0.8349\n",
      "Epoch 33/200\n",
      "81/81 [==============================] - 7s 81ms/step - loss: 0.3144 - accuracy: 0.8512 - val_loss: 0.3517 - val_accuracy: 0.8388\n",
      "Epoch 34/200\n",
      "81/81 [==============================] - 7s 82ms/step - loss: 0.3093 - accuracy: 0.8553 - val_loss: 0.3477 - val_accuracy: 0.8358\n",
      "Epoch 35/200\n",
      "81/81 [==============================] - ETA: 0s - loss: 0.3068 - accuracy: 0.8573"
     ]
    },
    {
     "name": "stderr",
     "output_type": "stream",
     "text": [
      "WARNING:absl:Found untraced functions such as gru_cell_4_layer_call_fn, gru_cell_4_layer_call_and_return_conditional_losses, gru_cell_5_layer_call_fn, gru_cell_5_layer_call_and_return_conditional_losses while saving (showing 4 of 4). These functions will not be directly callable after loading.\n"
     ]
    },
    {
     "name": "stdout",
     "output_type": "stream",
     "text": [
      "INFO:tensorflow:Assets written to: ..\\models\\charCNN_GRU\\lemmatized\\assets\n"
     ]
    },
    {
     "name": "stderr",
     "output_type": "stream",
     "text": [
      "INFO:tensorflow:Assets written to: ..\\models\\charCNN_GRU\\lemmatized\\assets\n"
     ]
    },
    {
     "name": "stdout",
     "output_type": "stream",
     "text": [
      "81/81 [==============================] - 11s 132ms/step - loss: 0.3068 - accuracy: 0.8573 - val_loss: 0.3434 - val_accuracy: 0.8397\n",
      "Epoch 36/200\n",
      "81/81 [==============================] - ETA: 0s - loss: 0.3042 - accuracy: 0.8577"
     ]
    },
    {
     "name": "stderr",
     "output_type": "stream",
     "text": [
      "WARNING:absl:Found untraced functions such as gru_cell_4_layer_call_fn, gru_cell_4_layer_call_and_return_conditional_losses, gru_cell_5_layer_call_fn, gru_cell_5_layer_call_and_return_conditional_losses while saving (showing 4 of 4). These functions will not be directly callable after loading.\n"
     ]
    },
    {
     "name": "stdout",
     "output_type": "stream",
     "text": [
      "INFO:tensorflow:Assets written to: ..\\models\\charCNN_GRU\\lemmatized\\assets\n"
     ]
    },
    {
     "name": "stderr",
     "output_type": "stream",
     "text": [
      "INFO:tensorflow:Assets written to: ..\\models\\charCNN_GRU\\lemmatized\\assets\n"
     ]
    },
    {
     "name": "stdout",
     "output_type": "stream",
     "text": [
      "81/81 [==============================] - 11s 135ms/step - loss: 0.3042 - accuracy: 0.8577 - val_loss: 0.3423 - val_accuracy: 0.8423\n",
      "Epoch 37/200\n",
      "81/81 [==============================] - 7s 81ms/step - loss: 0.2986 - accuracy: 0.8610 - val_loss: 0.3482 - val_accuracy: 0.8401\n",
      "Epoch 38/200\n",
      "81/81 [==============================] - 7s 81ms/step - loss: 0.2963 - accuracy: 0.8600 - val_loss: 0.3480 - val_accuracy: 0.8427\n",
      "Epoch 39/200\n",
      "81/81 [==============================] - 7s 82ms/step - loss: 0.2938 - accuracy: 0.8625 - val_loss: 0.3549 - val_accuracy: 0.8445\n",
      "Epoch 40/200\n",
      "81/81 [==============================] - 7s 82ms/step - loss: 0.2896 - accuracy: 0.8650 - val_loss: 0.3479 - val_accuracy: 0.8388\n",
      "Epoch 41/200\n",
      "81/81 [==============================] - 7s 81ms/step - loss: nan - accuracy: 0.5360 - val_loss: nan - val_accuracy: 0.4996\n",
      "Epoch 42/200\n",
      "81/81 [==============================] - 7s 81ms/step - loss: nan - accuracy: 0.5001 - val_loss: nan - val_accuracy: 0.4996\n",
      "Epoch 43/200\n",
      "81/81 [==============================] - 7s 81ms/step - loss: nan - accuracy: 0.5001 - val_loss: nan - val_accuracy: 0.4996\n",
      "Epoch 44/200\n",
      "81/81 [==============================] - 7s 81ms/step - loss: nan - accuracy: 0.5001 - val_loss: nan - val_accuracy: 0.4996\n",
      "Epoch 45/200\n",
      "81/81 [==============================] - 7s 81ms/step - loss: nan - accuracy: 0.5001 - val_loss: nan - val_accuracy: 0.4996\n",
      "Epoch 46/200\n",
      "81/81 [==============================] - 7s 81ms/step - loss: nan - accuracy: 0.5001 - val_loss: nan - val_accuracy: 0.4996\n"
     ]
    },
    {
     "data": {
      "text/plain": "<keras.callbacks.History at 0x16abfb43dc0>"
     },
     "execution_count": 7,
     "metadata": {},
     "output_type": "execute_result"
    }
   ],
   "source": [
    "# Train CNN model.\n",
    "early_stopping = keras.callbacks.EarlyStopping(monitor='val_loss', patience=10, restore_best_weights=True)\n",
    "save_best = keras.callbacks.ModelCheckpoint(os.path.join(MODELS_DIR, \"lemmatized\"), monitor='val_loss',\n",
    "                                            save_best_only=True, restore_best_weights=True)\n",
    "modelLEM.fit(np.array(lem_train_features), np.array(lem_train_labels), batch_size=256, epochs=EPOCHS,\n",
    "             validation_data=(np.array(lem_val_features), np.array(lem_val_labels)),\n",
    "             callbacks=[early_stopping, save_best])"
   ]
  },
  {
   "cell_type": "code",
   "execution_count": 8,
   "metadata": {
    "colab": {
     "base_uri": "https://localhost:8080/",
     "height": 901
    },
    "colab_type": "code",
    "executionInfo": {
     "elapsed": 1737212,
     "status": "ok",
     "timestamp": 1595416260810,
     "user": {
      "displayName": "tizfa data",
      "photoUrl": "",
      "userId": "14479436635515447323"
     },
     "user_tz": -120
    },
    "id": "EJNNwIy0LsZa",
    "outputId": "aa334d9e-5553-4ec4-a2db-1c472d81e3b6",
    "ExecuteTime": {
     "end_time": "2023-11-27T20:24:19.037910400Z",
     "start_time": "2023-11-27T20:24:17.537911800Z"
    }
   },
   "outputs": [
    {
     "name": "stdout",
     "output_type": "stream",
     "text": [
      "80/80 [==============================] - 1s 15ms/step\n"
     ]
    },
    {
     "data": {
      "text/plain": "{'balanced_accuracy': 0.8408340669014085,\n 'f1_score': 0.85183836912996,\n 'precision': 0.7975460122699386,\n 'recall': 0.9140625}"
     },
     "execution_count": 8,
     "metadata": {},
     "output_type": "execute_result"
    }
   ],
   "source": [
    "probas_lem = modelLEM.predict(np.array(lem_test_features))\n",
    "y_pred_lem = proba_to_pred(probas_lem)\n",
    "results_lem = calculate_metrics(lem_test_labels, y_pred_lem)\n",
    "results_lem"
   ]
  },
  {
   "cell_type": "markdown",
   "metadata": {},
   "source": [
    "# Stemmed data"
   ]
  },
  {
   "cell_type": "code",
   "execution_count": 9,
   "metadata": {
    "colab": {},
    "colab_type": "code",
    "id": "XMhDOQ0pL1RO",
    "ExecuteTime": {
     "end_time": "2023-11-27T20:24:20.054911200Z",
     "start_time": "2023-11-27T20:24:19.023911Z"
    }
   },
   "outputs": [
    {
     "name": "stdout",
     "output_type": "stream",
     "text": [
      "Model: \"model_2\"\n",
      "_________________________________________________________________\n",
      " Layer (type)                Output Shape              Param #   \n",
      "=================================================================\n",
      " input_3 (InputLayer)        [(None, 320)]             0         \n",
      "                                                                 \n",
      " embedding_2 (Embedding)     (None, 320, 32)           3360      \n",
      "                                                                 \n",
      " bidirectional_2 (Bidirectio  (None, 1024)             1677312   \n",
      " nal)                                                            \n",
      "                                                                 \n",
      " dropout_2 (Dropout)         (None, 1024)              0         \n",
      "                                                                 \n",
      " dense_2 (Dense)             (None, 1)                 1025      \n",
      "                                                                 \n",
      "=================================================================\n",
      "Total params: 1,681,697\n",
      "Trainable params: 1,681,697\n",
      "Non-trainable params: 0\n",
      "_________________________________________________________________\n",
      "None\n"
     ]
    }
   ],
   "source": [
    "STEMMED_DATA_PATH = os.path.join('..', 'data', 'stemmed')\n",
    "stem_train_features, stem_val_features, stem_test_features, stem_train_labels, stem_val_labels, stem_test_labels, stem_vocab_size = prepare_data(\n",
    "    STEMMED_DATA_PATH)\n",
    "\n",
    "modelSTEM = buildCharGRUModel(stem_vocab_size, embSize=32, inputSize=320)"
   ]
  },
  {
   "cell_type": "code",
   "execution_count": 10,
   "metadata": {
    "colab": {},
    "colab_type": "code",
    "id": "QPDhYLzto39C",
    "ExecuteTime": {
     "end_time": "2023-11-27T20:32:50.880363Z",
     "start_time": "2023-11-27T20:24:20.058910700Z"
    }
   },
   "outputs": [
    {
     "name": "stdout",
     "output_type": "stream",
     "text": [
      "Epoch 1/200\n",
      "81/81 [==============================] - ETA: 0s - loss: 0.6645 - accuracy: 0.6129"
     ]
    },
    {
     "name": "stderr",
     "output_type": "stream",
     "text": [
      "WARNING:absl:Found untraced functions such as gru_cell_7_layer_call_fn, gru_cell_7_layer_call_and_return_conditional_losses, gru_cell_8_layer_call_fn, gru_cell_8_layer_call_and_return_conditional_losses while saving (showing 4 of 4). These functions will not be directly callable after loading.\n"
     ]
    },
    {
     "name": "stdout",
     "output_type": "stream",
     "text": [
      "INFO:tensorflow:Assets written to: ..\\models\\charCNN_GRU\\stemmed\\assets\n"
     ]
    },
    {
     "name": "stderr",
     "output_type": "stream",
     "text": [
      "INFO:tensorflow:Assets written to: ..\\models\\charCNN_GRU\\stemmed\\assets\n"
     ]
    },
    {
     "name": "stdout",
     "output_type": "stream",
     "text": [
      "81/81 [==============================] - 12s 137ms/step - loss: 0.6645 - accuracy: 0.6129 - val_loss: 0.5912 - val_accuracy: 0.6247\n",
      "Epoch 2/200\n",
      "81/81 [==============================] - ETA: 0s - loss: 0.5836 - accuracy: 0.6535"
     ]
    },
    {
     "name": "stderr",
     "output_type": "stream",
     "text": [
      "WARNING:absl:Found untraced functions such as gru_cell_7_layer_call_fn, gru_cell_7_layer_call_and_return_conditional_losses, gru_cell_8_layer_call_fn, gru_cell_8_layer_call_and_return_conditional_losses while saving (showing 4 of 4). These functions will not be directly callable after loading.\n"
     ]
    },
    {
     "name": "stdout",
     "output_type": "stream",
     "text": [
      "INFO:tensorflow:Assets written to: ..\\models\\charCNN_GRU\\stemmed\\assets\n"
     ]
    },
    {
     "name": "stderr",
     "output_type": "stream",
     "text": [
      "INFO:tensorflow:Assets written to: ..\\models\\charCNN_GRU\\stemmed\\assets\n"
     ]
    },
    {
     "name": "stdout",
     "output_type": "stream",
     "text": [
      "81/81 [==============================] - 11s 132ms/step - loss: 0.5836 - accuracy: 0.6535 - val_loss: 0.5765 - val_accuracy: 0.6577\n",
      "Epoch 3/200\n",
      "81/81 [==============================] - 7s 81ms/step - loss: 0.5739 - accuracy: 0.6739 - val_loss: 0.5908 - val_accuracy: 0.6342\n",
      "Epoch 4/200\n",
      "81/81 [==============================] - 7s 81ms/step - loss: 0.5850 - accuracy: 0.6443 - val_loss: 0.5844 - val_accuracy: 0.6399\n",
      "Epoch 5/200\n",
      "81/81 [==============================] - 7s 81ms/step - loss: 0.5807 - accuracy: 0.6513 - val_loss: 0.5820 - val_accuracy: 0.6421\n",
      "Epoch 6/200\n",
      "81/81 [==============================] - 7s 81ms/step - loss: 0.5775 - accuracy: 0.6561 - val_loss: 0.5778 - val_accuracy: 0.6507\n",
      "Epoch 7/200\n",
      "81/81 [==============================] - ETA: 0s - loss: 0.5712 - accuracy: 0.6704"
     ]
    },
    {
     "name": "stderr",
     "output_type": "stream",
     "text": [
      "WARNING:absl:Found untraced functions such as gru_cell_7_layer_call_fn, gru_cell_7_layer_call_and_return_conditional_losses, gru_cell_8_layer_call_fn, gru_cell_8_layer_call_and_return_conditional_losses while saving (showing 4 of 4). These functions will not be directly callable after loading.\n"
     ]
    },
    {
     "name": "stdout",
     "output_type": "stream",
     "text": [
      "INFO:tensorflow:Assets written to: ..\\models\\charCNN_GRU\\stemmed\\assets\n"
     ]
    },
    {
     "name": "stderr",
     "output_type": "stream",
     "text": [
      "INFO:tensorflow:Assets written to: ..\\models\\charCNN_GRU\\stemmed\\assets\n"
     ]
    },
    {
     "name": "stdout",
     "output_type": "stream",
     "text": [
      "81/81 [==============================] - 11s 133ms/step - loss: 0.5712 - accuracy: 0.6704 - val_loss: 0.5454 - val_accuracy: 0.7242\n",
      "Epoch 8/200\n",
      "81/81 [==============================] - ETA: 0s - loss: 0.5145 - accuracy: 0.7440"
     ]
    },
    {
     "name": "stderr",
     "output_type": "stream",
     "text": [
      "WARNING:absl:Found untraced functions such as gru_cell_7_layer_call_fn, gru_cell_7_layer_call_and_return_conditional_losses, gru_cell_8_layer_call_fn, gru_cell_8_layer_call_and_return_conditional_losses while saving (showing 4 of 4). These functions will not be directly callable after loading.\n"
     ]
    },
    {
     "name": "stdout",
     "output_type": "stream",
     "text": [
      "INFO:tensorflow:Assets written to: ..\\models\\charCNN_GRU\\stemmed\\assets\n"
     ]
    },
    {
     "name": "stderr",
     "output_type": "stream",
     "text": [
      "INFO:tensorflow:Assets written to: ..\\models\\charCNN_GRU\\stemmed\\assets\n"
     ]
    },
    {
     "name": "stdout",
     "output_type": "stream",
     "text": [
      "81/81 [==============================] - 12s 139ms/step - loss: 0.5145 - accuracy: 0.7440 - val_loss: 0.4651 - val_accuracy: 0.7711\n",
      "Epoch 9/200\n",
      "81/81 [==============================] - ETA: 0s - loss: 0.4378 - accuracy: 0.7923"
     ]
    },
    {
     "name": "stderr",
     "output_type": "stream",
     "text": [
      "WARNING:absl:Found untraced functions such as gru_cell_7_layer_call_fn, gru_cell_7_layer_call_and_return_conditional_losses, gru_cell_8_layer_call_fn, gru_cell_8_layer_call_and_return_conditional_losses while saving (showing 4 of 4). These functions will not be directly callable after loading.\n"
     ]
    },
    {
     "name": "stdout",
     "output_type": "stream",
     "text": [
      "INFO:tensorflow:Assets written to: ..\\models\\charCNN_GRU\\stemmed\\assets\n"
     ]
    },
    {
     "name": "stderr",
     "output_type": "stream",
     "text": [
      "INFO:tensorflow:Assets written to: ..\\models\\charCNN_GRU\\stemmed\\assets\n"
     ]
    },
    {
     "name": "stdout",
     "output_type": "stream",
     "text": [
      "81/81 [==============================] - 11s 136ms/step - loss: 0.4378 - accuracy: 0.7923 - val_loss: 0.4537 - val_accuracy: 0.7724\n",
      "Epoch 10/200\n",
      "81/81 [==============================] - 7s 82ms/step - loss: 0.4376 - accuracy: 0.7928 - val_loss: 0.4543 - val_accuracy: 0.7719\n",
      "Epoch 11/200\n",
      "81/81 [==============================] - ETA: 0s - loss: 0.4310 - accuracy: 0.7940"
     ]
    },
    {
     "name": "stderr",
     "output_type": "stream",
     "text": [
      "WARNING:absl:Found untraced functions such as gru_cell_7_layer_call_fn, gru_cell_7_layer_call_and_return_conditional_losses, gru_cell_8_layer_call_fn, gru_cell_8_layer_call_and_return_conditional_losses while saving (showing 4 of 4). These functions will not be directly callable after loading.\n"
     ]
    },
    {
     "name": "stdout",
     "output_type": "stream",
     "text": [
      "INFO:tensorflow:Assets written to: ..\\models\\charCNN_GRU\\stemmed\\assets\n"
     ]
    },
    {
     "name": "stderr",
     "output_type": "stream",
     "text": [
      "INFO:tensorflow:Assets written to: ..\\models\\charCNN_GRU\\stemmed\\assets\n"
     ]
    },
    {
     "name": "stdout",
     "output_type": "stream",
     "text": [
      "81/81 [==============================] - 11s 134ms/step - loss: 0.4310 - accuracy: 0.7940 - val_loss: 0.4477 - val_accuracy: 0.7741\n",
      "Epoch 12/200\n",
      "81/81 [==============================] - ETA: 0s - loss: 0.4272 - accuracy: 0.7950"
     ]
    },
    {
     "name": "stderr",
     "output_type": "stream",
     "text": [
      "WARNING:absl:Found untraced functions such as gru_cell_7_layer_call_fn, gru_cell_7_layer_call_and_return_conditional_losses, gru_cell_8_layer_call_fn, gru_cell_8_layer_call_and_return_conditional_losses while saving (showing 4 of 4). These functions will not be directly callable after loading.\n"
     ]
    },
    {
     "name": "stdout",
     "output_type": "stream",
     "text": [
      "INFO:tensorflow:Assets written to: ..\\models\\charCNN_GRU\\stemmed\\assets\n"
     ]
    },
    {
     "name": "stderr",
     "output_type": "stream",
     "text": [
      "INFO:tensorflow:Assets written to: ..\\models\\charCNN_GRU\\stemmed\\assets\n"
     ]
    },
    {
     "name": "stdout",
     "output_type": "stream",
     "text": [
      "81/81 [==============================] - 11s 134ms/step - loss: 0.4272 - accuracy: 0.7950 - val_loss: 0.4438 - val_accuracy: 0.7754\n",
      "Epoch 13/200\n",
      "81/81 [==============================] - 7s 83ms/step - loss: 0.4289 - accuracy: 0.7941 - val_loss: 0.4443 - val_accuracy: 0.7772\n",
      "Epoch 14/200\n",
      "81/81 [==============================] - ETA: 0s - loss: 0.4267 - accuracy: 0.7960"
     ]
    },
    {
     "name": "stderr",
     "output_type": "stream",
     "text": [
      "WARNING:absl:Found untraced functions such as gru_cell_7_layer_call_fn, gru_cell_7_layer_call_and_return_conditional_losses, gru_cell_8_layer_call_fn, gru_cell_8_layer_call_and_return_conditional_losses while saving (showing 4 of 4). These functions will not be directly callable after loading.\n"
     ]
    },
    {
     "name": "stdout",
     "output_type": "stream",
     "text": [
      "INFO:tensorflow:Assets written to: ..\\models\\charCNN_GRU\\stemmed\\assets\n"
     ]
    },
    {
     "name": "stderr",
     "output_type": "stream",
     "text": [
      "INFO:tensorflow:Assets written to: ..\\models\\charCNN_GRU\\stemmed\\assets\n"
     ]
    },
    {
     "name": "stdout",
     "output_type": "stream",
     "text": [
      "81/81 [==============================] - 11s 137ms/step - loss: 0.4267 - accuracy: 0.7960 - val_loss: 0.4432 - val_accuracy: 0.7772\n",
      "Epoch 15/200\n",
      "81/81 [==============================] - ETA: 0s - loss: 0.4232 - accuracy: 0.7968"
     ]
    },
    {
     "name": "stderr",
     "output_type": "stream",
     "text": [
      "WARNING:absl:Found untraced functions such as gru_cell_7_layer_call_fn, gru_cell_7_layer_call_and_return_conditional_losses, gru_cell_8_layer_call_fn, gru_cell_8_layer_call_and_return_conditional_losses while saving (showing 4 of 4). These functions will not be directly callable after loading.\n"
     ]
    },
    {
     "name": "stdout",
     "output_type": "stream",
     "text": [
      "INFO:tensorflow:Assets written to: ..\\models\\charCNN_GRU\\stemmed\\assets\n"
     ]
    },
    {
     "name": "stderr",
     "output_type": "stream",
     "text": [
      "INFO:tensorflow:Assets written to: ..\\models\\charCNN_GRU\\stemmed\\assets\n"
     ]
    },
    {
     "name": "stdout",
     "output_type": "stream",
     "text": [
      "81/81 [==============================] - 11s 139ms/step - loss: 0.4232 - accuracy: 0.7968 - val_loss: 0.4417 - val_accuracy: 0.7776\n",
      "Epoch 16/200\n",
      "81/81 [==============================] - ETA: 0s - loss: 0.4230 - accuracy: 0.7969"
     ]
    },
    {
     "name": "stderr",
     "output_type": "stream",
     "text": [
      "WARNING:absl:Found untraced functions such as gru_cell_7_layer_call_fn, gru_cell_7_layer_call_and_return_conditional_losses, gru_cell_8_layer_call_fn, gru_cell_8_layer_call_and_return_conditional_losses while saving (showing 4 of 4). These functions will not be directly callable after loading.\n"
     ]
    },
    {
     "name": "stdout",
     "output_type": "stream",
     "text": [
      "INFO:tensorflow:Assets written to: ..\\models\\charCNN_GRU\\stemmed\\assets\n"
     ]
    },
    {
     "name": "stderr",
     "output_type": "stream",
     "text": [
      "INFO:tensorflow:Assets written to: ..\\models\\charCNN_GRU\\stemmed\\assets\n"
     ]
    },
    {
     "name": "stdout",
     "output_type": "stream",
     "text": [
      "81/81 [==============================] - 11s 135ms/step - loss: 0.4230 - accuracy: 0.7969 - val_loss: 0.4405 - val_accuracy: 0.7793\n",
      "Epoch 17/200\n",
      "81/81 [==============================] - ETA: 0s - loss: 0.4217 - accuracy: 0.7983"
     ]
    },
    {
     "name": "stderr",
     "output_type": "stream",
     "text": [
      "WARNING:absl:Found untraced functions such as gru_cell_7_layer_call_fn, gru_cell_7_layer_call_and_return_conditional_losses, gru_cell_8_layer_call_fn, gru_cell_8_layer_call_and_return_conditional_losses while saving (showing 4 of 4). These functions will not be directly callable after loading.\n"
     ]
    },
    {
     "name": "stdout",
     "output_type": "stream",
     "text": [
      "INFO:tensorflow:Assets written to: ..\\models\\charCNN_GRU\\stemmed\\assets\n"
     ]
    },
    {
     "name": "stderr",
     "output_type": "stream",
     "text": [
      "INFO:tensorflow:Assets written to: ..\\models\\charCNN_GRU\\stemmed\\assets\n"
     ]
    },
    {
     "name": "stdout",
     "output_type": "stream",
     "text": [
      "81/81 [==============================] - 11s 135ms/step - loss: 0.4217 - accuracy: 0.7983 - val_loss: 0.4400 - val_accuracy: 0.7776\n",
      "Epoch 18/200\n",
      "81/81 [==============================] - 7s 84ms/step - loss: 0.4236 - accuracy: 0.7963 - val_loss: 0.4450 - val_accuracy: 0.7763\n",
      "Epoch 19/200\n",
      "81/81 [==============================] - ETA: 0s - loss: 0.4241 - accuracy: 0.7967"
     ]
    },
    {
     "name": "stderr",
     "output_type": "stream",
     "text": [
      "WARNING:absl:Found untraced functions such as gru_cell_7_layer_call_fn, gru_cell_7_layer_call_and_return_conditional_losses, gru_cell_8_layer_call_fn, gru_cell_8_layer_call_and_return_conditional_losses while saving (showing 4 of 4). These functions will not be directly callable after loading.\n"
     ]
    },
    {
     "name": "stdout",
     "output_type": "stream",
     "text": [
      "INFO:tensorflow:Assets written to: ..\\models\\charCNN_GRU\\stemmed\\assets\n"
     ]
    },
    {
     "name": "stderr",
     "output_type": "stream",
     "text": [
      "INFO:tensorflow:Assets written to: ..\\models\\charCNN_GRU\\stemmed\\assets\n"
     ]
    },
    {
     "name": "stdout",
     "output_type": "stream",
     "text": [
      "81/81 [==============================] - 11s 135ms/step - loss: 0.4241 - accuracy: 0.7967 - val_loss: 0.4389 - val_accuracy: 0.7767\n",
      "Epoch 20/200\n",
      "81/81 [==============================] - 7s 84ms/step - loss: 0.4262 - accuracy: 0.7947 - val_loss: 0.4464 - val_accuracy: 0.7772\n",
      "Epoch 21/200\n",
      "81/81 [==============================] - ETA: 0s - loss: 0.4208 - accuracy: 0.7976"
     ]
    },
    {
     "name": "stderr",
     "output_type": "stream",
     "text": [
      "WARNING:absl:Found untraced functions such as gru_cell_7_layer_call_fn, gru_cell_7_layer_call_and_return_conditional_losses, gru_cell_8_layer_call_fn, gru_cell_8_layer_call_and_return_conditional_losses while saving (showing 4 of 4). These functions will not be directly callable after loading.\n"
     ]
    },
    {
     "name": "stdout",
     "output_type": "stream",
     "text": [
      "INFO:tensorflow:Assets written to: ..\\models\\charCNN_GRU\\stemmed\\assets\n"
     ]
    },
    {
     "name": "stderr",
     "output_type": "stream",
     "text": [
      "INFO:tensorflow:Assets written to: ..\\models\\charCNN_GRU\\stemmed\\assets\n"
     ]
    },
    {
     "name": "stdout",
     "output_type": "stream",
     "text": [
      "81/81 [==============================] - 11s 135ms/step - loss: 0.4208 - accuracy: 0.7976 - val_loss: 0.4378 - val_accuracy: 0.7802\n",
      "Epoch 22/200\n",
      "81/81 [==============================] - ETA: 0s - loss: 0.4160 - accuracy: 0.8006"
     ]
    },
    {
     "name": "stderr",
     "output_type": "stream",
     "text": [
      "WARNING:absl:Found untraced functions such as gru_cell_7_layer_call_fn, gru_cell_7_layer_call_and_return_conditional_losses, gru_cell_8_layer_call_fn, gru_cell_8_layer_call_and_return_conditional_losses while saving (showing 4 of 4). These functions will not be directly callable after loading.\n"
     ]
    },
    {
     "name": "stdout",
     "output_type": "stream",
     "text": [
      "INFO:tensorflow:Assets written to: ..\\models\\charCNN_GRU\\stemmed\\assets\n"
     ]
    },
    {
     "name": "stderr",
     "output_type": "stream",
     "text": [
      "INFO:tensorflow:Assets written to: ..\\models\\charCNN_GRU\\stemmed\\assets\n"
     ]
    },
    {
     "name": "stdout",
     "output_type": "stream",
     "text": [
      "81/81 [==============================] - 11s 132ms/step - loss: 0.4160 - accuracy: 0.8006 - val_loss: 0.4349 - val_accuracy: 0.7811\n",
      "Epoch 23/200\n",
      "81/81 [==============================] - 7s 84ms/step - loss: 0.4247 - accuracy: 0.7973 - val_loss: 0.4370 - val_accuracy: 0.7789\n",
      "Epoch 24/200\n",
      "81/81 [==============================] - 7s 84ms/step - loss: 0.4477 - accuracy: 0.7856 - val_loss: 0.4466 - val_accuracy: 0.7737\n",
      "Epoch 25/200\n",
      "81/81 [==============================] - ETA: 0s - loss: 0.4144 - accuracy: 0.8014"
     ]
    },
    {
     "name": "stderr",
     "output_type": "stream",
     "text": [
      "WARNING:absl:Found untraced functions such as gru_cell_7_layer_call_fn, gru_cell_7_layer_call_and_return_conditional_losses, gru_cell_8_layer_call_fn, gru_cell_8_layer_call_and_return_conditional_losses while saving (showing 4 of 4). These functions will not be directly callable after loading.\n"
     ]
    },
    {
     "name": "stdout",
     "output_type": "stream",
     "text": [
      "INFO:tensorflow:Assets written to: ..\\models\\charCNN_GRU\\stemmed\\assets\n"
     ]
    },
    {
     "name": "stderr",
     "output_type": "stream",
     "text": [
      "INFO:tensorflow:Assets written to: ..\\models\\charCNN_GRU\\stemmed\\assets\n"
     ]
    },
    {
     "name": "stdout",
     "output_type": "stream",
     "text": [
      "81/81 [==============================] - 11s 138ms/step - loss: 0.4144 - accuracy: 0.8014 - val_loss: 0.4110 - val_accuracy: 0.7980\n",
      "Epoch 26/200\n",
      "81/81 [==============================] - ETA: 0s - loss: 0.3888 - accuracy: 0.8257"
     ]
    },
    {
     "name": "stderr",
     "output_type": "stream",
     "text": [
      "WARNING:absl:Found untraced functions such as gru_cell_7_layer_call_fn, gru_cell_7_layer_call_and_return_conditional_losses, gru_cell_8_layer_call_fn, gru_cell_8_layer_call_and_return_conditional_losses while saving (showing 4 of 4). These functions will not be directly callable after loading.\n"
     ]
    },
    {
     "name": "stdout",
     "output_type": "stream",
     "text": [
      "INFO:tensorflow:Assets written to: ..\\models\\charCNN_GRU\\stemmed\\assets\n"
     ]
    },
    {
     "name": "stderr",
     "output_type": "stream",
     "text": [
      "INFO:tensorflow:Assets written to: ..\\models\\charCNN_GRU\\stemmed\\assets\n"
     ]
    },
    {
     "name": "stdout",
     "output_type": "stream",
     "text": [
      "81/81 [==============================] - 11s 135ms/step - loss: 0.3888 - accuracy: 0.8257 - val_loss: 0.3886 - val_accuracy: 0.8184\n",
      "Epoch 27/200\n",
      "81/81 [==============================] - ETA: 0s - loss: 0.3750 - accuracy: 0.8309"
     ]
    },
    {
     "name": "stderr",
     "output_type": "stream",
     "text": [
      "WARNING:absl:Found untraced functions such as gru_cell_7_layer_call_fn, gru_cell_7_layer_call_and_return_conditional_losses, gru_cell_8_layer_call_fn, gru_cell_8_layer_call_and_return_conditional_losses while saving (showing 4 of 4). These functions will not be directly callable after loading.\n"
     ]
    },
    {
     "name": "stdout",
     "output_type": "stream",
     "text": [
      "INFO:tensorflow:Assets written to: ..\\models\\charCNN_GRU\\stemmed\\assets\n"
     ]
    },
    {
     "name": "stderr",
     "output_type": "stream",
     "text": [
      "INFO:tensorflow:Assets written to: ..\\models\\charCNN_GRU\\stemmed\\assets\n"
     ]
    },
    {
     "name": "stdout",
     "output_type": "stream",
     "text": [
      "81/81 [==============================] - 11s 135ms/step - loss: 0.3750 - accuracy: 0.8309 - val_loss: 0.3877 - val_accuracy: 0.8158\n",
      "Epoch 28/200\n",
      "81/81 [==============================] - ETA: 0s - loss: 0.3613 - accuracy: 0.8384"
     ]
    },
    {
     "name": "stderr",
     "output_type": "stream",
     "text": [
      "WARNING:absl:Found untraced functions such as gru_cell_7_layer_call_fn, gru_cell_7_layer_call_and_return_conditional_losses, gru_cell_8_layer_call_fn, gru_cell_8_layer_call_and_return_conditional_losses while saving (showing 4 of 4). These functions will not be directly callable after loading.\n"
     ]
    },
    {
     "name": "stdout",
     "output_type": "stream",
     "text": [
      "INFO:tensorflow:Assets written to: ..\\models\\charCNN_GRU\\stemmed\\assets\n"
     ]
    },
    {
     "name": "stderr",
     "output_type": "stream",
     "text": [
      "INFO:tensorflow:Assets written to: ..\\models\\charCNN_GRU\\stemmed\\assets\n"
     ]
    },
    {
     "name": "stdout",
     "output_type": "stream",
     "text": [
      "81/81 [==============================] - 11s 135ms/step - loss: 0.3613 - accuracy: 0.8384 - val_loss: 0.3713 - val_accuracy: 0.8249\n",
      "Epoch 29/200\n",
      "81/81 [==============================] - 7s 84ms/step - loss: 0.3554 - accuracy: 0.8384 - val_loss: 0.3783 - val_accuracy: 0.8232\n",
      "Epoch 30/200\n",
      "81/81 [==============================] - ETA: 0s - loss: 0.3518 - accuracy: 0.8399"
     ]
    },
    {
     "name": "stderr",
     "output_type": "stream",
     "text": [
      "WARNING:absl:Found untraced functions such as gru_cell_7_layer_call_fn, gru_cell_7_layer_call_and_return_conditional_losses, gru_cell_8_layer_call_fn, gru_cell_8_layer_call_and_return_conditional_losses while saving (showing 4 of 4). These functions will not be directly callable after loading.\n"
     ]
    },
    {
     "name": "stdout",
     "output_type": "stream",
     "text": [
      "INFO:tensorflow:Assets written to: ..\\models\\charCNN_GRU\\stemmed\\assets\n"
     ]
    },
    {
     "name": "stderr",
     "output_type": "stream",
     "text": [
      "INFO:tensorflow:Assets written to: ..\\models\\charCNN_GRU\\stemmed\\assets\n"
     ]
    },
    {
     "name": "stdout",
     "output_type": "stream",
     "text": [
      "81/81 [==============================] - 11s 134ms/step - loss: 0.3518 - accuracy: 0.8399 - val_loss: 0.3683 - val_accuracy: 0.8284\n",
      "Epoch 31/200\n",
      "81/81 [==============================] - 7s 84ms/step - loss: 0.3452 - accuracy: 0.8435 - val_loss: 0.3698 - val_accuracy: 0.8293\n",
      "Epoch 32/200\n",
      "81/81 [==============================] - ETA: 0s - loss: 0.3446 - accuracy: 0.8410"
     ]
    },
    {
     "name": "stderr",
     "output_type": "stream",
     "text": [
      "WARNING:absl:Found untraced functions such as gru_cell_7_layer_call_fn, gru_cell_7_layer_call_and_return_conditional_losses, gru_cell_8_layer_call_fn, gru_cell_8_layer_call_and_return_conditional_losses while saving (showing 4 of 4). These functions will not be directly callable after loading.\n"
     ]
    },
    {
     "name": "stdout",
     "output_type": "stream",
     "text": [
      "INFO:tensorflow:Assets written to: ..\\models\\charCNN_GRU\\stemmed\\assets\n"
     ]
    },
    {
     "name": "stderr",
     "output_type": "stream",
     "text": [
      "INFO:tensorflow:Assets written to: ..\\models\\charCNN_GRU\\stemmed\\assets\n"
     ]
    },
    {
     "name": "stdout",
     "output_type": "stream",
     "text": [
      "81/81 [==============================] - 11s 135ms/step - loss: 0.3446 - accuracy: 0.8410 - val_loss: 0.3568 - val_accuracy: 0.8267\n",
      "Epoch 33/200\n",
      "81/81 [==============================] - 7s 84ms/step - loss: 0.3391 - accuracy: 0.8441 - val_loss: 0.3589 - val_accuracy: 0.8275\n",
      "Epoch 34/200\n",
      "81/81 [==============================] - ETA: 0s - loss: 0.3379 - accuracy: 0.8440"
     ]
    },
    {
     "name": "stderr",
     "output_type": "stream",
     "text": [
      "WARNING:absl:Found untraced functions such as gru_cell_7_layer_call_fn, gru_cell_7_layer_call_and_return_conditional_losses, gru_cell_8_layer_call_fn, gru_cell_8_layer_call_and_return_conditional_losses while saving (showing 4 of 4). These functions will not be directly callable after loading.\n"
     ]
    },
    {
     "name": "stdout",
     "output_type": "stream",
     "text": [
      "INFO:tensorflow:Assets written to: ..\\models\\charCNN_GRU\\stemmed\\assets\n"
     ]
    },
    {
     "name": "stderr",
     "output_type": "stream",
     "text": [
      "INFO:tensorflow:Assets written to: ..\\models\\charCNN_GRU\\stemmed\\assets\n"
     ]
    },
    {
     "name": "stdout",
     "output_type": "stream",
     "text": [
      "81/81 [==============================] - 11s 135ms/step - loss: 0.3379 - accuracy: 0.8440 - val_loss: 0.3566 - val_accuracy: 0.8267\n",
      "Epoch 35/200\n",
      "81/81 [==============================] - 7s 84ms/step - loss: 0.3344 - accuracy: 0.8450 - val_loss: 0.3578 - val_accuracy: 0.8275\n",
      "Epoch 36/200\n",
      "81/81 [==============================] - ETA: 0s - loss: 0.3326 - accuracy: 0.8465"
     ]
    },
    {
     "name": "stderr",
     "output_type": "stream",
     "text": [
      "WARNING:absl:Found untraced functions such as gru_cell_7_layer_call_fn, gru_cell_7_layer_call_and_return_conditional_losses, gru_cell_8_layer_call_fn, gru_cell_8_layer_call_and_return_conditional_losses while saving (showing 4 of 4). These functions will not be directly callable after loading.\n"
     ]
    },
    {
     "name": "stdout",
     "output_type": "stream",
     "text": [
      "INFO:tensorflow:Assets written to: ..\\models\\charCNN_GRU\\stemmed\\assets\n"
     ]
    },
    {
     "name": "stderr",
     "output_type": "stream",
     "text": [
      "INFO:tensorflow:Assets written to: ..\\models\\charCNN_GRU\\stemmed\\assets\n"
     ]
    },
    {
     "name": "stdout",
     "output_type": "stream",
     "text": [
      "81/81 [==============================] - 11s 135ms/step - loss: 0.3326 - accuracy: 0.8465 - val_loss: 0.3526 - val_accuracy: 0.8280\n",
      "Epoch 37/200\n",
      "81/81 [==============================] - ETA: 0s - loss: 0.3318 - accuracy: 0.8460"
     ]
    },
    {
     "name": "stderr",
     "output_type": "stream",
     "text": [
      "WARNING:absl:Found untraced functions such as gru_cell_7_layer_call_fn, gru_cell_7_layer_call_and_return_conditional_losses, gru_cell_8_layer_call_fn, gru_cell_8_layer_call_and_return_conditional_losses while saving (showing 4 of 4). These functions will not be directly callable after loading.\n"
     ]
    },
    {
     "name": "stdout",
     "output_type": "stream",
     "text": [
      "INFO:tensorflow:Assets written to: ..\\models\\charCNN_GRU\\stemmed\\assets\n"
     ]
    },
    {
     "name": "stderr",
     "output_type": "stream",
     "text": [
      "INFO:tensorflow:Assets written to: ..\\models\\charCNN_GRU\\stemmed\\assets\n"
     ]
    },
    {
     "name": "stdout",
     "output_type": "stream",
     "text": [
      "81/81 [==============================] - 11s 135ms/step - loss: 0.3318 - accuracy: 0.8460 - val_loss: 0.3508 - val_accuracy: 0.8336\n",
      "Epoch 38/200\n",
      "81/81 [==============================] - 7s 84ms/step - loss: 0.3292 - accuracy: 0.8459 - val_loss: 0.3543 - val_accuracy: 0.8323\n",
      "Epoch 39/200\n",
      "81/81 [==============================] - 7s 84ms/step - loss: 0.3259 - accuracy: 0.8470 - val_loss: 0.3518 - val_accuracy: 0.8301\n",
      "Epoch 40/200\n",
      "81/81 [==============================] - 7s 84ms/step - loss: 0.3243 - accuracy: 0.8486 - val_loss: 0.3535 - val_accuracy: 0.8336\n",
      "Epoch 41/200\n",
      "81/81 [==============================] - 7s 84ms/step - loss: 0.3216 - accuracy: 0.8478 - val_loss: 0.3546 - val_accuracy: 0.8306\n",
      "Epoch 42/200\n",
      "81/81 [==============================] - ETA: 0s - loss: 0.3201 - accuracy: 0.8491"
     ]
    },
    {
     "name": "stderr",
     "output_type": "stream",
     "text": [
      "WARNING:absl:Found untraced functions such as gru_cell_7_layer_call_fn, gru_cell_7_layer_call_and_return_conditional_losses, gru_cell_8_layer_call_fn, gru_cell_8_layer_call_and_return_conditional_losses while saving (showing 4 of 4). These functions will not be directly callable after loading.\n"
     ]
    },
    {
     "name": "stdout",
     "output_type": "stream",
     "text": [
      "INFO:tensorflow:Assets written to: ..\\models\\charCNN_GRU\\stemmed\\assets\n"
     ]
    },
    {
     "name": "stderr",
     "output_type": "stream",
     "text": [
      "INFO:tensorflow:Assets written to: ..\\models\\charCNN_GRU\\stemmed\\assets\n"
     ]
    },
    {
     "name": "stdout",
     "output_type": "stream",
     "text": [
      "81/81 [==============================] - 11s 135ms/step - loss: 0.3201 - accuracy: 0.8491 - val_loss: 0.3476 - val_accuracy: 0.8341\n",
      "Epoch 43/200\n",
      "81/81 [==============================] - ETA: 0s - loss: 0.3174 - accuracy: 0.8512"
     ]
    },
    {
     "name": "stderr",
     "output_type": "stream",
     "text": [
      "WARNING:absl:Found untraced functions such as gru_cell_7_layer_call_fn, gru_cell_7_layer_call_and_return_conditional_losses, gru_cell_8_layer_call_fn, gru_cell_8_layer_call_and_return_conditional_losses while saving (showing 4 of 4). These functions will not be directly callable after loading.\n"
     ]
    },
    {
     "name": "stdout",
     "output_type": "stream",
     "text": [
      "INFO:tensorflow:Assets written to: ..\\models\\charCNN_GRU\\stemmed\\assets\n"
     ]
    },
    {
     "name": "stderr",
     "output_type": "stream",
     "text": [
      "INFO:tensorflow:Assets written to: ..\\models\\charCNN_GRU\\stemmed\\assets\n"
     ]
    },
    {
     "name": "stdout",
     "output_type": "stream",
     "text": [
      "81/81 [==============================] - 11s 132ms/step - loss: 0.3174 - accuracy: 0.8512 - val_loss: 0.3465 - val_accuracy: 0.8336\n",
      "Epoch 44/200\n",
      "81/81 [==============================] - 7s 84ms/step - loss: 0.3162 - accuracy: 0.8514 - val_loss: 0.3518 - val_accuracy: 0.8358\n",
      "Epoch 45/200\n",
      "81/81 [==============================] - ETA: 0s - loss: 0.3151 - accuracy: 0.8526"
     ]
    },
    {
     "name": "stderr",
     "output_type": "stream",
     "text": [
      "WARNING:absl:Found untraced functions such as gru_cell_7_layer_call_fn, gru_cell_7_layer_call_and_return_conditional_losses, gru_cell_8_layer_call_fn, gru_cell_8_layer_call_and_return_conditional_losses while saving (showing 4 of 4). These functions will not be directly callable after loading.\n"
     ]
    },
    {
     "name": "stdout",
     "output_type": "stream",
     "text": [
      "INFO:tensorflow:Assets written to: ..\\models\\charCNN_GRU\\stemmed\\assets\n"
     ]
    },
    {
     "name": "stderr",
     "output_type": "stream",
     "text": [
      "INFO:tensorflow:Assets written to: ..\\models\\charCNN_GRU\\stemmed\\assets\n"
     ]
    },
    {
     "name": "stdout",
     "output_type": "stream",
     "text": [
      "81/81 [==============================] - 11s 138ms/step - loss: 0.3151 - accuracy: 0.8526 - val_loss: 0.3450 - val_accuracy: 0.8367\n",
      "Epoch 46/200\n",
      "81/81 [==============================] - 7s 84ms/step - loss: 0.3135 - accuracy: 0.8511 - val_loss: 0.3525 - val_accuracy: 0.8315\n",
      "Epoch 47/200\n",
      "81/81 [==============================] - 7s 84ms/step - loss: 0.3096 - accuracy: 0.8542 - val_loss: 0.3886 - val_accuracy: 0.8371\n",
      "Epoch 48/200\n",
      "81/81 [==============================] - ETA: 0s - loss: 0.3093 - accuracy: 0.8554"
     ]
    },
    {
     "name": "stderr",
     "output_type": "stream",
     "text": [
      "WARNING:absl:Found untraced functions such as gru_cell_7_layer_call_fn, gru_cell_7_layer_call_and_return_conditional_losses, gru_cell_8_layer_call_fn, gru_cell_8_layer_call_and_return_conditional_losses while saving (showing 4 of 4). These functions will not be directly callable after loading.\n"
     ]
    },
    {
     "name": "stdout",
     "output_type": "stream",
     "text": [
      "INFO:tensorflow:Assets written to: ..\\models\\charCNN_GRU\\stemmed\\assets\n"
     ]
    },
    {
     "name": "stderr",
     "output_type": "stream",
     "text": [
      "INFO:tensorflow:Assets written to: ..\\models\\charCNN_GRU\\stemmed\\assets\n"
     ]
    },
    {
     "name": "stdout",
     "output_type": "stream",
     "text": [
      "81/81 [==============================] - 11s 135ms/step - loss: 0.3093 - accuracy: 0.8554 - val_loss: 0.3444 - val_accuracy: 0.8384\n",
      "Epoch 49/200\n",
      "81/81 [==============================] - 7s 84ms/step - loss: 0.3028 - accuracy: 0.8572 - val_loss: 0.3519 - val_accuracy: 0.8288\n",
      "Epoch 50/200\n",
      "81/81 [==============================] - 7s 84ms/step - loss: 0.3034 - accuracy: 0.8565 - val_loss: 0.3460 - val_accuracy: 0.8328\n",
      "Epoch 51/200\n",
      "81/81 [==============================] - 7s 84ms/step - loss: 0.2981 - accuracy: 0.8594 - val_loss: 0.3511 - val_accuracy: 0.8410\n",
      "Epoch 52/200\n",
      "81/81 [==============================] - 7s 84ms/step - loss: 0.2976 - accuracy: 0.8604 - val_loss: 0.3503 - val_accuracy: 0.8423\n",
      "Epoch 53/200\n",
      "81/81 [==============================] - 7s 84ms/step - loss: 0.2924 - accuracy: 0.8596 - val_loss: 0.3541 - val_accuracy: 0.8349\n",
      "Epoch 54/200\n",
      "81/81 [==============================] - 7s 84ms/step - loss: 0.2900 - accuracy: 0.8616 - val_loss: 0.3640 - val_accuracy: 0.8306\n",
      "Epoch 55/200\n",
      "81/81 [==============================] - 7s 84ms/step - loss: 0.2885 - accuracy: 0.8625 - val_loss: 0.3711 - val_accuracy: 0.8267\n",
      "Epoch 56/200\n",
      "81/81 [==============================] - 7s 84ms/step - loss: 0.2909 - accuracy: 0.8641 - val_loss: 0.3617 - val_accuracy: 0.8354\n",
      "Epoch 57/200\n",
      "81/81 [==============================] - 7s 84ms/step - loss: 0.2861 - accuracy: 0.8652 - val_loss: 0.3646 - val_accuracy: 0.8315\n",
      "Epoch 58/200\n",
      "81/81 [==============================] - 7s 84ms/step - loss: nan - accuracy: 0.5131 - val_loss: nan - val_accuracy: 0.4996\n"
     ]
    },
    {
     "data": {
      "text/plain": "<keras.callbacks.History at 0x16ab9b9b070>"
     },
     "execution_count": 10,
     "metadata": {},
     "output_type": "execute_result"
    }
   ],
   "source": [
    "# Train CNN model.\n",
    "early_stopping = keras.callbacks.EarlyStopping(monitor='val_loss', patience=10, restore_best_weights=True)\n",
    "save_best = keras.callbacks.ModelCheckpoint(os.path.join(MODELS_DIR, \"stemmed\"), monitor='val_loss',\n",
    "                                            save_best_only=True, restore_best_weights=True)\n",
    "modelSTEM.fit(np.array(stem_train_features), np.array(stem_train_labels), batch_size=256, epochs=EPOCHS,\n",
    "              validation_data=(np.array(stem_val_features), np.array(stem_val_labels)),\n",
    "              callbacks=[early_stopping, save_best])"
   ]
  },
  {
   "cell_type": "code",
   "execution_count": 11,
   "metadata": {
    "colab": {
     "base_uri": "https://localhost:8080/",
     "height": 170
    },
    "colab_type": "code",
    "executionInfo": {
     "elapsed": 1761852,
     "status": "ok",
     "timestamp": 1595416285460,
     "user": {
      "displayName": "tizfa data",
      "photoUrl": "",
      "userId": "14479436635515447323"
     },
     "user_tz": -120
    },
    "id": "XccqZUzVNhnx",
    "outputId": "b5a715d5-bae8-4b7e-c4a6-30580921829d",
    "ExecuteTime": {
     "end_time": "2023-11-27T20:32:52.415362100Z",
     "start_time": "2023-11-27T20:32:50.882363100Z"
    }
   },
   "outputs": [
    {
     "name": "stdout",
     "output_type": "stream",
     "text": [
      "80/80 [==============================] - 1s 15ms/step\n"
     ]
    },
    {
     "data": {
      "text/plain": "{'balanced_accuracy': 0.8330172877543036,\n 'f1_score': 0.8442174388909157,\n 'precision': 0.7919233401779603,\n 'recall': 0.90390625}"
     },
     "execution_count": 11,
     "metadata": {},
     "output_type": "execute_result"
    }
   ],
   "source": [
    "probas_stem = modelSTEM.predict(np.array(stem_test_features))\n",
    "y_pred_stem = proba_to_pred(probas_stem)\n",
    "results_stem = calculate_metrics(stem_test_labels, y_pred_stem)\n",
    "results_stem"
   ]
  },
  {
   "cell_type": "code",
   "execution_count": 12,
   "metadata": {
    "ExecuteTime": {
     "end_time": "2023-11-27T20:32:52.416362300Z",
     "start_time": "2023-11-27T20:32:52.385362800Z"
    }
   },
   "outputs": [
    {
     "data": {
      "text/plain": "   balanced_accuracy  f1_score  precision    recall        model     dataset\n0           0.832231  0.844396   0.788084  0.909375  CharCNN+GRU      simple\n1           0.840834  0.851838   0.797546  0.914062  CharCNN+GRU  lemmatized\n2           0.833017  0.844217   0.791923  0.903906  CharCNN+GRU     stemmed",
      "text/html": "<div>\n<style scoped>\n    .dataframe tbody tr th:only-of-type {\n        vertical-align: middle;\n    }\n\n    .dataframe tbody tr th {\n        vertical-align: top;\n    }\n\n    .dataframe thead th {\n        text-align: right;\n    }\n</style>\n<table border=\"1\" class=\"dataframe\">\n  <thead>\n    <tr style=\"text-align: right;\">\n      <th></th>\n      <th>balanced_accuracy</th>\n      <th>f1_score</th>\n      <th>precision</th>\n      <th>recall</th>\n      <th>model</th>\n      <th>dataset</th>\n    </tr>\n  </thead>\n  <tbody>\n    <tr>\n      <th>0</th>\n      <td>0.832231</td>\n      <td>0.844396</td>\n      <td>0.788084</td>\n      <td>0.909375</td>\n      <td>CharCNN+GRU</td>\n      <td>simple</td>\n    </tr>\n    <tr>\n      <th>1</th>\n      <td>0.840834</td>\n      <td>0.851838</td>\n      <td>0.797546</td>\n      <td>0.914062</td>\n      <td>CharCNN+GRU</td>\n      <td>lemmatized</td>\n    </tr>\n    <tr>\n      <th>2</th>\n      <td>0.833017</td>\n      <td>0.844217</td>\n      <td>0.791923</td>\n      <td>0.903906</td>\n      <td>CharCNN+GRU</td>\n      <td>stemmed</td>\n    </tr>\n  </tbody>\n</table>\n</div>"
     },
     "execution_count": 12,
     "metadata": {},
     "output_type": "execute_result"
    }
   ],
   "source": [
    "# Create csv with all results\n",
    "\n",
    "results_all = pd.DataFrame([results, results_lem, results_stem])\n",
    "results_all['model'] = 'CharCNN+GRU'\n",
    "results_all['dataset'] = ['simple', 'lemmatized', 'stemmed']\n",
    "\n",
    "if not os.path.exists('results'):\n",
    "    os.makedirs('results')\n",
    "results_all.to_csv('results/char_cnn_gru.csv', index=False)\n",
    "results_all"
   ]
  }
 ],
 "metadata": {
  "accelerator": "GPU",
  "colab": {
   "authorship_tag": "ABX9TyPYjFqFVG3id3URmVBi+eNL",
   "collapsed_sections": [],
   "name": "CharCNN_Experiments.ipynb",
   "provenance": [
    {
     "file_id": "1UYNHNkk5Yq_dgIhRiVEFiswGzUJ-pdgs",
     "timestamp": 1583167071972
    }
   ]
  },
  "kernelspec": {
   "name": "python3",
   "language": "python",
   "display_name": "Python 3 (ipykernel)"
  },
  "language_info": {
   "codemirror_mode": {
    "name": "ipython",
    "version": 3
   },
   "file_extension": ".py",
   "mimetype": "text/x-python",
   "name": "python",
   "nbconvert_exporter": "python",
   "pygments_lexer": "ipython3",
   "version": "3.11.5"
  }
 },
 "nbformat": 4,
 "nbformat_minor": 0
}
