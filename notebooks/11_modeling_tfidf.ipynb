{
 "cells": [
  {
   "cell_type": "markdown",
   "source": [
    "# Modules import"
   ],
   "metadata": {
    "collapsed": false
   },
   "id": "a70f52e2f679a06"
  },
  {
   "cell_type": "code",
   "execution_count": 1,
   "outputs": [
    {
     "name": "stderr",
     "output_type": "stream",
     "text": [
      "Intel(R) Extension for Scikit-learn* enabled (https://github.com/intel/scikit-learn-intelex)\n"
     ]
    }
   ],
   "source": [
    "import os.path\n",
    "import pickle\n",
    "\n",
    "import numpy as np\n",
    "import optuna\n",
    "import pandas as pd\n",
    "from sklearnex import patch_sklearn\n",
    "\n",
    "patch_sklearn()\n",
    "import utils.optuna_utils as ou\n",
    "from optuna import create_study\n",
    "\n",
    "optuna.logging.set_verbosity(optuna.logging.WARNING)\n",
    "\n",
    "TIMEOUT = 1200  # seconds\n",
    "TRIALS = 100  # number of trials\n",
    "N_SPLITS = 5"
   ],
   "metadata": {
    "collapsed": false,
    "ExecuteTime": {
     "end_time": "2023-11-27T08:04:25.069506400Z",
     "start_time": "2023-11-27T08:04:23.031505900Z"
    }
   },
   "id": "e962ee04724949e0"
  },
  {
   "cell_type": "code",
   "execution_count": 2,
   "outputs": [],
   "source": [
    "np.random.seed(42)"
   ],
   "metadata": {
    "collapsed": false,
    "ExecuteTime": {
     "end_time": "2023-11-27T08:04:25.106504900Z",
     "start_time": "2023-11-27T08:04:25.069506400Z"
    }
   },
   "id": "11ddbcd17773baf2"
  },
  {
   "cell_type": "markdown",
   "source": [
    "# Simple processing"
   ],
   "metadata": {
    "collapsed": false
   },
   "id": "2ad6dbc1f2b5bd52"
  },
  {
   "cell_type": "code",
   "execution_count": 3,
   "outputs": [
    {
     "data": {
      "text/plain": "  screen_name                                               text account.type  \\\n0       bot#9                             YEA now that note GOOD          bot   \n1    human#17    Listen to This Charming Man by The Smiths <URL>        human   \n2      bot#23  wish i can i would be seeing other hoes on the...          bot   \n3       bot#1  The decade in the significantly easier schedul...          bot   \n4      bot#11  \" Theim class =\\ \" alignnone size-full wp-imag...          bot   \n\n  class_type  \n0     others  \n1      human  \n2     others  \n3     others  \n4        rnn  ",
      "text/html": "<div>\n<style scoped>\n    .dataframe tbody tr th:only-of-type {\n        vertical-align: middle;\n    }\n\n    .dataframe tbody tr th {\n        vertical-align: top;\n    }\n\n    .dataframe thead th {\n        text-align: right;\n    }\n</style>\n<table border=\"1\" class=\"dataframe\">\n  <thead>\n    <tr style=\"text-align: right;\">\n      <th></th>\n      <th>screen_name</th>\n      <th>text</th>\n      <th>account.type</th>\n      <th>class_type</th>\n    </tr>\n  </thead>\n  <tbody>\n    <tr>\n      <th>0</th>\n      <td>bot#9</td>\n      <td>YEA now that note GOOD</td>\n      <td>bot</td>\n      <td>others</td>\n    </tr>\n    <tr>\n      <th>1</th>\n      <td>human#17</td>\n      <td>Listen to This Charming Man by The Smiths &lt;URL&gt;</td>\n      <td>human</td>\n      <td>human</td>\n    </tr>\n    <tr>\n      <th>2</th>\n      <td>bot#23</td>\n      <td>wish i can i would be seeing other hoes on the...</td>\n      <td>bot</td>\n      <td>others</td>\n    </tr>\n    <tr>\n      <th>3</th>\n      <td>bot#1</td>\n      <td>The decade in the significantly easier schedul...</td>\n      <td>bot</td>\n      <td>others</td>\n    </tr>\n    <tr>\n      <th>4</th>\n      <td>bot#11</td>\n      <td>\" Theim class =\\ \" alignnone size-full wp-imag...</td>\n      <td>bot</td>\n      <td>rnn</td>\n    </tr>\n  </tbody>\n</table>\n</div>"
     },
     "execution_count": 3,
     "metadata": {},
     "output_type": "execute_result"
    }
   ],
   "source": [
    "DATA_PATH = os.path.join('..', 'data', 'preprocessed_url_simple')\n",
    "train = pd.read_csv(os.path.join(DATA_PATH, 'train.csv'))\n",
    "validation = pd.read_csv(os.path.join(DATA_PATH, 'validation.csv'))\n",
    "test = pd.read_csv(os.path.join(DATA_PATH, 'test.csv'))\n",
    "train.head()"
   ],
   "metadata": {
    "collapsed": false,
    "ExecuteTime": {
     "end_time": "2023-11-27T08:04:25.147505Z",
     "start_time": "2023-11-27T08:04:25.087506100Z"
    }
   },
   "id": "40da111d926d4d72"
  },
  {
   "cell_type": "code",
   "execution_count": 4,
   "outputs": [
    {
     "data": {
      "text/plain": "((23014,), (23014,))"
     },
     "execution_count": 4,
     "metadata": {},
     "output_type": "execute_result"
    }
   ],
   "source": [
    "def get_x_y(df: pd.DataFrame) -> (pd.Series, pd.Series):\n",
    "    \"\"\"\n",
    "    Get predictors and target from dataframe\n",
    "    :param df: dataframe\n",
    "    :return: predictors, target\n",
    "    \"\"\"\n",
    "    x = df[\"text\"]\n",
    "    y = df[\"account.type\"]\n",
    "    y = np.where(y == \"bot\", 1, 0)\n",
    "    return x, y\n",
    "\n",
    "\n",
    "x_train, y_train = get_x_y(train)\n",
    "x_validation, y_validation = get_x_y(validation)\n",
    "x_train = pd.concat([x_train, x_validation])\n",
    "y_train = np.append(y_train, y_validation)\n",
    "x_train.shape, y_train.shape"
   ],
   "metadata": {
    "collapsed": false,
    "ExecuteTime": {
     "end_time": "2023-11-27T08:04:25.181508700Z",
     "start_time": "2023-11-27T08:04:25.150505300Z"
    }
   },
   "id": "f8beb35be6f7bf1b"
  },
  {
   "cell_type": "code",
   "execution_count": 5,
   "outputs": [
    {
     "data": {
      "text/plain": "((2558,), (2558,))"
     },
     "execution_count": 5,
     "metadata": {},
     "output_type": "execute_result"
    }
   ],
   "source": [
    "x_test, y_test = get_x_y(test)\n",
    "x_test.shape, y_test.shape"
   ],
   "metadata": {
    "collapsed": false,
    "ExecuteTime": {
     "end_time": "2023-11-27T08:04:25.208506900Z",
     "start_time": "2023-11-27T08:04:25.164505600Z"
    }
   },
   "id": "799bd3795325f8ff"
  },
  {
   "cell_type": "code",
   "execution_count": 6,
   "outputs": [],
   "source": [
    "preprocessed_path = os.path.join(\"..\", \"models\", \"tfidf\", \"preprocessed\")\n",
    "os.makedirs(preprocessed_path, exist_ok=True)"
   ],
   "metadata": {
    "collapsed": false,
    "ExecuteTime": {
     "end_time": "2023-11-27T08:04:25.262505300Z",
     "start_time": "2023-11-27T08:04:25.179504800Z"
    }
   },
   "id": "86cc760af5392ec3"
  },
  {
   "cell_type": "code",
   "execution_count": 7,
   "outputs": [
    {
     "name": "stderr",
     "output_type": "stream",
     "text": [
      "C:\\Users\\Piotrek\\anaconda3\\envs\\tensorflow\\lib\\site-packages\\optuna\\progress_bar.py:56: ExperimentalWarning: Progress bar is experimental (supported from v1.2.0). The interface can change in the future.\n",
      "  self._init_valid()\n"
     ]
    },
    {
     "data": {
      "text/plain": "  0%|          | 0/100 [00:00<?, ?it/s]",
      "application/vnd.jupyter.widget-view+json": {
       "version_major": 2,
       "version_minor": 0,
       "model_id": "1f473312d2284fff90b1f26678fba47d"
      }
     },
     "metadata": {},
     "output_type": "display_data"
    },
    {
     "name": "stdout",
     "output_type": "stream",
     "text": [
      "Model: LGBM\n",
      "Best accuracy: 0.8277647009516128\n",
      "Best params: {'lgbm_boosting_type': 'dart', 'lgbm_max_depth': 8, 'lgbm_n_estimators': 395, 'lgbm_subsample': 0.9786672573591595, 'tfidf_ngram_range': 'unigram', 'tfidf_max_features': 3719, 'tfidf_max_df': 0.9620582864667189, 'tfidf_min_df': 0.0004178886620714936}\n"
     ]
    },
    {
     "name": "stderr",
     "output_type": "stream",
     "text": [
      "C:\\Users\\Piotrek\\anaconda3\\envs\\tensorflow\\lib\\site-packages\\optuna\\progress_bar.py:56: ExperimentalWarning: Progress bar is experimental (supported from v1.2.0). The interface can change in the future.\n",
      "  self._init_valid()\n"
     ]
    },
    {
     "data": {
      "text/plain": "  0%|          | 0/100 [00:00<?, ?it/s]",
      "application/vnd.jupyter.widget-view+json": {
       "version_major": 2,
       "version_minor": 0,
       "model_id": "6c2205f42dc14e65ac4ba82a6b321617"
      }
     },
     "metadata": {},
     "output_type": "display_data"
    },
    {
     "name": "stdout",
     "output_type": "stream",
     "text": [
      "Model: XGB\n",
      "Best accuracy: 0.82046196059508\n",
      "Best params: {'xgb_booster': 'dart', 'xgb_max_depth': 13, 'xgb_n_estimators': 103, 'xgb_subsample': 0.9150958883282474, 'tfidf_ngram_range': 'unigram', 'tfidf_max_features': 1466, 'tfidf_max_df': 0.9625476812915221, 'tfidf_min_df': 3.475395363315486e-05}\n"
     ]
    },
    {
     "name": "stderr",
     "output_type": "stream",
     "text": [
      "C:\\Users\\Piotrek\\anaconda3\\envs\\tensorflow\\lib\\site-packages\\optuna\\progress_bar.py:56: ExperimentalWarning: Progress bar is experimental (supported from v1.2.0). The interface can change in the future.\n",
      "  self._init_valid()\n"
     ]
    },
    {
     "data": {
      "text/plain": "  0%|          | 0/100 [00:00<?, ?it/s]",
      "application/vnd.jupyter.widget-view+json": {
       "version_major": 2,
       "version_minor": 0,
       "model_id": "8654a637d6d946f695f53c1759c8579a"
      }
     },
     "metadata": {},
     "output_type": "display_data"
    },
    {
     "name": "stdout",
     "output_type": "stream",
     "text": [
      "Model: RF\n",
      "Best accuracy: 0.8078636342526254\n",
      "Best params: {'rf_max_depth': 15, 'rf_n_estimators': 201, 'rf_criterion': 'log_loss', 'rf_min_samples_split': 0.013860937783493876, 'tfidf_ngram_range': 'unigram', 'tfidf_max_features': 6481, 'tfidf_max_df': 0.9478755977460126, 'tfidf_min_df': 0.0005835201888275228}\n"
     ]
    },
    {
     "name": "stderr",
     "output_type": "stream",
     "text": [
      "C:\\Users\\Piotrek\\anaconda3\\envs\\tensorflow\\lib\\site-packages\\optuna\\progress_bar.py:56: ExperimentalWarning: Progress bar is experimental (supported from v1.2.0). The interface can change in the future.\n",
      "  self._init_valid()\n"
     ]
    },
    {
     "data": {
      "text/plain": "  0%|          | 0/100 [00:00<?, ?it/s]",
      "application/vnd.jupyter.widget-view+json": {
       "version_major": 2,
       "version_minor": 0,
       "model_id": "2389279dfb8c4242b912d2d20fccb8b8"
      }
     },
     "metadata": {},
     "output_type": "display_data"
    },
    {
     "name": "stdout",
     "output_type": "stream",
     "text": [
      "Model: SVC\n",
      "Best accuracy: 0.8279359142381717\n",
      "Best params: {'svc_kernel': 'rbf', 'svc_C': 1.4318393113722407, 'tfidf_ngram_range': 'digram', 'tfidf_max_features': 2493, 'tfidf_max_df': 0.821402704543996, 'tfidf_min_df': 0.0007078433320654484}\n"
     ]
    },
    {
     "name": "stderr",
     "output_type": "stream",
     "text": [
      "C:\\Users\\Piotrek\\anaconda3\\envs\\tensorflow\\lib\\site-packages\\optuna\\progress_bar.py:56: ExperimentalWarning: Progress bar is experimental (supported from v1.2.0). The interface can change in the future.\n",
      "  self._init_valid()\n"
     ]
    },
    {
     "data": {
      "text/plain": "  0%|          | 0/100 [00:00<?, ?it/s]",
      "application/vnd.jupyter.widget-view+json": {
       "version_major": 2,
       "version_minor": 0,
       "model_id": "8f019d88e47c41f3969bc78c0e0e87ef"
      }
     },
     "metadata": {},
     "output_type": "display_data"
    },
    {
     "name": "stderr",
     "output_type": "stream",
     "text": [
      "C:\\Users\\Piotrek\\anaconda3\\envs\\tensorflow\\lib\\site-packages\\sklearn\\linear_model\\_sag.py:350: ConvergenceWarning: The max_iter was reached which means the coef_ did not converge\n",
      "  warnings.warn(\n",
      "C:\\Users\\Piotrek\\anaconda3\\envs\\tensorflow\\lib\\site-packages\\sklearn\\linear_model\\_sag.py:350: ConvergenceWarning: The max_iter was reached which means the coef_ did not converge\n",
      "  warnings.warn(\n",
      "C:\\Users\\Piotrek\\anaconda3\\envs\\tensorflow\\lib\\site-packages\\sklearn\\linear_model\\_sag.py:350: ConvergenceWarning: The max_iter was reached which means the coef_ did not converge\n",
      "  warnings.warn(\n",
      "C:\\Users\\Piotrek\\anaconda3\\envs\\tensorflow\\lib\\site-packages\\sklearn\\linear_model\\_sag.py:350: ConvergenceWarning: The max_iter was reached which means the coef_ did not converge\n",
      "  warnings.warn(\n",
      "C:\\Users\\Piotrek\\anaconda3\\envs\\tensorflow\\lib\\site-packages\\sklearn\\linear_model\\_sag.py:350: ConvergenceWarning: The max_iter was reached which means the coef_ did not converge\n",
      "  warnings.warn(\n",
      "C:\\Users\\Piotrek\\anaconda3\\envs\\tensorflow\\lib\\site-packages\\sklearn\\linear_model\\_sag.py:350: ConvergenceWarning: The max_iter was reached which means the coef_ did not converge\n",
      "  warnings.warn(\n"
     ]
    },
    {
     "name": "stdout",
     "output_type": "stream",
     "text": [
      "Model: LR\n",
      "Best accuracy: 0.8051664916587093\n",
      "Best params: {'lr_penalty': 'l1', 'lr_C': 10.022385601516065, 'tfidf_ngram_range': 'trigram', 'tfidf_max_features': 4565, 'tfidf_max_df': 0.9250257928550478, 'tfidf_min_df': 0.003670702795655745}\n"
     ]
    }
   ],
   "source": [
    "studies = []\n",
    "results_optuna = []\n",
    "results_test = []\n",
    "for model in ou.MODELS.keys():\n",
    "    study = create_study(study_name=f'simple_processing_{model}', direction='maximize')\n",
    "    study.optimize(lambda trial: ou.objective(trial, x_train, y_train, model=model, encoder=\"TFIDF\", n_splits=N_SPLITS),\n",
    "                   timeout=TIMEOUT, show_progress_bar=True, n_trials=TRIALS)\n",
    "    studies.append(study)\n",
    "    retrained_model = ou.get_best_model(study.best_params, x_train, y_train)\n",
    "    with open(os.path.join(preprocessed_path, f\"{model}.pickle\"), \"wb\") as f:\n",
    "        pickle.dump(retrained_model, f)\n",
    "    results_test.append({\"type\": \"preprocessed\",\n",
    "                         \"model\": model,\n",
    "                         **ou.get_score(retrained_model, x_test, y_test)})\n",
    "    print(f\"Model: {model}\")\n",
    "    print(f\"Best accuracy: {study.best_value}\")\n",
    "    print(f\"Best params: {study.best_params}\")\n",
    "    results_optuna.append({\n",
    "        \"type\": \"preprocessed\",\n",
    "        \"model\": model,\n",
    "        \"score\": study.best_value,\n",
    "        \"params\": study.best_params\n",
    "    })"
   ],
   "metadata": {
    "collapsed": false,
    "ExecuteTime": {
     "end_time": "2023-11-27T09:38:48.211519500Z",
     "start_time": "2023-11-27T08:04:25.197507800Z"
    }
   },
   "id": "2ff21d2eb593dc96"
  },
  {
   "cell_type": "markdown",
   "source": [
    "# Stemming"
   ],
   "metadata": {
    "collapsed": false
   },
   "id": "6e7766257416f944"
  },
  {
   "cell_type": "code",
   "execution_count": 8,
   "outputs": [
    {
     "data": {
      "text/plain": "  screen_name                                               text account.type  \\\n0       bot#9                             YEA now that note GOOD          bot   \n1    human#17    Listen to This Charming Man by The Smiths <URL>        human   \n2      bot#23  wish i can i would be seeing other hoes on the...          bot   \n3       bot#1  The decade in the significantly easier schedul...          bot   \n4      bot#11  \" Theim class =\\ \" alignnone size-full wp-imag...          bot   \n\n  class_type                                             tokens  \\\n0     others                            ['yea', 'note', 'good']   \n1      human  ['listen', 'thi', 'charm', 'man', 'the', 'smit...   \n2     others   ['wish', 'would', 'see', 'hoe', 'worst', 'part']   \n3     others  ['the', 'decad', 'significantli', 'easier', 's...   \n4        rnn  ['\"', 'theim', 'class', '=\\\\', '\"', 'alignnon'...   \n\n                                            new_text  \n0                                      yea note good  \n1               listen thi charm man the smith <url>  \n2                      wish would see hoe worst part  \n3  the decad significantli easier schedul i don't...  \n4  \" theim class =\\ \" alignnon size-ful wp-imag -...  ",
      "text/html": "<div>\n<style scoped>\n    .dataframe tbody tr th:only-of-type {\n        vertical-align: middle;\n    }\n\n    .dataframe tbody tr th {\n        vertical-align: top;\n    }\n\n    .dataframe thead th {\n        text-align: right;\n    }\n</style>\n<table border=\"1\" class=\"dataframe\">\n  <thead>\n    <tr style=\"text-align: right;\">\n      <th></th>\n      <th>screen_name</th>\n      <th>text</th>\n      <th>account.type</th>\n      <th>class_type</th>\n      <th>tokens</th>\n      <th>new_text</th>\n    </tr>\n  </thead>\n  <tbody>\n    <tr>\n      <th>0</th>\n      <td>bot#9</td>\n      <td>YEA now that note GOOD</td>\n      <td>bot</td>\n      <td>others</td>\n      <td>['yea', 'note', 'good']</td>\n      <td>yea note good</td>\n    </tr>\n    <tr>\n      <th>1</th>\n      <td>human#17</td>\n      <td>Listen to This Charming Man by The Smiths &lt;URL&gt;</td>\n      <td>human</td>\n      <td>human</td>\n      <td>['listen', 'thi', 'charm', 'man', 'the', 'smit...</td>\n      <td>listen thi charm man the smith &lt;url&gt;</td>\n    </tr>\n    <tr>\n      <th>2</th>\n      <td>bot#23</td>\n      <td>wish i can i would be seeing other hoes on the...</td>\n      <td>bot</td>\n      <td>others</td>\n      <td>['wish', 'would', 'see', 'hoe', 'worst', 'part']</td>\n      <td>wish would see hoe worst part</td>\n    </tr>\n    <tr>\n      <th>3</th>\n      <td>bot#1</td>\n      <td>The decade in the significantly easier schedul...</td>\n      <td>bot</td>\n      <td>others</td>\n      <td>['the', 'decad', 'significantli', 'easier', 's...</td>\n      <td>the decad significantli easier schedul i don't...</td>\n    </tr>\n    <tr>\n      <th>4</th>\n      <td>bot#11</td>\n      <td>\" Theim class =\\ \" alignnone size-full wp-imag...</td>\n      <td>bot</td>\n      <td>rnn</td>\n      <td>['\"', 'theim', 'class', '=\\\\', '\"', 'alignnon'...</td>\n      <td>\" theim class =\\ \" alignnon size-ful wp-imag -...</td>\n    </tr>\n  </tbody>\n</table>\n</div>"
     },
     "execution_count": 8,
     "metadata": {},
     "output_type": "execute_result"
    }
   ],
   "source": [
    "DATA_PATH = os.path.join('..', 'data', 'stemmed')\n",
    "train = pd.read_csv(os.path.join(DATA_PATH, 'train.csv'))\n",
    "validation = pd.read_csv(os.path.join(DATA_PATH, 'validation.csv'))\n",
    "test = pd.read_csv(os.path.join(DATA_PATH, 'test.csv'))\n",
    "train.head()"
   ],
   "metadata": {
    "collapsed": false,
    "ExecuteTime": {
     "end_time": "2023-11-27T09:38:48.355517400Z",
     "start_time": "2023-11-27T09:38:48.214520300Z"
    }
   },
   "id": "5d8ecb0aa1533991"
  },
  {
   "cell_type": "code",
   "execution_count": 9,
   "outputs": [
    {
     "data": {
      "text/plain": "((23014,), (23014,))"
     },
     "execution_count": 9,
     "metadata": {},
     "output_type": "execute_result"
    }
   ],
   "source": [
    "x_train, y_train = get_x_y(train)\n",
    "x_validation, y_validation = get_x_y(validation)\n",
    "x_train = pd.concat([x_train, x_validation])\n",
    "y_train = np.append(y_train, y_validation)\n",
    "x_train.shape, y_train.shape"
   ],
   "metadata": {
    "collapsed": false,
    "ExecuteTime": {
     "end_time": "2023-11-27T09:38:48.379516700Z",
     "start_time": "2023-11-27T09:38:48.358517400Z"
    }
   },
   "id": "cb909d52594e25b6"
  },
  {
   "cell_type": "code",
   "execution_count": 10,
   "outputs": [
    {
     "data": {
      "text/plain": "((2558,), (2558,))"
     },
     "execution_count": 10,
     "metadata": {},
     "output_type": "execute_result"
    }
   ],
   "source": [
    "x_test, y_test = get_x_y(test)\n",
    "x_test.shape, y_test.shape"
   ],
   "metadata": {
    "collapsed": false,
    "ExecuteTime": {
     "end_time": "2023-11-27T09:38:48.401516400Z",
     "start_time": "2023-11-27T09:38:48.371518200Z"
    }
   },
   "id": "dd590da821cc98af"
  },
  {
   "cell_type": "code",
   "execution_count": 11,
   "outputs": [],
   "source": [
    "preprocessed_path = os.path.join(\"..\", \"models\", \"tfidf\", \"stemmed\")\n",
    "os.makedirs(preprocessed_path, exist_ok=True)"
   ],
   "metadata": {
    "collapsed": false,
    "ExecuteTime": {
     "end_time": "2023-11-27T09:38:48.412516900Z",
     "start_time": "2023-11-27T09:38:48.388517300Z"
    }
   },
   "id": "4a38b77e167453fa"
  },
  {
   "cell_type": "code",
   "execution_count": 12,
   "outputs": [
    {
     "name": "stderr",
     "output_type": "stream",
     "text": [
      "C:\\Users\\Piotrek\\anaconda3\\envs\\tensorflow\\lib\\site-packages\\optuna\\progress_bar.py:56: ExperimentalWarning: Progress bar is experimental (supported from v1.2.0). The interface can change in the future.\n",
      "  self._init_valid()\n"
     ]
    },
    {
     "data": {
      "text/plain": "  0%|          | 0/100 [00:00<?, ?it/s]",
      "application/vnd.jupyter.widget-view+json": {
       "version_major": 2,
       "version_minor": 0,
       "model_id": "d123323d08d5453fa2df11763cb06fe6"
      }
     },
     "metadata": {},
     "output_type": "display_data"
    },
    {
     "name": "stdout",
     "output_type": "stream",
     "text": [
      "Model: LGBM\n",
      "Best accuracy: 0.8243324116625151\n",
      "Best params: {'lgbm_boosting_type': 'gbdt', 'lgbm_max_depth': 14, 'lgbm_n_estimators': 47, 'lgbm_subsample': 0.6763114591400695, 'tfidf_ngram_range': 'unigram', 'tfidf_max_features': 7896, 'tfidf_max_df': 0.8726995572865293, 'tfidf_min_df': 0.00010761923718688525}\n"
     ]
    },
    {
     "name": "stderr",
     "output_type": "stream",
     "text": [
      "C:\\Users\\Piotrek\\anaconda3\\envs\\tensorflow\\lib\\site-packages\\optuna\\progress_bar.py:56: ExperimentalWarning: Progress bar is experimental (supported from v1.2.0). The interface can change in the future.\n",
      "  self._init_valid()\n"
     ]
    },
    {
     "data": {
      "text/plain": "  0%|          | 0/100 [00:00<?, ?it/s]",
      "application/vnd.jupyter.widget-view+json": {
       "version_major": 2,
       "version_minor": 0,
       "model_id": "e1753f4ffee94a73ac2a29f129bd83cc"
      }
     },
     "metadata": {},
     "output_type": "display_data"
    },
    {
     "name": "stdout",
     "output_type": "stream",
     "text": [
      "Model: XGB\n",
      "Best accuracy: 0.8175518633344548\n",
      "Best params: {'xgb_booster': 'gbtree', 'xgb_max_depth': 3, 'xgb_n_estimators': 126, 'xgb_subsample': 0.6789374154333612, 'tfidf_ngram_range': 'trigram', 'tfidf_max_features': 1993, 'tfidf_max_df': 0.8038501703381888, 'tfidf_min_df': 0.0018039544794470064}\n"
     ]
    },
    {
     "name": "stderr",
     "output_type": "stream",
     "text": [
      "C:\\Users\\Piotrek\\anaconda3\\envs\\tensorflow\\lib\\site-packages\\optuna\\progress_bar.py:56: ExperimentalWarning: Progress bar is experimental (supported from v1.2.0). The interface can change in the future.\n",
      "  self._init_valid()\n"
     ]
    },
    {
     "data": {
      "text/plain": "  0%|          | 0/100 [00:00<?, ?it/s]",
      "application/vnd.jupyter.widget-view+json": {
       "version_major": 2,
       "version_minor": 0,
       "model_id": "5a018dc2b6bc4992a67d9e34b8406c3c"
      }
     },
     "metadata": {},
     "output_type": "display_data"
    },
    {
     "name": "stdout",
     "output_type": "stream",
     "text": [
      "Model: RF\n",
      "Best accuracy: 0.8046936681101521\n",
      "Best params: {'rf_max_depth': 15, 'rf_n_estimators': 117, 'rf_criterion': 'entropy', 'rf_min_samples_split': 0.026128551127656066, 'tfidf_ngram_range': 'unigram', 'tfidf_max_features': 1738, 'tfidf_max_df': 0.8149080290001827, 'tfidf_min_df': 5.672873705708315e-05}\n"
     ]
    },
    {
     "name": "stderr",
     "output_type": "stream",
     "text": [
      "C:\\Users\\Piotrek\\anaconda3\\envs\\tensorflow\\lib\\site-packages\\optuna\\progress_bar.py:56: ExperimentalWarning: Progress bar is experimental (supported from v1.2.0). The interface can change in the future.\n",
      "  self._init_valid()\n"
     ]
    },
    {
     "data": {
      "text/plain": "  0%|          | 0/100 [00:00<?, ?it/s]",
      "application/vnd.jupyter.widget-view+json": {
       "version_major": 2,
       "version_minor": 0,
       "model_id": "77f8216727e443a2ae4e2aa73209234e"
      }
     },
     "metadata": {},
     "output_type": "display_data"
    },
    {
     "name": "stdout",
     "output_type": "stream",
     "text": [
      "Model: SVC\n",
      "Best accuracy: 0.8273282005217389\n",
      "Best params: {'svc_kernel': 'rbf', 'svc_C': 1.2769323445571867, 'tfidf_ngram_range': 'unigram', 'tfidf_max_features': 8432, 'tfidf_max_df': 0.901358223945256, 'tfidf_min_df': 0.0003497466006027218}\n"
     ]
    },
    {
     "name": "stderr",
     "output_type": "stream",
     "text": [
      "C:\\Users\\Piotrek\\anaconda3\\envs\\tensorflow\\lib\\site-packages\\optuna\\progress_bar.py:56: ExperimentalWarning: Progress bar is experimental (supported from v1.2.0). The interface can change in the future.\n",
      "  self._init_valid()\n"
     ]
    },
    {
     "data": {
      "text/plain": "  0%|          | 0/100 [00:00<?, ?it/s]",
      "application/vnd.jupyter.widget-view+json": {
       "version_major": 2,
       "version_minor": 0,
       "model_id": "22942e71de594643a9a7a7053115e2ed"
      }
     },
     "metadata": {},
     "output_type": "display_data"
    },
    {
     "name": "stdout",
     "output_type": "stream",
     "text": [
      "Model: LR\n",
      "Best accuracy: 0.8168546067116212\n",
      "Best params: {'lr_penalty': 'l2', 'lr_C': 1.476130789859466, 'tfidf_ngram_range': 'trigram', 'tfidf_max_features': 9379, 'tfidf_max_df': 0.9000799027049124, 'tfidf_min_df': 1.7381024782369694e-05}\n"
     ]
    }
   ],
   "source": [
    "for model in ou.MODELS.keys():\n",
    "    study = create_study(study_name=f'stemming_{model}', direction='maximize')\n",
    "    study.optimize(lambda trial: ou.objective(trial, x_train, y_train, model=model, encoder=\"TFIDF\", n_splits=N_SPLITS),\n",
    "                   timeout=TIMEOUT, show_progress_bar=True, n_trials=TRIALS)\n",
    "    studies.append(study)\n",
    "    retrained_model = ou.get_best_model(study.best_params, x_train, y_train)\n",
    "    with open(os.path.join(preprocessed_path, f\"{model}.pickle\"), \"wb\") as f:\n",
    "        pickle.dump(retrained_model, f)\n",
    "    results_test.append({\"type\": \"stemming\",\n",
    "                         \"model\": model,\n",
    "                         **ou.get_score(retrained_model, x_test, y_test)})\n",
    "    print(f\"Model: {model}\")\n",
    "    print(f\"Best accuracy: {study.best_value}\")\n",
    "    print(f\"Best params: {study.best_params}\")\n",
    "    results_optuna.append({\n",
    "        \"type\": \"stemming\",\n",
    "        \"model\": model,\n",
    "        \"score\": study.best_value,\n",
    "        \"params\": study.best_params\n",
    "    })"
   ],
   "metadata": {
    "collapsed": false,
    "ExecuteTime": {
     "end_time": "2023-11-27T11:01:40.603914600Z",
     "start_time": "2023-11-27T09:38:48.409516900Z"
    }
   },
   "id": "295730c88263193a"
  },
  {
   "cell_type": "markdown",
   "source": [
    "# Lemmatization"
   ],
   "metadata": {
    "collapsed": false
   },
   "id": "52b0e5ff8ec44739"
  },
  {
   "cell_type": "code",
   "execution_count": 13,
   "outputs": [
    {
     "data": {
      "text/plain": "  screen_name                                               text account.type  \\\n0       bot#9                             YEA now that note GOOD          bot   \n1    human#17    Listen to This Charming Man by The Smiths <URL>        human   \n2      bot#23  wish i can i would be seeing other hoes on the...          bot   \n3       bot#1  The decade in the significantly easier schedul...          bot   \n4      bot#11  \" Theim class =\\ \" alignnone size-full wp-imag...          bot   \n\n  class_type                                             tokens  \\\n0     others                            ['yea', 'note', 'good']   \n1      human  ['listen', 'thi', 'charm', 'man', 'the', 'smit...   \n2     others   ['wish', 'would', 'see', 'hoe', 'worst', 'part']   \n3     others  ['the', 'decad', 'significantli', 'easier', 's...   \n4        rnn  ['\"', 'theim', 'class', '=\\\\', '\"', 'alignnon'...   \n\n                                            new_text  \n0                                      yea note good  \n1               listen thi charm man the smith <url>  \n2                      wish would see hoe worst part  \n3  the decad significantli easier schedul i don't...  \n4  \" theim class =\\ \" alignnon size-ful wp-imag -...  ",
      "text/html": "<div>\n<style scoped>\n    .dataframe tbody tr th:only-of-type {\n        vertical-align: middle;\n    }\n\n    .dataframe tbody tr th {\n        vertical-align: top;\n    }\n\n    .dataframe thead th {\n        text-align: right;\n    }\n</style>\n<table border=\"1\" class=\"dataframe\">\n  <thead>\n    <tr style=\"text-align: right;\">\n      <th></th>\n      <th>screen_name</th>\n      <th>text</th>\n      <th>account.type</th>\n      <th>class_type</th>\n      <th>tokens</th>\n      <th>new_text</th>\n    </tr>\n  </thead>\n  <tbody>\n    <tr>\n      <th>0</th>\n      <td>bot#9</td>\n      <td>YEA now that note GOOD</td>\n      <td>bot</td>\n      <td>others</td>\n      <td>['yea', 'note', 'good']</td>\n      <td>yea note good</td>\n    </tr>\n    <tr>\n      <th>1</th>\n      <td>human#17</td>\n      <td>Listen to This Charming Man by The Smiths &lt;URL&gt;</td>\n      <td>human</td>\n      <td>human</td>\n      <td>['listen', 'thi', 'charm', 'man', 'the', 'smit...</td>\n      <td>listen thi charm man the smith &lt;url&gt;</td>\n    </tr>\n    <tr>\n      <th>2</th>\n      <td>bot#23</td>\n      <td>wish i can i would be seeing other hoes on the...</td>\n      <td>bot</td>\n      <td>others</td>\n      <td>['wish', 'would', 'see', 'hoe', 'worst', 'part']</td>\n      <td>wish would see hoe worst part</td>\n    </tr>\n    <tr>\n      <th>3</th>\n      <td>bot#1</td>\n      <td>The decade in the significantly easier schedul...</td>\n      <td>bot</td>\n      <td>others</td>\n      <td>['the', 'decad', 'significantli', 'easier', 's...</td>\n      <td>the decad significantli easier schedul i don't...</td>\n    </tr>\n    <tr>\n      <th>4</th>\n      <td>bot#11</td>\n      <td>\" Theim class =\\ \" alignnone size-full wp-imag...</td>\n      <td>bot</td>\n      <td>rnn</td>\n      <td>['\"', 'theim', 'class', '=\\\\', '\"', 'alignnon'...</td>\n      <td>\" theim class =\\ \" alignnon size-ful wp-imag -...</td>\n    </tr>\n  </tbody>\n</table>\n</div>"
     },
     "execution_count": 13,
     "metadata": {},
     "output_type": "execute_result"
    }
   ],
   "source": [
    "DATA_PATH = os.path.join('..', 'data', 'lemmatized')\n",
    "train = pd.read_csv(os.path.join(DATA_PATH, 'train.csv'))\n",
    "validation = pd.read_csv(os.path.join(DATA_PATH, 'validation.csv'))\n",
    "test = pd.read_csv(os.path.join(DATA_PATH, 'test.csv'))\n",
    "train.head()"
   ],
   "metadata": {
    "collapsed": false,
    "ExecuteTime": {
     "end_time": "2023-11-27T11:01:40.745915800Z",
     "start_time": "2023-11-27T11:01:40.606914600Z"
    }
   },
   "id": "d3db0e1b5283c35d"
  },
  {
   "cell_type": "code",
   "execution_count": 14,
   "outputs": [
    {
     "data": {
      "text/plain": "((23014,), (23014,))"
     },
     "execution_count": 14,
     "metadata": {},
     "output_type": "execute_result"
    }
   ],
   "source": [
    "x_train, y_train = get_x_y(train)\n",
    "x_validation, y_validation = get_x_y(validation)\n",
    "x_train = pd.concat([x_train, x_validation])\n",
    "y_train = np.append(y_train, y_validation)\n",
    "x_train.shape, y_train.shape"
   ],
   "metadata": {
    "collapsed": false,
    "ExecuteTime": {
     "end_time": "2023-11-27T11:01:40.774915300Z",
     "start_time": "2023-11-27T11:01:40.754915200Z"
    }
   },
   "id": "e8a833392f66719b"
  },
  {
   "cell_type": "code",
   "execution_count": 15,
   "outputs": [
    {
     "data": {
      "text/plain": "((2558,), (2558,))"
     },
     "execution_count": 15,
     "metadata": {},
     "output_type": "execute_result"
    }
   ],
   "source": [
    "x_test, y_test = get_x_y(test)\n",
    "x_test.shape, y_test.shape"
   ],
   "metadata": {
    "collapsed": false,
    "ExecuteTime": {
     "end_time": "2023-11-27T11:01:40.811917Z",
     "start_time": "2023-11-27T11:01:40.765916200Z"
    }
   },
   "id": "a0909b4e8d0eaf2b"
  },
  {
   "cell_type": "code",
   "execution_count": 16,
   "outputs": [],
   "source": [
    "preprocessed_path = os.path.join(\"..\", \"models\", \"tfidf\", \"lemmatization\")\n",
    "os.makedirs(preprocessed_path, exist_ok=True)"
   ],
   "metadata": {
    "collapsed": false,
    "ExecuteTime": {
     "end_time": "2023-11-27T11:01:40.830915900Z",
     "start_time": "2023-11-27T11:01:40.780914900Z"
    }
   },
   "id": "d7f5d73a05afb9fd"
  },
  {
   "cell_type": "code",
   "execution_count": 17,
   "outputs": [
    {
     "name": "stderr",
     "output_type": "stream",
     "text": [
      "C:\\Users\\Piotrek\\anaconda3\\envs\\tensorflow\\lib\\site-packages\\optuna\\progress_bar.py:56: ExperimentalWarning: Progress bar is experimental (supported from v1.2.0). The interface can change in the future.\n",
      "  self._init_valid()\n"
     ]
    },
    {
     "data": {
      "text/plain": "  0%|          | 0/100 [00:00<?, ?it/s]",
      "application/vnd.jupyter.widget-view+json": {
       "version_major": 2,
       "version_minor": 0,
       "model_id": "4d0766e5733a4dc7ae71fb10941c064a"
      }
     },
     "metadata": {},
     "output_type": "display_data"
    },
    {
     "name": "stdout",
     "output_type": "stream",
     "text": [
      "Model: LGBM\n",
      "Best accuracy: 0.8295011310384824\n",
      "Best params: {'lgbm_boosting_type': 'gbdt', 'lgbm_max_depth': 12, 'lgbm_n_estimators': 333, 'lgbm_subsample': 0.9367393538754355, 'tfidf_ngram_range': 'digram', 'tfidf_max_features': 5697, 'tfidf_max_df': 0.8461080367889807, 'tfidf_min_df': 0.00012931054966621824}\n"
     ]
    },
    {
     "name": "stderr",
     "output_type": "stream",
     "text": [
      "C:\\Users\\Piotrek\\anaconda3\\envs\\tensorflow\\lib\\site-packages\\optuna\\progress_bar.py:56: ExperimentalWarning: Progress bar is experimental (supported from v1.2.0). The interface can change in the future.\n",
      "  self._init_valid()\n"
     ]
    },
    {
     "data": {
      "text/plain": "  0%|          | 0/100 [00:00<?, ?it/s]",
      "application/vnd.jupyter.widget-view+json": {
       "version_major": 2,
       "version_minor": 0,
       "model_id": "c00eb19ec4f94ba0a412c8aaa99f24c1"
      }
     },
     "metadata": {},
     "output_type": "display_data"
    },
    {
     "name": "stdout",
     "output_type": "stream",
     "text": [
      "Model: XGB\n",
      "Best accuracy: 0.8141634298690065\n",
      "Best params: {'xgb_booster': 'dart', 'xgb_max_depth': 1, 'xgb_n_estimators': 234, 'xgb_subsample': 0.6118808404517502, 'tfidf_ngram_range': 'unigram', 'tfidf_max_features': 1010, 'tfidf_max_df': 0.9170902863066774, 'tfidf_min_df': 0.0006777006523809902}\n"
     ]
    },
    {
     "name": "stderr",
     "output_type": "stream",
     "text": [
      "C:\\Users\\Piotrek\\anaconda3\\envs\\tensorflow\\lib\\site-packages\\optuna\\progress_bar.py:56: ExperimentalWarning: Progress bar is experimental (supported from v1.2.0). The interface can change in the future.\n",
      "  self._init_valid()\n"
     ]
    },
    {
     "data": {
      "text/plain": "  0%|          | 0/100 [00:00<?, ?it/s]",
      "application/vnd.jupyter.widget-view+json": {
       "version_major": 2,
       "version_minor": 0,
       "model_id": "5c1004d5095e41539584d6decb976101"
      }
     },
     "metadata": {},
     "output_type": "display_data"
    },
    {
     "name": "stdout",
     "output_type": "stream",
     "text": [
      "Model: RF\n",
      "Best accuracy: 0.8015220594981745\n",
      "Best params: {'rf_max_depth': 14, 'rf_n_estimators': 126, 'rf_criterion': 'log_loss', 'rf_min_samples_split': 0.07965827051163638, 'tfidf_ngram_range': 'unigram', 'tfidf_max_features': 1548, 'tfidf_max_df': 0.9551921262748005, 'tfidf_min_df': 0.0005103527159608934}\n"
     ]
    },
    {
     "name": "stderr",
     "output_type": "stream",
     "text": [
      "C:\\Users\\Piotrek\\anaconda3\\envs\\tensorflow\\lib\\site-packages\\optuna\\progress_bar.py:56: ExperimentalWarning: Progress bar is experimental (supported from v1.2.0). The interface can change in the future.\n",
      "  self._init_valid()\n"
     ]
    },
    {
     "data": {
      "text/plain": "  0%|          | 0/100 [00:00<?, ?it/s]",
      "application/vnd.jupyter.widget-view+json": {
       "version_major": 2,
       "version_minor": 0,
       "model_id": "50e6899882334290aebdfc00aaa256a8"
      }
     },
     "metadata": {},
     "output_type": "display_data"
    },
    {
     "name": "stdout",
     "output_type": "stream",
     "text": [
      "Model: SVC\n",
      "Best accuracy: 0.8260242874042223\n",
      "Best params: {'svc_kernel': 'rbf', 'svc_C': 1.3347440516526416, 'tfidf_ngram_range': 'trigram', 'tfidf_max_features': 1743, 'tfidf_max_df': 0.9592307945556902, 'tfidf_min_df': 0.0005156788905434892}\n"
     ]
    },
    {
     "name": "stderr",
     "output_type": "stream",
     "text": [
      "C:\\Users\\Piotrek\\anaconda3\\envs\\tensorflow\\lib\\site-packages\\optuna\\progress_bar.py:56: ExperimentalWarning: Progress bar is experimental (supported from v1.2.0). The interface can change in the future.\n",
      "  self._init_valid()\n"
     ]
    },
    {
     "data": {
      "text/plain": "  0%|          | 0/100 [00:00<?, ?it/s]",
      "application/vnd.jupyter.widget-view+json": {
       "version_major": 2,
       "version_minor": 0,
       "model_id": "ed6103437ac3415383404a745f3c1c2f"
      }
     },
     "metadata": {},
     "output_type": "display_data"
    },
    {
     "name": "stdout",
     "output_type": "stream",
     "text": [
      "Model: LR\n",
      "Best accuracy: 0.814377555031224\n",
      "Best params: {'lr_penalty': 'l2', 'lr_C': 1.728445496973784, 'tfidf_ngram_range': 'digram', 'tfidf_max_features': 4147, 'tfidf_max_df': 0.9701699845498118, 'tfidf_min_df': 0.00023461362461710234}\n"
     ]
    }
   ],
   "source": [
    "for model in ou.MODELS.keys():\n",
    "    study = create_study(study_name=f'lemmatization_{model}', direction='maximize')\n",
    "    study.optimize(lambda trial: ou.objective(trial, x_train, y_train, model=model, encoder=\"TFIDF\", n_splits=N_SPLITS),\n",
    "                   timeout=TIMEOUT, show_progress_bar=True, n_trials=TRIALS)\n",
    "    studies.append(study)\n",
    "    retrained_model = ou.get_best_model(study.best_params, x_train, y_train)\n",
    "    with open(os.path.join(preprocessed_path, f\"{model}.pickle\"), \"wb\") as f:\n",
    "        pickle.dump(retrained_model, f)\n",
    "    results_test.append({\"type\": \"lemmatization\",\n",
    "                         \"model\": model,\n",
    "                         **ou.get_score(retrained_model, x_test, y_test)})\n",
    "    print(f\"Model: {model}\")\n",
    "    print(f\"Best accuracy: {study.best_value}\")\n",
    "    print(f\"Best params: {study.best_params}\")\n",
    "    results_optuna.append({\n",
    "        \"type\": \"lemmatization\",\n",
    "        \"model\": model,\n",
    "        \"score\": study.best_value,\n",
    "        \"params\": study.best_params\n",
    "    })"
   ],
   "metadata": {
    "collapsed": false,
    "ExecuteTime": {
     "end_time": "2023-11-27T12:22:36.483394600Z",
     "start_time": "2023-11-27T11:01:40.798915700Z"
    }
   },
   "id": "d33110b4b9c003cf"
  },
  {
   "cell_type": "markdown",
   "source": [
    "# Results"
   ],
   "metadata": {
    "collapsed": false
   },
   "id": "e3a4281e2d24ecd2"
  },
  {
   "cell_type": "code",
   "execution_count": 18,
   "outputs": [
    {
     "data": {
      "text/plain": "             type model     score  \\\n10  lemmatization  LGBM  0.829501   \n3    preprocessed   SVC  0.827936   \n0    preprocessed  LGBM  0.827765   \n8        stemming   SVC  0.827328   \n13  lemmatization   SVC  0.826024   \n5        stemming  LGBM  0.824332   \n1    preprocessed   XGB  0.820462   \n6        stemming   XGB  0.817552   \n9        stemming    LR  0.816855   \n14  lemmatization    LR  0.814378   \n11  lemmatization   XGB  0.814163   \n2    preprocessed    RF  0.807864   \n4    preprocessed    LR  0.805166   \n7        stemming    RF  0.804694   \n12  lemmatization    RF  0.801522   \n\n                                               params  \n10  {'lgbm_boosting_type': 'gbdt', 'lgbm_max_depth...  \n3   {'svc_kernel': 'rbf', 'svc_C': 1.4318393113722...  \n0   {'lgbm_boosting_type': 'dart', 'lgbm_max_depth...  \n8   {'svc_kernel': 'rbf', 'svc_C': 1.2769323445571...  \n13  {'svc_kernel': 'rbf', 'svc_C': 1.3347440516526...  \n5   {'lgbm_boosting_type': 'gbdt', 'lgbm_max_depth...  \n1   {'xgb_booster': 'dart', 'xgb_max_depth': 13, '...  \n6   {'xgb_booster': 'gbtree', 'xgb_max_depth': 3, ...  \n9   {'lr_penalty': 'l2', 'lr_C': 1.476130789859466...  \n14  {'lr_penalty': 'l2', 'lr_C': 1.728445496973784...  \n11  {'xgb_booster': 'dart', 'xgb_max_depth': 1, 'x...  \n2   {'rf_max_depth': 15, 'rf_n_estimators': 201, '...  \n4   {'lr_penalty': 'l1', 'lr_C': 10.02238560151606...  \n7   {'rf_max_depth': 15, 'rf_n_estimators': 117, '...  \n12  {'rf_max_depth': 14, 'rf_n_estimators': 126, '...  ",
      "text/html": "<div>\n<style scoped>\n    .dataframe tbody tr th:only-of-type {\n        vertical-align: middle;\n    }\n\n    .dataframe tbody tr th {\n        vertical-align: top;\n    }\n\n    .dataframe thead th {\n        text-align: right;\n    }\n</style>\n<table border=\"1\" class=\"dataframe\">\n  <thead>\n    <tr style=\"text-align: right;\">\n      <th></th>\n      <th>type</th>\n      <th>model</th>\n      <th>score</th>\n      <th>params</th>\n    </tr>\n  </thead>\n  <tbody>\n    <tr>\n      <th>10</th>\n      <td>lemmatization</td>\n      <td>LGBM</td>\n      <td>0.829501</td>\n      <td>{'lgbm_boosting_type': 'gbdt', 'lgbm_max_depth...</td>\n    </tr>\n    <tr>\n      <th>3</th>\n      <td>preprocessed</td>\n      <td>SVC</td>\n      <td>0.827936</td>\n      <td>{'svc_kernel': 'rbf', 'svc_C': 1.4318393113722...</td>\n    </tr>\n    <tr>\n      <th>0</th>\n      <td>preprocessed</td>\n      <td>LGBM</td>\n      <td>0.827765</td>\n      <td>{'lgbm_boosting_type': 'dart', 'lgbm_max_depth...</td>\n    </tr>\n    <tr>\n      <th>8</th>\n      <td>stemming</td>\n      <td>SVC</td>\n      <td>0.827328</td>\n      <td>{'svc_kernel': 'rbf', 'svc_C': 1.2769323445571...</td>\n    </tr>\n    <tr>\n      <th>13</th>\n      <td>lemmatization</td>\n      <td>SVC</td>\n      <td>0.826024</td>\n      <td>{'svc_kernel': 'rbf', 'svc_C': 1.3347440516526...</td>\n    </tr>\n    <tr>\n      <th>5</th>\n      <td>stemming</td>\n      <td>LGBM</td>\n      <td>0.824332</td>\n      <td>{'lgbm_boosting_type': 'gbdt', 'lgbm_max_depth...</td>\n    </tr>\n    <tr>\n      <th>1</th>\n      <td>preprocessed</td>\n      <td>XGB</td>\n      <td>0.820462</td>\n      <td>{'xgb_booster': 'dart', 'xgb_max_depth': 13, '...</td>\n    </tr>\n    <tr>\n      <th>6</th>\n      <td>stemming</td>\n      <td>XGB</td>\n      <td>0.817552</td>\n      <td>{'xgb_booster': 'gbtree', 'xgb_max_depth': 3, ...</td>\n    </tr>\n    <tr>\n      <th>9</th>\n      <td>stemming</td>\n      <td>LR</td>\n      <td>0.816855</td>\n      <td>{'lr_penalty': 'l2', 'lr_C': 1.476130789859466...</td>\n    </tr>\n    <tr>\n      <th>14</th>\n      <td>lemmatization</td>\n      <td>LR</td>\n      <td>0.814378</td>\n      <td>{'lr_penalty': 'l2', 'lr_C': 1.728445496973784...</td>\n    </tr>\n    <tr>\n      <th>11</th>\n      <td>lemmatization</td>\n      <td>XGB</td>\n      <td>0.814163</td>\n      <td>{'xgb_booster': 'dart', 'xgb_max_depth': 1, 'x...</td>\n    </tr>\n    <tr>\n      <th>2</th>\n      <td>preprocessed</td>\n      <td>RF</td>\n      <td>0.807864</td>\n      <td>{'rf_max_depth': 15, 'rf_n_estimators': 201, '...</td>\n    </tr>\n    <tr>\n      <th>4</th>\n      <td>preprocessed</td>\n      <td>LR</td>\n      <td>0.805166</td>\n      <td>{'lr_penalty': 'l1', 'lr_C': 10.02238560151606...</td>\n    </tr>\n    <tr>\n      <th>7</th>\n      <td>stemming</td>\n      <td>RF</td>\n      <td>0.804694</td>\n      <td>{'rf_max_depth': 15, 'rf_n_estimators': 117, '...</td>\n    </tr>\n    <tr>\n      <th>12</th>\n      <td>lemmatization</td>\n      <td>RF</td>\n      <td>0.801522</td>\n      <td>{'rf_max_depth': 14, 'rf_n_estimators': 126, '...</td>\n    </tr>\n  </tbody>\n</table>\n</div>"
     },
     "execution_count": 18,
     "metadata": {},
     "output_type": "execute_result"
    }
   ],
   "source": [
    "results_df = pd.DataFrame(results_optuna)\n",
    "results_df.sort_values(by=\"score\", ascending=False)"
   ],
   "metadata": {
    "collapsed": false,
    "ExecuteTime": {
     "end_time": "2023-11-27T12:22:36.531394500Z",
     "start_time": "2023-11-27T12:22:36.495394100Z"
    }
   },
   "id": "4818f3948034e192"
  },
  {
   "cell_type": "code",
   "execution_count": 19,
   "outputs": [],
   "source": [
    "results_df.sort_values(by=\"score\", ascending=False).to_csv(\n",
    "    os.path.join(\"results\", \"tfidf_optuna.csv\"), index=False)"
   ],
   "metadata": {
    "collapsed": false,
    "ExecuteTime": {
     "end_time": "2023-11-27T12:22:36.532395800Z",
     "start_time": "2023-11-27T12:22:36.517394900Z"
    }
   },
   "id": "1c43d848ea843399"
  },
  {
   "cell_type": "code",
   "execution_count": 20,
   "outputs": [
    {
     "data": {
      "text/plain": "             type model  balanced_accuracy  f1_score  precision    recall\n13  lemmatization   SVC           0.831058  0.843251   0.787263  0.907813\n3    preprocessed   SVC           0.828714  0.840727   0.786395  0.903125\n8        stemming   SVC           0.825982  0.837294   0.786942  0.894531\n9        stemming    LR           0.824428  0.834011   0.791579  0.881250\n0    preprocessed  LGBM           0.823610  0.840241   0.768633  0.926562\n10  lemmatization  LGBM           0.822456  0.835626   0.778677  0.901563\n6        stemming   XGB           0.818936  0.832550   0.775084  0.899219\n14  lemmatization    LR           0.818568  0.827637   0.788952  0.870313\n5        stemming  LGBM           0.818528  0.835578   0.764591  0.921094\n11  lemmatization   XGB           0.809153  0.825590   0.760870  0.902344\n1    preprocessed   XGB           0.808401  0.818519   0.778169  0.863281\n2    preprocessed    RF           0.807964  0.827780   0.751114  0.921875\n7        stemming    RF           0.803658  0.825087   0.744654  0.925000\n4    preprocessed    LR           0.802140  0.813971   0.768750  0.864844\n12  lemmatization    RF           0.801306  0.824343   0.739454  0.931250",
      "text/html": "<div>\n<style scoped>\n    .dataframe tbody tr th:only-of-type {\n        vertical-align: middle;\n    }\n\n    .dataframe tbody tr th {\n        vertical-align: top;\n    }\n\n    .dataframe thead th {\n        text-align: right;\n    }\n</style>\n<table border=\"1\" class=\"dataframe\">\n  <thead>\n    <tr style=\"text-align: right;\">\n      <th></th>\n      <th>type</th>\n      <th>model</th>\n      <th>balanced_accuracy</th>\n      <th>f1_score</th>\n      <th>precision</th>\n      <th>recall</th>\n    </tr>\n  </thead>\n  <tbody>\n    <tr>\n      <th>13</th>\n      <td>lemmatization</td>\n      <td>SVC</td>\n      <td>0.831058</td>\n      <td>0.843251</td>\n      <td>0.787263</td>\n      <td>0.907813</td>\n    </tr>\n    <tr>\n      <th>3</th>\n      <td>preprocessed</td>\n      <td>SVC</td>\n      <td>0.828714</td>\n      <td>0.840727</td>\n      <td>0.786395</td>\n      <td>0.903125</td>\n    </tr>\n    <tr>\n      <th>8</th>\n      <td>stemming</td>\n      <td>SVC</td>\n      <td>0.825982</td>\n      <td>0.837294</td>\n      <td>0.786942</td>\n      <td>0.894531</td>\n    </tr>\n    <tr>\n      <th>9</th>\n      <td>stemming</td>\n      <td>LR</td>\n      <td>0.824428</td>\n      <td>0.834011</td>\n      <td>0.791579</td>\n      <td>0.881250</td>\n    </tr>\n    <tr>\n      <th>0</th>\n      <td>preprocessed</td>\n      <td>LGBM</td>\n      <td>0.823610</td>\n      <td>0.840241</td>\n      <td>0.768633</td>\n      <td>0.926562</td>\n    </tr>\n    <tr>\n      <th>10</th>\n      <td>lemmatization</td>\n      <td>LGBM</td>\n      <td>0.822456</td>\n      <td>0.835626</td>\n      <td>0.778677</td>\n      <td>0.901563</td>\n    </tr>\n    <tr>\n      <th>6</th>\n      <td>stemming</td>\n      <td>XGB</td>\n      <td>0.818936</td>\n      <td>0.832550</td>\n      <td>0.775084</td>\n      <td>0.899219</td>\n    </tr>\n    <tr>\n      <th>14</th>\n      <td>lemmatization</td>\n      <td>LR</td>\n      <td>0.818568</td>\n      <td>0.827637</td>\n      <td>0.788952</td>\n      <td>0.870313</td>\n    </tr>\n    <tr>\n      <th>5</th>\n      <td>stemming</td>\n      <td>LGBM</td>\n      <td>0.818528</td>\n      <td>0.835578</td>\n      <td>0.764591</td>\n      <td>0.921094</td>\n    </tr>\n    <tr>\n      <th>11</th>\n      <td>lemmatization</td>\n      <td>XGB</td>\n      <td>0.809153</td>\n      <td>0.825590</td>\n      <td>0.760870</td>\n      <td>0.902344</td>\n    </tr>\n    <tr>\n      <th>1</th>\n      <td>preprocessed</td>\n      <td>XGB</td>\n      <td>0.808401</td>\n      <td>0.818519</td>\n      <td>0.778169</td>\n      <td>0.863281</td>\n    </tr>\n    <tr>\n      <th>2</th>\n      <td>preprocessed</td>\n      <td>RF</td>\n      <td>0.807964</td>\n      <td>0.827780</td>\n      <td>0.751114</td>\n      <td>0.921875</td>\n    </tr>\n    <tr>\n      <th>7</th>\n      <td>stemming</td>\n      <td>RF</td>\n      <td>0.803658</td>\n      <td>0.825087</td>\n      <td>0.744654</td>\n      <td>0.925000</td>\n    </tr>\n    <tr>\n      <th>4</th>\n      <td>preprocessed</td>\n      <td>LR</td>\n      <td>0.802140</td>\n      <td>0.813971</td>\n      <td>0.768750</td>\n      <td>0.864844</td>\n    </tr>\n    <tr>\n      <th>12</th>\n      <td>lemmatization</td>\n      <td>RF</td>\n      <td>0.801306</td>\n      <td>0.824343</td>\n      <td>0.739454</td>\n      <td>0.931250</td>\n    </tr>\n  </tbody>\n</table>\n</div>"
     },
     "execution_count": 20,
     "metadata": {},
     "output_type": "execute_result"
    }
   ],
   "source": [
    "results_test_df = pd.DataFrame(results_test)\n",
    "results_test_df.sort_values(by=\"balanced_accuracy\", ascending=False)"
   ],
   "metadata": {
    "collapsed": false,
    "ExecuteTime": {
     "end_time": "2023-11-27T12:22:36.545394500Z",
     "start_time": "2023-11-27T12:22:36.530393900Z"
    }
   },
   "id": "3e0ee7e4c2f64368"
  },
  {
   "cell_type": "code",
   "execution_count": 21,
   "outputs": [],
   "source": [
    "results_test_df.sort_values(by=\"balanced_accuracy\", ascending=False).to_csv(\n",
    "    os.path.join(\"results\", \"tfidf.csv\"), index=False)"
   ],
   "metadata": {
    "collapsed": false,
    "ExecuteTime": {
     "end_time": "2023-11-27T12:22:36.593393Z",
     "start_time": "2023-11-27T12:22:36.548394400Z"
    }
   },
   "id": "50c558df436b3459"
  }
 ],
 "metadata": {
  "kernelspec": {
   "display_name": "Python 3",
   "language": "python",
   "name": "python3"
  },
  "language_info": {
   "codemirror_mode": {
    "name": "ipython",
    "version": 2
   },
   "file_extension": ".py",
   "mimetype": "text/x-python",
   "name": "python",
   "nbconvert_exporter": "python",
   "pygments_lexer": "ipython2",
   "version": "2.7.6"
  }
 },
 "nbformat": 4,
 "nbformat_minor": 5
}
