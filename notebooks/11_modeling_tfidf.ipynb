{
 "cells": [
  {
   "cell_type": "markdown",
   "source": [
    "# Modules import"
   ],
   "metadata": {
    "collapsed": false
   },
   "id": "a70f52e2f679a06"
  },
  {
   "cell_type": "code",
   "execution_count": 1,
   "outputs": [
    {
     "name": "stderr",
     "output_type": "stream",
     "text": [
      "Intel(R) Extension for Scikit-learn* enabled (https://github.com/intel/scikit-learn-intelex)\n"
     ]
    }
   ],
   "source": [
    "import os.path\n",
    "\n",
    "import pickle\n",
    "import numpy as np\n",
    "import optuna\n",
    "import pandas as pd\n",
    "from sklearnex import patch_sklearn\n",
    "\n",
    "patch_sklearn()\n",
    "import utils.optuna_utils as ou\n",
    "from optuna import create_study\n",
    "\n",
    "optuna.logging.set_verbosity(optuna.logging.WARNING)\n",
    "\n",
    "TIMEOUT = 1200  # seconds\n",
    "TRIALS = 100  # number of trials\n",
    "N_SPLITS = 5"
   ],
   "metadata": {
    "collapsed": false,
    "ExecuteTime": {
     "end_time": "2023-11-20T23:08:46.281727Z",
     "start_time": "2023-11-20T23:08:45.005783700Z"
    }
   },
   "id": "e962ee04724949e0"
  },
  {
   "cell_type": "code",
   "execution_count": 2,
   "outputs": [],
   "source": [
    "np.random.seed(42)"
   ],
   "metadata": {
    "collapsed": false,
    "ExecuteTime": {
     "end_time": "2023-11-20T23:08:46.296727500Z",
     "start_time": "2023-11-20T23:08:46.282727Z"
    }
   },
   "id": "11ddbcd17773baf2"
  },
  {
   "cell_type": "markdown",
   "source": [
    "# Simple processing"
   ],
   "metadata": {
    "collapsed": false
   },
   "id": "2ad6dbc1f2b5bd52"
  },
  {
   "cell_type": "code",
   "execution_count": 3,
   "outputs": [
    {
     "data": {
      "text/plain": "  screen_name                                               text account.type  \\\n0       bot#9                             YEA now that note GOOD          bot   \n1    human#17    Listen to This Charming Man by The Smiths <URL>        human   \n2      bot#23  wish i can i would be seeing other hoes on the...          bot   \n3       bot#1  The decade in the significantly easier schedul...          bot   \n4      bot#11  \" Theim class =\\ \" alignnone size-full wp-imag...          bot   \n\n  class_type  \n0     others  \n1      human  \n2     others  \n3     others  \n4        rnn  ",
      "text/html": "<div>\n<style scoped>\n    .dataframe tbody tr th:only-of-type {\n        vertical-align: middle;\n    }\n\n    .dataframe tbody tr th {\n        vertical-align: top;\n    }\n\n    .dataframe thead th {\n        text-align: right;\n    }\n</style>\n<table border=\"1\" class=\"dataframe\">\n  <thead>\n    <tr style=\"text-align: right;\">\n      <th></th>\n      <th>screen_name</th>\n      <th>text</th>\n      <th>account.type</th>\n      <th>class_type</th>\n    </tr>\n  </thead>\n  <tbody>\n    <tr>\n      <th>0</th>\n      <td>bot#9</td>\n      <td>YEA now that note GOOD</td>\n      <td>bot</td>\n      <td>others</td>\n    </tr>\n    <tr>\n      <th>1</th>\n      <td>human#17</td>\n      <td>Listen to This Charming Man by The Smiths &lt;URL&gt;</td>\n      <td>human</td>\n      <td>human</td>\n    </tr>\n    <tr>\n      <th>2</th>\n      <td>bot#23</td>\n      <td>wish i can i would be seeing other hoes on the...</td>\n      <td>bot</td>\n      <td>others</td>\n    </tr>\n    <tr>\n      <th>3</th>\n      <td>bot#1</td>\n      <td>The decade in the significantly easier schedul...</td>\n      <td>bot</td>\n      <td>others</td>\n    </tr>\n    <tr>\n      <th>4</th>\n      <td>bot#11</td>\n      <td>\" Theim class =\\ \" alignnone size-full wp-imag...</td>\n      <td>bot</td>\n      <td>rnn</td>\n    </tr>\n  </tbody>\n</table>\n</div>"
     },
     "execution_count": 3,
     "metadata": {},
     "output_type": "execute_result"
    }
   ],
   "source": [
    "DATA_PATH = os.path.join('..', 'data', 'preprocessed_url_simple')\n",
    "train = pd.read_csv(os.path.join(DATA_PATH, 'train.csv'))\n",
    "validation = pd.read_csv(os.path.join(DATA_PATH, 'validation.csv'))\n",
    "test = pd.read_csv(os.path.join(DATA_PATH, 'test.csv'))\n",
    "train.head()"
   ],
   "metadata": {
    "collapsed": false,
    "ExecuteTime": {
     "end_time": "2023-11-20T23:08:46.357726800Z",
     "start_time": "2023-11-20T23:08:46.298727600Z"
    }
   },
   "id": "40da111d926d4d72"
  },
  {
   "cell_type": "code",
   "execution_count": 4,
   "outputs": [],
   "source": [
    "def get_x_y(df):\n",
    "    x = df[\"text\"]\n",
    "    y = df[\"account.type\"]\n",
    "    return x, y\n",
    "\n",
    "\n",
    "x_train, y_train = get_x_y(train)\n",
    "y_train = np.where(y_train == \"bot\", 1, 0)\n",
    "x_validation, y_validation = get_x_y(validation)\n",
    "y_validation = np.where(y_validation == \"bot\", 1, 0)"
   ],
   "metadata": {
    "collapsed": false,
    "ExecuteTime": {
     "end_time": "2023-11-20T23:08:46.372727200Z",
     "start_time": "2023-11-20T23:08:46.359726700Z"
    }
   },
   "id": "f8beb35be6f7bf1b"
  },
  {
   "cell_type": "code",
   "execution_count": 5,
   "outputs": [],
   "source": [
    "preprocessed_path = os.path.join(\"..\", \"models\", \"tfidf\", \"preprocessed\")\n",
    "os.makedirs(preprocessed_path, exist_ok=True)"
   ],
   "metadata": {
    "collapsed": false,
    "ExecuteTime": {
     "end_time": "2023-11-20T23:08:46.398727900Z",
     "start_time": "2023-11-20T23:08:46.373727500Z"
    }
   },
   "id": "86cc760af5392ec3"
  },
  {
   "cell_type": "code",
   "execution_count": null,
   "outputs": [
    {
     "name": "stderr",
     "output_type": "stream",
     "text": [
      "C:\\Users\\Piotrek\\anaconda3\\envs\\tensorflow\\lib\\site-packages\\optuna\\progress_bar.py:56: ExperimentalWarning: Progress bar is experimental (supported from v1.2.0). The interface can change in the future.\n",
      "  self._init_valid()\n"
     ]
    },
    {
     "data": {
      "text/plain": "  0%|          | 0/100 [00:00<?, ?it/s]",
      "application/vnd.jupyter.widget-view+json": {
       "version_major": 2,
       "version_minor": 0,
       "model_id": "dbaaf7aa32ec4f54a7142a3c131201e5"
      }
     },
     "metadata": {},
     "output_type": "display_data"
    },
    {
     "name": "stdout",
     "output_type": "stream",
     "text": [
      "Model: LGBM\n",
      "Best accuracy: 0.8285694901979305\n",
      "Best params: {'lgbm_boosting_type': 'gbdt', 'lgbm_max_depth': 6, 'lgbm_n_estimators': 249, 'lgbm_subsample': 0.6827074964028326, 'tfidf_ngram_range': 'unigram', 'tfidf_max_features': 7225, 'tfidf_max_df': 0.9635461108586068, 'tfidf_min_df': 0.0002199172290726914}\n"
     ]
    },
    {
     "name": "stderr",
     "output_type": "stream",
     "text": [
      "C:\\Users\\Piotrek\\anaconda3\\envs\\tensorflow\\lib\\site-packages\\optuna\\progress_bar.py:56: ExperimentalWarning: Progress bar is experimental (supported from v1.2.0). The interface can change in the future.\n",
      "  self._init_valid()\n"
     ]
    },
    {
     "data": {
      "text/plain": "  0%|          | 0/100 [00:00<?, ?it/s]",
      "application/vnd.jupyter.widget-view+json": {
       "version_major": 2,
       "version_minor": 0,
       "model_id": "1696e596a7a04c1ab5a986766139acf4"
      }
     },
     "metadata": {},
     "output_type": "display_data"
    },
    {
     "name": "stdout",
     "output_type": "stream",
     "text": [
      "Model: XGB\n",
      "Best accuracy: 0.8193477545538617\n",
      "Best params: {'xgb_booster': 'gbtree', 'xgb_max_depth': 7, 'xgb_n_estimators': 25, 'xgb_subsample': 0.643613401965495, 'tfidf_ngram_range': 'unigram', 'tfidf_max_features': 3071, 'tfidf_max_df': 0.843311343081232, 'tfidf_min_df': 0.0005725360114299726}\n"
     ]
    },
    {
     "name": "stderr",
     "output_type": "stream",
     "text": [
      "C:\\Users\\Piotrek\\anaconda3\\envs\\tensorflow\\lib\\site-packages\\optuna\\progress_bar.py:56: ExperimentalWarning: Progress bar is experimental (supported from v1.2.0). The interface can change in the future.\n",
      "  self._init_valid()\n"
     ]
    },
    {
     "data": {
      "text/plain": "  0%|          | 0/100 [00:00<?, ?it/s]",
      "application/vnd.jupyter.widget-view+json": {
       "version_major": 2,
       "version_minor": 0,
       "model_id": "32e9b35862ec43ed933a328f49dc5f04"
      }
     },
     "metadata": {},
     "output_type": "display_data"
    },
    {
     "name": "stdout",
     "output_type": "stream",
     "text": [
      "Model: RF\n",
      "Best accuracy: 0.8049660519287668\n",
      "Best params: {'rf_max_depth': 12, 'rf_n_estimators': 341, 'rf_criterion': 'log_loss', 'rf_min_samples_split': 0.042375275245554914, 'tfidf_ngram_range': 'unigram', 'tfidf_max_features': 1414, 'tfidf_max_df': 0.8565717212703119, 'tfidf_min_df': 0.0006480440018553581}\n"
     ]
    },
    {
     "name": "stderr",
     "output_type": "stream",
     "text": [
      "C:\\Users\\Piotrek\\anaconda3\\envs\\tensorflow\\lib\\site-packages\\optuna\\progress_bar.py:56: ExperimentalWarning: Progress bar is experimental (supported from v1.2.0). The interface can change in the future.\n",
      "  self._init_valid()\n"
     ]
    },
    {
     "data": {
      "text/plain": "  0%|          | 0/100 [00:00<?, ?it/s]",
      "application/vnd.jupyter.widget-view+json": {
       "version_major": 2,
       "version_minor": 0,
       "model_id": "19ad1b241d95481fbe68e424147de3cb"
      }
     },
     "metadata": {},
     "output_type": "display_data"
    }
   ],
   "source": [
    "studies = []\n",
    "results = []\n",
    "results_validation = []\n",
    "for model in ou.MODELS.keys():\n",
    "    study = create_study(study_name=f'simple_processing_{model}', direction='maximize')\n",
    "    study.optimize(lambda trial: ou.objective(trial, x_train, y_train, model=model, encoder=\"TFIDF\", n_splits=N_SPLITS),\n",
    "                   timeout=TIMEOUT, show_progress_bar=True, n_trials=TRIALS)\n",
    "    studies.append(study)\n",
    "    retrained_model = ou.get_best_model(study.best_params, x_train, y_train)\n",
    "    with open(os.path.join(preprocessed_path, f\"{model}.pickle\"), \"wb\") as f:\n",
    "        pickle.dump(retrained_model, f)\n",
    "    results_validation.append({\"type\": \"preprocessed\",\n",
    "                               \"model\": model,\n",
    "                               **ou.get_score(retrained_model, x_validation, y_validation)})\n",
    "    print(f\"Model: {model}\")\n",
    "    print(f\"Best accuracy: {study.best_value}\")\n",
    "    print(f\"Best params: {study.best_params}\")\n",
    "    results.append({\n",
    "        \"type\": \"preprocessed\",\n",
    "        \"model\": model,\n",
    "        \"score\": study.best_value\n",
    "    })"
   ],
   "metadata": {
    "collapsed": false,
    "is_executing": true,
    "ExecuteTime": {
     "start_time": "2023-11-20T23:08:46.391727Z"
    }
   },
   "id": "2ff21d2eb593dc96"
  },
  {
   "cell_type": "markdown",
   "source": [
    "# Stemming"
   ],
   "metadata": {
    "collapsed": false
   },
   "id": "6e7766257416f944"
  },
  {
   "cell_type": "code",
   "execution_count": null,
   "outputs": [],
   "source": [
    "DATA_PATH = os.path.join('..', 'data', 'stemmed')\n",
    "train = pd.read_csv(os.path.join(DATA_PATH, 'train.csv'))\n",
    "validation = pd.read_csv(os.path.join(DATA_PATH, 'validation.csv'))\n",
    "test = pd.read_csv(os.path.join(DATA_PATH, 'test.csv'))\n",
    "train.head()"
   ],
   "metadata": {
    "collapsed": false,
    "is_executing": true
   },
   "id": "5d8ecb0aa1533991"
  },
  {
   "cell_type": "code",
   "execution_count": null,
   "outputs": [],
   "source": [
    "def get_x_y(df):\n",
    "    x = df[\"text\"]\n",
    "    y = df[\"account.type\"]\n",
    "    return x, y\n",
    "\n",
    "\n",
    "x_train, y_train = get_x_y(train)\n",
    "y_train = np.where(y_train == \"bot\", 1, 0)\n",
    "x_validation, y_validation = get_x_y(validation)\n",
    "y_validation = np.where(y_validation == \"bot\", 1, 0)"
   ],
   "metadata": {
    "collapsed": false,
    "is_executing": true
   },
   "id": "cb909d52594e25b6"
  },
  {
   "cell_type": "code",
   "execution_count": null,
   "outputs": [],
   "source": [
    "preprocessed_path = os.path.join(\"..\", \"models\", \"tfidf\", \"stemmed\")\n",
    "os.makedirs(preprocessed_path, exist_ok=True)"
   ],
   "metadata": {
    "collapsed": false,
    "is_executing": true
   },
   "id": "4a38b77e167453fa"
  },
  {
   "cell_type": "code",
   "execution_count": null,
   "outputs": [],
   "source": [
    "for model in ou.MODELS.keys():\n",
    "    study = create_study(study_name=f'stemming_{model}', direction='maximize')\n",
    "    study.optimize(lambda trial: ou.objective(trial, x_train, y_train, model=model, encoder=\"TFIDF\", n_splits=N_SPLITS),\n",
    "                   timeout=TIMEOUT, show_progress_bar=True)\n",
    "    studies.append(study)\n",
    "    retrained_model = ou.get_best_model(study.best_params, x_train, y_train)\n",
    "    with open(os.path.join(preprocessed_path, f\"{model}.pickle\"), \"wb\") as f:\n",
    "        pickle.dump(retrained_model, f)\n",
    "    results_validation.append({\"type\": \"stemming\",\n",
    "                               \"model\": model,\n",
    "                               **ou.get_score(retrained_model, x_validation, y_validation)})\n",
    "    print(f\"Model: {model}\")\n",
    "    print(f\"Best accuracy: {study.best_value}\")\n",
    "    print(f\"Best params: {study.best_params}\")\n",
    "    results.append({\n",
    "        \"type\": \"stemming\",\n",
    "        \"model\": model,\n",
    "        \"score\": study.best_value\n",
    "    })"
   ],
   "metadata": {
    "collapsed": false,
    "is_executing": true
   },
   "id": "295730c88263193a"
  },
  {
   "cell_type": "markdown",
   "source": [
    "# Lemmatization"
   ],
   "metadata": {
    "collapsed": false
   },
   "id": "52b0e5ff8ec44739"
  },
  {
   "cell_type": "code",
   "execution_count": null,
   "outputs": [],
   "source": [
    "DATA_PATH = os.path.join('..', 'data', 'lemmatized')\n",
    "train = pd.read_csv(os.path.join(DATA_PATH, 'train.csv'))\n",
    "validation = pd.read_csv(os.path.join(DATA_PATH, 'validation.csv'))\n",
    "test = pd.read_csv(os.path.join(DATA_PATH, 'test.csv'))\n",
    "train.head()"
   ],
   "metadata": {
    "collapsed": false,
    "is_executing": true
   },
   "id": "d3db0e1b5283c35d"
  },
  {
   "cell_type": "code",
   "execution_count": null,
   "outputs": [],
   "source": [
    "def get_x_y(df):\n",
    "    x = df[\"text\"]\n",
    "    y = df[\"account.type\"]\n",
    "    return x, y\n",
    "\n",
    "\n",
    "x_train, y_train = get_x_y(train)\n",
    "y_train = np.where(y_train == \"bot\", 1, 0)"
   ],
   "metadata": {
    "collapsed": false,
    "is_executing": true
   },
   "id": "e8a833392f66719b"
  },
  {
   "cell_type": "code",
   "execution_count": null,
   "outputs": [],
   "source": [
    "preprocessed_path = os.path.join(\"..\", \"models\", \"tfidf\", \"lemmatization\")\n",
    "os.makedirs(preprocessed_path, exist_ok=True)"
   ],
   "metadata": {
    "collapsed": false,
    "is_executing": true
   },
   "id": "d7f5d73a05afb9fd"
  },
  {
   "cell_type": "code",
   "execution_count": null,
   "outputs": [],
   "source": [
    "for model in ou.MODELS.keys():\n",
    "    study = create_study(study_name=f'lemmatization_{model}', direction='maximize')\n",
    "    study.optimize(lambda trial: ou.objective(trial, x_train, y_train, model=model, encoder=\"TFIDF\", n_splits=N_SPLITS),\n",
    "                   timeout=TIMEOUT, show_progress_bar=True)\n",
    "    studies.append(study)\n",
    "    retrained_model = ou.get_best_model(study.best_params, x_train, y_train)\n",
    "    with open(os.path.join(preprocessed_path, f\"{model}.pickle\"), \"wb\") as f:\n",
    "        pickle.dump(retrained_model, f)\n",
    "    results_validation.append({\"type\": \"lemmatization\",\n",
    "                               \"model\": model,\n",
    "                               **ou.get_score(retrained_model, x_validation, y_validation)})\n",
    "    print(f\"Model: {model}\")\n",
    "    print(f\"Best accuracy: {study.best_value}\")\n",
    "    print(f\"Best params: {study.best_params}\")\n",
    "    results.append({\n",
    "        \"type\": \"lemmatization\",\n",
    "        \"model\": model,\n",
    "        \"score\": study.best_value\n",
    "    })"
   ],
   "metadata": {
    "collapsed": false,
    "is_executing": true
   },
   "id": "d33110b4b9c003cf"
  },
  {
   "cell_type": "markdown",
   "source": [
    "# Results"
   ],
   "metadata": {
    "collapsed": false
   },
   "id": "e3a4281e2d24ecd2"
  },
  {
   "cell_type": "code",
   "execution_count": 17,
   "outputs": [
    {
     "data": {
      "text/plain": "             type model     score\n10  lemmatization  LGBM  0.832188\n6        stemming   XGB  0.829194\n5        stemming  LGBM  0.829049\n0    preprocessed  LGBM  0.828569\n13  lemmatization   SVC  0.827937\n3    preprocessed   SVC  0.825715\n8        stemming   SVC  0.824947\n11  lemmatization   XGB  0.820843\n1    preprocessed   XGB  0.819348\n14  lemmatization    LR  0.817795\n4    preprocessed    LR  0.817652\n7        stemming    RF  0.809165\n12  lemmatization    RF  0.807380\n2    preprocessed    RF  0.804966\n9        stemming    LR  0.801342",
      "text/html": "<div>\n<style scoped>\n    .dataframe tbody tr th:only-of-type {\n        vertical-align: middle;\n    }\n\n    .dataframe tbody tr th {\n        vertical-align: top;\n    }\n\n    .dataframe thead th {\n        text-align: right;\n    }\n</style>\n<table border=\"1\" class=\"dataframe\">\n  <thead>\n    <tr style=\"text-align: right;\">\n      <th></th>\n      <th>type</th>\n      <th>model</th>\n      <th>score</th>\n    </tr>\n  </thead>\n  <tbody>\n    <tr>\n      <th>10</th>\n      <td>lemmatization</td>\n      <td>LGBM</td>\n      <td>0.832188</td>\n    </tr>\n    <tr>\n      <th>6</th>\n      <td>stemming</td>\n      <td>XGB</td>\n      <td>0.829194</td>\n    </tr>\n    <tr>\n      <th>5</th>\n      <td>stemming</td>\n      <td>LGBM</td>\n      <td>0.829049</td>\n    </tr>\n    <tr>\n      <th>0</th>\n      <td>preprocessed</td>\n      <td>LGBM</td>\n      <td>0.828569</td>\n    </tr>\n    <tr>\n      <th>13</th>\n      <td>lemmatization</td>\n      <td>SVC</td>\n      <td>0.827937</td>\n    </tr>\n    <tr>\n      <th>3</th>\n      <td>preprocessed</td>\n      <td>SVC</td>\n      <td>0.825715</td>\n    </tr>\n    <tr>\n      <th>8</th>\n      <td>stemming</td>\n      <td>SVC</td>\n      <td>0.824947</td>\n    </tr>\n    <tr>\n      <th>11</th>\n      <td>lemmatization</td>\n      <td>XGB</td>\n      <td>0.820843</td>\n    </tr>\n    <tr>\n      <th>1</th>\n      <td>preprocessed</td>\n      <td>XGB</td>\n      <td>0.819348</td>\n    </tr>\n    <tr>\n      <th>14</th>\n      <td>lemmatization</td>\n      <td>LR</td>\n      <td>0.817795</td>\n    </tr>\n    <tr>\n      <th>4</th>\n      <td>preprocessed</td>\n      <td>LR</td>\n      <td>0.817652</td>\n    </tr>\n    <tr>\n      <th>7</th>\n      <td>stemming</td>\n      <td>RF</td>\n      <td>0.809165</td>\n    </tr>\n    <tr>\n      <th>12</th>\n      <td>lemmatization</td>\n      <td>RF</td>\n      <td>0.807380</td>\n    </tr>\n    <tr>\n      <th>2</th>\n      <td>preprocessed</td>\n      <td>RF</td>\n      <td>0.804966</td>\n    </tr>\n    <tr>\n      <th>9</th>\n      <td>stemming</td>\n      <td>LR</td>\n      <td>0.801342</td>\n    </tr>\n  </tbody>\n</table>\n</div>"
     },
     "execution_count": 17,
     "metadata": {},
     "output_type": "execute_result"
    }
   ],
   "source": [
    "results_df = pd.DataFrame(results)\n",
    "results_df.sort_values(by=\"score\", ascending=False)"
   ],
   "metadata": {
    "collapsed": false,
    "ExecuteTime": {
     "end_time": "2023-11-21T06:36:41.745545300Z",
     "start_time": "2023-11-21T06:36:41.732544900Z"
    }
   },
   "id": "4818f3948034e192"
  },
  {
   "cell_type": "code",
   "execution_count": 18,
   "outputs": [
    {
     "data": {
      "text/plain": "             type model  balanced_accuracy  f1_score  precision    recall\n3    preprocessed   SVC           0.830959  0.841677   0.792337  0.897569\n10  lemmatization  LGBM           0.828781  0.840615   0.787121  0.901910\n5        stemming  LGBM           0.824438  0.836305   0.784195  0.895833\n13  lemmatization   SVC           0.824007  0.835433   0.785332  0.892361\n0    preprocessed  LGBM           0.822252  0.836727   0.774575  0.909722\n6        stemming   XGB           0.818792  0.830969   0.779468  0.889757\n4    preprocessed    LR           0.817069  0.826535   0.786667  0.870660\n8        stemming   SVC           0.816172  0.830868   0.770200  0.901910\n14  lemmatization    LR           0.814035  0.822259   0.788217  0.859375\n11  lemmatization   XGB           0.814003  0.828388   0.769747  0.896701\n1    preprocessed   XGB           0.810094  0.824568   0.766990  0.891493\n7        stemming    RF           0.797465  0.818959   0.741210  0.914931\n12  lemmatization    RF           0.793557  0.815247   0.738548  0.909722\n9        stemming    LR           0.792263  0.812255   0.741750  0.897569\n2    preprocessed    RF           0.788773  0.811920   0.732542  0.910590",
      "text/html": "<div>\n<style scoped>\n    .dataframe tbody tr th:only-of-type {\n        vertical-align: middle;\n    }\n\n    .dataframe tbody tr th {\n        vertical-align: top;\n    }\n\n    .dataframe thead th {\n        text-align: right;\n    }\n</style>\n<table border=\"1\" class=\"dataframe\">\n  <thead>\n    <tr style=\"text-align: right;\">\n      <th></th>\n      <th>type</th>\n      <th>model</th>\n      <th>balanced_accuracy</th>\n      <th>f1_score</th>\n      <th>precision</th>\n      <th>recall</th>\n    </tr>\n  </thead>\n  <tbody>\n    <tr>\n      <th>3</th>\n      <td>preprocessed</td>\n      <td>SVC</td>\n      <td>0.830959</td>\n      <td>0.841677</td>\n      <td>0.792337</td>\n      <td>0.897569</td>\n    </tr>\n    <tr>\n      <th>10</th>\n      <td>lemmatization</td>\n      <td>LGBM</td>\n      <td>0.828781</td>\n      <td>0.840615</td>\n      <td>0.787121</td>\n      <td>0.901910</td>\n    </tr>\n    <tr>\n      <th>5</th>\n      <td>stemming</td>\n      <td>LGBM</td>\n      <td>0.824438</td>\n      <td>0.836305</td>\n      <td>0.784195</td>\n      <td>0.895833</td>\n    </tr>\n    <tr>\n      <th>13</th>\n      <td>lemmatization</td>\n      <td>SVC</td>\n      <td>0.824007</td>\n      <td>0.835433</td>\n      <td>0.785332</td>\n      <td>0.892361</td>\n    </tr>\n    <tr>\n      <th>0</th>\n      <td>preprocessed</td>\n      <td>LGBM</td>\n      <td>0.822252</td>\n      <td>0.836727</td>\n      <td>0.774575</td>\n      <td>0.909722</td>\n    </tr>\n    <tr>\n      <th>6</th>\n      <td>stemming</td>\n      <td>XGB</td>\n      <td>0.818792</td>\n      <td>0.830969</td>\n      <td>0.779468</td>\n      <td>0.889757</td>\n    </tr>\n    <tr>\n      <th>4</th>\n      <td>preprocessed</td>\n      <td>LR</td>\n      <td>0.817069</td>\n      <td>0.826535</td>\n      <td>0.786667</td>\n      <td>0.870660</td>\n    </tr>\n    <tr>\n      <th>8</th>\n      <td>stemming</td>\n      <td>SVC</td>\n      <td>0.816172</td>\n      <td>0.830868</td>\n      <td>0.770200</td>\n      <td>0.901910</td>\n    </tr>\n    <tr>\n      <th>14</th>\n      <td>lemmatization</td>\n      <td>LR</td>\n      <td>0.814035</td>\n      <td>0.822259</td>\n      <td>0.788217</td>\n      <td>0.859375</td>\n    </tr>\n    <tr>\n      <th>11</th>\n      <td>lemmatization</td>\n      <td>XGB</td>\n      <td>0.814003</td>\n      <td>0.828388</td>\n      <td>0.769747</td>\n      <td>0.896701</td>\n    </tr>\n    <tr>\n      <th>1</th>\n      <td>preprocessed</td>\n      <td>XGB</td>\n      <td>0.810094</td>\n      <td>0.824568</td>\n      <td>0.766990</td>\n      <td>0.891493</td>\n    </tr>\n    <tr>\n      <th>7</th>\n      <td>stemming</td>\n      <td>RF</td>\n      <td>0.797465</td>\n      <td>0.818959</td>\n      <td>0.741210</td>\n      <td>0.914931</td>\n    </tr>\n    <tr>\n      <th>12</th>\n      <td>lemmatization</td>\n      <td>RF</td>\n      <td>0.793557</td>\n      <td>0.815247</td>\n      <td>0.738548</td>\n      <td>0.909722</td>\n    </tr>\n    <tr>\n      <th>9</th>\n      <td>stemming</td>\n      <td>LR</td>\n      <td>0.792263</td>\n      <td>0.812255</td>\n      <td>0.741750</td>\n      <td>0.897569</td>\n    </tr>\n    <tr>\n      <th>2</th>\n      <td>preprocessed</td>\n      <td>RF</td>\n      <td>0.788773</td>\n      <td>0.811920</td>\n      <td>0.732542</td>\n      <td>0.910590</td>\n    </tr>\n  </tbody>\n</table>\n</div>"
     },
     "execution_count": 18,
     "metadata": {},
     "output_type": "execute_result"
    }
   ],
   "source": [
    "results_validation_df = pd.DataFrame(results_validation)\n",
    "results_validation_df.sort_values(by=\"balanced_accuracy\", ascending=False)"
   ],
   "metadata": {
    "collapsed": false,
    "ExecuteTime": {
     "end_time": "2023-11-21T06:36:43.093018400Z",
     "start_time": "2023-11-21T06:36:43.078019200Z"
    }
   },
   "id": "3e0ee7e4c2f64368"
  }
 ],
 "metadata": {
  "kernelspec": {
   "display_name": "Python 3",
   "language": "python",
   "name": "python3"
  },
  "language_info": {
   "codemirror_mode": {
    "name": "ipython",
    "version": 2
   },
   "file_extension": ".py",
   "mimetype": "text/x-python",
   "name": "python",
   "nbconvert_exporter": "python",
   "pygments_lexer": "ipython2",
   "version": "2.7.6"
  }
 },
 "nbformat": 4,
 "nbformat_minor": 5
}
