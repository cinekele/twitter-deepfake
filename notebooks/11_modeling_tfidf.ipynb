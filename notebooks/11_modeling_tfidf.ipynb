{
 "cells": [
  {
   "cell_type": "markdown",
   "source": [
    "# Modules import"
   ],
   "metadata": {
    "collapsed": false
   },
   "id": "a70f52e2f679a06"
  },
  {
   "cell_type": "code",
   "execution_count": 5,
   "outputs": [
    {
     "name": "stderr",
     "output_type": "stream",
     "text": [
      "Intel(R) Extension for Scikit-learn* enabled (https://github.com/intel/scikit-learn-intelex)\n"
     ]
    }
   ],
   "source": [
    "import os.path\n",
    "\n",
    "import numpy as np\n",
    "import optuna\n",
    "import pandas as pd\n",
    "from sklearnex import patch_sklearn\n",
    "\n",
    "patch_sklearn()\n",
    "import utils.optuna_utils as ou\n",
    "from optuna import create_study\n",
    "\n",
    "optuna.logging.set_verbosity(optuna.logging.WARNING)\n",
    "\n",
    "TIMEOUT = 30\n",
    "N_SPLITS = 5"
   ],
   "metadata": {
    "collapsed": false,
    "ExecuteTime": {
     "end_time": "2023-11-19T17:39:43.428591300Z",
     "start_time": "2023-11-19T17:39:43.405591700Z"
    }
   },
   "id": "e962ee04724949e0"
  },
  {
   "cell_type": "markdown",
   "source": [
    "# Simple processing"
   ],
   "metadata": {
    "collapsed": false
   },
   "id": "2ad6dbc1f2b5bd52"
  },
  {
   "cell_type": "code",
   "execution_count": 6,
   "outputs": [
    {
     "data": {
      "text/plain": "  screen_name                                               text account.type  \\\n0       bot#9                             YEA now that note GOOD          bot   \n1    human#17    Listen to This Charming Man by The Smiths <URL>        human   \n2      bot#23  wish i can i would be seeing other hoes on the...          bot   \n3       bot#1  The decade in the significantly easier schedul...          bot   \n4      bot#11  \" Theim class =\\ \" alignnone size-full wp-imag...          bot   \n\n  class_type  \n0     others  \n1      human  \n2     others  \n3     others  \n4        rnn  ",
      "text/html": "<div>\n<style scoped>\n    .dataframe tbody tr th:only-of-type {\n        vertical-align: middle;\n    }\n\n    .dataframe tbody tr th {\n        vertical-align: top;\n    }\n\n    .dataframe thead th {\n        text-align: right;\n    }\n</style>\n<table border=\"1\" class=\"dataframe\">\n  <thead>\n    <tr style=\"text-align: right;\">\n      <th></th>\n      <th>screen_name</th>\n      <th>text</th>\n      <th>account.type</th>\n      <th>class_type</th>\n    </tr>\n  </thead>\n  <tbody>\n    <tr>\n      <th>0</th>\n      <td>bot#9</td>\n      <td>YEA now that note GOOD</td>\n      <td>bot</td>\n      <td>others</td>\n    </tr>\n    <tr>\n      <th>1</th>\n      <td>human#17</td>\n      <td>Listen to This Charming Man by The Smiths &lt;URL&gt;</td>\n      <td>human</td>\n      <td>human</td>\n    </tr>\n    <tr>\n      <th>2</th>\n      <td>bot#23</td>\n      <td>wish i can i would be seeing other hoes on the...</td>\n      <td>bot</td>\n      <td>others</td>\n    </tr>\n    <tr>\n      <th>3</th>\n      <td>bot#1</td>\n      <td>The decade in the significantly easier schedul...</td>\n      <td>bot</td>\n      <td>others</td>\n    </tr>\n    <tr>\n      <th>4</th>\n      <td>bot#11</td>\n      <td>\" Theim class =\\ \" alignnone size-full wp-imag...</td>\n      <td>bot</td>\n      <td>rnn</td>\n    </tr>\n  </tbody>\n</table>\n</div>"
     },
     "execution_count": 6,
     "metadata": {},
     "output_type": "execute_result"
    }
   ],
   "source": [
    "DATA_PATH = os.path.join('..', 'data', 'preprocessed_url_simple')\n",
    "train = pd.read_csv(os.path.join(DATA_PATH, 'train.csv'))\n",
    "validation = pd.read_csv(os.path.join(DATA_PATH, 'validation.csv'))\n",
    "test = pd.read_csv(os.path.join(DATA_PATH, 'test.csv'))\n",
    "train.head()"
   ],
   "metadata": {
    "collapsed": false,
    "ExecuteTime": {
     "end_time": "2023-11-19T17:39:43.475592600Z",
     "start_time": "2023-11-19T17:39:43.415592600Z"
    }
   },
   "id": "40da111d926d4d72"
  },
  {
   "cell_type": "code",
   "execution_count": 7,
   "outputs": [],
   "source": [
    "def get_x_y(df):\n",
    "    x = df[\"text\"]\n",
    "    y = df[\"account.type\"]\n",
    "    return x, y\n",
    "\n",
    "\n",
    "x_train, y_train = get_x_y(train)\n",
    "y_train = np.where(y_train == \"bot\", 1, 0)"
   ],
   "metadata": {
    "collapsed": false,
    "ExecuteTime": {
     "end_time": "2023-11-19T17:39:43.489592100Z",
     "start_time": "2023-11-19T17:39:43.475592600Z"
    }
   },
   "id": "f8beb35be6f7bf1b"
  },
  {
   "cell_type": "code",
   "execution_count": 8,
   "outputs": [
    {
     "name": "stderr",
     "output_type": "stream",
     "text": [
      "C:\\Users\\Piotrek\\anaconda3\\envs\\tensorflow\\lib\\site-packages\\optuna\\progress_bar.py:56: ExperimentalWarning: Progress bar is experimental (supported from v1.2.0). The interface can change in the future.\n",
      "  self._init_valid()\n"
     ]
    },
    {
     "data": {
      "text/plain": "   0%|          | 00:00/00:30",
      "application/vnd.jupyter.widget-view+json": {
       "version_major": 2,
       "version_minor": 0,
       "model_id": "a47aa805f1934a1c9428fd3fa5b4a4b6"
      }
     },
     "metadata": {},
     "output_type": "display_data"
    },
    {
     "name": "stdout",
     "output_type": "stream",
     "text": [
      "Model: LGBM\n",
      "Best accuracy: 0.8122062493121949\n",
      "Best params: {'lgbm_boosting_type': 'dart', 'lgbm_max_depth': 9, 'lgbm_n_estimators': 80, 'lgbm_subsample': 0.6622662504219524, 'tfidf_ngram_range': 'digram', 'tfidf_max_features': 8754, 'tfidf_max_df': 0.8622308378312066, 'tfidf_min_df': 0.0031465759604621946}\n"
     ]
    },
    {
     "name": "stderr",
     "output_type": "stream",
     "text": [
      "C:\\Users\\Piotrek\\anaconda3\\envs\\tensorflow\\lib\\site-packages\\optuna\\progress_bar.py:56: ExperimentalWarning: Progress bar is experimental (supported from v1.2.0). The interface can change in the future.\n",
      "  self._init_valid()\n"
     ]
    },
    {
     "data": {
      "text/plain": "   0%|          | 00:00/00:30",
      "application/vnd.jupyter.widget-view+json": {
       "version_major": 2,
       "version_minor": 0,
       "model_id": "8e81f95e51d14a2a943cebe30178d824"
      }
     },
     "metadata": {},
     "output_type": "display_data"
    },
    {
     "name": "stdout",
     "output_type": "stream",
     "text": [
      "Model: XGB\n",
      "Best accuracy: 0.8144704400259372\n",
      "Best params: {'xgb_booster': 'gbtree', 'xgb_max_depth': 12, 'xgb_n_estimators': 22, 'xgb_subsample': 0.8548761976278334, 'tfidf_ngram_range': 'digram', 'tfidf_max_features': 2450, 'tfidf_max_df': 0.8999962432624573, 'tfidf_min_df': 0.00035909771758639857}\n"
     ]
    },
    {
     "name": "stderr",
     "output_type": "stream",
     "text": [
      "C:\\Users\\Piotrek\\anaconda3\\envs\\tensorflow\\lib\\site-packages\\optuna\\progress_bar.py:56: ExperimentalWarning: Progress bar is experimental (supported from v1.2.0). The interface can change in the future.\n",
      "  self._init_valid()\n"
     ]
    },
    {
     "data": {
      "text/plain": "   0%|          | 00:00/00:30",
      "application/vnd.jupyter.widget-view+json": {
       "version_major": 2,
       "version_minor": 0,
       "model_id": "146a0dd4f8d94c90b7cdb027de216db1"
      }
     },
     "metadata": {},
     "output_type": "display_data"
    },
    {
     "name": "stdout",
     "output_type": "stream",
     "text": [
      "Model: RF\n",
      "Best accuracy: 0.7877788743483745\n",
      "Best params: {'rf_max_depth': 10, 'rf_n_estimators': 74, 'rf_criterion': 'gini', 'rf_min_samples_split': 0.05950593651008745, 'tfidf_ngram_range': 'digram', 'tfidf_max_features': 1190, 'tfidf_max_df': 0.8151750312854288, 'tfidf_min_df': 0.08869793720586412}\n"
     ]
    },
    {
     "name": "stderr",
     "output_type": "stream",
     "text": [
      "C:\\Users\\Piotrek\\anaconda3\\envs\\tensorflow\\lib\\site-packages\\optuna\\progress_bar.py:56: ExperimentalWarning: Progress bar is experimental (supported from v1.2.0). The interface can change in the future.\n",
      "  self._init_valid()\n"
     ]
    },
    {
     "data": {
      "text/plain": "   0%|          | 00:00/00:30",
      "application/vnd.jupyter.widget-view+json": {
       "version_major": 2,
       "version_minor": 0,
       "model_id": "e1f844c55fc548f4b428dc064fb7d93d"
      }
     },
     "metadata": {},
     "output_type": "display_data"
    },
    {
     "name": "stdout",
     "output_type": "stream",
     "text": [
      "Model: SVC\n",
      "Best accuracy: 0.7901426203743924\n",
      "Best params: {'svc_kernel': 'linear', 'svc_C': 89.02333367421613, 'tfidf_ngram_range': 'digram', 'tfidf_max_features': 1798, 'tfidf_max_df': 0.8294991187011957, 'tfidf_min_df': 0.01858793862354524}\n"
     ]
    },
    {
     "name": "stderr",
     "output_type": "stream",
     "text": [
      "C:\\Users\\Piotrek\\anaconda3\\envs\\tensorflow\\lib\\site-packages\\optuna\\progress_bar.py:56: ExperimentalWarning: Progress bar is experimental (supported from v1.2.0). The interface can change in the future.\n",
      "  self._init_valid()\n"
     ]
    },
    {
     "data": {
      "text/plain": "   0%|          | 00:00/00:30",
      "application/vnd.jupyter.widget-view+json": {
       "version_major": 2,
       "version_minor": 0,
       "model_id": "8d79f1e375d6438ba9f3835306560c87"
      }
     },
     "metadata": {},
     "output_type": "display_data"
    },
    {
     "name": "stdout",
     "output_type": "stream",
     "text": [
      "Model: LR\n",
      "Best accuracy: 0.8052435060626335\n",
      "Best params: {'lr_penalty': 'l2', 'lr_C': 1.6522035086728435, 'tfidf_ngram_range': 'unigram', 'tfidf_max_features': 2027, 'tfidf_max_df': 0.8550328639128291, 'tfidf_min_df': 0.0010453731753158335}\n"
     ]
    }
   ],
   "source": [
    "studies = []\n",
    "results = []\n",
    "for model in ou.MODELS.keys():\n",
    "    study = create_study(study_name=f'simple_processing_{model}', direction='maximize')\n",
    "    study.optimize(lambda trial: ou.objective(trial, x_train, y_train, model=model, encoder=\"TFIDF\", n_splits=N_SPLITS),\n",
    "                   timeout=TIMEOUT, show_progress_bar=True)\n",
    "    studies.append(study)\n",
    "    print(f\"Model: {model}\")\n",
    "    print(f\"Best accuracy: {study.best_value}\")\n",
    "    print(f\"Best params: {study.best_params}\")\n",
    "    results.append({\n",
    "        \"type\": \"preprocessed\",\n",
    "        \"model\": model,\n",
    "        \"score\": study.best_value\n",
    "    })"
   ],
   "metadata": {
    "collapsed": false,
    "ExecuteTime": {
     "end_time": "2023-11-19T17:42:40.222292500Z",
     "start_time": "2023-11-19T17:39:43.492592500Z"
    }
   },
   "id": "2ff21d2eb593dc96"
  },
  {
   "cell_type": "markdown",
   "source": [
    "# Stemming"
   ],
   "metadata": {
    "collapsed": false
   },
   "id": "6e7766257416f944"
  },
  {
   "cell_type": "code",
   "execution_count": 9,
   "outputs": [
    {
     "data": {
      "text/plain": "  screen_name                                               text account.type  \\\n0       bot#9                             YEA now that note GOOD          bot   \n1    human#17    Listen to This Charming Man by The Smiths <URL>        human   \n2      bot#23  wish i can i would be seeing other hoes on the...          bot   \n3       bot#1  The decade in the significantly easier schedul...          bot   \n4      bot#11  \" Theim class =\\ \" alignnone size-full wp-imag...          bot   \n\n  class_type                                             tokens  \\\n0     others                            ['yea', 'note', 'good']   \n1      human  ['listen', 'thi', 'charm', 'man', 'the', 'smit...   \n2     others   ['wish', 'would', 'see', 'hoe', 'worst', 'part']   \n3     others  ['the', 'decad', 'significantli', 'easier', 's...   \n4        rnn  ['\"', 'theim', 'class', '=\\\\', '\"', 'alignnon'...   \n\n                                            new_text  \n0                                      yea note good  \n1               listen thi charm man the smith <url>  \n2                      wish would see hoe worst part  \n3  the decad significantli easier schedul i don't...  \n4  \" theim class =\\ \" alignnon size-ful wp-imag -...  ",
      "text/html": "<div>\n<style scoped>\n    .dataframe tbody tr th:only-of-type {\n        vertical-align: middle;\n    }\n\n    .dataframe tbody tr th {\n        vertical-align: top;\n    }\n\n    .dataframe thead th {\n        text-align: right;\n    }\n</style>\n<table border=\"1\" class=\"dataframe\">\n  <thead>\n    <tr style=\"text-align: right;\">\n      <th></th>\n      <th>screen_name</th>\n      <th>text</th>\n      <th>account.type</th>\n      <th>class_type</th>\n      <th>tokens</th>\n      <th>new_text</th>\n    </tr>\n  </thead>\n  <tbody>\n    <tr>\n      <th>0</th>\n      <td>bot#9</td>\n      <td>YEA now that note GOOD</td>\n      <td>bot</td>\n      <td>others</td>\n      <td>['yea', 'note', 'good']</td>\n      <td>yea note good</td>\n    </tr>\n    <tr>\n      <th>1</th>\n      <td>human#17</td>\n      <td>Listen to This Charming Man by The Smiths &lt;URL&gt;</td>\n      <td>human</td>\n      <td>human</td>\n      <td>['listen', 'thi', 'charm', 'man', 'the', 'smit...</td>\n      <td>listen thi charm man the smith &lt;url&gt;</td>\n    </tr>\n    <tr>\n      <th>2</th>\n      <td>bot#23</td>\n      <td>wish i can i would be seeing other hoes on the...</td>\n      <td>bot</td>\n      <td>others</td>\n      <td>['wish', 'would', 'see', 'hoe', 'worst', 'part']</td>\n      <td>wish would see hoe worst part</td>\n    </tr>\n    <tr>\n      <th>3</th>\n      <td>bot#1</td>\n      <td>The decade in the significantly easier schedul...</td>\n      <td>bot</td>\n      <td>others</td>\n      <td>['the', 'decad', 'significantli', 'easier', 's...</td>\n      <td>the decad significantli easier schedul i don't...</td>\n    </tr>\n    <tr>\n      <th>4</th>\n      <td>bot#11</td>\n      <td>\" Theim class =\\ \" alignnone size-full wp-imag...</td>\n      <td>bot</td>\n      <td>rnn</td>\n      <td>['\"', 'theim', 'class', '=\\\\', '\"', 'alignnon'...</td>\n      <td>\" theim class =\\ \" alignnon size-ful wp-imag -...</td>\n    </tr>\n  </tbody>\n</table>\n</div>"
     },
     "execution_count": 9,
     "metadata": {},
     "output_type": "execute_result"
    }
   ],
   "source": [
    "DATA_PATH = os.path.join('..', 'data', 'stemmed')\n",
    "train = pd.read_csv(os.path.join(DATA_PATH, 'train.csv'))\n",
    "validation = pd.read_csv(os.path.join(DATA_PATH, 'validation.csv'))\n",
    "test = pd.read_csv(os.path.join(DATA_PATH, 'test.csv'))\n",
    "train.head()"
   ],
   "metadata": {
    "collapsed": false,
    "ExecuteTime": {
     "end_time": "2023-11-19T17:42:40.349292800Z",
     "start_time": "2023-11-19T17:42:40.223291400Z"
    }
   },
   "id": "5d8ecb0aa1533991"
  },
  {
   "cell_type": "code",
   "execution_count": 10,
   "outputs": [],
   "source": [
    "def get_x_y(df):\n",
    "    x = df[\"text\"]\n",
    "    y = df[\"account.type\"]\n",
    "    return x, y\n",
    "\n",
    "\n",
    "x_train, y_train = get_x_y(train)\n",
    "y_train = np.where(y_train == \"bot\", 1, 0)"
   ],
   "metadata": {
    "collapsed": false,
    "ExecuteTime": {
     "end_time": "2023-11-19T17:42:40.368291700Z",
     "start_time": "2023-11-19T17:42:40.349292800Z"
    }
   },
   "id": "cb909d52594e25b6"
  },
  {
   "cell_type": "code",
   "execution_count": 11,
   "outputs": [
    {
     "name": "stderr",
     "output_type": "stream",
     "text": [
      "C:\\Users\\Piotrek\\anaconda3\\envs\\tensorflow\\lib\\site-packages\\optuna\\progress_bar.py:56: ExperimentalWarning: Progress bar is experimental (supported from v1.2.0). The interface can change in the future.\n",
      "  self._init_valid()\n"
     ]
    },
    {
     "data": {
      "text/plain": "   0%|          | 00:00/00:30",
      "application/vnd.jupyter.widget-view+json": {
       "version_major": 2,
       "version_minor": 0,
       "model_id": "f18d85aca43046038e914c3cd76a0d3a"
      }
     },
     "metadata": {},
     "output_type": "display_data"
    },
    {
     "name": "stdout",
     "output_type": "stream",
     "text": [
      "Model: LGBM\n",
      "Best accuracy: 0.8069888827303331\n",
      "Best params: {'lgbm_boosting_type': 'dart', 'lgbm_max_depth': 13, 'lgbm_n_estimators': 154, 'lgbm_subsample': 0.9707343137517281, 'tfidf_ngram_range': 'trigram', 'tfidf_max_features': 8051, 'tfidf_max_df': 0.9262126823956709, 'tfidf_min_df': 0.012333529465341053}\n"
     ]
    },
    {
     "name": "stderr",
     "output_type": "stream",
     "text": [
      "C:\\Users\\Piotrek\\anaconda3\\envs\\tensorflow\\lib\\site-packages\\optuna\\progress_bar.py:56: ExperimentalWarning: Progress bar is experimental (supported from v1.2.0). The interface can change in the future.\n",
      "  self._init_valid()\n"
     ]
    },
    {
     "data": {
      "text/plain": "   0%|          | 00:00/00:30",
      "application/vnd.jupyter.widget-view+json": {
       "version_major": 2,
       "version_minor": 0,
       "model_id": "41681d8a8923465189e6e79e92167af6"
      }
     },
     "metadata": {},
     "output_type": "display_data"
    },
    {
     "name": "stdout",
     "output_type": "stream",
     "text": [
      "Model: XGB\n",
      "Best accuracy: 0.8131659293871939\n",
      "Best params: {'xgb_booster': 'dart', 'xgb_max_depth': 15, 'xgb_n_estimators': 17, 'xgb_subsample': 0.9880881136232063, 'tfidf_ngram_range': 'unigram', 'tfidf_max_features': 1527, 'tfidf_max_df': 0.9493639257383366, 'tfidf_min_df': 0.0031107890759746407}\n"
     ]
    },
    {
     "name": "stderr",
     "output_type": "stream",
     "text": [
      "C:\\Users\\Piotrek\\anaconda3\\envs\\tensorflow\\lib\\site-packages\\optuna\\progress_bar.py:56: ExperimentalWarning: Progress bar is experimental (supported from v1.2.0). The interface can change in the future.\n",
      "  self._init_valid()\n"
     ]
    },
    {
     "data": {
      "text/plain": "   0%|          | 00:00/00:30",
      "application/vnd.jupyter.widget-view+json": {
       "version_major": 2,
       "version_minor": 0,
       "model_id": "baac2345c71046f19e3d74e513905775"
      }
     },
     "metadata": {},
     "output_type": "display_data"
    },
    {
     "name": "stdout",
     "output_type": "stream",
     "text": [
      "Model: RF\n",
      "Best accuracy: 0.7913044411771135\n",
      "Best params: {'rf_max_depth': 7, 'rf_n_estimators': 368, 'rf_criterion': 'gini', 'rf_min_samples_split': 0.040479653163297186, 'tfidf_ngram_range': 'digram', 'tfidf_max_features': 8620, 'tfidf_max_df': 0.88220906074233, 'tfidf_min_df': 0.014001795496675485}\n"
     ]
    },
    {
     "name": "stderr",
     "output_type": "stream",
     "text": [
      "C:\\Users\\Piotrek\\anaconda3\\envs\\tensorflow\\lib\\site-packages\\optuna\\progress_bar.py:56: ExperimentalWarning: Progress bar is experimental (supported from v1.2.0). The interface can change in the future.\n",
      "  self._init_valid()\n"
     ]
    },
    {
     "data": {
      "text/plain": "   0%|          | 00:00/00:30",
      "application/vnd.jupyter.widget-view+json": {
       "version_major": 2,
       "version_minor": 0,
       "model_id": "451d8af4ba074fa6ae87f89048567c8f"
      }
     },
     "metadata": {},
     "output_type": "display_data"
    },
    {
     "name": "stdout",
     "output_type": "stream",
     "text": [
      "Model: SVC\n",
      "Best accuracy: 0.794192781582564\n",
      "Best params: {'svc_kernel': 'poly', 'svc_C': 0.6545254251277063, 'tfidf_ngram_range': 'digram', 'tfidf_max_features': 5171, 'tfidf_max_df': 0.9014141995356088, 'tfidf_min_df': 0.03747304027155967}\n"
     ]
    },
    {
     "name": "stderr",
     "output_type": "stream",
     "text": [
      "C:\\Users\\Piotrek\\anaconda3\\envs\\tensorflow\\lib\\site-packages\\optuna\\progress_bar.py:56: ExperimentalWarning: Progress bar is experimental (supported from v1.2.0). The interface can change in the future.\n",
      "  self._init_valid()\n"
     ]
    },
    {
     "data": {
      "text/plain": "   0%|          | 00:00/00:30",
      "application/vnd.jupyter.widget-view+json": {
       "version_major": 2,
       "version_minor": 0,
       "model_id": "b4f86703cba349949623fc2e7d29c960"
      }
     },
     "metadata": {},
     "output_type": "display_data"
    },
    {
     "name": "stdout",
     "output_type": "stream",
     "text": [
      "Model: LR\n",
      "Best accuracy: 0.7915401131162263\n",
      "Best params: {'lr_penalty': 'l1', 'lr_C': 0.32771730940086424, 'tfidf_ngram_range': 'trigram', 'tfidf_max_features': 4066, 'tfidf_max_df': 0.991343155828387, 'tfidf_min_df': 0.031170045341059185}\n"
     ]
    }
   ],
   "source": [
    "studies = []\n",
    "for model in ou.MODELS.keys():\n",
    "    study = create_study(study_name=f'stemming_{model}', direction='maximize')\n",
    "    study.optimize(lambda trial: ou.objective(trial, x_train, y_train, model=model, encoder=\"TFIDF\", n_splits=N_SPLITS),\n",
    "                   timeout=TIMEOUT, show_progress_bar=True)\n",
    "    studies.append(study)\n",
    "    print(f\"Model: {model}\")\n",
    "    print(f\"Best accuracy: {study.best_value}\")\n",
    "    print(f\"Best params: {study.best_params}\")\n",
    "    results.append({\n",
    "        \"type\": \"stemming\",\n",
    "        \"model\": model,\n",
    "        \"score\": study.best_value\n",
    "    })"
   ],
   "metadata": {
    "collapsed": false,
    "ExecuteTime": {
     "end_time": "2023-11-19T17:45:44.067338400Z",
     "start_time": "2023-11-19T17:42:40.364292800Z"
    }
   },
   "id": "d9d4bcc13a95d057"
  },
  {
   "cell_type": "markdown",
   "source": [
    "# Lemmatization"
   ],
   "metadata": {
    "collapsed": false
   },
   "id": "52b0e5ff8ec44739"
  },
  {
   "cell_type": "code",
   "execution_count": 12,
   "outputs": [
    {
     "data": {
      "text/plain": "  screen_name                                               text account.type  \\\n0       bot#9                             YEA now that note GOOD          bot   \n1    human#17    Listen to This Charming Man by The Smiths <URL>        human   \n2      bot#23  wish i can i would be seeing other hoes on the...          bot   \n3       bot#1  The decade in the significantly easier schedul...          bot   \n4      bot#11  \" Theim class =\\ \" alignnone size-full wp-imag...          bot   \n\n  class_type                                             tokens  \\\n0     others                            ['yea', 'note', 'good']   \n1      human  ['listen', 'thi', 'charm', 'man', 'the', 'smit...   \n2     others   ['wish', 'would', 'see', 'hoe', 'worst', 'part']   \n3     others  ['the', 'decad', 'significantli', 'easier', 's...   \n4        rnn  ['\"', 'theim', 'class', '=\\\\', '\"', 'alignnon'...   \n\n                                            new_text  \n0                                      yea note good  \n1               listen thi charm man the smith <url>  \n2                      wish would see hoe worst part  \n3  the decad significantli easier schedul i don't...  \n4  \" theim class =\\ \" alignnon size-ful wp-imag -...  ",
      "text/html": "<div>\n<style scoped>\n    .dataframe tbody tr th:only-of-type {\n        vertical-align: middle;\n    }\n\n    .dataframe tbody tr th {\n        vertical-align: top;\n    }\n\n    .dataframe thead th {\n        text-align: right;\n    }\n</style>\n<table border=\"1\" class=\"dataframe\">\n  <thead>\n    <tr style=\"text-align: right;\">\n      <th></th>\n      <th>screen_name</th>\n      <th>text</th>\n      <th>account.type</th>\n      <th>class_type</th>\n      <th>tokens</th>\n      <th>new_text</th>\n    </tr>\n  </thead>\n  <tbody>\n    <tr>\n      <th>0</th>\n      <td>bot#9</td>\n      <td>YEA now that note GOOD</td>\n      <td>bot</td>\n      <td>others</td>\n      <td>['yea', 'note', 'good']</td>\n      <td>yea note good</td>\n    </tr>\n    <tr>\n      <th>1</th>\n      <td>human#17</td>\n      <td>Listen to This Charming Man by The Smiths &lt;URL&gt;</td>\n      <td>human</td>\n      <td>human</td>\n      <td>['listen', 'thi', 'charm', 'man', 'the', 'smit...</td>\n      <td>listen thi charm man the smith &lt;url&gt;</td>\n    </tr>\n    <tr>\n      <th>2</th>\n      <td>bot#23</td>\n      <td>wish i can i would be seeing other hoes on the...</td>\n      <td>bot</td>\n      <td>others</td>\n      <td>['wish', 'would', 'see', 'hoe', 'worst', 'part']</td>\n      <td>wish would see hoe worst part</td>\n    </tr>\n    <tr>\n      <th>3</th>\n      <td>bot#1</td>\n      <td>The decade in the significantly easier schedul...</td>\n      <td>bot</td>\n      <td>others</td>\n      <td>['the', 'decad', 'significantli', 'easier', 's...</td>\n      <td>the decad significantli easier schedul i don't...</td>\n    </tr>\n    <tr>\n      <th>4</th>\n      <td>bot#11</td>\n      <td>\" Theim class =\\ \" alignnone size-full wp-imag...</td>\n      <td>bot</td>\n      <td>rnn</td>\n      <td>['\"', 'theim', 'class', '=\\\\', '\"', 'alignnon'...</td>\n      <td>\" theim class =\\ \" alignnon size-ful wp-imag -...</td>\n    </tr>\n  </tbody>\n</table>\n</div>"
     },
     "execution_count": 12,
     "metadata": {},
     "output_type": "execute_result"
    }
   ],
   "source": [
    "DATA_PATH = os.path.join('..', 'data', 'lemmatized')\n",
    "train = pd.read_csv(os.path.join(DATA_PATH, 'train.csv'))\n",
    "validation = pd.read_csv(os.path.join(DATA_PATH, 'validation.csv'))\n",
    "test = pd.read_csv(os.path.join(DATA_PATH, 'test.csv'))\n",
    "train.head()"
   ],
   "metadata": {
    "collapsed": false,
    "ExecuteTime": {
     "end_time": "2023-11-19T17:45:44.195338700Z",
     "start_time": "2023-11-19T17:45:44.070340700Z"
    }
   },
   "id": "d3db0e1b5283c35d"
  },
  {
   "cell_type": "code",
   "execution_count": 13,
   "outputs": [],
   "source": [
    "def get_x_y(df):\n",
    "    x = df[\"text\"]\n",
    "    y = df[\"account.type\"]\n",
    "    return x, y\n",
    "\n",
    "\n",
    "x_train, y_train = get_x_y(train)\n",
    "y_train = np.where(y_train == \"bot\", 1, 0)"
   ],
   "metadata": {
    "collapsed": false,
    "ExecuteTime": {
     "end_time": "2023-11-19T17:45:44.212337700Z",
     "start_time": "2023-11-19T17:45:44.196338600Z"
    }
   },
   "id": "e8a833392f66719b"
  },
  {
   "cell_type": "code",
   "execution_count": 14,
   "outputs": [
    {
     "name": "stderr",
     "output_type": "stream",
     "text": [
      "C:\\Users\\Piotrek\\anaconda3\\envs\\tensorflow\\lib\\site-packages\\optuna\\progress_bar.py:56: ExperimentalWarning: Progress bar is experimental (supported from v1.2.0). The interface can change in the future.\n",
      "  self._init_valid()\n"
     ]
    },
    {
     "data": {
      "text/plain": "   0%|          | 00:00/00:30",
      "application/vnd.jupyter.widget-view+json": {
       "version_major": 2,
       "version_minor": 0,
       "model_id": "dbeebbe89c3d49a4a3000fec2b3108c1"
      }
     },
     "metadata": {},
     "output_type": "display_data"
    },
    {
     "name": "stdout",
     "output_type": "stream",
     "text": [
      "Model: LGBM\n",
      "Best accuracy: 0.8110481115744799\n",
      "Best params: {'lgbm_boosting_type': 'dart', 'lgbm_max_depth': 9, 'lgbm_n_estimators': 48, 'lgbm_subsample': 0.9373842683838434, 'tfidf_ngram_range': 'trigram', 'tfidf_max_features': 1692, 'tfidf_max_df': 0.9452268989686466, 'tfidf_min_df': 0.002355054391130196}\n"
     ]
    },
    {
     "name": "stderr",
     "output_type": "stream",
     "text": [
      "C:\\Users\\Piotrek\\anaconda3\\envs\\tensorflow\\lib\\site-packages\\optuna\\progress_bar.py:56: ExperimentalWarning: Progress bar is experimental (supported from v1.2.0). The interface can change in the future.\n",
      "  self._init_valid()\n"
     ]
    },
    {
     "data": {
      "text/plain": "   0%|          | 00:00/00:30",
      "application/vnd.jupyter.widget-view+json": {
       "version_major": 2,
       "version_minor": 0,
       "model_id": "2674cc3e5fb9457ab57a02f208f41068"
      }
     },
     "metadata": {},
     "output_type": "display_data"
    },
    {
     "name": "stdout",
     "output_type": "stream",
     "text": [
      "Model: XGB\n",
      "Best accuracy: 0.7959709666554187\n",
      "Best params: {'xgb_booster': 'dart', 'xgb_max_depth': 13, 'xgb_n_estimators': 136, 'xgb_subsample': 0.8795264566829186, 'tfidf_ngram_range': 'digram', 'tfidf_max_features': 5051, 'tfidf_max_df': 0.8783184190610382, 'tfidf_min_df': 0.015782947549799278}\n"
     ]
    },
    {
     "name": "stderr",
     "output_type": "stream",
     "text": [
      "C:\\Users\\Piotrek\\anaconda3\\envs\\tensorflow\\lib\\site-packages\\optuna\\progress_bar.py:56: ExperimentalWarning: Progress bar is experimental (supported from v1.2.0). The interface can change in the future.\n",
      "  self._init_valid()\n"
     ]
    },
    {
     "data": {
      "text/plain": "   0%|          | 00:00/00:30",
      "application/vnd.jupyter.widget-view+json": {
       "version_major": 2,
       "version_minor": 0,
       "model_id": "cdda8bdce1994dc18d2d32f43dd04e7f"
      }
     },
     "metadata": {},
     "output_type": "display_data"
    },
    {
     "name": "stdout",
     "output_type": "stream",
     "text": [
      "Model: RF\n",
      "Best accuracy: 0.789470324541756\n",
      "Best params: {'rf_max_depth': 15, 'rf_n_estimators': 76, 'rf_criterion': 'log_loss', 'rf_min_samples_split': 0.08581653299056421, 'tfidf_ngram_range': 'trigram', 'tfidf_max_features': 3118, 'tfidf_max_df': 0.8952442038542965, 'tfidf_min_df': 0.013226049233646276}\n"
     ]
    },
    {
     "name": "stderr",
     "output_type": "stream",
     "text": [
      "C:\\Users\\Piotrek\\anaconda3\\envs\\tensorflow\\lib\\site-packages\\optuna\\progress_bar.py:56: ExperimentalWarning: Progress bar is experimental (supported from v1.2.0). The interface can change in the future.\n",
      "  self._init_valid()\n"
     ]
    },
    {
     "data": {
      "text/plain": "   0%|          | 00:00/00:30",
      "application/vnd.jupyter.widget-view+json": {
       "version_major": 2,
       "version_minor": 0,
       "model_id": "3e04d43391fd40af9867b226210e8ca8"
      }
     },
     "metadata": {},
     "output_type": "display_data"
    },
    {
     "name": "stdout",
     "output_type": "stream",
     "text": [
      "Model: SVC\n",
      "Best accuracy: 0.769372429688912\n",
      "Best params: {'svc_kernel': 'rbf', 'svc_C': 38.648206973989694, 'tfidf_ngram_range': 'unigram', 'tfidf_max_features': 5465, 'tfidf_max_df': 0.8041768123131288, 'tfidf_min_df': 0.08010536021005206}\n"
     ]
    },
    {
     "name": "stderr",
     "output_type": "stream",
     "text": [
      "C:\\Users\\Piotrek\\anaconda3\\envs\\tensorflow\\lib\\site-packages\\optuna\\progress_bar.py:56: ExperimentalWarning: Progress bar is experimental (supported from v1.2.0). The interface can change in the future.\n",
      "  self._init_valid()\n"
     ]
    },
    {
     "data": {
      "text/plain": "   0%|          | 00:00/00:30",
      "application/vnd.jupyter.widget-view+json": {
       "version_major": 2,
       "version_minor": 0,
       "model_id": "cd033bd739394e26a6e1dc4107fdced8"
      }
     },
     "metadata": {},
     "output_type": "display_data"
    },
    {
     "name": "stderr",
     "output_type": "stream",
     "text": [
      "C:\\Users\\Piotrek\\anaconda3\\envs\\tensorflow\\lib\\site-packages\\sklearn\\linear_model\\_sag.py:350: ConvergenceWarning: The max_iter was reached which means the coef_ did not converge\n",
      "  warnings.warn(\n",
      "C:\\Users\\Piotrek\\anaconda3\\envs\\tensorflow\\lib\\site-packages\\sklearn\\linear_model\\_sag.py:350: ConvergenceWarning: The max_iter was reached which means the coef_ did not converge\n",
      "  warnings.warn(\n",
      "C:\\Users\\Piotrek\\anaconda3\\envs\\tensorflow\\lib\\site-packages\\sklearn\\linear_model\\_sag.py:350: ConvergenceWarning: The max_iter was reached which means the coef_ did not converge\n",
      "  warnings.warn(\n",
      "C:\\Users\\Piotrek\\anaconda3\\envs\\tensorflow\\lib\\site-packages\\sklearn\\linear_model\\_sag.py:350: ConvergenceWarning: The max_iter was reached which means the coef_ did not converge\n",
      "  warnings.warn(\n",
      "C:\\Users\\Piotrek\\anaconda3\\envs\\tensorflow\\lib\\site-packages\\sklearn\\linear_model\\_sag.py:350: ConvergenceWarning: The max_iter was reached which means the coef_ did not converge\n",
      "  warnings.warn(\n",
      "C:\\Users\\Piotrek\\anaconda3\\envs\\tensorflow\\lib\\site-packages\\sklearn\\linear_model\\_sag.py:350: ConvergenceWarning: The max_iter was reached which means the coef_ did not converge\n",
      "  warnings.warn(\n",
      "C:\\Users\\Piotrek\\anaconda3\\envs\\tensorflow\\lib\\site-packages\\sklearn\\linear_model\\_sag.py:350: ConvergenceWarning: The max_iter was reached which means the coef_ did not converge\n",
      "  warnings.warn(\n",
      "C:\\Users\\Piotrek\\anaconda3\\envs\\tensorflow\\lib\\site-packages\\sklearn\\linear_model\\_sag.py:350: ConvergenceWarning: The max_iter was reached which means the coef_ did not converge\n",
      "  warnings.warn(\n",
      "C:\\Users\\Piotrek\\anaconda3\\envs\\tensorflow\\lib\\site-packages\\sklearn\\linear_model\\_sag.py:350: ConvergenceWarning: The max_iter was reached which means the coef_ did not converge\n",
      "  warnings.warn(\n"
     ]
    },
    {
     "name": "stdout",
     "output_type": "stream",
     "text": [
      "Model: LR\n",
      "Best accuracy: 0.8043731724217416\n",
      "Best params: {'lr_penalty': 'l2', 'lr_C': 76.85352668867269, 'tfidf_ngram_range': 'trigram', 'tfidf_max_features': 1102, 'tfidf_max_df': 0.9978600237617486, 'tfidf_min_df': 0.0021278601499148484}\n"
     ]
    },
    {
     "name": "stderr",
     "output_type": "stream",
     "text": [
      "C:\\Users\\Piotrek\\anaconda3\\envs\\tensorflow\\lib\\site-packages\\sklearn\\linear_model\\_sag.py:350: ConvergenceWarning: The max_iter was reached which means the coef_ did not converge\n",
      "  warnings.warn(\n"
     ]
    }
   ],
   "source": [
    "studies = []\n",
    "for model in ou.MODELS.keys():\n",
    "    study = create_study(study_name=f'lemmatization_{model}', direction='maximize')\n",
    "    study.optimize(lambda trial: ou.objective(trial, x_train, y_train, model=model, encoder=\"TFIDF\", n_splits=N_SPLITS),\n",
    "                   timeout=TIMEOUT, show_progress_bar=True)\n",
    "    studies.append(study)\n",
    "    print(f\"Model: {model}\")\n",
    "    print(f\"Best accuracy: {study.best_value}\")\n",
    "    print(f\"Best params: {study.best_params}\")\n",
    "    results.append({\n",
    "        \"type\": \"stemming\",\n",
    "        \"model\": model,\n",
    "        \"score\": study.best_value\n",
    "    })"
   ],
   "metadata": {
    "collapsed": false,
    "ExecuteTime": {
     "end_time": "2023-11-19T17:48:33.955202300Z",
     "start_time": "2023-11-19T17:45:44.216337900Z"
    }
   },
   "id": "4f88f299fe50081c"
  },
  {
   "cell_type": "code",
   "execution_count": 17,
   "outputs": [
    {
     "data": {
      "text/plain": "            type model     score\n1   preprocessed   XGB  0.814470\n6       stemming   XGB  0.813166\n0   preprocessed  LGBM  0.812206\n10      stemming  LGBM  0.811048\n5       stemming  LGBM  0.806989\n4   preprocessed    LR  0.805244\n14      stemming    LR  0.804373\n11      stemming   XGB  0.795971\n8       stemming   SVC  0.794193\n9       stemming    LR  0.791540\n7       stemming    RF  0.791304\n3   preprocessed   SVC  0.790143\n12      stemming    RF  0.789470\n2   preprocessed    RF  0.787779\n13      stemming   SVC  0.769372",
      "text/html": "<div>\n<style scoped>\n    .dataframe tbody tr th:only-of-type {\n        vertical-align: middle;\n    }\n\n    .dataframe tbody tr th {\n        vertical-align: top;\n    }\n\n    .dataframe thead th {\n        text-align: right;\n    }\n</style>\n<table border=\"1\" class=\"dataframe\">\n  <thead>\n    <tr style=\"text-align: right;\">\n      <th></th>\n      <th>type</th>\n      <th>model</th>\n      <th>score</th>\n    </tr>\n  </thead>\n  <tbody>\n    <tr>\n      <th>1</th>\n      <td>preprocessed</td>\n      <td>XGB</td>\n      <td>0.814470</td>\n    </tr>\n    <tr>\n      <th>6</th>\n      <td>stemming</td>\n      <td>XGB</td>\n      <td>0.813166</td>\n    </tr>\n    <tr>\n      <th>0</th>\n      <td>preprocessed</td>\n      <td>LGBM</td>\n      <td>0.812206</td>\n    </tr>\n    <tr>\n      <th>10</th>\n      <td>stemming</td>\n      <td>LGBM</td>\n      <td>0.811048</td>\n    </tr>\n    <tr>\n      <th>5</th>\n      <td>stemming</td>\n      <td>LGBM</td>\n      <td>0.806989</td>\n    </tr>\n    <tr>\n      <th>4</th>\n      <td>preprocessed</td>\n      <td>LR</td>\n      <td>0.805244</td>\n    </tr>\n    <tr>\n      <th>14</th>\n      <td>stemming</td>\n      <td>LR</td>\n      <td>0.804373</td>\n    </tr>\n    <tr>\n      <th>11</th>\n      <td>stemming</td>\n      <td>XGB</td>\n      <td>0.795971</td>\n    </tr>\n    <tr>\n      <th>8</th>\n      <td>stemming</td>\n      <td>SVC</td>\n      <td>0.794193</td>\n    </tr>\n    <tr>\n      <th>9</th>\n      <td>stemming</td>\n      <td>LR</td>\n      <td>0.791540</td>\n    </tr>\n    <tr>\n      <th>7</th>\n      <td>stemming</td>\n      <td>RF</td>\n      <td>0.791304</td>\n    </tr>\n    <tr>\n      <th>3</th>\n      <td>preprocessed</td>\n      <td>SVC</td>\n      <td>0.790143</td>\n    </tr>\n    <tr>\n      <th>12</th>\n      <td>stemming</td>\n      <td>RF</td>\n      <td>0.789470</td>\n    </tr>\n    <tr>\n      <th>2</th>\n      <td>preprocessed</td>\n      <td>RF</td>\n      <td>0.787779</td>\n    </tr>\n    <tr>\n      <th>13</th>\n      <td>stemming</td>\n      <td>SVC</td>\n      <td>0.769372</td>\n    </tr>\n  </tbody>\n</table>\n</div>"
     },
     "execution_count": 17,
     "metadata": {},
     "output_type": "execute_result"
    }
   ],
   "source": [
    "results_df = pd.DataFrame(results)\n",
    "results_df.sort_values(by=\"score\", ascending=False)"
   ],
   "metadata": {
    "collapsed": false,
    "ExecuteTime": {
     "end_time": "2023-11-19T17:49:46.762712Z",
     "start_time": "2023-11-19T17:49:46.724712500Z"
    }
   },
   "id": "4818f3948034e192"
  }
 ],
 "metadata": {
  "kernelspec": {
   "display_name": "Python 3",
   "language": "python",
   "name": "python3"
  },
  "language_info": {
   "codemirror_mode": {
    "name": "ipython",
    "version": 2
   },
   "file_extension": ".py",
   "mimetype": "text/x-python",
   "name": "python",
   "nbconvert_exporter": "python",
   "pygments_lexer": "ipython2",
   "version": "2.7.6"
  }
 },
 "nbformat": 4,
 "nbformat_minor": 5
}
