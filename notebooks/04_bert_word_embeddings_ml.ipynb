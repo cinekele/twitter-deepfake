{
 "cells": [
  {
   "cell_type": "markdown",
   "source": [
    "# Load packages"
   ],
   "metadata": {
    "collapsed": false
   },
   "id": "655008b3ab3fc06a"
  },
  {
   "cell_type": "code",
   "execution_count": 1,
   "id": "initial_id",
   "metadata": {
    "collapsed": true,
    "ExecuteTime": {
     "end_time": "2023-11-21T20:13:29.703465500Z",
     "start_time": "2023-11-21T20:13:28.213649500Z"
    }
   },
   "outputs": [],
   "source": [
    "import os\n",
    "\n",
    "import numpy as np\n",
    "import pandas as pd\n",
    "import transformers\n",
    "import torch\n",
    "\n",
    "device = \"cuda:0\" if torch.cuda.is_available() else \"cpu\""
   ]
  },
  {
   "cell_type": "markdown",
   "source": [
    "## Load data"
   ],
   "metadata": {
    "collapsed": false
   },
   "id": "457150dc646fdc66"
  },
  {
   "cell_type": "code",
   "execution_count": 2,
   "outputs": [
    {
     "data": {
      "text/plain": "  screen_name                                               text account.type  \\\n0       bot#9                             YEA now that note GOOD          bot   \n1    human#17    Listen to This Charming Man by The Smiths <URL>        human   \n2      bot#23  wish i can i would be seeing other hoes on the...          bot   \n3       bot#1  The decade in the significantly easier schedul...          bot   \n4      bot#11  \" Theim class =\\ \" alignnone size-full wp-imag...          bot   \n\n  class_type  \n0     others  \n1      human  \n2     others  \n3     others  \n4        rnn  ",
      "text/html": "<div>\n<style scoped>\n    .dataframe tbody tr th:only-of-type {\n        vertical-align: middle;\n    }\n\n    .dataframe tbody tr th {\n        vertical-align: top;\n    }\n\n    .dataframe thead th {\n        text-align: right;\n    }\n</style>\n<table border=\"1\" class=\"dataframe\">\n  <thead>\n    <tr style=\"text-align: right;\">\n      <th></th>\n      <th>screen_name</th>\n      <th>text</th>\n      <th>account.type</th>\n      <th>class_type</th>\n    </tr>\n  </thead>\n  <tbody>\n    <tr>\n      <th>0</th>\n      <td>bot#9</td>\n      <td>YEA now that note GOOD</td>\n      <td>bot</td>\n      <td>others</td>\n    </tr>\n    <tr>\n      <th>1</th>\n      <td>human#17</td>\n      <td>Listen to This Charming Man by The Smiths &lt;URL&gt;</td>\n      <td>human</td>\n      <td>human</td>\n    </tr>\n    <tr>\n      <th>2</th>\n      <td>bot#23</td>\n      <td>wish i can i would be seeing other hoes on the...</td>\n      <td>bot</td>\n      <td>others</td>\n    </tr>\n    <tr>\n      <th>3</th>\n      <td>bot#1</td>\n      <td>The decade in the significantly easier schedul...</td>\n      <td>bot</td>\n      <td>others</td>\n    </tr>\n    <tr>\n      <th>4</th>\n      <td>bot#11</td>\n      <td>\" Theim class =\\ \" alignnone size-full wp-imag...</td>\n      <td>bot</td>\n      <td>rnn</td>\n    </tr>\n  </tbody>\n</table>\n</div>"
     },
     "execution_count": 2,
     "metadata": {},
     "output_type": "execute_result"
    }
   ],
   "source": [
    "DATA_PATH = os.path.join('..', 'data', 'preprocessed_url_simple')\n",
    "train = pd.read_csv(os.path.join(DATA_PATH, 'train.csv'))\n",
    "validation = pd.read_csv(os.path.join(DATA_PATH, 'validation.csv'))\n",
    "test = pd.read_csv(os.path.join(DATA_PATH, 'test.csv'))\n",
    "train.head()"
   ],
   "metadata": {
    "collapsed": false,
    "ExecuteTime": {
     "end_time": "2023-11-21T20:13:29.770117700Z",
     "start_time": "2023-11-21T20:13:29.704464100Z"
    }
   },
   "id": "3e3c853003e6193d"
  },
  {
   "cell_type": "code",
   "execution_count": 3,
   "outputs": [
    {
     "data": {
      "text/plain": "  screen_name                                               text account.type  \\\n0       bot#9                             YEA now that note GOOD          bot   \n1    human#17    Listen to This Charming Man by The Smiths <URL>        human   \n2      bot#23  wish i can i would be seeing other hoes on the...          bot   \n3       bot#1  The decade in the significantly easier schedul...          bot   \n4      bot#11  \" Theim class =\\ \" alignnone size-full wp-imag...          bot   \n\n  class_type  \n0     others  \n1      human  \n2     others  \n3     others  \n4        rnn  ",
      "text/html": "<div>\n<style scoped>\n    .dataframe tbody tr th:only-of-type {\n        vertical-align: middle;\n    }\n\n    .dataframe tbody tr th {\n        vertical-align: top;\n    }\n\n    .dataframe thead th {\n        text-align: right;\n    }\n</style>\n<table border=\"1\" class=\"dataframe\">\n  <thead>\n    <tr style=\"text-align: right;\">\n      <th></th>\n      <th>screen_name</th>\n      <th>text</th>\n      <th>account.type</th>\n      <th>class_type</th>\n    </tr>\n  </thead>\n  <tbody>\n    <tr>\n      <th>0</th>\n      <td>bot#9</td>\n      <td>YEA now that note GOOD</td>\n      <td>bot</td>\n      <td>others</td>\n    </tr>\n    <tr>\n      <th>1</th>\n      <td>human#17</td>\n      <td>Listen to This Charming Man by The Smiths &lt;URL&gt;</td>\n      <td>human</td>\n      <td>human</td>\n    </tr>\n    <tr>\n      <th>2</th>\n      <td>bot#23</td>\n      <td>wish i can i would be seeing other hoes on the...</td>\n      <td>bot</td>\n      <td>others</td>\n    </tr>\n    <tr>\n      <th>3</th>\n      <td>bot#1</td>\n      <td>The decade in the significantly easier schedul...</td>\n      <td>bot</td>\n      <td>others</td>\n    </tr>\n    <tr>\n      <th>4</th>\n      <td>bot#11</td>\n      <td>\" Theim class =\\ \" alignnone size-full wp-imag...</td>\n      <td>bot</td>\n      <td>rnn</td>\n    </tr>\n  </tbody>\n</table>\n</div>"
     },
     "execution_count": 3,
     "metadata": {},
     "output_type": "execute_result"
    }
   ],
   "source": [
    "train.head()"
   ],
   "metadata": {
    "collapsed": false,
    "ExecuteTime": {
     "end_time": "2023-11-21T20:13:29.782117500Z",
     "start_time": "2023-11-21T20:13:29.766117600Z"
    }
   },
   "id": "39115238d7b4487d"
  },
  {
   "cell_type": "code",
   "execution_count": 4,
   "outputs": [],
   "source": [
    "spec = \"bert-base-cased\"\n",
    "tokenizer = transformers.BertTokenizer.from_pretrained(spec)\n",
    "model = transformers.BertModel.from_pretrained(spec)"
   ],
   "metadata": {
    "collapsed": false,
    "ExecuteTime": {
     "end_time": "2023-11-21T20:13:30.716662300Z",
     "start_time": "2023-11-21T20:13:29.783117600Z"
    }
   },
   "id": "8a388db08cb052b0"
  },
  {
   "cell_type": "code",
   "execution_count": 5,
   "outputs": [],
   "source": [
    "nlp = transformers.pipeline('feature-extraction', model=model, tokenizer=tokenizer, device=device)\n",
    "ans = nlp(train['text'][0])"
   ],
   "metadata": {
    "collapsed": false,
    "ExecuteTime": {
     "end_time": "2023-11-21T20:13:31.440671500Z",
     "start_time": "2023-11-21T20:13:30.718663900Z"
    }
   },
   "id": "7444511e8eb42903"
  },
  {
   "cell_type": "code",
   "execution_count": 6,
   "outputs": [],
   "source": [
    "def add_bert_embeddings(df):\n",
    "    def transform(text):\n",
    "        ans = nlp(text[-512:])\n",
    "        vec = np.array(ans[0])\n",
    "        vec = np.mean(vec, axis=0)\n",
    "        return vec\n",
    "\n",
    "    df['bert_embeddings'] = df['text'].apply(lambda x: transform(x))\n",
    "    return df"
   ],
   "metadata": {
    "collapsed": false,
    "ExecuteTime": {
     "end_time": "2023-11-21T20:13:31.455670800Z",
     "start_time": "2023-11-21T20:13:31.441671400Z"
    }
   },
   "id": "34acd41d16ad9805"
  },
  {
   "cell_type": "code",
   "execution_count": 7,
   "outputs": [
    {
     "name": "stderr",
     "output_type": "stream",
     "text": [
      "C:\\Users\\Piotrek\\anaconda3\\envs\\pytorch\\lib\\site-packages\\transformers\\pipelines\\base.py:1083: UserWarning: You seem to be using the pipelines sequentially on GPU. In order to maximize efficiency please use a dataset\n",
      "  warnings.warn(\n"
     ]
    },
    {
     "data": {
      "text/plain": "  screen_name                                               text account.type  \\\n0       bot#9                             YEA now that note GOOD          bot   \n1    human#17    Listen to This Charming Man by The Smiths <URL>        human   \n2      bot#23  wish i can i would be seeing other hoes on the...          bot   \n3       bot#1  The decade in the significantly easier schedul...          bot   \n4      bot#11  \" Theim class =\\ \" alignnone size-full wp-imag...          bot   \n\n  class_type                                    bert_embeddings  \n0     others  [0.10614613195260365, 0.0023416380087534585, 0...  \n1      human  [-0.15180905582383275, 0.15649690048303455, -0...  \n2     others  [0.19033993559423834, -0.03900572611019015, -0...  \n3     others  [0.185816412064014, 0.07074167917016894, 0.030...  \n4        rnn  [0.20630772430233138, 0.35826802742667496, 0.0...  ",
      "text/html": "<div>\n<style scoped>\n    .dataframe tbody tr th:only-of-type {\n        vertical-align: middle;\n    }\n\n    .dataframe tbody tr th {\n        vertical-align: top;\n    }\n\n    .dataframe thead th {\n        text-align: right;\n    }\n</style>\n<table border=\"1\" class=\"dataframe\">\n  <thead>\n    <tr style=\"text-align: right;\">\n      <th></th>\n      <th>screen_name</th>\n      <th>text</th>\n      <th>account.type</th>\n      <th>class_type</th>\n      <th>bert_embeddings</th>\n    </tr>\n  </thead>\n  <tbody>\n    <tr>\n      <th>0</th>\n      <td>bot#9</td>\n      <td>YEA now that note GOOD</td>\n      <td>bot</td>\n      <td>others</td>\n      <td>[0.10614613195260365, 0.0023416380087534585, 0...</td>\n    </tr>\n    <tr>\n      <th>1</th>\n      <td>human#17</td>\n      <td>Listen to This Charming Man by The Smiths &lt;URL&gt;</td>\n      <td>human</td>\n      <td>human</td>\n      <td>[-0.15180905582383275, 0.15649690048303455, -0...</td>\n    </tr>\n    <tr>\n      <th>2</th>\n      <td>bot#23</td>\n      <td>wish i can i would be seeing other hoes on the...</td>\n      <td>bot</td>\n      <td>others</td>\n      <td>[0.19033993559423834, -0.03900572611019015, -0...</td>\n    </tr>\n    <tr>\n      <th>3</th>\n      <td>bot#1</td>\n      <td>The decade in the significantly easier schedul...</td>\n      <td>bot</td>\n      <td>others</td>\n      <td>[0.185816412064014, 0.07074167917016894, 0.030...</td>\n    </tr>\n    <tr>\n      <th>4</th>\n      <td>bot#11</td>\n      <td>\" Theim class =\\ \" alignnone size-full wp-imag...</td>\n      <td>bot</td>\n      <td>rnn</td>\n      <td>[0.20630772430233138, 0.35826802742667496, 0.0...</td>\n    </tr>\n  </tbody>\n</table>\n</div>"
     },
     "execution_count": 7,
     "metadata": {},
     "output_type": "execute_result"
    }
   ],
   "source": [
    "train = add_bert_embeddings(train)\n",
    "train.head()"
   ],
   "metadata": {
    "collapsed": false,
    "ExecuteTime": {
     "end_time": "2023-11-21T20:16:43.674653400Z",
     "start_time": "2023-11-21T20:13:31.456671300Z"
    }
   },
   "id": "6a3cb2f9edfac77a"
  },
  {
   "cell_type": "code",
   "execution_count": 8,
   "outputs": [
    {
     "data": {
      "text/plain": "(768,)"
     },
     "execution_count": 8,
     "metadata": {},
     "output_type": "execute_result"
    }
   ],
   "source": [
    "train['bert_embeddings'][0].shape"
   ],
   "metadata": {
    "collapsed": false,
    "ExecuteTime": {
     "end_time": "2023-11-21T20:16:43.690580300Z",
     "start_time": "2023-11-21T20:16:43.675654100Z"
    }
   },
   "id": "a478cc5dc8d26b53"
  },
  {
   "cell_type": "code",
   "execution_count": 9,
   "outputs": [
    {
     "name": "stderr",
     "output_type": "stream",
     "text": [
      "C:\\Users\\Piotrek\\anaconda3\\envs\\pytorch\\lib\\site-packages\\transformers\\pipelines\\base.py:1083: UserWarning: You seem to be using the pipelines sequentially on GPU. In order to maximize efficiency please use a dataset\n",
      "  warnings.warn(\n",
      "C:\\Users\\Piotrek\\anaconda3\\envs\\pytorch\\lib\\site-packages\\transformers\\pipelines\\base.py:1083: UserWarning: You seem to be using the pipelines sequentially on GPU. In order to maximize efficiency please use a dataset\n",
      "  warnings.warn(\n"
     ]
    }
   ],
   "source": [
    "validation = add_bert_embeddings(validation)\n",
    "test = add_bert_embeddings(test)"
   ],
   "metadata": {
    "collapsed": false,
    "ExecuteTime": {
     "end_time": "2023-11-21T20:19:14.818777700Z",
     "start_time": "2023-11-21T20:16:43.691581100Z"
    }
   },
   "id": "cc0e6ca1ab4e44ac"
  },
  {
   "cell_type": "markdown",
   "source": [
    "## Save data"
   ],
   "metadata": {
    "collapsed": false
   },
   "id": "6226f0f15705998c"
  },
  {
   "cell_type": "code",
   "execution_count": 11,
   "outputs": [],
   "source": [
    "OUTPUT_PATH = os.path.join('..', 'data', 'bert_embeddings')\n",
    "os.makedirs(OUTPUT_PATH, exist_ok=True)\n",
    "train.to_pickle(os.path.join(OUTPUT_PATH, 'train.pkl'))\n",
    "validation.to_pickle(os.path.join(OUTPUT_PATH, 'validation.pkl'))\n",
    "test.to_pickle(os.path.join(OUTPUT_PATH, 'test.pkl'))"
   ],
   "metadata": {
    "collapsed": false,
    "ExecuteTime": {
     "end_time": "2023-11-21T21:03:04.883549700Z",
     "start_time": "2023-11-21T21:03:04.626550400Z"
    }
   },
   "id": "bd52ea69318b1b71"
  }
 ],
 "metadata": {
  "kernelspec": {
   "display_name": "Python 3",
   "language": "python",
   "name": "python3"
  },
  "language_info": {
   "codemirror_mode": {
    "name": "ipython",
    "version": 2
   },
   "file_extension": ".py",
   "mimetype": "text/x-python",
   "name": "python",
   "nbconvert_exporter": "python",
   "pygments_lexer": "ipython2",
   "version": "2.7.6"
  }
 },
 "nbformat": 4,
 "nbformat_minor": 5
}
