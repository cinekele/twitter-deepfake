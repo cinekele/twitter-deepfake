{
 "cells": [
  {
   "cell_type": "markdown",
   "source": [
    "# Load packages"
   ],
   "metadata": {
    "collapsed": false
   },
   "id": "655008b3ab3fc06a"
  },
  {
   "cell_type": "code",
   "execution_count": 1,
   "id": "initial_id",
   "metadata": {
    "collapsed": true,
    "ExecuteTime": {
     "end_time": "2023-11-21T21:55:58.755789900Z",
     "start_time": "2023-11-21T21:55:57.314789600Z"
    }
   },
   "outputs": [],
   "source": [
    "import os\n",
    "\n",
    "import numpy as np\n",
    "import pandas as pd\n",
    "import transformers\n",
    "import torch\n",
    "\n",
    "device = \"cuda:0\" if torch.cuda.is_available() else \"cpu\""
   ]
  },
  {
   "cell_type": "markdown",
   "source": [
    "## Load data"
   ],
   "metadata": {
    "collapsed": false
   },
   "id": "457150dc646fdc66"
  },
  {
   "cell_type": "code",
   "execution_count": 2,
   "outputs": [
    {
     "data": {
      "text/plain": "  screen_name                                               text account.type  \\\n0       bot#9                             YEA now that note GOOD          bot   \n1    human#17    Listen to This Charming Man by The Smiths <URL>        human   \n2      bot#23  wish i can i would be seeing other hoes on the...          bot   \n3       bot#1  The decade in the significantly easier schedul...          bot   \n4      bot#11  \" Theim class =\\ \" alignnone size-full wp-imag...          bot   \n\n  class_type  \n0     others  \n1      human  \n2     others  \n3     others  \n4        rnn  ",
      "text/html": "<div>\n<style scoped>\n    .dataframe tbody tr th:only-of-type {\n        vertical-align: middle;\n    }\n\n    .dataframe tbody tr th {\n        vertical-align: top;\n    }\n\n    .dataframe thead th {\n        text-align: right;\n    }\n</style>\n<table border=\"1\" class=\"dataframe\">\n  <thead>\n    <tr style=\"text-align: right;\">\n      <th></th>\n      <th>screen_name</th>\n      <th>text</th>\n      <th>account.type</th>\n      <th>class_type</th>\n    </tr>\n  </thead>\n  <tbody>\n    <tr>\n      <th>0</th>\n      <td>bot#9</td>\n      <td>YEA now that note GOOD</td>\n      <td>bot</td>\n      <td>others</td>\n    </tr>\n    <tr>\n      <th>1</th>\n      <td>human#17</td>\n      <td>Listen to This Charming Man by The Smiths &lt;URL&gt;</td>\n      <td>human</td>\n      <td>human</td>\n    </tr>\n    <tr>\n      <th>2</th>\n      <td>bot#23</td>\n      <td>wish i can i would be seeing other hoes on the...</td>\n      <td>bot</td>\n      <td>others</td>\n    </tr>\n    <tr>\n      <th>3</th>\n      <td>bot#1</td>\n      <td>The decade in the significantly easier schedul...</td>\n      <td>bot</td>\n      <td>others</td>\n    </tr>\n    <tr>\n      <th>4</th>\n      <td>bot#11</td>\n      <td>\" Theim class =\\ \" alignnone size-full wp-imag...</td>\n      <td>bot</td>\n      <td>rnn</td>\n    </tr>\n  </tbody>\n</table>\n</div>"
     },
     "execution_count": 2,
     "metadata": {},
     "output_type": "execute_result"
    }
   ],
   "source": [
    "DATA_PATH = os.path.join('..', 'data', 'preprocessed_url_simple')\n",
    "train = pd.read_csv(os.path.join(DATA_PATH, 'train.csv'))\n",
    "validation = pd.read_csv(os.path.join(DATA_PATH, 'validation.csv'))\n",
    "test = pd.read_csv(os.path.join(DATA_PATH, 'test.csv'))\n",
    "train.head()"
   ],
   "metadata": {
    "collapsed": false,
    "ExecuteTime": {
     "end_time": "2023-11-21T21:55:58.818798600Z",
     "start_time": "2023-11-21T21:55:58.756789800Z"
    }
   },
   "id": "3e3c853003e6193d"
  },
  {
   "cell_type": "code",
   "execution_count": 3,
   "outputs": [
    {
     "data": {
      "text/plain": "  screen_name                                               text account.type  \\\n0       bot#9                             YEA now that note GOOD          bot   \n1    human#17    Listen to This Charming Man by The Smiths <URL>        human   \n2      bot#23  wish i can i would be seeing other hoes on the...          bot   \n3       bot#1  The decade in the significantly easier schedul...          bot   \n4      bot#11  \" Theim class =\\ \" alignnone size-full wp-imag...          bot   \n\n  class_type  \n0     others  \n1      human  \n2     others  \n3     others  \n4        rnn  ",
      "text/html": "<div>\n<style scoped>\n    .dataframe tbody tr th:only-of-type {\n        vertical-align: middle;\n    }\n\n    .dataframe tbody tr th {\n        vertical-align: top;\n    }\n\n    .dataframe thead th {\n        text-align: right;\n    }\n</style>\n<table border=\"1\" class=\"dataframe\">\n  <thead>\n    <tr style=\"text-align: right;\">\n      <th></th>\n      <th>screen_name</th>\n      <th>text</th>\n      <th>account.type</th>\n      <th>class_type</th>\n    </tr>\n  </thead>\n  <tbody>\n    <tr>\n      <th>0</th>\n      <td>bot#9</td>\n      <td>YEA now that note GOOD</td>\n      <td>bot</td>\n      <td>others</td>\n    </tr>\n    <tr>\n      <th>1</th>\n      <td>human#17</td>\n      <td>Listen to This Charming Man by The Smiths &lt;URL&gt;</td>\n      <td>human</td>\n      <td>human</td>\n    </tr>\n    <tr>\n      <th>2</th>\n      <td>bot#23</td>\n      <td>wish i can i would be seeing other hoes on the...</td>\n      <td>bot</td>\n      <td>others</td>\n    </tr>\n    <tr>\n      <th>3</th>\n      <td>bot#1</td>\n      <td>The decade in the significantly easier schedul...</td>\n      <td>bot</td>\n      <td>others</td>\n    </tr>\n    <tr>\n      <th>4</th>\n      <td>bot#11</td>\n      <td>\" Theim class =\\ \" alignnone size-full wp-imag...</td>\n      <td>bot</td>\n      <td>rnn</td>\n    </tr>\n  </tbody>\n</table>\n</div>"
     },
     "execution_count": 3,
     "metadata": {},
     "output_type": "execute_result"
    }
   ],
   "source": [
    "train.head()"
   ],
   "metadata": {
    "collapsed": false,
    "ExecuteTime": {
     "end_time": "2023-11-21T21:55:58.880274500Z",
     "start_time": "2023-11-21T21:55:58.819799500Z"
    }
   },
   "id": "39115238d7b4487d"
  },
  {
   "cell_type": "code",
   "execution_count": 4,
   "outputs": [],
   "source": [
    "spec = \"bert-base-cased\"\n",
    "tokenizer = transformers.BertTokenizer.from_pretrained(spec, max_length=512)\n",
    "model = transformers.BertModel.from_pretrained(spec).to(device)"
   ],
   "metadata": {
    "collapsed": false,
    "ExecuteTime": {
     "end_time": "2023-11-21T21:55:59.974133700Z",
     "start_time": "2023-11-21T21:55:58.835798800Z"
    }
   },
   "id": "8a388db08cb052b0"
  },
  {
   "cell_type": "code",
   "execution_count": 5,
   "outputs": [],
   "source": [
    "token_test = tokenizer.encode(train['text'][0], truncation=True, max_length=512, return_tensors='pt').to(device)\n",
    "ans = model(token_test)"
   ],
   "metadata": {
    "collapsed": false,
    "ExecuteTime": {
     "end_time": "2023-11-21T21:56:00.083133500Z",
     "start_time": "2023-11-21T21:55:59.975133700Z"
    }
   },
   "id": "7444511e8eb42903"
  },
  {
   "cell_type": "code",
   "execution_count": 6,
   "outputs": [
    {
     "data": {
      "text/plain": "torch.Size([1, 9, 768])"
     },
     "execution_count": 6,
     "metadata": {},
     "output_type": "execute_result"
    }
   ],
   "source": [
    "ans[0].shape"
   ],
   "metadata": {
    "collapsed": false,
    "ExecuteTime": {
     "end_time": "2023-11-21T21:56:00.099133600Z",
     "start_time": "2023-11-21T21:56:00.084133600Z"
    }
   },
   "id": "7188019cb4d1ec6b"
  },
  {
   "cell_type": "code",
   "execution_count": 7,
   "outputs": [],
   "source": [
    "def add_bert_embeddings(df):\n",
    "    \"\"\"\n",
    "    Add BERT embeddings to dataframe\n",
    "    :param df: dataframe with column 'text'\n",
    "    :return: dataframe with additional column 'bert_embeddings'\n",
    "    \"\"\"\n",
    "\n",
    "    def transform(text):\n",
    "        token = tokenizer.encode(text, truncation=True, max_length=512, return_tensors='pt').to(device)\n",
    "        ans = model(token)\n",
    "        vec = np.array(ans[0].cpu().detach().numpy())\n",
    "        vec = np.mean(vec, axis=0)\n",
    "        return vec\n",
    "\n",
    "    df['bert_embeddings'] = df['text'].apply(lambda x: transform(x))\n",
    "    return df"
   ],
   "metadata": {
    "collapsed": false,
    "ExecuteTime": {
     "end_time": "2023-11-21T21:56:00.129133100Z",
     "start_time": "2023-11-21T21:56:00.100133500Z"
    }
   },
   "id": "34acd41d16ad9805"
  },
  {
   "cell_type": "code",
   "execution_count": 8,
   "outputs": [
    {
     "data": {
      "text/plain": "  screen_name                                               text account.type  \\\n0       bot#9                             YEA now that note GOOD          bot   \n1    human#17    Listen to This Charming Man by The Smiths <URL>        human   \n2      bot#23  wish i can i would be seeing other hoes on the...          bot   \n3       bot#1  The decade in the significantly easier schedul...          bot   \n4      bot#11  \" Theim class =\\ \" alignnone size-full wp-imag...          bot   \n\n  class_type                                    bert_embeddings  \n0     others  [[0.32029966, 0.23847668, 0.21603408, 0.055214...  \n1      human  [[0.082517974, 0.1169534, 0.10115934, -0.40447...  \n2     others  [[0.51749945, 0.123114295, -0.013572155, -0.24...  \n3     others  [[0.43369263, 0.24782869, 0.20922862, -0.18296...  \n4        rnn  [[0.5287461, 0.41357562, 0.17095457, -0.459382...  ",
      "text/html": "<div>\n<style scoped>\n    .dataframe tbody tr th:only-of-type {\n        vertical-align: middle;\n    }\n\n    .dataframe tbody tr th {\n        vertical-align: top;\n    }\n\n    .dataframe thead th {\n        text-align: right;\n    }\n</style>\n<table border=\"1\" class=\"dataframe\">\n  <thead>\n    <tr style=\"text-align: right;\">\n      <th></th>\n      <th>screen_name</th>\n      <th>text</th>\n      <th>account.type</th>\n      <th>class_type</th>\n      <th>bert_embeddings</th>\n    </tr>\n  </thead>\n  <tbody>\n    <tr>\n      <th>0</th>\n      <td>bot#9</td>\n      <td>YEA now that note GOOD</td>\n      <td>bot</td>\n      <td>others</td>\n      <td>[[0.32029966, 0.23847668, 0.21603408, 0.055214...</td>\n    </tr>\n    <tr>\n      <th>1</th>\n      <td>human#17</td>\n      <td>Listen to This Charming Man by The Smiths &lt;URL&gt;</td>\n      <td>human</td>\n      <td>human</td>\n      <td>[[0.082517974, 0.1169534, 0.10115934, -0.40447...</td>\n    </tr>\n    <tr>\n      <th>2</th>\n      <td>bot#23</td>\n      <td>wish i can i would be seeing other hoes on the...</td>\n      <td>bot</td>\n      <td>others</td>\n      <td>[[0.51749945, 0.123114295, -0.013572155, -0.24...</td>\n    </tr>\n    <tr>\n      <th>3</th>\n      <td>bot#1</td>\n      <td>The decade in the significantly easier schedul...</td>\n      <td>bot</td>\n      <td>others</td>\n      <td>[[0.43369263, 0.24782869, 0.20922862, -0.18296...</td>\n    </tr>\n    <tr>\n      <th>4</th>\n      <td>bot#11</td>\n      <td>\" Theim class =\\ \" alignnone size-full wp-imag...</td>\n      <td>bot</td>\n      <td>rnn</td>\n      <td>[[0.5287461, 0.41357562, 0.17095457, -0.459382...</td>\n    </tr>\n  </tbody>\n</table>\n</div>"
     },
     "execution_count": 8,
     "metadata": {},
     "output_type": "execute_result"
    }
   ],
   "source": [
    "train = add_bert_embeddings(train)\n",
    "train.head()"
   ],
   "metadata": {
    "collapsed": false,
    "ExecuteTime": {
     "end_time": "2023-11-21T21:59:48.477549800Z",
     "start_time": "2023-11-21T21:56:00.116133500Z"
    }
   },
   "id": "6a3cb2f9edfac77a"
  },
  {
   "cell_type": "code",
   "execution_count": 9,
   "outputs": [
    {
     "data": {
      "text/plain": "(9, 768)"
     },
     "execution_count": 9,
     "metadata": {},
     "output_type": "execute_result"
    }
   ],
   "source": [
    "train['bert_embeddings'][0].shape"
   ],
   "metadata": {
    "collapsed": false,
    "ExecuteTime": {
     "end_time": "2023-11-21T21:59:48.503549100Z",
     "start_time": "2023-11-21T21:59:48.478549600Z"
    }
   },
   "id": "a478cc5dc8d26b53"
  },
  {
   "cell_type": "code",
   "execution_count": 10,
   "outputs": [],
   "source": [
    "validation = add_bert_embeddings(validation)\n",
    "test = add_bert_embeddings(test)"
   ],
   "metadata": {
    "collapsed": false,
    "ExecuteTime": {
     "end_time": "2023-11-21T22:02:48.126948400Z",
     "start_time": "2023-11-21T21:59:48.495549500Z"
    }
   },
   "id": "cc0e6ca1ab4e44ac"
  },
  {
   "cell_type": "markdown",
   "source": [
    "## Save data"
   ],
   "metadata": {
    "collapsed": false
   },
   "id": "6226f0f15705998c"
  },
  {
   "cell_type": "code",
   "execution_count": 11,
   "outputs": [],
   "source": [
    "OUTPUT_PATH = os.path.join('..', 'data', 'bert_embeddings')\n",
    "os.makedirs(OUTPUT_PATH, exist_ok=True)\n",
    "train.to_pickle(os.path.join(OUTPUT_PATH, 'train.pkl'))\n",
    "validation.to_pickle(os.path.join(OUTPUT_PATH, 'validation.pkl'))\n",
    "test.to_pickle(os.path.join(OUTPUT_PATH, 'test.pkl'))"
   ],
   "metadata": {
    "collapsed": false,
    "ExecuteTime": {
     "end_time": "2023-11-21T22:02:50.622108300Z",
     "start_time": "2023-11-21T22:02:48.126948400Z"
    }
   },
   "id": "bd52ea69318b1b71"
  }
 ],
 "metadata": {
  "kernelspec": {
   "display_name": "Python 3",
   "language": "python",
   "name": "python3"
  },
  "language_info": {
   "codemirror_mode": {
    "name": "ipython",
    "version": 2
   },
   "file_extension": ".py",
   "mimetype": "text/x-python",
   "name": "python",
   "nbconvert_exporter": "python",
   "pygments_lexer": "ipython2",
   "version": "2.7.6"
  }
 },
 "nbformat": 4,
 "nbformat_minor": 5
}
